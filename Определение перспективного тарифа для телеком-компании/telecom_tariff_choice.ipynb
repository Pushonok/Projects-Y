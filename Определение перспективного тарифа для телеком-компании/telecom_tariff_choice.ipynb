{
 "cells": [
  {
   "cell_type": "markdown",
   "metadata": {},
   "source": [
    "# Определение перспективного тарифа для телеком- компании"
   ]
  },
  {
   "cell_type": "markdown",
   "metadata": {},
   "source": [
    "Задание: Сделать предварительный анализ тарифов на небольшой выборке клиентов и определить, какой тариф лучше. "
   ]
  },
  {
   "cell_type": "markdown",
   "metadata": {},
   "source": [
    "Что требуется сделать:\n",
    "    1. Подготовить данные: привести их к нужному типу и поработать над ошибками и аномалиями;\n",
    "    2. Посчитать количество сделанных звонков и израсходованных минут разговора по месяцам, количество отправленных сообщений по месяцам, объем израсходованного интернет-трафика по месяцам и помесячную выручку для каждого пользователя;\n",
    "    3. Описать поведение клиентов оператора, исходя из выборки;\n",
    "    4. Проверить гипотезы. "
   ]
  },
  {
   "cell_type": "markdown",
   "metadata": {},
   "source": [
    "## Первичный анализ данных"
   ]
  },
  {
   "cell_type": "code",
   "execution_count": 1,
   "metadata": {},
   "outputs": [],
   "source": [
    "#для начала импортируем библиотеки\n",
    "\n",
    "import pandas as pd\n",
    "import matplotlib.pyplot as plt\n",
    "import numpy as np\n",
    "import scipy.stats as st"
   ]
  },
  {
   "cell_type": "code",
   "execution_count": 2,
   "metadata": {},
   "outputs": [
    {
     "name": "stdout",
     "output_type": "stream",
     "text": [
      "<class 'pandas.core.frame.DataFrame'>\n",
      "RangeIndex: 202607 entries, 0 to 202606\n",
      "Data columns (total 4 columns):\n",
      " #   Column     Non-Null Count   Dtype  \n",
      "---  ------     --------------   -----  \n",
      " 0   id         202607 non-null  object \n",
      " 1   call_date  202607 non-null  object \n",
      " 2   duration   202607 non-null  float64\n",
      " 3   user_id    202607 non-null  int64  \n",
      "dtypes: float64(1), int64(1), object(2)\n",
      "memory usage: 6.2+ MB\n",
      "None\n",
      "<class 'pandas.core.frame.DataFrame'>\n",
      "RangeIndex: 149396 entries, 0 to 149395\n",
      "Data columns (total 5 columns):\n",
      " #   Column        Non-Null Count   Dtype  \n",
      "---  ------        --------------   -----  \n",
      " 0   Unnamed: 0    149396 non-null  int64  \n",
      " 1   id            149396 non-null  object \n",
      " 2   mb_used       149396 non-null  float64\n",
      " 3   session_date  149396 non-null  object \n",
      " 4   user_id       149396 non-null  int64  \n",
      "dtypes: float64(1), int64(2), object(2)\n",
      "memory usage: 5.7+ MB\n",
      "None\n",
      "<class 'pandas.core.frame.DataFrame'>\n",
      "RangeIndex: 123036 entries, 0 to 123035\n",
      "Data columns (total 3 columns):\n",
      " #   Column        Non-Null Count   Dtype \n",
      "---  ------        --------------   ----- \n",
      " 0   id            123036 non-null  object\n",
      " 1   message_date  123036 non-null  object\n",
      " 2   user_id       123036 non-null  int64 \n",
      "dtypes: int64(1), object(2)\n",
      "memory usage: 2.8+ MB\n",
      "None\n",
      "<class 'pandas.core.frame.DataFrame'>\n",
      "RangeIndex: 500 entries, 0 to 499\n",
      "Data columns (total 8 columns):\n",
      " #   Column      Non-Null Count  Dtype \n",
      "---  ------      --------------  ----- \n",
      " 0   user_id     500 non-null    int64 \n",
      " 1   age         500 non-null    int64 \n",
      " 2   churn_date  38 non-null     object\n",
      " 3   city        500 non-null    object\n",
      " 4   first_name  500 non-null    object\n",
      " 5   last_name   500 non-null    object\n",
      " 6   reg_date    500 non-null    object\n",
      " 7   tariff      500 non-null    object\n",
      "dtypes: int64(2), object(6)\n",
      "memory usage: 31.4+ KB\n",
      "None\n"
     ]
    },
    {
     "data": {
      "text/html": [
       "<div>\n",
       "<style scoped>\n",
       "    .dataframe tbody tr th:only-of-type {\n",
       "        vertical-align: middle;\n",
       "    }\n",
       "\n",
       "    .dataframe tbody tr th {\n",
       "        vertical-align: top;\n",
       "    }\n",
       "\n",
       "    .dataframe thead th {\n",
       "        text-align: right;\n",
       "    }\n",
       "</style>\n",
       "<table border=\"1\" class=\"dataframe\">\n",
       "  <thead>\n",
       "    <tr style=\"text-align: right;\">\n",
       "      <th></th>\n",
       "      <th>user_id</th>\n",
       "      <th>age</th>\n",
       "      <th>churn_date</th>\n",
       "      <th>city</th>\n",
       "      <th>first_name</th>\n",
       "      <th>last_name</th>\n",
       "      <th>reg_date</th>\n",
       "      <th>tariff</th>\n",
       "    </tr>\n",
       "  </thead>\n",
       "  <tbody>\n",
       "    <tr>\n",
       "      <th>0</th>\n",
       "      <td>1000</td>\n",
       "      <td>52</td>\n",
       "      <td>NaN</td>\n",
       "      <td>Краснодар</td>\n",
       "      <td>Рафаил</td>\n",
       "      <td>Верещагин</td>\n",
       "      <td>2018-05-25</td>\n",
       "      <td>ultra</td>\n",
       "    </tr>\n",
       "    <tr>\n",
       "      <th>1</th>\n",
       "      <td>1001</td>\n",
       "      <td>41</td>\n",
       "      <td>NaN</td>\n",
       "      <td>Москва</td>\n",
       "      <td>Иван</td>\n",
       "      <td>Ежов</td>\n",
       "      <td>2018-11-01</td>\n",
       "      <td>smart</td>\n",
       "    </tr>\n",
       "    <tr>\n",
       "      <th>2</th>\n",
       "      <td>1002</td>\n",
       "      <td>59</td>\n",
       "      <td>NaN</td>\n",
       "      <td>Стерлитамак</td>\n",
       "      <td>Евгений</td>\n",
       "      <td>Абрамович</td>\n",
       "      <td>2018-06-17</td>\n",
       "      <td>smart</td>\n",
       "    </tr>\n",
       "    <tr>\n",
       "      <th>3</th>\n",
       "      <td>1003</td>\n",
       "      <td>23</td>\n",
       "      <td>NaN</td>\n",
       "      <td>Москва</td>\n",
       "      <td>Белла</td>\n",
       "      <td>Белякова</td>\n",
       "      <td>2018-08-17</td>\n",
       "      <td>ultra</td>\n",
       "    </tr>\n",
       "    <tr>\n",
       "      <th>4</th>\n",
       "      <td>1004</td>\n",
       "      <td>68</td>\n",
       "      <td>NaN</td>\n",
       "      <td>Новокузнецк</td>\n",
       "      <td>Татьяна</td>\n",
       "      <td>Авдеенко</td>\n",
       "      <td>2018-05-14</td>\n",
       "      <td>ultra</td>\n",
       "    </tr>\n",
       "  </tbody>\n",
       "</table>\n",
       "</div>"
      ],
      "text/plain": [
       "   user_id  age churn_date         city first_name  last_name    reg_date  \\\n",
       "0     1000   52        NaN    Краснодар     Рафаил  Верещагин  2018-05-25   \n",
       "1     1001   41        NaN       Москва       Иван       Ежов  2018-11-01   \n",
       "2     1002   59        NaN  Стерлитамак    Евгений  Абрамович  2018-06-17   \n",
       "3     1003   23        NaN       Москва      Белла   Белякова  2018-08-17   \n",
       "4     1004   68        NaN  Новокузнецк    Татьяна   Авдеенко  2018-05-14   \n",
       "\n",
       "  tariff  \n",
       "0  ultra  \n",
       "1  smart  \n",
       "2  smart  \n",
       "3  ultra  \n",
       "4  ultra  "
      ]
     },
     "execution_count": 2,
     "metadata": {},
     "output_type": "execute_result"
    }
   ],
   "source": [
    "#теперь импортируем данные и сразу запишем их в переменные\n",
    "\n",
    "calls_data = pd.read_csv('/datasets/calls.csv')\n",
    "internet_data = pd.read_csv('/datasets/internet.csv')\n",
    "messages_data = pd.read_csv('/datasets/messages.csv')\n",
    "tariffs_data = pd.read_csv('/datasets/tariffs.csv')\n",
    "users_data = pd.read_csv('/datasets/users.csv')\n",
    "\n",
    "print(calls_data.info())\n",
    "calls_data.head()\n",
    " \n",
    "print(internet_data.info())\n",
    "internet_data.head()\n",
    " \n",
    "print(messages_data.info())\n",
    "messages_data.head()\n",
    " \n",
    "tariffs_data.head()\n",
    " \n",
    "print(users_data.info())\n",
    "users_data.head()"
   ]
  },
  {
   "cell_type": "markdown",
   "metadata": {},
   "source": [
    "Исходя из полученных данных мы видим, что необходимо поменять формат записи дат, а также округлить время звонков и мегабайты трафика, т.е. поменять тип столбцов. \n",
    "Почти все столбцы заполнены. Только в одном столбце - churn_date в таблице users мало значений. Churn_date - дата прекращения пользования тарифом (если значение пропущено, то тариф ещё действовал на момент выгрузки данных), соответственно данные в нем тоже корректны, скорее всего. "
   ]
  },
  {
   "cell_type": "markdown",
   "metadata": {},
   "source": [
    "## Подготовка данных"
   ]
  },
  {
   "cell_type": "markdown",
   "metadata": {},
   "source": [
    "Чтобы проанализировать данные по месяцам, нам нужно добавить столбцы с месяцами в 3 таблицы: со звонками, сообщениями и интернет трафиком.\n",
    "    Для этого нужно привести даты к формату Datetime. Также нужно проанализировать столбцы на предмет дубликатов."
   ]
  },
  {
   "cell_type": "markdown",
   "metadata": {},
   "source": [
    "### Работа с датами"
   ]
  },
  {
   "cell_type": "code",
   "execution_count": 3,
   "metadata": {},
   "outputs": [],
   "source": [
    "#приводим в нужный формат datetime\n",
    "\n",
    "calls_data['call_date'] = calls_data['call_date'].astype('datetime64[M]')\n",
    "messages_data['message_date'] = messages_data['message_date'].astype('datetime64[M]')\n",
    "internet_data['session_date'] = internet_data['session_date'].astype('datetime64[M]')\n",
    "#calls_data['call_date'] = pd.to_datetime(calls_data['call_date'], format='%Y-%m-%d')\n",
    "#messages_data['message_date'] = pd.to_datetime(messages_data['message_date'], format='%Y-%m-%d')\n",
    "#internet_data['session_date'] = pd.to_datetime(internet_data['session_date'], format='%Y-%m-%d')\n"
   ]
  },
  {
   "cell_type": "code",
   "execution_count": 4,
   "metadata": {},
   "outputs": [],
   "source": [
    "#добавляем столбец month в три таблицы\n",
    "\n",
    "calls_data['month'] = pd.to_datetime(calls_data['call_date']).dt.month\n",
    "messages_data['month'] = pd.to_datetime(messages_data['message_date']).dt.month\n",
    "internet_data['month'] = pd.to_datetime(internet_data['session_date']).dt.month"
   ]
  },
  {
   "cell_type": "markdown",
   "metadata": {},
   "source": [
    "### Работа с дубликатами"
   ]
  },
  {
   "cell_type": "markdown",
   "metadata": {},
   "source": [
    "#### Датафрейм users_data\n",
    "Для начала нужно проверить столбец user_id на дубликаты. \n",
    "Напишем функцию id_unique для проверки столбца с id абонента."
   ]
  },
  {
   "cell_type": "code",
   "execution_count": 5,
   "metadata": {},
   "outputs": [],
   "source": [
    "def id_unique(id_column): \n",
    "    print(id_column.value_counts())\n",
    "    print()\n",
    "    print(id_column.describe())\n",
    "    print()\n",
    "    print('Уникальных значений =',len(id_column.unique()))"
   ]
  },
  {
   "cell_type": "code",
   "execution_count": 6,
   "metadata": {},
   "outputs": [
    {
     "name": "stdout",
     "output_type": "stream",
     "text": [
      "1024    1\n",
      "1353    1\n",
      "1366    1\n",
      "1365    1\n",
      "1364    1\n",
      "       ..\n",
      "1185    1\n",
      "1184    1\n",
      "1183    1\n",
      "1182    1\n",
      "1023    1\n",
      "Name: user_id, Length: 500, dtype: int64\n",
      "\n",
      "count     500.000000\n",
      "mean     1249.500000\n",
      "std       144.481833\n",
      "min      1000.000000\n",
      "25%      1124.750000\n",
      "50%      1249.500000\n",
      "75%      1374.250000\n",
      "max      1499.000000\n",
      "Name: user_id, dtype: float64\n",
      "\n",
      "Уникальных значений = 500\n"
     ]
    }
   ],
   "source": [
    "id_unique(users_data['user_id'])"
   ]
  },
  {
   "cell_type": "markdown",
   "metadata": {},
   "source": [
    "Столбец без дубликатов, все значения идут по порядку от 1000 до 1499 - 500 уникальных значений."
   ]
  },
  {
   "cell_type": "markdown",
   "metadata": {},
   "source": [
    "Далее проверяем столбец city. В изначальном столбце 76 уникальных значений городов. Теперь приведем все названия городов к нижнему регистру и сравним их количество с количеством оригиналов."
   ]
  },
  {
   "cell_type": "code",
   "execution_count": 7,
   "metadata": {},
   "outputs": [
    {
     "name": "stdout",
     "output_type": "stream",
     "text": [
      "Уникальных значений = 76\n"
     ]
    }
   ],
   "source": [
    "#Создадим новый столбец с названиями городов. Используем метод str.lower()\n",
    "\n",
    "users_data['city_lowercase'] = users_data['city'].str.lower()\n",
    "print('Уникальных значений =',len(users_data['city_lowercase'].unique()))\n"
   ]
  },
  {
   "cell_type": "markdown",
   "metadata": {},
   "source": [
    "Количество уникальных значений в столбце совпадает, значит дубликатов нет. "
   ]
  },
  {
   "cell_type": "markdown",
   "metadata": {},
   "source": [
    "Далее проверим столбец reg_date - дата подключения тарифа (день, месяц, год)."
   ]
  },
  {
   "cell_type": "code",
   "execution_count": 8,
   "metadata": {},
   "outputs": [
    {
     "data": {
      "text/plain": [
       "345    2018-06-01\n",
       "92     2018-06-19\n",
       "296    2018-06-05\n",
       "189    2018-01-30\n",
       "Name: reg_date, dtype: object"
      ]
     },
     "metadata": {},
     "output_type": "display_data"
    },
    {
     "data": {
      "text/html": [
       "<div>\n",
       "<style scoped>\n",
       "    .dataframe tbody tr th:only-of-type {\n",
       "        vertical-align: middle;\n",
       "    }\n",
       "\n",
       "    .dataframe tbody tr th {\n",
       "        vertical-align: top;\n",
       "    }\n",
       "\n",
       "    .dataframe thead th {\n",
       "        text-align: right;\n",
       "    }\n",
       "</style>\n",
       "<table border=\"1\" class=\"dataframe\">\n",
       "  <thead>\n",
       "    <tr style=\"text-align: right;\">\n",
       "      <th></th>\n",
       "      <th>user_id</th>\n",
       "      <th>age</th>\n",
       "      <th>churn_date</th>\n",
       "      <th>city</th>\n",
       "      <th>first_name</th>\n",
       "      <th>last_name</th>\n",
       "      <th>reg_date</th>\n",
       "      <th>tariff</th>\n",
       "      <th>city_lowercase</th>\n",
       "    </tr>\n",
       "  </thead>\n",
       "  <tbody>\n",
       "    <tr>\n",
       "      <th>0</th>\n",
       "      <td>1000</td>\n",
       "      <td>52</td>\n",
       "      <td>NaN</td>\n",
       "      <td>Краснодар</td>\n",
       "      <td>Рафаил</td>\n",
       "      <td>Верещагин</td>\n",
       "      <td>2018-05-25</td>\n",
       "      <td>ultra</td>\n",
       "      <td>краснодар</td>\n",
       "    </tr>\n",
       "    <tr>\n",
       "      <th>1</th>\n",
       "      <td>1001</td>\n",
       "      <td>41</td>\n",
       "      <td>NaN</td>\n",
       "      <td>Москва</td>\n",
       "      <td>Иван</td>\n",
       "      <td>Ежов</td>\n",
       "      <td>2018-11-01</td>\n",
       "      <td>smart</td>\n",
       "      <td>москва</td>\n",
       "    </tr>\n",
       "    <tr>\n",
       "      <th>2</th>\n",
       "      <td>1002</td>\n",
       "      <td>59</td>\n",
       "      <td>NaN</td>\n",
       "      <td>Стерлитамак</td>\n",
       "      <td>Евгений</td>\n",
       "      <td>Абрамович</td>\n",
       "      <td>2018-06-17</td>\n",
       "      <td>smart</td>\n",
       "      <td>стерлитамак</td>\n",
       "    </tr>\n",
       "    <tr>\n",
       "      <th>3</th>\n",
       "      <td>1003</td>\n",
       "      <td>23</td>\n",
       "      <td>NaN</td>\n",
       "      <td>Москва</td>\n",
       "      <td>Белла</td>\n",
       "      <td>Белякова</td>\n",
       "      <td>2018-08-17</td>\n",
       "      <td>ultra</td>\n",
       "      <td>москва</td>\n",
       "    </tr>\n",
       "  </tbody>\n",
       "</table>\n",
       "</div>"
      ],
      "text/plain": [
       "   user_id  age churn_date         city first_name  last_name    reg_date  \\\n",
       "0     1000   52        NaN    Краснодар     Рафаил  Верещагин  2018-05-25   \n",
       "1     1001   41        NaN       Москва       Иван       Ежов  2018-11-01   \n",
       "2     1002   59        NaN  Стерлитамак    Евгений  Абрамович  2018-06-17   \n",
       "3     1003   23        NaN       Москва      Белла   Белякова  2018-08-17   \n",
       "\n",
       "  tariff city_lowercase  \n",
       "0  ultra      краснодар  \n",
       "1  smart         москва  \n",
       "2  smart    стерлитамак  \n",
       "3  ultra         москва  "
      ]
     },
     "metadata": {},
     "output_type": "display_data"
    },
    {
     "name": "stdout",
     "output_type": "stream",
     "text": [
      "count            500\n",
      "unique           270\n",
      "top       2018-05-28\n",
      "freq               8\n",
      "Name: reg_date, dtype: object\n"
     ]
    }
   ],
   "source": [
    "display(users_data['reg_date'].sample(4))\n",
    "display(users_data.head(4))\n",
    "print(users_data['reg_date'].describe())"
   ]
  },
  {
   "cell_type": "markdown",
   "metadata": {},
   "source": [
    "Данные в порядке."
   ]
  },
  {
   "cell_type": "markdown",
   "metadata": {},
   "source": [
    "Следующим на проверке столбец tariff - название тарифного плана. Здесь проверим значение. Должно быть 2 тарифа"
   ]
  },
  {
   "cell_type": "code",
   "execution_count": 9,
   "metadata": {},
   "outputs": [
    {
     "data": {
      "text/plain": [
       "smart    351\n",
       "ultra    149\n",
       "Name: tariff, dtype: int64"
      ]
     },
     "execution_count": 9,
     "metadata": {},
     "output_type": "execute_result"
    }
   ],
   "source": [
    "users_data['tariff'].value_counts()"
   ]
  },
  {
   "cell_type": "markdown",
   "metadata": {},
   "source": [
    "Все правильно, идем дальше."
   ]
  },
  {
   "cell_type": "markdown",
   "metadata": {},
   "source": [
    "Проверим на всякий случай наличие дубликатов, исключая столбец user_id. "
   ]
  },
  {
   "cell_type": "code",
   "execution_count": 10,
   "metadata": {},
   "outputs": [
    {
     "name": "stdout",
     "output_type": "stream",
     "text": [
      "Кол-во дубликатов = 0\n"
     ]
    }
   ],
   "source": [
    "print('Кол-во дубликатов =', users_data.loc[:,['age', 'churn_date', 'city', 'first_name', \\\n",
    "                                          'last_name', 'reg_date', 'tariff']].duplicated().sum())"
   ]
  },
  {
   "cell_type": "markdown",
   "metadata": {},
   "source": [
    "#### Датафрейм calls_data. \n",
    "Для начала проверим столбец id -уникальный номер звонка. "
   ]
  },
  {
   "cell_type": "code",
   "execution_count": 11,
   "metadata": {},
   "outputs": [
    {
     "name": "stdout",
     "output_type": "stream",
     "text": [
      "0           1000_0\n",
      "1           1000_1\n",
      "2           1000_2\n",
      "3           1000_3\n",
      "4           1000_4\n",
      "            ...   \n",
      "202602    1499_215\n",
      "202603    1499_216\n",
      "202604    1499_217\n",
      "202605    1499_218\n",
      "202606    1499_219\n",
      "Name: id, Length: 202607, dtype: object\n",
      "1241_135    1\n",
      "1352_218    1\n",
      "1210_370    1\n",
      "1267_11     1\n",
      "1177_174    1\n",
      "           ..\n",
      "1208_416    1\n",
      "1435_335    1\n",
      "1491_282    1\n",
      "1254_542    1\n",
      "1460_551    1\n",
      "Name: id, Length: 202607, dtype: int64\n"
     ]
    }
   ],
   "source": [
    "print(calls_data['id'])\n",
    "print(calls_data['id'].value_counts())"
   ]
  },
  {
   "cell_type": "markdown",
   "metadata": {},
   "source": [
    "Все идентификаторы уникальны и в одном экземпляре. Следующий столбец call_date - дата звонка"
   ]
  },
  {
   "cell_type": "code",
   "execution_count": 12,
   "metadata": {},
   "outputs": [
    {
     "data": {
      "text/html": [
       "<div>\n",
       "<style scoped>\n",
       "    .dataframe tbody tr th:only-of-type {\n",
       "        vertical-align: middle;\n",
       "    }\n",
       "\n",
       "    .dataframe tbody tr th {\n",
       "        vertical-align: top;\n",
       "    }\n",
       "\n",
       "    .dataframe thead th {\n",
       "        text-align: right;\n",
       "    }\n",
       "</style>\n",
       "<table border=\"1\" class=\"dataframe\">\n",
       "  <thead>\n",
       "    <tr style=\"text-align: right;\">\n",
       "      <th></th>\n",
       "      <th>id</th>\n",
       "      <th>call_date</th>\n",
       "      <th>duration</th>\n",
       "      <th>user_id</th>\n",
       "      <th>month</th>\n",
       "    </tr>\n",
       "  </thead>\n",
       "  <tbody>\n",
       "    <tr>\n",
       "      <th>0</th>\n",
       "      <td>1000_0</td>\n",
       "      <td>2018-07-01</td>\n",
       "      <td>0.00</td>\n",
       "      <td>1000</td>\n",
       "      <td>7</td>\n",
       "    </tr>\n",
       "    <tr>\n",
       "      <th>1</th>\n",
       "      <td>1000_1</td>\n",
       "      <td>2018-08-01</td>\n",
       "      <td>0.00</td>\n",
       "      <td>1000</td>\n",
       "      <td>8</td>\n",
       "    </tr>\n",
       "    <tr>\n",
       "      <th>2</th>\n",
       "      <td>1000_2</td>\n",
       "      <td>2018-06-01</td>\n",
       "      <td>2.85</td>\n",
       "      <td>1000</td>\n",
       "      <td>6</td>\n",
       "    </tr>\n",
       "    <tr>\n",
       "      <th>3</th>\n",
       "      <td>1000_3</td>\n",
       "      <td>2018-09-01</td>\n",
       "      <td>13.80</td>\n",
       "      <td>1000</td>\n",
       "      <td>9</td>\n",
       "    </tr>\n",
       "    <tr>\n",
       "      <th>4</th>\n",
       "      <td>1000_4</td>\n",
       "      <td>2018-12-01</td>\n",
       "      <td>5.18</td>\n",
       "      <td>1000</td>\n",
       "      <td>12</td>\n",
       "    </tr>\n",
       "    <tr>\n",
       "      <th>...</th>\n",
       "      <td>...</td>\n",
       "      <td>...</td>\n",
       "      <td>...</td>\n",
       "      <td>...</td>\n",
       "      <td>...</td>\n",
       "    </tr>\n",
       "    <tr>\n",
       "      <th>202602</th>\n",
       "      <td>1499_215</td>\n",
       "      <td>2018-12-01</td>\n",
       "      <td>0.76</td>\n",
       "      <td>1499</td>\n",
       "      <td>12</td>\n",
       "    </tr>\n",
       "    <tr>\n",
       "      <th>202603</th>\n",
       "      <td>1499_216</td>\n",
       "      <td>2018-10-01</td>\n",
       "      <td>18.83</td>\n",
       "      <td>1499</td>\n",
       "      <td>10</td>\n",
       "    </tr>\n",
       "    <tr>\n",
       "      <th>202604</th>\n",
       "      <td>1499_217</td>\n",
       "      <td>2018-11-01</td>\n",
       "      <td>10.81</td>\n",
       "      <td>1499</td>\n",
       "      <td>11</td>\n",
       "    </tr>\n",
       "    <tr>\n",
       "      <th>202605</th>\n",
       "      <td>1499_218</td>\n",
       "      <td>2018-10-01</td>\n",
       "      <td>4.27</td>\n",
       "      <td>1499</td>\n",
       "      <td>10</td>\n",
       "    </tr>\n",
       "    <tr>\n",
       "      <th>202606</th>\n",
       "      <td>1499_219</td>\n",
       "      <td>2018-12-01</td>\n",
       "      <td>19.62</td>\n",
       "      <td>1499</td>\n",
       "      <td>12</td>\n",
       "    </tr>\n",
       "  </tbody>\n",
       "</table>\n",
       "<p>202607 rows × 5 columns</p>\n",
       "</div>"
      ],
      "text/plain": [
       "              id  call_date  duration  user_id  month\n",
       "0         1000_0 2018-07-01      0.00     1000      7\n",
       "1         1000_1 2018-08-01      0.00     1000      8\n",
       "2         1000_2 2018-06-01      2.85     1000      6\n",
       "3         1000_3 2018-09-01     13.80     1000      9\n",
       "4         1000_4 2018-12-01      5.18     1000     12\n",
       "...          ...        ...       ...      ...    ...\n",
       "202602  1499_215 2018-12-01      0.76     1499     12\n",
       "202603  1499_216 2018-10-01     18.83     1499     10\n",
       "202604  1499_217 2018-11-01     10.81     1499     11\n",
       "202605  1499_218 2018-10-01      4.27     1499     10\n",
       "202606  1499_219 2018-12-01     19.62     1499     12\n",
       "\n",
       "[202607 rows x 5 columns]"
      ]
     },
     "metadata": {},
     "output_type": "display_data"
    },
    {
     "name": "stderr",
     "output_type": "stream",
     "text": [
      "/tmp/ipykernel_110/129076191.py:2: FutureWarning: Treating datetime data as categorical rather than numeric in `.describe` is deprecated and will be removed in a future version of pandas. Specify `datetime_is_numeric=True` to silence this warning and adopt the future behavior now.\n",
      "  (calls_data['call_date'].describe())\n"
     ]
    },
    {
     "data": {
      "text/plain": [
       "count                  202607\n",
       "unique                     12\n",
       "top       2018-12-01 00:00:00\n",
       "freq                    33987\n",
       "first     2018-01-01 00:00:00\n",
       "last      2018-12-01 00:00:00\n",
       "Name: call_date, dtype: object"
      ]
     },
     "execution_count": 12,
     "metadata": {},
     "output_type": "execute_result"
    }
   ],
   "source": [
    "display(calls_data)\n",
    "(calls_data['call_date'].describe())"
   ]
  },
  {
   "cell_type": "markdown",
   "metadata": {},
   "source": [
    "Тип данных изменили, остальное в порядке(365 дат = кол-ву дней в году). Столбец готов. \n",
    "Следующий столбец duration - длительность звонка в минутах. "
   ]
  },
  {
   "cell_type": "code",
   "execution_count": 13,
   "metadata": {},
   "outputs": [
    {
     "data": {
      "text/plain": [
       "0          0.00\n",
       "1          0.00\n",
       "2          2.85\n",
       "3         13.80\n",
       "4          5.18\n",
       "          ...  \n",
       "202602     0.76\n",
       "202603    18.83\n",
       "202604    10.81\n",
       "202605     4.27\n",
       "202606    19.62\n",
       "Name: duration, Length: 202607, dtype: float64"
      ]
     },
     "metadata": {},
     "output_type": "display_data"
    },
    {
     "data": {
      "text/plain": [
       "count    202607.000000\n",
       "mean          6.755887\n",
       "std           5.843365\n",
       "min           0.000000\n",
       "25%           1.300000\n",
       "50%           6.000000\n",
       "75%          10.700000\n",
       "max          38.000000\n",
       "Name: duration, dtype: float64"
      ]
     },
     "metadata": {},
     "output_type": "display_data"
    }
   ],
   "source": [
    "display(calls_data['duration'])\n",
    "display(calls_data['duration'].describe())"
   ]
  },
  {
   "cell_type": "markdown",
   "metadata": {},
   "source": [
    "Выбросов нет. Вполне правдоподобно - длительность от 0 до 38 минут (0 минут - это скорее всего те, кто звонил и не дозвонился - неотвеченный вызов).\n",
    "\n",
    "В условии задачи сказано : «Мегалайн» всегда округляет вверх значения минут и мегабайтов. Если пользователь проговорил всего 1 секунду, в тарифе засчитывается целая минута.\n",
    "\n",
    "Поэтому округлим в большую сторону все значения столбца и поменяем тип на int."
   ]
  },
  {
   "cell_type": "code",
   "execution_count": 14,
   "metadata": {},
   "outputs": [
    {
     "data": {
      "text/plain": [
       "0          0\n",
       "1          0\n",
       "2          3\n",
       "3         14\n",
       "4          6\n",
       "          ..\n",
       "202602     1\n",
       "202603    19\n",
       "202604    11\n",
       "202605     5\n",
       "202606    20\n",
       "Name: duration, Length: 202607, dtype: int64"
      ]
     },
     "metadata": {},
     "output_type": "display_data"
    }
   ],
   "source": [
    "# Функция округления в бОльшую сторону. Принимает число, возвращает округленное в бОльшую сторону.\n",
    "\n",
    "def round_up(fl): \n",
    "    if int(fl)==fl:\n",
    "        return fl\n",
    "    else:\n",
    "        return int(fl)+1\n",
    "\n",
    "calls_data['duration'] = calls_data['duration'].apply(round_up).astype(int)\n",
    "display(calls_data['duration'])"
   ]
  },
  {
   "cell_type": "markdown",
   "metadata": {},
   "source": [
    "Сравнив с первоначальными значениями видно, что все получилось. Столбец готов.\n",
    "Далее берем столбец user_id - идентификатор пользователя, сделавшего звонок. В этом столбце важно проверить, чтобы не было дубликатов, так как user_id - уникальный ключ, а также посмотрим разброс значений (все ли четырехзначные - однотипные)."
   ]
  },
  {
   "cell_type": "code",
   "execution_count": 15,
   "metadata": {},
   "outputs": [
    {
     "name": "stdout",
     "output_type": "stream",
     "text": [
      "1377    1760\n",
      "1168    1692\n",
      "1375    1560\n",
      "1453    1440\n",
      "1196    1240\n",
      "        ... \n",
      "1397      33\n",
      "1442      28\n",
      "1373      24\n",
      "1016      20\n",
      "1257      14\n",
      "Name: user_id, Length: 492, dtype: int64\n",
      "\n",
      "count    202607.000000\n",
      "mean       1253.940619\n",
      "std         144.722751\n",
      "min        1000.000000\n",
      "25%        1126.000000\n",
      "50%        1260.000000\n",
      "75%        1379.000000\n",
      "max        1499.000000\n",
      "Name: user_id, dtype: float64\n",
      "\n",
      "Уникальных значений = 492\n"
     ]
    }
   ],
   "source": [
    "#Функция была описана выше\n",
    "\n",
    "id_unique(calls_data['user_id'])"
   ]
  },
  {
   "cell_type": "markdown",
   "metadata": {},
   "source": [
    "Похоже что 8 абонентов за год не разговаривали по телефону. Это вполне возможно. \n",
    "Возможно это GPS трекеры или 4G-модемы, где нужен только интернет. На всякий случай вычислим id этих абонентов и запишем в список not_calling_id."
   ]
  },
  {
   "cell_type": "code",
   "execution_count": 16,
   "metadata": {},
   "outputs": [
    {
     "name": "stdout",
     "output_type": "stream",
     "text": [
      "[1091, 1106, 1128, 1231, 1328, 1371, 1473, 1489]\n"
     ]
    }
   ],
   "source": [
    "#Напишем цикл, чтобы записать этих 8 абонентов в отдельный список\n",
    "\n",
    "not_calling_id = []\n",
    "for i in users_data['user_id']:\n",
    "    if i not in calls_data['user_id'].unique(): \n",
    "        not_calling_id.append(i) \n",
    "print(not_calling_id)"
   ]
  },
  {
   "cell_type": "markdown",
   "metadata": {},
   "source": [
    "В таблице calls_data скоректированы (округлены) данные в столбце duration. \n",
    "Также замечено, что присутствуют не звонившие абоненты, - их user_id записан в список not_calling_id. \n",
    "В остальном всё в порядке. Таблица готова."
   ]
  },
  {
   "cell_type": "markdown",
   "metadata": {},
   "source": [
    "#### Датафрейм messages_data\n",
    "Проверим столбец message_date - дата сообщения.  "
   ]
  },
  {
   "cell_type": "code",
   "execution_count": 17,
   "metadata": {},
   "outputs": [
    {
     "data": {
      "text/plain": [
       "0        2018-06-01\n",
       "1        2018-10-01\n",
       "2        2018-08-01\n",
       "3        2018-06-01\n",
       "4        2018-12-01\n",
       "            ...    \n",
       "123031   2018-12-01\n",
       "123032   2018-09-01\n",
       "123033   2018-09-01\n",
       "123034   2018-11-01\n",
       "123035   2018-11-01\n",
       "Name: message_date, Length: 123036, dtype: datetime64[ns]"
      ]
     },
     "metadata": {},
     "output_type": "display_data"
    }
   ],
   "source": [
    "display(messages_data['message_date'])"
   ]
  },
  {
   "cell_type": "code",
   "execution_count": 18,
   "metadata": {},
   "outputs": [
    {
     "data": {
      "text/plain": [
       "34293   2018-09-01\n",
       "54376   2018-09-01\n",
       "42986   2018-10-01\n",
       "36742   2018-11-01\n",
       "Name: message_date, dtype: datetime64[ns]"
      ]
     },
     "metadata": {},
     "output_type": "display_data"
    },
    {
     "name": "stdout",
     "output_type": "stream",
     "text": [
      "count                  123036\n",
      "unique                     12\n",
      "top       2018-12-01 00:00:00\n",
      "freq                    20555\n",
      "first     2018-01-01 00:00:00\n",
      "last      2018-12-01 00:00:00\n",
      "Name: message_date, dtype: object\n"
     ]
    },
    {
     "name": "stderr",
     "output_type": "stream",
     "text": [
      "/tmp/ipykernel_110/3599906606.py:2: FutureWarning: Treating datetime data as categorical rather than numeric in `.describe` is deprecated and will be removed in a future version of pandas. Specify `datetime_is_numeric=True` to silence this warning and adopt the future behavior now.\n",
      "  print(messages_data['message_date'].describe())\n"
     ]
    }
   ],
   "source": [
    "display(messages_data['message_date'].sample(4))\n",
    "print(messages_data['message_date'].describe())"
   ]
  },
  {
   "cell_type": "markdown",
   "metadata": {},
   "source": [
    "В данных отсутствуют данные за 1 января 2018. Возможно этот день и так следует исключить из анализа, тк \n",
    "скорее всего в нем присутствуют аномальные выбросы - в праздничные дни много звонков и сообщений с поздравлениями.\n",
    "Следующим проверим столбец user_id - идентификатор пользователя, отправившего сообщение"
   ]
  },
  {
   "cell_type": "code",
   "execution_count": 19,
   "metadata": {},
   "outputs": [
    {
     "name": "stdout",
     "output_type": "stream",
     "text": [
      "1277    1463\n",
      "1089    1408\n",
      "1231    1384\n",
      "1385    1380\n",
      "1356    1224\n",
      "        ... \n",
      "1111       6\n",
      "1279       5\n",
      "1074       3\n",
      "1159       2\n",
      "1141       1\n",
      "Name: user_id, Length: 426, dtype: int64\n",
      "\n",
      "count    123036.000000\n",
      "mean       1256.989410\n",
      "std         143.523967\n",
      "min        1000.000000\n",
      "25%        1134.000000\n",
      "50%        1271.000000\n",
      "75%        1381.000000\n",
      "max        1499.000000\n",
      "Name: user_id, dtype: float64\n",
      "\n",
      "Уникальных значений = 426\n"
     ]
    }
   ],
   "source": [
    "id_unique(messages_data['user_id'])"
   ]
  },
  {
   "cell_type": "markdown",
   "metadata": {},
   "source": [
    "Распределение вполне плавное и в рамках 1000-1499. \n",
    "Есть абоненты которые рассылают аж свыше 1000 сообщений. \n",
    "Это скорее всего какие-то сервисы, интернет магазины (зарегистрированные на ип). \n",
    "74 абонента (500-426) не отправляли сообщения: тоже вполне вероятно, \n",
    "сейчас очень многие пользуются интернет-мессенджерами.\n",
    "\n",
    "Вычислим id этих абонентов и запишем в список not_messaging_id"
   ]
  },
  {
   "cell_type": "code",
   "execution_count": 20,
   "metadata": {},
   "outputs": [
    {
     "name": "stdout",
     "output_type": "stream",
     "text": [
      "[1001, 1006, 1010, 1017, 1024, 1040, 1049, 1053, 1063, 1078, 1085, 1095, 1101, 1107, 1114, 1116, 1117, 1118, 1120, 1128, 1129, 1132, 1143, 1152, 1153, 1157, 1162, 1175, 1177, 1179, 1185, 1195, 1201, 1204, 1208, 1210, 1220, 1224, 1225, 1228, 1240, 1242, 1248, 1254, 1255, 1260, 1290, 1291, 1292, 1297, 1301, 1305, 1306, 1322, 1334, 1339, 1360, 1363, 1367, 1370, 1371, 1376, 1388, 1397, 1428, 1429, 1435, 1442, 1456, 1462, 1466, 1469, 1479, 1494]\n"
     ]
    }
   ],
   "source": [
    "#Напишем цикл, чтобы записать этих абонентов в отдельный список\n",
    "\n",
    "not_messaging_id = []\n",
    "for i in users_data['user_id']:\n",
    "    if i not in messages_data['user_id'].unique(): \n",
    "        not_messaging_id.append(i) \n",
    "print(not_messaging_id)"
   ]
  },
  {
   "cell_type": "markdown",
   "metadata": {},
   "source": [
    "В таблице messages_data замечено, что присутствуют не писавшие СМС абоненты, - их user_id записан в список not_messaging_id. \n",
    "В остальном всё в порядке."
   ]
  },
  {
   "cell_type": "markdown",
   "metadata": {},
   "source": [
    "#### Датафрейм internet_data"
   ]
  },
  {
   "cell_type": "code",
   "execution_count": 21,
   "metadata": {},
   "outputs": [
    {
     "name": "stdout",
     "output_type": "stream",
     "text": [
      "<class 'pandas.core.frame.DataFrame'>\n",
      "RangeIndex: 149396 entries, 0 to 149395\n",
      "Data columns (total 6 columns):\n",
      " #   Column        Non-Null Count   Dtype         \n",
      "---  ------        --------------   -----         \n",
      " 0   Unnamed: 0    149396 non-null  int64         \n",
      " 1   id            149396 non-null  object        \n",
      " 2   mb_used       149396 non-null  float64       \n",
      " 3   session_date  149396 non-null  datetime64[ns]\n",
      " 4   user_id       149396 non-null  int64         \n",
      " 5   month         149396 non-null  int64         \n",
      "dtypes: datetime64[ns](1), float64(1), int64(3), object(1)\n",
      "memory usage: 6.8+ MB\n"
     ]
    },
    {
     "data": {
      "text/plain": [
       "None"
      ]
     },
     "metadata": {},
     "output_type": "display_data"
    },
    {
     "data": {
      "text/html": [
       "<div>\n",
       "<style scoped>\n",
       "    .dataframe tbody tr th:only-of-type {\n",
       "        vertical-align: middle;\n",
       "    }\n",
       "\n",
       "    .dataframe tbody tr th {\n",
       "        vertical-align: top;\n",
       "    }\n",
       "\n",
       "    .dataframe thead th {\n",
       "        text-align: right;\n",
       "    }\n",
       "</style>\n",
       "<table border=\"1\" class=\"dataframe\">\n",
       "  <thead>\n",
       "    <tr style=\"text-align: right;\">\n",
       "      <th></th>\n",
       "      <th>Unnamed: 0</th>\n",
       "      <th>id</th>\n",
       "      <th>mb_used</th>\n",
       "      <th>session_date</th>\n",
       "      <th>user_id</th>\n",
       "      <th>month</th>\n",
       "    </tr>\n",
       "  </thead>\n",
       "  <tbody>\n",
       "    <tr>\n",
       "      <th>0</th>\n",
       "      <td>0</td>\n",
       "      <td>1000_0</td>\n",
       "      <td>112.95</td>\n",
       "      <td>2018-11-01</td>\n",
       "      <td>1000</td>\n",
       "      <td>11</td>\n",
       "    </tr>\n",
       "    <tr>\n",
       "      <th>1</th>\n",
       "      <td>1</td>\n",
       "      <td>1000_1</td>\n",
       "      <td>1052.81</td>\n",
       "      <td>2018-09-01</td>\n",
       "      <td>1000</td>\n",
       "      <td>9</td>\n",
       "    </tr>\n",
       "    <tr>\n",
       "      <th>2</th>\n",
       "      <td>2</td>\n",
       "      <td>1000_2</td>\n",
       "      <td>1197.26</td>\n",
       "      <td>2018-06-01</td>\n",
       "      <td>1000</td>\n",
       "      <td>6</td>\n",
       "    </tr>\n",
       "    <tr>\n",
       "      <th>3</th>\n",
       "      <td>3</td>\n",
       "      <td>1000_3</td>\n",
       "      <td>550.27</td>\n",
       "      <td>2018-08-01</td>\n",
       "      <td>1000</td>\n",
       "      <td>8</td>\n",
       "    </tr>\n",
       "    <tr>\n",
       "      <th>4</th>\n",
       "      <td>4</td>\n",
       "      <td>1000_4</td>\n",
       "      <td>302.56</td>\n",
       "      <td>2018-09-01</td>\n",
       "      <td>1000</td>\n",
       "      <td>9</td>\n",
       "    </tr>\n",
       "    <tr>\n",
       "      <th>...</th>\n",
       "      <td>...</td>\n",
       "      <td>...</td>\n",
       "      <td>...</td>\n",
       "      <td>...</td>\n",
       "      <td>...</td>\n",
       "      <td>...</td>\n",
       "    </tr>\n",
       "    <tr>\n",
       "      <th>149391</th>\n",
       "      <td>149391</td>\n",
       "      <td>1499_152</td>\n",
       "      <td>318.90</td>\n",
       "      <td>2018-10-01</td>\n",
       "      <td>1499</td>\n",
       "      <td>10</td>\n",
       "    </tr>\n",
       "    <tr>\n",
       "      <th>149392</th>\n",
       "      <td>149392</td>\n",
       "      <td>1499_153</td>\n",
       "      <td>490.13</td>\n",
       "      <td>2018-12-01</td>\n",
       "      <td>1499</td>\n",
       "      <td>12</td>\n",
       "    </tr>\n",
       "    <tr>\n",
       "      <th>149393</th>\n",
       "      <td>149393</td>\n",
       "      <td>1499_154</td>\n",
       "      <td>0.00</td>\n",
       "      <td>2018-10-01</td>\n",
       "      <td>1499</td>\n",
       "      <td>10</td>\n",
       "    </tr>\n",
       "    <tr>\n",
       "      <th>149394</th>\n",
       "      <td>149394</td>\n",
       "      <td>1499_155</td>\n",
       "      <td>1246.32</td>\n",
       "      <td>2018-11-01</td>\n",
       "      <td>1499</td>\n",
       "      <td>11</td>\n",
       "    </tr>\n",
       "    <tr>\n",
       "      <th>149395</th>\n",
       "      <td>149395</td>\n",
       "      <td>1499_156</td>\n",
       "      <td>544.37</td>\n",
       "      <td>2018-10-01</td>\n",
       "      <td>1499</td>\n",
       "      <td>10</td>\n",
       "    </tr>\n",
       "  </tbody>\n",
       "</table>\n",
       "<p>149396 rows × 6 columns</p>\n",
       "</div>"
      ],
      "text/plain": [
       "        Unnamed: 0        id  mb_used session_date  user_id  month\n",
       "0                0    1000_0   112.95   2018-11-01     1000     11\n",
       "1                1    1000_1  1052.81   2018-09-01     1000      9\n",
       "2                2    1000_2  1197.26   2018-06-01     1000      6\n",
       "3                3    1000_3   550.27   2018-08-01     1000      8\n",
       "4                4    1000_4   302.56   2018-09-01     1000      9\n",
       "...            ...       ...      ...          ...      ...    ...\n",
       "149391      149391  1499_152   318.90   2018-10-01     1499     10\n",
       "149392      149392  1499_153   490.13   2018-12-01     1499     12\n",
       "149393      149393  1499_154     0.00   2018-10-01     1499     10\n",
       "149394      149394  1499_155  1246.32   2018-11-01     1499     11\n",
       "149395      149395  1499_156   544.37   2018-10-01     1499     10\n",
       "\n",
       "[149396 rows x 6 columns]"
      ]
     },
     "metadata": {},
     "output_type": "display_data"
    },
    {
     "name": "stdout",
     "output_type": "stream",
     "text": [
      "Index(['Unnamed: 0', 'id', 'mb_used', 'session_date', 'user_id', 'month'], dtype='object')\n"
     ]
    }
   ],
   "source": [
    "display(internet_data.info())\n",
    "display(internet_data)\n",
    "print(internet_data.columns)"
   ]
  },
  {
   "cell_type": "markdown",
   "metadata": {},
   "source": [
    "По условию в таблице должно быть 5 столбцов (мы еще добавили столбец month), а их 6. \n",
    "Присутствует столбец 'Unnamed: 0' данные в котором похожи на индексы. Удалим этот столбец."
   ]
  },
  {
   "cell_type": "code",
   "execution_count": 22,
   "metadata": {},
   "outputs": [
    {
     "data": {
      "text/html": [
       "<div>\n",
       "<style scoped>\n",
       "    .dataframe tbody tr th:only-of-type {\n",
       "        vertical-align: middle;\n",
       "    }\n",
       "\n",
       "    .dataframe tbody tr th {\n",
       "        vertical-align: top;\n",
       "    }\n",
       "\n",
       "    .dataframe thead th {\n",
       "        text-align: right;\n",
       "    }\n",
       "</style>\n",
       "<table border=\"1\" class=\"dataframe\">\n",
       "  <thead>\n",
       "    <tr style=\"text-align: right;\">\n",
       "      <th></th>\n",
       "      <th>id</th>\n",
       "      <th>mb_used</th>\n",
       "      <th>session_date</th>\n",
       "      <th>user_id</th>\n",
       "      <th>month</th>\n",
       "    </tr>\n",
       "  </thead>\n",
       "  <tbody>\n",
       "    <tr>\n",
       "      <th>0</th>\n",
       "      <td>1000_0</td>\n",
       "      <td>112.95</td>\n",
       "      <td>2018-11-01</td>\n",
       "      <td>1000</td>\n",
       "      <td>11</td>\n",
       "    </tr>\n",
       "    <tr>\n",
       "      <th>1</th>\n",
       "      <td>1000_1</td>\n",
       "      <td>1052.81</td>\n",
       "      <td>2018-09-01</td>\n",
       "      <td>1000</td>\n",
       "      <td>9</td>\n",
       "    </tr>\n",
       "    <tr>\n",
       "      <th>2</th>\n",
       "      <td>1000_2</td>\n",
       "      <td>1197.26</td>\n",
       "      <td>2018-06-01</td>\n",
       "      <td>1000</td>\n",
       "      <td>6</td>\n",
       "    </tr>\n",
       "    <tr>\n",
       "      <th>3</th>\n",
       "      <td>1000_3</td>\n",
       "      <td>550.27</td>\n",
       "      <td>2018-08-01</td>\n",
       "      <td>1000</td>\n",
       "      <td>8</td>\n",
       "    </tr>\n",
       "    <tr>\n",
       "      <th>4</th>\n",
       "      <td>1000_4</td>\n",
       "      <td>302.56</td>\n",
       "      <td>2018-09-01</td>\n",
       "      <td>1000</td>\n",
       "      <td>9</td>\n",
       "    </tr>\n",
       "    <tr>\n",
       "      <th>...</th>\n",
       "      <td>...</td>\n",
       "      <td>...</td>\n",
       "      <td>...</td>\n",
       "      <td>...</td>\n",
       "      <td>...</td>\n",
       "    </tr>\n",
       "    <tr>\n",
       "      <th>149391</th>\n",
       "      <td>1499_152</td>\n",
       "      <td>318.90</td>\n",
       "      <td>2018-10-01</td>\n",
       "      <td>1499</td>\n",
       "      <td>10</td>\n",
       "    </tr>\n",
       "    <tr>\n",
       "      <th>149392</th>\n",
       "      <td>1499_153</td>\n",
       "      <td>490.13</td>\n",
       "      <td>2018-12-01</td>\n",
       "      <td>1499</td>\n",
       "      <td>12</td>\n",
       "    </tr>\n",
       "    <tr>\n",
       "      <th>149393</th>\n",
       "      <td>1499_154</td>\n",
       "      <td>0.00</td>\n",
       "      <td>2018-10-01</td>\n",
       "      <td>1499</td>\n",
       "      <td>10</td>\n",
       "    </tr>\n",
       "    <tr>\n",
       "      <th>149394</th>\n",
       "      <td>1499_155</td>\n",
       "      <td>1246.32</td>\n",
       "      <td>2018-11-01</td>\n",
       "      <td>1499</td>\n",
       "      <td>11</td>\n",
       "    </tr>\n",
       "    <tr>\n",
       "      <th>149395</th>\n",
       "      <td>1499_156</td>\n",
       "      <td>544.37</td>\n",
       "      <td>2018-10-01</td>\n",
       "      <td>1499</td>\n",
       "      <td>10</td>\n",
       "    </tr>\n",
       "  </tbody>\n",
       "</table>\n",
       "<p>149396 rows × 5 columns</p>\n",
       "</div>"
      ],
      "text/plain": [
       "              id  mb_used session_date  user_id  month\n",
       "0         1000_0   112.95   2018-11-01     1000     11\n",
       "1         1000_1  1052.81   2018-09-01     1000      9\n",
       "2         1000_2  1197.26   2018-06-01     1000      6\n",
       "3         1000_3   550.27   2018-08-01     1000      8\n",
       "4         1000_4   302.56   2018-09-01     1000      9\n",
       "...          ...      ...          ...      ...    ...\n",
       "149391  1499_152   318.90   2018-10-01     1499     10\n",
       "149392  1499_153   490.13   2018-12-01     1499     12\n",
       "149393  1499_154     0.00   2018-10-01     1499     10\n",
       "149394  1499_155  1246.32   2018-11-01     1499     11\n",
       "149395  1499_156   544.37   2018-10-01     1499     10\n",
       "\n",
       "[149396 rows x 5 columns]"
      ]
     },
     "metadata": {},
     "output_type": "display_data"
    }
   ],
   "source": [
    "internet_data.drop('Unnamed: 0', axis=1, inplace=True)\n",
    "display(internet_data)"
   ]
  },
  {
   "cell_type": "markdown",
   "metadata": {},
   "source": [
    "Ненужный столбец удален.\n",
    "Далее столбец mb_used - объём потраченного за сессию интернет-трафика (в мегабайтах)."
   ]
  },
  {
   "cell_type": "code",
   "execution_count": 23,
   "metadata": {},
   "outputs": [
    {
     "data": {
      "text/plain": [
       "0          112.95\n",
       "1         1052.81\n",
       "2         1197.26\n",
       "3          550.27\n",
       "4          302.56\n",
       "           ...   \n",
       "149391     318.90\n",
       "149392     490.13\n",
       "149393       0.00\n",
       "149394    1246.32\n",
       "149395     544.37\n",
       "Name: mb_used, Length: 149396, dtype: float64"
      ]
     },
     "metadata": {},
     "output_type": "display_data"
    },
    {
     "data": {
      "text/plain": [
       "count    149396.000000\n",
       "mean        370.192426\n",
       "std         278.300951\n",
       "min           0.000000\n",
       "25%         138.187500\n",
       "50%         348.015000\n",
       "75%         559.552500\n",
       "max        1724.830000\n",
       "Name: mb_used, dtype: float64"
      ]
     },
     "metadata": {},
     "output_type": "display_data"
    }
   ],
   "source": [
    "display(internet_data['mb_used'])\n",
    "display(internet_data['mb_used'].describe())"
   ]
  },
  {
   "cell_type": "markdown",
   "metadata": {},
   "source": [
    "Выбросов нет. Использование трафика от 0 до 1725 МБ \n",
    "(0 МБ - это похоже случаи когда соединение было установлено с интернетом, а потом сразу прервано).\n",
    "Поэтому округлим в большую сторону все значения столбца и поменяем тип на int."
   ]
  },
  {
   "cell_type": "code",
   "execution_count": 24,
   "metadata": {},
   "outputs": [
    {
     "data": {
      "text/plain": [
       "0          113\n",
       "1         1053\n",
       "2         1198\n",
       "3          551\n",
       "4          303\n",
       "          ... \n",
       "149391     319\n",
       "149392     491\n",
       "149393       0\n",
       "149394    1247\n",
       "149395     545\n",
       "Name: mb_used, Length: 149396, dtype: int64"
      ]
     },
     "metadata": {},
     "output_type": "display_data"
    }
   ],
   "source": [
    "# Функция была прописана выше: принимает число, возвращает округленное в бОльшую сторону.\n",
    "internet_data['mb_used'] = internet_data['mb_used'].apply(round_up).astype(int)\n",
    "display(internet_data['mb_used'])"
   ]
  },
  {
   "cell_type": "markdown",
   "metadata": {},
   "source": [
    "Сравнив с первоначальными значениями видно, что все получилось. Столбец готов. Далее столбец session_date - дата интернет-сессии. "
   ]
  },
  {
   "cell_type": "code",
   "execution_count": 25,
   "metadata": {},
   "outputs": [
    {
     "data": {
      "text/plain": [
       "118460   2018-09-01\n",
       "142115   2018-12-01\n",
       "107413   2018-09-01\n",
       "146499   2018-08-01\n",
       "Name: session_date, dtype: datetime64[ns]"
      ]
     },
     "metadata": {},
     "output_type": "display_data"
    },
    {
     "data": {
      "text/html": [
       "<div>\n",
       "<style scoped>\n",
       "    .dataframe tbody tr th:only-of-type {\n",
       "        vertical-align: middle;\n",
       "    }\n",
       "\n",
       "    .dataframe tbody tr th {\n",
       "        vertical-align: top;\n",
       "    }\n",
       "\n",
       "    .dataframe thead th {\n",
       "        text-align: right;\n",
       "    }\n",
       "</style>\n",
       "<table border=\"1\" class=\"dataframe\">\n",
       "  <thead>\n",
       "    <tr style=\"text-align: right;\">\n",
       "      <th></th>\n",
       "      <th>id</th>\n",
       "      <th>mb_used</th>\n",
       "      <th>session_date</th>\n",
       "      <th>user_id</th>\n",
       "      <th>month</th>\n",
       "    </tr>\n",
       "  </thead>\n",
       "  <tbody>\n",
       "    <tr>\n",
       "      <th>0</th>\n",
       "      <td>1000_0</td>\n",
       "      <td>113</td>\n",
       "      <td>2018-11-01</td>\n",
       "      <td>1000</td>\n",
       "      <td>11</td>\n",
       "    </tr>\n",
       "    <tr>\n",
       "      <th>1</th>\n",
       "      <td>1000_1</td>\n",
       "      <td>1053</td>\n",
       "      <td>2018-09-01</td>\n",
       "      <td>1000</td>\n",
       "      <td>9</td>\n",
       "    </tr>\n",
       "    <tr>\n",
       "      <th>2</th>\n",
       "      <td>1000_2</td>\n",
       "      <td>1198</td>\n",
       "      <td>2018-06-01</td>\n",
       "      <td>1000</td>\n",
       "      <td>6</td>\n",
       "    </tr>\n",
       "    <tr>\n",
       "      <th>3</th>\n",
       "      <td>1000_3</td>\n",
       "      <td>551</td>\n",
       "      <td>2018-08-01</td>\n",
       "      <td>1000</td>\n",
       "      <td>8</td>\n",
       "    </tr>\n",
       "  </tbody>\n",
       "</table>\n",
       "</div>"
      ],
      "text/plain": [
       "       id  mb_used session_date  user_id  month\n",
       "0  1000_0      113   2018-11-01     1000     11\n",
       "1  1000_1     1053   2018-09-01     1000      9\n",
       "2  1000_2     1198   2018-06-01     1000      6\n",
       "3  1000_3      551   2018-08-01     1000      8"
      ]
     },
     "metadata": {},
     "output_type": "display_data"
    },
    {
     "name": "stdout",
     "output_type": "stream",
     "text": [
      "count                  149396\n",
      "unique                     12\n",
      "top       2018-12-01 00:00:00\n",
      "freq                    24799\n",
      "first     2018-01-01 00:00:00\n",
      "last      2018-12-01 00:00:00\n",
      "Name: session_date, dtype: object\n"
     ]
    },
    {
     "name": "stderr",
     "output_type": "stream",
     "text": [
      "/tmp/ipykernel_110/1225223701.py:3: FutureWarning: Treating datetime data as categorical rather than numeric in `.describe` is deprecated and will be removed in a future version of pandas. Specify `datetime_is_numeric=True` to silence this warning and adopt the future behavior now.\n",
      "  print(internet_data['session_date'].describe())\n"
     ]
    }
   ],
   "source": [
    "display(internet_data['session_date'].sample(4))\n",
    "display(internet_data.head(4))\n",
    "print(internet_data['session_date'].describe())"
   ]
  },
  {
   "cell_type": "markdown",
   "metadata": {},
   "source": [
    "Присутствуют данные за все 365 дней. Столбец в порядке. Следующий столбец user_id - идентификатор пользователя. "
   ]
  },
  {
   "cell_type": "code",
   "execution_count": 26,
   "metadata": {},
   "outputs": [
    {
     "name": "stdout",
     "output_type": "stream",
     "text": [
      "1496    834\n",
      "1227    812\n",
      "1204    789\n",
      "1240    764\n",
      "1251    759\n",
      "       ... \n",
      "1151     35\n",
      "1467     27\n",
      "1343     26\n",
      "1192     22\n",
      "1399      8\n",
      "Name: user_id, Length: 497, dtype: int64\n",
      "\n",
      "count    149396.000000\n",
      "mean       1252.099842\n",
      "std         144.050823\n",
      "min        1000.000000\n",
      "25%        1130.000000\n",
      "50%        1251.000000\n",
      "75%        1380.000000\n",
      "max        1499.000000\n",
      "Name: user_id, dtype: float64\n",
      "\n",
      "Уникальных значений = 497\n"
     ]
    }
   ],
   "source": [
    "id_unique(internet_data['user_id'])"
   ]
  },
  {
   "cell_type": "markdown",
   "metadata": {},
   "source": [
    "Из 500 абонентов всего 3 не пользовалиcь интернетом, возможно это пожилые люди.\n",
    "Вычислим id этих абонентов и запишем в список not_interneting_id."
   ]
  },
  {
   "cell_type": "code",
   "execution_count": 27,
   "metadata": {},
   "outputs": [
    {
     "name": "stdout",
     "output_type": "stream",
     "text": [
      "[1128, 1273, 1371]\n"
     ]
    }
   ],
   "source": [
    "not_interneting_id = []\n",
    "for i in users_data['user_id']:\n",
    "    if i not in internet_data['user_id'].unique(): \n",
    "        not_interneting_id.append(i) \n",
    "print(not_interneting_id)"
   ]
  },
  {
   "cell_type": "markdown",
   "metadata": {},
   "source": [
    "В таблице internet_data кол-во использованных абонентом МБ mb_used округлено до целого вверх. Также замечено, что присутствуют 3 абонента не пользовавшихся интернетом, - их user_id записан в список not_interneting_id. В остальном всё в порядке. Датафрейм готов. "
   ]
  },
  {
   "cell_type": "markdown",
   "metadata": {},
   "source": [
    "#### Датафрейм tariffs_data"
   ]
  },
  {
   "cell_type": "code",
   "execution_count": 28,
   "metadata": {},
   "outputs": [
    {
     "name": "stdout",
     "output_type": "stream",
     "text": [
      "<class 'pandas.core.frame.DataFrame'>\n",
      "RangeIndex: 2 entries, 0 to 1\n",
      "Data columns (total 8 columns):\n",
      " #   Column                 Non-Null Count  Dtype \n",
      "---  ------                 --------------  ----- \n",
      " 0   messages_included      2 non-null      int64 \n",
      " 1   mb_per_month_included  2 non-null      int64 \n",
      " 2   minutes_included       2 non-null      int64 \n",
      " 3   rub_monthly_fee        2 non-null      int64 \n",
      " 4   rub_per_gb             2 non-null      int64 \n",
      " 5   rub_per_message        2 non-null      int64 \n",
      " 6   rub_per_minute         2 non-null      int64 \n",
      " 7   tariff_name            2 non-null      object\n",
      "dtypes: int64(7), object(1)\n",
      "memory usage: 256.0+ bytes\n"
     ]
    },
    {
     "data": {
      "text/plain": [
       "None"
      ]
     },
     "metadata": {},
     "output_type": "display_data"
    },
    {
     "data": {
      "text/html": [
       "<div>\n",
       "<style scoped>\n",
       "    .dataframe tbody tr th:only-of-type {\n",
       "        vertical-align: middle;\n",
       "    }\n",
       "\n",
       "    .dataframe tbody tr th {\n",
       "        vertical-align: top;\n",
       "    }\n",
       "\n",
       "    .dataframe thead th {\n",
       "        text-align: right;\n",
       "    }\n",
       "</style>\n",
       "<table border=\"1\" class=\"dataframe\">\n",
       "  <thead>\n",
       "    <tr style=\"text-align: right;\">\n",
       "      <th></th>\n",
       "      <th>messages_included</th>\n",
       "      <th>mb_per_month_included</th>\n",
       "      <th>minutes_included</th>\n",
       "      <th>rub_monthly_fee</th>\n",
       "      <th>rub_per_gb</th>\n",
       "      <th>rub_per_message</th>\n",
       "      <th>rub_per_minute</th>\n",
       "      <th>tariff_name</th>\n",
       "    </tr>\n",
       "  </thead>\n",
       "  <tbody>\n",
       "    <tr>\n",
       "      <th>0</th>\n",
       "      <td>50</td>\n",
       "      <td>15360</td>\n",
       "      <td>500</td>\n",
       "      <td>550</td>\n",
       "      <td>200</td>\n",
       "      <td>3</td>\n",
       "      <td>3</td>\n",
       "      <td>smart</td>\n",
       "    </tr>\n",
       "    <tr>\n",
       "      <th>1</th>\n",
       "      <td>1000</td>\n",
       "      <td>30720</td>\n",
       "      <td>3000</td>\n",
       "      <td>1950</td>\n",
       "      <td>150</td>\n",
       "      <td>1</td>\n",
       "      <td>1</td>\n",
       "      <td>ultra</td>\n",
       "    </tr>\n",
       "  </tbody>\n",
       "</table>\n",
       "</div>"
      ],
      "text/plain": [
       "   messages_included  mb_per_month_included  minutes_included  \\\n",
       "0                 50                  15360               500   \n",
       "1               1000                  30720              3000   \n",
       "\n",
       "   rub_monthly_fee  rub_per_gb  rub_per_message  rub_per_minute tariff_name  \n",
       "0              550         200                3               3       smart  \n",
       "1             1950         150                1               1       ultra  "
      ]
     },
     "metadata": {},
     "output_type": "display_data"
    }
   ],
   "source": [
    "display(tariffs_data.info())\n",
    "display(tariffs_data)"
   ]
  },
  {
   "cell_type": "markdown",
   "metadata": {},
   "source": [
    "В датафрейме всего две строки - два разных тарифа, данные в порядке."
   ]
  },
  {
   "cell_type": "markdown",
   "metadata": {},
   "source": [
    "Вывод: По большей части данные изначально в хорошем состоянии. Изменены типы в столбцах с датами на datetime64, и проверена корректность данных, в 3 датафрейма добавлен столбец month для дальнейшего анализа. Дубликатов не было выявлено. "
   ]
  },
  {
   "cell_type": "markdown",
   "metadata": {},
   "source": [
    "## Расчет показателей для каждого абонента"
   ]
  },
  {
   "cell_type": "markdown",
   "metadata": {},
   "source": [
    " По условиям задачи требуется посчитать количество сделанных звонков и израсходованных минут \n",
    "разговора по месяцам, количество отправленных сообщений по месяцам, \n",
    "объем израсходованного интернет-трафика по месяцам и помесячную выручку для каждого пользователя.\n",
    "Но предварительно создадим 3 таблицы ab_calls, ab_messages, ab_internet сгруппированные по user_id и month, \n",
    "в которых будет записан результат выполнения первых трех заданий для слияния в общую таблицу abonents."
   ]
  },
  {
   "cell_type": "code",
   "execution_count": 29,
   "metadata": {},
   "outputs": [
    {
     "data": {
      "text/html": [
       "<div>\n",
       "<style scoped>\n",
       "    .dataframe tbody tr th:only-of-type {\n",
       "        vertical-align: middle;\n",
       "    }\n",
       "\n",
       "    .dataframe tbody tr th {\n",
       "        vertical-align: top;\n",
       "    }\n",
       "\n",
       "    .dataframe thead th {\n",
       "        text-align: right;\n",
       "    }\n",
       "</style>\n",
       "<table border=\"1\" class=\"dataframe\">\n",
       "  <thead>\n",
       "    <tr style=\"text-align: right;\">\n",
       "      <th></th>\n",
       "      <th>user_id</th>\n",
       "      <th>month</th>\n",
       "      <th>calls</th>\n",
       "      <th>min</th>\n",
       "    </tr>\n",
       "  </thead>\n",
       "  <tbody>\n",
       "    <tr>\n",
       "      <th>0</th>\n",
       "      <td>1000</td>\n",
       "      <td>5</td>\n",
       "      <td>22</td>\n",
       "      <td>159</td>\n",
       "    </tr>\n",
       "    <tr>\n",
       "      <th>1</th>\n",
       "      <td>1000</td>\n",
       "      <td>6</td>\n",
       "      <td>43</td>\n",
       "      <td>172</td>\n",
       "    </tr>\n",
       "    <tr>\n",
       "      <th>2</th>\n",
       "      <td>1000</td>\n",
       "      <td>7</td>\n",
       "      <td>47</td>\n",
       "      <td>340</td>\n",
       "    </tr>\n",
       "    <tr>\n",
       "      <th>3</th>\n",
       "      <td>1000</td>\n",
       "      <td>8</td>\n",
       "      <td>52</td>\n",
       "      <td>408</td>\n",
       "    </tr>\n",
       "    <tr>\n",
       "      <th>4</th>\n",
       "      <td>1000</td>\n",
       "      <td>9</td>\n",
       "      <td>58</td>\n",
       "      <td>466</td>\n",
       "    </tr>\n",
       "    <tr>\n",
       "      <th>5</th>\n",
       "      <td>1000</td>\n",
       "      <td>10</td>\n",
       "      <td>57</td>\n",
       "      <td>350</td>\n",
       "    </tr>\n",
       "    <tr>\n",
       "      <th>6</th>\n",
       "      <td>1000</td>\n",
       "      <td>11</td>\n",
       "      <td>43</td>\n",
       "      <td>338</td>\n",
       "    </tr>\n",
       "    <tr>\n",
       "      <th>7</th>\n",
       "      <td>1000</td>\n",
       "      <td>12</td>\n",
       "      <td>46</td>\n",
       "      <td>333</td>\n",
       "    </tr>\n",
       "    <tr>\n",
       "      <th>8</th>\n",
       "      <td>1001</td>\n",
       "      <td>11</td>\n",
       "      <td>59</td>\n",
       "      <td>430</td>\n",
       "    </tr>\n",
       "    <tr>\n",
       "      <th>9</th>\n",
       "      <td>1001</td>\n",
       "      <td>12</td>\n",
       "      <td>63</td>\n",
       "      <td>414</td>\n",
       "    </tr>\n",
       "  </tbody>\n",
       "</table>\n",
       "</div>"
      ],
      "text/plain": [
       "   user_id  month  calls  min\n",
       "0     1000      5     22  159\n",
       "1     1000      6     43  172\n",
       "2     1000      7     47  340\n",
       "3     1000      8     52  408\n",
       "4     1000      9     58  466\n",
       "5     1000     10     57  350\n",
       "6     1000     11     43  338\n",
       "7     1000     12     46  333\n",
       "8     1001     11     59  430\n",
       "9     1001     12     63  414"
      ]
     },
     "metadata": {},
     "output_type": "display_data"
    },
    {
     "data": {
      "text/html": [
       "<div>\n",
       "<style scoped>\n",
       "    .dataframe tbody tr th:only-of-type {\n",
       "        vertical-align: middle;\n",
       "    }\n",
       "\n",
       "    .dataframe tbody tr th {\n",
       "        vertical-align: top;\n",
       "    }\n",
       "\n",
       "    .dataframe thead th {\n",
       "        text-align: right;\n",
       "    }\n",
       "</style>\n",
       "<table border=\"1\" class=\"dataframe\">\n",
       "  <thead>\n",
       "    <tr style=\"text-align: right;\">\n",
       "      <th></th>\n",
       "      <th>user_id</th>\n",
       "      <th>month</th>\n",
       "      <th>mes</th>\n",
       "    </tr>\n",
       "  </thead>\n",
       "  <tbody>\n",
       "    <tr>\n",
       "      <th>0</th>\n",
       "      <td>1000</td>\n",
       "      <td>5</td>\n",
       "      <td>22</td>\n",
       "    </tr>\n",
       "    <tr>\n",
       "      <th>1</th>\n",
       "      <td>1000</td>\n",
       "      <td>6</td>\n",
       "      <td>60</td>\n",
       "    </tr>\n",
       "    <tr>\n",
       "      <th>2</th>\n",
       "      <td>1000</td>\n",
       "      <td>7</td>\n",
       "      <td>75</td>\n",
       "    </tr>\n",
       "    <tr>\n",
       "      <th>3</th>\n",
       "      <td>1000</td>\n",
       "      <td>8</td>\n",
       "      <td>81</td>\n",
       "    </tr>\n",
       "    <tr>\n",
       "      <th>4</th>\n",
       "      <td>1000</td>\n",
       "      <td>9</td>\n",
       "      <td>57</td>\n",
       "    </tr>\n",
       "    <tr>\n",
       "      <th>5</th>\n",
       "      <td>1000</td>\n",
       "      <td>10</td>\n",
       "      <td>73</td>\n",
       "    </tr>\n",
       "    <tr>\n",
       "      <th>6</th>\n",
       "      <td>1000</td>\n",
       "      <td>11</td>\n",
       "      <td>58</td>\n",
       "    </tr>\n",
       "    <tr>\n",
       "      <th>7</th>\n",
       "      <td>1000</td>\n",
       "      <td>12</td>\n",
       "      <td>70</td>\n",
       "    </tr>\n",
       "    <tr>\n",
       "      <th>8</th>\n",
       "      <td>1002</td>\n",
       "      <td>6</td>\n",
       "      <td>4</td>\n",
       "    </tr>\n",
       "    <tr>\n",
       "      <th>9</th>\n",
       "      <td>1002</td>\n",
       "      <td>7</td>\n",
       "      <td>11</td>\n",
       "    </tr>\n",
       "  </tbody>\n",
       "</table>\n",
       "</div>"
      ],
      "text/plain": [
       "   user_id  month  mes\n",
       "0     1000      5   22\n",
       "1     1000      6   60\n",
       "2     1000      7   75\n",
       "3     1000      8   81\n",
       "4     1000      9   57\n",
       "5     1000     10   73\n",
       "6     1000     11   58\n",
       "7     1000     12   70\n",
       "8     1002      6    4\n",
       "9     1002      7   11"
      ]
     },
     "metadata": {},
     "output_type": "display_data"
    },
    {
     "data": {
      "text/html": [
       "<div>\n",
       "<style scoped>\n",
       "    .dataframe tbody tr th:only-of-type {\n",
       "        vertical-align: middle;\n",
       "    }\n",
       "\n",
       "    .dataframe tbody tr th {\n",
       "        vertical-align: top;\n",
       "    }\n",
       "\n",
       "    .dataframe thead th {\n",
       "        text-align: right;\n",
       "    }\n",
       "</style>\n",
       "<table border=\"1\" class=\"dataframe\">\n",
       "  <thead>\n",
       "    <tr style=\"text-align: right;\">\n",
       "      <th></th>\n",
       "      <th>user_id</th>\n",
       "      <th>month</th>\n",
       "      <th>mb</th>\n",
       "    </tr>\n",
       "  </thead>\n",
       "  <tbody>\n",
       "    <tr>\n",
       "      <th>0</th>\n",
       "      <td>1000</td>\n",
       "      <td>5</td>\n",
       "      <td>2256</td>\n",
       "    </tr>\n",
       "    <tr>\n",
       "      <th>1</th>\n",
       "      <td>1000</td>\n",
       "      <td>6</td>\n",
       "      <td>23257</td>\n",
       "    </tr>\n",
       "    <tr>\n",
       "      <th>2</th>\n",
       "      <td>1000</td>\n",
       "      <td>7</td>\n",
       "      <td>14016</td>\n",
       "    </tr>\n",
       "    <tr>\n",
       "      <th>3</th>\n",
       "      <td>1000</td>\n",
       "      <td>8</td>\n",
       "      <td>14070</td>\n",
       "    </tr>\n",
       "    <tr>\n",
       "      <th>4</th>\n",
       "      <td>1000</td>\n",
       "      <td>9</td>\n",
       "      <td>14581</td>\n",
       "    </tr>\n",
       "    <tr>\n",
       "      <th>5</th>\n",
       "      <td>1000</td>\n",
       "      <td>10</td>\n",
       "      <td>14717</td>\n",
       "    </tr>\n",
       "    <tr>\n",
       "      <th>6</th>\n",
       "      <td>1000</td>\n",
       "      <td>11</td>\n",
       "      <td>14768</td>\n",
       "    </tr>\n",
       "    <tr>\n",
       "      <th>7</th>\n",
       "      <td>1000</td>\n",
       "      <td>12</td>\n",
       "      <td>9827</td>\n",
       "    </tr>\n",
       "    <tr>\n",
       "      <th>8</th>\n",
       "      <td>1001</td>\n",
       "      <td>11</td>\n",
       "      <td>18452</td>\n",
       "    </tr>\n",
       "    <tr>\n",
       "      <th>9</th>\n",
       "      <td>1001</td>\n",
       "      <td>12</td>\n",
       "      <td>14053</td>\n",
       "    </tr>\n",
       "  </tbody>\n",
       "</table>\n",
       "</div>"
      ],
      "text/plain": [
       "   user_id  month     mb\n",
       "0     1000      5   2256\n",
       "1     1000      6  23257\n",
       "2     1000      7  14016\n",
       "3     1000      8  14070\n",
       "4     1000      9  14581\n",
       "5     1000     10  14717\n",
       "6     1000     11  14768\n",
       "7     1000     12   9827\n",
       "8     1001     11  18452\n",
       "9     1001     12  14053"
      ]
     },
     "metadata": {},
     "output_type": "display_data"
    }
   ],
   "source": [
    "abonent = pd.DataFrame()\n",
    "\n",
    "ab_calls = calls_data.groupby(['user_id', 'month'])['duration'].agg(['count','sum']).reset_index()\n",
    "ab_calls.columns = ['user_id', 'month', 'calls', 'min']\n",
    "\n",
    "ab_messages = messages_data.groupby(['user_id', 'month'])['id'].count().reset_index()\n",
    "ab_messages.columns = ['user_id', 'month', 'mes']\n",
    "\n",
    "ab_internet = internet_data.groupby(['user_id', 'month'])['mb_used'].sum().reset_index()\n",
    "ab_internet.columns = ['user_id', 'month', 'mb']\n",
    "\n",
    "display(ab_calls.head(10))\n",
    "display(ab_messages.head(10))\n",
    "display(ab_internet.head(10))"
   ]
  },
  {
   "cell_type": "markdown",
   "metadata": {},
   "source": [
    "Теперь создадим из 3 таблиц ab_calls, ab_messages, ab_internet главную таблицу abonents."
   ]
  },
  {
   "cell_type": "code",
   "execution_count": 30,
   "metadata": {},
   "outputs": [
    {
     "data": {
      "text/html": [
       "<div>\n",
       "<style scoped>\n",
       "    .dataframe tbody tr th:only-of-type {\n",
       "        vertical-align: middle;\n",
       "    }\n",
       "\n",
       "    .dataframe tbody tr th {\n",
       "        vertical-align: top;\n",
       "    }\n",
       "\n",
       "    .dataframe thead th {\n",
       "        text-align: right;\n",
       "    }\n",
       "</style>\n",
       "<table border=\"1\" class=\"dataframe\">\n",
       "  <thead>\n",
       "    <tr style=\"text-align: right;\">\n",
       "      <th></th>\n",
       "      <th>user_id</th>\n",
       "      <th>month</th>\n",
       "      <th>calls</th>\n",
       "      <th>min</th>\n",
       "      <th>mes</th>\n",
       "      <th>mb</th>\n",
       "      <th>city</th>\n",
       "      <th>tariff</th>\n",
       "    </tr>\n",
       "  </thead>\n",
       "  <tbody>\n",
       "    <tr>\n",
       "      <th>0</th>\n",
       "      <td>1000</td>\n",
       "      <td>5.0</td>\n",
       "      <td>22.0</td>\n",
       "      <td>159.0</td>\n",
       "      <td>22.0</td>\n",
       "      <td>2256.0</td>\n",
       "      <td>Краснодар</td>\n",
       "      <td>ultra</td>\n",
       "    </tr>\n",
       "    <tr>\n",
       "      <th>1</th>\n",
       "      <td>1000</td>\n",
       "      <td>6.0</td>\n",
       "      <td>43.0</td>\n",
       "      <td>172.0</td>\n",
       "      <td>60.0</td>\n",
       "      <td>23257.0</td>\n",
       "      <td>Краснодар</td>\n",
       "      <td>ultra</td>\n",
       "    </tr>\n",
       "    <tr>\n",
       "      <th>2</th>\n",
       "      <td>1000</td>\n",
       "      <td>7.0</td>\n",
       "      <td>47.0</td>\n",
       "      <td>340.0</td>\n",
       "      <td>75.0</td>\n",
       "      <td>14016.0</td>\n",
       "      <td>Краснодар</td>\n",
       "      <td>ultra</td>\n",
       "    </tr>\n",
       "    <tr>\n",
       "      <th>3</th>\n",
       "      <td>1000</td>\n",
       "      <td>8.0</td>\n",
       "      <td>52.0</td>\n",
       "      <td>408.0</td>\n",
       "      <td>81.0</td>\n",
       "      <td>14070.0</td>\n",
       "      <td>Краснодар</td>\n",
       "      <td>ultra</td>\n",
       "    </tr>\n",
       "    <tr>\n",
       "      <th>4</th>\n",
       "      <td>1000</td>\n",
       "      <td>9.0</td>\n",
       "      <td>58.0</td>\n",
       "      <td>466.0</td>\n",
       "      <td>57.0</td>\n",
       "      <td>14581.0</td>\n",
       "      <td>Краснодар</td>\n",
       "      <td>ultra</td>\n",
       "    </tr>\n",
       "    <tr>\n",
       "      <th>...</th>\n",
       "      <td>...</td>\n",
       "      <td>...</td>\n",
       "      <td>...</td>\n",
       "      <td>...</td>\n",
       "      <td>...</td>\n",
       "      <td>...</td>\n",
       "      <td>...</td>\n",
       "      <td>...</td>\n",
       "    </tr>\n",
       "    <tr>\n",
       "      <th>3211</th>\n",
       "      <td>1489</td>\n",
       "      <td>10.0</td>\n",
       "      <td>NaN</td>\n",
       "      <td>NaN</td>\n",
       "      <td>21.0</td>\n",
       "      <td>19588.0</td>\n",
       "      <td>Санкт-Петербург</td>\n",
       "      <td>smart</td>\n",
       "    </tr>\n",
       "    <tr>\n",
       "      <th>3212</th>\n",
       "      <td>1489</td>\n",
       "      <td>11.0</td>\n",
       "      <td>NaN</td>\n",
       "      <td>NaN</td>\n",
       "      <td>20.0</td>\n",
       "      <td>17516.0</td>\n",
       "      <td>Санкт-Петербург</td>\n",
       "      <td>smart</td>\n",
       "    </tr>\n",
       "    <tr>\n",
       "      <th>3213</th>\n",
       "      <td>1489</td>\n",
       "      <td>12.0</td>\n",
       "      <td>NaN</td>\n",
       "      <td>NaN</td>\n",
       "      <td>35.0</td>\n",
       "      <td>17341.0</td>\n",
       "      <td>Санкт-Петербург</td>\n",
       "      <td>smart</td>\n",
       "    </tr>\n",
       "    <tr>\n",
       "      <th>3214</th>\n",
       "      <td>1128</td>\n",
       "      <td>NaN</td>\n",
       "      <td>NaN</td>\n",
       "      <td>NaN</td>\n",
       "      <td>NaN</td>\n",
       "      <td>NaN</td>\n",
       "      <td>Волжский</td>\n",
       "      <td>ultra</td>\n",
       "    </tr>\n",
       "    <tr>\n",
       "      <th>3215</th>\n",
       "      <td>1371</td>\n",
       "      <td>NaN</td>\n",
       "      <td>NaN</td>\n",
       "      <td>NaN</td>\n",
       "      <td>NaN</td>\n",
       "      <td>NaN</td>\n",
       "      <td>Омск</td>\n",
       "      <td>smart</td>\n",
       "    </tr>\n",
       "  </tbody>\n",
       "</table>\n",
       "<p>3216 rows × 8 columns</p>\n",
       "</div>"
      ],
      "text/plain": [
       "      user_id  month  calls    min   mes       mb             city tariff\n",
       "0        1000    5.0   22.0  159.0  22.0   2256.0        Краснодар  ultra\n",
       "1        1000    6.0   43.0  172.0  60.0  23257.0        Краснодар  ultra\n",
       "2        1000    7.0   47.0  340.0  75.0  14016.0        Краснодар  ultra\n",
       "3        1000    8.0   52.0  408.0  81.0  14070.0        Краснодар  ultra\n",
       "4        1000    9.0   58.0  466.0  57.0  14581.0        Краснодар  ultra\n",
       "...       ...    ...    ...    ...   ...      ...              ...    ...\n",
       "3211     1489   10.0    NaN    NaN  21.0  19588.0  Санкт-Петербург  smart\n",
       "3212     1489   11.0    NaN    NaN  20.0  17516.0  Санкт-Петербург  smart\n",
       "3213     1489   12.0    NaN    NaN  35.0  17341.0  Санкт-Петербург  smart\n",
       "3214     1128    NaN    NaN    NaN   NaN      NaN         Волжский  ultra\n",
       "3215     1371    NaN    NaN    NaN   NaN      NaN             Омск  smart\n",
       "\n",
       "[3216 rows x 8 columns]"
      ]
     },
     "execution_count": 30,
     "metadata": {},
     "output_type": "execute_result"
    }
   ],
   "source": [
    "all_abonents = users_data.loc[:,['user_id', 'city', 'tariff']]\n",
    "\n",
    "# Таблицу abonents получаем путем слияния, используя метод merge\n",
    "\n",
    "abonents = pd.merge(ab_calls, ab_messages, how='outer', on=['user_id', 'month']) \n",
    "abonents = pd.merge(abonents, ab_internet, how='outer', on=['user_id', 'month']) \n",
    "abonents = pd.merge(abonents, all_abonents, how='outer', on=['user_id'])\n",
    "abonents"
   ]
  },
  {
   "cell_type": "markdown",
   "metadata": {},
   "source": [
    "В предобработке было выявлены абоненты которые не звонили, не писали СМС, не пользовались интернетом."
   ]
  },
  {
   "cell_type": "code",
   "execution_count": 31,
   "metadata": {},
   "outputs": [
    {
     "name": "stdout",
     "output_type": "stream",
     "text": [
      "[1091, 1106, 1128, 1231, 1328, 1371, 1473, 1489]\n",
      "[1128, 1273, 1371]\n",
      "[1001, 1006, 1010, 1017, 1024, 1040, 1049, 1053, 1063, 1078, 1085, 1095, 1101, 1107, 1114, 1116, 1117, 1118, 1120, 1128, 1129, 1132, 1143, 1152, 1153, 1157, 1162, 1175, 1177, 1179, 1185, 1195, 1201, 1204, 1208, 1210, 1220, 1224, 1225, 1228, 1240, 1242, 1248, 1254, 1255, 1260, 1290, 1291, 1292, 1297, 1301, 1305, 1306, 1322, 1334, 1339, 1360, 1363, 1367, 1370, 1371, 1376, 1388, 1397, 1428, 1429, 1435, 1442, 1456, 1462, 1466, 1469, 1479, 1494]\n"
     ]
    }
   ],
   "source": [
    "print(not_calling_id) # не звонили\n",
    "print(not_interneting_id) # не писали СМС\n",
    "print(not_messaging_id) # не пользовались интернетом"
   ]
  },
  {
   "cell_type": "markdown",
   "metadata": {},
   "source": [
    "Есть 2 абонента, которые одновременно не звонили, не писали СМС, не пользовались интернетом:\n",
    "их user_id 1128 и 1371"
   ]
  },
  {
   "cell_type": "code",
   "execution_count": 32,
   "metadata": {},
   "outputs": [
    {
     "data": {
      "text/html": [
       "<div>\n",
       "<style scoped>\n",
       "    .dataframe tbody tr th:only-of-type {\n",
       "        vertical-align: middle;\n",
       "    }\n",
       "\n",
       "    .dataframe tbody tr th {\n",
       "        vertical-align: top;\n",
       "    }\n",
       "\n",
       "    .dataframe thead th {\n",
       "        text-align: right;\n",
       "    }\n",
       "</style>\n",
       "<table border=\"1\" class=\"dataframe\">\n",
       "  <thead>\n",
       "    <tr style=\"text-align: right;\">\n",
       "      <th></th>\n",
       "      <th>user_id</th>\n",
       "      <th>age</th>\n",
       "      <th>churn_date</th>\n",
       "      <th>city</th>\n",
       "      <th>first_name</th>\n",
       "      <th>last_name</th>\n",
       "      <th>reg_date</th>\n",
       "      <th>tariff</th>\n",
       "      <th>city_lowercase</th>\n",
       "    </tr>\n",
       "  </thead>\n",
       "  <tbody>\n",
       "    <tr>\n",
       "      <th>128</th>\n",
       "      <td>1128</td>\n",
       "      <td>51</td>\n",
       "      <td>2018-12-23</td>\n",
       "      <td>Волжский</td>\n",
       "      <td>Ксения</td>\n",
       "      <td>Агаева</td>\n",
       "      <td>2018-12-15</td>\n",
       "      <td>ultra</td>\n",
       "      <td>волжский</td>\n",
       "    </tr>\n",
       "  </tbody>\n",
       "</table>\n",
       "</div>"
      ],
      "text/plain": [
       "     user_id  age  churn_date      city first_name last_name    reg_date  \\\n",
       "128     1128   51  2018-12-23  Волжский     Ксения    Агаева  2018-12-15   \n",
       "\n",
       "    tariff city_lowercase  \n",
       "128  ultra       волжский  "
      ]
     },
     "metadata": {},
     "output_type": "display_data"
    },
    {
     "data": {
      "text/html": [
       "<div>\n",
       "<style scoped>\n",
       "    .dataframe tbody tr th:only-of-type {\n",
       "        vertical-align: middle;\n",
       "    }\n",
       "\n",
       "    .dataframe tbody tr th {\n",
       "        vertical-align: top;\n",
       "    }\n",
       "\n",
       "    .dataframe thead th {\n",
       "        text-align: right;\n",
       "    }\n",
       "</style>\n",
       "<table border=\"1\" class=\"dataframe\">\n",
       "  <thead>\n",
       "    <tr style=\"text-align: right;\">\n",
       "      <th></th>\n",
       "      <th>user_id</th>\n",
       "      <th>age</th>\n",
       "      <th>churn_date</th>\n",
       "      <th>city</th>\n",
       "      <th>first_name</th>\n",
       "      <th>last_name</th>\n",
       "      <th>reg_date</th>\n",
       "      <th>tariff</th>\n",
       "      <th>city_lowercase</th>\n",
       "    </tr>\n",
       "  </thead>\n",
       "  <tbody>\n",
       "    <tr>\n",
       "      <th>371</th>\n",
       "      <td>1371</td>\n",
       "      <td>50</td>\n",
       "      <td>2018-12-30</td>\n",
       "      <td>Омск</td>\n",
       "      <td>Ириней</td>\n",
       "      <td>Трофимов</td>\n",
       "      <td>2018-12-25</td>\n",
       "      <td>smart</td>\n",
       "      <td>омск</td>\n",
       "    </tr>\n",
       "  </tbody>\n",
       "</table>\n",
       "</div>"
      ],
      "text/plain": [
       "     user_id  age  churn_date  city first_name last_name    reg_date tariff  \\\n",
       "371     1371   50  2018-12-30  Омск     Ириней  Трофимов  2018-12-25  smart   \n",
       "\n",
       "    city_lowercase  \n",
       "371           омск  "
      ]
     },
     "metadata": {},
     "output_type": "display_data"
    }
   ],
   "source": [
    "display(users_data.loc[users_data['user_id']==1128])\n",
    "display(users_data.loc[users_data['user_id']==1371])"
   ]
  },
  {
   "cell_type": "markdown",
   "metadata": {},
   "source": [
    "Видно что эти абоненты подключились в конце года, и видимо не успели воспользоваться телефоном"
   ]
  },
  {
   "cell_type": "markdown",
   "metadata": {},
   "source": [
    "Чтобы посчитать выручку (income) за месяц надо избавиться от пропусков NaN. \n",
    "Логично заполнить их нулями. \n",
    "Посмотрим сколько у нас пропусков в таблице abonents"
   ]
  },
  {
   "cell_type": "code",
   "execution_count": 33,
   "metadata": {},
   "outputs": [
    {
     "data": {
      "text/plain": [
       "user_id      0\n",
       "month        2\n",
       "calls       42\n",
       "min         42\n",
       "mes        499\n",
       "mb          13\n",
       "city         0\n",
       "tariff       0\n",
       "dtype: int64"
      ]
     },
     "execution_count": 33,
     "metadata": {},
     "output_type": "execute_result"
    }
   ],
   "source": [
    "abonents.isna().sum()"
   ]
  },
  {
   "cell_type": "code",
   "execution_count": 34,
   "metadata": {},
   "outputs": [
    {
     "data": {
      "text/html": [
       "<div>\n",
       "<style scoped>\n",
       "    .dataframe tbody tr th:only-of-type {\n",
       "        vertical-align: middle;\n",
       "    }\n",
       "\n",
       "    .dataframe tbody tr th {\n",
       "        vertical-align: top;\n",
       "    }\n",
       "\n",
       "    .dataframe thead th {\n",
       "        text-align: right;\n",
       "    }\n",
       "</style>\n",
       "<table border=\"1\" class=\"dataframe\">\n",
       "  <thead>\n",
       "    <tr style=\"text-align: right;\">\n",
       "      <th></th>\n",
       "      <th>user_id</th>\n",
       "      <th>month</th>\n",
       "      <th>calls</th>\n",
       "      <th>min</th>\n",
       "      <th>mes</th>\n",
       "      <th>mb</th>\n",
       "      <th>city</th>\n",
       "      <th>tariff</th>\n",
       "    </tr>\n",
       "  </thead>\n",
       "  <tbody>\n",
       "    <tr>\n",
       "      <th>3214</th>\n",
       "      <td>1128</td>\n",
       "      <td>NaN</td>\n",
       "      <td>NaN</td>\n",
       "      <td>NaN</td>\n",
       "      <td>NaN</td>\n",
       "      <td>NaN</td>\n",
       "      <td>Волжский</td>\n",
       "      <td>ultra</td>\n",
       "    </tr>\n",
       "    <tr>\n",
       "      <th>3215</th>\n",
       "      <td>1371</td>\n",
       "      <td>NaN</td>\n",
       "      <td>NaN</td>\n",
       "      <td>NaN</td>\n",
       "      <td>NaN</td>\n",
       "      <td>NaN</td>\n",
       "      <td>Омск</td>\n",
       "      <td>smart</td>\n",
       "    </tr>\n",
       "  </tbody>\n",
       "</table>\n",
       "</div>"
      ],
      "text/plain": [
       "      user_id  month  calls  min  mes  mb      city tariff\n",
       "3214     1128    NaN    NaN  NaN  NaN NaN  Волжский  ultra\n",
       "3215     1371    NaN    NaN  NaN  NaN NaN      Омск  smart"
      ]
     },
     "metadata": {},
     "output_type": "display_data"
    }
   ],
   "source": [
    "display(abonents[abonents['month'].isna()])"
   ]
  },
  {
   "cell_type": "markdown",
   "metadata": {},
   "source": [
    "Оказывается есть пропуски в столбце month. Это как раз те 2 абонента подключенных в конце года, поэтому \n",
    "ставим в столбце с месяцем 12 (декабрь) и будем считать, что выручка в декабре будет равна абонентской \n",
    "плате."
   ]
  },
  {
   "cell_type": "code",
   "execution_count": 35,
   "metadata": {},
   "outputs": [
    {
     "data": {
      "text/plain": [
       "user_id    0\n",
       "month      0\n",
       "calls      0\n",
       "min        0\n",
       "mes        0\n",
       "mb         0\n",
       "city       0\n",
       "tariff     0\n",
       "dtype: int64"
      ]
     },
     "execution_count": 35,
     "metadata": {},
     "output_type": "execute_result"
    }
   ],
   "source": [
    "abonents.loc[:,['calls', 'min', 'mes', 'mb']] = abonents.loc[:,['calls', 'min', 'mes', 'mb']].fillna(0)\n",
    "abonents.loc[:,['month']] = abonents.loc[:,['month']].fillna(12)\n",
    "abonents.isna().sum()"
   ]
  },
  {
   "cell_type": "markdown",
   "metadata": {},
   "source": [
    "### Cтолбец income \n",
    "Добавим новый столбец в таблицу abonents. Напишем функцию income_month, которая принимает строку, и возвращает значение выручки. Вычтем бесплатный лимит из суммарного количества звонков, сообщений и интернет-трафика; остаток умножим на значение из тарифного плана; прибавим абонентскую плату, соответствующую тарифному плану."
   ]
  },
  {
   "cell_type": "code",
   "execution_count": 36,
   "metadata": {},
   "outputs": [
    {
     "data": {
      "text/html": [
       "<div>\n",
       "<style scoped>\n",
       "    .dataframe tbody tr th:only-of-type {\n",
       "        vertical-align: middle;\n",
       "    }\n",
       "\n",
       "    .dataframe tbody tr th {\n",
       "        vertical-align: top;\n",
       "    }\n",
       "\n",
       "    .dataframe thead th {\n",
       "        text-align: right;\n",
       "    }\n",
       "</style>\n",
       "<table border=\"1\" class=\"dataframe\">\n",
       "  <thead>\n",
       "    <tr style=\"text-align: right;\">\n",
       "      <th></th>\n",
       "      <th>user_id</th>\n",
       "      <th>month</th>\n",
       "      <th>calls</th>\n",
       "      <th>min</th>\n",
       "      <th>mes</th>\n",
       "      <th>mb</th>\n",
       "      <th>city</th>\n",
       "      <th>tariff</th>\n",
       "      <th>income</th>\n",
       "    </tr>\n",
       "  </thead>\n",
       "  <tbody>\n",
       "    <tr>\n",
       "      <th>0</th>\n",
       "      <td>1000</td>\n",
       "      <td>5.0</td>\n",
       "      <td>22.0</td>\n",
       "      <td>159.0</td>\n",
       "      <td>22.0</td>\n",
       "      <td>2256.0</td>\n",
       "      <td>Краснодар</td>\n",
       "      <td>ultra</td>\n",
       "      <td>1950.0</td>\n",
       "    </tr>\n",
       "    <tr>\n",
       "      <th>1</th>\n",
       "      <td>1000</td>\n",
       "      <td>6.0</td>\n",
       "      <td>43.0</td>\n",
       "      <td>172.0</td>\n",
       "      <td>60.0</td>\n",
       "      <td>23257.0</td>\n",
       "      <td>Краснодар</td>\n",
       "      <td>ultra</td>\n",
       "      <td>1950.0</td>\n",
       "    </tr>\n",
       "    <tr>\n",
       "      <th>2</th>\n",
       "      <td>1000</td>\n",
       "      <td>7.0</td>\n",
       "      <td>47.0</td>\n",
       "      <td>340.0</td>\n",
       "      <td>75.0</td>\n",
       "      <td>14016.0</td>\n",
       "      <td>Краснодар</td>\n",
       "      <td>ultra</td>\n",
       "      <td>1950.0</td>\n",
       "    </tr>\n",
       "    <tr>\n",
       "      <th>3</th>\n",
       "      <td>1000</td>\n",
       "      <td>8.0</td>\n",
       "      <td>52.0</td>\n",
       "      <td>408.0</td>\n",
       "      <td>81.0</td>\n",
       "      <td>14070.0</td>\n",
       "      <td>Краснодар</td>\n",
       "      <td>ultra</td>\n",
       "      <td>1950.0</td>\n",
       "    </tr>\n",
       "    <tr>\n",
       "      <th>4</th>\n",
       "      <td>1000</td>\n",
       "      <td>9.0</td>\n",
       "      <td>58.0</td>\n",
       "      <td>466.0</td>\n",
       "      <td>57.0</td>\n",
       "      <td>14581.0</td>\n",
       "      <td>Краснодар</td>\n",
       "      <td>ultra</td>\n",
       "      <td>1950.0</td>\n",
       "    </tr>\n",
       "    <tr>\n",
       "      <th>...</th>\n",
       "      <td>...</td>\n",
       "      <td>...</td>\n",
       "      <td>...</td>\n",
       "      <td>...</td>\n",
       "      <td>...</td>\n",
       "      <td>...</td>\n",
       "      <td>...</td>\n",
       "      <td>...</td>\n",
       "      <td>...</td>\n",
       "    </tr>\n",
       "    <tr>\n",
       "      <th>3211</th>\n",
       "      <td>1489</td>\n",
       "      <td>10.0</td>\n",
       "      <td>0.0</td>\n",
       "      <td>0.0</td>\n",
       "      <td>21.0</td>\n",
       "      <td>19588.0</td>\n",
       "      <td>Санкт-Петербург</td>\n",
       "      <td>smart</td>\n",
       "      <td>1550.0</td>\n",
       "    </tr>\n",
       "    <tr>\n",
       "      <th>3212</th>\n",
       "      <td>1489</td>\n",
       "      <td>11.0</td>\n",
       "      <td>0.0</td>\n",
       "      <td>0.0</td>\n",
       "      <td>20.0</td>\n",
       "      <td>17516.0</td>\n",
       "      <td>Санкт-Петербург</td>\n",
       "      <td>smart</td>\n",
       "      <td>1150.0</td>\n",
       "    </tr>\n",
       "    <tr>\n",
       "      <th>3213</th>\n",
       "      <td>1489</td>\n",
       "      <td>12.0</td>\n",
       "      <td>0.0</td>\n",
       "      <td>0.0</td>\n",
       "      <td>35.0</td>\n",
       "      <td>17341.0</td>\n",
       "      <td>Санкт-Петербург</td>\n",
       "      <td>smart</td>\n",
       "      <td>950.0</td>\n",
       "    </tr>\n",
       "    <tr>\n",
       "      <th>3214</th>\n",
       "      <td>1128</td>\n",
       "      <td>12.0</td>\n",
       "      <td>0.0</td>\n",
       "      <td>0.0</td>\n",
       "      <td>0.0</td>\n",
       "      <td>0.0</td>\n",
       "      <td>Волжский</td>\n",
       "      <td>ultra</td>\n",
       "      <td>1950.0</td>\n",
       "    </tr>\n",
       "    <tr>\n",
       "      <th>3215</th>\n",
       "      <td>1371</td>\n",
       "      <td>12.0</td>\n",
       "      <td>0.0</td>\n",
       "      <td>0.0</td>\n",
       "      <td>0.0</td>\n",
       "      <td>0.0</td>\n",
       "      <td>Омск</td>\n",
       "      <td>smart</td>\n",
       "      <td>550.0</td>\n",
       "    </tr>\n",
       "  </tbody>\n",
       "</table>\n",
       "<p>3216 rows × 9 columns</p>\n",
       "</div>"
      ],
      "text/plain": [
       "      user_id  month  calls    min   mes       mb             city tariff  \\\n",
       "0        1000    5.0   22.0  159.0  22.0   2256.0        Краснодар  ultra   \n",
       "1        1000    6.0   43.0  172.0  60.0  23257.0        Краснодар  ultra   \n",
       "2        1000    7.0   47.0  340.0  75.0  14016.0        Краснодар  ultra   \n",
       "3        1000    8.0   52.0  408.0  81.0  14070.0        Краснодар  ultra   \n",
       "4        1000    9.0   58.0  466.0  57.0  14581.0        Краснодар  ultra   \n",
       "...       ...    ...    ...    ...   ...      ...              ...    ...   \n",
       "3211     1489   10.0    0.0    0.0  21.0  19588.0  Санкт-Петербург  smart   \n",
       "3212     1489   11.0    0.0    0.0  20.0  17516.0  Санкт-Петербург  smart   \n",
       "3213     1489   12.0    0.0    0.0  35.0  17341.0  Санкт-Петербург  smart   \n",
       "3214     1128   12.0    0.0    0.0   0.0      0.0         Волжский  ultra   \n",
       "3215     1371   12.0    0.0    0.0   0.0      0.0             Омск  smart   \n",
       "\n",
       "      income  \n",
       "0     1950.0  \n",
       "1     1950.0  \n",
       "2     1950.0  \n",
       "3     1950.0  \n",
       "4     1950.0  \n",
       "...      ...  \n",
       "3211  1550.0  \n",
       "3212  1150.0  \n",
       "3213   950.0  \n",
       "3214  1950.0  \n",
       "3215   550.0  \n",
       "\n",
       "[3216 rows x 9 columns]"
      ]
     },
     "metadata": {},
     "output_type": "display_data"
    }
   ],
   "source": [
    "def income_month(ab_month):\n",
    "        \n",
    "    if ab_month['tariff'] == 'smart':\n",
    "        \n",
    "        inc_calls = (ab_month['min'] - tariffs_data.loc[0,'minutes_included']) * tariffs_data.loc[0,'rub_per_minute']\n",
    "        if inc_calls < 0 :\n",
    "            inc_calls = 0\n",
    "        \n",
    "        inc_mess = (ab_month['mes'] - tariffs_data.loc[0,'messages_included']) * tariffs_data.loc[0,'rub_per_message']\n",
    "        if inc_mess < 0 :\n",
    "            inc_mess = 0\n",
    "        \n",
    "        # round_up(fl) - Функция округления в бОльшую сторону. Описывалась выше\n",
    "        inc_mb  = round_up((ab_month['mb'] - tariffs_data.loc[0,'mb_per_month_included'])/1024) * tariffs_data.loc[0,'rub_per_gb'] \n",
    "        if inc_mb < 0 :\n",
    "            inc_mb = 0\n",
    "             \n",
    "        inc = inc_calls + inc_mess + inc_mb + tariffs_data.loc[0,'rub_monthly_fee']\n",
    "        \n",
    "    elif ab_month['tariff'] == 'ultra':\n",
    "        \n",
    "        inc_calls = (ab_month['min'] - tariffs_data.loc[1,'minutes_included']) * tariffs_data.loc[1,'rub_per_minute']\n",
    "        if inc_calls < 0 :\n",
    "            inc_calls = 0\n",
    "        \n",
    "        inc_mess = (ab_month['mes'] - tariffs_data.loc[1,'messages_included']) * tariffs_data.loc[1,'rub_per_message']\n",
    "        if inc_mess < 0 :\n",
    "            inc_mess = 0\n",
    "        \n",
    "        inc_mb  = round_up((ab_month['mb'] - tariffs_data.loc[1,'mb_per_month_included'])/1024) * tariffs_data.loc[1,'rub_per_gb'] \n",
    "        if inc_mb < 0 :\n",
    "            inc_mb = 0\n",
    "             \n",
    "        inc = inc_calls + inc_mess + inc_mb + tariffs_data.loc[1,'rub_monthly_fee']\n",
    "        \n",
    "    else:\n",
    "        print('Неизвестный тариф :)) ')\n",
    "        \n",
    "\n",
    "    return inc\n",
    "\n",
    "abonents['income'] = abonents.apply(income_month, axis=1)\n",
    "\n",
    "display(abonents)"
   ]
  },
  {
   "cell_type": "markdown",
   "metadata": {},
   "source": [
    "В итоге был создан новый датафрейм abonents,\n",
    "в которую сгруппировали данные по каждому абоненту за каждый месяц пользования \n",
    "(попутно были созданы еще 3 вспомогательные таблицы). Заполнены образовавшиеся пропуски.\n",
    "Рассчитаны для анализа 4 столбца: min - минут/мес, mes - СМС/мес, mb - МБ/мес и income - выручка за месяц.\n",
    "Датафрейм готов для анализа."
   ]
  },
  {
   "cell_type": "markdown",
   "metadata": {},
   "source": [
    "## Анализ данных "
   ]
  },
  {
   "cell_type": "markdown",
   "metadata": {},
   "source": [
    "Требуется описать поведение клиентов оператора, исходя из выборки. \n",
    "Сколько минут разговора, сколько сообщений и какой объём интернет-трафика требуется пользователям каждого\n",
    "тарифа в месяц? \n",
    "Нужно посчитать среднее количество, дисперсию и стандартное отклонение. \n",
    "Построить гистограммы и описать распределения."
   ]
  },
  {
   "cell_type": "markdown",
   "metadata": {},
   "source": [
    "### Расчет помесячного расхода минут разговора, сообщений и объёма интернет-трафика для каждого тарифа.\n"
   ]
  },
  {
   "cell_type": "markdown",
   "metadata": {},
   "source": [
    "#### Расчет общих показателей всех клиентов по месяцам по обоим тарифам."
   ]
  },
  {
   "cell_type": "code",
   "execution_count": 37,
   "metadata": {},
   "outputs": [
    {
     "name": "stderr",
     "output_type": "stream",
     "text": [
      "/tmp/ipykernel_110/2615790949.py:1: FutureWarning: Indexing with multiple keys (implicitly converted to a tuple of keys) will be deprecated, use a list instead.\n",
      "  all_clients_month = abonents.groupby(['tariff', 'month'])['min', 'mes', 'mb', 'income'].sum().reset_index()\n"
     ]
    },
    {
     "data": {
      "text/html": [
       "<div>\n",
       "<style scoped>\n",
       "    .dataframe tbody tr th:only-of-type {\n",
       "        vertical-align: middle;\n",
       "    }\n",
       "\n",
       "    .dataframe tbody tr th {\n",
       "        vertical-align: top;\n",
       "    }\n",
       "\n",
       "    .dataframe thead th {\n",
       "        text-align: right;\n",
       "    }\n",
       "</style>\n",
       "<table border=\"1\" class=\"dataframe\">\n",
       "  <thead>\n",
       "    <tr style=\"text-align: right;\">\n",
       "      <th></th>\n",
       "      <th>tariff</th>\n",
       "      <th>month</th>\n",
       "      <th>min</th>\n",
       "      <th>mes</th>\n",
       "      <th>mb</th>\n",
       "      <th>income</th>\n",
       "    </tr>\n",
       "  </thead>\n",
       "  <tbody>\n",
       "    <tr>\n",
       "      <th>0</th>\n",
       "      <td>smart</td>\n",
       "      <td>1.0</td>\n",
       "      <td>6931.0</td>\n",
       "      <td>620.0</td>\n",
       "      <td>289831.0</td>\n",
       "      <td>24525.0</td>\n",
       "    </tr>\n",
       "    <tr>\n",
       "      <th>1</th>\n",
       "      <td>smart</td>\n",
       "      <td>2.0</td>\n",
       "      <td>17324.0</td>\n",
       "      <td>1397.0</td>\n",
       "      <td>673461.0</td>\n",
       "      <td>49001.0</td>\n",
       "    </tr>\n",
       "    <tr>\n",
       "      <th>2</th>\n",
       "      <td>smart</td>\n",
       "      <td>3.0</td>\n",
       "      <td>30034.0</td>\n",
       "      <td>2453.0</td>\n",
       "      <td>1164537.0</td>\n",
       "      <td>90476.0</td>\n",
       "    </tr>\n",
       "    <tr>\n",
       "      <th>3</th>\n",
       "      <td>smart</td>\n",
       "      <td>4.0</td>\n",
       "      <td>41119.0</td>\n",
       "      <td>3443.0</td>\n",
       "      <td>1509702.0</td>\n",
       "      <td>109866.0</td>\n",
       "    </tr>\n",
       "    <tr>\n",
       "      <th>4</th>\n",
       "      <td>smart</td>\n",
       "      <td>5.0</td>\n",
       "      <td>54618.0</td>\n",
       "      <td>4762.0</td>\n",
       "      <td>2231353.0</td>\n",
       "      <td>172049.0</td>\n",
       "    </tr>\n",
       "    <tr>\n",
       "      <th>5</th>\n",
       "      <td>smart</td>\n",
       "      <td>6.0</td>\n",
       "      <td>64885.0</td>\n",
       "      <td>5478.0</td>\n",
       "      <td>2593622.0</td>\n",
       "      <td>200259.0</td>\n",
       "    </tr>\n",
       "    <tr>\n",
       "      <th>6</th>\n",
       "      <td>smart</td>\n",
       "      <td>7.0</td>\n",
       "      <td>82079.0</td>\n",
       "      <td>6784.0</td>\n",
       "      <td>3168466.0</td>\n",
       "      <td>249614.0</td>\n",
       "    </tr>\n",
       "    <tr>\n",
       "      <th>7</th>\n",
       "      <td>smart</td>\n",
       "      <td>8.0</td>\n",
       "      <td>99045.0</td>\n",
       "      <td>7905.0</td>\n",
       "      <td>3908561.0</td>\n",
       "      <td>314940.0</td>\n",
       "    </tr>\n",
       "    <tr>\n",
       "      <th>8</th>\n",
       "      <td>smart</td>\n",
       "      <td>9.0</td>\n",
       "      <td>111439.0</td>\n",
       "      <td>8746.0</td>\n",
       "      <td>4244377.0</td>\n",
       "      <td>330386.0</td>\n",
       "    </tr>\n",
       "    <tr>\n",
       "      <th>9</th>\n",
       "      <td>smart</td>\n",
       "      <td>10.0</td>\n",
       "      <td>125284.0</td>\n",
       "      <td>9927.0</td>\n",
       "      <td>4932898.0</td>\n",
       "      <td>406067.0</td>\n",
       "    </tr>\n",
       "    <tr>\n",
       "      <th>10</th>\n",
       "      <td>smart</td>\n",
       "      <td>11.0</td>\n",
       "      <td>137544.0</td>\n",
       "      <td>10768.0</td>\n",
       "      <td>5345940.0</td>\n",
       "      <td>429803.0</td>\n",
       "    </tr>\n",
       "    <tr>\n",
       "      <th>11</th>\n",
       "      <td>smart</td>\n",
       "      <td>12.0</td>\n",
       "      <td>161275.0</td>\n",
       "      <td>12130.0</td>\n",
       "      <td>6112113.0</td>\n",
       "      <td>537515.0</td>\n",
       "    </tr>\n",
       "    <tr>\n",
       "      <th>12</th>\n",
       "      <td>ultra</td>\n",
       "      <td>1.0</td>\n",
       "      <td>3853.0</td>\n",
       "      <td>304.0</td>\n",
       "      <td>118382.0</td>\n",
       "      <td>17550.0</td>\n",
       "    </tr>\n",
       "    <tr>\n",
       "      <th>13</th>\n",
       "      <td>ultra</td>\n",
       "      <td>2.0</td>\n",
       "      <td>7131.0</td>\n",
       "      <td>527.0</td>\n",
       "      <td>282887.0</td>\n",
       "      <td>47400.0</td>\n",
       "    </tr>\n",
       "    <tr>\n",
       "      <th>14</th>\n",
       "      <td>ultra</td>\n",
       "      <td>3.0</td>\n",
       "      <td>18117.0</td>\n",
       "      <td>1195.0</td>\n",
       "      <td>649423.0</td>\n",
       "      <td>74550.0</td>\n",
       "    </tr>\n",
       "    <tr>\n",
       "      <th>15</th>\n",
       "      <td>ultra</td>\n",
       "      <td>4.0</td>\n",
       "      <td>25191.0</td>\n",
       "      <td>1736.0</td>\n",
       "      <td>926409.0</td>\n",
       "      <td>110400.0</td>\n",
       "    </tr>\n",
       "    <tr>\n",
       "      <th>16</th>\n",
       "      <td>ultra</td>\n",
       "      <td>5.0</td>\n",
       "      <td>34192.0</td>\n",
       "      <td>2536.0</td>\n",
       "      <td>1298540.0</td>\n",
       "      <td>138600.0</td>\n",
       "    </tr>\n",
       "    <tr>\n",
       "      <th>17</th>\n",
       "      <td>ultra</td>\n",
       "      <td>6.0</td>\n",
       "      <td>40295.0</td>\n",
       "      <td>3505.0</td>\n",
       "      <td>1591148.0</td>\n",
       "      <td>171450.0</td>\n",
       "    </tr>\n",
       "    <tr>\n",
       "      <th>18</th>\n",
       "      <td>ultra</td>\n",
       "      <td>7.0</td>\n",
       "      <td>49667.0</td>\n",
       "      <td>4536.0</td>\n",
       "      <td>1866833.0</td>\n",
       "      <td>193350.0</td>\n",
       "    </tr>\n",
       "    <tr>\n",
       "      <th>19</th>\n",
       "      <td>ultra</td>\n",
       "      <td>8.0</td>\n",
       "      <td>54653.0</td>\n",
       "      <td>5183.0</td>\n",
       "      <td>2096565.0</td>\n",
       "      <td>223350.0</td>\n",
       "    </tr>\n",
       "    <tr>\n",
       "      <th>20</th>\n",
       "      <td>ultra</td>\n",
       "      <td>9.0</td>\n",
       "      <td>62036.0</td>\n",
       "      <td>6013.0</td>\n",
       "      <td>2210554.0</td>\n",
       "      <td>232950.0</td>\n",
       "    </tr>\n",
       "    <tr>\n",
       "      <th>21</th>\n",
       "      <td>ultra</td>\n",
       "      <td>10.0</td>\n",
       "      <td>68644.0</td>\n",
       "      <td>7187.0</td>\n",
       "      <td>2467856.0</td>\n",
       "      <td>254700.0</td>\n",
       "    </tr>\n",
       "    <tr>\n",
       "      <th>22</th>\n",
       "      <td>ultra</td>\n",
       "      <td>11.0</td>\n",
       "      <td>72545.0</td>\n",
       "      <td>7476.0</td>\n",
       "      <td>2653912.0</td>\n",
       "      <td>280650.0</td>\n",
       "    </tr>\n",
       "    <tr>\n",
       "      <th>23</th>\n",
       "      <td>ultra</td>\n",
       "      <td>12.0</td>\n",
       "      <td>82400.0</td>\n",
       "      <td>8425.0</td>\n",
       "      <td>3032089.0</td>\n",
       "      <td>299700.0</td>\n",
       "    </tr>\n",
       "  </tbody>\n",
       "</table>\n",
       "</div>"
      ],
      "text/plain": [
       "   tariff  month       min      mes         mb    income\n",
       "0   smart    1.0    6931.0    620.0   289831.0   24525.0\n",
       "1   smart    2.0   17324.0   1397.0   673461.0   49001.0\n",
       "2   smart    3.0   30034.0   2453.0  1164537.0   90476.0\n",
       "3   smart    4.0   41119.0   3443.0  1509702.0  109866.0\n",
       "4   smart    5.0   54618.0   4762.0  2231353.0  172049.0\n",
       "5   smart    6.0   64885.0   5478.0  2593622.0  200259.0\n",
       "6   smart    7.0   82079.0   6784.0  3168466.0  249614.0\n",
       "7   smart    8.0   99045.0   7905.0  3908561.0  314940.0\n",
       "8   smart    9.0  111439.0   8746.0  4244377.0  330386.0\n",
       "9   smart   10.0  125284.0   9927.0  4932898.0  406067.0\n",
       "10  smart   11.0  137544.0  10768.0  5345940.0  429803.0\n",
       "11  smart   12.0  161275.0  12130.0  6112113.0  537515.0\n",
       "12  ultra    1.0    3853.0    304.0   118382.0   17550.0\n",
       "13  ultra    2.0    7131.0    527.0   282887.0   47400.0\n",
       "14  ultra    3.0   18117.0   1195.0   649423.0   74550.0\n",
       "15  ultra    4.0   25191.0   1736.0   926409.0  110400.0\n",
       "16  ultra    5.0   34192.0   2536.0  1298540.0  138600.0\n",
       "17  ultra    6.0   40295.0   3505.0  1591148.0  171450.0\n",
       "18  ultra    7.0   49667.0   4536.0  1866833.0  193350.0\n",
       "19  ultra    8.0   54653.0   5183.0  2096565.0  223350.0\n",
       "20  ultra    9.0   62036.0   6013.0  2210554.0  232950.0\n",
       "21  ultra   10.0   68644.0   7187.0  2467856.0  254700.0\n",
       "22  ultra   11.0   72545.0   7476.0  2653912.0  280650.0\n",
       "23  ultra   12.0   82400.0   8425.0  3032089.0  299700.0"
      ]
     },
     "execution_count": 37,
     "metadata": {},
     "output_type": "execute_result"
    }
   ],
   "source": [
    "all_clients_month = abonents.groupby(['tariff', 'month'])['min', 'mes', 'mb', 'income'].sum().reset_index()\n",
    "all_clients_month"
   ]
  },
  {
   "cell_type": "code",
   "execution_count": 38,
   "metadata": {},
   "outputs": [],
   "source": [
    "# для наглядности разобьем all_clients_month на 2 датафрейма по тарифу\n",
    "\n",
    "smart_all_clients_month = all_clients_month.query(' tariff==\"smart\" ')\n",
    "ultra_all_clients_month = all_clients_month.query(' tariff==\"ultra\" ').reset_index(drop=True)"
   ]
  },
  {
   "cell_type": "code",
   "execution_count": 39,
   "metadata": {},
   "outputs": [
    {
     "data": {
      "text/html": [
       "<div>\n",
       "<style scoped>\n",
       "    .dataframe tbody tr th:only-of-type {\n",
       "        vertical-align: middle;\n",
       "    }\n",
       "\n",
       "    .dataframe tbody tr th {\n",
       "        vertical-align: top;\n",
       "    }\n",
       "\n",
       "    .dataframe thead th {\n",
       "        text-align: right;\n",
       "    }\n",
       "</style>\n",
       "<table border=\"1\" class=\"dataframe\">\n",
       "  <thead>\n",
       "    <tr style=\"text-align: right;\">\n",
       "      <th></th>\n",
       "      <th>tariff</th>\n",
       "      <th>month</th>\n",
       "      <th>min</th>\n",
       "      <th>mes</th>\n",
       "      <th>mb</th>\n",
       "      <th>income</th>\n",
       "    </tr>\n",
       "  </thead>\n",
       "  <tbody>\n",
       "    <tr>\n",
       "      <th>0</th>\n",
       "      <td>smart</td>\n",
       "      <td>1.0</td>\n",
       "      <td>6931.0</td>\n",
       "      <td>620.0</td>\n",
       "      <td>289831.0</td>\n",
       "      <td>24525.0</td>\n",
       "    </tr>\n",
       "    <tr>\n",
       "      <th>1</th>\n",
       "      <td>smart</td>\n",
       "      <td>2.0</td>\n",
       "      <td>17324.0</td>\n",
       "      <td>1397.0</td>\n",
       "      <td>673461.0</td>\n",
       "      <td>49001.0</td>\n",
       "    </tr>\n",
       "    <tr>\n",
       "      <th>2</th>\n",
       "      <td>smart</td>\n",
       "      <td>3.0</td>\n",
       "      <td>30034.0</td>\n",
       "      <td>2453.0</td>\n",
       "      <td>1164537.0</td>\n",
       "      <td>90476.0</td>\n",
       "    </tr>\n",
       "    <tr>\n",
       "      <th>3</th>\n",
       "      <td>smart</td>\n",
       "      <td>4.0</td>\n",
       "      <td>41119.0</td>\n",
       "      <td>3443.0</td>\n",
       "      <td>1509702.0</td>\n",
       "      <td>109866.0</td>\n",
       "    </tr>\n",
       "    <tr>\n",
       "      <th>4</th>\n",
       "      <td>smart</td>\n",
       "      <td>5.0</td>\n",
       "      <td>54618.0</td>\n",
       "      <td>4762.0</td>\n",
       "      <td>2231353.0</td>\n",
       "      <td>172049.0</td>\n",
       "    </tr>\n",
       "    <tr>\n",
       "      <th>5</th>\n",
       "      <td>smart</td>\n",
       "      <td>6.0</td>\n",
       "      <td>64885.0</td>\n",
       "      <td>5478.0</td>\n",
       "      <td>2593622.0</td>\n",
       "      <td>200259.0</td>\n",
       "    </tr>\n",
       "    <tr>\n",
       "      <th>6</th>\n",
       "      <td>smart</td>\n",
       "      <td>7.0</td>\n",
       "      <td>82079.0</td>\n",
       "      <td>6784.0</td>\n",
       "      <td>3168466.0</td>\n",
       "      <td>249614.0</td>\n",
       "    </tr>\n",
       "    <tr>\n",
       "      <th>7</th>\n",
       "      <td>smart</td>\n",
       "      <td>8.0</td>\n",
       "      <td>99045.0</td>\n",
       "      <td>7905.0</td>\n",
       "      <td>3908561.0</td>\n",
       "      <td>314940.0</td>\n",
       "    </tr>\n",
       "    <tr>\n",
       "      <th>8</th>\n",
       "      <td>smart</td>\n",
       "      <td>9.0</td>\n",
       "      <td>111439.0</td>\n",
       "      <td>8746.0</td>\n",
       "      <td>4244377.0</td>\n",
       "      <td>330386.0</td>\n",
       "    </tr>\n",
       "    <tr>\n",
       "      <th>9</th>\n",
       "      <td>smart</td>\n",
       "      <td>10.0</td>\n",
       "      <td>125284.0</td>\n",
       "      <td>9927.0</td>\n",
       "      <td>4932898.0</td>\n",
       "      <td>406067.0</td>\n",
       "    </tr>\n",
       "    <tr>\n",
       "      <th>10</th>\n",
       "      <td>smart</td>\n",
       "      <td>11.0</td>\n",
       "      <td>137544.0</td>\n",
       "      <td>10768.0</td>\n",
       "      <td>5345940.0</td>\n",
       "      <td>429803.0</td>\n",
       "    </tr>\n",
       "    <tr>\n",
       "      <th>11</th>\n",
       "      <td>smart</td>\n",
       "      <td>12.0</td>\n",
       "      <td>161275.0</td>\n",
       "      <td>12130.0</td>\n",
       "      <td>6112113.0</td>\n",
       "      <td>537515.0</td>\n",
       "    </tr>\n",
       "  </tbody>\n",
       "</table>\n",
       "</div>"
      ],
      "text/plain": [
       "   tariff  month       min      mes         mb    income\n",
       "0   smart    1.0    6931.0    620.0   289831.0   24525.0\n",
       "1   smart    2.0   17324.0   1397.0   673461.0   49001.0\n",
       "2   smart    3.0   30034.0   2453.0  1164537.0   90476.0\n",
       "3   smart    4.0   41119.0   3443.0  1509702.0  109866.0\n",
       "4   smart    5.0   54618.0   4762.0  2231353.0  172049.0\n",
       "5   smart    6.0   64885.0   5478.0  2593622.0  200259.0\n",
       "6   smart    7.0   82079.0   6784.0  3168466.0  249614.0\n",
       "7   smart    8.0   99045.0   7905.0  3908561.0  314940.0\n",
       "8   smart    9.0  111439.0   8746.0  4244377.0  330386.0\n",
       "9   smart   10.0  125284.0   9927.0  4932898.0  406067.0\n",
       "10  smart   11.0  137544.0  10768.0  5345940.0  429803.0\n",
       "11  smart   12.0  161275.0  12130.0  6112113.0  537515.0"
      ]
     },
     "metadata": {},
     "output_type": "display_data"
    }
   ],
   "source": [
    "display(smart_all_clients_month)"
   ]
  },
  {
   "cell_type": "code",
   "execution_count": 40,
   "metadata": {},
   "outputs": [
    {
     "data": {
      "text/html": [
       "<div>\n",
       "<style scoped>\n",
       "    .dataframe tbody tr th:only-of-type {\n",
       "        vertical-align: middle;\n",
       "    }\n",
       "\n",
       "    .dataframe tbody tr th {\n",
       "        vertical-align: top;\n",
       "    }\n",
       "\n",
       "    .dataframe thead th {\n",
       "        text-align: right;\n",
       "    }\n",
       "</style>\n",
       "<table border=\"1\" class=\"dataframe\">\n",
       "  <thead>\n",
       "    <tr style=\"text-align: right;\">\n",
       "      <th></th>\n",
       "      <th>tariff</th>\n",
       "      <th>month</th>\n",
       "      <th>min</th>\n",
       "      <th>mes</th>\n",
       "      <th>mb</th>\n",
       "      <th>income</th>\n",
       "    </tr>\n",
       "  </thead>\n",
       "  <tbody>\n",
       "    <tr>\n",
       "      <th>0</th>\n",
       "      <td>ultra</td>\n",
       "      <td>1.0</td>\n",
       "      <td>3853.0</td>\n",
       "      <td>304.0</td>\n",
       "      <td>118382.0</td>\n",
       "      <td>17550.0</td>\n",
       "    </tr>\n",
       "    <tr>\n",
       "      <th>1</th>\n",
       "      <td>ultra</td>\n",
       "      <td>2.0</td>\n",
       "      <td>7131.0</td>\n",
       "      <td>527.0</td>\n",
       "      <td>282887.0</td>\n",
       "      <td>47400.0</td>\n",
       "    </tr>\n",
       "    <tr>\n",
       "      <th>2</th>\n",
       "      <td>ultra</td>\n",
       "      <td>3.0</td>\n",
       "      <td>18117.0</td>\n",
       "      <td>1195.0</td>\n",
       "      <td>649423.0</td>\n",
       "      <td>74550.0</td>\n",
       "    </tr>\n",
       "    <tr>\n",
       "      <th>3</th>\n",
       "      <td>ultra</td>\n",
       "      <td>4.0</td>\n",
       "      <td>25191.0</td>\n",
       "      <td>1736.0</td>\n",
       "      <td>926409.0</td>\n",
       "      <td>110400.0</td>\n",
       "    </tr>\n",
       "    <tr>\n",
       "      <th>4</th>\n",
       "      <td>ultra</td>\n",
       "      <td>5.0</td>\n",
       "      <td>34192.0</td>\n",
       "      <td>2536.0</td>\n",
       "      <td>1298540.0</td>\n",
       "      <td>138600.0</td>\n",
       "    </tr>\n",
       "    <tr>\n",
       "      <th>5</th>\n",
       "      <td>ultra</td>\n",
       "      <td>6.0</td>\n",
       "      <td>40295.0</td>\n",
       "      <td>3505.0</td>\n",
       "      <td>1591148.0</td>\n",
       "      <td>171450.0</td>\n",
       "    </tr>\n",
       "    <tr>\n",
       "      <th>6</th>\n",
       "      <td>ultra</td>\n",
       "      <td>7.0</td>\n",
       "      <td>49667.0</td>\n",
       "      <td>4536.0</td>\n",
       "      <td>1866833.0</td>\n",
       "      <td>193350.0</td>\n",
       "    </tr>\n",
       "    <tr>\n",
       "      <th>7</th>\n",
       "      <td>ultra</td>\n",
       "      <td>8.0</td>\n",
       "      <td>54653.0</td>\n",
       "      <td>5183.0</td>\n",
       "      <td>2096565.0</td>\n",
       "      <td>223350.0</td>\n",
       "    </tr>\n",
       "    <tr>\n",
       "      <th>8</th>\n",
       "      <td>ultra</td>\n",
       "      <td>9.0</td>\n",
       "      <td>62036.0</td>\n",
       "      <td>6013.0</td>\n",
       "      <td>2210554.0</td>\n",
       "      <td>232950.0</td>\n",
       "    </tr>\n",
       "    <tr>\n",
       "      <th>9</th>\n",
       "      <td>ultra</td>\n",
       "      <td>10.0</td>\n",
       "      <td>68644.0</td>\n",
       "      <td>7187.0</td>\n",
       "      <td>2467856.0</td>\n",
       "      <td>254700.0</td>\n",
       "    </tr>\n",
       "    <tr>\n",
       "      <th>10</th>\n",
       "      <td>ultra</td>\n",
       "      <td>11.0</td>\n",
       "      <td>72545.0</td>\n",
       "      <td>7476.0</td>\n",
       "      <td>2653912.0</td>\n",
       "      <td>280650.0</td>\n",
       "    </tr>\n",
       "    <tr>\n",
       "      <th>11</th>\n",
       "      <td>ultra</td>\n",
       "      <td>12.0</td>\n",
       "      <td>82400.0</td>\n",
       "      <td>8425.0</td>\n",
       "      <td>3032089.0</td>\n",
       "      <td>299700.0</td>\n",
       "    </tr>\n",
       "  </tbody>\n",
       "</table>\n",
       "</div>"
      ],
      "text/plain": [
       "   tariff  month      min     mes         mb    income\n",
       "0   ultra    1.0   3853.0   304.0   118382.0   17550.0\n",
       "1   ultra    2.0   7131.0   527.0   282887.0   47400.0\n",
       "2   ultra    3.0  18117.0  1195.0   649423.0   74550.0\n",
       "3   ultra    4.0  25191.0  1736.0   926409.0  110400.0\n",
       "4   ultra    5.0  34192.0  2536.0  1298540.0  138600.0\n",
       "5   ultra    6.0  40295.0  3505.0  1591148.0  171450.0\n",
       "6   ultra    7.0  49667.0  4536.0  1866833.0  193350.0\n",
       "7   ultra    8.0  54653.0  5183.0  2096565.0  223350.0\n",
       "8   ultra    9.0  62036.0  6013.0  2210554.0  232950.0\n",
       "9   ultra   10.0  68644.0  7187.0  2467856.0  254700.0\n",
       "10  ultra   11.0  72545.0  7476.0  2653912.0  280650.0\n",
       "11  ultra   12.0  82400.0  8425.0  3032089.0  299700.0"
      ]
     },
     "metadata": {},
     "output_type": "display_data"
    }
   ],
   "source": [
    "display(ultra_all_clients_month)"
   ]
  },
  {
   "cell_type": "code",
   "execution_count": 41,
   "metadata": {},
   "outputs": [
    {
     "data": {
      "image/png": "[encoded data removed]",
      "text/plain": [
       "<Figure size 864x360 with 1 Axes>"
      ]
     },
     "metadata": {
      "needs_background": "light"
     },
     "output_type": "display_data"
    },
    {
     "data": {
      "image/png": "[encoded data removed]",
      "text/plain": [
       "<Figure size 864x360 with 1 Axes>"
      ]
     },
     "metadata": {
      "needs_background": "light"
     },
     "output_type": "display_data"
    },
    {
     "data": {
      "image/png": "[encoded data removed]",
      "text/plain": [
       "<Figure size 864x360 with 1 Axes>"
      ]
     },
     "metadata": {
      "needs_background": "light"
     },
     "output_type": "display_data"
    },
    {
     "data": {
      "image/png": "[encoded data removed]",
      "text/plain": [
       "<Figure size 864x360 with 1 Axes>"
      ]
     },
     "metadata": {
      "needs_background": "light"
     },
     "output_type": "display_data"
    }
   ],
   "source": [
    "for param in ['min', 'mes', 'mb','income']:\n",
    "    plt.figure(figsize=(12, 5))\n",
    "    plt.bar(smart_all_clients_month['month'], smart_all_clients_month[param], label='smart', color='g', alpha=0.5, width=0.5)\n",
    "    plt.bar(ultra_all_clients_month['month'], ultra_all_clients_month[param], label='ultra', color='b', alpha=0.5)\n",
    "\n",
    "    plt.xlabel('month')\n",
    "    plt.ylabel(param)\n",
    "    plt.grid()\n",
    "    plt.title(f'Кол-во {param} всех клиентов по месяцам для 2 тарифов')\n",
    "    plt.legend()\n",
    "    plt.show();"
   ]
  },
  {
   "cell_type": "markdown",
   "metadata": {},
   "source": [
    "Дополнительно посмотрим сколько абонентов у каждого тарифа"
   ]
  },
  {
   "cell_type": "code",
   "execution_count": 42,
   "metadata": {},
   "outputs": [
    {
     "data": {
      "text/plain": [
       "smart    351\n",
       "ultra    149\n",
       "Name: tariff, dtype: int64"
      ]
     },
     "execution_count": 42,
     "metadata": {},
     "output_type": "execute_result"
    }
   ],
   "source": [
    "users_data.tariff.value_counts()"
   ]
  },
  {
   "cell_type": "markdown",
   "metadata": {},
   "source": [
    "Из графиков очевидно, что общий расход минут, сообщений, интернет траффика всех абонентов \n",
    "тарифа 'smart' стабильно больше чем 'ultra' на 40-90%, но и абонентов у 'smart' в 2 с лишним раза больше,\n",
    "чем у 'ultra'. По выручке income надо отметить что : в первой половине года абоненты обоих тарифов \n",
    "приносят почти одинаковые суммы, а во второй - абоненты smart с каждым месяцем приносят выручки \n",
    "все больше и больше вплоть до декабря, где выручка уже почти в 2 раза больше, чем от тарифа ultra. \n",
    "По всем графикам видно, что гистограммы постоянно возрастают от меcяца к месяцу - это показывает \n",
    "новый приток абонентов каждый месяц. Поэтому логично будет посчитать усредненные показатели расхода \n",
    "на одного абонента за каждый месяц и уже тогда сравнить тарифы."
   ]
  },
  {
   "cell_type": "markdown",
   "metadata": {},
   "source": [
    "#### Расчет медианных показателей клиента по месяцам по обоим тарифам."
   ]
  },
  {
   "cell_type": "code",
   "execution_count": 43,
   "metadata": {},
   "outputs": [
    {
     "data": {
      "image/png": "[encoded data removed]",
      "text/plain": [
       "<Figure size 1152x576 with 4 Axes>"
      ]
     },
     "metadata": {
      "needs_background": "light"
     },
     "output_type": "display_data"
    }
   ],
   "source": [
    "fig, (ax1, ax2, ax3, ax4) = plt.subplots(nrows=1, ncols=4, figsize=(16, 8))\n",
    "\n",
    "p = {ax1:'min', ax2:'mes', ax3:'mb', ax4:'income'}\n",
    "for ax in [ax1, ax2, ax3, ax4]:\n",
    "    ax.boxplot(abonents[p[ax]])\n",
    "    ax.grid()\n",
    "    ax.set_title(p[ax])\n",
    "\n",
    "fig.autofmt_xdate()"
   ]
  },
  {
   "cell_type": "markdown",
   "metadata": {},
   "source": [
    "Сильных выбросов нет, вполне адекватные числа, поэтому для вычисления усредненных значений можно использовать и среднее и медиану. Выберем медиану.\n",
    "\n",
    "Сгруппируем и создадим новую таблицу tar - с общими данными по тарифам"
   ]
  },
  {
   "cell_type": "code",
   "execution_count": 44,
   "metadata": {},
   "outputs": [
    {
     "name": "stderr",
     "output_type": "stream",
     "text": [
      "/tmp/ipykernel_110/1079697929.py:1: FutureWarning: Indexing with multiple keys (implicitly converted to a tuple of keys) will be deprecated, use a list instead.\n",
      "  tar = abonents.groupby(['tariff', 'month'])['min', 'mes', 'mb','income'].mean().reset_index()\n"
     ]
    },
    {
     "data": {
      "text/html": [
       "<div>\n",
       "<style scoped>\n",
       "    .dataframe tbody tr th:only-of-type {\n",
       "        vertical-align: middle;\n",
       "    }\n",
       "\n",
       "    .dataframe tbody tr th {\n",
       "        vertical-align: top;\n",
       "    }\n",
       "\n",
       "    .dataframe thead th {\n",
       "        text-align: right;\n",
       "    }\n",
       "</style>\n",
       "<table border=\"1\" class=\"dataframe\">\n",
       "  <thead>\n",
       "    <tr style=\"text-align: right;\">\n",
       "      <th></th>\n",
       "      <th>tariff</th>\n",
       "      <th>month</th>\n",
       "      <th>min</th>\n",
       "      <th>mes</th>\n",
       "      <th>mb</th>\n",
       "      <th>income</th>\n",
       "    </tr>\n",
       "  </thead>\n",
       "  <tbody>\n",
       "    <tr>\n",
       "      <th>0</th>\n",
       "      <td>smart</td>\n",
       "      <td>1.0</td>\n",
       "      <td>203.852941</td>\n",
       "      <td>18.235294</td>\n",
       "      <td>8524.441176</td>\n",
       "      <td>721.323529</td>\n",
       "    </tr>\n",
       "    <tr>\n",
       "      <th>1</th>\n",
       "      <td>smart</td>\n",
       "      <td>2.0</td>\n",
       "      <td>298.689655</td>\n",
       "      <td>24.086207</td>\n",
       "      <td>11611.396552</td>\n",
       "      <td>844.844828</td>\n",
       "    </tr>\n",
       "    <tr>\n",
       "      <th>2</th>\n",
       "      <td>smart</td>\n",
       "      <td>3.0</td>\n",
       "      <td>390.051948</td>\n",
       "      <td>31.857143</td>\n",
       "      <td>15123.857143</td>\n",
       "      <td>1175.012987</td>\n",
       "    </tr>\n",
       "    <tr>\n",
       "      <th>3</th>\n",
       "      <td>smart</td>\n",
       "      <td>4.0</td>\n",
       "      <td>367.133929</td>\n",
       "      <td>30.741071</td>\n",
       "      <td>13479.482143</td>\n",
       "      <td>980.946429</td>\n",
       "    </tr>\n",
       "    <tr>\n",
       "      <th>4</th>\n",
       "      <td>smart</td>\n",
       "      <td>5.0</td>\n",
       "      <td>387.361702</td>\n",
       "      <td>33.773050</td>\n",
       "      <td>15825.198582</td>\n",
       "      <td>1220.205674</td>\n",
       "    </tr>\n",
       "    <tr>\n",
       "      <th>5</th>\n",
       "      <td>smart</td>\n",
       "      <td>6.0</td>\n",
       "      <td>395.640244</td>\n",
       "      <td>33.402439</td>\n",
       "      <td>15814.768293</td>\n",
       "      <td>1221.091463</td>\n",
       "    </tr>\n",
       "    <tr>\n",
       "      <th>6</th>\n",
       "      <td>smart</td>\n",
       "      <td>7.0</td>\n",
       "      <td>408.353234</td>\n",
       "      <td>33.751244</td>\n",
       "      <td>15763.512438</td>\n",
       "      <td>1241.860697</td>\n",
       "    </tr>\n",
       "    <tr>\n",
       "      <th>7</th>\n",
       "      <td>smart</td>\n",
       "      <td>8.0</td>\n",
       "      <td>421.468085</td>\n",
       "      <td>33.638298</td>\n",
       "      <td>16632.174468</td>\n",
       "      <td>1340.170213</td>\n",
       "    </tr>\n",
       "    <tr>\n",
       "      <th>8</th>\n",
       "      <td>smart</td>\n",
       "      <td>9.0</td>\n",
       "      <td>428.611538</td>\n",
       "      <td>33.638462</td>\n",
       "      <td>16324.526923</td>\n",
       "      <td>1270.715385</td>\n",
       "    </tr>\n",
       "    <tr>\n",
       "      <th>9</th>\n",
       "      <td>smart</td>\n",
       "      <td>10.0</td>\n",
       "      <td>426.136054</td>\n",
       "      <td>33.765306</td>\n",
       "      <td>16778.564626</td>\n",
       "      <td>1381.180272</td>\n",
       "    </tr>\n",
       "    <tr>\n",
       "      <th>10</th>\n",
       "      <td>smart</td>\n",
       "      <td>11.0</td>\n",
       "      <td>435.265823</td>\n",
       "      <td>34.075949</td>\n",
       "      <td>16917.531646</td>\n",
       "      <td>1360.136076</td>\n",
       "    </tr>\n",
       "    <tr>\n",
       "      <th>11</th>\n",
       "      <td>smart</td>\n",
       "      <td>12.0</td>\n",
       "      <td>477.144970</td>\n",
       "      <td>35.887574</td>\n",
       "      <td>18083.174556</td>\n",
       "      <td>1590.281065</td>\n",
       "    </tr>\n",
       "    <tr>\n",
       "      <th>12</th>\n",
       "      <td>ultra</td>\n",
       "      <td>1.0</td>\n",
       "      <td>428.111111</td>\n",
       "      <td>33.777778</td>\n",
       "      <td>13153.555556</td>\n",
       "      <td>1950.000000</td>\n",
       "    </tr>\n",
       "    <tr>\n",
       "      <th>13</th>\n",
       "      <td>ultra</td>\n",
       "      <td>2.0</td>\n",
       "      <td>297.125000</td>\n",
       "      <td>21.958333</td>\n",
       "      <td>11786.958333</td>\n",
       "      <td>1975.000000</td>\n",
       "    </tr>\n",
       "    <tr>\n",
       "      <th>14</th>\n",
       "      <td>ultra</td>\n",
       "      <td>3.0</td>\n",
       "      <td>489.648649</td>\n",
       "      <td>32.297297</td>\n",
       "      <td>17551.972973</td>\n",
       "      <td>2014.864865</td>\n",
       "    </tr>\n",
       "    <tr>\n",
       "      <th>15</th>\n",
       "      <td>ultra</td>\n",
       "      <td>4.0</td>\n",
       "      <td>458.018182</td>\n",
       "      <td>31.563636</td>\n",
       "      <td>16843.800000</td>\n",
       "      <td>2007.272727</td>\n",
       "    </tr>\n",
       "    <tr>\n",
       "      <th>16</th>\n",
       "      <td>ultra</td>\n",
       "      <td>5.0</td>\n",
       "      <td>510.328358</td>\n",
       "      <td>37.850746</td>\n",
       "      <td>19381.194030</td>\n",
       "      <td>2068.656716</td>\n",
       "    </tr>\n",
       "    <tr>\n",
       "      <th>17</th>\n",
       "      <td>ultra</td>\n",
       "      <td>6.0</td>\n",
       "      <td>479.702381</td>\n",
       "      <td>41.726190</td>\n",
       "      <td>18942.238095</td>\n",
       "      <td>2041.071429</td>\n",
       "    </tr>\n",
       "    <tr>\n",
       "      <th>18</th>\n",
       "      <td>ultra</td>\n",
       "      <td>7.0</td>\n",
       "      <td>545.791209</td>\n",
       "      <td>49.846154</td>\n",
       "      <td>20514.648352</td>\n",
       "      <td>2124.725275</td>\n",
       "    </tr>\n",
       "    <tr>\n",
       "      <th>19</th>\n",
       "      <td>ultra</td>\n",
       "      <td>8.0</td>\n",
       "      <td>510.775701</td>\n",
       "      <td>48.439252</td>\n",
       "      <td>19594.065421</td>\n",
       "      <td>2087.383178</td>\n",
       "    </tr>\n",
       "    <tr>\n",
       "      <th>20</th>\n",
       "      <td>ultra</td>\n",
       "      <td>9.0</td>\n",
       "      <td>539.443478</td>\n",
       "      <td>52.286957</td>\n",
       "      <td>19222.208696</td>\n",
       "      <td>2025.652174</td>\n",
       "    </tr>\n",
       "    <tr>\n",
       "      <th>21</th>\n",
       "      <td>ultra</td>\n",
       "      <td>10.0</td>\n",
       "      <td>558.081301</td>\n",
       "      <td>58.430894</td>\n",
       "      <td>20063.869919</td>\n",
       "      <td>2070.731707</td>\n",
       "    </tr>\n",
       "    <tr>\n",
       "      <th>22</th>\n",
       "      <td>ultra</td>\n",
       "      <td>11.0</td>\n",
       "      <td>541.380597</td>\n",
       "      <td>55.791045</td>\n",
       "      <td>19805.313433</td>\n",
       "      <td>2094.402985</td>\n",
       "    </tr>\n",
       "    <tr>\n",
       "      <th>23</th>\n",
       "      <td>ultra</td>\n",
       "      <td>12.0</td>\n",
       "      <td>588.571429</td>\n",
       "      <td>60.178571</td>\n",
       "      <td>21657.778571</td>\n",
       "      <td>2140.714286</td>\n",
       "    </tr>\n",
       "  </tbody>\n",
       "</table>\n",
       "</div>"
      ],
      "text/plain": [
       "   tariff  month         min        mes            mb       income\n",
       "0   smart    1.0  203.852941  18.235294   8524.441176   721.323529\n",
       "1   smart    2.0  298.689655  24.086207  11611.396552   844.844828\n",
       "2   smart    3.0  390.051948  31.857143  15123.857143  1175.012987\n",
       "3   smart    4.0  367.133929  30.741071  13479.482143   980.946429\n",
       "4   smart    5.0  387.361702  33.773050  15825.198582  1220.205674\n",
       "5   smart    6.0  395.640244  33.402439  15814.768293  1221.091463\n",
       "6   smart    7.0  408.353234  33.751244  15763.512438  1241.860697\n",
       "7   smart    8.0  421.468085  33.638298  16632.174468  1340.170213\n",
       "8   smart    9.0  428.611538  33.638462  16324.526923  1270.715385\n",
       "9   smart   10.0  426.136054  33.765306  16778.564626  1381.180272\n",
       "10  smart   11.0  435.265823  34.075949  16917.531646  1360.136076\n",
       "11  smart   12.0  477.144970  35.887574  18083.174556  1590.281065\n",
       "12  ultra    1.0  428.111111  33.777778  13153.555556  1950.000000\n",
       "13  ultra    2.0  297.125000  21.958333  11786.958333  1975.000000\n",
       "14  ultra    3.0  489.648649  32.297297  17551.972973  2014.864865\n",
       "15  ultra    4.0  458.018182  31.563636  16843.800000  2007.272727\n",
       "16  ultra    5.0  510.328358  37.850746  19381.194030  2068.656716\n",
       "17  ultra    6.0  479.702381  41.726190  18942.238095  2041.071429\n",
       "18  ultra    7.0  545.791209  49.846154  20514.648352  2124.725275\n",
       "19  ultra    8.0  510.775701  48.439252  19594.065421  2087.383178\n",
       "20  ultra    9.0  539.443478  52.286957  19222.208696  2025.652174\n",
       "21  ultra   10.0  558.081301  58.430894  20063.869919  2070.731707\n",
       "22  ultra   11.0  541.380597  55.791045  19805.313433  2094.402985\n",
       "23  ultra   12.0  588.571429  60.178571  21657.778571  2140.714286"
      ]
     },
     "metadata": {},
     "output_type": "display_data"
    }
   ],
   "source": [
    "tar = abonents.groupby(['tariff', 'month'])['min', 'mes', 'mb','income'].mean().reset_index()\n",
    "display(tar)"
   ]
  },
  {
   "cell_type": "markdown",
   "metadata": {},
   "source": [
    "Теперь разделим новую таблицу на две smart и ultra - по каждому тарифу"
   ]
  },
  {
   "cell_type": "code",
   "execution_count": 45,
   "metadata": {},
   "outputs": [
    {
     "data": {
      "text/html": [
       "<div>\n",
       "<style scoped>\n",
       "    .dataframe tbody tr th:only-of-type {\n",
       "        vertical-align: middle;\n",
       "    }\n",
       "\n",
       "    .dataframe tbody tr th {\n",
       "        vertical-align: top;\n",
       "    }\n",
       "\n",
       "    .dataframe thead th {\n",
       "        text-align: right;\n",
       "    }\n",
       "</style>\n",
       "<table border=\"1\" class=\"dataframe\">\n",
       "  <thead>\n",
       "    <tr style=\"text-align: right;\">\n",
       "      <th></th>\n",
       "      <th>tariff</th>\n",
       "      <th>month</th>\n",
       "      <th>min</th>\n",
       "      <th>mes</th>\n",
       "      <th>mb</th>\n",
       "      <th>income</th>\n",
       "    </tr>\n",
       "  </thead>\n",
       "  <tbody>\n",
       "    <tr>\n",
       "      <th>0</th>\n",
       "      <td>smart</td>\n",
       "      <td>1.0</td>\n",
       "      <td>203.852941</td>\n",
       "      <td>18.235294</td>\n",
       "      <td>8524.441176</td>\n",
       "      <td>721.323529</td>\n",
       "    </tr>\n",
       "    <tr>\n",
       "      <th>1</th>\n",
       "      <td>smart</td>\n",
       "      <td>2.0</td>\n",
       "      <td>298.689655</td>\n",
       "      <td>24.086207</td>\n",
       "      <td>11611.396552</td>\n",
       "      <td>844.844828</td>\n",
       "    </tr>\n",
       "    <tr>\n",
       "      <th>2</th>\n",
       "      <td>smart</td>\n",
       "      <td>3.0</td>\n",
       "      <td>390.051948</td>\n",
       "      <td>31.857143</td>\n",
       "      <td>15123.857143</td>\n",
       "      <td>1175.012987</td>\n",
       "    </tr>\n",
       "    <tr>\n",
       "      <th>3</th>\n",
       "      <td>smart</td>\n",
       "      <td>4.0</td>\n",
       "      <td>367.133929</td>\n",
       "      <td>30.741071</td>\n",
       "      <td>13479.482143</td>\n",
       "      <td>980.946429</td>\n",
       "    </tr>\n",
       "    <tr>\n",
       "      <th>4</th>\n",
       "      <td>smart</td>\n",
       "      <td>5.0</td>\n",
       "      <td>387.361702</td>\n",
       "      <td>33.773050</td>\n",
       "      <td>15825.198582</td>\n",
       "      <td>1220.205674</td>\n",
       "    </tr>\n",
       "    <tr>\n",
       "      <th>5</th>\n",
       "      <td>smart</td>\n",
       "      <td>6.0</td>\n",
       "      <td>395.640244</td>\n",
       "      <td>33.402439</td>\n",
       "      <td>15814.768293</td>\n",
       "      <td>1221.091463</td>\n",
       "    </tr>\n",
       "    <tr>\n",
       "      <th>6</th>\n",
       "      <td>smart</td>\n",
       "      <td>7.0</td>\n",
       "      <td>408.353234</td>\n",
       "      <td>33.751244</td>\n",
       "      <td>15763.512438</td>\n",
       "      <td>1241.860697</td>\n",
       "    </tr>\n",
       "    <tr>\n",
       "      <th>7</th>\n",
       "      <td>smart</td>\n",
       "      <td>8.0</td>\n",
       "      <td>421.468085</td>\n",
       "      <td>33.638298</td>\n",
       "      <td>16632.174468</td>\n",
       "      <td>1340.170213</td>\n",
       "    </tr>\n",
       "    <tr>\n",
       "      <th>8</th>\n",
       "      <td>smart</td>\n",
       "      <td>9.0</td>\n",
       "      <td>428.611538</td>\n",
       "      <td>33.638462</td>\n",
       "      <td>16324.526923</td>\n",
       "      <td>1270.715385</td>\n",
       "    </tr>\n",
       "    <tr>\n",
       "      <th>9</th>\n",
       "      <td>smart</td>\n",
       "      <td>10.0</td>\n",
       "      <td>426.136054</td>\n",
       "      <td>33.765306</td>\n",
       "      <td>16778.564626</td>\n",
       "      <td>1381.180272</td>\n",
       "    </tr>\n",
       "    <tr>\n",
       "      <th>10</th>\n",
       "      <td>smart</td>\n",
       "      <td>11.0</td>\n",
       "      <td>435.265823</td>\n",
       "      <td>34.075949</td>\n",
       "      <td>16917.531646</td>\n",
       "      <td>1360.136076</td>\n",
       "    </tr>\n",
       "    <tr>\n",
       "      <th>11</th>\n",
       "      <td>smart</td>\n",
       "      <td>12.0</td>\n",
       "      <td>477.144970</td>\n",
       "      <td>35.887574</td>\n",
       "      <td>18083.174556</td>\n",
       "      <td>1590.281065</td>\n",
       "    </tr>\n",
       "  </tbody>\n",
       "</table>\n",
       "</div>"
      ],
      "text/plain": [
       "   tariff  month         min        mes            mb       income\n",
       "0   smart    1.0  203.852941  18.235294   8524.441176   721.323529\n",
       "1   smart    2.0  298.689655  24.086207  11611.396552   844.844828\n",
       "2   smart    3.0  390.051948  31.857143  15123.857143  1175.012987\n",
       "3   smart    4.0  367.133929  30.741071  13479.482143   980.946429\n",
       "4   smart    5.0  387.361702  33.773050  15825.198582  1220.205674\n",
       "5   smart    6.0  395.640244  33.402439  15814.768293  1221.091463\n",
       "6   smart    7.0  408.353234  33.751244  15763.512438  1241.860697\n",
       "7   smart    8.0  421.468085  33.638298  16632.174468  1340.170213\n",
       "8   smart    9.0  428.611538  33.638462  16324.526923  1270.715385\n",
       "9   smart   10.0  426.136054  33.765306  16778.564626  1381.180272\n",
       "10  smart   11.0  435.265823  34.075949  16917.531646  1360.136076\n",
       "11  smart   12.0  477.144970  35.887574  18083.174556  1590.281065"
      ]
     },
     "metadata": {},
     "output_type": "display_data"
    },
    {
     "data": {
      "text/html": [
       "<div>\n",
       "<style scoped>\n",
       "    .dataframe tbody tr th:only-of-type {\n",
       "        vertical-align: middle;\n",
       "    }\n",
       "\n",
       "    .dataframe tbody tr th {\n",
       "        vertical-align: top;\n",
       "    }\n",
       "\n",
       "    .dataframe thead th {\n",
       "        text-align: right;\n",
       "    }\n",
       "</style>\n",
       "<table border=\"1\" class=\"dataframe\">\n",
       "  <thead>\n",
       "    <tr style=\"text-align: right;\">\n",
       "      <th></th>\n",
       "      <th>tariff</th>\n",
       "      <th>month</th>\n",
       "      <th>min</th>\n",
       "      <th>mes</th>\n",
       "      <th>mb</th>\n",
       "      <th>income</th>\n",
       "    </tr>\n",
       "  </thead>\n",
       "  <tbody>\n",
       "    <tr>\n",
       "      <th>12</th>\n",
       "      <td>ultra</td>\n",
       "      <td>1.0</td>\n",
       "      <td>428.111111</td>\n",
       "      <td>33.777778</td>\n",
       "      <td>13153.555556</td>\n",
       "      <td>1950.000000</td>\n",
       "    </tr>\n",
       "    <tr>\n",
       "      <th>13</th>\n",
       "      <td>ultra</td>\n",
       "      <td>2.0</td>\n",
       "      <td>297.125000</td>\n",
       "      <td>21.958333</td>\n",
       "      <td>11786.958333</td>\n",
       "      <td>1975.000000</td>\n",
       "    </tr>\n",
       "    <tr>\n",
       "      <th>14</th>\n",
       "      <td>ultra</td>\n",
       "      <td>3.0</td>\n",
       "      <td>489.648649</td>\n",
       "      <td>32.297297</td>\n",
       "      <td>17551.972973</td>\n",
       "      <td>2014.864865</td>\n",
       "    </tr>\n",
       "    <tr>\n",
       "      <th>15</th>\n",
       "      <td>ultra</td>\n",
       "      <td>4.0</td>\n",
       "      <td>458.018182</td>\n",
       "      <td>31.563636</td>\n",
       "      <td>16843.800000</td>\n",
       "      <td>2007.272727</td>\n",
       "    </tr>\n",
       "    <tr>\n",
       "      <th>16</th>\n",
       "      <td>ultra</td>\n",
       "      <td>5.0</td>\n",
       "      <td>510.328358</td>\n",
       "      <td>37.850746</td>\n",
       "      <td>19381.194030</td>\n",
       "      <td>2068.656716</td>\n",
       "    </tr>\n",
       "    <tr>\n",
       "      <th>17</th>\n",
       "      <td>ultra</td>\n",
       "      <td>6.0</td>\n",
       "      <td>479.702381</td>\n",
       "      <td>41.726190</td>\n",
       "      <td>18942.238095</td>\n",
       "      <td>2041.071429</td>\n",
       "    </tr>\n",
       "    <tr>\n",
       "      <th>18</th>\n",
       "      <td>ultra</td>\n",
       "      <td>7.0</td>\n",
       "      <td>545.791209</td>\n",
       "      <td>49.846154</td>\n",
       "      <td>20514.648352</td>\n",
       "      <td>2124.725275</td>\n",
       "    </tr>\n",
       "    <tr>\n",
       "      <th>19</th>\n",
       "      <td>ultra</td>\n",
       "      <td>8.0</td>\n",
       "      <td>510.775701</td>\n",
       "      <td>48.439252</td>\n",
       "      <td>19594.065421</td>\n",
       "      <td>2087.383178</td>\n",
       "    </tr>\n",
       "    <tr>\n",
       "      <th>20</th>\n",
       "      <td>ultra</td>\n",
       "      <td>9.0</td>\n",
       "      <td>539.443478</td>\n",
       "      <td>52.286957</td>\n",
       "      <td>19222.208696</td>\n",
       "      <td>2025.652174</td>\n",
       "    </tr>\n",
       "    <tr>\n",
       "      <th>21</th>\n",
       "      <td>ultra</td>\n",
       "      <td>10.0</td>\n",
       "      <td>558.081301</td>\n",
       "      <td>58.430894</td>\n",
       "      <td>20063.869919</td>\n",
       "      <td>2070.731707</td>\n",
       "    </tr>\n",
       "    <tr>\n",
       "      <th>22</th>\n",
       "      <td>ultra</td>\n",
       "      <td>11.0</td>\n",
       "      <td>541.380597</td>\n",
       "      <td>55.791045</td>\n",
       "      <td>19805.313433</td>\n",
       "      <td>2094.402985</td>\n",
       "    </tr>\n",
       "    <tr>\n",
       "      <th>23</th>\n",
       "      <td>ultra</td>\n",
       "      <td>12.0</td>\n",
       "      <td>588.571429</td>\n",
       "      <td>60.178571</td>\n",
       "      <td>21657.778571</td>\n",
       "      <td>2140.714286</td>\n",
       "    </tr>\n",
       "  </tbody>\n",
       "</table>\n",
       "</div>"
      ],
      "text/plain": [
       "   tariff  month         min        mes            mb       income\n",
       "12  ultra    1.0  428.111111  33.777778  13153.555556  1950.000000\n",
       "13  ultra    2.0  297.125000  21.958333  11786.958333  1975.000000\n",
       "14  ultra    3.0  489.648649  32.297297  17551.972973  2014.864865\n",
       "15  ultra    4.0  458.018182  31.563636  16843.800000  2007.272727\n",
       "16  ultra    5.0  510.328358  37.850746  19381.194030  2068.656716\n",
       "17  ultra    6.0  479.702381  41.726190  18942.238095  2041.071429\n",
       "18  ultra    7.0  545.791209  49.846154  20514.648352  2124.725275\n",
       "19  ultra    8.0  510.775701  48.439252  19594.065421  2087.383178\n",
       "20  ultra    9.0  539.443478  52.286957  19222.208696  2025.652174\n",
       "21  ultra   10.0  558.081301  58.430894  20063.869919  2070.731707\n",
       "22  ultra   11.0  541.380597  55.791045  19805.313433  2094.402985\n",
       "23  ultra   12.0  588.571429  60.178571  21657.778571  2140.714286"
      ]
     },
     "metadata": {},
     "output_type": "display_data"
    }
   ],
   "source": [
    "smart = tar.query(' tariff==\"smart\" ')\n",
    "ultra = tar.query(' tariff==\"ultra\" ')\n",
    "\n",
    "display(smart)\n",
    "display(ultra)"
   ]
  },
  {
   "cell_type": "markdown",
   "metadata": {},
   "source": [
    "Теперь нужно вычислить усредненные расходы по месяцам для одного абонента для обоих тарифов."
   ]
  },
  {
   "cell_type": "code",
   "execution_count": 46,
   "metadata": {},
   "outputs": [
    {
     "data": {
      "image/png": "[encoded data removed]",
      "text/plain": [
       "<Figure size 1008x360 with 1 Axes>"
      ]
     },
     "metadata": {
      "needs_background": "light"
     },
     "output_type": "display_data"
    },
    {
     "data": {
      "image/png": "[encoded data removed]",
      "text/plain": [
       "<Figure size 1008x360 with 1 Axes>"
      ]
     },
     "metadata": {
      "needs_background": "light"
     },
     "output_type": "display_data"
    },
    {
     "data": {
      "image/png": "[encoded data removed]",
      "text/plain": [
       "<Figure size 1008x360 with 1 Axes>"
      ]
     },
     "metadata": {
      "needs_background": "light"
     },
     "output_type": "display_data"
    },
    {
     "data": {
      "image/png": "[encoded data removed]",
      "text/plain": [
       "<Figure size 1008x360 with 1 Axes>"
      ]
     },
     "metadata": {
      "needs_background": "light"
     },
     "output_type": "display_data"
    }
   ],
   "source": [
    "for param in ['min', 'mes', 'mb','income']:\n",
    "    w = 0.4\n",
    "    plt.figure(figsize=(14, 5))\n",
    "    plt.bar(smart['month']-w/2, smart[param], label='smart', color='g', alpha=0.5, width=w)\n",
    "    plt.bar(ultra['month']+w/2, ultra[param], label='ultra', color='b', alpha=0.4, width=w)\n",
    "\n",
    "# porog- пороговое значение в smart, после которого идёт оплата сверх абонентской\n",
    "    if param == 'min':\n",
    "        porog=500\n",
    "    elif param == 'mes':\n",
    "        porog=50\n",
    "    elif param == 'mb':\n",
    "        porog=15360\n",
    "    else:\n",
    "        porog=550\n",
    "        \n",
    "    plt.axhline(y=porog, label='Порог для smart', color='red')  \n",
    "    plt.xlabel('month')\n",
    "    plt.ylabel(param)\n",
    "    plt.grid()\n",
    "    plt.title(f'Кол-во {param} одного абонента по месяцам для обоих тарифов')\n",
    "    plt.legend()\n",
    "    plt.show();"
   ]
  },
  {
   "cell_type": "markdown",
   "metadata": {},
   "source": [
    "Рассчитаем усредненные значения за месяц, которые требуются абонентам в обоих тарифах."
   ]
  },
  {
   "cell_type": "code",
   "execution_count": 47,
   "metadata": {},
   "outputs": [
    {
     "name": "stdout",
     "output_type": "stream",
     "text": [
      "Медианные значения абонента помесячно за 2018 год\n",
      "Кол-во min: smart = 402 / ultra = 511\n",
      "Кол-во mes: smart = 34 / ultra = 45\n",
      "Кол-во mb: smart = 15820 / ultra = 19302\n",
      "Кол-во income: smart = 1231 / ultra = 2055\n"
     ]
    }
   ],
   "source": [
    "print('Медианные значения абонента помесячно за 2018 год')\n",
    "for parametr in ['min', 'mes', 'mb', 'income']:\n",
    "    print(f'Кол-во {parametr}: smart = {round(smart[parametr].median())} / ultra = {round(ultra[parametr].median())}')"
   ]
  },
  {
   "cell_type": "markdown",
   "metadata": {},
   "source": [
    "### Распределение абонентов по количеству использованых услуг, гистограммы"
   ]
  },
  {
   "cell_type": "code",
   "execution_count": 48,
   "metadata": {},
   "outputs": [
    {
     "data": {
      "image/png": "[encoded data removed]",
      "text/plain": [
       "<Figure size 1008x360 with 1 Axes>"
      ]
     },
     "metadata": {
      "needs_background": "light"
     },
     "output_type": "display_data"
    },
    {
     "data": {
      "image/png": "[encoded data removed]",
      "text/plain": [
       "<Figure size 1008x360 with 1 Axes>"
      ]
     },
     "metadata": {
      "needs_background": "light"
     },
     "output_type": "display_data"
    },
    {
     "data": {
      "image/png": "[encoded data removed]",
      "text/plain": [
       "<Figure size 1008x360 with 1 Axes>"
      ]
     },
     "metadata": {
      "needs_background": "light"
     },
     "output_type": "display_data"
    },
    {
     "data": {
      "image/png": "[encoded data removed]",
      "text/plain": [
       "<Figure size 1008x360 with 1 Axes>"
      ]
     },
     "metadata": {
      "needs_background": "light"
     },
     "output_type": "display_data"
    }
   ],
   "source": [
    "for param in ['min', 'mes', 'mb','income']:\n",
    "    b = 50\n",
    "    plt.figure(figsize=(14, 5))\n",
    "    \n",
    "    plt.hist(abonents.loc[abonents['tariff'] == \"smart\", param], label='smart / '+param, color='g', alpha=0.65, bins = b)\n",
    "    plt.hist(abonents.loc[abonents['tariff'] == \"ultra\", param], label='ultra / '+param, color='r', alpha=0.35, bins = b)\n",
    "    \n",
    "    plt.ylabel('ЧАСТОТА')\n",
    "    plt.xlabel(param)\n",
    "    plt.grid()\n",
    "    plt.title(f'Распределение {param} в месяцам для обоих тарифов')\n",
    "    plt.legend()\n",
    "    plt.show();"
   ]
  },
  {
   "cell_type": "markdown",
   "metadata": {},
   "source": [
    "### Среднее количество, дисперсия и стандартное отклонение"
   ]
  },
  {
   "cell_type": "markdown",
   "metadata": {},
   "source": [
    "Создадим новый датафрейм stat_frame и запишем в него все рассчитываемые статистические значения:\n",
    "\n",
    "Таблица stat_frame - статистика для выборки. \n",
    "Столбцы:\n",
    "parameter - (min-минуты, mes-СМС, mb-трафик)\n",
    "mean - среднее\n",
    "var - дисперсия\n",
    "std - стандартное отклонение\n",
    "tariff - тариф (smart, ultra, all-по обоим тарифам)"
   ]
  },
  {
   "cell_type": "code",
   "execution_count": 49,
   "metadata": {},
   "outputs": [
    {
     "data": {
      "text/html": [
       "<div>\n",
       "<style scoped>\n",
       "    .dataframe tbody tr th:only-of-type {\n",
       "        vertical-align: middle;\n",
       "    }\n",
       "\n",
       "    .dataframe tbody tr th {\n",
       "        vertical-align: top;\n",
       "    }\n",
       "\n",
       "    .dataframe thead th {\n",
       "        text-align: right;\n",
       "    }\n",
       "</style>\n",
       "<table border=\"1\" class=\"dataframe\">\n",
       "  <thead>\n",
       "    <tr style=\"text-align: right;\">\n",
       "      <th></th>\n",
       "      <th>parameter</th>\n",
       "      <th>mean</th>\n",
       "      <th>var</th>\n",
       "      <th>std</th>\n",
       "      <th>tariff</th>\n",
       "    </tr>\n",
       "  </thead>\n",
       "  <tbody>\n",
       "    <tr>\n",
       "      <th>0</th>\n",
       "      <td>min</td>\n",
       "      <td>386.6</td>\n",
       "      <td>5198.3</td>\n",
       "      <td>72.1</td>\n",
       "      <td>smart</td>\n",
       "    </tr>\n",
       "    <tr>\n",
       "      <th>1</th>\n",
       "      <td>min</td>\n",
       "      <td>495.6</td>\n",
       "      <td>5925.4</td>\n",
       "      <td>77.0</td>\n",
       "      <td>ultra</td>\n",
       "    </tr>\n",
       "    <tr>\n",
       "      <th>2</th>\n",
       "      <td>min</td>\n",
       "      <td>441.1</td>\n",
       "      <td>8416.0</td>\n",
       "      <td>91.7</td>\n",
       "      <td>all</td>\n",
       "    </tr>\n",
       "    <tr>\n",
       "      <th>3</th>\n",
       "      <td>mes</td>\n",
       "      <td>31.4</td>\n",
       "      <td>26.0</td>\n",
       "      <td>5.1</td>\n",
       "      <td>smart</td>\n",
       "    </tr>\n",
       "    <tr>\n",
       "      <th>4</th>\n",
       "      <td>mes</td>\n",
       "      <td>43.7</td>\n",
       "      <td>150.5</td>\n",
       "      <td>12.3</td>\n",
       "      <td>ultra</td>\n",
       "    </tr>\n",
       "    <tr>\n",
       "      <th>5</th>\n",
       "      <td>mes</td>\n",
       "      <td>37.5</td>\n",
       "      <td>123.7</td>\n",
       "      <td>11.1</td>\n",
       "      <td>all</td>\n",
       "    </tr>\n",
       "    <tr>\n",
       "      <th>6</th>\n",
       "      <td>mb</td>\n",
       "      <td>15073.2</td>\n",
       "      <td>7124616.3</td>\n",
       "      <td>2669.2</td>\n",
       "      <td>smart</td>\n",
       "    </tr>\n",
       "    <tr>\n",
       "      <th>7</th>\n",
       "      <td>mb</td>\n",
       "      <td>18209.8</td>\n",
       "      <td>8831918.9</td>\n",
       "      <td>2971.9</td>\n",
       "      <td>ultra</td>\n",
       "    </tr>\n",
       "    <tr>\n",
       "      <th>8</th>\n",
       "      <td>mb</td>\n",
       "      <td>16641.5</td>\n",
       "      <td>10197858.2</td>\n",
       "      <td>3193.4</td>\n",
       "      <td>all</td>\n",
       "    </tr>\n",
       "    <tr>\n",
       "      <th>9</th>\n",
       "      <td>income</td>\n",
       "      <td>1195.6</td>\n",
       "      <td>58335.5</td>\n",
       "      <td>241.5</td>\n",
       "      <td>smart</td>\n",
       "    </tr>\n",
       "    <tr>\n",
       "      <th>10</th>\n",
       "      <td>income</td>\n",
       "      <td>2050.0</td>\n",
       "      <td>3392.5</td>\n",
       "      <td>58.2</td>\n",
       "      <td>ultra</td>\n",
       "    </tr>\n",
       "    <tr>\n",
       "      <th>11</th>\n",
       "      <td>income</td>\n",
       "      <td>1622.8</td>\n",
       "      <td>219953.3</td>\n",
       "      <td>469.0</td>\n",
       "      <td>all</td>\n",
       "    </tr>\n",
       "  </tbody>\n",
       "</table>\n",
       "</div>"
      ],
      "text/plain": [
       "   parameter     mean         var     std tariff\n",
       "0        min    386.6      5198.3    72.1  smart\n",
       "1        min    495.6      5925.4    77.0  ultra\n",
       "2        min    441.1      8416.0    91.7    all\n",
       "3        mes     31.4        26.0     5.1  smart\n",
       "4        mes     43.7       150.5    12.3  ultra\n",
       "5        mes     37.5       123.7    11.1    all\n",
       "6         mb  15073.2   7124616.3  2669.2  smart\n",
       "7         mb  18209.8   8831918.9  2971.9  ultra\n",
       "8         mb  16641.5  10197858.2  3193.4    all\n",
       "9     income   1195.6     58335.5   241.5  smart\n",
       "10    income   2050.0      3392.5    58.2  ultra\n",
       "11    income   1622.8    219953.3   469.0    all"
      ]
     },
     "execution_count": 49,
     "metadata": {},
     "output_type": "execute_result"
    }
   ],
   "source": [
    "stat_frame = pd.DataFrame(columns = ['parameter', 'mean', 'var', 'std', 'tariff'])\n",
    "\n",
    "ind = 0\n",
    "t = ['smart', 'ultra', 'all']\n",
    "for param in ['min', 'mes', 'mb', 'income']:\n",
    "    tariff_ind = 0\n",
    "    for df in [smart, ultra, tar]:\n",
    "        stat_frame.loc[ind, 'parameter'] = param\n",
    "        stat_frame.loc[ind, 'mean'] = round(df[param].mean(),1)\n",
    "        stat_frame.loc[ind, 'var'] = round(np.var(df[param], ddof=1),1) # Поскольку данные являются выборкой, это указано\n",
    "        stat_frame.loc[ind, 'std'] = round(np.std(df[param], ddof=1),1) # в условии, то ипользуем параметр - ddof=1\n",
    "        stat_frame.loc[ind, 'tariff'] = t[tariff_ind]\n",
    "        ind +=1\n",
    "        tariff_ind +=1\n",
    "stat_frame"
   ]
  },
  {
   "cell_type": "markdown",
   "metadata": {},
   "source": [
    "Рассчитаем доли стандартных отклонений в среднем - добавим столбец %std "
   ]
  },
  {
   "cell_type": "code",
   "execution_count": 50,
   "metadata": {},
   "outputs": [
    {
     "data": {
      "text/html": [
       "<div>\n",
       "<style scoped>\n",
       "    .dataframe tbody tr th:only-of-type {\n",
       "        vertical-align: middle;\n",
       "    }\n",
       "\n",
       "    .dataframe tbody tr th {\n",
       "        vertical-align: top;\n",
       "    }\n",
       "\n",
       "    .dataframe thead th {\n",
       "        text-align: right;\n",
       "    }\n",
       "</style>\n",
       "<table border=\"1\" class=\"dataframe\">\n",
       "  <thead>\n",
       "    <tr style=\"text-align: right;\">\n",
       "      <th></th>\n",
       "      <th>parameter</th>\n",
       "      <th>mean</th>\n",
       "      <th>var</th>\n",
       "      <th>std</th>\n",
       "      <th>tariff</th>\n",
       "      <th>%std</th>\n",
       "    </tr>\n",
       "  </thead>\n",
       "  <tbody>\n",
       "    <tr>\n",
       "      <th>0</th>\n",
       "      <td>min</td>\n",
       "      <td>386.6</td>\n",
       "      <td>5198.3</td>\n",
       "      <td>72.1</td>\n",
       "      <td>smart</td>\n",
       "      <td>18.649767</td>\n",
       "    </tr>\n",
       "    <tr>\n",
       "      <th>1</th>\n",
       "      <td>min</td>\n",
       "      <td>495.6</td>\n",
       "      <td>5925.4</td>\n",
       "      <td>77.0</td>\n",
       "      <td>ultra</td>\n",
       "      <td>15.536723</td>\n",
       "    </tr>\n",
       "    <tr>\n",
       "      <th>2</th>\n",
       "      <td>min</td>\n",
       "      <td>441.1</td>\n",
       "      <td>8416.0</td>\n",
       "      <td>91.7</td>\n",
       "      <td>all</td>\n",
       "      <td>20.788937</td>\n",
       "    </tr>\n",
       "    <tr>\n",
       "      <th>3</th>\n",
       "      <td>mes</td>\n",
       "      <td>31.4</td>\n",
       "      <td>26.0</td>\n",
       "      <td>5.1</td>\n",
       "      <td>smart</td>\n",
       "      <td>16.242038</td>\n",
       "    </tr>\n",
       "    <tr>\n",
       "      <th>4</th>\n",
       "      <td>mes</td>\n",
       "      <td>43.7</td>\n",
       "      <td>150.5</td>\n",
       "      <td>12.3</td>\n",
       "      <td>ultra</td>\n",
       "      <td>28.146453</td>\n",
       "    </tr>\n",
       "    <tr>\n",
       "      <th>5</th>\n",
       "      <td>mes</td>\n",
       "      <td>37.5</td>\n",
       "      <td>123.7</td>\n",
       "      <td>11.1</td>\n",
       "      <td>all</td>\n",
       "      <td>29.6</td>\n",
       "    </tr>\n",
       "    <tr>\n",
       "      <th>6</th>\n",
       "      <td>mb</td>\n",
       "      <td>15073.2</td>\n",
       "      <td>7124616.3</td>\n",
       "      <td>2669.2</td>\n",
       "      <td>smart</td>\n",
       "      <td>17.70825</td>\n",
       "    </tr>\n",
       "    <tr>\n",
       "      <th>7</th>\n",
       "      <td>mb</td>\n",
       "      <td>18209.8</td>\n",
       "      <td>8831918.9</td>\n",
       "      <td>2971.9</td>\n",
       "      <td>ultra</td>\n",
       "      <td>16.320333</td>\n",
       "    </tr>\n",
       "    <tr>\n",
       "      <th>8</th>\n",
       "      <td>mb</td>\n",
       "      <td>16641.5</td>\n",
       "      <td>10197858.2</td>\n",
       "      <td>3193.4</td>\n",
       "      <td>all</td>\n",
       "      <td>19.189376</td>\n",
       "    </tr>\n",
       "    <tr>\n",
       "      <th>9</th>\n",
       "      <td>income</td>\n",
       "      <td>1195.6</td>\n",
       "      <td>58335.5</td>\n",
       "      <td>241.5</td>\n",
       "      <td>smart</td>\n",
       "      <td>20.199063</td>\n",
       "    </tr>\n",
       "    <tr>\n",
       "      <th>10</th>\n",
       "      <td>income</td>\n",
       "      <td>2050.0</td>\n",
       "      <td>3392.5</td>\n",
       "      <td>58.2</td>\n",
       "      <td>ultra</td>\n",
       "      <td>2.839024</td>\n",
       "    </tr>\n",
       "    <tr>\n",
       "      <th>11</th>\n",
       "      <td>income</td>\n",
       "      <td>1622.8</td>\n",
       "      <td>219953.3</td>\n",
       "      <td>469.0</td>\n",
       "      <td>all</td>\n",
       "      <td>28.900666</td>\n",
       "    </tr>\n",
       "  </tbody>\n",
       "</table>\n",
       "</div>"
      ],
      "text/plain": [
       "   parameter     mean         var     std tariff       %std\n",
       "0        min    386.6      5198.3    72.1  smart  18.649767\n",
       "1        min    495.6      5925.4    77.0  ultra  15.536723\n",
       "2        min    441.1      8416.0    91.7    all  20.788937\n",
       "3        mes     31.4        26.0     5.1  smart  16.242038\n",
       "4        mes     43.7       150.5    12.3  ultra  28.146453\n",
       "5        mes     37.5       123.7    11.1    all       29.6\n",
       "6         mb  15073.2   7124616.3  2669.2  smart   17.70825\n",
       "7         mb  18209.8   8831918.9  2971.9  ultra  16.320333\n",
       "8         mb  16641.5  10197858.2  3193.4    all  19.189376\n",
       "9     income   1195.6     58335.5   241.5  smart  20.199063\n",
       "10    income   2050.0      3392.5    58.2  ultra   2.839024\n",
       "11    income   1622.8    219953.3   469.0    all  28.900666"
      ]
     },
     "execution_count": 50,
     "metadata": {},
     "output_type": "execute_result"
    }
   ],
   "source": [
    "stat_frame['%std'] = stat_frame['std'] / stat_frame['mean'] * 100\n",
    "stat_frame"
   ]
  },
  {
   "cell_type": "markdown",
   "metadata": {},
   "source": [
    "Из таблицы stat_frame и её средних значений видно, что медианные значения располагаются правее средних. Это говорит о скошенности данных влево, то есть бОльшая \"весомая масса\" значений\" расположены меньше медианых значений. По стандартным отклонениям можно сказать, что они вполне адекватные (доля %std примерно от 18 до 24 %), за иключением сообщений (mes) на тарифе ultra - здесь доля %std около 42,8%. Это говорит о том что присутствует много абонентов, которые отправляют очень мало СМС ( это очень хорошо видно на гистограмме). В выручке income можно выделить то, что в тарифе ultra стандартное отклонение равно нулю (и дисперсия соответственно тоже) так как все платят одну и ту же сумму 1950р (мы исходили из медианных значений, если бы было взято среднее, то отклонение было бы, но маленькое)."
   ]
  },
  {
   "cell_type": "markdown",
   "metadata": {},
   "source": [
    "## Проверка гипотез \n",
    "\n",
    "- средняя выручка пользователей тарифов smart и ultra отличается;\n",
    "- средняя выручка пользователей из Москвы отличается от выручки пользователей из других регионов;"
   ]
  },
  {
   "cell_type": "markdown",
   "metadata": {},
   "source": [
    "### Гипотеза №1: средняя выручка пользователей тарифов smart и ultra отличается "
   ]
  },
  {
   "cell_type": "code",
   "execution_count": 51,
   "metadata": {},
   "outputs": [
    {
     "name": "stdout",
     "output_type": "stream",
     "text": [
      "Дисперсия smart_income_mean = 660979.9953686984 // Дисперсия ultra_income_mean = 142955.91886821177\n"
     ]
    }
   ],
   "source": [
    "#Запишем выручку по обоим тарифам в 2 датафрейма: ultra_income_mean и smart_income_mean.\n",
    "\n",
    "ultra_income_mean = abonents.query('tariff ==\"ultra\"')['income'].values\n",
    "smart_income_mean = abonents.query('tariff ==\"smart\"')['income'].values\n",
    "\n",
    "# Выведем на экран дисперсию\n",
    "\n",
    "print('Дисперсия smart_income_mean =', np.var(smart_income_mean), '// Дисперсия ultra_income_mean =', \\\n",
    "      np.var(ultra_income_mean))"
   ]
  },
  {
   "cell_type": "markdown",
   "metadata": {},
   "source": [
    "Очевидно,что дисперсия сильно отличается (в 4,6 раза). Поэтому для проведения теста возьмем equal_var = False, alpha = 0.05\n",
    "\n",
    "Нулевая гипотеза H₀: средняя выручка пользователей тарифов  ultra и smart равна; \n",
    "Альтернативная гипотеза H₁: средняя выручка пользователей тарифов ultra и smart различается.\n"
   ]
  },
  {
   "cell_type": "code",
   "execution_count": 52,
   "metadata": {},
   "outputs": [
    {
     "name": "stdout",
     "output_type": "stream",
     "text": [
      "p-значение: 4.5941480288105795e-244\n",
      "Отвергаем нулевую гипотезу\n"
     ]
    }
   ],
   "source": [
    "from scipy import stats as st\n",
    "\n",
    "alpha = 0.05\n",
    "\n",
    "results = st.ttest_ind(smart_income_mean, ultra_income_mean, equal_var = False)\n",
    "\n",
    "print('p-значение:', results.pvalue)\n",
    "\n",
    "if (results.pvalue < alpha):\n",
    "    print(\"Отвергаем нулевую гипотезу\")\n",
    "else:\n",
    "    print(\"Не получилось отвергнуть нулевую гипотезу\")"
   ]
  },
  {
   "cell_type": "markdown",
   "metadata": {},
   "source": [
    "Соответственно альтернативная гипотез получила подтверждение. "
   ]
  },
  {
   "cell_type": "markdown",
   "metadata": {},
   "source": [
    "### Гипотеза №2: средняя выручка пользователей из Москвы отличается от выручки пользователей из других регионов "
   ]
  },
  {
   "cell_type": "code",
   "execution_count": 53,
   "metadata": {},
   "outputs": [
    {
     "name": "stdout",
     "output_type": "stream",
     "text": [
      "Дисперсия moscow_income_mean = 555126.1226129793 // Дисперсия other_income_mean = 643914.3305976621\n"
     ]
    }
   ],
   "source": [
    "#Запишем выручку по обоим тарифам в 2 датафрейма: moscow_income_mean для Москвы, other_income_mean для остальных\n",
    "\n",
    "moscow_income_mean = abonents.query('city == \"Москва\"')['income'].values\n",
    "other_income_mean = abonents.query('city != \"Москва\"')['income'].values\n",
    "\n",
    "print('Дисперсия moscow_income_mean =', np.var(moscow_income_mean), '// Дисперсия other_income_mean =', \\\n",
    "      np.var(other_income_mean))"
   ]
  },
  {
   "cell_type": "markdown",
   "metadata": {},
   "source": [
    "Очевидно, что дисперсия не сильно отличается: разница около 16%. \n",
    "Поэтому для проведения теста возьмем equal_var = True, alpha = 0.05\n",
    "\n",
    "Нулевая гипотеза H₀: средняя выручка пользователей из Москвы и других городов равна; \n",
    "Альтернативная гипотеза H₁: средняя выручка пользователей из Москвы и других городов отличается."
   ]
  },
  {
   "cell_type": "code",
   "execution_count": 54,
   "metadata": {},
   "outputs": [
    {
     "name": "stdout",
     "output_type": "stream",
     "text": [
      "p-значение: 0.495399331911754\n",
      "Не получилось отвергнуть нулевую гипотезу\n"
     ]
    }
   ],
   "source": [
    "from scipy import stats as st\n",
    "\n",
    "alpha = 0.05\n",
    "\n",
    "results = st.ttest_ind(moscow_income_mean, other_income_mean, equal_var = True)\n",
    "\n",
    "print('p-значение:', results.pvalue) \n",
    "\n",
    "if (results.pvalue < alpha):\n",
    "    print(\"Отвергаем нулевую гипотезу\")\n",
    "else:\n",
    "    print(\"Не получилось отвергнуть нулевую гипотезу\")"
   ]
  },
  {
   "cell_type": "markdown",
   "metadata": {},
   "source": [
    "Альтернативная гипотеза не подтвердилась."
   ]
  },
  {
   "cell_type": "markdown",
   "metadata": {},
   "source": [
    "## Общий вывод"
   ]
  },
  {
   "cell_type": "markdown",
   "metadata": {},
   "source": [
    "Вывод: В тарифе smart подавляющее большинство абонентов укладываются в лимит 500 минут разговора (среднее значение за 2018 год - 421 минута), да и в тарифе ultra недалеко ушли от этого значения - среднемесячное не больше 600 минут. Также можно наблюдать, что расход минут постепенно возрастает в течение года. Исключение: в феврале у тарифа ultra довольно сильное падение, почти в 2 раза. Также надо отметить, что в тарифе smart в январе и феврале мало звонят - тоже в 2 раза меньше, чем в другие месяцы\n",
    "\n",
    "СМС - не очень популярная услуга (много абонентов, которые вообще не пишут СМС или пишут очень мало). Абоненты тарифа smart вполне укладываются в лимит 50 СМС (а среднее 28 СМС в месяц за год), даже абоненты тарифа ultra редко превышают порог в 50 СМС (скорее всего это какие-то интернет-сервисы или магазины). Видно, что на тарифе ultra СМС ближе к концу года пишут всё чаще и чаще, исключение - январь где наблюдаются, более высокая активность. В тарифе smart в первой половине года активность постепенно возрастает, а во второй держится примерно на одном уровне.\n",
    "\n",
    "А вот с интернет-трафиком другая ситуация. Абоненты smart любят посидеть в интернете и часто превышают лимит в 15360 МБ, даже среднее значение выше - 16073 МБ, также надо отметить, что опять начало года (январь и февраль) характеризовано низкой активностью в интернете (около 7,5 ГБ). В тарифе ultra опять сильный провал в феврале (в 2 раза), а в остально часть года идет постепенный рост; средний расход трафика на smart довольно невысокий: несмотря на порог в 30 ГБ средний расход около 18,8 ГБ. Подавляющее большинство абонентов расходуют от 11 до 23 ГБ трафика в месяц.\n",
    "\n",
    "Выручка абонентов ultra в подавляющем большинстве случаев ограничивается абонентской платой(1950р), а абоненты smart, наоборот, часто платят сверх абонентской платы, в среднем 482р - на 87,5% больше абонентской платы. Средства идут, в основном, на оплату интернет трафика.\n",
    "\n",
    "В принципе, многие абоненты ultra могли бы перейти на тариф smart и платили бы меньше - если исходить из усредненных значений: 510мин (10 сверх лимита в 500) 103 = 30р. Трафик 18831 МБ (3471 (4ГБ) сверх 15360 МБ) 4200 = 800р Итого = 550 + 30 + 800 = 1380р , а платят 1950 ! Так что тариф smart очевидно намного выгоднее, чем тариф ultra.\n",
    "\n",
    "Во время проведения анализа была создана таблица stat_frame, куда были записаны: среднее количество, дисперсия и стандартное отклонение для 4 параметров (минуты разговора, СМС, кол-во интернет-трафика, выручка) по каждому тарифу ultra и smart и по объединенным значениям обоих тарифов\n",
    "\n",
    "Также были проверены две гипотезы:\n",
    "1) Гипотеза №1: средняя выручка пользователей тарифов ultra и smart отличается: ГИПОТЕЗА ПОДТВЕРДИЛАСЬ;\n",
    "2) Гипотеза №2: средняя выручка пользователей из Москвы отличается от выручки пользователей из других регионов: ГИПОТЕЗА НЕ ПОДТВЕРДИЛАСЬ.\n",
    "\n",
    "В итоге можно рекомендовать оператору продвигать тариф smart. Он приносит больше выручки (это очень весомый фактор для оператора), его абоненты очень часто переплачивают сверх лимита, в отличие от абонентов ultra, которые очень редко выбирают свой лимит. Также по абонентской плате он более привлекателен для абонентов - а это очень весомый аргумент для пользователей при выборе тарифа. "
   ]
  }
 ],
 "metadata": {
  "ExecuteTimeLog": [
   {
    "duration": 1464,
    "start_time": "2022-06-04T14:46:17.098Z"
   },
   {
    "duration": 1479,
    "start_time": "2022-06-04T14:47:17.204Z"
   },
   {
    "duration": 659,
    "start_time": "2022-06-04T14:48:05.717Z"
   },
   {
    "duration": 662,
    "start_time": "2022-06-04T14:48:37.189Z"
   },
   {
    "duration": 86,
    "start_time": "2022-06-04T14:57:16.245Z"
   },
   {
    "duration": 192,
    "start_time": "2022-06-04T14:59:26.861Z"
   },
   {
    "duration": 124,
    "start_time": "2022-06-04T14:59:32.398Z"
   },
   {
    "duration": 10,
    "start_time": "2022-06-04T15:00:08.044Z"
   },
   {
    "duration": 50,
    "start_time": "2022-06-04T15:05:25.382Z"
   },
   {
    "duration": 3,
    "start_time": "2022-06-04T15:18:02.619Z"
   },
   {
    "duration": 2,
    "start_time": "2022-06-04T15:18:30.554Z"
   },
   {
    "duration": 4,
    "start_time": "2022-06-04T15:21:38.310Z"
   },
   {
    "duration": 153,
    "start_time": "2022-06-04T15:22:03.609Z"
   },
   {
    "duration": 1297,
    "start_time": "2022-06-05T10:39:12.384Z"
   },
   {
    "duration": 1102,
    "start_time": "2022-06-05T10:39:13.685Z"
   },
   {
    "duration": 91,
    "start_time": "2022-06-05T10:39:14.788Z"
   },
   {
    "duration": 197,
    "start_time": "2022-06-05T10:39:14.881Z"
   },
   {
    "duration": 4,
    "start_time": "2022-06-05T10:39:15.080Z"
   },
   {
    "duration": 114,
    "start_time": "2022-06-05T10:39:15.086Z"
   },
   {
    "duration": 3,
    "start_time": "2022-06-05T10:40:24.048Z"
   },
   {
    "duration": 9,
    "start_time": "2022-06-05T10:40:25.585Z"
   },
   {
    "duration": 10,
    "start_time": "2022-06-05T10:43:10.520Z"
   },
   {
    "duration": 6,
    "start_time": "2022-06-05T10:43:17.448Z"
   },
   {
    "duration": 36,
    "start_time": "2022-06-05T10:43:53.826Z"
   },
   {
    "duration": 12,
    "start_time": "2022-06-05T10:48:23.923Z"
   },
   {
    "duration": 12,
    "start_time": "2022-06-05T10:48:41.241Z"
   },
   {
    "duration": 89,
    "start_time": "2022-06-05T10:50:56.958Z"
   },
   {
    "duration": 4,
    "start_time": "2022-06-05T10:56:11.488Z"
   },
   {
    "duration": 43,
    "start_time": "2022-06-05T11:00:03.737Z"
   },
   {
    "duration": 5,
    "start_time": "2022-06-05T11:02:30.595Z"
   },
   {
    "duration": 15,
    "start_time": "2022-06-05T11:06:52.366Z"
   },
   {
    "duration": 9,
    "start_time": "2022-06-05T11:08:21.685Z"
   },
   {
    "duration": 20,
    "start_time": "2022-06-05T11:08:33.451Z"
   },
   {
    "duration": 6,
    "start_time": "2022-06-05T11:11:11.635Z"
   },
   {
    "duration": 8,
    "start_time": "2022-06-05T11:13:14.935Z"
   },
   {
    "duration": 179,
    "start_time": "2022-06-05T11:15:43.462Z"
   },
   {
    "duration": 12,
    "start_time": "2022-06-05T11:19:16.638Z"
   },
   {
    "duration": 23,
    "start_time": "2022-06-05T11:19:48.352Z"
   },
   {
    "duration": 19,
    "start_time": "2022-06-05T11:29:07.914Z"
   },
   {
    "duration": 107,
    "start_time": "2022-06-05T11:31:00.944Z"
   },
   {
    "duration": 21,
    "start_time": "2022-06-05T11:54:12.766Z"
   },
   {
    "duration": 643,
    "start_time": "2022-06-05T11:56:43.116Z"
   },
   {
    "duration": 6,
    "start_time": "2022-06-05T12:05:06.181Z"
   },
   {
    "duration": 12,
    "start_time": "2022-06-05T12:05:36.231Z"
   },
   {
    "duration": 13,
    "start_time": "2022-06-05T12:06:49.921Z"
   },
   {
    "duration": 28,
    "start_time": "2022-06-05T12:07:15.580Z"
   },
   {
    "duration": 20,
    "start_time": "2022-06-05T12:10:40.908Z"
   },
   {
    "duration": 377,
    "start_time": "2022-06-05T12:12:43.586Z"
   },
   {
    "duration": 30,
    "start_time": "2022-06-05T12:21:21.620Z"
   },
   {
    "duration": 23,
    "start_time": "2022-06-05T12:23:03.412Z"
   },
   {
    "duration": 16,
    "start_time": "2022-06-05T12:38:28.591Z"
   },
   {
    "duration": 94,
    "start_time": "2022-06-05T12:41:28.864Z"
   },
   {
    "duration": 31,
    "start_time": "2022-06-05T12:43:26.999Z"
   },
   {
    "duration": 15,
    "start_time": "2022-06-05T12:46:05.456Z"
   },
   {
    "duration": 447,
    "start_time": "2022-06-05T12:47:19.628Z"
   },
   {
    "duration": 16,
    "start_time": "2022-06-05T12:49:43.411Z"
   },
   {
    "duration": 61,
    "start_time": "2022-06-05T12:57:16.575Z"
   },
   {
    "duration": 30,
    "start_time": "2022-06-05T12:59:38.415Z"
   },
   {
    "duration": 7,
    "start_time": "2022-06-05T13:00:57.707Z"
   },
   {
    "duration": 52,
    "start_time": "2022-06-05T13:01:15.649Z"
   },
   {
    "duration": 9,
    "start_time": "2022-06-05T13:01:26.560Z"
   },
   {
    "duration": 11,
    "start_time": "2022-06-05T13:01:41.517Z"
   },
   {
    "duration": 4,
    "start_time": "2022-06-05T13:04:34.218Z"
   },
   {
    "duration": 106,
    "start_time": "2022-06-05T13:05:55.976Z"
   },
   {
    "duration": 23,
    "start_time": "2022-06-05T13:06:09.023Z"
   },
   {
    "duration": 14,
    "start_time": "2022-06-05T13:08:42.227Z"
   },
   {
    "duration": 24,
    "start_time": "2022-06-05T13:13:44.929Z"
   },
   {
    "duration": 24,
    "start_time": "2022-06-05T13:14:43.755Z"
   },
   {
    "duration": 243,
    "start_time": "2022-06-05T13:15:09.411Z"
   },
   {
    "duration": 259,
    "start_time": "2022-06-05T13:15:34.150Z"
   },
   {
    "duration": 21,
    "start_time": "2022-06-05T13:21:03.076Z"
   },
   {
    "duration": 8,
    "start_time": "2022-06-05T13:21:36.800Z"
   },
   {
    "duration": 20,
    "start_time": "2022-06-05T13:21:50.042Z"
   },
   {
    "duration": 12,
    "start_time": "2022-06-05T13:21:59.448Z"
   },
   {
    "duration": 823,
    "start_time": "2022-06-05T13:22:37.909Z"
   },
   {
    "duration": 9,
    "start_time": "2022-06-05T13:24:55.741Z"
   },
   {
    "duration": 6,
    "start_time": "2022-06-05T13:25:03.570Z"
   },
   {
    "duration": 361,
    "start_time": "2022-06-05T13:28:21.719Z"
   },
   {
    "duration": 18,
    "start_time": "2022-06-05T13:29:10.376Z"
   },
   {
    "duration": 7,
    "start_time": "2022-06-05T13:30:31.309Z"
   },
   {
    "duration": 23,
    "start_time": "2022-06-05T13:30:55.251Z"
   },
   {
    "duration": 1469,
    "start_time": "2022-06-05T13:31:55.611Z"
   },
   {
    "duration": 9,
    "start_time": "2022-06-05T13:32:47.024Z"
   },
   {
    "duration": 7,
    "start_time": "2022-06-05T13:33:08.142Z"
   },
   {
    "duration": 9,
    "start_time": "2022-06-05T13:33:31.939Z"
   },
   {
    "duration": 1451,
    "start_time": "2022-06-05T13:34:44.924Z"
   },
   {
    "duration": 37,
    "start_time": "2022-06-05T13:36:23.283Z"
   },
   {
    "duration": 11,
    "start_time": "2022-06-05T13:37:02.412Z"
   },
   {
    "duration": 58,
    "start_time": "2022-06-06T14:28:13.933Z"
   },
   {
    "duration": 1285,
    "start_time": "2022-06-06T14:28:25.769Z"
   },
   {
    "duration": 1236,
    "start_time": "2022-06-06T14:28:27.056Z"
   },
   {
    "duration": 78,
    "start_time": "2022-06-06T14:28:28.294Z"
   },
   {
    "duration": 152,
    "start_time": "2022-06-06T14:28:28.374Z"
   },
   {
    "duration": 3,
    "start_time": "2022-06-06T14:28:28.528Z"
   },
   {
    "duration": 16,
    "start_time": "2022-06-06T14:28:28.533Z"
   },
   {
    "duration": 5,
    "start_time": "2022-06-06T14:28:28.551Z"
   },
   {
    "duration": 22,
    "start_time": "2022-06-06T14:28:28.558Z"
   },
   {
    "duration": 11,
    "start_time": "2022-06-06T14:28:28.581Z"
   },
   {
    "duration": 12,
    "start_time": "2022-06-06T14:28:28.595Z"
   },
   {
    "duration": 202,
    "start_time": "2022-06-06T14:28:28.609Z"
   },
   {
    "duration": 37,
    "start_time": "2022-06-06T14:28:28.813Z"
   },
   {
    "duration": 18,
    "start_time": "2022-06-06T14:28:28.851Z"
   },
   {
    "duration": 109,
    "start_time": "2022-06-06T14:28:28.870Z"
   },
   {
    "duration": 15,
    "start_time": "2022-06-06T14:28:28.981Z"
   },
   {
    "duration": 858,
    "start_time": "2022-06-06T14:28:28.997Z"
   },
   {
    "duration": 6,
    "start_time": "2022-06-06T14:28:29.857Z"
   },
   {
    "duration": 16,
    "start_time": "2022-06-06T14:28:29.865Z"
   },
   {
    "duration": 13,
    "start_time": "2022-06-06T14:28:29.883Z"
   },
   {
    "duration": 422,
    "start_time": "2022-06-06T14:28:29.898Z"
   },
   {
    "duration": 41,
    "start_time": "2022-06-06T14:28:30.322Z"
   },
   {
    "duration": 24,
    "start_time": "2022-06-06T14:28:30.365Z"
   },
   {
    "duration": 28,
    "start_time": "2022-06-06T14:28:30.391Z"
   },
   {
    "duration": 97,
    "start_time": "2022-06-06T14:28:30.421Z"
   },
   {
    "duration": 31,
    "start_time": "2022-06-06T14:28:30.520Z"
   },
   {
    "duration": 15,
    "start_time": "2022-06-06T14:28:30.553Z"
   },
   {
    "duration": 494,
    "start_time": "2022-06-06T14:28:30.570Z"
   },
   {
    "duration": 18,
    "start_time": "2022-06-06T14:28:31.069Z"
   },
   {
    "duration": 71,
    "start_time": "2022-06-06T14:28:31.089Z"
   },
   {
    "duration": 30,
    "start_time": "2022-06-06T14:28:31.162Z"
   },
   {
    "duration": 4,
    "start_time": "2022-06-06T14:28:31.194Z"
   },
   {
    "duration": 44,
    "start_time": "2022-06-06T14:28:31.199Z"
   },
   {
    "duration": 7,
    "start_time": "2022-06-06T14:28:31.245Z"
   },
   {
    "duration": 20,
    "start_time": "2022-06-06T14:28:31.253Z"
   },
   {
    "duration": 12,
    "start_time": "2022-06-06T14:28:31.275Z"
   },
   {
    "duration": 277,
    "start_time": "2022-06-06T14:28:31.289Z"
   },
   {
    "duration": 22,
    "start_time": "2022-06-06T14:28:31.567Z"
   },
   {
    "duration": 7,
    "start_time": "2022-06-06T14:28:31.590Z"
   },
   {
    "duration": 23,
    "start_time": "2022-06-06T14:28:31.598Z"
   },
   {
    "duration": 25,
    "start_time": "2022-06-06T14:28:31.622Z"
   },
   {
    "duration": 879,
    "start_time": "2022-06-06T14:28:31.649Z"
   },
   {
    "duration": 12,
    "start_time": "2022-06-06T14:28:32.530Z"
   },
   {
    "duration": 365,
    "start_time": "2022-06-06T14:28:32.544Z"
   },
   {
    "duration": 30,
    "start_time": "2022-06-06T14:28:32.911Z"
   },
   {
    "duration": 30,
    "start_time": "2022-06-06T14:28:32.943Z"
   },
   {
    "duration": 1415,
    "start_time": "2022-06-06T14:28:32.975Z"
   },
   {
    "duration": 7,
    "start_time": "2022-06-06T14:28:34.393Z"
   },
   {
    "duration": 1372,
    "start_time": "2022-06-06T14:28:34.402Z"
   },
   {
    "duration": 34,
    "start_time": "2022-06-06T14:28:35.776Z"
   },
   {
    "duration": 10,
    "start_time": "2022-06-06T14:28:35.811Z"
   },
   {
    "duration": 27,
    "start_time": "2022-06-06T14:28:35.823Z"
   },
   {
    "duration": 11,
    "start_time": "2022-06-06T14:29:39.966Z"
   },
   {
    "duration": 6,
    "start_time": "2022-06-06T14:33:55.861Z"
   },
   {
    "duration": 10,
    "start_time": "2022-06-06T14:38:31.224Z"
   },
   {
    "duration": 7,
    "start_time": "2022-06-06T14:42:17.808Z"
   },
   {
    "duration": 1130,
    "start_time": "2022-06-06T15:21:08.930Z"
   },
   {
    "duration": 527,
    "start_time": "2022-06-06T15:21:10.062Z"
   },
   {
    "duration": 88,
    "start_time": "2022-06-06T15:21:10.590Z"
   },
   {
    "duration": 160,
    "start_time": "2022-06-06T15:21:10.680Z"
   },
   {
    "duration": 4,
    "start_time": "2022-06-06T15:21:10.854Z"
   },
   {
    "duration": 43,
    "start_time": "2022-06-06T15:21:10.860Z"
   },
   {
    "duration": 21,
    "start_time": "2022-06-06T15:21:10.905Z"
   },
   {
    "duration": 48,
    "start_time": "2022-06-06T15:21:10.928Z"
   },
   {
    "duration": 16,
    "start_time": "2022-06-06T15:21:10.978Z"
   },
   {
    "duration": 33,
    "start_time": "2022-06-06T15:21:10.996Z"
   },
   {
    "duration": 225,
    "start_time": "2022-06-06T15:21:11.031Z"
   },
   {
    "duration": 24,
    "start_time": "2022-06-06T15:21:11.259Z"
   },
   {
    "duration": 19,
    "start_time": "2022-06-06T15:21:11.285Z"
   },
   {
    "duration": 122,
    "start_time": "2022-06-06T15:21:11.308Z"
   },
   {
    "duration": 23,
    "start_time": "2022-06-06T15:21:11.432Z"
   },
   {
    "duration": 662,
    "start_time": "2022-06-06T15:21:11.457Z"
   },
   {
    "duration": 7,
    "start_time": "2022-06-06T15:21:12.121Z"
   },
   {
    "duration": 33,
    "start_time": "2022-06-06T15:21:12.129Z"
   },
   {
    "duration": 20,
    "start_time": "2022-06-06T15:21:12.163Z"
   },
   {
    "duration": 441,
    "start_time": "2022-06-06T15:21:12.185Z"
   },
   {
    "duration": 38,
    "start_time": "2022-06-06T15:21:12.628Z"
   },
   {
    "duration": 24,
    "start_time": "2022-06-06T15:21:12.668Z"
   },
   {
    "duration": 15,
    "start_time": "2022-06-06T15:21:12.694Z"
   },
   {
    "duration": 108,
    "start_time": "2022-06-06T15:21:12.711Z"
   },
   {
    "duration": 37,
    "start_time": "2022-06-06T15:21:12.820Z"
   },
   {
    "duration": 12,
    "start_time": "2022-06-06T15:21:12.859Z"
   },
   {
    "duration": 507,
    "start_time": "2022-06-06T15:21:12.873Z"
   },
   {
    "duration": 16,
    "start_time": "2022-06-06T15:21:13.381Z"
   },
   {
    "duration": 86,
    "start_time": "2022-06-06T15:21:13.398Z"
   },
   {
    "duration": 30,
    "start_time": "2022-06-06T15:21:13.486Z"
   },
   {
    "duration": 38,
    "start_time": "2022-06-06T15:21:13.518Z"
   },
   {
    "duration": 34,
    "start_time": "2022-06-06T15:21:13.557Z"
   },
   {
    "duration": 24,
    "start_time": "2022-06-06T15:21:13.592Z"
   },
   {
    "duration": 37,
    "start_time": "2022-06-06T15:21:13.617Z"
   },
   {
    "duration": 29,
    "start_time": "2022-06-06T15:21:13.656Z"
   },
   {
    "duration": 290,
    "start_time": "2022-06-06T15:21:13.687Z"
   },
   {
    "duration": 23,
    "start_time": "2022-06-06T15:21:13.979Z"
   },
   {
    "duration": 8,
    "start_time": "2022-06-06T15:21:14.003Z"
   },
   {
    "duration": 41,
    "start_time": "2022-06-06T15:21:14.012Z"
   },
   {
    "duration": 19,
    "start_time": "2022-06-06T15:21:14.055Z"
   },
   {
    "duration": 919,
    "start_time": "2022-06-06T15:21:14.079Z"
   },
   {
    "duration": 7,
    "start_time": "2022-06-06T15:21:14.999Z"
   },
   {
    "duration": 398,
    "start_time": "2022-06-06T15:21:15.008Z"
   },
   {
    "duration": 19,
    "start_time": "2022-06-06T15:21:15.407Z"
   },
   {
    "duration": 48,
    "start_time": "2022-06-06T15:21:15.427Z"
   },
   {
    "duration": 1534,
    "start_time": "2022-06-06T15:21:15.477Z"
   },
   {
    "duration": 7,
    "start_time": "2022-06-06T15:21:17.013Z"
   },
   {
    "duration": 1484,
    "start_time": "2022-06-06T15:21:17.022Z"
   },
   {
    "duration": 47,
    "start_time": "2022-06-06T15:21:18.508Z"
   },
   {
    "duration": 12,
    "start_time": "2022-06-06T15:21:18.557Z"
   },
   {
    "duration": 14,
    "start_time": "2022-06-06T15:21:18.570Z"
   },
   {
    "duration": 10,
    "start_time": "2022-06-06T15:21:18.586Z"
   },
   {
    "duration": 12,
    "start_time": "2022-06-06T15:21:18.598Z"
   },
   {
    "duration": 9,
    "start_time": "2022-06-06T15:21:18.611Z"
   },
   {
    "duration": 17,
    "start_time": "2022-06-06T15:25:33.605Z"
   },
   {
    "duration": 35,
    "start_time": "2022-06-08T10:24:19.828Z"
   },
   {
    "duration": 1237,
    "start_time": "2022-06-08T10:30:04.188Z"
   },
   {
    "duration": 1261,
    "start_time": "2022-06-08T10:30:05.427Z"
   },
   {
    "duration": 50,
    "start_time": "2022-06-08T10:30:15.716Z"
   },
   {
    "duration": 77,
    "start_time": "2022-06-08T10:31:11.724Z"
   },
   {
    "duration": 130,
    "start_time": "2022-06-08T10:31:16.711Z"
   },
   {
    "duration": 1006,
    "start_time": "2022-06-08T10:34:32.514Z"
   },
   {
    "duration": 426,
    "start_time": "2022-06-08T10:34:33.522Z"
   },
   {
    "duration": 108,
    "start_time": "2022-06-08T10:34:33.950Z"
   },
   {
    "duration": 130,
    "start_time": "2022-06-08T10:34:34.061Z"
   },
   {
    "duration": 5,
    "start_time": "2022-06-08T10:34:34.195Z"
   },
   {
    "duration": 0,
    "start_time": "2022-06-08T10:34:34.202Z"
   },
   {
    "duration": 0,
    "start_time": "2022-06-08T10:34:34.204Z"
   },
   {
    "duration": 0,
    "start_time": "2022-06-08T10:34:34.205Z"
   },
   {
    "duration": 0,
    "start_time": "2022-06-08T10:34:34.207Z"
   },
   {
    "duration": 0,
    "start_time": "2022-06-08T10:34:34.209Z"
   },
   {
    "duration": 0,
    "start_time": "2022-06-08T10:34:34.210Z"
   },
   {
    "duration": 0,
    "start_time": "2022-06-08T10:34:34.211Z"
   },
   {
    "duration": 0,
    "start_time": "2022-06-08T10:34:34.213Z"
   },
   {
    "duration": 0,
    "start_time": "2022-06-08T10:34:34.214Z"
   },
   {
    "duration": 0,
    "start_time": "2022-06-08T10:34:34.215Z"
   },
   {
    "duration": 0,
    "start_time": "2022-06-08T10:34:34.217Z"
   },
   {
    "duration": 0,
    "start_time": "2022-06-08T10:34:34.218Z"
   },
   {
    "duration": 0,
    "start_time": "2022-06-08T10:34:34.219Z"
   },
   {
    "duration": 0,
    "start_time": "2022-06-08T10:34:34.221Z"
   },
   {
    "duration": 0,
    "start_time": "2022-06-08T10:34:34.222Z"
   },
   {
    "duration": 0,
    "start_time": "2022-06-08T10:34:34.223Z"
   },
   {
    "duration": 0,
    "start_time": "2022-06-08T10:34:34.224Z"
   },
   {
    "duration": 0,
    "start_time": "2022-06-08T10:34:34.224Z"
   },
   {
    "duration": 0,
    "start_time": "2022-06-08T10:34:34.225Z"
   },
   {
    "duration": 0,
    "start_time": "2022-06-08T10:34:34.226Z"
   },
   {
    "duration": 0,
    "start_time": "2022-06-08T10:34:34.227Z"
   },
   {
    "duration": 0,
    "start_time": "2022-06-08T10:34:34.228Z"
   },
   {
    "duration": 0,
    "start_time": "2022-06-08T10:34:34.229Z"
   },
   {
    "duration": 0,
    "start_time": "2022-06-08T10:34:34.230Z"
   },
   {
    "duration": 0,
    "start_time": "2022-06-08T10:34:34.231Z"
   },
   {
    "duration": 0,
    "start_time": "2022-06-08T10:34:34.233Z"
   },
   {
    "duration": 0,
    "start_time": "2022-06-08T10:34:34.234Z"
   },
   {
    "duration": 0,
    "start_time": "2022-06-08T10:34:34.235Z"
   },
   {
    "duration": 0,
    "start_time": "2022-06-08T10:34:34.237Z"
   },
   {
    "duration": 0,
    "start_time": "2022-06-08T10:34:34.295Z"
   },
   {
    "duration": 0,
    "start_time": "2022-06-08T10:34:34.296Z"
   },
   {
    "duration": 0,
    "start_time": "2022-06-08T10:34:34.298Z"
   },
   {
    "duration": 0,
    "start_time": "2022-06-08T10:34:34.299Z"
   },
   {
    "duration": 0,
    "start_time": "2022-06-08T10:34:34.300Z"
   },
   {
    "duration": 0,
    "start_time": "2022-06-08T10:34:34.301Z"
   },
   {
    "duration": 0,
    "start_time": "2022-06-08T10:34:34.303Z"
   },
   {
    "duration": 0,
    "start_time": "2022-06-08T10:34:34.304Z"
   },
   {
    "duration": 0,
    "start_time": "2022-06-08T10:34:34.305Z"
   },
   {
    "duration": 0,
    "start_time": "2022-06-08T10:34:34.306Z"
   },
   {
    "duration": 0,
    "start_time": "2022-06-08T10:34:34.308Z"
   },
   {
    "duration": 0,
    "start_time": "2022-06-08T10:34:34.309Z"
   },
   {
    "duration": 0,
    "start_time": "2022-06-08T10:34:34.310Z"
   },
   {
    "duration": 0,
    "start_time": "2022-06-08T10:34:34.312Z"
   },
   {
    "duration": 0,
    "start_time": "2022-06-08T10:34:34.313Z"
   },
   {
    "duration": 0,
    "start_time": "2022-06-08T10:34:34.314Z"
   },
   {
    "duration": 0,
    "start_time": "2022-06-08T10:34:34.316Z"
   },
   {
    "duration": 0,
    "start_time": "2022-06-08T10:34:34.317Z"
   },
   {
    "duration": 0,
    "start_time": "2022-06-08T10:34:34.318Z"
   },
   {
    "duration": 0,
    "start_time": "2022-06-08T10:34:34.321Z"
   },
   {
    "duration": 0,
    "start_time": "2022-06-08T10:34:34.322Z"
   },
   {
    "duration": 0,
    "start_time": "2022-06-08T10:34:34.323Z"
   },
   {
    "duration": 2,
    "start_time": "2022-06-08T10:34:59.332Z"
   },
   {
    "duration": 410,
    "start_time": "2022-06-08T10:34:59.340Z"
   },
   {
    "duration": 118,
    "start_time": "2022-06-08T10:34:59.752Z"
   },
   {
    "duration": 83,
    "start_time": "2022-06-08T10:34:59.872Z"
   },
   {
    "duration": 4,
    "start_time": "2022-06-08T10:34:59.957Z"
   },
   {
    "duration": 0,
    "start_time": "2022-06-08T10:34:59.964Z"
   },
   {
    "duration": 0,
    "start_time": "2022-06-08T10:34:59.965Z"
   },
   {
    "duration": 0,
    "start_time": "2022-06-08T10:34:59.966Z"
   },
   {
    "duration": 0,
    "start_time": "2022-06-08T10:34:59.967Z"
   },
   {
    "duration": 0,
    "start_time": "2022-06-08T10:34:59.968Z"
   },
   {
    "duration": 0,
    "start_time": "2022-06-08T10:34:59.969Z"
   },
   {
    "duration": 0,
    "start_time": "2022-06-08T10:34:59.970Z"
   },
   {
    "duration": 0,
    "start_time": "2022-06-08T10:34:59.994Z"
   },
   {
    "duration": 0,
    "start_time": "2022-06-08T10:34:59.995Z"
   },
   {
    "duration": 0,
    "start_time": "2022-06-08T10:34:59.996Z"
   },
   {
    "duration": 0,
    "start_time": "2022-06-08T10:34:59.997Z"
   },
   {
    "duration": 0,
    "start_time": "2022-06-08T10:34:59.997Z"
   },
   {
    "duration": 0,
    "start_time": "2022-06-08T10:34:59.998Z"
   },
   {
    "duration": 0,
    "start_time": "2022-06-08T10:34:59.999Z"
   },
   {
    "duration": 0,
    "start_time": "2022-06-08T10:35:00.000Z"
   },
   {
    "duration": 0,
    "start_time": "2022-06-08T10:35:00.001Z"
   },
   {
    "duration": 0,
    "start_time": "2022-06-08T10:35:00.001Z"
   },
   {
    "duration": 0,
    "start_time": "2022-06-08T10:35:00.002Z"
   },
   {
    "duration": 0,
    "start_time": "2022-06-08T10:35:00.003Z"
   },
   {
    "duration": 0,
    "start_time": "2022-06-08T10:35:00.004Z"
   },
   {
    "duration": 0,
    "start_time": "2022-06-08T10:35:00.005Z"
   },
   {
    "duration": 0,
    "start_time": "2022-06-08T10:35:00.006Z"
   },
   {
    "duration": 0,
    "start_time": "2022-06-08T10:35:00.007Z"
   },
   {
    "duration": 0,
    "start_time": "2022-06-08T10:35:00.008Z"
   },
   {
    "duration": 0,
    "start_time": "2022-06-08T10:35:00.009Z"
   },
   {
    "duration": 0,
    "start_time": "2022-06-08T10:35:00.010Z"
   },
   {
    "duration": 0,
    "start_time": "2022-06-08T10:35:00.011Z"
   },
   {
    "duration": 0,
    "start_time": "2022-06-08T10:35:00.012Z"
   },
   {
    "duration": 0,
    "start_time": "2022-06-08T10:35:00.013Z"
   },
   {
    "duration": 0,
    "start_time": "2022-06-08T10:35:00.014Z"
   },
   {
    "duration": 0,
    "start_time": "2022-06-08T10:35:00.015Z"
   },
   {
    "duration": 0,
    "start_time": "2022-06-08T10:35:00.016Z"
   },
   {
    "duration": 0,
    "start_time": "2022-06-08T10:35:00.018Z"
   },
   {
    "duration": 0,
    "start_time": "2022-06-08T10:35:00.018Z"
   },
   {
    "duration": 0,
    "start_time": "2022-06-08T10:35:00.019Z"
   },
   {
    "duration": 0,
    "start_time": "2022-06-08T10:35:00.020Z"
   },
   {
    "duration": 0,
    "start_time": "2022-06-08T10:35:00.022Z"
   },
   {
    "duration": 0,
    "start_time": "2022-06-08T10:35:00.022Z"
   },
   {
    "duration": 0,
    "start_time": "2022-06-08T10:35:00.024Z"
   },
   {
    "duration": 0,
    "start_time": "2022-06-08T10:35:00.024Z"
   },
   {
    "duration": 0,
    "start_time": "2022-06-08T10:35:00.025Z"
   },
   {
    "duration": 0,
    "start_time": "2022-06-08T10:35:00.026Z"
   },
   {
    "duration": 212,
    "start_time": "2022-06-08T10:35:00.029Z"
   },
   {
    "duration": 0,
    "start_time": "2022-06-08T10:35:00.242Z"
   },
   {
    "duration": 0,
    "start_time": "2022-06-08T10:35:00.243Z"
   },
   {
    "duration": 0,
    "start_time": "2022-06-08T10:35:00.245Z"
   },
   {
    "duration": 0,
    "start_time": "2022-06-08T10:35:00.246Z"
   },
   {
    "duration": 0,
    "start_time": "2022-06-08T10:35:00.247Z"
   },
   {
    "duration": 0,
    "start_time": "2022-06-08T10:35:00.248Z"
   },
   {
    "duration": 0,
    "start_time": "2022-06-08T10:35:00.249Z"
   },
   {
    "duration": 0,
    "start_time": "2022-06-08T10:35:00.250Z"
   },
   {
    "duration": 1390,
    "start_time": "2022-11-15T13:45:03.865Z"
   },
   {
    "duration": 1350,
    "start_time": "2022-11-15T13:45:05.257Z"
   },
   {
    "duration": 141,
    "start_time": "2022-11-15T13:45:06.609Z"
   },
   {
    "duration": 87,
    "start_time": "2022-11-15T13:45:06.754Z"
   },
   {
    "duration": 13,
    "start_time": "2022-11-15T13:45:06.842Z"
   },
   {
    "duration": 10,
    "start_time": "2022-11-15T13:45:06.856Z"
   },
   {
    "duration": 9,
    "start_time": "2022-11-15T13:45:06.867Z"
   },
   {
    "duration": 24,
    "start_time": "2022-11-15T13:45:06.878Z"
   },
   {
    "duration": 7,
    "start_time": "2022-11-15T13:45:06.904Z"
   },
   {
    "duration": 42,
    "start_time": "2022-11-15T13:45:06.914Z"
   },
   {
    "duration": 208,
    "start_time": "2022-11-15T13:45:06.958Z"
   },
   {
    "duration": 26,
    "start_time": "2022-11-15T13:45:07.168Z"
   },
   {
    "duration": 21,
    "start_time": "2022-11-15T13:45:07.196Z"
   },
   {
    "duration": 127,
    "start_time": "2022-11-15T13:45:07.219Z"
   },
   {
    "duration": 18,
    "start_time": "2022-11-15T13:45:07.355Z"
   },
   {
    "duration": 639,
    "start_time": "2022-11-15T13:45:07.375Z"
   },
   {
    "duration": 6,
    "start_time": "2022-11-15T13:45:08.016Z"
   },
   {
    "duration": 21,
    "start_time": "2022-11-15T13:45:08.024Z"
   },
   {
    "duration": 13,
    "start_time": "2022-11-15T13:45:08.055Z"
   },
   {
    "duration": 406,
    "start_time": "2022-11-15T13:45:08.070Z"
   },
   {
    "duration": 33,
    "start_time": "2022-11-15T13:45:08.478Z"
   },
   {
    "duration": 46,
    "start_time": "2022-11-15T13:45:08.513Z"
   },
   {
    "duration": 17,
    "start_time": "2022-11-15T13:45:08.561Z"
   },
   {
    "duration": 100,
    "start_time": "2022-11-15T13:45:08.580Z"
   },
   {
    "duration": 21,
    "start_time": "2022-11-15T13:45:08.682Z"
   },
   {
    "duration": 33,
    "start_time": "2022-11-15T13:45:08.704Z"
   },
   {
    "duration": 470,
    "start_time": "2022-11-15T13:45:08.738Z"
   },
   {
    "duration": 17,
    "start_time": "2022-11-15T13:45:09.211Z"
   },
   {
    "duration": 71,
    "start_time": "2022-11-15T13:45:09.230Z"
   },
   {
    "duration": 32,
    "start_time": "2022-11-15T13:45:09.303Z"
   },
   {
    "duration": 20,
    "start_time": "2022-11-15T13:45:09.337Z"
   },
   {
    "duration": 48,
    "start_time": "2022-11-15T13:45:09.358Z"
   },
   {
    "duration": 35,
    "start_time": "2022-11-15T13:45:09.408Z"
   },
   {
    "duration": 53,
    "start_time": "2022-11-15T13:45:09.445Z"
   },
   {
    "duration": 35,
    "start_time": "2022-11-15T13:45:09.500Z"
   },
   {
    "duration": 280,
    "start_time": "2022-11-15T13:45:09.536Z"
   },
   {
    "duration": 23,
    "start_time": "2022-11-15T13:45:09.818Z"
   },
   {
    "duration": 32,
    "start_time": "2022-11-15T13:45:09.843Z"
   },
   {
    "duration": 33,
    "start_time": "2022-11-15T13:45:09.877Z"
   },
   {
    "duration": 36,
    "start_time": "2022-11-15T13:45:09.912Z"
   },
   {
    "duration": 820,
    "start_time": "2022-11-15T13:45:09.950Z"
   },
   {
    "duration": 6,
    "start_time": "2022-11-15T13:45:10.772Z"
   },
   {
    "duration": 450,
    "start_time": "2022-11-15T13:45:10.779Z"
   },
   {
    "duration": 26,
    "start_time": "2022-11-15T13:45:11.230Z"
   },
   {
    "duration": 24,
    "start_time": "2022-11-15T13:45:11.257Z"
   },
   {
    "duration": 1213,
    "start_time": "2022-11-15T13:45:11.283Z"
   },
   {
    "duration": 7,
    "start_time": "2022-11-15T13:45:12.498Z"
   },
   {
    "duration": 1396,
    "start_time": "2022-11-15T13:45:12.507Z"
   },
   {
    "duration": 33,
    "start_time": "2022-11-15T13:45:13.905Z"
   },
   {
    "duration": 22,
    "start_time": "2022-11-15T13:45:13.940Z"
   },
   {
    "duration": 11,
    "start_time": "2022-11-15T13:45:13.964Z"
   },
   {
    "duration": 7,
    "start_time": "2022-11-15T13:45:13.977Z"
   },
   {
    "duration": 11,
    "start_time": "2022-11-15T13:45:13.985Z"
   },
   {
    "duration": 10,
    "start_time": "2022-11-15T13:45:13.998Z"
   }
  ],
  "kernelspec": {
   "display_name": "Python 3 (ipykernel)",
   "language": "python",
   "name": "python3"
  },
  "language_info": {
   "codemirror_mode": {
    "name": "ipython",
    "version": 3
   },
   "file_extension": ".py",
   "mimetype": "text/x-python",
   "name": "python",
   "nbconvert_exporter": "python",
   "pygments_lexer": "ipython3",
   "version": "3.9.5"
  },
  "toc": {
   "base_numbering": 1,
   "nav_menu": {},
   "number_sections": true,
   "sideBar": true,
   "skip_h1_title": true,
   "title_cell": "Table of Contents",
   "title_sidebar": "Contents",
   "toc_cell": false,
   "toc_position": {
    "height": "calc(100% - 180px)",
    "left": "10px",
    "top": "150px",
    "width": "255.594px"
   },
   "toc_section_display": true,
   "toc_window_display": false
  }
 },
 "nbformat": 4,
 "nbformat_minor": 2
}
