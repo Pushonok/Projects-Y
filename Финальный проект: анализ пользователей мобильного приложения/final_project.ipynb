{
 "cells": [
  {
   "cell_type": "markdown",
   "metadata": {},
   "source": [
    "# Описание проекта, постановка задачи"
   ]
  },
  {
   "cell_type": "markdown",
   "metadata": {},
   "source": [
    "**Данные**\n",
    "\n",
    "Табличка содержит данные о событиях, совершенных в мобильном приложении \"Ненужные вещи\". В нем пользователи продают свои ненужные вещи, размещая их на доске объявлений. \n",
    "\n",
    "В датасете содержатся данные пользователей, впервые совершивших действия в приложении после 7 октября 2019 года.\n",
    "\n",
    "**Задача**\n",
    "\n",
    "Нужно разделить пользователей по следующим метрикам:\n",
    "\n",
    "1. retention rate,\n",
    "2. время, проведённое в приложении, \n",
    "3. частота действий, \n",
    "4. конверсия в целевое действие — просмотр контактов.\n",
    "\n",
    "- **Провести исследовательский анализ данных**\n",
    "- **Сегментировать пользователей на основе действий**\n",
    "- **Проверить статистические гипотезы:**\n",
    "\n",
    "    1.Гипотеза №1: Группы Yandex и Google демонстрируют разную конверсию в просмотры контактов\n",
    "    \n",
    "    2.Гипотеза № 2: Количество времени, проведенное в приложении, коррелирует с конверсией в просмотры контактов"
   ]
  },
  {
   "cell_type": "markdown",
   "metadata": {},
   "source": [
    "Ссылка на презентацию:\n",
    "   https://disk.yandex.ru/i/MNMOZnHD-x2LHA \n",
    "   \n",
    "Ссылка на дашборд:\n"
   ]
  },
  {
   "cell_type": "markdown",
   "metadata": {},
   "source": [
    "## Изучение базы данных. Предобработка данных."
   ]
  },
  {
   "cell_type": "markdown",
   "metadata": {},
   "source": [
    "### Импорт библиотек и загрузка данных"
   ]
  },
  {
   "cell_type": "code",
   "execution_count": 1,
   "metadata": {},
   "outputs": [],
   "source": [
    "# Импортируем библиотеки\n",
    "import pandas as pd\n",
    "import numpy as np\n",
    "import scipy.stats as st\n",
    "import math as mth\n",
    "import warnings\n",
    "warnings.filterwarnings('ignore')\n",
    "from IPython.display import display_html\n",
    "pd.set_option('display.max_columns', 30)\n",
    "pd.set_option(\"display.float_format\", \"{:.3f}\".format)\n",
    "from statsmodels.stats.proportion import proportions_ztest\n",
    "\n",
    "import matplotlib.pyplot as plt\n",
    "import seaborn as sns\n",
    "import plotly.express as px\n",
    "import plotly.graph_objects as go\n",
    "from plotly.subplots import make_subplots\n",
    "import datetime\n",
    "dt = datetime.datetime.now()\n",
    "\n",
    "from sklearn.model_selection import train_test_split\n",
    "from sklearn.preprocessing import StandardScaler\n",
    "from sklearn.linear_model import LogisticRegression\n",
    "from sklearn.ensemble import RandomForestClassifier\n",
    "from sklearn.metrics import accuracy_score, precision_score, recall_score\n",
    "from sklearn.preprocessing import MinMaxScaler\n",
    "\n",
    "from scipy.cluster.hierarchy import dendrogram, linkage\n",
    "from sklearn.cluster import KMeans"
   ]
  },
  {
   "cell_type": "code",
   "execution_count": 2,
   "metadata": {},
   "outputs": [],
   "source": [
    "# Загружаем данные\n",
    "data = pd.read_csv('https://code.s3.yandex.net/datasets/mobile_dataset.csv')\n",
    "sources = pd.read_csv('https://code.s3.yandex.net/datasets/mobile_soures.csv')\n"
   ]
  },
  {
   "cell_type": "markdown",
   "metadata": {},
   "source": [
    "### Первичная диагностика данных"
   ]
  },
  {
   "cell_type": "code",
   "execution_count": 3,
   "metadata": {},
   "outputs": [
    {
     "data": {
      "text/html": [
       "<div>\n",
       "<style scoped>\n",
       "    .dataframe tbody tr th:only-of-type {\n",
       "        vertical-align: middle;\n",
       "    }\n",
       "\n",
       "    .dataframe tbody tr th {\n",
       "        vertical-align: top;\n",
       "    }\n",
       "\n",
       "    .dataframe thead th {\n",
       "        text-align: right;\n",
       "    }\n",
       "</style>\n",
       "<table border=\"1\" class=\"dataframe\">\n",
       "  <thead>\n",
       "    <tr style=\"text-align: right;\">\n",
       "      <th></th>\n",
       "      <th>event.time</th>\n",
       "      <th>event.name</th>\n",
       "      <th>user.id</th>\n",
       "    </tr>\n",
       "  </thead>\n",
       "  <tbody>\n",
       "    <tr>\n",
       "      <th>0</th>\n",
       "      <td>2019-10-07 00:00:00.431357</td>\n",
       "      <td>advert_open</td>\n",
       "      <td>020292ab-89bc-4156-9acf-68bc2783f894</td>\n",
       "    </tr>\n",
       "    <tr>\n",
       "      <th>1</th>\n",
       "      <td>2019-10-07 00:00:01.236320</td>\n",
       "      <td>tips_show</td>\n",
       "      <td>020292ab-89bc-4156-9acf-68bc2783f894</td>\n",
       "    </tr>\n",
       "    <tr>\n",
       "      <th>2</th>\n",
       "      <td>2019-10-07 00:00:02.245341</td>\n",
       "      <td>tips_show</td>\n",
       "      <td>cf7eda61-9349-469f-ac27-e5b6f5ec475c</td>\n",
       "    </tr>\n",
       "    <tr>\n",
       "      <th>3</th>\n",
       "      <td>2019-10-07 00:00:07.039334</td>\n",
       "      <td>tips_show</td>\n",
       "      <td>020292ab-89bc-4156-9acf-68bc2783f894</td>\n",
       "    </tr>\n",
       "    <tr>\n",
       "      <th>4</th>\n",
       "      <td>2019-10-07 00:00:56.319813</td>\n",
       "      <td>advert_open</td>\n",
       "      <td>cf7eda61-9349-469f-ac27-e5b6f5ec475c</td>\n",
       "    </tr>\n",
       "  </tbody>\n",
       "</table>\n",
       "</div>"
      ],
      "text/plain": [
       "                   event.time   event.name  \\\n",
       "0  2019-10-07 00:00:00.431357  advert_open   \n",
       "1  2019-10-07 00:00:01.236320    tips_show   \n",
       "2  2019-10-07 00:00:02.245341    tips_show   \n",
       "3  2019-10-07 00:00:07.039334    tips_show   \n",
       "4  2019-10-07 00:00:56.319813  advert_open   \n",
       "\n",
       "                                user.id  \n",
       "0  020292ab-89bc-4156-9acf-68bc2783f894  \n",
       "1  020292ab-89bc-4156-9acf-68bc2783f894  \n",
       "2  cf7eda61-9349-469f-ac27-e5b6f5ec475c  \n",
       "3  020292ab-89bc-4156-9acf-68bc2783f894  \n",
       "4  cf7eda61-9349-469f-ac27-e5b6f5ec475c  "
      ]
     },
     "execution_count": 3,
     "metadata": {},
     "output_type": "execute_result"
    }
   ],
   "source": [
    "data.head()"
   ]
  },
  {
   "cell_type": "code",
   "execution_count": 4,
   "metadata": {},
   "outputs": [
    {
     "data": {
      "text/html": [
       "<div>\n",
       "<style scoped>\n",
       "    .dataframe tbody tr th:only-of-type {\n",
       "        vertical-align: middle;\n",
       "    }\n",
       "\n",
       "    .dataframe tbody tr th {\n",
       "        vertical-align: top;\n",
       "    }\n",
       "\n",
       "    .dataframe thead th {\n",
       "        text-align: right;\n",
       "    }\n",
       "</style>\n",
       "<table border=\"1\" class=\"dataframe\">\n",
       "  <thead>\n",
       "    <tr style=\"text-align: right;\">\n",
       "      <th></th>\n",
       "      <th>userId</th>\n",
       "      <th>source</th>\n",
       "    </tr>\n",
       "  </thead>\n",
       "  <tbody>\n",
       "    <tr>\n",
       "      <th>0</th>\n",
       "      <td>020292ab-89bc-4156-9acf-68bc2783f894</td>\n",
       "      <td>other</td>\n",
       "    </tr>\n",
       "    <tr>\n",
       "      <th>1</th>\n",
       "      <td>cf7eda61-9349-469f-ac27-e5b6f5ec475c</td>\n",
       "      <td>yandex</td>\n",
       "    </tr>\n",
       "    <tr>\n",
       "      <th>2</th>\n",
       "      <td>8c356c42-3ba9-4cb6-80b8-3f868d0192c3</td>\n",
       "      <td>yandex</td>\n",
       "    </tr>\n",
       "    <tr>\n",
       "      <th>3</th>\n",
       "      <td>d9b06b47-0f36-419b-bbb0-3533e582a6cb</td>\n",
       "      <td>other</td>\n",
       "    </tr>\n",
       "    <tr>\n",
       "      <th>4</th>\n",
       "      <td>f32e1e2a-3027-4693-b793-b7b3ff274439</td>\n",
       "      <td>google</td>\n",
       "    </tr>\n",
       "  </tbody>\n",
       "</table>\n",
       "</div>"
      ],
      "text/plain": [
       "                                 userId  source\n",
       "0  020292ab-89bc-4156-9acf-68bc2783f894   other\n",
       "1  cf7eda61-9349-469f-ac27-e5b6f5ec475c  yandex\n",
       "2  8c356c42-3ba9-4cb6-80b8-3f868d0192c3  yandex\n",
       "3  d9b06b47-0f36-419b-bbb0-3533e582a6cb   other\n",
       "4  f32e1e2a-3027-4693-b793-b7b3ff274439  google"
      ]
     },
     "execution_count": 4,
     "metadata": {},
     "output_type": "execute_result"
    }
   ],
   "source": [
    "sources.head()"
   ]
  },
  {
   "cell_type": "code",
   "execution_count": 5,
   "metadata": {},
   "outputs": [
    {
     "name": "stdout",
     "output_type": "stream",
     "text": [
      "<class 'pandas.core.frame.DataFrame'>\n",
      "RangeIndex: 74197 entries, 0 to 74196\n",
      "Data columns (total 3 columns):\n",
      " #   Column      Non-Null Count  Dtype \n",
      "---  ------      --------------  ----- \n",
      " 0   event.time  74197 non-null  object\n",
      " 1   event.name  74197 non-null  object\n",
      " 2   user.id     74197 non-null  object\n",
      "dtypes: object(3)\n",
      "memory usage: 1.7+ MB\n"
     ]
    }
   ],
   "source": [
    "data.info()"
   ]
  },
  {
   "cell_type": "markdown",
   "metadata": {},
   "source": [
    "Пропусков в данных не обнаружено. Требуется привести названия столбцов к хорошему синтаксису и преобразовать столбец event.time в нужный формат. "
   ]
  },
  {
   "cell_type": "markdown",
   "metadata": {},
   "source": [
    "### Приведение названий столбцов к единому синтаксису, преобразование временного формата, поиск дубликатов"
   ]
  },
  {
   "cell_type": "code",
   "execution_count": 6,
   "metadata": {},
   "outputs": [
    {
     "data": {
      "text/html": [
       "<div>\n",
       "<style scoped>\n",
       "    .dataframe tbody tr th:only-of-type {\n",
       "        vertical-align: middle;\n",
       "    }\n",
       "\n",
       "    .dataframe tbody tr th {\n",
       "        vertical-align: top;\n",
       "    }\n",
       "\n",
       "    .dataframe thead th {\n",
       "        text-align: right;\n",
       "    }\n",
       "</style>\n",
       "<table border=\"1\" class=\"dataframe\">\n",
       "  <thead>\n",
       "    <tr style=\"text-align: right;\">\n",
       "      <th></th>\n",
       "      <th>event_time</th>\n",
       "      <th>event_name</th>\n",
       "      <th>user_id</th>\n",
       "    </tr>\n",
       "  </thead>\n",
       "  <tbody>\n",
       "    <tr>\n",
       "      <th>0</th>\n",
       "      <td>2019-10-07 00:00:00.431357</td>\n",
       "      <td>advert_open</td>\n",
       "      <td>020292ab-89bc-4156-9acf-68bc2783f894</td>\n",
       "    </tr>\n",
       "    <tr>\n",
       "      <th>1</th>\n",
       "      <td>2019-10-07 00:00:01.236320</td>\n",
       "      <td>tips_show</td>\n",
       "      <td>020292ab-89bc-4156-9acf-68bc2783f894</td>\n",
       "    </tr>\n",
       "    <tr>\n",
       "      <th>2</th>\n",
       "      <td>2019-10-07 00:00:02.245341</td>\n",
       "      <td>tips_show</td>\n",
       "      <td>cf7eda61-9349-469f-ac27-e5b6f5ec475c</td>\n",
       "    </tr>\n",
       "    <tr>\n",
       "      <th>3</th>\n",
       "      <td>2019-10-07 00:00:07.039334</td>\n",
       "      <td>tips_show</td>\n",
       "      <td>020292ab-89bc-4156-9acf-68bc2783f894</td>\n",
       "    </tr>\n",
       "    <tr>\n",
       "      <th>4</th>\n",
       "      <td>2019-10-07 00:00:56.319813</td>\n",
       "      <td>advert_open</td>\n",
       "      <td>cf7eda61-9349-469f-ac27-e5b6f5ec475c</td>\n",
       "    </tr>\n",
       "  </tbody>\n",
       "</table>\n",
       "</div>"
      ],
      "text/plain": [
       "                   event_time   event_name  \\\n",
       "0  2019-10-07 00:00:00.431357  advert_open   \n",
       "1  2019-10-07 00:00:01.236320    tips_show   \n",
       "2  2019-10-07 00:00:02.245341    tips_show   \n",
       "3  2019-10-07 00:00:07.039334    tips_show   \n",
       "4  2019-10-07 00:00:56.319813  advert_open   \n",
       "\n",
       "                                user_id  \n",
       "0  020292ab-89bc-4156-9acf-68bc2783f894  \n",
       "1  020292ab-89bc-4156-9acf-68bc2783f894  \n",
       "2  cf7eda61-9349-469f-ac27-e5b6f5ec475c  \n",
       "3  020292ab-89bc-4156-9acf-68bc2783f894  \n",
       "4  cf7eda61-9349-469f-ac27-e5b6f5ec475c  "
      ]
     },
     "execution_count": 6,
     "metadata": {},
     "output_type": "execute_result"
    }
   ],
   "source": [
    "# Переименуем столбцы\n",
    "data.columns = data.columns.str.replace('.','_')\n",
    "sources.columns = sources.columns.str.replace('.','_')\n",
    "sources.rename(columns={'userId': 'user_id'}, inplace=True)\n",
    "\n",
    "data.head()"
   ]
  },
  {
   "cell_type": "code",
   "execution_count": 7,
   "metadata": {},
   "outputs": [
    {
     "data": {
      "text/html": [
       "<div>\n",
       "<style scoped>\n",
       "    .dataframe tbody tr th:only-of-type {\n",
       "        vertical-align: middle;\n",
       "    }\n",
       "\n",
       "    .dataframe tbody tr th {\n",
       "        vertical-align: top;\n",
       "    }\n",
       "\n",
       "    .dataframe thead th {\n",
       "        text-align: right;\n",
       "    }\n",
       "</style>\n",
       "<table border=\"1\" class=\"dataframe\">\n",
       "  <thead>\n",
       "    <tr style=\"text-align: right;\">\n",
       "      <th></th>\n",
       "      <th>user_id</th>\n",
       "      <th>source</th>\n",
       "    </tr>\n",
       "  </thead>\n",
       "  <tbody>\n",
       "    <tr>\n",
       "      <th>0</th>\n",
       "      <td>020292ab-89bc-4156-9acf-68bc2783f894</td>\n",
       "      <td>other</td>\n",
       "    </tr>\n",
       "    <tr>\n",
       "      <th>1</th>\n",
       "      <td>cf7eda61-9349-469f-ac27-e5b6f5ec475c</td>\n",
       "      <td>yandex</td>\n",
       "    </tr>\n",
       "    <tr>\n",
       "      <th>2</th>\n",
       "      <td>8c356c42-3ba9-4cb6-80b8-3f868d0192c3</td>\n",
       "      <td>yandex</td>\n",
       "    </tr>\n",
       "    <tr>\n",
       "      <th>3</th>\n",
       "      <td>d9b06b47-0f36-419b-bbb0-3533e582a6cb</td>\n",
       "      <td>other</td>\n",
       "    </tr>\n",
       "    <tr>\n",
       "      <th>4</th>\n",
       "      <td>f32e1e2a-3027-4693-b793-b7b3ff274439</td>\n",
       "      <td>google</td>\n",
       "    </tr>\n",
       "  </tbody>\n",
       "</table>\n",
       "</div>"
      ],
      "text/plain": [
       "                                user_id  source\n",
       "0  020292ab-89bc-4156-9acf-68bc2783f894   other\n",
       "1  cf7eda61-9349-469f-ac27-e5b6f5ec475c  yandex\n",
       "2  8c356c42-3ba9-4cb6-80b8-3f868d0192c3  yandex\n",
       "3  d9b06b47-0f36-419b-bbb0-3533e582a6cb   other\n",
       "4  f32e1e2a-3027-4693-b793-b7b3ff274439  google"
      ]
     },
     "execution_count": 7,
     "metadata": {},
     "output_type": "execute_result"
    }
   ],
   "source": [
    "sources.head()"
   ]
  },
  {
   "cell_type": "code",
   "execution_count": 8,
   "metadata": {},
   "outputs": [
    {
     "data": {
      "text/plain": [
       "0"
      ]
     },
     "execution_count": 8,
     "metadata": {},
     "output_type": "execute_result"
    }
   ],
   "source": [
    "# Поиск дубликатов\n",
    "data.duplicated().sum()"
   ]
  },
  {
   "cell_type": "markdown",
   "metadata": {},
   "source": [
    "Столбцы переименовали, дубликатов не обнаружено. "
   ]
  },
  {
   "cell_type": "markdown",
   "metadata": {},
   "source": [
    "### Объединение таблиц, преобразование временного формата"
   ]
  },
  {
   "cell_type": "code",
   "execution_count": 9,
   "metadata": {},
   "outputs": [
    {
     "data": {
      "text/html": [
       "<div>\n",
       "<style scoped>\n",
       "    .dataframe tbody tr th:only-of-type {\n",
       "        vertical-align: middle;\n",
       "    }\n",
       "\n",
       "    .dataframe tbody tr th {\n",
       "        vertical-align: top;\n",
       "    }\n",
       "\n",
       "    .dataframe thead th {\n",
       "        text-align: right;\n",
       "    }\n",
       "</style>\n",
       "<table border=\"1\" class=\"dataframe\">\n",
       "  <thead>\n",
       "    <tr style=\"text-align: right;\">\n",
       "      <th></th>\n",
       "      <th>event_time</th>\n",
       "      <th>event_name</th>\n",
       "      <th>user_id</th>\n",
       "      <th>source</th>\n",
       "      <th>dt</th>\n",
       "    </tr>\n",
       "  </thead>\n",
       "  <tbody>\n",
       "    <tr>\n",
       "      <th>0</th>\n",
       "      <td>2019-10-07 00:00:00</td>\n",
       "      <td>advert_open</td>\n",
       "      <td>020292ab-89bc-4156-9acf-68bc2783f894</td>\n",
       "      <td>other</td>\n",
       "      <td>2019-10-07</td>\n",
       "    </tr>\n",
       "    <tr>\n",
       "      <th>1</th>\n",
       "      <td>2019-10-07 00:00:01</td>\n",
       "      <td>tips_show</td>\n",
       "      <td>020292ab-89bc-4156-9acf-68bc2783f894</td>\n",
       "      <td>other</td>\n",
       "      <td>2019-10-07</td>\n",
       "    </tr>\n",
       "    <tr>\n",
       "      <th>2</th>\n",
       "      <td>2019-10-07 00:00:02</td>\n",
       "      <td>tips_show</td>\n",
       "      <td>cf7eda61-9349-469f-ac27-e5b6f5ec475c</td>\n",
       "      <td>yandex</td>\n",
       "      <td>2019-10-07</td>\n",
       "    </tr>\n",
       "    <tr>\n",
       "      <th>3</th>\n",
       "      <td>2019-10-07 00:00:07</td>\n",
       "      <td>tips_show</td>\n",
       "      <td>020292ab-89bc-4156-9acf-68bc2783f894</td>\n",
       "      <td>other</td>\n",
       "      <td>2019-10-07</td>\n",
       "    </tr>\n",
       "    <tr>\n",
       "      <th>4</th>\n",
       "      <td>2019-10-07 00:00:56</td>\n",
       "      <td>advert_open</td>\n",
       "      <td>cf7eda61-9349-469f-ac27-e5b6f5ec475c</td>\n",
       "      <td>yandex</td>\n",
       "      <td>2019-10-07</td>\n",
       "    </tr>\n",
       "    <tr>\n",
       "      <th>...</th>\n",
       "      <td>...</td>\n",
       "      <td>...</td>\n",
       "      <td>...</td>\n",
       "      <td>...</td>\n",
       "      <td>...</td>\n",
       "    </tr>\n",
       "    <tr>\n",
       "      <th>74192</th>\n",
       "      <td>2019-11-03 23:53:30</td>\n",
       "      <td>tips_show</td>\n",
       "      <td>28fccdf4-7b9e-42f5-bc73-439a265f20e9</td>\n",
       "      <td>google</td>\n",
       "      <td>2019-11-03</td>\n",
       "    </tr>\n",
       "    <tr>\n",
       "      <th>74193</th>\n",
       "      <td>2019-11-03 23:54:00</td>\n",
       "      <td>tips_show</td>\n",
       "      <td>28fccdf4-7b9e-42f5-bc73-439a265f20e9</td>\n",
       "      <td>google</td>\n",
       "      <td>2019-11-03</td>\n",
       "    </tr>\n",
       "    <tr>\n",
       "      <th>74194</th>\n",
       "      <td>2019-11-03 23:56:57</td>\n",
       "      <td>search_1</td>\n",
       "      <td>20850c8f-4135-4059-b13b-198d3ac59902</td>\n",
       "      <td>google</td>\n",
       "      <td>2019-11-03</td>\n",
       "    </tr>\n",
       "    <tr>\n",
       "      <th>74195</th>\n",
       "      <td>2019-11-03 23:57:06</td>\n",
       "      <td>tips_show</td>\n",
       "      <td>28fccdf4-7b9e-42f5-bc73-439a265f20e9</td>\n",
       "      <td>google</td>\n",
       "      <td>2019-11-03</td>\n",
       "    </tr>\n",
       "    <tr>\n",
       "      <th>74196</th>\n",
       "      <td>2019-11-03 23:58:13</td>\n",
       "      <td>tips_show</td>\n",
       "      <td>28fccdf4-7b9e-42f5-bc73-439a265f20e9</td>\n",
       "      <td>google</td>\n",
       "      <td>2019-11-03</td>\n",
       "    </tr>\n",
       "  </tbody>\n",
       "</table>\n",
       "<p>74197 rows × 5 columns</p>\n",
       "</div>"
      ],
      "text/plain": [
       "               event_time   event_name                               user_id  \\\n",
       "0     2019-10-07 00:00:00  advert_open  020292ab-89bc-4156-9acf-68bc2783f894   \n",
       "1     2019-10-07 00:00:01    tips_show  020292ab-89bc-4156-9acf-68bc2783f894   \n",
       "2     2019-10-07 00:00:02    tips_show  cf7eda61-9349-469f-ac27-e5b6f5ec475c   \n",
       "3     2019-10-07 00:00:07    tips_show  020292ab-89bc-4156-9acf-68bc2783f894   \n",
       "4     2019-10-07 00:00:56  advert_open  cf7eda61-9349-469f-ac27-e5b6f5ec475c   \n",
       "...                   ...          ...                                   ...   \n",
       "74192 2019-11-03 23:53:30    tips_show  28fccdf4-7b9e-42f5-bc73-439a265f20e9   \n",
       "74193 2019-11-03 23:54:00    tips_show  28fccdf4-7b9e-42f5-bc73-439a265f20e9   \n",
       "74194 2019-11-03 23:56:57     search_1  20850c8f-4135-4059-b13b-198d3ac59902   \n",
       "74195 2019-11-03 23:57:06    tips_show  28fccdf4-7b9e-42f5-bc73-439a265f20e9   \n",
       "74196 2019-11-03 23:58:13    tips_show  28fccdf4-7b9e-42f5-bc73-439a265f20e9   \n",
       "\n",
       "       source          dt  \n",
       "0       other  2019-10-07  \n",
       "1       other  2019-10-07  \n",
       "2      yandex  2019-10-07  \n",
       "3       other  2019-10-07  \n",
       "4      yandex  2019-10-07  \n",
       "...       ...         ...  \n",
       "74192  google  2019-11-03  \n",
       "74193  google  2019-11-03  \n",
       "74194  google  2019-11-03  \n",
       "74195  google  2019-11-03  \n",
       "74196  google  2019-11-03  \n",
       "\n",
       "[74197 rows x 5 columns]"
      ]
     },
     "execution_count": 9,
     "metadata": {},
     "output_type": "execute_result"
    }
   ],
   "source": [
    "# Объединяем две таблички \n",
    "data_merged= data.merge(sources, on='user_id', how='left')\n",
    "\n",
    "# Преобразовываем временной формат\n",
    "data_merged['event_time']=pd.to_datetime(data_merged['event_time'], format ='%Y-%m-%d %H:%M:%S')\n",
    "data_merged['event_time'] = data_merged['event_time'].dt.round('S')\n",
    "data_merged['dt'] = pd.to_datetime(data_merged['event_time']).dt.date\n",
    "data_merged['dt'] = pd.to_datetime(data_merged['dt'], format='%Y-%m-%d')\n",
    "data_merged['dt'] = data_merged['dt'].dt.tz_localize(None)\n",
    "data_merged['dt'] = data_merged['dt'].dt.date\n",
    "data_merged"
   ]
  },
  {
   "cell_type": "code",
   "execution_count": 10,
   "metadata": {},
   "outputs": [
    {
     "data": {
      "text/html": [
       "<div>\n",
       "<style scoped>\n",
       "    .dataframe tbody tr th:only-of-type {\n",
       "        vertical-align: middle;\n",
       "    }\n",
       "\n",
       "    .dataframe tbody tr th {\n",
       "        vertical-align: top;\n",
       "    }\n",
       "\n",
       "    .dataframe thead th {\n",
       "        text-align: right;\n",
       "    }\n",
       "</style>\n",
       "<table border=\"1\" class=\"dataframe\">\n",
       "  <thead>\n",
       "    <tr style=\"text-align: right;\">\n",
       "      <th></th>\n",
       "      <th>event_time</th>\n",
       "      <th>event_name</th>\n",
       "      <th>user_id</th>\n",
       "      <th>source</th>\n",
       "      <th>dt</th>\n",
       "    </tr>\n",
       "  </thead>\n",
       "  <tbody>\n",
       "    <tr>\n",
       "      <th>6541</th>\n",
       "      <td>2019-10-09 18:33:56</td>\n",
       "      <td>map</td>\n",
       "      <td>0001b1d5-b74a-4cbf-aeb0-7df5947bf349</td>\n",
       "      <td>other</td>\n",
       "      <td>2019-10-09</td>\n",
       "    </tr>\n",
       "    <tr>\n",
       "      <th>6546</th>\n",
       "      <td>2019-10-09 18:35:28</td>\n",
       "      <td>map</td>\n",
       "      <td>0001b1d5-b74a-4cbf-aeb0-7df5947bf349</td>\n",
       "      <td>other</td>\n",
       "      <td>2019-10-09</td>\n",
       "    </tr>\n",
       "    <tr>\n",
       "      <th>36419</th>\n",
       "      <td>2019-10-21 19:53:39</td>\n",
       "      <td>map</td>\n",
       "      <td>0001b1d5-b74a-4cbf-aeb0-7df5947bf349</td>\n",
       "      <td>other</td>\n",
       "      <td>2019-10-21</td>\n",
       "    </tr>\n",
       "    <tr>\n",
       "      <th>36430</th>\n",
       "      <td>2019-10-21 19:56:49</td>\n",
       "      <td>map</td>\n",
       "      <td>0001b1d5-b74a-4cbf-aeb0-7df5947bf349</td>\n",
       "      <td>other</td>\n",
       "      <td>2019-10-21</td>\n",
       "    </tr>\n",
       "    <tr>\n",
       "      <th>37556</th>\n",
       "      <td>2019-10-22 11:18:15</td>\n",
       "      <td>map</td>\n",
       "      <td>0001b1d5-b74a-4cbf-aeb0-7df5947bf349</td>\n",
       "      <td>other</td>\n",
       "      <td>2019-10-22</td>\n",
       "    </tr>\n",
       "    <tr>\n",
       "      <th>...</th>\n",
       "      <td>...</td>\n",
       "      <td>...</td>\n",
       "      <td>...</td>\n",
       "      <td>...</td>\n",
       "      <td>...</td>\n",
       "    </tr>\n",
       "    <tr>\n",
       "      <th>72579</th>\n",
       "      <td>2019-11-03 15:50:56</td>\n",
       "      <td>tips_show</td>\n",
       "      <td>fffb9e79-b927-4dbb-9b48-7fd09b23a62b</td>\n",
       "      <td>google</td>\n",
       "      <td>2019-11-03</td>\n",
       "    </tr>\n",
       "    <tr>\n",
       "      <th>72584</th>\n",
       "      <td>2019-11-03 15:51:24</td>\n",
       "      <td>tips_show</td>\n",
       "      <td>fffb9e79-b927-4dbb-9b48-7fd09b23a62b</td>\n",
       "      <td>google</td>\n",
       "      <td>2019-11-03</td>\n",
       "    </tr>\n",
       "    <tr>\n",
       "      <th>72684</th>\n",
       "      <td>2019-11-03 16:07:41</td>\n",
       "      <td>tips_show</td>\n",
       "      <td>fffb9e79-b927-4dbb-9b48-7fd09b23a62b</td>\n",
       "      <td>google</td>\n",
       "      <td>2019-11-03</td>\n",
       "    </tr>\n",
       "    <tr>\n",
       "      <th>72688</th>\n",
       "      <td>2019-11-03 16:08:18</td>\n",
       "      <td>tips_show</td>\n",
       "      <td>fffb9e79-b927-4dbb-9b48-7fd09b23a62b</td>\n",
       "      <td>google</td>\n",
       "      <td>2019-11-03</td>\n",
       "    </tr>\n",
       "    <tr>\n",
       "      <th>72689</th>\n",
       "      <td>2019-11-03 16:08:25</td>\n",
       "      <td>tips_show</td>\n",
       "      <td>fffb9e79-b927-4dbb-9b48-7fd09b23a62b</td>\n",
       "      <td>google</td>\n",
       "      <td>2019-11-03</td>\n",
       "    </tr>\n",
       "  </tbody>\n",
       "</table>\n",
       "<p>74197 rows × 5 columns</p>\n",
       "</div>"
      ],
      "text/plain": [
       "               event_time event_name                               user_id  \\\n",
       "6541  2019-10-09 18:33:56        map  0001b1d5-b74a-4cbf-aeb0-7df5947bf349   \n",
       "6546  2019-10-09 18:35:28        map  0001b1d5-b74a-4cbf-aeb0-7df5947bf349   \n",
       "36419 2019-10-21 19:53:39        map  0001b1d5-b74a-4cbf-aeb0-7df5947bf349   \n",
       "36430 2019-10-21 19:56:49        map  0001b1d5-b74a-4cbf-aeb0-7df5947bf349   \n",
       "37556 2019-10-22 11:18:15        map  0001b1d5-b74a-4cbf-aeb0-7df5947bf349   \n",
       "...                   ...        ...                                   ...   \n",
       "72579 2019-11-03 15:50:56  tips_show  fffb9e79-b927-4dbb-9b48-7fd09b23a62b   \n",
       "72584 2019-11-03 15:51:24  tips_show  fffb9e79-b927-4dbb-9b48-7fd09b23a62b   \n",
       "72684 2019-11-03 16:07:41  tips_show  fffb9e79-b927-4dbb-9b48-7fd09b23a62b   \n",
       "72688 2019-11-03 16:08:18  tips_show  fffb9e79-b927-4dbb-9b48-7fd09b23a62b   \n",
       "72689 2019-11-03 16:08:25  tips_show  fffb9e79-b927-4dbb-9b48-7fd09b23a62b   \n",
       "\n",
       "       source          dt  \n",
       "6541    other  2019-10-09  \n",
       "6546    other  2019-10-09  \n",
       "36419   other  2019-10-21  \n",
       "36430   other  2019-10-21  \n",
       "37556   other  2019-10-22  \n",
       "...       ...         ...  \n",
       "72579  google  2019-11-03  \n",
       "72584  google  2019-11-03  \n",
       "72684  google  2019-11-03  \n",
       "72688  google  2019-11-03  \n",
       "72689  google  2019-11-03  \n",
       "\n",
       "[74197 rows x 5 columns]"
      ]
     },
     "execution_count": 10,
     "metadata": {},
     "output_type": "execute_result"
    }
   ],
   "source": [
    "# Сортируем датасет по двум столбцам для дальнейшего корректного выделения сессий\n",
    "data_merged.sort_values(['user_id','event_name'])"
   ]
  },
  {
   "cell_type": "code",
   "execution_count": 11,
   "metadata": {},
   "outputs": [
    {
     "data": {
      "text/plain": [
       "tips_show        40055\n",
       "photos_show      10012\n",
       "advert_open       6164\n",
       "contacts_show     4450\n",
       "map               3881\n",
       "search_1          3506\n",
       "favorites_add     1417\n",
       "search_5          1049\n",
       "tips_click         814\n",
       "search_4           701\n",
       "contacts_call      541\n",
       "search_3           522\n",
       "search_6           460\n",
       "search_2           324\n",
       "search_7           222\n",
       "show_contacts       79\n",
       "Name: event_name, dtype: int64"
      ]
     },
     "execution_count": 11,
     "metadata": {},
     "output_type": "execute_result"
    }
   ],
   "source": [
    "data_merged['event_name'].value_counts()"
   ]
  },
  {
   "cell_type": "markdown",
   "metadata": {},
   "source": [
    "Два типа событий contacts_show и show_contacts - это одно и то же событие, нужно объединить данные.Также можно объединить типы поисков. "
   ]
  },
  {
   "cell_type": "code",
   "execution_count": 12,
   "metadata": {},
   "outputs": [],
   "source": [
    "# Объединяем события показа контактов\n",
    "data_merged.loc[data_merged['event_name']=='show_contacts', 'event_name'] = 'contacts_show'"
   ]
  },
  {
   "cell_type": "code",
   "execution_count": 13,
   "metadata": {},
   "outputs": [],
   "source": [
    "# Пишем функцию для объединения поисков\n",
    "def search_all(x):\n",
    "    if x in ['search_1', 'search_2', 'search_3', 'search_4', 'search_5', 'search_6', 'search_7']:\n",
    "        return 'search'\n",
    "    return x"
   ]
  },
  {
   "cell_type": "code",
   "execution_count": 14,
   "metadata": {},
   "outputs": [
    {
     "data": {
      "text/plain": [
       "tips_show        40055\n",
       "photos_show      10012\n",
       "search            6784\n",
       "advert_open       6164\n",
       "contacts_show     4529\n",
       "map               3881\n",
       "favorites_add     1417\n",
       "tips_click         814\n",
       "contacts_call      541\n",
       "Name: event_name_mod, dtype: int64"
      ]
     },
     "execution_count": 14,
     "metadata": {},
     "output_type": "execute_result"
    }
   ],
   "source": [
    "data_merged['event_name_mod'] = data_merged['event_name'].apply(search_all)\n",
    "data_merged['event_name_mod'].value_counts()"
   ]
  },
  {
   "cell_type": "code",
   "execution_count": 15,
   "metadata": {},
   "outputs": [],
   "source": [
    "data_merged = data_merged.drop(['event_name'], axis=1)"
   ]
  },
  {
   "cell_type": "code",
   "execution_count": 16,
   "metadata": {},
   "outputs": [
    {
     "data": {
      "text/plain": [
       "tips_show        40055\n",
       "photos_show      10012\n",
       "search            6784\n",
       "advert_open       6164\n",
       "contacts_show     4529\n",
       "map               3881\n",
       "favorites_add     1417\n",
       "tips_click         814\n",
       "contacts_call      541\n",
       "Name: event_name, dtype: int64"
      ]
     },
     "execution_count": 16,
     "metadata": {},
     "output_type": "execute_result"
    }
   ],
   "source": [
    "data_merged.rename(columns={'event_name_mod': 'event_name'}, inplace=True)\n",
    "data_merged['event_name'].value_counts()"
   ]
  },
  {
   "cell_type": "code",
   "execution_count": 17,
   "metadata": {},
   "outputs": [],
   "source": [
    "# добавляем колонку event_date\n",
    "\n",
    "data_merged['event_date'] = pd.DatetimeIndex(data['event_time']).date.astype('datetime64[ns]')\n"
   ]
  },
  {
   "cell_type": "code",
   "execution_count": 18,
   "metadata": {},
   "outputs": [],
   "source": [
    "# добавляем колонку week_day\n",
    "\n",
    "data_merged['week_day'] = data_merged['event_date'].dt.weekday"
   ]
  },
  {
   "cell_type": "markdown",
   "metadata": {},
   "source": [
    "Теперь данные выглядят корректно"
   ]
  },
  {
   "cell_type": "markdown",
   "metadata": {},
   "source": [
    "**Вывод**: Данные представлены в двух таблицах: data и sources. Обе таблички содержат колонки с уникальным номером пользователя, в качестве преобразования названия колонок приведены к единому стандарту написания. \n",
    "Обе таблицы были объединены  по ключу уникального номера пользователя. Немного поработали над временным форматом для облегчения дальнейшего анализа: данные колонки event_time приведены к типу datetime64[ns], добавлены колонки event_date, dt, данные приведены к типу datetime64[ns], добавлена колонка week_day.\n",
    "Пропущенные значения не выявлены, зеркально записанные данные (show_contacts и contacs_show) объединены под единой записью contacts_show."
   ]
  },
  {
   "cell_type": "markdown",
   "metadata": {},
   "source": [
    "## Исследовательский анализ EDA"
   ]
  },
  {
   "cell_type": "markdown",
   "metadata": {},
   "source": [
    "###  Изучение распределение событий по дням"
   ]
  },
  {
   "cell_type": "code",
   "execution_count": 19,
   "metadata": {},
   "outputs": [
    {
     "name": "stdout",
     "output_type": "stream",
     "text": [
      "Время первого события 2019-10-07 00:00:00\n",
      "Время последнего события 2019-11-03 00:00:00\n"
     ]
    }
   ],
   "source": [
    "# Для начала, посмотрим на минимальную и максимальную даты в датасете.\n",
    "print(f'Время первого события {data_merged.event_date.min()}')\n",
    "print(f'Время последнего события {data_merged.event_date.max()}')     "
   ]
  },
  {
   "cell_type": "code",
   "execution_count": 20,
   "metadata": {},
   "outputs": [
    {
     "data": {
      "image/png": "[encoded data removed]",
      "text/plain": [
       "<Figure size 1080x504 with 1 Axes>"
      ]
     },
     "metadata": {
      "needs_background": "light"
     },
     "output_type": "display_data"
    }
   ],
   "source": [
    "# Визуализируем распределение \n",
    "day_distribution = data_merged.groupby('dt')[['event_name']].count().reset_index()\n",
    "\n",
    "plt.figure(figsize = (15,7))\n",
    "sns.barplot(x='dt', y='event_name', data=day_distribution)\n",
    "plt.xticks(rotation=90)\n",
    "plt.xlabel('Дата')\n",
    "plt.ylabel('Количество событий')\n",
    "plt.title('Распределение событий по дням')\n",
    "plt.show()"
   ]
  },
  {
   "cell_type": "markdown",
   "metadata": {},
   "source": [
    "**Вывод** :События по всему периоду сбора данных распределены равномерно, аномальных выбросов не обнаружено."
   ]
  },
  {
   "cell_type": "markdown",
   "metadata": {},
   "source": [
    "### Распределение событий по пользователям"
   ]
  },
  {
   "cell_type": "code",
   "execution_count": 21,
   "metadata": {},
   "outputs": [
    {
     "data": {
      "text/plain": [
       "4293"
      ]
     },
     "execution_count": 21,
     "metadata": {},
     "output_type": "execute_result"
    }
   ],
   "source": [
    "# Выясним число уникальных пользователей\n",
    "data_merged.user_id.nunique()"
   ]
  },
  {
   "cell_type": "markdown",
   "metadata": {},
   "source": [
    "Количество уникальных пользователей совпадает с размером таблицы sources."
   ]
  },
  {
   "cell_type": "code",
   "execution_count": 22,
   "metadata": {},
   "outputs": [
    {
     "name": "stdout",
     "output_type": "stream",
     "text": [
      "Количество пользователей, совершивших лишь одно действие: 65\n",
      "       event_name\n",
      "count    4293.000\n",
      "mean       17.283\n",
      "std        29.131\n",
      "min         1.000\n",
      "5%          3.000\n",
      "25%         5.000\n",
      "50%         9.000\n",
      "90%        36.000\n",
      "95%        59.000\n",
      "99%       132.000\n",
      "max       478.000\n"
     ]
    }
   ],
   "source": [
    "# группируем данные по пользователю и считаем количество событий\n",
    "user_events_count = data_merged.groupby('user_id')[['event_name']].count().reset_index()\n",
    "print(f\"Количество пользователей, совершивших лишь одно действие: {len(user_events_count[user_events_count['event_name'] == 1])}\")\n",
    "print(user_events_count.describe(percentiles=[0.05, 1/4, 1/2, 0.90, 0.95, 0.99]))"
   ]
  },
  {
   "cell_type": "code",
   "execution_count": 23,
   "metadata": {},
   "outputs": [],
   "source": [
    "# Исключим пользователей с однимм действием из анализа, признав их выбросами.\n",
    "drop_user = list(user_events_count[user_events_count['event_name'] == 1]['user_id'].unique())\n",
    "data_merged = data_merged.query('user_id not in @drop_user')"
   ]
  },
  {
   "cell_type": "code",
   "execution_count": 24,
   "metadata": {},
   "outputs": [
    {
     "data": {
      "image/png": "[encoded data removed]",
      "text/plain": [
       "<Figure size 432x288 with 1 Axes>"
      ]
     },
     "metadata": {
      "needs_background": "light"
     },
     "output_type": "display_data"
    }
   ],
   "source": [
    "# выводим статистическую информацию по кол-ву действий всех пользователей\n",
    "user_event = data_merged.query('event_name !=\"tips_show\"').groupby(['user_id']).agg({'event_name':'count'}).sort_values(by='event_name', ascending=False).reset_index()\n",
    "user_event['event_name'].hist(bins=45, range=(0,100)), user_event.describe(), user_event['event_name'].quantile(0.95), user_event['event_name'].quantile(0.05)\n",
    "plt.title('Количество действий всех пользователей', fontsize=15)\n",
    "plt.ylabel('Количество событий', fontsize=10)\n",
    "plt.xlabel('Количество пользователей', fontsize=10)\n",
    "plt.show()"
   ]
  },
  {
   "cell_type": "code",
   "execution_count": 25,
   "metadata": {},
   "outputs": [
    {
     "data": {
      "text/plain": [
       "source\n",
       "yandex    34257\n",
       "google    20433\n",
       "other     19442\n",
       "Name: user_id, dtype: int64"
      ]
     },
     "execution_count": 25,
     "metadata": {},
     "output_type": "execute_result"
    }
   ],
   "source": [
    "# Проверим с какого источника, пользователь чаще устанавливает приложение\n",
    "data_merged.groupby('source')['user_id'].count().sort_values(ascending=False)"
   ]
  },
  {
   "cell_type": "markdown",
   "metadata": {},
   "source": [
    "**Вывод**: Итого 65 пользователей совершили всего одно действие, среднее количество действий - 17, медианное - 9, самые активные пользователи приложения совершили более 60 действий. Также отмечено, что количество событий пользователя и количество различных действий отличаются. Мы исключили пользователей всего с одним действием, как несущественных для проведения анализа. Также мы убрали tips_show - это автоматическое действие, оно нам не нужно.\n",
    "Самые часто совершаемые действия:\n",
    "map - 1 456 клиент открыл карту объявлений\n",
    "photos_show - 1 095 клиентов просмотрели фотографии в объявлениях\n",
    "contacts_show - 981 клиент просмотрел контакты, т.е. совершил целевое действие\n",
    "search_1 - 787 клиентов осуществили поиск 1.\n",
    "Также мы выяснили, что пользователи, пришедшие с поисковой системы Яндекс, устанавливают приложение чаще."
   ]
  },
  {
   "cell_type": "markdown",
   "metadata": {},
   "source": [
    "### Выделение сессий"
   ]
  },
  {
   "cell_type": "markdown",
   "metadata": {},
   "source": [
    "За длительность сессии взята  разница между временем осуществления первого действия и последнего действия в рамках одного календарного дня на уровне уникального пользователя."
   ]
  },
  {
   "cell_type": "code",
   "execution_count": 26,
   "metadata": {},
   "outputs": [
    {
     "data": {
      "text/html": [
       "<div>\n",
       "<style scoped>\n",
       "    .dataframe tbody tr th:only-of-type {\n",
       "        vertical-align: middle;\n",
       "    }\n",
       "\n",
       "    .dataframe tbody tr th {\n",
       "        vertical-align: top;\n",
       "    }\n",
       "\n",
       "    .dataframe thead th {\n",
       "        text-align: right;\n",
       "    }\n",
       "</style>\n",
       "<table border=\"1\" class=\"dataframe\">\n",
       "  <thead>\n",
       "    <tr style=\"text-align: right;\">\n",
       "      <th></th>\n",
       "      <th>user_id</th>\n",
       "      <th>event_date</th>\n",
       "      <th>event_time_max</th>\n",
       "      <th>event_time_min</th>\n",
       "      <th>session_duration</th>\n",
       "    </tr>\n",
       "  </thead>\n",
       "  <tbody>\n",
       "    <tr>\n",
       "      <th>0</th>\n",
       "      <td>0001b1d5-b74a-4cbf-aeb0-7df5947bf349</td>\n",
       "      <td>2019-10-07</td>\n",
       "      <td>2019-10-07 13:49:42</td>\n",
       "      <td>2019-10-07 13:39:46</td>\n",
       "      <td>596</td>\n",
       "    </tr>\n",
       "    <tr>\n",
       "      <th>1</th>\n",
       "      <td>0001b1d5-b74a-4cbf-aeb0-7df5947bf349</td>\n",
       "      <td>2019-10-09</td>\n",
       "      <td>2019-10-09 18:42:23</td>\n",
       "      <td>2019-10-09 18:33:56</td>\n",
       "      <td>507</td>\n",
       "    </tr>\n",
       "    <tr>\n",
       "      <th>2</th>\n",
       "      <td>0001b1d5-b74a-4cbf-aeb0-7df5947bf349</td>\n",
       "      <td>2019-10-21</td>\n",
       "      <td>2019-10-21 20:07:30</td>\n",
       "      <td>2019-10-21 19:52:31</td>\n",
       "      <td>899</td>\n",
       "    </tr>\n",
       "    <tr>\n",
       "      <th>3</th>\n",
       "      <td>0001b1d5-b74a-4cbf-aeb0-7df5947bf349</td>\n",
       "      <td>2019-10-22</td>\n",
       "      <td>2019-10-22 11:30:53</td>\n",
       "      <td>2019-10-22 11:18:15</td>\n",
       "      <td>758</td>\n",
       "    </tr>\n",
       "    <tr>\n",
       "      <th>4</th>\n",
       "      <td>00157779-810c-4498-9e05-a1e9e3cedf93</td>\n",
       "      <td>2019-10-19</td>\n",
       "      <td>2019-10-19 21:59:55</td>\n",
       "      <td>2019-10-19 21:34:34</td>\n",
       "      <td>1521</td>\n",
       "    </tr>\n",
       "  </tbody>\n",
       "</table>\n",
       "</div>"
      ],
      "text/plain": [
       "                                user_id event_date      event_time_max  \\\n",
       "0  0001b1d5-b74a-4cbf-aeb0-7df5947bf349 2019-10-07 2019-10-07 13:49:42   \n",
       "1  0001b1d5-b74a-4cbf-aeb0-7df5947bf349 2019-10-09 2019-10-09 18:42:23   \n",
       "2  0001b1d5-b74a-4cbf-aeb0-7df5947bf349 2019-10-21 2019-10-21 20:07:30   \n",
       "3  0001b1d5-b74a-4cbf-aeb0-7df5947bf349 2019-10-22 2019-10-22 11:30:53   \n",
       "4  00157779-810c-4498-9e05-a1e9e3cedf93 2019-10-19 2019-10-19 21:59:55   \n",
       "\n",
       "       event_time_min  session_duration  \n",
       "0 2019-10-07 13:39:46               596  \n",
       "1 2019-10-09 18:33:56               507  \n",
       "2 2019-10-21 19:52:31               899  \n",
       "3 2019-10-22 11:18:15               758  \n",
       "4 2019-10-19 21:34:34              1521  "
      ]
     },
     "metadata": {},
     "output_type": "display_data"
    }
   ],
   "source": [
    "# создаем таблицу длительности сессий\n",
    "\n",
    "# создаем таблицу максимальных значений времени осуществления действия униканым пользователем в рамках одного дня\n",
    "session_max = data_merged.groupby(['user_id', 'event_date'])['event_time'].agg('max').reset_index()\n",
    "\n",
    "# создаем таблицу минимальных значений времени осуществления действия униканым пользователем в рамках одного дня\n",
    "session_min = data_merged.groupby(['user_id', 'event_date'])['event_time'].agg('min').reset_index()\n",
    "\n",
    "# объединяем таблицы на уровне уникального пользователя и дня осуществления действий\n",
    "session_duration = session_max.merge(session_min, on = ['user_id', 'event_date'], how = 'left')\\\n",
    ".rename(columns = {'event_time_x':'event_time_max', 'event_time_y':'event_time_min'})\n",
    "\n",
    "# создаем колонку с расчетом разницы между максимальными и минимальными значениями осуществления действий\n",
    "# одним уникальным пользователейм в один день\n",
    "session_duration['session_duration'] = (session_duration['event_time_max'] - session_duration['event_time_min']).dt.seconds\n",
    "\n",
    "\n",
    "display(session_duration.head())"
   ]
  },
  {
   "cell_type": "code",
   "execution_count": 27,
   "metadata": {},
   "outputs": [
    {
     "data": {
      "text/plain": [
       "count    7752.000\n",
       "mean     5023.768\n",
       "std     11448.659\n",
       "min         0.000\n",
       "25%       158.750\n",
       "50%       726.000\n",
       "75%      2974.250\n",
       "max     85049.000\n",
       "Name: session_duration, dtype: float64"
      ]
     },
     "execution_count": 27,
     "metadata": {},
     "output_type": "execute_result"
    }
   ],
   "source": [
    "# Смотрим данные о длительности сессий\n",
    "\n",
    "session_duration['session_duration'].describe()"
   ]
  },
  {
   "cell_type": "code",
   "execution_count": 28,
   "metadata": {},
   "outputs": [
    {
     "data": {
      "text/html": [
       "<div>\n",
       "<style scoped>\n",
       "    .dataframe tbody tr th:only-of-type {\n",
       "        vertical-align: middle;\n",
       "    }\n",
       "\n",
       "    .dataframe tbody tr th {\n",
       "        vertical-align: top;\n",
       "    }\n",
       "\n",
       "    .dataframe thead th {\n",
       "        text-align: right;\n",
       "    }\n",
       "</style>\n",
       "<table border=\"1\" class=\"dataframe\">\n",
       "  <thead>\n",
       "    <tr style=\"text-align: right;\">\n",
       "      <th></th>\n",
       "      <th>2933</th>\n",
       "      <th>1368</th>\n",
       "      <th>2228</th>\n",
       "      <th>3608</th>\n",
       "      <th>2910</th>\n",
       "      <th>1526</th>\n",
       "      <th>2563</th>\n",
       "      <th>2024</th>\n",
       "      <th>1212</th>\n",
       "      <th>2075</th>\n",
       "      <th>2882</th>\n",
       "      <th>1481</th>\n",
       "      <th>3580</th>\n",
       "      <th>3262</th>\n",
       "      <th>3383</th>\n",
       "      <th>...</th>\n",
       "      <th>80</th>\n",
       "      <th>4</th>\n",
       "      <th>119</th>\n",
       "      <th>108</th>\n",
       "      <th>398</th>\n",
       "      <th>8</th>\n",
       "      <th>58</th>\n",
       "      <th>16</th>\n",
       "      <th>178</th>\n",
       "      <th>36</th>\n",
       "      <th>1</th>\n",
       "      <th>2</th>\n",
       "      <th>5</th>\n",
       "      <th>7</th>\n",
       "      <th>0</th>\n",
       "    </tr>\n",
       "  </thead>\n",
       "  <tbody>\n",
       "    <tr>\n",
       "      <th>Длительность сессии</th>\n",
       "      <td>85049</td>\n",
       "      <td>84643</td>\n",
       "      <td>84426</td>\n",
       "      <td>83173</td>\n",
       "      <td>82802</td>\n",
       "      <td>82528</td>\n",
       "      <td>81711</td>\n",
       "      <td>81697</td>\n",
       "      <td>81445</td>\n",
       "      <td>81125</td>\n",
       "      <td>80775</td>\n",
       "      <td>80495</td>\n",
       "      <td>80398</td>\n",
       "      <td>80277</td>\n",
       "      <td>80197</td>\n",
       "      <td>...</td>\n",
       "      <td>14</td>\n",
       "      <td>13</td>\n",
       "      <td>12</td>\n",
       "      <td>11</td>\n",
       "      <td>10</td>\n",
       "      <td>9</td>\n",
       "      <td>8</td>\n",
       "      <td>7</td>\n",
       "      <td>6</td>\n",
       "      <td>5</td>\n",
       "      <td>4</td>\n",
       "      <td>3</td>\n",
       "      <td>2</td>\n",
       "      <td>1</td>\n",
       "      <td>0</td>\n",
       "    </tr>\n",
       "    <tr>\n",
       "      <th>Количество сессий</th>\n",
       "      <td>1</td>\n",
       "      <td>1</td>\n",
       "      <td>1</td>\n",
       "      <td>1</td>\n",
       "      <td>1</td>\n",
       "      <td>1</td>\n",
       "      <td>1</td>\n",
       "      <td>1</td>\n",
       "      <td>1</td>\n",
       "      <td>1</td>\n",
       "      <td>1</td>\n",
       "      <td>1</td>\n",
       "      <td>1</td>\n",
       "      <td>1</td>\n",
       "      <td>1</td>\n",
       "      <td>...</td>\n",
       "      <td>7</td>\n",
       "      <td>15</td>\n",
       "      <td>6</td>\n",
       "      <td>6</td>\n",
       "      <td>4</td>\n",
       "      <td>12</td>\n",
       "      <td>8</td>\n",
       "      <td>10</td>\n",
       "      <td>5</td>\n",
       "      <td>9</td>\n",
       "      <td>22</td>\n",
       "      <td>17</td>\n",
       "      <td>13</td>\n",
       "      <td>12</td>\n",
       "      <td>947</td>\n",
       "    </tr>\n",
       "  </tbody>\n",
       "</table>\n",
       "<p>2 rows × 3794 columns</p>\n",
       "</div>"
      ],
      "text/plain": [
       "                      2933   1368   2228   3608   2910   1526   2563   2024  \\\n",
       "Длительность сессии  85049  84643  84426  83173  82802  82528  81711  81697   \n",
       "Количество сессий        1      1      1      1      1      1      1      1   \n",
       "\n",
       "                      1212   2075   2882   1481   3580   3262   3383  ...  \\\n",
       "Длительность сессии  81445  81125  80775  80495  80398  80277  80197  ...   \n",
       "Количество сессий        1      1      1      1      1      1      1  ...   \n",
       "\n",
       "                     80    4     119   108   398   8     58    16    178   \\\n",
       "Длительность сессии    14    13    12    11    10     9     8     7     6   \n",
       "Количество сессий       7    15     6     6     4    12     8    10     5   \n",
       "\n",
       "                     36    1     2     5     7     0     \n",
       "Длительность сессии     5     4     3     2     1     0  \n",
       "Количество сессий       9    22    17    13    12   947  \n",
       "\n",
       "[2 rows x 3794 columns]"
      ]
     },
     "metadata": {},
     "output_type": "display_data"
    }
   ],
   "source": [
    "# Смотрим информацию о количестве сессий по длительности\n",
    "\n",
    "display(session_duration['session_duration']\\\n",
    "        .value_counts()\\\n",
    "        .to_frame()\\\n",
    "        .reset_index()\\\n",
    "        .rename(columns={'index':'Длительность сессии', 'session_duration':'Количество сессий'})\n",
    "        .sort_values(by='Длительность сессии', ascending=False).T)"
   ]
  },
  {
   "cell_type": "code",
   "execution_count": 29,
   "metadata": {},
   "outputs": [
    {
     "data": {
      "text/html": [
       "<div>\n",
       "<style scoped>\n",
       "    .dataframe tbody tr th:only-of-type {\n",
       "        vertical-align: middle;\n",
       "    }\n",
       "\n",
       "    .dataframe tbody tr th {\n",
       "        vertical-align: top;\n",
       "    }\n",
       "\n",
       "    .dataframe thead th {\n",
       "        text-align: right;\n",
       "    }\n",
       "</style>\n",
       "<table border=\"1\" class=\"dataframe\">\n",
       "  <thead>\n",
       "    <tr style=\"text-align: right;\">\n",
       "      <th></th>\n",
       "      <th>session_duration</th>\n",
       "    </tr>\n",
       "    <tr>\n",
       "      <th>user_id</th>\n",
       "      <th></th>\n",
       "    </tr>\n",
       "  </thead>\n",
       "  <tbody>\n",
       "    <tr>\n",
       "      <th>0001b1d5-b74a-4cbf-aeb0-7df5947bf349</th>\n",
       "      <td>4</td>\n",
       "    </tr>\n",
       "    <tr>\n",
       "      <th>00157779-810c-4498-9e05-a1e9e3cedf93</th>\n",
       "      <td>6</td>\n",
       "    </tr>\n",
       "    <tr>\n",
       "      <th>00463033-5717-4bf1-91b4-09183923b9df</th>\n",
       "      <td>1</td>\n",
       "    </tr>\n",
       "    <tr>\n",
       "      <th>004690c3-5a84-4bb7-a8af-e0c8f8fca64e</th>\n",
       "      <td>6</td>\n",
       "    </tr>\n",
       "    <tr>\n",
       "      <th>00551e79-152e-4441-9cf7-565d7eb04090</th>\n",
       "      <td>3</td>\n",
       "    </tr>\n",
       "    <tr>\n",
       "      <th>...</th>\n",
       "      <td>...</td>\n",
       "    </tr>\n",
       "    <tr>\n",
       "      <th>ffab8d8a-30bb-424a-a3ab-0b63ebbf7b07</th>\n",
       "      <td>2</td>\n",
       "    </tr>\n",
       "    <tr>\n",
       "      <th>ffc01466-fdb1-4460-ae94-e800f52eb136</th>\n",
       "      <td>1</td>\n",
       "    </tr>\n",
       "    <tr>\n",
       "      <th>ffcf50d9-293c-4254-8243-4890b030b238</th>\n",
       "      <td>1</td>\n",
       "    </tr>\n",
       "    <tr>\n",
       "      <th>ffe68f10-e48e-470e-be9b-eeb93128ff1a</th>\n",
       "      <td>3</td>\n",
       "    </tr>\n",
       "    <tr>\n",
       "      <th>fffb9e79-b927-4dbb-9b48-7fd09b23a62b</th>\n",
       "      <td>16</td>\n",
       "    </tr>\n",
       "  </tbody>\n",
       "</table>\n",
       "<p>4228 rows × 1 columns</p>\n",
       "</div>"
      ],
      "text/plain": [
       "                                      session_duration\n",
       "user_id                                               \n",
       "0001b1d5-b74a-4cbf-aeb0-7df5947bf349                 4\n",
       "00157779-810c-4498-9e05-a1e9e3cedf93                 6\n",
       "00463033-5717-4bf1-91b4-09183923b9df                 1\n",
       "004690c3-5a84-4bb7-a8af-e0c8f8fca64e                 6\n",
       "00551e79-152e-4441-9cf7-565d7eb04090                 3\n",
       "...                                                ...\n",
       "ffab8d8a-30bb-424a-a3ab-0b63ebbf7b07                 2\n",
       "ffc01466-fdb1-4460-ae94-e800f52eb136                 1\n",
       "ffcf50d9-293c-4254-8243-4890b030b238                 1\n",
       "ffe68f10-e48e-470e-be9b-eeb93128ff1a                 3\n",
       "fffb9e79-b927-4dbb-9b48-7fd09b23a62b                16\n",
       "\n",
       "[4228 rows x 1 columns]"
      ]
     },
     "execution_count": 29,
     "metadata": {},
     "output_type": "execute_result"
    }
   ],
   "source": [
    "session_count = session_duration.groupby('user_id').agg({'session_duration':'count'})\n",
    "session_count"
   ]
  },
  {
   "cell_type": "code",
   "execution_count": 30,
   "metadata": {},
   "outputs": [
    {
     "data": {
      "text/plain": [
       "array([ 5.,  6.,  7., 10.])"
      ]
     },
     "execution_count": 30,
     "metadata": {},
     "output_type": "execute_result"
    }
   ],
   "source": [
    "np.percentile(session_count['session_duration'], [95, 97, 98, 99])"
   ]
  },
  {
   "cell_type": "code",
   "execution_count": 31,
   "metadata": {},
   "outputs": [
    {
     "data": {
      "image/png": "[encoded data removed]",
      "text/plain": [
       "<Figure size 720x360 with 1 Axes>"
      ]
     },
     "metadata": {
      "needs_background": "light"
     },
     "output_type": "display_data"
    }
   ],
   "source": [
    "# Визуализируем распределение данных о длительности сессий\n",
    "\n",
    "plt.figure(figsize=(10, 5))\n",
    "sns.set(style='whitegrid', palette='bright')\n",
    "ax = sns.distplot(session_duration['session_duration'], kde=False)\n",
    "ax.set(xlim=(0, 8000))\n",
    "plt.title('Распределение длительности сессий', fontsize=15)\n",
    "plt.ylabel('Количество сессий', fontsize=10)\n",
    "plt.xlabel('Длительность сессии, секунды', fontsize=10)\n",
    "plt.show()"
   ]
  },
  {
   "cell_type": "code",
   "execution_count": 32,
   "metadata": {},
   "outputs": [
    {
     "data": {
      "text/plain": [
       "count   28.000\n",
       "mean    33.821\n",
       "std     10.350\n",
       "min     11.000\n",
       "25%     25.000\n",
       "50%     37.500\n",
       "75%     41.000\n",
       "max     52.000\n",
       "Name: session_duration, dtype: float64"
      ]
     },
     "metadata": {},
     "output_type": "display_data"
    }
   ],
   "source": [
    "# Смотрим информацию о минимальных значениях длительности сессий\n",
    "\n",
    "display(session_duration[session_duration['session_duration'] == 0]\\\n",
    "        .groupby('event_date')['session_duration']\\\n",
    "        .count()\\\n",
    "        .describe())"
   ]
  },
  {
   "cell_type": "code",
   "execution_count": 33,
   "metadata": {},
   "outputs": [
    {
     "data": {
      "text/plain": [
       "count   28.000\n",
       "mean    45.964\n",
       "std     12.103\n",
       "min     19.000\n",
       "25%     39.500\n",
       "50%     46.500\n",
       "75%     53.500\n",
       "max     67.000\n",
       "Name: session_duration, dtype: float64"
      ]
     },
     "metadata": {},
     "output_type": "display_data"
    }
   ],
   "source": [
    "# Смотрим информацию о максимальных значениях длительности сессий\n",
    "\n",
    "display(session_duration[session_duration['session_duration'] > 7092]\\\n",
    "        .groupby('event_date')['session_duration']\\\n",
    "        .count()\\\n",
    "        .describe())"
   ]
  },
  {
   "cell_type": "markdown",
   "metadata": {},
   "source": [
    "**Выводы**: В течении изучаемого периода времени пользователи осуществили 7 817 сессий, средняя длительность сессии составила 4 982 секунды, или 83 минуты\n",
    "минимальная сессия равна 0; распределение нулевых сессий по дням достаточно равномерное и не имеет аномалий; \n",
    "50% сессий равна 708 секундам, или 12 минутам."
   ]
  },
  {
   "cell_type": "markdown",
   "metadata": {},
   "source": [
    "### Анализ конверсии в целевое действие"
   ]
  },
  {
   "cell_type": "code",
   "execution_count": 34,
   "metadata": {},
   "outputs": [
    {
     "data": {
      "text/html": [
       "<div>\n",
       "<style scoped>\n",
       "    .dataframe tbody tr th:only-of-type {\n",
       "        vertical-align: middle;\n",
       "    }\n",
       "\n",
       "    .dataframe tbody tr th {\n",
       "        vertical-align: top;\n",
       "    }\n",
       "\n",
       "    .dataframe thead th {\n",
       "        text-align: right;\n",
       "    }\n",
       "</style>\n",
       "<table border=\"1\" class=\"dataframe\">\n",
       "  <thead>\n",
       "    <tr style=\"text-align: right;\">\n",
       "      <th></th>\n",
       "      <th>event_name</th>\n",
       "      <th>advert_open</th>\n",
       "      <th>contacts_call</th>\n",
       "      <th>contacts_show</th>\n",
       "      <th>favorites_add</th>\n",
       "      <th>map</th>\n",
       "      <th>photos_show</th>\n",
       "      <th>search</th>\n",
       "      <th>tips_click</th>\n",
       "    </tr>\n",
       "    <tr>\n",
       "      <th>user_id</th>\n",
       "      <th>source</th>\n",
       "      <th></th>\n",
       "      <th></th>\n",
       "      <th></th>\n",
       "      <th></th>\n",
       "      <th></th>\n",
       "      <th></th>\n",
       "      <th></th>\n",
       "      <th></th>\n",
       "    </tr>\n",
       "  </thead>\n",
       "  <tbody>\n",
       "    <tr>\n",
       "      <th>0001b1d5-b74a-4cbf-aeb0-7df5947bf349</th>\n",
       "      <th>other</th>\n",
       "      <td>NaN</td>\n",
       "      <td>NaN</td>\n",
       "      <td>NaN</td>\n",
       "      <td>NaN</td>\n",
       "      <td>6.000</td>\n",
       "      <td>NaN</td>\n",
       "      <td>NaN</td>\n",
       "      <td>NaN</td>\n",
       "    </tr>\n",
       "    <tr>\n",
       "      <th>00157779-810c-4498-9e05-a1e9e3cedf93</th>\n",
       "      <th>yandex</th>\n",
       "      <td>2.000</td>\n",
       "      <td>5.000</td>\n",
       "      <td>11.000</td>\n",
       "      <td>2.000</td>\n",
       "      <td>NaN</td>\n",
       "      <td>33.000</td>\n",
       "      <td>18.000</td>\n",
       "      <td>NaN</td>\n",
       "    </tr>\n",
       "  </tbody>\n",
       "</table>\n",
       "</div>"
      ],
      "text/plain": [
       "event_name                                   advert_open  contacts_call  \\\n",
       "user_id                              source                               \n",
       "0001b1d5-b74a-4cbf-aeb0-7df5947bf349 other           NaN            NaN   \n",
       "00157779-810c-4498-9e05-a1e9e3cedf93 yandex        2.000          5.000   \n",
       "\n",
       "event_name                                   contacts_show  favorites_add  \\\n",
       "user_id                              source                                 \n",
       "0001b1d5-b74a-4cbf-aeb0-7df5947bf349 other             NaN            NaN   \n",
       "00157779-810c-4498-9e05-a1e9e3cedf93 yandex         11.000          2.000   \n",
       "\n",
       "event_name                                    map  photos_show  search  \\\n",
       "user_id                              source                              \n",
       "0001b1d5-b74a-4cbf-aeb0-7df5947bf349 other  6.000          NaN     NaN   \n",
       "00157779-810c-4498-9e05-a1e9e3cedf93 yandex   NaN       33.000  18.000   \n",
       "\n",
       "event_name                                   tips_click  \n",
       "user_id                              source              \n",
       "0001b1d5-b74a-4cbf-aeb0-7df5947bf349 other          NaN  \n",
       "00157779-810c-4498-9e05-a1e9e3cedf93 yandex         NaN  "
      ]
     },
     "metadata": {},
     "output_type": "display_data"
    }
   ],
   "source": [
    "# Соберем табличку по пользователям, осуществившим какие-то действия, уберем tips_show\n",
    "\n",
    "data_users = data_merged.pivot_table(index = [\"user_id\", \"source\"], columns = 'event_name', values = 'event_time', aggfunc = ('count'))\\\n",
    ".drop('tips_show', axis=1)\n",
    "display(data_users.head(2))\n"
   ]
  },
  {
   "cell_type": "code",
   "execution_count": 35,
   "metadata": {},
   "outputs": [
    {
     "data": {
      "text/html": [
       "<div>\n",
       "<style scoped>\n",
       "    .dataframe tbody tr th:only-of-type {\n",
       "        vertical-align: middle;\n",
       "    }\n",
       "\n",
       "    .dataframe tbody tr th {\n",
       "        vertical-align: top;\n",
       "    }\n",
       "\n",
       "    .dataframe thead th {\n",
       "        text-align: right;\n",
       "    }\n",
       "</style>\n",
       "<table border=\"1\" class=\"dataframe\">\n",
       "  <thead>\n",
       "    <tr style=\"text-align: right;\">\n",
       "      <th></th>\n",
       "      <th>count</th>\n",
       "      <th>mean</th>\n",
       "      <th>std</th>\n",
       "      <th>min</th>\n",
       "      <th>25%</th>\n",
       "      <th>50%</th>\n",
       "      <th>75%</th>\n",
       "      <th>max</th>\n",
       "    </tr>\n",
       "    <tr>\n",
       "      <th>event_name</th>\n",
       "      <th></th>\n",
       "      <th></th>\n",
       "      <th></th>\n",
       "      <th></th>\n",
       "      <th></th>\n",
       "      <th></th>\n",
       "      <th></th>\n",
       "      <th></th>\n",
       "    </tr>\n",
       "  </thead>\n",
       "  <tbody>\n",
       "    <tr>\n",
       "      <th>search</th>\n",
       "      <td>1658.000</td>\n",
       "      <td>4.087</td>\n",
       "      <td>5.170</td>\n",
       "      <td>1.000</td>\n",
       "      <td>2.000</td>\n",
       "      <td>3.000</td>\n",
       "      <td>4.000</td>\n",
       "      <td>68.000</td>\n",
       "    </tr>\n",
       "    <tr>\n",
       "      <th>map</th>\n",
       "      <td>1440.000</td>\n",
       "      <td>2.684</td>\n",
       "      <td>4.774</td>\n",
       "      <td>1.000</td>\n",
       "      <td>1.000</td>\n",
       "      <td>1.000</td>\n",
       "      <td>3.000</td>\n",
       "      <td>71.000</td>\n",
       "    </tr>\n",
       "    <tr>\n",
       "      <th>photos_show</th>\n",
       "      <td>1091.000</td>\n",
       "      <td>9.173</td>\n",
       "      <td>14.633</td>\n",
       "      <td>1.000</td>\n",
       "      <td>3.000</td>\n",
       "      <td>5.000</td>\n",
       "      <td>9.000</td>\n",
       "      <td>177.000</td>\n",
       "    </tr>\n",
       "    <tr>\n",
       "      <th>contacts_show</th>\n",
       "      <td>975.000</td>\n",
       "      <td>4.639</td>\n",
       "      <td>9.647</td>\n",
       "      <td>1.000</td>\n",
       "      <td>1.000</td>\n",
       "      <td>2.000</td>\n",
       "      <td>4.000</td>\n",
       "      <td>137.000</td>\n",
       "    </tr>\n",
       "    <tr>\n",
       "      <th>advert_open</th>\n",
       "      <td>750.000</td>\n",
       "      <td>8.217</td>\n",
       "      <td>12.705</td>\n",
       "      <td>1.000</td>\n",
       "      <td>2.000</td>\n",
       "      <td>4.000</td>\n",
       "      <td>8.750</td>\n",
       "      <td>137.000</td>\n",
       "    </tr>\n",
       "    <tr>\n",
       "      <th>favorites_add</th>\n",
       "      <td>351.000</td>\n",
       "      <td>4.037</td>\n",
       "      <td>6.292</td>\n",
       "      <td>1.000</td>\n",
       "      <td>1.000</td>\n",
       "      <td>2.000</td>\n",
       "      <td>5.000</td>\n",
       "      <td>63.000</td>\n",
       "    </tr>\n",
       "    <tr>\n",
       "      <th>tips_click</th>\n",
       "      <td>322.000</td>\n",
       "      <td>2.528</td>\n",
       "      <td>2.943</td>\n",
       "      <td>1.000</td>\n",
       "      <td>1.000</td>\n",
       "      <td>1.000</td>\n",
       "      <td>3.000</td>\n",
       "      <td>30.000</td>\n",
       "    </tr>\n",
       "    <tr>\n",
       "      <th>contacts_call</th>\n",
       "      <td>213.000</td>\n",
       "      <td>2.540</td>\n",
       "      <td>2.388</td>\n",
       "      <td>1.000</td>\n",
       "      <td>1.000</td>\n",
       "      <td>2.000</td>\n",
       "      <td>3.000</td>\n",
       "      <td>17.000</td>\n",
       "    </tr>\n",
       "  </tbody>\n",
       "</table>\n",
       "</div>"
      ],
      "text/plain": [
       "                 count  mean    std   min   25%   50%   75%     max\n",
       "event_name                                                         \n",
       "search        1658.000 4.087  5.170 1.000 2.000 3.000 4.000  68.000\n",
       "map           1440.000 2.684  4.774 1.000 1.000 1.000 3.000  71.000\n",
       "photos_show   1091.000 9.173 14.633 1.000 3.000 5.000 9.000 177.000\n",
       "contacts_show  975.000 4.639  9.647 1.000 1.000 2.000 4.000 137.000\n",
       "advert_open    750.000 8.217 12.705 1.000 2.000 4.000 8.750 137.000\n",
       "favorites_add  351.000 4.037  6.292 1.000 1.000 2.000 5.000  63.000\n",
       "tips_click     322.000 2.528  2.943 1.000 1.000 1.000 3.000  30.000\n",
       "contacts_call  213.000 2.540  2.388 1.000 1.000 2.000 3.000  17.000"
      ]
     },
     "metadata": {},
     "output_type": "display_data"
    }
   ],
   "source": [
    "# Смотрим информацию по кол-ву действий пользователей, осуществивших целевое действие\n",
    "\n",
    "display(data_users.describe().T.sort_values(by='count', ascending=False))"
   ]
  },
  {
   "cell_type": "code",
   "execution_count": 36,
   "metadata": {},
   "outputs": [
    {
     "data": {
      "text/html": [
       "<div>\n",
       "<style scoped>\n",
       "    .dataframe tbody tr th:only-of-type {\n",
       "        vertical-align: middle;\n",
       "    }\n",
       "\n",
       "    .dataframe tbody tr th {\n",
       "        vertical-align: top;\n",
       "    }\n",
       "\n",
       "    .dataframe thead th {\n",
       "        text-align: right;\n",
       "    }\n",
       "</style>\n",
       "<table border=\"1\" class=\"dataframe\">\n",
       "  <thead>\n",
       "    <tr style=\"text-align: right;\">\n",
       "      <th></th>\n",
       "      <th>36</th>\n",
       "      <th>39</th>\n",
       "      <th>32</th>\n",
       "      <th>34</th>\n",
       "      <th>30</th>\n",
       "      <th>33</th>\n",
       "      <th>27</th>\n",
       "      <th>26</th>\n",
       "      <th>28</th>\n",
       "      <th>29</th>\n",
       "      <th>22</th>\n",
       "      <th>24</th>\n",
       "      <th>37</th>\n",
       "      <th>38</th>\n",
       "      <th>35</th>\n",
       "      <th>...</th>\n",
       "      <th>13</th>\n",
       "      <th>15</th>\n",
       "      <th>14</th>\n",
       "      <th>10</th>\n",
       "      <th>8</th>\n",
       "      <th>12</th>\n",
       "      <th>9</th>\n",
       "      <th>7</th>\n",
       "      <th>6</th>\n",
       "      <th>5</th>\n",
       "      <th>4</th>\n",
       "      <th>3</th>\n",
       "      <th>2</th>\n",
       "      <th>1</th>\n",
       "      <th>0</th>\n",
       "    </tr>\n",
       "  </thead>\n",
       "  <tbody>\n",
       "    <tr>\n",
       "      <th>кол-во просмотров</th>\n",
       "      <td>137.000</td>\n",
       "      <td>100.000</td>\n",
       "      <td>86.000</td>\n",
       "      <td>83.000</td>\n",
       "      <td>74.000</td>\n",
       "      <td>69.000</td>\n",
       "      <td>68.000</td>\n",
       "      <td>65.000</td>\n",
       "      <td>62.000</td>\n",
       "      <td>61.000</td>\n",
       "      <td>60.000</td>\n",
       "      <td>43.000</td>\n",
       "      <td>39.000</td>\n",
       "      <td>32.000</td>\n",
       "      <td>29.000</td>\n",
       "      <td>...</td>\n",
       "      <td>15.000</td>\n",
       "      <td>14.000</td>\n",
       "      <td>13.000</td>\n",
       "      <td>12.000</td>\n",
       "      <td>11.000</td>\n",
       "      <td>10.000</td>\n",
       "      <td>9.000</td>\n",
       "      <td>8.000</td>\n",
       "      <td>7.000</td>\n",
       "      <td>6.000</td>\n",
       "      <td>5.000</td>\n",
       "      <td>4.000</td>\n",
       "      <td>3.000</td>\n",
       "      <td>2.000</td>\n",
       "      <td>1.000</td>\n",
       "    </tr>\n",
       "    <tr>\n",
       "      <th>кол-во пользователей</th>\n",
       "      <td>1.000</td>\n",
       "      <td>1.000</td>\n",
       "      <td>1.000</td>\n",
       "      <td>1.000</td>\n",
       "      <td>1.000</td>\n",
       "      <td>1.000</td>\n",
       "      <td>1.000</td>\n",
       "      <td>1.000</td>\n",
       "      <td>1.000</td>\n",
       "      <td>1.000</td>\n",
       "      <td>2.000</td>\n",
       "      <td>1.000</td>\n",
       "      <td>1.000</td>\n",
       "      <td>1.000</td>\n",
       "      <td>1.000</td>\n",
       "      <td>...</td>\n",
       "      <td>4.000</td>\n",
       "      <td>4.000</td>\n",
       "      <td>4.000</td>\n",
       "      <td>13.000</td>\n",
       "      <td>17.000</td>\n",
       "      <td>5.000</td>\n",
       "      <td>16.000</td>\n",
       "      <td>19.000</td>\n",
       "      <td>33.000</td>\n",
       "      <td>38.000</td>\n",
       "      <td>46.000</td>\n",
       "      <td>71.000</td>\n",
       "      <td>106.000</td>\n",
       "      <td>183.000</td>\n",
       "      <td>374.000</td>\n",
       "    </tr>\n",
       "  </tbody>\n",
       "</table>\n",
       "<p>2 rows × 40 columns</p>\n",
       "</div>"
      ],
      "text/plain": [
       "                          36      39     32     34     30     33     27  \\\n",
       "кол-во просмотров    137.000 100.000 86.000 83.000 74.000 69.000 68.000   \n",
       "кол-во пользователей   1.000   1.000  1.000  1.000  1.000  1.000  1.000   \n",
       "\n",
       "                         26     28     29     22     24     37     38     35  \\\n",
       "кол-во просмотров    65.000 62.000 61.000 60.000 43.000 39.000 32.000 29.000   \n",
       "кол-во пользователей  1.000  1.000  1.000  2.000  1.000  1.000  1.000  1.000   \n",
       "\n",
       "                      ...     13     15     14     10     8      12     9   \\\n",
       "кол-во просмотров     ... 15.000 14.000 13.000 12.000 11.000 10.000  9.000   \n",
       "кол-во пользователей  ...  4.000  4.000  4.000 13.000 17.000  5.000 16.000   \n",
       "\n",
       "                         7      6      5      4      3       2       1   \\\n",
       "кол-во просмотров     8.000  7.000  6.000  5.000  4.000   3.000   2.000   \n",
       "кол-во пользователей 19.000 33.000 38.000 46.000 71.000 106.000 183.000   \n",
       "\n",
       "                          0   \n",
       "кол-во просмотров      1.000  \n",
       "кол-во пользователей 374.000  \n",
       "\n",
       "[2 rows x 40 columns]"
      ]
     },
     "metadata": {},
     "output_type": "display_data"
    }
   ],
   "source": [
    "# Смотрим распределение целевого действия по уникальным пользователям\n",
    "\n",
    "display(data_users['contacts_show']\\\n",
    "        .value_counts()\\\n",
    "        .to_frame()\\\n",
    "        .reset_index()\\\n",
    "        .rename(columns={'index':'кол-во просмотров', 'contacts_show':'кол-во пользователей'})\n",
    "        .sort_values(by='кол-во просмотров', ascending=False).T)"
   ]
  },
  {
   "cell_type": "code",
   "execution_count": 37,
   "metadata": {},
   "outputs": [
    {
     "data": {
      "image/png": "[encoded data removed]",
      "text/plain": [
       "<Figure size 720x360 with 1 Axes>"
      ]
     },
     "metadata": {},
     "output_type": "display_data"
    }
   ],
   "source": [
    "# Визуализируем данные\n",
    "\n",
    "plt.figure(figsize=(10, 5))\n",
    "sns.distplot(data_users['contacts_show'], kde=False)\n",
    "plt.title('Распределение целевой переменной по пользователям', fontsize=14)\n",
    "plt.xlabel('Количество просмотров', fontsize=12)\n",
    "plt.ylabel('Количество клиентов', fontsize=12)\n",
    "plt.show()"
   ]
  },
  {
   "cell_type": "code",
   "execution_count": 38,
   "metadata": {
    "scrolled": true
   },
   "outputs": [
    {
     "data": {
      "text/plain": [
       "0.23060548722800378"
      ]
     },
     "execution_count": 38,
     "metadata": {},
     "output_type": "execute_result"
    }
   ],
   "source": [
    "conv_1 = data_merged.query('event_name == \"contacts_show\"')\n",
    "conv_1 = conv_1['user_id'].nunique()/ data_merged['user_id'].nunique()\n",
    "conv_1"
   ]
  },
  {
   "cell_type": "markdown",
   "metadata": {},
   "source": [
    "**Выводы**: Распределение данных имеет ассиметричный характер, скошено вправо, \n",
    "75% клиентов осуществили целевое действие от 1 до 4 раз. \n",
    "Обнаружены аномальные выбросы, максимальное количество целевых действий, осуществленных одним клиентом - 137 раз.\n"
   ]
  },
  {
   "cell_type": "markdown",
   "metadata": {},
   "source": [
    "## Сегментация пользователей на основе их действий в приложении. "
   ]
  },
  {
   "cell_type": "markdown",
   "metadata": {},
   "source": [
    "### Разделение пользователей на кластеры"
   ]
  },
  {
   "cell_type": "markdown",
   "metadata": {},
   "source": [
    "Стоит сегментировать пользователей по ключевым метрикам, таким как количество сессий, целевое действие, просмотр фото, добавление объявлений в избранное, использование поиска."
   ]
  },
  {
   "cell_type": "code",
   "execution_count": 39,
   "metadata": {},
   "outputs": [
    {
     "data": {
      "text/html": [
       "<div>\n",
       "<style scoped>\n",
       "    .dataframe tbody tr th:only-of-type {\n",
       "        vertical-align: middle;\n",
       "    }\n",
       "\n",
       "    .dataframe tbody tr th {\n",
       "        vertical-align: top;\n",
       "    }\n",
       "\n",
       "    .dataframe thead th {\n",
       "        text-align: right;\n",
       "    }\n",
       "</style>\n",
       "<table border=\"1\" class=\"dataframe\">\n",
       "  <thead>\n",
       "    <tr style=\"text-align: right;\">\n",
       "      <th></th>\n",
       "      <th>advert_open</th>\n",
       "      <th>contacts_call</th>\n",
       "      <th>contacts_show</th>\n",
       "      <th>favorites_add</th>\n",
       "      <th>map</th>\n",
       "      <th>photos_show</th>\n",
       "      <th>search</th>\n",
       "      <th>tips_click</th>\n",
       "      <th>session_duration</th>\n",
       "    </tr>\n",
       "    <tr>\n",
       "      <th>user_id</th>\n",
       "      <th></th>\n",
       "      <th></th>\n",
       "      <th></th>\n",
       "      <th></th>\n",
       "      <th></th>\n",
       "      <th></th>\n",
       "      <th></th>\n",
       "      <th></th>\n",
       "      <th></th>\n",
       "    </tr>\n",
       "  </thead>\n",
       "  <tbody>\n",
       "    <tr>\n",
       "      <th>0001b1d5-b74a-4cbf-aeb0-7df5947bf349</th>\n",
       "      <td>NaN</td>\n",
       "      <td>NaN</td>\n",
       "      <td>NaN</td>\n",
       "      <td>NaN</td>\n",
       "      <td>6.000</td>\n",
       "      <td>NaN</td>\n",
       "      <td>NaN</td>\n",
       "      <td>NaN</td>\n",
       "      <td>4</td>\n",
       "    </tr>\n",
       "    <tr>\n",
       "      <th>00157779-810c-4498-9e05-a1e9e3cedf93</th>\n",
       "      <td>2.000</td>\n",
       "      <td>5.000</td>\n",
       "      <td>11.000</td>\n",
       "      <td>2.000</td>\n",
       "      <td>NaN</td>\n",
       "      <td>33.000</td>\n",
       "      <td>18.000</td>\n",
       "      <td>NaN</td>\n",
       "      <td>6</td>\n",
       "    </tr>\n",
       "    <tr>\n",
       "      <th>00463033-5717-4bf1-91b4-09183923b9df</th>\n",
       "      <td>NaN</td>\n",
       "      <td>NaN</td>\n",
       "      <td>NaN</td>\n",
       "      <td>NaN</td>\n",
       "      <td>NaN</td>\n",
       "      <td>10.000</td>\n",
       "      <td>NaN</td>\n",
       "      <td>NaN</td>\n",
       "      <td>1</td>\n",
       "    </tr>\n",
       "    <tr>\n",
       "      <th>004690c3-5a84-4bb7-a8af-e0c8f8fca64e</th>\n",
       "      <td>5.000</td>\n",
       "      <td>NaN</td>\n",
       "      <td>NaN</td>\n",
       "      <td>NaN</td>\n",
       "      <td>6.000</td>\n",
       "      <td>NaN</td>\n",
       "      <td>17.000</td>\n",
       "      <td>NaN</td>\n",
       "      <td>6</td>\n",
       "    </tr>\n",
       "    <tr>\n",
       "      <th>00551e79-152e-4441-9cf7-565d7eb04090</th>\n",
       "      <td>NaN</td>\n",
       "      <td>3.000</td>\n",
       "      <td>3.000</td>\n",
       "      <td>NaN</td>\n",
       "      <td>NaN</td>\n",
       "      <td>1.000</td>\n",
       "      <td>1.000</td>\n",
       "      <td>NaN</td>\n",
       "      <td>3</td>\n",
       "    </tr>\n",
       "  </tbody>\n",
       "</table>\n",
       "</div>"
      ],
      "text/plain": [
       "                                      advert_open  contacts_call  \\\n",
       "user_id                                                            \n",
       "0001b1d5-b74a-4cbf-aeb0-7df5947bf349          NaN            NaN   \n",
       "00157779-810c-4498-9e05-a1e9e3cedf93        2.000          5.000   \n",
       "00463033-5717-4bf1-91b4-09183923b9df          NaN            NaN   \n",
       "004690c3-5a84-4bb7-a8af-e0c8f8fca64e        5.000            NaN   \n",
       "00551e79-152e-4441-9cf7-565d7eb04090          NaN          3.000   \n",
       "\n",
       "                                      contacts_show  favorites_add   map  \\\n",
       "user_id                                                                    \n",
       "0001b1d5-b74a-4cbf-aeb0-7df5947bf349            NaN            NaN 6.000   \n",
       "00157779-810c-4498-9e05-a1e9e3cedf93         11.000          2.000   NaN   \n",
       "00463033-5717-4bf1-91b4-09183923b9df            NaN            NaN   NaN   \n",
       "004690c3-5a84-4bb7-a8af-e0c8f8fca64e            NaN            NaN 6.000   \n",
       "00551e79-152e-4441-9cf7-565d7eb04090          3.000            NaN   NaN   \n",
       "\n",
       "                                      photos_show  search  tips_click  \\\n",
       "user_id                                                                 \n",
       "0001b1d5-b74a-4cbf-aeb0-7df5947bf349          NaN     NaN         NaN   \n",
       "00157779-810c-4498-9e05-a1e9e3cedf93       33.000  18.000         NaN   \n",
       "00463033-5717-4bf1-91b4-09183923b9df       10.000     NaN         NaN   \n",
       "004690c3-5a84-4bb7-a8af-e0c8f8fca64e          NaN  17.000         NaN   \n",
       "00551e79-152e-4441-9cf7-565d7eb04090        1.000   1.000         NaN   \n",
       "\n",
       "                                      session_duration  \n",
       "user_id                                                 \n",
       "0001b1d5-b74a-4cbf-aeb0-7df5947bf349                 4  \n",
       "00157779-810c-4498-9e05-a1e9e3cedf93                 6  \n",
       "00463033-5717-4bf1-91b4-09183923b9df                 1  \n",
       "004690c3-5a84-4bb7-a8af-e0c8f8fca64e                 6  \n",
       "00551e79-152e-4441-9cf7-565d7eb04090                 3  "
      ]
     },
     "execution_count": 39,
     "metadata": {},
     "output_type": "execute_result"
    }
   ],
   "source": [
    "# Добавим в метрику data_users данные о количестве сессий\n",
    "\n",
    "data_users= data_users.merge(session_count, on='user_id')\n",
    "data_users.head()\n"
   ]
  },
  {
   "cell_type": "code",
   "execution_count": 40,
   "metadata": {},
   "outputs": [
    {
     "data": {
      "text/html": [
       "<div>\n",
       "<style scoped>\n",
       "    .dataframe tbody tr th:only-of-type {\n",
       "        vertical-align: middle;\n",
       "    }\n",
       "\n",
       "    .dataframe tbody tr th {\n",
       "        vertical-align: top;\n",
       "    }\n",
       "\n",
       "    .dataframe thead th {\n",
       "        text-align: right;\n",
       "    }\n",
       "</style>\n",
       "<table border=\"1\" class=\"dataframe\">\n",
       "  <thead>\n",
       "    <tr style=\"text-align: right;\">\n",
       "      <th></th>\n",
       "      <th>advert_open</th>\n",
       "      <th>contacts_call</th>\n",
       "      <th>contacts_show</th>\n",
       "      <th>favorites_add</th>\n",
       "      <th>map</th>\n",
       "      <th>photos_show</th>\n",
       "      <th>search</th>\n",
       "      <th>tips_click</th>\n",
       "      <th>session_duration</th>\n",
       "    </tr>\n",
       "    <tr>\n",
       "      <th>user_id</th>\n",
       "      <th></th>\n",
       "      <th></th>\n",
       "      <th></th>\n",
       "      <th></th>\n",
       "      <th></th>\n",
       "      <th></th>\n",
       "      <th></th>\n",
       "      <th></th>\n",
       "      <th></th>\n",
       "    </tr>\n",
       "  </thead>\n",
       "  <tbody>\n",
       "    <tr>\n",
       "      <th>0001b1d5-b74a-4cbf-aeb0-7df5947bf349</th>\n",
       "      <td>0.000</td>\n",
       "      <td>0.000</td>\n",
       "      <td>0.000</td>\n",
       "      <td>0.000</td>\n",
       "      <td>6.000</td>\n",
       "      <td>0.000</td>\n",
       "      <td>0.000</td>\n",
       "      <td>0.000</td>\n",
       "      <td>4</td>\n",
       "    </tr>\n",
       "    <tr>\n",
       "      <th>00157779-810c-4498-9e05-a1e9e3cedf93</th>\n",
       "      <td>2.000</td>\n",
       "      <td>5.000</td>\n",
       "      <td>11.000</td>\n",
       "      <td>2.000</td>\n",
       "      <td>0.000</td>\n",
       "      <td>33.000</td>\n",
       "      <td>18.000</td>\n",
       "      <td>0.000</td>\n",
       "      <td>6</td>\n",
       "    </tr>\n",
       "    <tr>\n",
       "      <th>00463033-5717-4bf1-91b4-09183923b9df</th>\n",
       "      <td>0.000</td>\n",
       "      <td>0.000</td>\n",
       "      <td>0.000</td>\n",
       "      <td>0.000</td>\n",
       "      <td>0.000</td>\n",
       "      <td>10.000</td>\n",
       "      <td>0.000</td>\n",
       "      <td>0.000</td>\n",
       "      <td>1</td>\n",
       "    </tr>\n",
       "    <tr>\n",
       "      <th>004690c3-5a84-4bb7-a8af-e0c8f8fca64e</th>\n",
       "      <td>5.000</td>\n",
       "      <td>0.000</td>\n",
       "      <td>0.000</td>\n",
       "      <td>0.000</td>\n",
       "      <td>6.000</td>\n",
       "      <td>0.000</td>\n",
       "      <td>17.000</td>\n",
       "      <td>0.000</td>\n",
       "      <td>6</td>\n",
       "    </tr>\n",
       "    <tr>\n",
       "      <th>00551e79-152e-4441-9cf7-565d7eb04090</th>\n",
       "      <td>0.000</td>\n",
       "      <td>3.000</td>\n",
       "      <td>3.000</td>\n",
       "      <td>0.000</td>\n",
       "      <td>0.000</td>\n",
       "      <td>1.000</td>\n",
       "      <td>1.000</td>\n",
       "      <td>0.000</td>\n",
       "      <td>3</td>\n",
       "    </tr>\n",
       "  </tbody>\n",
       "</table>\n",
       "</div>"
      ],
      "text/plain": [
       "                                      advert_open  contacts_call  \\\n",
       "user_id                                                            \n",
       "0001b1d5-b74a-4cbf-aeb0-7df5947bf349        0.000          0.000   \n",
       "00157779-810c-4498-9e05-a1e9e3cedf93        2.000          5.000   \n",
       "00463033-5717-4bf1-91b4-09183923b9df        0.000          0.000   \n",
       "004690c3-5a84-4bb7-a8af-e0c8f8fca64e        5.000          0.000   \n",
       "00551e79-152e-4441-9cf7-565d7eb04090        0.000          3.000   \n",
       "\n",
       "                                      contacts_show  favorites_add   map  \\\n",
       "user_id                                                                    \n",
       "0001b1d5-b74a-4cbf-aeb0-7df5947bf349          0.000          0.000 6.000   \n",
       "00157779-810c-4498-9e05-a1e9e3cedf93         11.000          2.000 0.000   \n",
       "00463033-5717-4bf1-91b4-09183923b9df          0.000          0.000 0.000   \n",
       "004690c3-5a84-4bb7-a8af-e0c8f8fca64e          0.000          0.000 6.000   \n",
       "00551e79-152e-4441-9cf7-565d7eb04090          3.000          0.000 0.000   \n",
       "\n",
       "                                      photos_show  search  tips_click  \\\n",
       "user_id                                                                 \n",
       "0001b1d5-b74a-4cbf-aeb0-7df5947bf349        0.000   0.000       0.000   \n",
       "00157779-810c-4498-9e05-a1e9e3cedf93       33.000  18.000       0.000   \n",
       "00463033-5717-4bf1-91b4-09183923b9df       10.000   0.000       0.000   \n",
       "004690c3-5a84-4bb7-a8af-e0c8f8fca64e        0.000  17.000       0.000   \n",
       "00551e79-152e-4441-9cf7-565d7eb04090        1.000   1.000       0.000   \n",
       "\n",
       "                                      session_duration  \n",
       "user_id                                                 \n",
       "0001b1d5-b74a-4cbf-aeb0-7df5947bf349                 4  \n",
       "00157779-810c-4498-9e05-a1e9e3cedf93                 6  \n",
       "00463033-5717-4bf1-91b4-09183923b9df                 1  \n",
       "004690c3-5a84-4bb7-a8af-e0c8f8fca64e                 6  \n",
       "00551e79-152e-4441-9cf7-565d7eb04090                 3  "
      ]
     },
     "execution_count": 40,
     "metadata": {},
     "output_type": "execute_result"
    }
   ],
   "source": [
    "#Убираем NaN которые могут помешать кластеризации\n",
    "data_users = data_users.fillna(0)\n",
    "data_users.head()\n"
   ]
  },
  {
   "cell_type": "code",
   "execution_count": 41,
   "metadata": {},
   "outputs": [],
   "source": [
    "# Убираем выбросы\n",
    "data_users = data_users.query('session_duration<7')"
   ]
  },
  {
   "cell_type": "code",
   "execution_count": 42,
   "metadata": {},
   "outputs": [],
   "source": [
    "sc = StandardScaler()\n",
    "X_sc = sc.fit_transform(data_users)\n",
    "linked = linkage(X_sc, method = 'ward')"
   ]
  },
  {
   "cell_type": "code",
   "execution_count": 43,
   "metadata": {},
   "outputs": [
    {
     "data": {
      "image/png": "[encoded data removed]",
      "text/plain": [
       "<Figure size 1080x720 with 1 Axes>"
      ]
     },
     "metadata": {},
     "output_type": "display_data"
    }
   ],
   "source": [
    "plt.figure(figsize=(15, 10))  \n",
    "dendrogram(linked, orientation='top')\n",
    "plt.title('Иерархическая кластеризация')\n",
    "plt.show()"
   ]
  },
  {
   "cell_type": "code",
   "execution_count": 44,
   "metadata": {},
   "outputs": [],
   "source": [
    "# задаём минимальное число кластеров\n",
    "km = KMeans(n_clusters = 2, random_state=42) \n",
    "\n",
    "#применяем алгоритм к данным и формируем вектор кластеров\n",
    "labels = km.fit_predict(X_sc) \n",
    "\n",
    "#добавляем метки кластеров в данные\n",
    "data_users['claster'] = labels"
   ]
  },
  {
   "cell_type": "code",
   "execution_count": 45,
   "metadata": {},
   "outputs": [
    {
     "data": {
      "text/html": [
       "<div>\n",
       "<style scoped>\n",
       "    .dataframe tbody tr th:only-of-type {\n",
       "        vertical-align: middle;\n",
       "    }\n",
       "\n",
       "    .dataframe tbody tr th {\n",
       "        vertical-align: top;\n",
       "    }\n",
       "\n",
       "    .dataframe thead th {\n",
       "        text-align: right;\n",
       "    }\n",
       "</style>\n",
       "<table border=\"1\" class=\"dataframe\">\n",
       "  <thead>\n",
       "    <tr style=\"text-align: right;\">\n",
       "      <th></th>\n",
       "      <th>user_id</th>\n",
       "      <th>advert_open</th>\n",
       "      <th>contacts_call</th>\n",
       "      <th>contacts_show</th>\n",
       "      <th>favorites_add</th>\n",
       "      <th>map</th>\n",
       "      <th>photos_show</th>\n",
       "      <th>search</th>\n",
       "      <th>tips_click</th>\n",
       "      <th>session_duration</th>\n",
       "      <th>claster</th>\n",
       "    </tr>\n",
       "  </thead>\n",
       "  <tbody>\n",
       "    <tr>\n",
       "      <th>0</th>\n",
       "      <td>0001b1d5-b74a-4cbf-aeb0-7df5947bf349</td>\n",
       "      <td>0.000</td>\n",
       "      <td>0.000</td>\n",
       "      <td>0.000</td>\n",
       "      <td>0.000</td>\n",
       "      <td>6.000</td>\n",
       "      <td>0.000</td>\n",
       "      <td>0.000</td>\n",
       "      <td>0.000</td>\n",
       "      <td>4</td>\n",
       "      <td>1</td>\n",
       "    </tr>\n",
       "    <tr>\n",
       "      <th>1</th>\n",
       "      <td>00157779-810c-4498-9e05-a1e9e3cedf93</td>\n",
       "      <td>2.000</td>\n",
       "      <td>5.000</td>\n",
       "      <td>11.000</td>\n",
       "      <td>2.000</td>\n",
       "      <td>0.000</td>\n",
       "      <td>33.000</td>\n",
       "      <td>18.000</td>\n",
       "      <td>0.000</td>\n",
       "      <td>6</td>\n",
       "      <td>1</td>\n",
       "    </tr>\n",
       "    <tr>\n",
       "      <th>2</th>\n",
       "      <td>00463033-5717-4bf1-91b4-09183923b9df</td>\n",
       "      <td>0.000</td>\n",
       "      <td>0.000</td>\n",
       "      <td>0.000</td>\n",
       "      <td>0.000</td>\n",
       "      <td>0.000</td>\n",
       "      <td>10.000</td>\n",
       "      <td>0.000</td>\n",
       "      <td>0.000</td>\n",
       "      <td>1</td>\n",
       "      <td>0</td>\n",
       "    </tr>\n",
       "    <tr>\n",
       "      <th>3</th>\n",
       "      <td>004690c3-5a84-4bb7-a8af-e0c8f8fca64e</td>\n",
       "      <td>5.000</td>\n",
       "      <td>0.000</td>\n",
       "      <td>0.000</td>\n",
       "      <td>0.000</td>\n",
       "      <td>6.000</td>\n",
       "      <td>0.000</td>\n",
       "      <td>17.000</td>\n",
       "      <td>0.000</td>\n",
       "      <td>6</td>\n",
       "      <td>1</td>\n",
       "    </tr>\n",
       "    <tr>\n",
       "      <th>4</th>\n",
       "      <td>00551e79-152e-4441-9cf7-565d7eb04090</td>\n",
       "      <td>0.000</td>\n",
       "      <td>3.000</td>\n",
       "      <td>3.000</td>\n",
       "      <td>0.000</td>\n",
       "      <td>0.000</td>\n",
       "      <td>1.000</td>\n",
       "      <td>1.000</td>\n",
       "      <td>0.000</td>\n",
       "      <td>3</td>\n",
       "      <td>1</td>\n",
       "    </tr>\n",
       "  </tbody>\n",
       "</table>\n",
       "</div>"
      ],
      "text/plain": [
       "                                user_id  advert_open  contacts_call  \\\n",
       "0  0001b1d5-b74a-4cbf-aeb0-7df5947bf349        0.000          0.000   \n",
       "1  00157779-810c-4498-9e05-a1e9e3cedf93        2.000          5.000   \n",
       "2  00463033-5717-4bf1-91b4-09183923b9df        0.000          0.000   \n",
       "3  004690c3-5a84-4bb7-a8af-e0c8f8fca64e        5.000          0.000   \n",
       "4  00551e79-152e-4441-9cf7-565d7eb04090        0.000          3.000   \n",
       "\n",
       "   contacts_show  favorites_add   map  photos_show  search  tips_click  \\\n",
       "0          0.000          0.000 6.000        0.000   0.000       0.000   \n",
       "1         11.000          2.000 0.000       33.000  18.000       0.000   \n",
       "2          0.000          0.000 0.000       10.000   0.000       0.000   \n",
       "3          0.000          0.000 6.000        0.000  17.000       0.000   \n",
       "4          3.000          0.000 0.000        1.000   1.000       0.000   \n",
       "\n",
       "   session_duration  claster  \n",
       "0                 4        1  \n",
       "1                 6        1  \n",
       "2                 1        0  \n",
       "3                 6        1  \n",
       "4                 3        1  "
      ]
     },
     "execution_count": 45,
     "metadata": {},
     "output_type": "execute_result"
    }
   ],
   "source": [
    "data_users = data_users.reset_index()\n",
    "data_users.head()"
   ]
  },
  {
   "cell_type": "code",
   "execution_count": 46,
   "metadata": {},
   "outputs": [
    {
     "data": {
      "text/html": [
       "<div>\n",
       "<style scoped>\n",
       "    .dataframe tbody tr th:only-of-type {\n",
       "        vertical-align: middle;\n",
       "    }\n",
       "\n",
       "    .dataframe tbody tr th {\n",
       "        vertical-align: top;\n",
       "    }\n",
       "\n",
       "    .dataframe thead th {\n",
       "        text-align: right;\n",
       "    }\n",
       "</style>\n",
       "<table border=\"1\" class=\"dataframe\">\n",
       "  <thead>\n",
       "    <tr style=\"text-align: right;\">\n",
       "      <th>claster</th>\n",
       "      <th>0</th>\n",
       "      <th>1</th>\n",
       "    </tr>\n",
       "  </thead>\n",
       "  <tbody>\n",
       "    <tr>\n",
       "      <th>advert_open</th>\n",
       "      <td>0.834</td>\n",
       "      <td>4.613</td>\n",
       "    </tr>\n",
       "    <tr>\n",
       "      <th>contacts_call</th>\n",
       "      <td>0.033</td>\n",
       "      <td>0.718</td>\n",
       "    </tr>\n",
       "    <tr>\n",
       "      <th>contacts_show</th>\n",
       "      <td>0.421</td>\n",
       "      <td>3.774</td>\n",
       "    </tr>\n",
       "    <tr>\n",
       "      <th>favorites_add</th>\n",
       "      <td>0.137</td>\n",
       "      <td>1.438</td>\n",
       "    </tr>\n",
       "    <tr>\n",
       "      <th>map</th>\n",
       "      <td>0.683</td>\n",
       "      <td>1.577</td>\n",
       "    </tr>\n",
       "    <tr>\n",
       "      <th>photos_show</th>\n",
       "      <td>1.376</td>\n",
       "      <td>6.008</td>\n",
       "    </tr>\n",
       "    <tr>\n",
       "      <th>search</th>\n",
       "      <td>1.052</td>\n",
       "      <td>3.879</td>\n",
       "    </tr>\n",
       "    <tr>\n",
       "      <th>tips_click</th>\n",
       "      <td>0.102</td>\n",
       "      <td>0.690</td>\n",
       "    </tr>\n",
       "    <tr>\n",
       "      <th>session_duration</th>\n",
       "      <td>1.340</td>\n",
       "      <td>3.583</td>\n",
       "    </tr>\n",
       "  </tbody>\n",
       "</table>\n",
       "</div>"
      ],
      "text/plain": [
       "claster              0     1\n",
       "advert_open      0.834 4.613\n",
       "contacts_call    0.033 0.718\n",
       "contacts_show    0.421 3.774\n",
       "favorites_add    0.137 1.438\n",
       "map              0.683 1.577\n",
       "photos_show      1.376 6.008\n",
       "search           1.052 3.879\n",
       "tips_click       0.102 0.690\n",
       "session_duration 1.340 3.583"
      ]
     },
     "execution_count": 46,
     "metadata": {},
     "output_type": "execute_result"
    }
   ],
   "source": [
    "#Группируем по кластерам и событиям\n",
    "data_users.groupby('claster').mean().T"
   ]
  },
  {
   "cell_type": "code",
   "execution_count": 47,
   "metadata": {},
   "outputs": [
    {
     "data": {
      "text/plain": [
       "claster\n",
       "0    3611\n",
       "1     504\n",
       "Name: user_id, dtype: int64"
      ]
     },
     "execution_count": 47,
     "metadata": {},
     "output_type": "execute_result"
    }
   ],
   "source": [
    "# Подсчитываем количество пользователей в каждой группе, для проверки распределения \n",
    "\n",
    "data_users.groupby('claster')['user_id'].nunique()"
   ]
  },
  {
   "cell_type": "markdown",
   "metadata": {},
   "source": [
    "**Вывод**: В итоге сегментации удалось выделить два достаточно крупных кластера. \n",
    "\n",
    "**Кластер 0** Самый большой по количеству пользователей, но далеко не самый активный. Данные пользователи очень вяло совершают действия в приложении;  мало просматривают контакты продавцов (наша целевая метрика), плохо просматривают фото. Да и поиском они пользуются в три раза реже. Единственное событие, которое совершается чаще - это кликают по  рекомендованным объявлениям. \n",
    "\n",
    "**Кластер 1** По количеству пользователей он меньше почти в 7 раз. Но по всем показателям, пользователи в нем намного активнее. Пользователи намного дольше сидят в приложении, активно смотрят фото, пользуются поиском и очень часто совершают целевое действие, правда меньше отвлекаясь на рекомендованные объявления. Я бы сказала, что именно этот кластер - целевой. "
   ]
  },
  {
   "cell_type": "markdown",
   "metadata": {},
   "source": [
    "### Расчет Retention rate по кластерам"
   ]
  },
  {
   "cell_type": "code",
   "execution_count": 48,
   "metadata": {},
   "outputs": [
    {
     "data": {
      "text/html": [
       "<div>\n",
       "<style scoped>\n",
       "    .dataframe tbody tr th:only-of-type {\n",
       "        vertical-align: middle;\n",
       "    }\n",
       "\n",
       "    .dataframe tbody tr th {\n",
       "        vertical-align: top;\n",
       "    }\n",
       "\n",
       "    .dataframe thead th {\n",
       "        text-align: right;\n",
       "    }\n",
       "</style>\n",
       "<table border=\"1\" class=\"dataframe\">\n",
       "  <thead>\n",
       "    <tr style=\"text-align: right;\">\n",
       "      <th></th>\n",
       "      <th>event_time</th>\n",
       "      <th>user_id</th>\n",
       "      <th>source</th>\n",
       "      <th>dt</th>\n",
       "      <th>event_name</th>\n",
       "      <th>event_date</th>\n",
       "      <th>week_day</th>\n",
       "      <th>claster</th>\n",
       "    </tr>\n",
       "  </thead>\n",
       "  <tbody>\n",
       "    <tr>\n",
       "      <th>0</th>\n",
       "      <td>2019-10-07 00:00:00</td>\n",
       "      <td>020292ab-89bc-4156-9acf-68bc2783f894</td>\n",
       "      <td>other</td>\n",
       "      <td>2019-10-07</td>\n",
       "      <td>advert_open</td>\n",
       "      <td>2019-10-07</td>\n",
       "      <td>0</td>\n",
       "      <td>0</td>\n",
       "    </tr>\n",
       "    <tr>\n",
       "      <th>1</th>\n",
       "      <td>2019-10-07 00:00:01</td>\n",
       "      <td>020292ab-89bc-4156-9acf-68bc2783f894</td>\n",
       "      <td>other</td>\n",
       "      <td>2019-10-07</td>\n",
       "      <td>tips_show</td>\n",
       "      <td>2019-10-07</td>\n",
       "      <td>0</td>\n",
       "      <td>0</td>\n",
       "    </tr>\n",
       "    <tr>\n",
       "      <th>2</th>\n",
       "      <td>2019-10-07 00:00:07</td>\n",
       "      <td>020292ab-89bc-4156-9acf-68bc2783f894</td>\n",
       "      <td>other</td>\n",
       "      <td>2019-10-07</td>\n",
       "      <td>tips_show</td>\n",
       "      <td>2019-10-07</td>\n",
       "      <td>0</td>\n",
       "      <td>0</td>\n",
       "    </tr>\n",
       "    <tr>\n",
       "      <th>3</th>\n",
       "      <td>2019-10-07 00:01:28</td>\n",
       "      <td>020292ab-89bc-4156-9acf-68bc2783f894</td>\n",
       "      <td>other</td>\n",
       "      <td>2019-10-07</td>\n",
       "      <td>advert_open</td>\n",
       "      <td>2019-10-07</td>\n",
       "      <td>0</td>\n",
       "      <td>0</td>\n",
       "    </tr>\n",
       "    <tr>\n",
       "      <th>4</th>\n",
       "      <td>2019-10-07 00:01:35</td>\n",
       "      <td>020292ab-89bc-4156-9acf-68bc2783f894</td>\n",
       "      <td>other</td>\n",
       "      <td>2019-10-07</td>\n",
       "      <td>tips_show</td>\n",
       "      <td>2019-10-07</td>\n",
       "      <td>0</td>\n",
       "      <td>0</td>\n",
       "    </tr>\n",
       "  </tbody>\n",
       "</table>\n",
       "</div>"
      ],
      "text/plain": [
       "           event_time                               user_id source  \\\n",
       "0 2019-10-07 00:00:00  020292ab-89bc-4156-9acf-68bc2783f894  other   \n",
       "1 2019-10-07 00:00:01  020292ab-89bc-4156-9acf-68bc2783f894  other   \n",
       "2 2019-10-07 00:00:07  020292ab-89bc-4156-9acf-68bc2783f894  other   \n",
       "3 2019-10-07 00:01:28  020292ab-89bc-4156-9acf-68bc2783f894  other   \n",
       "4 2019-10-07 00:01:35  020292ab-89bc-4156-9acf-68bc2783f894  other   \n",
       "\n",
       "           dt   event_name event_date  week_day  claster  \n",
       "0  2019-10-07  advert_open 2019-10-07         0        0  \n",
       "1  2019-10-07    tips_show 2019-10-07         0        0  \n",
       "2  2019-10-07    tips_show 2019-10-07         0        0  \n",
       "3  2019-10-07  advert_open 2019-10-07         0        0  \n",
       "4  2019-10-07    tips_show 2019-10-07         0        0  "
      ]
     },
     "execution_count": 48,
     "metadata": {},
     "output_type": "execute_result"
    }
   ],
   "source": [
    "# Добавим распределение по кластерам дляя выделения по ним коэффициента удержания и конверсии\n",
    "user_claster = data_users.drop(['advert_open', 'contacts_call', 'contacts_show', 'favorites_add', 'map', 'photos_show', 'search', 'tips_click', 'session_duration'], 1)\n",
    "data_merged = data_merged.merge(user_claster, on='user_id')\n",
    "data_merged.head()"
   ]
  },
  {
   "cell_type": "code",
   "execution_count": 49,
   "metadata": {},
   "outputs": [],
   "source": [
    "# Разделим пользователей на две части по кластерам\n",
    "claster_0 = data_merged.query('claster == 0')\n",
    "claster_1 = data_merged.query('claster == 1')\n"
   ]
  },
  {
   "cell_type": "code",
   "execution_count": 50,
   "metadata": {},
   "outputs": [
    {
     "data": {
      "text/html": [
       "<div>\n",
       "<style scoped>\n",
       "    .dataframe tbody tr th:only-of-type {\n",
       "        vertical-align: middle;\n",
       "    }\n",
       "\n",
       "    .dataframe tbody tr th {\n",
       "        vertical-align: top;\n",
       "    }\n",
       "\n",
       "    .dataframe thead th {\n",
       "        text-align: right;\n",
       "    }\n",
       "</style>\n",
       "<table border=\"1\" class=\"dataframe\">\n",
       "  <thead>\n",
       "    <tr style=\"text-align: right;\">\n",
       "      <th></th>\n",
       "      <th>event_time</th>\n",
       "      <th>user_id</th>\n",
       "      <th>source</th>\n",
       "      <th>dt</th>\n",
       "      <th>event_name</th>\n",
       "      <th>event_date</th>\n",
       "      <th>week_day</th>\n",
       "      <th>claster</th>\n",
       "    </tr>\n",
       "  </thead>\n",
       "  <tbody>\n",
       "    <tr>\n",
       "      <th>0</th>\n",
       "      <td>2019-10-07 00:00:00</td>\n",
       "      <td>020292ab-89bc-4156-9acf-68bc2783f894</td>\n",
       "      <td>other</td>\n",
       "      <td>2019-10-07</td>\n",
       "      <td>advert_open</td>\n",
       "      <td>2019-10-07</td>\n",
       "      <td>0</td>\n",
       "      <td>0</td>\n",
       "    </tr>\n",
       "    <tr>\n",
       "      <th>1</th>\n",
       "      <td>2019-10-07 00:00:01</td>\n",
       "      <td>020292ab-89bc-4156-9acf-68bc2783f894</td>\n",
       "      <td>other</td>\n",
       "      <td>2019-10-07</td>\n",
       "      <td>tips_show</td>\n",
       "      <td>2019-10-07</td>\n",
       "      <td>0</td>\n",
       "      <td>0</td>\n",
       "    </tr>\n",
       "    <tr>\n",
       "      <th>2</th>\n",
       "      <td>2019-10-07 00:00:07</td>\n",
       "      <td>020292ab-89bc-4156-9acf-68bc2783f894</td>\n",
       "      <td>other</td>\n",
       "      <td>2019-10-07</td>\n",
       "      <td>tips_show</td>\n",
       "      <td>2019-10-07</td>\n",
       "      <td>0</td>\n",
       "      <td>0</td>\n",
       "    </tr>\n",
       "    <tr>\n",
       "      <th>3</th>\n",
       "      <td>2019-10-07 00:01:28</td>\n",
       "      <td>020292ab-89bc-4156-9acf-68bc2783f894</td>\n",
       "      <td>other</td>\n",
       "      <td>2019-10-07</td>\n",
       "      <td>advert_open</td>\n",
       "      <td>2019-10-07</td>\n",
       "      <td>0</td>\n",
       "      <td>0</td>\n",
       "    </tr>\n",
       "    <tr>\n",
       "      <th>4</th>\n",
       "      <td>2019-10-07 00:01:35</td>\n",
       "      <td>020292ab-89bc-4156-9acf-68bc2783f894</td>\n",
       "      <td>other</td>\n",
       "      <td>2019-10-07</td>\n",
       "      <td>tips_show</td>\n",
       "      <td>2019-10-07</td>\n",
       "      <td>0</td>\n",
       "      <td>0</td>\n",
       "    </tr>\n",
       "  </tbody>\n",
       "</table>\n",
       "</div>"
      ],
      "text/plain": [
       "           event_time                               user_id source  \\\n",
       "0 2019-10-07 00:00:00  020292ab-89bc-4156-9acf-68bc2783f894  other   \n",
       "1 2019-10-07 00:00:01  020292ab-89bc-4156-9acf-68bc2783f894  other   \n",
       "2 2019-10-07 00:00:07  020292ab-89bc-4156-9acf-68bc2783f894  other   \n",
       "3 2019-10-07 00:01:28  020292ab-89bc-4156-9acf-68bc2783f894  other   \n",
       "4 2019-10-07 00:01:35  020292ab-89bc-4156-9acf-68bc2783f894  other   \n",
       "\n",
       "           dt   event_name event_date  week_day  claster  \n",
       "0  2019-10-07  advert_open 2019-10-07         0        0  \n",
       "1  2019-10-07    tips_show 2019-10-07         0        0  \n",
       "2  2019-10-07    tips_show 2019-10-07         0        0  \n",
       "3  2019-10-07  advert_open 2019-10-07         0        0  \n",
       "4  2019-10-07    tips_show 2019-10-07         0        0  "
      ]
     },
     "execution_count": 50,
     "metadata": {},
     "output_type": "execute_result"
    }
   ],
   "source": [
    "claster_0.head()"
   ]
  },
  {
   "cell_type": "code",
   "execution_count": 51,
   "metadata": {},
   "outputs": [],
   "source": [
    "# Нужно уточнить событие и период, в течение которого оно было совершено — на основе активности пользователей в приложении сформируем группы. \n",
    "#Возьмём дату, когда пользователь впервые проявил активность в мобильном приложении, (минимальная дата).\n",
    "min_date_0 = claster_0.groupby(['user_id'])['event_date'].min()\n",
    "min_date_0.name = 'min_date'\n",
    "user_activity_0 = claster_0.join(min_date_0,on='user_id')"
   ]
  },
  {
   "cell_type": "code",
   "execution_count": 52,
   "metadata": {},
   "outputs": [],
   "source": [
    "#У нас получился день начала недели, за которую произошло событие. Он станет идентификатором недели. \n",
    "#Метод pd.to_timedelta задаёт единицу измерения, нам нужен день: unit='d'. Вычтем из даты порядковый номер дня:\n",
    "user_activity_0['activity_week'] = pd.to_datetime(user_activity_0['event_date'],\n",
    "                                                unit='d') - pd.to_timedelta(user_activity_0['event_date'].dt.dayofweek, unit='d')\n",
    "user_activity_0['primary_activity_week'] = pd.to_datetime(user_activity_0['min_date'],\n",
    "                                                      unit='d') - pd.to_timedelta(user_activity_0['min_date'].dt.dayofweek, unit='d')"
   ]
  },
  {
   "cell_type": "code",
   "execution_count": 53,
   "metadata": {},
   "outputs": [],
   "source": [
    "# Для каждой строки таблицы рассчитаем сколько времени провоит пользователь в приложении в рамках группы\n",
    "user_activity_0['group_lifetime'] = user_activity_0['activity_week'] - user_activity_0['primary_activity_week']\n",
    "user_activity_0['group_lifetime'] = user_activity_0['group_lifetime'] / np.timedelta64(1,'W')\n",
    "user_activity_0['group_lifetime'] = user_activity_0['group_lifetime'].astype(int)"
   ]
  },
  {
   "cell_type": "code",
   "execution_count": 54,
   "metadata": {},
   "outputs": [],
   "source": [
    "# Сгруппируем данные по группе и lifetime. \n",
    "#Посчитаем для каждой группы количество активных пользователей на определённую неделю \n",
    "groups_0 = user_activity_0.groupby(['primary_activity_week','group_lifetime']).agg({'user_id':'nunique'}).reset_index()"
   ]
  },
  {
   "cell_type": "markdown",
   "metadata": {},
   "source": [
    "Для расчета Retention Rate, нужно для начала посчитать количество пользователей, изначально бывших в группе, и на него разделить количества пользователей в каждую следующую неделю, так мы получим коэффициент удержания клиентов, т.е. сколько из них осталось"
   ]
  },
  {
   "cell_type": "code",
   "execution_count": 55,
   "metadata": {},
   "outputs": [],
   "source": [
    "# Найдём исходное количество пользователей в группе. Возьмём их число на нулевую неделю:\n",
    "first_users_0 = groups_0[groups_0['group_lifetime'] == 0][['primary_activity_week','user_id']]\n",
    "first_users_0 = first_users_0.rename(columns={'user_id':'group_users'})\n",
    "groups_0 = groups_0.merge(first_users_0,on='primary_activity_week')"
   ]
  },
  {
   "cell_type": "code",
   "execution_count": 56,
   "metadata": {},
   "outputs": [],
   "source": [
    "# Расчет коэффициента удержания\n",
    "groups_0['retention'] = groups_0['user_id']/groups_0['group_users']"
   ]
  },
  {
   "cell_type": "code",
   "execution_count": 57,
   "metadata": {},
   "outputs": [],
   "source": [
    "retention_rate_0 = groups_0.pivot_table(index='primary_activity_week',columns='group_lifetime',values='retention',aggfunc='sum')"
   ]
  },
  {
   "cell_type": "code",
   "execution_count": 58,
   "metadata": {},
   "outputs": [
    {
     "data": {
      "image/png": "[encoded data removed]",
      "text/plain": [
       "<Figure size 576x360 with 2 Axes>"
      ]
     },
     "metadata": {},
     "output_type": "display_data"
    }
   ],
   "source": [
    "# Визуализируем полученные данные\n",
    "sns.set(style='ticks')\n",
    "plt.figure(figsize=(8, 5))\n",
    "plt.title('Коэффициент удержания в 0 кластере')\n",
    "plt.ylabel('Количество активных пользователей в 0 кластере', fontsize=10)\n",
    "plt.xlabel('Нулевая неделя', fontsize=10)\n",
    "sns.heatmap(retention_rate_0, annot=True, fmt='.1%', linewidths=1, linecolor='gray', cmap= 'coolwarm');"
   ]
  },
  {
   "cell_type": "markdown",
   "metadata": {},
   "source": [
    "Теперь повторим алгоритм для кластера №1"
   ]
  },
  {
   "cell_type": "code",
   "execution_count": 59,
   "metadata": {},
   "outputs": [],
   "source": [
    "min_date_1 = claster_1.groupby(['user_id'])['event_date'].min()\n",
    "min_date_1.name = 'min_date'\n",
    "user_activity_1 = claster_1.join(min_date_1,on='user_id')"
   ]
  },
  {
   "cell_type": "code",
   "execution_count": 60,
   "metadata": {},
   "outputs": [],
   "source": [
    "user_activity_1['activity_week'] = pd.to_datetime(user_activity_1['event_date'],\n",
    "                                                unit='d') - pd.to_timedelta(user_activity_1['event_date'].dt.dayofweek, unit='d')\n",
    "user_activity_1['primary_activity_week'] = pd.to_datetime(user_activity_1['min_date'],\n",
    "                                                      unit='d') - pd.to_timedelta(user_activity_1['min_date'].dt.dayofweek, unit='d')"
   ]
  },
  {
   "cell_type": "code",
   "execution_count": 61,
   "metadata": {},
   "outputs": [],
   "source": [
    "user_activity_1['group_lifetime'] = user_activity_1['activity_week'] - user_activity_1['primary_activity_week']\n",
    "user_activity_1['group_lifetime'] = user_activity_1['group_lifetime'] / np.timedelta64(1,'W')\n",
    "user_activity_1['group_lifetime'] = user_activity_1['group_lifetime'].astype(int)"
   ]
  },
  {
   "cell_type": "code",
   "execution_count": 62,
   "metadata": {},
   "outputs": [],
   "source": [
    "groups_1 = user_activity_1.groupby(['primary_activity_week','group_lifetime']).agg({'user_id':'nunique'}).reset_index()\n",
    "first_users_1 = groups_1[groups_1['group_lifetime'] == 0][['primary_activity_week','user_id']]\n",
    "first_users_1 = first_users_1.rename(columns={'user_id':'group_users'})\n",
    "groups_1 = groups_1.merge(first_users_1,on='primary_activity_week')"
   ]
  },
  {
   "cell_type": "code",
   "execution_count": 63,
   "metadata": {},
   "outputs": [],
   "source": [
    "groups_1['retention'] = groups_1['user_id']/groups_1['group_users']\n",
    "retention_rate_1 = groups_1.pivot_table(index='primary_activity_week',columns='group_lifetime',values='retention',aggfunc='sum')"
   ]
  },
  {
   "cell_type": "code",
   "execution_count": 64,
   "metadata": {},
   "outputs": [
    {
     "data": {
      "image/png": "[encoded data removed]",
      "text/plain": [
       "<Figure size 576x360 with 2 Axes>"
      ]
     },
     "metadata": {},
     "output_type": "display_data"
    }
   ],
   "source": [
    "# Визуализируем полученные данные\n",
    "sns.set(style='ticks')\n",
    "plt.figure(figsize=(8, 5))\n",
    "plt.title('Коэффициент удержания в 1 кластере')\n",
    "plt.ylabel('Количество активных пользователей в 1 кластере', fontsize=10)\n",
    "plt.xlabel('Нулевая неделя', fontsize=10)\n",
    "sns.heatmap(retention_rate_1, annot=True, fmt='.1%', linewidths=1, linecolor='gray', cmap= 'coolwarm');"
   ]
  },
  {
   "cell_type": "markdown",
   "metadata": {},
   "source": [
    "**Вывод**: Коэффициент удержания в первую неделю убывает по группам с течением времени, это справедливо для обоих кластеров. Но кластер №0 демонстрирует гораздо более низкий процент удержания. К примеру, если для группы пользователей 0 кластера, пришедших с 7 октября по 13 октября коэффициент удержания в первую неделю составляет 12,8%, то для пользователей кластера №1, пришедших в то же самое время, коэффициент уже намного выше, целых 63%. С каждой новой группой поведение пользователей меняется. Соответственно, чем больше группа проводит времени в приложении, тем меньше пользователей остается. Но к концу периода исследования, Retention rate в 0 кластере всего 3,8%, в то время как кластер 1 демонстрирует очень приличные 26,1% в 8! раз выше 0 кластера."
   ]
  },
  {
   "cell_type": "markdown",
   "metadata": {},
   "source": [
    "### Расчет конверсии по кластерам"
   ]
  },
  {
   "cell_type": "code",
   "execution_count": 65,
   "metadata": {},
   "outputs": [
    {
     "data": {
      "text/plain": [
       "0.17806701744669068"
      ]
     },
     "execution_count": 65,
     "metadata": {},
     "output_type": "execute_result"
    }
   ],
   "source": [
    "conv_0 = claster_0.query('event_name == \"contacts_show\"')\n",
    "conv_0 = conv_0['user_id'].nunique()/ claster_0['user_id'].nunique()\n",
    "conv_0"
   ]
  },
  {
   "cell_type": "code",
   "execution_count": 66,
   "metadata": {},
   "outputs": [
    {
     "data": {
      "text/plain": [
       "0.5277777777777778"
      ]
     },
     "execution_count": 66,
     "metadata": {},
     "output_type": "execute_result"
    }
   ],
   "source": [
    "conv_1 = claster_1.query('event_name == \"contacts_show\"')\n",
    "conv_1 = conv_1['user_id'].nunique()/ claster_1['user_id'].nunique()\n",
    "conv_1"
   ]
  },
  {
   "cell_type": "markdown",
   "metadata": {},
   "source": [
    "**Вывод**: Кластер 0 также демонстрирует худшие результаты и в плане конверсии, 17,8% - это конечно неплохо, но у 1 кластера показатели в 2,5 раза больше - целых 52,7%"
   ]
  },
  {
   "cell_type": "markdown",
   "metadata": {},
   "source": [
    "## Проверка статистических гипотез"
   ]
  },
  {
   "cell_type": "markdown",
   "metadata": {},
   "source": [
    "### Гипотеза №1: Группы Yandex и Google демонстрируют разную конверсию в просмотры контактов."
   ]
  },
  {
   "cell_type": "markdown",
   "metadata": {},
   "source": [
    "Для начала, сформулируем нулевую и альтернативную гипотезы:\n",
    "\n",
    "Н0: Группы Yandex и Google не демонстрируют статистически важных различий конверсии в просмотры контактов\n",
    "\n",
    "Н1: Группы Yandex и Google демонстрируют разную конверсию в просмотры контактов\n",
    "\n",
    "Сформируем таблицу и проверим гипотезу о наличии статистически значимой разницы с помощью z-критерия:"
   ]
  },
  {
   "cell_type": "code",
   "execution_count": 67,
   "metadata": {},
   "outputs": [],
   "source": [
    "yandex = data_merged.query('source ==\"yandex\" and event_name == \"contacts_show\"')\n",
    "google = data_merged.query('source ==\"google\" and event_name == \"contacts_show\"')"
   ]
  },
  {
   "cell_type": "code",
   "execution_count": 68,
   "metadata": {},
   "outputs": [],
   "source": [
    "source_users_count = data_merged.query('source !=\"other\"').groupby('source')['user_id'].nunique()"
   ]
  },
  {
   "cell_type": "code",
   "execution_count": 69,
   "metadata": {},
   "outputs": [],
   "source": [
    "users_by_events = data_merged.query('event_name == \"contacts_show\" and source !=\"other\"').pivot_table(index='source',columns='event_name', values='user_id', aggfunc='nunique').reset_index()\n",
    "users_by_events\n",
    "users_by_events['user_count'] = users_by_events['source'].apply(lambda x: source_users_count.loc[x])\n",
    "users_by_events = users_by_events.set_index('source')\n",
    "users_by_events.columns = ['contacts_show', 'user_count']"
   ]
  },
  {
   "cell_type": "code",
   "execution_count": 70,
   "metadata": {},
   "outputs": [
    {
     "data": {
      "text/html": [
       "<div>\n",
       "<style scoped>\n",
       "    .dataframe tbody tr th:only-of-type {\n",
       "        vertical-align: middle;\n",
       "    }\n",
       "\n",
       "    .dataframe tbody tr th {\n",
       "        vertical-align: top;\n",
       "    }\n",
       "\n",
       "    .dataframe thead th {\n",
       "        text-align: right;\n",
       "    }\n",
       "</style>\n",
       "<table border=\"1\" class=\"dataframe\">\n",
       "  <thead>\n",
       "    <tr style=\"text-align: right;\">\n",
       "      <th></th>\n",
       "      <th>contacts_show</th>\n",
       "      <th>user_count</th>\n",
       "    </tr>\n",
       "    <tr>\n",
       "      <th>source</th>\n",
       "      <th></th>\n",
       "      <th></th>\n",
       "    </tr>\n",
       "  </thead>\n",
       "  <tbody>\n",
       "    <tr>\n",
       "      <th>google</th>\n",
       "      <td>249</td>\n",
       "      <td>1082</td>\n",
       "    </tr>\n",
       "    <tr>\n",
       "      <th>yandex</th>\n",
       "      <td>452</td>\n",
       "      <td>1861</td>\n",
       "    </tr>\n",
       "  </tbody>\n",
       "</table>\n",
       "</div>"
      ],
      "text/plain": [
       "        contacts_show  user_count\n",
       "source                           \n",
       "google            249        1082\n",
       "yandex            452        1861"
      ]
     },
     "execution_count": 70,
     "metadata": {},
     "output_type": "execute_result"
    }
   ],
   "source": [
    "users_by_events"
   ]
  },
  {
   "cell_type": "code",
   "execution_count": 71,
   "metadata": {},
   "outputs": [
    {
     "name": "stdout",
     "output_type": "stream",
     "text": [
      "0.434\n",
      "Не получилось отвергнуть нулевую гипотезу, статистически значимых различий в выборках нет.\n"
     ]
    }
   ],
   "source": [
    "# статистическое сравнение долей \n",
    "\n",
    "alpha = 0.05\n",
    "\n",
    "stat, pval = proportions_ztest(np.array([users_by_events.loc['google', 'contacts_show'], \n",
    "                                         users_by_events.loc['yandex', 'contacts_show']]), \n",
    "                               np.array([users_by_events.loc['google', 'user_count'], \n",
    "                                         users_by_events.loc['yandex', 'user_count']]))\n",
    "print('{0:0.3f}'.format(pval))\n",
    "\n",
    "if (pval < alpha): \n",
    "        print(\"Отвергаем нулевую гипотезу, между выборками есть статистически значимые различия.\")\n",
    "else:\n",
    "        print(\"Не получилось отвергнуть нулевую гипотезу, статистически значимых различий в выборках нет.\")"
   ]
  },
  {
   "cell_type": "markdown",
   "metadata": {},
   "source": [
    "**Вывод**: С высокой вероятностью между пользователями, установившими приложение из разных источников, нет значимой разницы. Можно сделать вывод, что источник установки на конверсию не влияет."
   ]
  },
  {
   "cell_type": "markdown",
   "metadata": {},
   "source": [
    "### Гипотеза №2: конверсия в просмотры контактов различается у пользователей, которые добавляют объявления в закладки, от тех кто не добавляет."
   ]
  },
  {
   "cell_type": "markdown",
   "metadata": {},
   "source": [
    "Также сформулируем нулевую и альтернативную гипотезы:\n",
    "\n",
    "Н0: Конверсия в просмотры контактов между теми пользователями, которые добавляют объявления в закладки, от тех кто не добавляет, не демонстрируют статистически важных различий конверсии в просмотры контактов\n",
    "\n",
    "Н1:Конверсия в просмотры контактов между теми пользователями, которые добавляют объявления в закладки, от тех кто не добавляет, демонстрируют разную конверсию в просмотры контактов"
   ]
  },
  {
   "cell_type": "code",
   "execution_count": 72,
   "metadata": {},
   "outputs": [
    {
     "name": "stdout",
     "output_type": "stream",
     "text": [
      "Количество уникальных пользователей: 4115\n",
      "Количество пользователей в группе A: 322\n",
      "Количество пользователей в группе В : 3793\n"
     ]
    }
   ],
   "source": [
    "all_users= data_merged['user_id'].unique()\n",
    "print('Количество уникальных пользователей:', len(all_users))\n",
    " \n",
    "# Выделяем пользователей, добавляющих объявление в закладки\n",
    "a_group=data_merged.query('event_name==\"favorites_add\"')['user_id'].unique()\n",
    "print('Количество пользователей в группе A:', len(a_group))\n",
    "\n",
    "# Выделяем пользователей, не добавляющих объявление в закладки\n",
    "b_group = list(set(all_users) - set(a_group))\n",
    "print('Количество пользователей в группе В :', len(b_group))"
   ]
  },
  {
   "cell_type": "code",
   "execution_count": 73,
   "metadata": {},
   "outputs": [
    {
     "name": "stdout",
     "output_type": "stream",
     "text": [
      "Количество пользователей в группе А, совершивших целевое действие : 122\n",
      "Количество пользователей в группе В, совершивших целевое действие:  787\n"
     ]
    }
   ],
   "source": [
    "# Вычисляем сколько всего действий у обеих групп\n",
    "user_fav_add = data_merged.query('user_id in @a_group')[['user_id','event_name']]\n",
    "user_no_fav_add= data_merged.query('user_id in @b_group')[['user_id','event_name']]\n",
    "\n",
    "\n",
    "print('Количество пользователей в группе А, совершивших целевое действие :', user_fav_add.query('event_name==\"contacts_show\"')['user_id'].nunique())\n",
    "print('Количество пользователей в группе В, совершивших целевое действие: ', user_no_fav_add.query('event_name==\"contacts_show\"')['user_id'].nunique())\n"
   ]
  },
  {
   "cell_type": "code",
   "execution_count": 74,
   "metadata": {},
   "outputs": [
    {
     "name": "stdout",
     "output_type": "stream",
     "text": [
      "136 839 351 3877\n",
      "p-значение:  3.199662756969701e-13\n"
     ]
    },
    {
     "data": {
      "text/plain": [
       "'Отвергаем нулевую гипотезу, между выборками есть статистически значимые различия'"
      ]
     },
     "metadata": {},
     "output_type": "display_data"
    }
   ],
   "source": [
    "#Для проверки конверсий применим  Z-критерий:\n",
    "\n",
    "def z_test(successes1, successes2, trials1, trials2, alpha=0.05):\n",
    "    p1 = successes1 / trials1\n",
    "    p2 = successes2 / trials2\n",
    "    \n",
    "    print(successes1, successes2, trials1, trials2)\n",
    "    \n",
    "    p_combined = (successes1 + successes2) / (trials1 + trials2)\n",
    "    difference = p1 - p2\n",
    "    \n",
    "    z_value = difference / mth.sqrt(p_combined * (1 - p_combined) * (1/trials1 + 1/trials2)) \n",
    "    distr = st.norm(0, 1)  \n",
    "    p_value = (1 - distr.cdf(abs(z_value))) * 2 \n",
    "    print('p-значение: ', p_value)\n",
    " \n",
    "    if (p_value < alpha): \n",
    "        display('Отвергаем нулевую гипотезу, между выборками есть статистически значимые различия')\n",
    "    else:\n",
    "        display('Не получилось отвергнуть нулевую гипотезу, статистически значимых различий в выборках нет')\n",
    "z_test(136,839,351,3877, alpha=0.05)  "
   ]
  },
  {
   "cell_type": "markdown",
   "metadata": {},
   "source": [
    "**Вывод**: С высокой вероятностью между пользователями, добавляющими объявления в закладки и между теми, кто этого не делает - есть существенная разница. Можно сделать вывод, что добавление объявления в избранное влияет на конверсию."
   ]
  },
  {
   "cell_type": "markdown",
   "metadata": {},
   "source": [
    "## Общие выводы"
   ]
  },
  {
   "cell_type": "markdown",
   "metadata": {},
   "source": [
    "**Вывод**\n",
    "Задачи проекта:\n",
    "\n",
    "- Проанализировать связь целевого события — просмотра контактов — и других действий пользователей.\n",
    "- Оценить, какие действия чаще совершают те пользователи, которые просматривают контакты.\n",
    "- Провести исследовательский анализ данных\n",
    "- Проанализировать влияние событий на совершение целевого события\n",
    "- Сегментировать пользователей на группы в зависимости от их действий в приложении\n",
    "- Проверить статистические гипотезы\n",
    "\n",
    "В ходе предобработки данных были проанализированы данные в период  с 2019-10-07 по 2019-11-03.\n",
    "Названия столбцов были приведены к правильному синтаксису, поработали над форматом даты в столбце event_date, дубликатов и пропущенных значений не было обнаружено.\n",
    "Действие show_contacts объединили с действием contacts_show в один столбец, так как это одно действие. Также 7 типов поиска были объединены в один.\n",
    "События по всему периоду сбора данных распределены равномерно, аномальных выбросов не обнаружено.  Итого 65 пользователей совершили всего одно действие, среднее количество действий - 17, медианное - 9, самые активные пользователи приложения совершили более 60 действий. Также отмечено, что количество событий пользователя и количество различных действий отличаются. Мы исключили пользователей всего с одним действием, как несущественных для проведения анализа. Также мы убрали tips_show - это автоматическое действие, оно нам не нужно. Самые часто совершаемые действия: map - 1 456 клиент открыл карту объявлений photos_show - 1 095 клиентов просмотрели фотографии в объявлениях contacts_show - 981 клиент просмотрел контакты, т.е. совершил целевое действие search_1 - 787 клиентов осуществили поиск  Также мы выяснили, что пользователи, пришедшие с поисковой системы Яндекс, устанавливают приложение чаще.\n",
    "\n",
    " В итоге сегментации удалось выделить два достаточно крупных кластера. \n",
    "\n",
    "**Кластер 0** Самый большой по количеству пользователей, но далеко не самый активный. Данные пользователи очень вяло совершают действия в приложении;  мало просматривают контакты продавцов (наша целевая метрика), плохо просматривают фото. Да и поиском они пользуются в три раза реже. Единственное событие, которое совершается чаще - это кликают по  рекомендованным объявлениям. \n",
    "\n",
    "**Кластер 1** По количеству пользователей он меньше почти в 7 раз. Но по всем показателям, пользователи в нем намного активнее. Пользователи намного дольше сидят в приложении, активно смотрят фото, пользуются поиском и очень часто совершают целевое действие, правда меньше отвлекаясь на рекомендованные объявления. Я бы сказала, что именно этот кластер - целевой. \n",
    "\n",
    "Была расчитана метрика Retention Rate (коэффициент удержания) по обоим кластерам отдельно. Коэффициент удержания в первую неделю убывает по группам с течением времени, это справедливо для обоих кластеров. Но кластер №0 демонстрирует гораздо более низкий процент удержания. К примеру, если для группы пользователей 0 кластера, пришедших с 7 октября по 13 октября коэффициент удержания в первую неделю составляет 12,8%, то для пользователей кластера №1, пришедших в то же самое время, коэффициент уже намного выше, целых 63%. С каждой новой группой поведение пользователей меняется. Соответственно, чем больше группа проводит времени в приложении, тем меньше пользователей остается. Но к концу периода исследования, Retention rate в 0 кластере всего 3,8%, в то время как кластер 1 демонстрирует очень приличные 26,1% в 8! раз выше 0 кластера.\n",
    "\n",
    "\n",
    "При проверке гипотез, выявили, что канал установки приложения не имеет статистической значимости. А вот конверсия тех, кто добавляет объявления в избранное, намного выше. Это же было подтверждено кластеризацией и пользователями 1-го кластера.\n",
    "\n",
    "Судя по анализу и расчетам, пользователи плохо удерживаются в приложении, возможно нужно доработать интерфейс приложения, подавляющее большинство пользователей совершают очень мало действий, не открывают фото, рекламу, плохо пользуются поиском... возможно приложение их никак не заинтересовало. Стоит тщательнее подбирать рекомендованные объявления, определять геопозицию пользователя, пользоваться услугами таргетологов, чтобы предлагать только интересные для пользователя объявления.\n",
    "\n",
    "Для увеличения конверсии, возможно стоит доработать интерфейс так, чтобы удобнее было добавлять объявления в избранное и удобнее пользоваться папкой \"Избранное\", тк это тоже существенно влияет на конверсию в целевые действия. "
   ]
  },
  {
   "cell_type": "code",
   "execution_count": null,
   "metadata": {},
   "outputs": [],
   "source": []
  }
 ],
 "metadata": {
  "ExecuteTimeLog": [
   {
    "duration": 1929,
    "start_time": "2022-08-29T12:20:07.787Z"
   },
   {
    "duration": 5,
    "start_time": "2022-08-29T12:20:49.752Z"
   },
   {
    "duration": 6,
    "start_time": "2022-08-29T12:29:49.248Z"
   },
   {
    "duration": 5,
    "start_time": "2022-08-29T12:30:23.058Z"
   },
   {
    "duration": 575,
    "start_time": "2022-08-29T12:30:23.628Z"
   },
   {
    "duration": 15,
    "start_time": "2022-08-29T12:32:20.080Z"
   },
   {
    "duration": 19,
    "start_time": "2022-08-29T12:32:36.460Z"
   },
   {
    "duration": 113,
    "start_time": "2022-08-29T12:34:15.199Z"
   },
   {
    "duration": 9,
    "start_time": "2022-08-29T12:34:23.451Z"
   },
   {
    "duration": 17,
    "start_time": "2022-08-29T12:34:25.837Z"
   },
   {
    "duration": 9,
    "start_time": "2022-08-29T12:35:59.843Z"
   },
   {
    "duration": 4,
    "start_time": "2022-08-29T12:36:06.752Z"
   },
   {
    "duration": 3,
    "start_time": "2022-08-29T12:43:09.488Z"
   },
   {
    "duration": 11,
    "start_time": "2022-08-29T12:43:10.461Z"
   },
   {
    "duration": 38,
    "start_time": "2022-08-29T12:43:16.943Z"
   },
   {
    "duration": 24,
    "start_time": "2022-08-29T12:46:30.028Z"
   },
   {
    "duration": 11,
    "start_time": "2022-08-29T12:47:37.647Z"
   },
   {
    "duration": 11,
    "start_time": "2022-08-29T12:48:04.074Z"
   },
   {
    "duration": 302,
    "start_time": "2022-08-29T12:48:08.046Z"
   },
   {
    "duration": 7,
    "start_time": "2022-08-29T12:48:09.769Z"
   },
   {
    "duration": 9,
    "start_time": "2022-08-29T12:48:12.421Z"
   },
   {
    "duration": 4,
    "start_time": "2022-08-29T12:49:02.559Z"
   },
   {
    "duration": 191,
    "start_time": "2022-08-29T12:49:04.626Z"
   },
   {
    "duration": 8,
    "start_time": "2022-08-29T12:49:06.813Z"
   },
   {
    "duration": 9,
    "start_time": "2022-08-29T12:49:07.752Z"
   },
   {
    "duration": 5,
    "start_time": "2022-08-29T12:49:45.052Z"
   },
   {
    "duration": 248,
    "start_time": "2022-08-29T12:49:45.771Z"
   },
   {
    "duration": 8,
    "start_time": "2022-08-29T12:49:47.315Z"
   },
   {
    "duration": 9,
    "start_time": "2022-08-29T12:49:50.698Z"
   },
   {
    "duration": 8,
    "start_time": "2022-08-29T12:49:56.099Z"
   },
   {
    "duration": 1439,
    "start_time": "2022-08-29T12:51:34.817Z"
   },
   {
    "duration": 240,
    "start_time": "2022-08-29T12:51:36.258Z"
   },
   {
    "duration": 12,
    "start_time": "2022-08-29T12:51:36.500Z"
   },
   {
    "duration": 129,
    "start_time": "2022-08-29T12:51:36.514Z"
   },
   {
    "duration": 0,
    "start_time": "2022-08-29T12:51:36.646Z"
   },
   {
    "duration": 0,
    "start_time": "2022-08-29T12:51:36.647Z"
   },
   {
    "duration": 0,
    "start_time": "2022-08-29T12:51:36.648Z"
   },
   {
    "duration": 0,
    "start_time": "2022-08-29T12:51:36.650Z"
   },
   {
    "duration": 81,
    "start_time": "2022-08-29T12:53:45.290Z"
   },
   {
    "duration": 4,
    "start_time": "2022-08-29T12:53:50.656Z"
   },
   {
    "duration": 53,
    "start_time": "2022-08-29T12:53:51.549Z"
   },
   {
    "duration": 220,
    "start_time": "2022-08-29T12:55:38.780Z"
   },
   {
    "duration": 8,
    "start_time": "2022-08-29T12:56:15.352Z"
   },
   {
    "duration": 263,
    "start_time": "2022-08-29T12:56:16.295Z"
   },
   {
    "duration": 383,
    "start_time": "2022-08-29T13:58:02.471Z"
   },
   {
    "duration": 8,
    "start_time": "2022-08-29T13:58:08.615Z"
   },
   {
    "duration": 8,
    "start_time": "2022-08-29T13:58:10.615Z"
   },
   {
    "duration": 191,
    "start_time": "2022-08-29T13:59:46.642Z"
   },
   {
    "duration": 210,
    "start_time": "2022-08-29T14:00:26.996Z"
   },
   {
    "duration": 10,
    "start_time": "2022-08-29T14:00:31.788Z"
   },
   {
    "duration": 356,
    "start_time": "2022-08-29T14:14:21.404Z"
   },
   {
    "duration": 8,
    "start_time": "2022-08-29T14:14:24.411Z"
   },
   {
    "duration": 6,
    "start_time": "2022-08-29T14:14:25.966Z"
   },
   {
    "duration": 18,
    "start_time": "2022-08-29T14:15:43.756Z"
   },
   {
    "duration": 6,
    "start_time": "2022-08-29T14:15:47.143Z"
   },
   {
    "duration": 34,
    "start_time": "2022-08-29T14:15:48.598Z"
   },
   {
    "duration": 17,
    "start_time": "2022-08-29T14:15:51.321Z"
   },
   {
    "duration": 4,
    "start_time": "2022-08-29T14:17:56.480Z"
   },
   {
    "duration": 32,
    "start_time": "2022-08-29T14:17:57.413Z"
   },
   {
    "duration": 15,
    "start_time": "2022-08-29T14:17:59.304Z"
   },
   {
    "duration": 10,
    "start_time": "2022-08-29T14:18:18.260Z"
   },
   {
    "duration": 897,
    "start_time": "2022-08-29T14:19:25.044Z"
   },
   {
    "duration": 4,
    "start_time": "2022-08-29T14:20:06.295Z"
   },
   {
    "duration": 31,
    "start_time": "2022-08-29T14:20:08.931Z"
   },
   {
    "duration": 626,
    "start_time": "2022-08-29T14:22:09.936Z"
   },
   {
    "duration": 831,
    "start_time": "2022-08-29T14:24:27.647Z"
   },
   {
    "duration": 51,
    "start_time": "2022-08-29T14:25:11.431Z"
   },
   {
    "duration": 10,
    "start_time": "2022-08-29T14:25:56.952Z"
   },
   {
    "duration": 8,
    "start_time": "2022-08-29T14:28:54.571Z"
   },
   {
    "duration": 11,
    "start_time": "2022-08-29T14:29:07.422Z"
   },
   {
    "duration": 593,
    "start_time": "2022-08-29T14:32:51.459Z"
   },
   {
    "duration": 38,
    "start_time": "2022-08-29T14:33:33.339Z"
   },
   {
    "duration": 10,
    "start_time": "2022-08-29T14:33:37.682Z"
   },
   {
    "duration": 8,
    "start_time": "2022-08-29T14:33:41.395Z"
   },
   {
    "duration": 9,
    "start_time": "2022-08-29T14:33:43.067Z"
   },
   {
    "duration": 20,
    "start_time": "2022-08-29T17:37:53.892Z"
   },
   {
    "duration": 21,
    "start_time": "2022-08-29T17:38:04.204Z"
   },
   {
    "duration": 24,
    "start_time": "2022-08-29T17:41:03.931Z"
   },
   {
    "duration": 891,
    "start_time": "2022-08-29T17:43:13.441Z"
   },
   {
    "duration": 136,
    "start_time": "2022-08-29T17:45:30.898Z"
   },
   {
    "duration": 36,
    "start_time": "2022-08-29T17:48:18.130Z"
   },
   {
    "duration": 12,
    "start_time": "2022-08-29T17:50:52.316Z"
   },
   {
    "duration": 43,
    "start_time": "2022-08-29T17:51:05.122Z"
   },
   {
    "duration": 9,
    "start_time": "2022-08-29T17:52:40.390Z"
   },
   {
    "duration": 20,
    "start_time": "2022-08-29T17:54:05.483Z"
   },
   {
    "duration": 8,
    "start_time": "2022-08-29T17:59:29.704Z"
   },
   {
    "duration": 11,
    "start_time": "2022-08-29T18:01:05.816Z"
   },
   {
    "duration": 6,
    "start_time": "2022-08-29T18:01:12.262Z"
   },
   {
    "duration": 7,
    "start_time": "2022-08-29T18:01:12.802Z"
   },
   {
    "duration": 8,
    "start_time": "2022-08-29T18:01:47.862Z"
   },
   {
    "duration": 941,
    "start_time": "2022-08-29T18:02:59.045Z"
   },
   {
    "duration": 11,
    "start_time": "2022-08-29T18:03:29.262Z"
   },
   {
    "duration": 4,
    "start_time": "2022-08-29T18:03:33.712Z"
   },
   {
    "duration": 14,
    "start_time": "2022-08-29T18:04:22.550Z"
   },
   {
    "duration": 16,
    "start_time": "2022-08-29T18:05:45.095Z"
   },
   {
    "duration": 383,
    "start_time": "2022-08-29T18:05:59.849Z"
   },
   {
    "duration": 383,
    "start_time": "2022-08-29T18:06:14.972Z"
   },
   {
    "duration": 333,
    "start_time": "2022-08-29T18:07:51.008Z"
   },
   {
    "duration": 382,
    "start_time": "2022-08-29T18:11:10.267Z"
   },
   {
    "duration": 12,
    "start_time": "2022-08-29T18:14:04.439Z"
   },
   {
    "duration": 6,
    "start_time": "2022-08-29T18:14:51.271Z"
   },
   {
    "duration": 1450,
    "start_time": "2022-08-29T18:18:30.571Z"
   },
   {
    "duration": 0,
    "start_time": "2022-08-29T18:18:32.023Z"
   },
   {
    "duration": 0,
    "start_time": "2022-08-29T18:18:32.024Z"
   },
   {
    "duration": 0,
    "start_time": "2022-08-29T18:18:32.025Z"
   },
   {
    "duration": 0,
    "start_time": "2022-08-29T18:18:32.027Z"
   },
   {
    "duration": 0,
    "start_time": "2022-08-29T18:18:32.028Z"
   },
   {
    "duration": 0,
    "start_time": "2022-08-29T18:18:32.029Z"
   },
   {
    "duration": 0,
    "start_time": "2022-08-29T18:18:32.030Z"
   },
   {
    "duration": 0,
    "start_time": "2022-08-29T18:18:32.031Z"
   },
   {
    "duration": 0,
    "start_time": "2022-08-29T18:18:32.032Z"
   },
   {
    "duration": 0,
    "start_time": "2022-08-29T18:18:32.034Z"
   },
   {
    "duration": 0,
    "start_time": "2022-08-29T18:18:32.035Z"
   },
   {
    "duration": 0,
    "start_time": "2022-08-29T18:18:32.036Z"
   },
   {
    "duration": 0,
    "start_time": "2022-08-29T18:18:32.037Z"
   },
   {
    "duration": 0,
    "start_time": "2022-08-29T18:18:32.038Z"
   },
   {
    "duration": 0,
    "start_time": "2022-08-29T18:18:32.039Z"
   },
   {
    "duration": 0,
    "start_time": "2022-08-29T18:18:32.040Z"
   },
   {
    "duration": 0,
    "start_time": "2022-08-29T18:18:32.041Z"
   },
   {
    "duration": 0,
    "start_time": "2022-08-29T18:18:32.042Z"
   },
   {
    "duration": 0,
    "start_time": "2022-08-29T18:18:32.043Z"
   },
   {
    "duration": 0,
    "start_time": "2022-08-29T18:18:32.044Z"
   },
   {
    "duration": 0,
    "start_time": "2022-08-29T18:18:32.045Z"
   },
   {
    "duration": 1533,
    "start_time": "2022-08-30T08:07:13.674Z"
   },
   {
    "duration": 383,
    "start_time": "2022-08-30T08:07:16.568Z"
   },
   {
    "duration": 12,
    "start_time": "2022-08-30T08:07:20.538Z"
   },
   {
    "duration": 7,
    "start_time": "2022-08-30T08:07:21.525Z"
   },
   {
    "duration": 17,
    "start_time": "2022-08-30T08:07:24.198Z"
   },
   {
    "duration": 4,
    "start_time": "2022-08-30T08:07:27.706Z"
   },
   {
    "duration": 30,
    "start_time": "2022-08-30T08:07:32.372Z"
   },
   {
    "duration": 566,
    "start_time": "2022-08-30T08:07:43.531Z"
   },
   {
    "duration": 34,
    "start_time": "2022-08-30T08:07:49.179Z"
   },
   {
    "duration": 9,
    "start_time": "2022-08-30T08:07:52.186Z"
   },
   {
    "duration": 7,
    "start_time": "2022-08-30T08:07:56.815Z"
   },
   {
    "duration": 9,
    "start_time": "2022-08-30T08:07:57.590Z"
   },
   {
    "duration": 23,
    "start_time": "2022-08-30T08:08:08.482Z"
   },
   {
    "duration": 35,
    "start_time": "2022-08-30T08:08:11.489Z"
   },
   {
    "duration": 7,
    "start_time": "2022-08-30T08:08:12.578Z"
   },
   {
    "duration": 21,
    "start_time": "2022-08-30T08:08:14.118Z"
   },
   {
    "duration": 9,
    "start_time": "2022-08-30T08:08:18.887Z"
   },
   {
    "duration": 3,
    "start_time": "2022-08-30T08:08:21.942Z"
   },
   {
    "duration": 12,
    "start_time": "2022-08-30T08:08:23.028Z"
   },
   {
    "duration": 369,
    "start_time": "2022-08-30T08:08:23.853Z"
   },
   {
    "duration": 5,
    "start_time": "2022-08-30T08:08:37.093Z"
   },
   {
    "duration": 28626,
    "start_time": "2022-08-30T09:44:38.946Z"
   },
   {
    "duration": 198,
    "start_time": "2022-08-30T09:46:46.612Z"
   },
   {
    "duration": 14,
    "start_time": "2022-08-30T10:03:17.701Z"
   },
   {
    "duration": 25,
    "start_time": "2022-08-30T10:03:57.833Z"
   },
   {
    "duration": 24,
    "start_time": "2022-08-30T10:04:31.654Z"
   },
   {
    "duration": 11,
    "start_time": "2022-08-30T10:06:40.433Z"
   },
   {
    "duration": 10,
    "start_time": "2022-08-30T10:06:55.602Z"
   },
   {
    "duration": 43,
    "start_time": "2022-08-30T10:19:10.215Z"
   },
   {
    "duration": 640,
    "start_time": "2022-08-30T10:19:50.252Z"
   },
   {
    "duration": 24,
    "start_time": "2022-08-30T10:21:39.384Z"
   },
   {
    "duration": 25,
    "start_time": "2022-08-30T10:22:36.507Z"
   },
   {
    "duration": 59,
    "start_time": "2022-08-30T10:28:51.711Z"
   },
   {
    "duration": 54,
    "start_time": "2022-08-30T10:29:11.064Z"
   },
   {
    "duration": 13,
    "start_time": "2022-08-30T13:32:31.662Z"
   },
   {
    "duration": 10,
    "start_time": "2022-08-30T13:32:44.271Z"
   },
   {
    "duration": 1382,
    "start_time": "2022-08-30T13:33:04.129Z"
   },
   {
    "duration": 5,
    "start_time": "2022-08-30T13:33:26.978Z"
   },
   {
    "duration": 341,
    "start_time": "2022-08-30T13:33:27.535Z"
   },
   {
    "duration": 7,
    "start_time": "2022-08-30T13:33:28.784Z"
   },
   {
    "duration": 7,
    "start_time": "2022-08-30T13:33:29.710Z"
   },
   {
    "duration": 15,
    "start_time": "2022-08-30T13:33:30.870Z"
   },
   {
    "duration": 4,
    "start_time": "2022-08-30T13:33:33.348Z"
   },
   {
    "duration": 30,
    "start_time": "2022-08-30T13:33:33.925Z"
   },
   {
    "duration": 595,
    "start_time": "2022-08-30T13:33:46.239Z"
   },
   {
    "duration": 30,
    "start_time": "2022-08-30T13:33:47.126Z"
   },
   {
    "duration": 9,
    "start_time": "2022-08-30T13:33:49.325Z"
   },
   {
    "duration": 7,
    "start_time": "2022-08-30T13:33:53.035Z"
   },
   {
    "duration": 10,
    "start_time": "2022-08-30T13:33:53.798Z"
   },
   {
    "duration": 20,
    "start_time": "2022-08-30T13:34:02.046Z"
   },
   {
    "duration": 35,
    "start_time": "2022-08-30T13:34:03.678Z"
   },
   {
    "duration": 7,
    "start_time": "2022-08-30T13:34:04.590Z"
   },
   {
    "duration": 19,
    "start_time": "2022-08-30T13:34:06.635Z"
   },
   {
    "duration": 9,
    "start_time": "2022-08-30T13:34:08.626Z"
   },
   {
    "duration": 4,
    "start_time": "2022-08-30T13:34:09.203Z"
   },
   {
    "duration": 13,
    "start_time": "2022-08-30T13:34:09.769Z"
   },
   {
    "duration": 341,
    "start_time": "2022-08-30T13:34:10.623Z"
   },
   {
    "duration": 5,
    "start_time": "2022-08-30T13:34:15.780Z"
   },
   {
    "duration": 1936,
    "start_time": "2022-08-30T13:35:16.061Z"
   },
   {
    "duration": 370,
    "start_time": "2022-08-30T13:35:17.999Z"
   },
   {
    "duration": 11,
    "start_time": "2022-08-30T13:35:18.370Z"
   },
   {
    "duration": 11,
    "start_time": "2022-08-30T13:35:18.382Z"
   },
   {
    "duration": 21,
    "start_time": "2022-08-30T13:35:18.395Z"
   },
   {
    "duration": 5,
    "start_time": "2022-08-30T13:35:18.418Z"
   },
   {
    "duration": 47,
    "start_time": "2022-08-30T13:35:18.425Z"
   },
   {
    "duration": 610,
    "start_time": "2022-08-30T13:35:18.474Z"
   },
   {
    "duration": 39,
    "start_time": "2022-08-30T13:35:19.086Z"
   },
   {
    "duration": 9,
    "start_time": "2022-08-30T13:35:19.127Z"
   },
   {
    "duration": 20,
    "start_time": "2022-08-30T13:35:19.137Z"
   },
   {
    "duration": 15,
    "start_time": "2022-08-30T13:35:19.159Z"
   },
   {
    "duration": 24,
    "start_time": "2022-08-30T13:35:19.176Z"
   },
   {
    "duration": 53,
    "start_time": "2022-08-30T13:35:19.202Z"
   },
   {
    "duration": 7,
    "start_time": "2022-08-30T13:35:19.256Z"
   },
   {
    "duration": 26,
    "start_time": "2022-08-30T13:35:19.265Z"
   },
   {
    "duration": 8,
    "start_time": "2022-08-30T13:35:19.293Z"
   },
   {
    "duration": 6,
    "start_time": "2022-08-30T13:35:19.302Z"
   },
   {
    "duration": 18,
    "start_time": "2022-08-30T13:35:19.310Z"
   },
   {
    "duration": 366,
    "start_time": "2022-08-30T13:35:19.330Z"
   },
   {
    "duration": 5,
    "start_time": "2022-08-30T13:35:19.698Z"
   },
   {
    "duration": 0,
    "start_time": "2022-08-30T13:58:57.792Z"
   },
   {
    "duration": 0,
    "start_time": "2022-08-30T13:58:57.794Z"
   },
   {
    "duration": 0,
    "start_time": "2022-08-30T13:58:57.795Z"
   },
   {
    "duration": 5,
    "start_time": "2022-08-30T17:55:28.716Z"
   },
   {
    "duration": 272,
    "start_time": "2022-08-30T17:55:30.859Z"
   },
   {
    "duration": 7,
    "start_time": "2022-08-30T17:55:33.735Z"
   },
   {
    "duration": 9,
    "start_time": "2022-08-30T17:55:35.741Z"
   },
   {
    "duration": 27,
    "start_time": "2022-08-30T17:55:37.618Z"
   },
   {
    "duration": 4,
    "start_time": "2022-08-30T17:55:41.672Z"
   },
   {
    "duration": 28,
    "start_time": "2022-08-30T17:55:43.559Z"
   },
   {
    "duration": 1461,
    "start_time": "2022-08-30T17:55:49.097Z"
   },
   {
    "duration": 4,
    "start_time": "2022-08-30T17:56:22.831Z"
   },
   {
    "duration": 267,
    "start_time": "2022-08-30T17:56:24.022Z"
   },
   {
    "duration": 7,
    "start_time": "2022-08-30T17:56:26.231Z"
   },
   {
    "duration": 7,
    "start_time": "2022-08-30T17:56:27.143Z"
   },
   {
    "duration": 15,
    "start_time": "2022-08-30T17:56:29.329Z"
   },
   {
    "duration": 3,
    "start_time": "2022-08-30T17:56:33.073Z"
   },
   {
    "duration": 28,
    "start_time": "2022-08-30T17:56:33.809Z"
   },
   {
    "duration": 15,
    "start_time": "2022-08-30T17:56:37.622Z"
   },
   {
    "duration": 9,
    "start_time": "2022-08-30T17:57:27.121Z"
   },
   {
    "duration": 7,
    "start_time": "2022-08-30T17:57:53.623Z"
   },
   {
    "duration": 10,
    "start_time": "2022-08-30T17:59:58.378Z"
   },
   {
    "duration": 7,
    "start_time": "2022-08-30T18:00:01.549Z"
   },
   {
    "duration": 30,
    "start_time": "2022-08-30T18:00:04.528Z"
   },
   {
    "duration": 42,
    "start_time": "2022-08-30T18:00:08.125Z"
   },
   {
    "duration": 30,
    "start_time": "2022-08-30T18:00:21.601Z"
   },
   {
    "duration": 9,
    "start_time": "2022-08-30T18:00:27.103Z"
   },
   {
    "duration": 9,
    "start_time": "2022-08-30T18:00:33.321Z"
   },
   {
    "duration": 9,
    "start_time": "2022-08-30T18:00:34.764Z"
   },
   {
    "duration": 82,
    "start_time": "2022-08-30T18:02:11.824Z"
   },
   {
    "duration": 9,
    "start_time": "2022-08-30T18:02:39.676Z"
   },
   {
    "duration": 20,
    "start_time": "2022-08-30T18:03:29.344Z"
   },
   {
    "duration": 35,
    "start_time": "2022-08-30T18:04:09.276Z"
   },
   {
    "duration": 6,
    "start_time": "2022-08-30T18:04:17.281Z"
   },
   {
    "duration": 20,
    "start_time": "2022-08-30T18:04:18.692Z"
   },
   {
    "duration": 8,
    "start_time": "2022-08-30T18:04:24.219Z"
   },
   {
    "duration": 4,
    "start_time": "2022-08-30T18:04:27.040Z"
   },
   {
    "duration": 13,
    "start_time": "2022-08-30T18:04:29.547Z"
   },
   {
    "duration": 354,
    "start_time": "2022-08-30T18:04:30.980Z"
   },
   {
    "duration": 4,
    "start_time": "2022-08-30T18:04:58.120Z"
   },
   {
    "duration": 357,
    "start_time": "2022-08-30T18:05:21.402Z"
   },
   {
    "duration": 42,
    "start_time": "2022-08-30T18:05:41.775Z"
   },
   {
    "duration": 1300,
    "start_time": "2022-08-30T18:05:53.392Z"
   },
   {
    "duration": 21,
    "start_time": "2022-08-30T18:13:16.295Z"
   },
   {
    "duration": 34,
    "start_time": "2022-08-30T18:13:25.121Z"
   },
   {
    "duration": 7,
    "start_time": "2022-08-30T18:13:30.112Z"
   },
   {
    "duration": 18,
    "start_time": "2022-08-30T18:13:31.456Z"
   },
   {
    "duration": 8,
    "start_time": "2022-08-30T18:13:35.920Z"
   },
   {
    "duration": 3,
    "start_time": "2022-08-30T18:13:38.240Z"
   },
   {
    "duration": 13,
    "start_time": "2022-08-30T18:13:39.293Z"
   },
   {
    "duration": 334,
    "start_time": "2022-08-30T18:13:40.239Z"
   },
   {
    "duration": 5,
    "start_time": "2022-08-30T18:13:49.088Z"
   },
   {
    "duration": 419,
    "start_time": "2022-08-30T18:13:49.816Z"
   },
   {
    "duration": 12,
    "start_time": "2022-08-30T18:16:11.669Z"
   },
   {
    "duration": 23,
    "start_time": "2022-08-30T18:17:47.932Z"
   },
   {
    "duration": 12,
    "start_time": "2022-08-30T18:21:09.963Z"
   },
   {
    "duration": 22,
    "start_time": "2022-08-30T18:23:48.043Z"
   },
   {
    "duration": 611,
    "start_time": "2022-08-30T18:23:49.272Z"
   },
   {
    "duration": 33,
    "start_time": "2022-08-30T18:24:02.462Z"
   },
   {
    "duration": 104,
    "start_time": "2022-08-30T18:24:38.566Z"
   },
   {
    "duration": 39,
    "start_time": "2022-08-30T18:27:32.222Z"
   },
   {
    "duration": 48,
    "start_time": "2022-08-30T18:28:20.833Z"
   },
   {
    "duration": 20,
    "start_time": "2022-08-30T18:30:39.429Z"
   },
   {
    "duration": 626,
    "start_time": "2022-08-30T18:30:40.380Z"
   },
   {
    "duration": 31,
    "start_time": "2022-08-30T18:30:41.674Z"
   },
   {
    "duration": 30,
    "start_time": "2022-08-30T18:31:06.068Z"
   },
   {
    "duration": 108,
    "start_time": "2022-08-30T18:31:14.147Z"
   },
   {
    "duration": 6910,
    "start_time": "2022-08-30T18:46:14.528Z"
   },
   {
    "duration": 6657,
    "start_time": "2022-08-30T18:46:47.125Z"
   },
   {
    "duration": 2070,
    "start_time": "2022-08-30T18:47:33.514Z"
   },
   {
    "duration": 6644,
    "start_time": "2022-08-30T18:47:55.745Z"
   },
   {
    "duration": 1907,
    "start_time": "2022-08-30T18:48:08.640Z"
   },
   {
    "duration": 1378,
    "start_time": "2022-08-30T18:49:14.888Z"
   },
   {
    "duration": 278,
    "start_time": "2022-08-30T18:49:16.268Z"
   },
   {
    "duration": 9,
    "start_time": "2022-08-30T18:49:16.548Z"
   },
   {
    "duration": 5,
    "start_time": "2022-08-30T18:49:16.559Z"
   },
   {
    "duration": 16,
    "start_time": "2022-08-30T18:49:16.565Z"
   },
   {
    "duration": 9,
    "start_time": "2022-08-30T18:49:16.582Z"
   },
   {
    "duration": 8,
    "start_time": "2022-08-30T18:49:16.592Z"
   },
   {
    "duration": 29,
    "start_time": "2022-08-30T18:49:16.602Z"
   },
   {
    "duration": 42,
    "start_time": "2022-08-30T18:49:16.655Z"
   },
   {
    "duration": 33,
    "start_time": "2022-08-30T18:49:16.699Z"
   },
   {
    "duration": 25,
    "start_time": "2022-08-30T18:49:16.734Z"
   },
   {
    "duration": 16,
    "start_time": "2022-08-30T18:49:16.761Z"
   },
   {
    "duration": 17,
    "start_time": "2022-08-30T18:49:16.778Z"
   },
   {
    "duration": 91,
    "start_time": "2022-08-30T18:49:16.796Z"
   },
   {
    "duration": 11,
    "start_time": "2022-08-30T18:49:16.888Z"
   },
   {
    "duration": 20,
    "start_time": "2022-08-30T18:49:16.900Z"
   },
   {
    "duration": 49,
    "start_time": "2022-08-30T18:49:16.922Z"
   },
   {
    "duration": 6,
    "start_time": "2022-08-30T18:49:16.973Z"
   },
   {
    "duration": 21,
    "start_time": "2022-08-30T18:49:16.980Z"
   },
   {
    "duration": 9,
    "start_time": "2022-08-30T18:49:17.003Z"
   },
   {
    "duration": 8,
    "start_time": "2022-08-30T18:49:17.014Z"
   },
   {
    "duration": 17,
    "start_time": "2022-08-30T18:49:17.024Z"
   },
   {
    "duration": 368,
    "start_time": "2022-08-30T18:49:17.042Z"
   },
   {
    "duration": 5,
    "start_time": "2022-08-30T18:49:17.412Z"
   },
   {
    "duration": 494,
    "start_time": "2022-08-30T18:49:17.419Z"
   },
   {
    "duration": 15,
    "start_time": "2022-08-30T18:49:17.915Z"
   },
   {
    "duration": 38,
    "start_time": "2022-08-30T18:49:17.932Z"
   },
   {
    "duration": 11,
    "start_time": "2022-08-30T18:49:17.973Z"
   },
   {
    "duration": 44,
    "start_time": "2022-08-30T18:49:17.985Z"
   },
   {
    "duration": 66,
    "start_time": "2022-08-30T18:49:18.031Z"
   },
   {
    "duration": 24,
    "start_time": "2022-08-30T18:49:18.099Z"
   },
   {
    "duration": 706,
    "start_time": "2022-08-30T18:49:18.125Z"
   },
   {
    "duration": 39,
    "start_time": "2022-08-30T18:49:18.833Z"
   },
   {
    "duration": 116,
    "start_time": "2022-08-30T18:49:18.874Z"
   },
   {
    "duration": 6238,
    "start_time": "2022-08-30T18:49:18.991Z"
   },
   {
    "duration": 1975,
    "start_time": "2022-08-30T18:49:25.230Z"
   },
   {
    "duration": 42,
    "start_time": "2022-08-30T19:00:00.073Z"
   },
   {
    "duration": 50,
    "start_time": "2022-08-30T19:00:21.288Z"
   },
   {
    "duration": 7,
    "start_time": "2022-08-30T19:01:09.562Z"
   },
   {
    "duration": 21,
    "start_time": "2022-08-30T19:02:04.148Z"
   },
   {
    "duration": 323,
    "start_time": "2022-08-30T19:18:09.512Z"
   },
   {
    "duration": 323,
    "start_time": "2022-08-30T19:18:19.359Z"
   },
   {
    "duration": 201,
    "start_time": "2022-08-30T19:18:38.890Z"
   },
   {
    "duration": 189,
    "start_time": "2022-08-30T19:18:57.042Z"
   },
   {
    "duration": 11,
    "start_time": "2022-08-30T19:23:25.706Z"
   },
   {
    "duration": 101,
    "start_time": "2022-08-30T19:24:13.405Z"
   },
   {
    "duration": 49,
    "start_time": "2022-08-31T16:45:36.593Z"
   },
   {
    "duration": 2262,
    "start_time": "2022-08-31T16:45:43.666Z"
   },
   {
    "duration": 421,
    "start_time": "2022-08-31T16:45:45.930Z"
   },
   {
    "duration": 12,
    "start_time": "2022-08-31T16:45:46.353Z"
   },
   {
    "duration": 7,
    "start_time": "2022-08-31T16:45:46.367Z"
   },
   {
    "duration": 22,
    "start_time": "2022-08-31T16:45:46.376Z"
   },
   {
    "duration": 10,
    "start_time": "2022-08-31T16:45:46.399Z"
   },
   {
    "duration": 8,
    "start_time": "2022-08-31T16:45:46.411Z"
   },
   {
    "duration": 39,
    "start_time": "2022-08-31T16:45:46.420Z"
   },
   {
    "duration": 68,
    "start_time": "2022-08-31T16:45:46.460Z"
   },
   {
    "duration": 34,
    "start_time": "2022-08-31T16:45:46.531Z"
   },
   {
    "duration": 26,
    "start_time": "2022-08-31T16:45:46.567Z"
   },
   {
    "duration": 10,
    "start_time": "2022-08-31T16:45:46.595Z"
   },
   {
    "duration": 20,
    "start_time": "2022-08-31T16:45:46.607Z"
   },
   {
    "duration": 117,
    "start_time": "2022-08-31T16:45:46.629Z"
   },
   {
    "duration": 12,
    "start_time": "2022-08-31T16:45:46.748Z"
   },
   {
    "duration": 38,
    "start_time": "2022-08-31T16:45:46.761Z"
   },
   {
    "duration": 46,
    "start_time": "2022-08-31T16:45:46.801Z"
   },
   {
    "duration": 8,
    "start_time": "2022-08-31T16:45:46.848Z"
   },
   {
    "duration": 44,
    "start_time": "2022-08-31T16:45:46.858Z"
   },
   {
    "duration": 10,
    "start_time": "2022-08-31T16:45:46.905Z"
   },
   {
    "duration": 6,
    "start_time": "2022-08-31T16:45:46.917Z"
   },
   {
    "duration": 18,
    "start_time": "2022-08-31T16:45:46.924Z"
   },
   {
    "duration": 452,
    "start_time": "2022-08-31T16:45:46.944Z"
   },
   {
    "duration": 4,
    "start_time": "2022-08-31T16:45:47.399Z"
   },
   {
    "duration": 519,
    "start_time": "2022-08-31T16:45:47.405Z"
   },
   {
    "duration": 15,
    "start_time": "2022-08-31T16:45:47.926Z"
   },
   {
    "duration": 28,
    "start_time": "2022-08-31T16:45:47.943Z"
   },
   {
    "duration": 15,
    "start_time": "2022-08-31T16:45:47.994Z"
   },
   {
    "duration": 56,
    "start_time": "2022-08-31T16:45:48.011Z"
   },
   {
    "duration": 59,
    "start_time": "2022-08-31T16:45:48.069Z"
   },
   {
    "duration": 51,
    "start_time": "2022-08-31T16:45:48.130Z"
   },
   {
    "duration": 9,
    "start_time": "2022-08-31T16:45:48.192Z"
   },
   {
    "duration": 38,
    "start_time": "2022-08-31T16:45:48.203Z"
   },
   {
    "duration": 250,
    "start_time": "2022-08-31T16:45:48.243Z"
   },
   {
    "duration": 11,
    "start_time": "2022-08-31T16:45:48.495Z"
   },
   {
    "duration": 142,
    "start_time": "2022-08-31T16:45:48.508Z"
   },
   {
    "duration": 0,
    "start_time": "2022-08-31T16:45:48.651Z"
   },
   {
    "duration": 11,
    "start_time": "2022-08-31T16:55:01.007Z"
   },
   {
    "duration": 6,
    "start_time": "2022-08-31T17:40:41.588Z"
   },
   {
    "duration": 42,
    "start_time": "2022-08-31T17:40:50.091Z"
   },
   {
    "duration": 21,
    "start_time": "2022-08-31T17:40:57.861Z"
   },
   {
    "duration": 253,
    "start_time": "2022-08-31T17:42:23.012Z"
   },
   {
    "duration": 239,
    "start_time": "2022-08-31T17:42:38.513Z"
   },
   {
    "duration": 1266,
    "start_time": "2022-08-31T17:48:58.341Z"
   },
   {
    "duration": 627,
    "start_time": "2022-08-31T17:49:15.286Z"
   },
   {
    "duration": 5,
    "start_time": "2022-08-31T17:55:09.525Z"
   },
   {
    "duration": 383,
    "start_time": "2022-08-31T17:55:09.532Z"
   },
   {
    "duration": 8,
    "start_time": "2022-08-31T17:55:09.916Z"
   },
   {
    "duration": 9,
    "start_time": "2022-08-31T17:55:09.925Z"
   },
   {
    "duration": 23,
    "start_time": "2022-08-31T17:55:09.936Z"
   },
   {
    "duration": 11,
    "start_time": "2022-08-31T17:55:09.961Z"
   },
   {
    "duration": 9,
    "start_time": "2022-08-31T17:55:09.974Z"
   },
   {
    "duration": 33,
    "start_time": "2022-08-31T17:55:09.991Z"
   },
   {
    "duration": 49,
    "start_time": "2022-08-31T17:55:10.026Z"
   },
   {
    "duration": 47,
    "start_time": "2022-08-31T17:55:10.077Z"
   },
   {
    "duration": 28,
    "start_time": "2022-08-31T17:55:10.126Z"
   },
   {
    "duration": 25,
    "start_time": "2022-08-31T17:55:10.155Z"
   },
   {
    "duration": 33,
    "start_time": "2022-08-31T17:55:10.182Z"
   },
   {
    "duration": 134,
    "start_time": "2022-08-31T17:55:10.216Z"
   },
   {
    "duration": 44,
    "start_time": "2022-08-31T17:55:10.352Z"
   },
   {
    "duration": 44,
    "start_time": "2022-08-31T17:55:10.398Z"
   },
   {
    "duration": 44,
    "start_time": "2022-08-31T17:55:10.444Z"
   },
   {
    "duration": 7,
    "start_time": "2022-08-31T17:55:10.490Z"
   },
   {
    "duration": 40,
    "start_time": "2022-08-31T17:55:10.499Z"
   },
   {
    "duration": 11,
    "start_time": "2022-08-31T17:55:10.540Z"
   },
   {
    "duration": 16,
    "start_time": "2022-08-31T17:55:10.553Z"
   },
   {
    "duration": 30,
    "start_time": "2022-08-31T17:55:10.571Z"
   },
   {
    "duration": 357,
    "start_time": "2022-08-31T17:55:10.603Z"
   },
   {
    "duration": 5,
    "start_time": "2022-08-31T17:55:10.962Z"
   },
   {
    "duration": 443,
    "start_time": "2022-08-31T17:55:10.968Z"
   },
   {
    "duration": 16,
    "start_time": "2022-08-31T17:55:11.413Z"
   },
   {
    "duration": 28,
    "start_time": "2022-08-31T17:55:11.431Z"
   },
   {
    "duration": 34,
    "start_time": "2022-08-31T17:55:11.461Z"
   },
   {
    "duration": 46,
    "start_time": "2022-08-31T17:55:11.498Z"
   },
   {
    "duration": 151,
    "start_time": "2022-08-31T17:55:11.545Z"
   },
   {
    "duration": 53,
    "start_time": "2022-08-31T17:55:11.698Z"
   },
   {
    "duration": 8,
    "start_time": "2022-08-31T17:55:11.753Z"
   },
   {
    "duration": 44,
    "start_time": "2022-08-31T17:55:11.762Z"
   },
   {
    "duration": 304,
    "start_time": "2022-08-31T17:55:11.809Z"
   },
   {
    "duration": 11,
    "start_time": "2022-08-31T17:55:12.115Z"
   },
   {
    "duration": 11,
    "start_time": "2022-08-31T17:55:12.128Z"
   },
   {
    "duration": 5,
    "start_time": "2022-08-31T17:55:12.140Z"
   },
   {
    "duration": 67,
    "start_time": "2022-08-31T17:55:12.147Z"
   },
   {
    "duration": 22,
    "start_time": "2022-08-31T17:55:12.216Z"
   },
   {
    "duration": 289,
    "start_time": "2022-08-31T17:55:12.240Z"
   },
   {
    "duration": 621,
    "start_time": "2022-08-31T17:55:12.531Z"
   },
   {
    "duration": 553,
    "start_time": "2022-08-31T18:01:01.468Z"
   },
   {
    "duration": 593,
    "start_time": "2022-08-31T18:03:05.867Z"
   },
   {
    "duration": 21,
    "start_time": "2022-08-31T18:21:18.034Z"
   },
   {
    "duration": 119,
    "start_time": "2022-08-31T18:26:52.050Z"
   },
   {
    "duration": 12,
    "start_time": "2022-08-31T18:27:38.056Z"
   },
   {
    "duration": 12,
    "start_time": "2022-08-31T18:27:46.948Z"
   },
   {
    "duration": 25,
    "start_time": "2022-08-31T18:27:54.446Z"
   },
   {
    "duration": 41,
    "start_time": "2022-08-31T18:27:55.933Z"
   },
   {
    "duration": 8,
    "start_time": "2022-08-31T18:27:56.550Z"
   },
   {
    "duration": 23,
    "start_time": "2022-08-31T18:27:57.096Z"
   },
   {
    "duration": 10,
    "start_time": "2022-08-31T18:27:58.215Z"
   },
   {
    "duration": 4,
    "start_time": "2022-08-31T18:27:58.732Z"
   },
   {
    "duration": 17,
    "start_time": "2022-08-31T18:27:59.279Z"
   },
   {
    "duration": 26473,
    "start_time": "2022-08-31T18:28:00.142Z"
   },
   {
    "duration": 5,
    "start_time": "2022-08-31T18:28:26.617Z"
   },
   {
    "duration": 1672,
    "start_time": "2022-08-31T18:30:05.479Z"
   },
   {
    "duration": 601,
    "start_time": "2022-08-31T18:30:07.153Z"
   },
   {
    "duration": 11,
    "start_time": "2022-08-31T18:30:07.755Z"
   },
   {
    "duration": 10,
    "start_time": "2022-08-31T18:30:07.768Z"
   },
   {
    "duration": 23,
    "start_time": "2022-08-31T18:30:07.779Z"
   },
   {
    "duration": 10,
    "start_time": "2022-08-31T18:30:07.803Z"
   },
   {
    "duration": 8,
    "start_time": "2022-08-31T18:30:07.815Z"
   },
   {
    "duration": 35,
    "start_time": "2022-08-31T18:30:07.825Z"
   },
   {
    "duration": 69,
    "start_time": "2022-08-31T18:30:07.862Z"
   },
   {
    "duration": 37,
    "start_time": "2022-08-31T18:30:07.933Z"
   },
   {
    "duration": 25,
    "start_time": "2022-08-31T18:30:07.972Z"
   },
   {
    "duration": 29,
    "start_time": "2022-08-31T18:30:07.999Z"
   },
   {
    "duration": 16,
    "start_time": "2022-08-31T18:30:08.030Z"
   },
   {
    "duration": 102,
    "start_time": "2022-08-31T18:30:08.050Z"
   },
   {
    "duration": 23,
    "start_time": "2022-08-31T18:30:08.154Z"
   },
   {
    "duration": 25,
    "start_time": "2022-08-31T18:30:08.179Z"
   },
   {
    "duration": 40,
    "start_time": "2022-08-31T18:30:08.206Z"
   },
   {
    "duration": 6,
    "start_time": "2022-08-31T18:30:08.247Z"
   },
   {
    "duration": 40,
    "start_time": "2022-08-31T18:30:08.255Z"
   },
   {
    "duration": 9,
    "start_time": "2022-08-31T18:30:08.297Z"
   },
   {
    "duration": 11,
    "start_time": "2022-08-31T18:30:08.308Z"
   },
   {
    "duration": 31,
    "start_time": "2022-08-31T18:30:08.320Z"
   },
   {
    "duration": 390,
    "start_time": "2022-08-31T18:30:08.353Z"
   },
   {
    "duration": 6,
    "start_time": "2022-08-31T18:30:08.745Z"
   },
   {
    "duration": 494,
    "start_time": "2022-08-31T18:30:08.753Z"
   },
   {
    "duration": 15,
    "start_time": "2022-08-31T18:30:09.249Z"
   },
   {
    "duration": 35,
    "start_time": "2022-08-31T18:30:09.266Z"
   },
   {
    "duration": 12,
    "start_time": "2022-08-31T18:30:09.303Z"
   },
   {
    "duration": 51,
    "start_time": "2022-08-31T18:30:09.317Z"
   },
   {
    "duration": 67,
    "start_time": "2022-08-31T18:30:09.371Z"
   },
   {
    "duration": 71,
    "start_time": "2022-08-31T18:30:09.440Z"
   },
   {
    "duration": 9,
    "start_time": "2022-08-31T18:30:09.513Z"
   },
   {
    "duration": 18,
    "start_time": "2022-08-31T18:30:09.524Z"
   },
   {
    "duration": 255,
    "start_time": "2022-08-31T18:30:09.544Z"
   },
   {
    "duration": 9,
    "start_time": "2022-08-31T18:30:09.801Z"
   },
   {
    "duration": 9,
    "start_time": "2022-08-31T18:30:09.812Z"
   },
   {
    "duration": 7,
    "start_time": "2022-08-31T18:30:09.823Z"
   },
   {
    "duration": 67,
    "start_time": "2022-08-31T18:30:09.832Z"
   },
   {
    "duration": 20,
    "start_time": "2022-08-31T18:30:09.901Z"
   },
   {
    "duration": 274,
    "start_time": "2022-08-31T18:30:09.923Z"
   },
   {
    "duration": 147,
    "start_time": "2022-08-31T18:30:10.200Z"
   },
   {
    "duration": 4,
    "start_time": "2022-08-31T18:32:36.103Z"
   },
   {
    "duration": 2,
    "start_time": "2022-08-31T18:33:06.515Z"
   },
   {
    "duration": 4,
    "start_time": "2022-08-31T18:33:12.328Z"
   },
   {
    "duration": 601,
    "start_time": "2022-08-31T18:33:49.405Z"
   },
   {
    "duration": 2197,
    "start_time": "2022-08-31T18:37:23.564Z"
   },
   {
    "duration": 644,
    "start_time": "2022-08-31T18:38:22.176Z"
   },
   {
    "duration": 13,
    "start_time": "2022-08-31T18:40:28.023Z"
   },
   {
    "duration": 1345,
    "start_time": "2022-08-31T18:40:41.831Z"
   },
   {
    "duration": 85,
    "start_time": "2022-08-31T18:46:13.146Z"
   },
   {
    "duration": 40,
    "start_time": "2022-08-31T18:46:18.535Z"
   },
   {
    "duration": 11,
    "start_time": "2022-08-31T18:46:19.459Z"
   },
   {
    "duration": 9,
    "start_time": "2022-08-31T18:46:20.733Z"
   },
   {
    "duration": 12,
    "start_time": "2022-08-31T18:46:21.226Z"
   },
   {
    "duration": 140,
    "start_time": "2022-08-31T18:46:21.727Z"
   },
   {
    "duration": 10,
    "start_time": "2022-08-31T18:46:22.274Z"
   },
   {
    "duration": 27,
    "start_time": "2022-08-31T18:46:23.877Z"
   },
   {
    "duration": 40,
    "start_time": "2022-08-31T18:46:24.715Z"
   },
   {
    "duration": 7,
    "start_time": "2022-08-31T18:46:25.389Z"
   },
   {
    "duration": 21,
    "start_time": "2022-08-31T18:46:25.902Z"
   },
   {
    "duration": 8,
    "start_time": "2022-08-31T18:46:26.979Z"
   },
   {
    "duration": 4,
    "start_time": "2022-08-31T18:46:27.606Z"
   },
   {
    "duration": 13,
    "start_time": "2022-08-31T18:46:28.112Z"
   },
   {
    "duration": 356,
    "start_time": "2022-08-31T18:46:28.908Z"
   },
   {
    "duration": 4,
    "start_time": "2022-08-31T18:46:30.974Z"
   },
   {
    "duration": 523,
    "start_time": "2022-08-31T18:46:31.656Z"
   },
   {
    "duration": 14,
    "start_time": "2022-08-31T18:46:33.714Z"
   },
   {
    "duration": 26,
    "start_time": "2022-08-31T18:46:34.870Z"
   },
   {
    "duration": 14,
    "start_time": "2022-08-31T18:46:35.441Z"
   },
   {
    "duration": 52,
    "start_time": "2022-08-31T18:46:36.004Z"
   },
   {
    "duration": 137,
    "start_time": "2022-08-31T18:46:36.694Z"
   },
   {
    "duration": 53,
    "start_time": "2022-08-31T18:46:39.194Z"
   },
   {
    "duration": 9,
    "start_time": "2022-08-31T18:46:40.032Z"
   },
   {
    "duration": 17,
    "start_time": "2022-08-31T18:46:41.430Z"
   },
   {
    "duration": 221,
    "start_time": "2022-08-31T18:46:42.266Z"
   },
   {
    "duration": 10,
    "start_time": "2022-08-31T18:46:45.648Z"
   },
   {
    "duration": 10,
    "start_time": "2022-08-31T18:46:46.938Z"
   },
   {
    "duration": 6,
    "start_time": "2022-08-31T18:46:51.503Z"
   },
   {
    "duration": 42,
    "start_time": "2022-08-31T18:46:52.264Z"
   },
   {
    "duration": 22,
    "start_time": "2022-08-31T18:46:54.301Z"
   },
   {
    "duration": 261,
    "start_time": "2022-08-31T18:46:58.476Z"
   },
   {
    "duration": 614,
    "start_time": "2022-08-31T18:47:38.847Z"
   },
   {
    "duration": 14,
    "start_time": "2022-08-31T18:49:39.665Z"
   },
   {
    "duration": 14,
    "start_time": "2022-08-31T18:50:52.659Z"
   },
   {
    "duration": 17,
    "start_time": "2022-08-31T19:04:02.583Z"
   },
   {
    "duration": 38,
    "start_time": "2022-08-31T19:04:58.346Z"
   },
   {
    "duration": 27,
    "start_time": "2022-08-31T19:15:18.731Z"
   },
   {
    "duration": 20,
    "start_time": "2022-08-31T19:17:36.439Z"
   },
   {
    "duration": 42,
    "start_time": "2022-08-31T19:20:10.766Z"
   },
   {
    "duration": 36,
    "start_time": "2022-08-31T19:21:59.862Z"
   },
   {
    "duration": 21,
    "start_time": "2022-08-31T19:22:30.083Z"
   },
   {
    "duration": 51,
    "start_time": "2022-08-31T19:23:43.600Z"
   },
   {
    "duration": 52,
    "start_time": "2022-08-31T19:24:08.800Z"
   },
   {
    "duration": 43,
    "start_time": "2022-08-31T19:24:29.262Z"
   },
   {
    "duration": 31,
    "start_time": "2022-08-31T19:24:37.564Z"
   },
   {
    "duration": 5,
    "start_time": "2022-08-31T19:24:50.539Z"
   },
   {
    "duration": 757,
    "start_time": "2022-08-31T19:24:50.546Z"
   },
   {
    "duration": 8,
    "start_time": "2022-08-31T19:24:51.305Z"
   },
   {
    "duration": 11,
    "start_time": "2022-08-31T19:24:51.314Z"
   },
   {
    "duration": 22,
    "start_time": "2022-08-31T19:24:51.327Z"
   },
   {
    "duration": 13,
    "start_time": "2022-08-31T19:24:51.351Z"
   },
   {
    "duration": 43,
    "start_time": "2022-08-31T19:24:51.365Z"
   },
   {
    "duration": 41,
    "start_time": "2022-08-31T19:24:51.410Z"
   },
   {
    "duration": 106,
    "start_time": "2022-08-31T19:24:51.453Z"
   },
   {
    "duration": 40,
    "start_time": "2022-08-31T19:24:51.561Z"
   },
   {
    "duration": 11,
    "start_time": "2022-08-31T19:24:51.603Z"
   },
   {
    "duration": 25,
    "start_time": "2022-08-31T19:24:51.615Z"
   },
   {
    "duration": 13,
    "start_time": "2022-08-31T19:24:51.642Z"
   },
   {
    "duration": 102,
    "start_time": "2022-08-31T19:24:51.658Z"
   },
   {
    "duration": 24,
    "start_time": "2022-08-31T19:24:51.762Z"
   },
   {
    "duration": 31,
    "start_time": "2022-08-31T19:24:51.789Z"
   },
   {
    "duration": 49,
    "start_time": "2022-08-31T19:24:51.822Z"
   },
   {
    "duration": 23,
    "start_time": "2022-08-31T19:24:51.874Z"
   },
   {
    "duration": 35,
    "start_time": "2022-08-31T19:24:51.900Z"
   },
   {
    "duration": 10,
    "start_time": "2022-08-31T19:24:51.937Z"
   },
   {
    "duration": 25,
    "start_time": "2022-08-31T19:24:51.950Z"
   },
   {
    "duration": 20,
    "start_time": "2022-08-31T19:24:51.977Z"
   },
   {
    "duration": 358,
    "start_time": "2022-08-31T19:24:52.000Z"
   },
   {
    "duration": 5,
    "start_time": "2022-08-31T19:24:52.359Z"
   },
   {
    "duration": 435,
    "start_time": "2022-08-31T19:24:52.365Z"
   },
   {
    "duration": 14,
    "start_time": "2022-08-31T19:24:52.802Z"
   },
   {
    "duration": 35,
    "start_time": "2022-08-31T19:24:52.817Z"
   },
   {
    "duration": 12,
    "start_time": "2022-08-31T19:24:52.854Z"
   },
   {
    "duration": 67,
    "start_time": "2022-08-31T19:24:52.868Z"
   },
   {
    "duration": 56,
    "start_time": "2022-08-31T19:24:52.937Z"
   },
   {
    "duration": 15,
    "start_time": "2022-08-31T19:24:52.995Z"
   },
   {
    "duration": 71,
    "start_time": "2022-08-31T19:24:53.011Z"
   },
   {
    "duration": 13,
    "start_time": "2022-08-31T19:24:53.084Z"
   },
   {
    "duration": 32,
    "start_time": "2022-08-31T19:24:53.099Z"
   },
   {
    "duration": 241,
    "start_time": "2022-08-31T19:24:53.133Z"
   },
   {
    "duration": 20,
    "start_time": "2022-08-31T19:24:53.376Z"
   },
   {
    "duration": 9,
    "start_time": "2022-08-31T19:24:53.398Z"
   },
   {
    "duration": 8,
    "start_time": "2022-08-31T19:24:53.409Z"
   },
   {
    "duration": 52,
    "start_time": "2022-08-31T19:24:53.419Z"
   },
   {
    "duration": 40,
    "start_time": "2022-08-31T19:24:53.472Z"
   },
   {
    "duration": 278,
    "start_time": "2022-08-31T19:24:53.516Z"
   },
   {
    "duration": 30,
    "start_time": "2022-08-31T19:24:53.796Z"
   },
   {
    "duration": 22,
    "start_time": "2022-08-31T19:24:53.828Z"
   },
   {
    "duration": 71,
    "start_time": "2022-08-31T19:24:53.852Z"
   },
   {
    "duration": 44,
    "start_time": "2022-08-31T19:24:53.925Z"
   },
   {
    "duration": 38,
    "start_time": "2022-08-31T19:24:53.971Z"
   },
   {
    "duration": 9,
    "start_time": "2022-08-31T19:25:01.388Z"
   },
   {
    "duration": 10,
    "start_time": "2022-08-31T19:26:08.870Z"
   },
   {
    "duration": 200,
    "start_time": "2022-08-31T19:26:20.004Z"
   },
   {
    "duration": 21,
    "start_time": "2022-08-31T19:28:39.963Z"
   },
   {
    "duration": 14,
    "start_time": "2022-08-31T19:30:33.672Z"
   },
   {
    "duration": 743,
    "start_time": "2022-08-31T19:30:37.059Z"
   },
   {
    "duration": 2691,
    "start_time": "2022-08-31T19:34:28.753Z"
   },
   {
    "duration": 261,
    "start_time": "2022-08-31T19:34:31.446Z"
   },
   {
    "duration": 12,
    "start_time": "2022-08-31T19:34:31.709Z"
   },
   {
    "duration": 12,
    "start_time": "2022-08-31T19:34:31.723Z"
   },
   {
    "duration": 22,
    "start_time": "2022-08-31T19:34:31.737Z"
   },
   {
    "duration": 11,
    "start_time": "2022-08-31T19:34:31.761Z"
   },
   {
    "duration": 22,
    "start_time": "2022-08-31T19:34:31.774Z"
   },
   {
    "duration": 58,
    "start_time": "2022-08-31T19:34:31.798Z"
   },
   {
    "duration": 124,
    "start_time": "2022-08-31T19:34:31.858Z"
   },
   {
    "duration": 52,
    "start_time": "2022-08-31T19:34:31.991Z"
   },
   {
    "duration": 15,
    "start_time": "2022-08-31T19:34:32.046Z"
   },
   {
    "duration": 33,
    "start_time": "2022-08-31T19:34:32.063Z"
   },
   {
    "duration": 23,
    "start_time": "2022-08-31T19:34:32.099Z"
   },
   {
    "duration": 114,
    "start_time": "2022-08-31T19:34:32.126Z"
   },
   {
    "duration": 15,
    "start_time": "2022-08-31T19:34:32.242Z"
   },
   {
    "duration": 32,
    "start_time": "2022-08-31T19:34:32.259Z"
   },
   {
    "duration": 120,
    "start_time": "2022-08-31T19:34:32.293Z"
   },
   {
    "duration": 7,
    "start_time": "2022-08-31T19:34:32.415Z"
   },
   {
    "duration": 26,
    "start_time": "2022-08-31T19:34:32.423Z"
   },
   {
    "duration": 10,
    "start_time": "2022-08-31T19:34:32.450Z"
   },
   {
    "duration": 4,
    "start_time": "2022-08-31T19:34:32.461Z"
   },
   {
    "duration": 37,
    "start_time": "2022-08-31T19:34:32.466Z"
   },
   {
    "duration": 363,
    "start_time": "2022-08-31T19:34:32.505Z"
   },
   {
    "duration": 6,
    "start_time": "2022-08-31T19:34:32.870Z"
   },
   {
    "duration": 437,
    "start_time": "2022-08-31T19:34:32.878Z"
   },
   {
    "duration": 14,
    "start_time": "2022-08-31T19:34:33.316Z"
   },
   {
    "duration": 25,
    "start_time": "2022-08-31T19:34:33.332Z"
   },
   {
    "duration": 37,
    "start_time": "2022-08-31T19:34:33.359Z"
   },
   {
    "duration": 47,
    "start_time": "2022-08-31T19:34:33.397Z"
   },
   {
    "duration": 61,
    "start_time": "2022-08-31T19:34:33.445Z"
   },
   {
    "duration": 13,
    "start_time": "2022-08-31T19:34:33.508Z"
   },
   {
    "duration": 71,
    "start_time": "2022-08-31T19:34:33.523Z"
   },
   {
    "duration": 8,
    "start_time": "2022-08-31T19:34:33.596Z"
   },
   {
    "duration": 22,
    "start_time": "2022-08-31T19:34:33.605Z"
   },
   {
    "duration": 251,
    "start_time": "2022-08-31T19:34:33.629Z"
   },
   {
    "duration": 17,
    "start_time": "2022-08-31T19:34:33.882Z"
   },
   {
    "duration": 11,
    "start_time": "2022-08-31T19:34:33.901Z"
   },
   {
    "duration": 6,
    "start_time": "2022-08-31T19:34:33.914Z"
   },
   {
    "duration": 78,
    "start_time": "2022-08-31T19:34:33.921Z"
   },
   {
    "duration": 23,
    "start_time": "2022-08-31T19:34:34.000Z"
   },
   {
    "duration": 297,
    "start_time": "2022-08-31T19:34:34.026Z"
   },
   {
    "duration": 27,
    "start_time": "2022-08-31T19:34:34.325Z"
   },
   {
    "duration": 20,
    "start_time": "2022-08-31T19:34:34.354Z"
   },
   {
    "duration": 55,
    "start_time": "2022-08-31T19:34:34.376Z"
   },
   {
    "duration": 33,
    "start_time": "2022-08-31T19:34:34.433Z"
   },
   {
    "duration": 35,
    "start_time": "2022-08-31T19:34:34.468Z"
   },
   {
    "duration": 14,
    "start_time": "2022-08-31T19:34:34.505Z"
   },
   {
    "duration": 839,
    "start_time": "2022-08-31T19:34:34.521Z"
   },
   {
    "duration": 44,
    "start_time": "2022-09-01T12:21:38.270Z"
   },
   {
    "duration": 1852,
    "start_time": "2022-09-01T12:21:44.692Z"
   },
   {
    "duration": 263,
    "start_time": "2022-09-01T12:21:46.546Z"
   },
   {
    "duration": 11,
    "start_time": "2022-09-01T12:21:46.811Z"
   },
   {
    "duration": 17,
    "start_time": "2022-09-01T12:21:46.824Z"
   },
   {
    "duration": 41,
    "start_time": "2022-09-01T12:21:46.842Z"
   },
   {
    "duration": 17,
    "start_time": "2022-09-01T12:21:46.884Z"
   },
   {
    "duration": 23,
    "start_time": "2022-09-01T12:21:46.902Z"
   },
   {
    "duration": 61,
    "start_time": "2022-09-01T12:21:46.926Z"
   },
   {
    "duration": 95,
    "start_time": "2022-09-01T12:21:46.988Z"
   },
   {
    "duration": 36,
    "start_time": "2022-09-01T12:21:47.085Z"
   },
   {
    "duration": 10,
    "start_time": "2022-09-01T12:21:47.123Z"
   },
   {
    "duration": 29,
    "start_time": "2022-09-01T12:21:47.134Z"
   },
   {
    "duration": 22,
    "start_time": "2022-09-01T12:21:47.166Z"
   },
   {
    "duration": 113,
    "start_time": "2022-09-01T12:21:47.190Z"
   },
   {
    "duration": 17,
    "start_time": "2022-09-01T12:21:47.305Z"
   },
   {
    "duration": 32,
    "start_time": "2022-09-01T12:21:47.324Z"
   },
   {
    "duration": 116,
    "start_time": "2022-09-01T12:21:47.357Z"
   },
   {
    "duration": 8,
    "start_time": "2022-09-01T12:21:47.475Z"
   },
   {
    "duration": 44,
    "start_time": "2022-09-01T12:21:47.485Z"
   },
   {
    "duration": 9,
    "start_time": "2022-09-01T12:21:47.530Z"
   },
   {
    "duration": 13,
    "start_time": "2022-09-01T12:21:47.540Z"
   },
   {
    "duration": 31,
    "start_time": "2022-09-01T12:21:47.554Z"
   },
   {
    "duration": 357,
    "start_time": "2022-09-01T12:21:47.586Z"
   },
   {
    "duration": 14,
    "start_time": "2022-09-01T12:21:47.944Z"
   },
   {
    "duration": 419,
    "start_time": "2022-09-01T12:21:47.960Z"
   },
   {
    "duration": 12,
    "start_time": "2022-09-01T12:21:48.381Z"
   },
   {
    "duration": 32,
    "start_time": "2022-09-01T12:21:48.395Z"
   },
   {
    "duration": 12,
    "start_time": "2022-09-01T12:21:48.430Z"
   },
   {
    "duration": 63,
    "start_time": "2022-09-01T12:21:48.443Z"
   },
   {
    "duration": 50,
    "start_time": "2022-09-01T12:21:48.508Z"
   },
   {
    "duration": 11,
    "start_time": "2022-09-01T12:21:48.560Z"
   },
   {
    "duration": 47,
    "start_time": "2022-09-01T12:21:48.572Z"
   },
   {
    "duration": 8,
    "start_time": "2022-09-01T12:21:48.620Z"
   },
   {
    "duration": 42,
    "start_time": "2022-09-01T12:21:48.629Z"
   },
   {
    "duration": 242,
    "start_time": "2022-09-01T12:21:48.672Z"
   },
   {
    "duration": 9,
    "start_time": "2022-09-01T12:21:48.916Z"
   },
   {
    "duration": 9,
    "start_time": "2022-09-01T12:21:48.927Z"
   },
   {
    "duration": 22,
    "start_time": "2022-09-01T12:21:48.938Z"
   },
   {
    "duration": 47,
    "start_time": "2022-09-01T12:21:48.961Z"
   },
   {
    "duration": 21,
    "start_time": "2022-09-01T12:21:49.010Z"
   },
   {
    "duration": 283,
    "start_time": "2022-09-01T12:21:49.033Z"
   },
   {
    "duration": 24,
    "start_time": "2022-09-01T12:21:49.318Z"
   },
   {
    "duration": 30,
    "start_time": "2022-09-01T12:21:49.343Z"
   },
   {
    "duration": 43,
    "start_time": "2022-09-01T12:21:49.374Z"
   },
   {
    "duration": 49,
    "start_time": "2022-09-01T12:21:49.419Z"
   },
   {
    "duration": 20,
    "start_time": "2022-09-01T12:21:49.470Z"
   },
   {
    "duration": 26,
    "start_time": "2022-09-01T12:21:49.492Z"
   },
   {
    "duration": 823,
    "start_time": "2022-09-01T12:21:49.519Z"
   },
   {
    "duration": 124155,
    "start_time": "2022-09-01T12:21:50.344Z"
   },
   {
    "duration": 1269,
    "start_time": "2022-09-01T12:23:54.501Z"
   },
   {
    "duration": 88,
    "start_time": "2022-09-01T12:23:55.774Z"
   },
   {
    "duration": 102,
    "start_time": "2022-09-01T12:53:04.374Z"
   },
   {
    "duration": 22,
    "start_time": "2022-09-01T12:56:42.758Z"
   },
   {
    "duration": 18,
    "start_time": "2022-09-01T12:58:44.577Z"
   },
   {
    "duration": 23,
    "start_time": "2022-09-01T13:00:34.007Z"
   },
   {
    "duration": 11,
    "start_time": "2022-09-01T13:10:09.610Z"
   },
   {
    "duration": 39,
    "start_time": "2022-09-01T13:12:03.346Z"
   },
   {
    "duration": 14,
    "start_time": "2022-09-01T13:16:12.298Z"
   },
   {
    "duration": 46,
    "start_time": "2022-09-01T13:18:59.550Z"
   },
   {
    "duration": 41,
    "start_time": "2022-09-01T13:19:11.028Z"
   },
   {
    "duration": 42,
    "start_time": "2022-09-01T13:19:17.299Z"
   },
   {
    "duration": 35,
    "start_time": "2022-09-01T13:22:24.802Z"
   },
   {
    "duration": 21,
    "start_time": "2022-09-01T13:22:28.892Z"
   },
   {
    "duration": 37,
    "start_time": "2022-09-01T13:23:36.209Z"
   },
   {
    "duration": 43,
    "start_time": "2022-09-01T13:24:14.373Z"
   },
   {
    "duration": 217,
    "start_time": "2022-09-01T13:28:32.575Z"
   },
   {
    "duration": 13,
    "start_time": "2022-09-01T13:28:45.650Z"
   },
   {
    "duration": 47,
    "start_time": "2022-09-01T13:28:51.109Z"
   },
   {
    "duration": 8,
    "start_time": "2022-09-01T13:28:54.000Z"
   },
   {
    "duration": 17,
    "start_time": "2022-09-01T13:28:58.664Z"
   },
   {
    "duration": 222,
    "start_time": "2022-09-01T13:29:02.189Z"
   },
   {
    "duration": 11,
    "start_time": "2022-09-01T13:29:05.004Z"
   },
   {
    "duration": 11,
    "start_time": "2022-09-01T13:29:09.420Z"
   },
   {
    "duration": 7,
    "start_time": "2022-09-01T13:29:14.616Z"
   },
   {
    "duration": 424,
    "start_time": "2022-09-01T13:29:24.027Z"
   },
   {
    "duration": 19,
    "start_time": "2022-09-01T13:29:33.591Z"
   },
   {
    "duration": 233,
    "start_time": "2022-09-01T13:29:52.601Z"
   },
   {
    "duration": 34,
    "start_time": "2022-09-01T13:29:57.868Z"
   },
   {
    "duration": 21,
    "start_time": "2022-09-01T13:31:54.708Z"
   },
   {
    "duration": 20,
    "start_time": "2022-09-01T13:32:00.394Z"
   },
   {
    "duration": 44,
    "start_time": "2022-09-01T13:32:03.401Z"
   },
   {
    "duration": 40,
    "start_time": "2022-09-01T13:32:22.124Z"
   },
   {
    "duration": 7,
    "start_time": "2022-09-01T13:36:32.800Z"
   },
   {
    "duration": 222,
    "start_time": "2022-09-01T13:36:34.896Z"
   },
   {
    "duration": 20,
    "start_time": "2022-09-01T13:36:54.611Z"
   },
   {
    "duration": 29,
    "start_time": "2022-09-01T13:37:05.277Z"
   },
   {
    "duration": 5,
    "start_time": "2022-09-01T13:40:37.932Z"
   },
   {
    "duration": 289,
    "start_time": "2022-09-01T13:40:37.939Z"
   },
   {
    "duration": 7,
    "start_time": "2022-09-01T13:40:38.230Z"
   },
   {
    "duration": 9,
    "start_time": "2022-09-01T13:40:38.239Z"
   },
   {
    "duration": 17,
    "start_time": "2022-09-01T13:40:38.250Z"
   },
   {
    "duration": 11,
    "start_time": "2022-09-01T13:40:38.268Z"
   },
   {
    "duration": 8,
    "start_time": "2022-09-01T13:40:38.280Z"
   },
   {
    "duration": 39,
    "start_time": "2022-09-01T13:40:38.290Z"
   },
   {
    "duration": 94,
    "start_time": "2022-09-01T13:40:38.332Z"
   },
   {
    "duration": 44,
    "start_time": "2022-09-01T13:40:38.428Z"
   },
   {
    "duration": 10,
    "start_time": "2022-09-01T13:40:38.474Z"
   },
   {
    "duration": 10,
    "start_time": "2022-09-01T13:40:38.485Z"
   },
   {
    "duration": 19,
    "start_time": "2022-09-01T13:40:38.496Z"
   },
   {
    "duration": 129,
    "start_time": "2022-09-01T13:40:38.516Z"
   },
   {
    "duration": 13,
    "start_time": "2022-09-01T13:40:38.646Z"
   },
   {
    "duration": 29,
    "start_time": "2022-09-01T13:40:38.661Z"
   },
   {
    "duration": 36,
    "start_time": "2022-09-01T13:40:38.692Z"
   },
   {
    "duration": 5,
    "start_time": "2022-09-01T13:40:38.730Z"
   },
   {
    "duration": 33,
    "start_time": "2022-09-01T13:40:38.737Z"
   },
   {
    "duration": 8,
    "start_time": "2022-09-01T13:40:38.771Z"
   },
   {
    "duration": 7,
    "start_time": "2022-09-01T13:40:38.780Z"
   },
   {
    "duration": 16,
    "start_time": "2022-09-01T13:40:38.788Z"
   },
   {
    "duration": 377,
    "start_time": "2022-09-01T13:40:38.806Z"
   },
   {
    "duration": 5,
    "start_time": "2022-09-01T13:40:39.185Z"
   },
   {
    "duration": 401,
    "start_time": "2022-09-01T13:40:39.191Z"
   },
   {
    "duration": 12,
    "start_time": "2022-09-01T13:40:39.593Z"
   },
   {
    "duration": 23,
    "start_time": "2022-09-01T13:40:39.607Z"
   },
   {
    "duration": 35,
    "start_time": "2022-09-01T13:40:39.631Z"
   },
   {
    "duration": 257,
    "start_time": "2022-09-01T13:40:39.670Z"
   },
   {
    "duration": 11,
    "start_time": "2022-09-01T13:40:39.928Z"
   },
   {
    "duration": 55,
    "start_time": "2022-09-01T13:40:39.941Z"
   },
   {
    "duration": 8,
    "start_time": "2022-09-01T13:40:39.998Z"
   },
   {
    "duration": 19,
    "start_time": "2022-09-01T13:40:40.007Z"
   },
   {
    "duration": 230,
    "start_time": "2022-09-01T13:40:40.027Z"
   },
   {
    "duration": 11,
    "start_time": "2022-09-01T13:40:40.259Z"
   },
   {
    "duration": 11,
    "start_time": "2022-09-01T13:40:40.272Z"
   },
   {
    "duration": 7,
    "start_time": "2022-09-01T13:40:40.285Z"
   },
   {
    "duration": 345,
    "start_time": "2022-09-01T13:40:40.294Z"
   },
   {
    "duration": 25,
    "start_time": "2022-09-01T13:40:40.640Z"
   },
   {
    "duration": 242,
    "start_time": "2022-09-01T13:40:40.667Z"
   },
   {
    "duration": 25,
    "start_time": "2022-09-01T13:40:40.910Z"
   },
   {
    "duration": 36,
    "start_time": "2022-09-01T13:40:40.937Z"
   },
   {
    "duration": 51,
    "start_time": "2022-09-01T13:40:40.975Z"
   },
   {
    "duration": 69,
    "start_time": "2022-09-01T13:40:41.028Z"
   },
   {
    "duration": 22,
    "start_time": "2022-09-01T13:40:41.099Z"
   },
   {
    "duration": 23,
    "start_time": "2022-09-01T13:40:41.123Z"
   },
   {
    "duration": 1279,
    "start_time": "2022-09-01T13:40:41.148Z"
   },
   {
    "duration": 116318,
    "start_time": "2022-09-01T13:40:42.429Z"
   },
   {
    "duration": 1930,
    "start_time": "2022-09-01T13:42:38.748Z"
   },
   {
    "duration": 14,
    "start_time": "2022-09-01T13:42:40.680Z"
   },
   {
    "duration": 1044,
    "start_time": "2022-09-01T13:42:40.695Z"
   },
   {
    "duration": 50,
    "start_time": "2022-09-01T13:43:36.438Z"
   },
   {
    "duration": 50,
    "start_time": "2022-09-01T13:43:39.806Z"
   },
   {
    "duration": 41,
    "start_time": "2022-09-01T13:43:48.413Z"
   },
   {
    "duration": 20,
    "start_time": "2022-09-01T13:43:50.526Z"
   },
   {
    "duration": 1578,
    "start_time": "2022-09-01T13:44:18.967Z"
   },
   {
    "duration": 232,
    "start_time": "2022-09-01T13:44:20.547Z"
   },
   {
    "duration": 12,
    "start_time": "2022-09-01T13:44:20.781Z"
   },
   {
    "duration": 15,
    "start_time": "2022-09-01T13:44:20.797Z"
   },
   {
    "duration": 29,
    "start_time": "2022-09-01T13:44:20.814Z"
   },
   {
    "duration": 10,
    "start_time": "2022-09-01T13:44:20.845Z"
   },
   {
    "duration": 11,
    "start_time": "2022-09-01T13:44:20.857Z"
   },
   {
    "duration": 38,
    "start_time": "2022-09-01T13:44:20.870Z"
   },
   {
    "duration": 85,
    "start_time": "2022-09-01T13:44:20.910Z"
   },
   {
    "duration": 37,
    "start_time": "2022-09-01T13:44:20.998Z"
   },
   {
    "duration": 21,
    "start_time": "2022-09-01T13:44:21.037Z"
   },
   {
    "duration": 10,
    "start_time": "2022-09-01T13:44:21.060Z"
   },
   {
    "duration": 17,
    "start_time": "2022-09-01T13:44:21.071Z"
   },
   {
    "duration": 96,
    "start_time": "2022-09-01T13:44:21.089Z"
   },
   {
    "duration": 12,
    "start_time": "2022-09-01T13:44:21.187Z"
   },
   {
    "duration": 23,
    "start_time": "2022-09-01T13:44:21.200Z"
   },
   {
    "duration": 121,
    "start_time": "2022-09-01T13:44:21.224Z"
   },
   {
    "duration": 11,
    "start_time": "2022-09-01T13:44:21.346Z"
   },
   {
    "duration": 28,
    "start_time": "2022-09-01T13:44:21.358Z"
   },
   {
    "duration": 8,
    "start_time": "2022-09-01T13:44:21.387Z"
   },
   {
    "duration": 6,
    "start_time": "2022-09-01T13:44:21.397Z"
   },
   {
    "duration": 31,
    "start_time": "2022-09-01T13:44:21.404Z"
   },
   {
    "duration": 375,
    "start_time": "2022-09-01T13:44:21.437Z"
   },
   {
    "duration": 5,
    "start_time": "2022-09-01T13:44:21.814Z"
   },
   {
    "duration": 400,
    "start_time": "2022-09-01T13:44:21.820Z"
   },
   {
    "duration": 13,
    "start_time": "2022-09-01T13:44:22.222Z"
   },
   {
    "duration": 35,
    "start_time": "2022-09-01T13:44:22.236Z"
   },
   {
    "duration": 11,
    "start_time": "2022-09-01T13:44:22.274Z"
   },
   {
    "duration": 117,
    "start_time": "2022-09-01T13:44:22.286Z"
   },
   {
    "duration": 0,
    "start_time": "2022-09-01T13:44:22.405Z"
   },
   {
    "duration": 0,
    "start_time": "2022-09-01T13:44:22.406Z"
   },
   {
    "duration": 0,
    "start_time": "2022-09-01T13:44:22.407Z"
   },
   {
    "duration": 0,
    "start_time": "2022-09-01T13:44:22.409Z"
   },
   {
    "duration": 0,
    "start_time": "2022-09-01T13:44:22.410Z"
   },
   {
    "duration": 0,
    "start_time": "2022-09-01T13:44:22.411Z"
   },
   {
    "duration": 0,
    "start_time": "2022-09-01T13:44:22.412Z"
   },
   {
    "duration": 0,
    "start_time": "2022-09-01T13:44:22.414Z"
   },
   {
    "duration": 0,
    "start_time": "2022-09-01T13:44:22.415Z"
   },
   {
    "duration": 1,
    "start_time": "2022-09-01T13:44:22.415Z"
   },
   {
    "duration": 0,
    "start_time": "2022-09-01T13:44:22.417Z"
   },
   {
    "duration": 0,
    "start_time": "2022-09-01T13:44:22.418Z"
   },
   {
    "duration": 0,
    "start_time": "2022-09-01T13:44:22.419Z"
   },
   {
    "duration": 0,
    "start_time": "2022-09-01T13:44:22.420Z"
   },
   {
    "duration": 0,
    "start_time": "2022-09-01T13:44:22.421Z"
   },
   {
    "duration": 0,
    "start_time": "2022-09-01T13:44:22.422Z"
   },
   {
    "duration": 0,
    "start_time": "2022-09-01T13:44:22.423Z"
   },
   {
    "duration": 0,
    "start_time": "2022-09-01T13:44:22.457Z"
   },
   {
    "duration": 0,
    "start_time": "2022-09-01T13:44:22.458Z"
   },
   {
    "duration": 0,
    "start_time": "2022-09-01T13:44:22.459Z"
   },
   {
    "duration": 0,
    "start_time": "2022-09-01T13:44:22.460Z"
   },
   {
    "duration": 189,
    "start_time": "2022-09-01T13:50:32.165Z"
   },
   {
    "duration": 12,
    "start_time": "2022-09-01T13:50:40.484Z"
   },
   {
    "duration": 49,
    "start_time": "2022-09-01T13:52:57.730Z"
   },
   {
    "duration": 8,
    "start_time": "2022-09-01T13:53:00.679Z"
   },
   {
    "duration": 16,
    "start_time": "2022-09-01T13:53:01.912Z"
   },
   {
    "duration": 249,
    "start_time": "2022-09-01T13:53:04.641Z"
   },
   {
    "duration": 10,
    "start_time": "2022-09-01T13:53:07.837Z"
   },
   {
    "duration": 10,
    "start_time": "2022-09-01T13:53:09.817Z"
   },
   {
    "duration": 882,
    "start_time": "2022-09-01T13:53:41.422Z"
   },
   {
    "duration": 6,
    "start_time": "2022-09-01T13:54:20.524Z"
   },
   {
    "duration": 16,
    "start_time": "2022-09-01T13:58:34.847Z"
   },
   {
    "duration": 33,
    "start_time": "2022-09-01T14:07:46.581Z"
   },
   {
    "duration": 33,
    "start_time": "2022-09-01T14:08:29.835Z"
   },
   {
    "duration": 32,
    "start_time": "2022-09-01T14:09:17.667Z"
   },
   {
    "duration": 36,
    "start_time": "2022-09-01T14:09:37.036Z"
   },
   {
    "duration": 41,
    "start_time": "2022-09-01T14:18:24.118Z"
   },
   {
    "duration": 42,
    "start_time": "2022-09-01T14:18:47.757Z"
   },
   {
    "duration": 20,
    "start_time": "2022-09-01T14:19:01.982Z"
   },
   {
    "duration": 1319,
    "start_time": "2022-09-01T14:19:09.104Z"
   },
   {
    "duration": 233,
    "start_time": "2022-09-01T14:19:23.917Z"
   },
   {
    "duration": 40,
    "start_time": "2022-09-01T14:21:39.103Z"
   },
   {
    "duration": 9,
    "start_time": "2022-09-01T14:21:41.321Z"
   },
   {
    "duration": 15,
    "start_time": "2022-09-01T14:21:47.052Z"
   },
   {
    "duration": 39,
    "start_time": "2022-09-01T14:22:26.515Z"
   },
   {
    "duration": 44,
    "start_time": "2022-09-01T14:22:34.358Z"
   },
   {
    "duration": 36,
    "start_time": "2022-09-01T14:22:40.764Z"
   },
   {
    "duration": 25,
    "start_time": "2022-09-01T14:22:42.601Z"
   },
   {
    "duration": 9,
    "start_time": "2022-09-01T14:23:10.654Z"
   },
   {
    "duration": 14,
    "start_time": "2022-09-01T14:23:15.687Z"
   },
   {
    "duration": 762,
    "start_time": "2022-09-01T14:23:26.293Z"
   },
   {
    "duration": 117497,
    "start_time": "2022-09-01T14:23:27.869Z"
   },
   {
    "duration": 1218,
    "start_time": "2022-09-01T14:28:39.840Z"
   },
   {
    "duration": 13,
    "start_time": "2022-09-01T14:28:49.586Z"
   },
   {
    "duration": 36,
    "start_time": "2022-09-01T14:29:54.521Z"
   },
   {
    "duration": 18,
    "start_time": "2022-09-01T14:29:58.459Z"
   },
   {
    "duration": 13,
    "start_time": "2022-09-01T14:30:50.839Z"
   },
   {
    "duration": 20,
    "start_time": "2022-09-01T14:30:52.637Z"
   },
   {
    "duration": 3,
    "start_time": "2022-09-01T14:36:45.558Z"
   },
   {
    "duration": 21,
    "start_time": "2022-09-01T14:36:47.621Z"
   },
   {
    "duration": 41,
    "start_time": "2022-09-01T14:37:24.378Z"
   },
   {
    "duration": 40,
    "start_time": "2022-09-01T14:37:27.465Z"
   },
   {
    "duration": 20,
    "start_time": "2022-09-01T14:37:31.356Z"
   },
   {
    "duration": 228,
    "start_time": "2022-09-01T14:37:34.310Z"
   },
   {
    "duration": 3,
    "start_time": "2022-09-01T14:37:39.255Z"
   },
   {
    "duration": 12,
    "start_time": "2022-09-01T14:37:41.142Z"
   },
   {
    "duration": 50,
    "start_time": "2022-09-01T14:43:05.897Z"
   },
   {
    "duration": 40,
    "start_time": "2022-09-01T14:45:28.560Z"
   },
   {
    "duration": 56,
    "start_time": "2022-09-01T14:47:54.526Z"
   },
   {
    "duration": 863,
    "start_time": "2022-09-01T14:48:43.185Z"
   },
   {
    "duration": 53,
    "start_time": "2022-09-01T14:49:58.580Z"
   },
   {
    "duration": 280,
    "start_time": "2022-09-01T14:50:16.289Z"
   },
   {
    "duration": 41,
    "start_time": "2022-09-01T14:50:23.120Z"
   },
   {
    "duration": 19,
    "start_time": "2022-09-01T14:50:27.561Z"
   },
   {
    "duration": 229,
    "start_time": "2022-09-01T14:50:29.944Z"
   },
   {
    "duration": 3,
    "start_time": "2022-09-01T14:50:40.959Z"
   },
   {
    "duration": 13,
    "start_time": "2022-09-01T14:50:42.009Z"
   },
   {
    "duration": 688,
    "start_time": "2022-09-01T14:50:48.724Z"
   },
   {
    "duration": 117806,
    "start_time": "2022-09-01T14:50:49.808Z"
   },
   {
    "duration": 726,
    "start_time": "2022-09-01T14:52:55.438Z"
   },
   {
    "duration": 11,
    "start_time": "2022-09-01T14:52:56.931Z"
   },
   {
    "duration": 9,
    "start_time": "2022-09-01T15:00:32.147Z"
   },
   {
    "duration": 12,
    "start_time": "2022-09-01T15:01:13.114Z"
   },
   {
    "duration": 15,
    "start_time": "2022-09-01T17:03:05.923Z"
   },
   {
    "duration": 20,
    "start_time": "2022-09-01T17:03:43.265Z"
   },
   {
    "duration": 660,
    "start_time": "2022-09-01T17:04:25.378Z"
   },
   {
    "duration": 19,
    "start_time": "2022-09-01T17:04:48.808Z"
   },
   {
    "duration": 4,
    "start_time": "2022-09-01T17:28:06.828Z"
   },
   {
    "duration": 19,
    "start_time": "2022-09-01T17:29:04.636Z"
   },
   {
    "duration": 6,
    "start_time": "2022-09-01T17:34:58.841Z"
   },
   {
    "duration": 11,
    "start_time": "2022-09-01T17:36:19.785Z"
   },
   {
    "duration": 15,
    "start_time": "2022-09-01T17:37:24.083Z"
   },
   {
    "duration": 6,
    "start_time": "2022-09-01T17:37:30.259Z"
   },
   {
    "duration": 14,
    "start_time": "2022-09-01T17:43:32.433Z"
   },
   {
    "duration": 19,
    "start_time": "2022-09-01T17:43:33.035Z"
   },
   {
    "duration": 22,
    "start_time": "2022-09-01T17:43:33.670Z"
   },
   {
    "duration": 6,
    "start_time": "2022-09-01T17:43:34.289Z"
   },
   {
    "duration": 6,
    "start_time": "2022-09-01T17:43:37.324Z"
   },
   {
    "duration": 21,
    "start_time": "2022-09-01T17:45:32.688Z"
   },
   {
    "duration": 9,
    "start_time": "2022-09-01T17:48:03.493Z"
   },
   {
    "duration": 15,
    "start_time": "2022-09-01T17:50:08.020Z"
   },
   {
    "duration": 15,
    "start_time": "2022-09-01T17:50:16.921Z"
   },
   {
    "duration": 17,
    "start_time": "2022-09-01T17:50:24.778Z"
   },
   {
    "duration": 23,
    "start_time": "2022-09-01T17:54:19.451Z"
   },
   {
    "duration": 28,
    "start_time": "2022-09-01T18:00:19.789Z"
   },
   {
    "duration": 10,
    "start_time": "2022-09-01T18:01:17.383Z"
   },
   {
    "duration": 9,
    "start_time": "2022-09-01T18:03:46.519Z"
   },
   {
    "duration": 1478,
    "start_time": "2022-09-01T18:41:28.688Z"
   },
   {
    "duration": 374,
    "start_time": "2022-09-01T18:41:30.168Z"
   },
   {
    "duration": 10,
    "start_time": "2022-09-01T18:41:30.544Z"
   },
   {
    "duration": 11,
    "start_time": "2022-09-01T18:41:30.556Z"
   },
   {
    "duration": 37,
    "start_time": "2022-09-01T18:41:30.569Z"
   },
   {
    "duration": 22,
    "start_time": "2022-09-01T18:41:30.608Z"
   },
   {
    "duration": 13,
    "start_time": "2022-09-01T18:41:30.632Z"
   },
   {
    "duration": 37,
    "start_time": "2022-09-01T18:41:30.647Z"
   },
   {
    "duration": 84,
    "start_time": "2022-09-01T18:41:30.686Z"
   },
   {
    "duration": 40,
    "start_time": "2022-09-01T18:41:30.771Z"
   },
   {
    "duration": 10,
    "start_time": "2022-09-01T18:41:30.812Z"
   },
   {
    "duration": 33,
    "start_time": "2022-09-01T18:41:30.824Z"
   },
   {
    "duration": 15,
    "start_time": "2022-09-01T18:41:30.860Z"
   },
   {
    "duration": 114,
    "start_time": "2022-09-01T18:41:30.879Z"
   },
   {
    "duration": 14,
    "start_time": "2022-09-01T18:41:30.995Z"
   },
   {
    "duration": 24,
    "start_time": "2022-09-01T18:41:31.011Z"
   },
   {
    "duration": 121,
    "start_time": "2022-09-01T18:41:31.037Z"
   },
   {
    "duration": 6,
    "start_time": "2022-09-01T18:41:31.160Z"
   },
   {
    "duration": 25,
    "start_time": "2022-09-01T18:41:31.168Z"
   },
   {
    "duration": 8,
    "start_time": "2022-09-01T18:41:31.195Z"
   },
   {
    "duration": 6,
    "start_time": "2022-09-01T18:41:31.205Z"
   },
   {
    "duration": 40,
    "start_time": "2022-09-01T18:41:31.213Z"
   },
   {
    "duration": 359,
    "start_time": "2022-09-01T18:41:31.255Z"
   },
   {
    "duration": 5,
    "start_time": "2022-09-01T18:41:31.615Z"
   },
   {
    "duration": 407,
    "start_time": "2022-09-01T18:41:31.622Z"
   },
   {
    "duration": 13,
    "start_time": "2022-09-01T18:41:32.031Z"
   },
   {
    "duration": 33,
    "start_time": "2022-09-01T18:41:32.046Z"
   },
   {
    "duration": 12,
    "start_time": "2022-09-01T18:41:32.081Z"
   },
   {
    "duration": 216,
    "start_time": "2022-09-01T18:41:32.095Z"
   },
   {
    "duration": 12,
    "start_time": "2022-09-01T18:41:32.313Z"
   },
   {
    "duration": 62,
    "start_time": "2022-09-01T18:41:32.327Z"
   },
   {
    "duration": 8,
    "start_time": "2022-09-01T18:41:32.391Z"
   },
   {
    "duration": 22,
    "start_time": "2022-09-01T18:41:32.401Z"
   },
   {
    "duration": 227,
    "start_time": "2022-09-01T18:41:32.425Z"
   },
   {
    "duration": 9,
    "start_time": "2022-09-01T18:41:32.658Z"
   },
   {
    "duration": 10,
    "start_time": "2022-09-01T18:41:32.668Z"
   },
   {
    "duration": 48,
    "start_time": "2022-09-01T18:41:32.679Z"
   },
   {
    "duration": 69,
    "start_time": "2022-09-01T18:41:32.729Z"
   },
   {
    "duration": 18,
    "start_time": "2022-09-01T18:41:32.800Z"
   },
   {
    "duration": 242,
    "start_time": "2022-09-01T18:41:32.820Z"
   },
   {
    "duration": 3,
    "start_time": "2022-09-01T18:41:33.065Z"
   },
   {
    "duration": 15,
    "start_time": "2022-09-01T18:41:33.070Z"
   },
   {
    "duration": 673,
    "start_time": "2022-09-01T18:41:33.086Z"
   },
   {
    "duration": 117382,
    "start_time": "2022-09-01T18:41:33.760Z"
   },
   {
    "duration": 719,
    "start_time": "2022-09-01T18:43:31.144Z"
   },
   {
    "duration": 12,
    "start_time": "2022-09-01T18:43:31.865Z"
   },
   {
    "duration": 11,
    "start_time": "2022-09-01T18:43:31.879Z"
   },
   {
    "duration": 21,
    "start_time": "2022-09-01T18:43:31.892Z"
   },
   {
    "duration": 18,
    "start_time": "2022-09-01T18:43:31.915Z"
   },
   {
    "duration": 38,
    "start_time": "2022-09-01T18:43:31.935Z"
   },
   {
    "duration": 8,
    "start_time": "2022-09-01T18:43:31.974Z"
   },
   {
    "duration": 11,
    "start_time": "2022-09-01T18:43:31.984Z"
   },
   {
    "duration": 20,
    "start_time": "2022-09-01T18:43:31.997Z"
   },
   {
    "duration": 40,
    "start_time": "2022-09-01T18:43:32.019Z"
   },
   {
    "duration": 9,
    "start_time": "2022-09-01T18:43:32.070Z"
   },
   {
    "duration": 2099,
    "start_time": "2022-09-01T20:27:43.930Z"
   },
   {
    "duration": 324,
    "start_time": "2022-09-01T20:27:46.031Z"
   },
   {
    "duration": 13,
    "start_time": "2022-09-01T20:27:46.357Z"
   },
   {
    "duration": 16,
    "start_time": "2022-09-01T20:27:46.372Z"
   },
   {
    "duration": 33,
    "start_time": "2022-09-01T20:27:46.390Z"
   },
   {
    "duration": 12,
    "start_time": "2022-09-01T20:27:46.425Z"
   },
   {
    "duration": 9,
    "start_time": "2022-09-01T20:27:46.438Z"
   },
   {
    "duration": 58,
    "start_time": "2022-09-01T20:27:46.449Z"
   },
   {
    "duration": 103,
    "start_time": "2022-09-01T20:27:46.510Z"
   },
   {
    "duration": 43,
    "start_time": "2022-09-01T20:27:46.617Z"
   },
   {
    "duration": 11,
    "start_time": "2022-09-01T20:27:46.661Z"
   },
   {
    "duration": 34,
    "start_time": "2022-09-01T20:27:46.674Z"
   },
   {
    "duration": 16,
    "start_time": "2022-09-01T20:27:46.711Z"
   },
   {
    "duration": 113,
    "start_time": "2022-09-01T20:27:46.728Z"
   },
   {
    "duration": 14,
    "start_time": "2022-09-01T20:27:46.843Z"
   },
   {
    "duration": 26,
    "start_time": "2022-09-01T20:27:46.858Z"
   },
   {
    "duration": 132,
    "start_time": "2022-09-01T20:27:46.886Z"
   },
   {
    "duration": 8,
    "start_time": "2022-09-01T20:27:47.020Z"
   },
   {
    "duration": 24,
    "start_time": "2022-09-01T20:27:47.029Z"
   },
   {
    "duration": 9,
    "start_time": "2022-09-01T20:27:47.055Z"
   },
   {
    "duration": 4,
    "start_time": "2022-09-01T20:27:47.066Z"
   },
   {
    "duration": 47,
    "start_time": "2022-09-01T20:27:47.072Z"
   },
   {
    "duration": 409,
    "start_time": "2022-09-01T20:27:47.121Z"
   },
   {
    "duration": 6,
    "start_time": "2022-09-01T20:27:47.531Z"
   },
   {
    "duration": 444,
    "start_time": "2022-09-01T20:27:47.539Z"
   },
   {
    "duration": 22,
    "start_time": "2022-09-01T20:27:47.985Z"
   },
   {
    "duration": 28,
    "start_time": "2022-09-01T20:27:48.009Z"
   },
   {
    "duration": 13,
    "start_time": "2022-09-01T20:27:48.041Z"
   },
   {
    "duration": 262,
    "start_time": "2022-09-01T20:27:48.055Z"
   },
   {
    "duration": 16,
    "start_time": "2022-09-01T20:27:48.319Z"
   },
   {
    "duration": 68,
    "start_time": "2022-09-01T20:27:48.337Z"
   },
   {
    "duration": 11,
    "start_time": "2022-09-01T20:27:48.408Z"
   },
   {
    "duration": 25,
    "start_time": "2022-09-01T20:27:48.421Z"
   },
   {
    "duration": 270,
    "start_time": "2022-09-01T20:27:48.448Z"
   },
   {
    "duration": 12,
    "start_time": "2022-09-01T20:27:48.720Z"
   },
   {
    "duration": 16,
    "start_time": "2022-09-01T20:27:48.734Z"
   },
   {
    "duration": 79,
    "start_time": "2022-09-01T20:27:48.751Z"
   },
   {
    "duration": 76,
    "start_time": "2022-09-01T20:27:48.832Z"
   },
   {
    "duration": 33,
    "start_time": "2022-09-01T20:27:48.910Z"
   },
   {
    "duration": 346,
    "start_time": "2022-09-01T20:27:48.945Z"
   },
   {
    "duration": 10,
    "start_time": "2022-09-01T20:27:49.293Z"
   },
   {
    "duration": 15,
    "start_time": "2022-09-01T20:27:49.305Z"
   },
   {
    "duration": 745,
    "start_time": "2022-09-01T20:27:49.322Z"
   },
   {
    "duration": 127834,
    "start_time": "2022-09-01T20:27:50.069Z"
   },
   {
    "duration": 899,
    "start_time": "2022-09-01T20:29:57.904Z"
   },
   {
    "duration": 15,
    "start_time": "2022-09-01T20:29:58.805Z"
   },
   {
    "duration": 97,
    "start_time": "2022-09-01T20:29:58.822Z"
   },
   {
    "duration": 39,
    "start_time": "2022-09-01T20:29:58.922Z"
   },
   {
    "duration": 35,
    "start_time": "2022-09-01T20:29:58.963Z"
   },
   {
    "duration": 28,
    "start_time": "2022-09-01T20:29:59.000Z"
   },
   {
    "duration": 8,
    "start_time": "2022-09-01T20:29:59.031Z"
   },
   {
    "duration": 25,
    "start_time": "2022-09-01T20:29:59.041Z"
   },
   {
    "duration": 33,
    "start_time": "2022-09-01T20:29:59.069Z"
   },
   {
    "duration": 42,
    "start_time": "2022-09-01T20:29:59.104Z"
   },
   {
    "duration": 9,
    "start_time": "2022-09-01T20:29:59.148Z"
   },
   {
    "duration": 17,
    "start_time": "2022-09-01T20:38:29.667Z"
   },
   {
    "duration": 8,
    "start_time": "2022-09-01T20:39:16.679Z"
   },
   {
    "duration": 297,
    "start_time": "2022-09-01T20:45:58.035Z"
   },
   {
    "duration": 249,
    "start_time": "2022-09-01T20:46:04.998Z"
   },
   {
    "duration": 150,
    "start_time": "2022-09-01T20:46:34.270Z"
   },
   {
    "duration": 15,
    "start_time": "2022-09-01T20:46:43.970Z"
   },
   {
    "duration": 255,
    "start_time": "2022-09-01T20:46:48.144Z"
   },
   {
    "duration": 258,
    "start_time": "2022-09-01T20:51:13.431Z"
   },
   {
    "duration": 243,
    "start_time": "2022-09-01T20:51:25.642Z"
   },
   {
    "duration": 246,
    "start_time": "2022-09-01T20:51:31.132Z"
   },
   {
    "duration": 268,
    "start_time": "2022-09-01T20:53:15.930Z"
   },
   {
    "duration": 46,
    "start_time": "2022-09-01T20:58:20.966Z"
   },
   {
    "duration": 21,
    "start_time": "2022-09-01T20:58:26.990Z"
   },
   {
    "duration": 20,
    "start_time": "2022-09-01T21:14:06.573Z"
   },
   {
    "duration": 86,
    "start_time": "2022-09-01T21:14:22.075Z"
   },
   {
    "duration": 884,
    "start_time": "2022-09-01T21:14:25.205Z"
   },
   {
    "duration": 804,
    "start_time": "2022-09-01T21:14:40.119Z"
   },
   {
    "duration": 21,
    "start_time": "2022-09-01T21:14:49.333Z"
   },
   {
    "duration": 939,
    "start_time": "2022-09-01T21:15:08.521Z"
   },
   {
    "duration": 10,
    "start_time": "2022-09-01T21:19:35.583Z"
   },
   {
    "duration": 20,
    "start_time": "2022-09-01T21:19:59.569Z"
   },
   {
    "duration": 23,
    "start_time": "2022-09-01T21:20:07.086Z"
   },
   {
    "duration": 4,
    "start_time": "2022-09-01T21:20:17.236Z"
   },
   {
    "duration": 56,
    "start_time": "2022-09-01T21:23:38.850Z"
   },
   {
    "duration": 1688,
    "start_time": "2022-09-02T11:30:55.594Z"
   },
   {
    "duration": 479,
    "start_time": "2022-09-02T11:31:01.266Z"
   },
   {
    "duration": 10,
    "start_time": "2022-09-02T11:31:04.932Z"
   },
   {
    "duration": 6,
    "start_time": "2022-09-02T11:31:05.730Z"
   },
   {
    "duration": 17,
    "start_time": "2022-09-02T11:31:07.670Z"
   },
   {
    "duration": 9,
    "start_time": "2022-09-02T11:31:11.057Z"
   },
   {
    "duration": 7,
    "start_time": "2022-09-02T11:31:46.458Z"
   },
   {
    "duration": 7,
    "start_time": "2022-09-02T11:31:54.705Z"
   },
   {
    "duration": 30,
    "start_time": "2022-09-02T11:31:56.289Z"
   },
   {
    "duration": 83,
    "start_time": "2022-09-02T11:32:01.301Z"
   },
   {
    "duration": 40,
    "start_time": "2022-09-02T11:32:03.396Z"
   },
   {
    "duration": 10,
    "start_time": "2022-09-02T11:32:12.628Z"
   },
   {
    "duration": 8,
    "start_time": "2022-09-02T11:32:23.430Z"
   },
   {
    "duration": 9,
    "start_time": "2022-09-02T11:32:36.863Z"
   },
   {
    "duration": 89,
    "start_time": "2022-09-02T11:32:39.290Z"
   },
   {
    "duration": 10,
    "start_time": "2022-09-02T11:32:39.956Z"
   },
   {
    "duration": 24,
    "start_time": "2022-09-02T11:32:55.994Z"
   },
   {
    "duration": 37,
    "start_time": "2022-09-02T11:32:58.735Z"
   },
   {
    "duration": 7,
    "start_time": "2022-09-02T11:32:59.339Z"
   },
   {
    "duration": 23,
    "start_time": "2022-09-02T11:33:00.051Z"
   },
   {
    "duration": 9,
    "start_time": "2022-09-02T11:33:02.918Z"
   },
   {
    "duration": 4,
    "start_time": "2022-09-02T11:33:03.515Z"
   },
   {
    "duration": 14,
    "start_time": "2022-09-02T11:33:04.078Z"
   },
   {
    "duration": 523,
    "start_time": "2022-09-02T11:33:06.533Z"
   },
   {
    "duration": 5,
    "start_time": "2022-09-02T11:33:26.858Z"
   },
   {
    "duration": 122,
    "start_time": "2022-09-02T11:34:18.915Z"
   },
   {
    "duration": 387,
    "start_time": "2022-09-02T11:34:37.003Z"
   },
   {
    "duration": 98,
    "start_time": "2022-09-02T11:37:32.096Z"
   },
   {
    "duration": 38,
    "start_time": "2022-09-02T11:37:35.220Z"
   },
   {
    "duration": 10,
    "start_time": "2022-09-02T11:37:39.057Z"
   },
   {
    "duration": 10,
    "start_time": "2022-09-02T11:37:42.104Z"
   },
   {
    "duration": 11,
    "start_time": "2022-09-02T11:37:43.268Z"
   },
   {
    "duration": 94,
    "start_time": "2022-09-02T11:37:45.396Z"
   },
   {
    "duration": 10,
    "start_time": "2022-09-02T11:37:45.970Z"
   },
   {
    "duration": 24,
    "start_time": "2022-09-02T11:37:51.285Z"
   },
   {
    "duration": 40,
    "start_time": "2022-09-02T11:37:53.630Z"
   },
   {
    "duration": 6,
    "start_time": "2022-09-02T11:37:54.110Z"
   },
   {
    "duration": 19,
    "start_time": "2022-09-02T11:37:54.660Z"
   },
   {
    "duration": 12,
    "start_time": "2022-09-02T11:37:56.773Z"
   },
   {
    "duration": 4,
    "start_time": "2022-09-02T11:37:57.277Z"
   },
   {
    "duration": 14,
    "start_time": "2022-09-02T11:37:57.862Z"
   },
   {
    "duration": 344,
    "start_time": "2022-09-02T11:38:00.887Z"
   },
   {
    "duration": 5,
    "start_time": "2022-09-02T11:38:05.850Z"
   },
   {
    "duration": 423,
    "start_time": "2022-09-02T11:38:10.121Z"
   },
   {
    "duration": 82,
    "start_time": "2022-09-02T11:39:00.693Z"
   },
   {
    "duration": 12,
    "start_time": "2022-09-02T11:39:15.444Z"
   },
   {
    "duration": 25,
    "start_time": "2022-09-02T11:39:18.849Z"
   },
   {
    "duration": 137,
    "start_time": "2022-09-02T12:27:32.705Z"
   },
   {
    "duration": 73,
    "start_time": "2022-09-02T12:28:03.168Z"
   },
   {
    "duration": 198,
    "start_time": "2022-09-02T12:28:35.909Z"
   },
   {
    "duration": 67,
    "start_time": "2022-09-02T12:29:24.761Z"
   },
   {
    "duration": 12,
    "start_time": "2022-09-02T12:29:32.728Z"
   },
   {
    "duration": 48,
    "start_time": "2022-09-02T12:35:18.340Z"
   },
   {
    "duration": 9,
    "start_time": "2022-09-02T12:35:19.305Z"
   },
   {
    "duration": 15,
    "start_time": "2022-09-02T12:35:20.358Z"
   },
   {
    "duration": 250,
    "start_time": "2022-09-02T12:35:21.371Z"
   },
   {
    "duration": 88,
    "start_time": "2022-09-02T12:38:12.591Z"
   },
   {
    "duration": 9,
    "start_time": "2022-09-02T12:38:34.824Z"
   },
   {
    "duration": 10,
    "start_time": "2022-09-02T12:38:40.706Z"
   },
   {
    "duration": 12,
    "start_time": "2022-09-02T12:41:55.745Z"
   },
   {
    "duration": 12,
    "start_time": "2022-09-02T12:42:11.486Z"
   },
   {
    "duration": 24,
    "start_time": "2022-09-02T12:42:18.596Z"
   },
   {
    "duration": 88,
    "start_time": "2022-09-02T12:42:57.024Z"
   },
   {
    "duration": 17,
    "start_time": "2022-09-02T12:58:27.164Z"
   },
   {
    "duration": 25,
    "start_time": "2022-09-02T12:58:43.354Z"
   },
   {
    "duration": 23,
    "start_time": "2022-09-02T12:59:44.912Z"
   },
   {
    "duration": 46,
    "start_time": "2022-09-02T13:03:01.699Z"
   },
   {
    "duration": 353,
    "start_time": "2022-09-02T13:03:41.873Z"
   },
   {
    "duration": 20,
    "start_time": "2022-09-02T13:04:56.779Z"
   },
   {
    "duration": 102,
    "start_time": "2022-09-02T13:05:20.721Z"
   },
   {
    "duration": 199,
    "start_time": "2022-09-02T13:06:48.546Z"
   },
   {
    "duration": 19,
    "start_time": "2022-09-02T13:10:47.296Z"
   },
   {
    "duration": 17,
    "start_time": "2022-09-02T13:11:29.739Z"
   },
   {
    "duration": 17,
    "start_time": "2022-09-02T13:11:33.023Z"
   },
   {
    "duration": 19,
    "start_time": "2022-09-02T13:11:43.435Z"
   },
   {
    "duration": 12,
    "start_time": "2022-09-02T13:18:20.589Z"
   },
   {
    "duration": 48,
    "start_time": "2022-09-02T13:18:35.806Z"
   },
   {
    "duration": 10,
    "start_time": "2022-09-02T13:18:36.713Z"
   },
   {
    "duration": 18,
    "start_time": "2022-09-02T13:18:38.426Z"
   },
   {
    "duration": 232,
    "start_time": "2022-09-02T13:18:39.202Z"
   },
   {
    "duration": 11,
    "start_time": "2022-09-02T13:18:43.839Z"
   },
   {
    "duration": 10,
    "start_time": "2022-09-02T13:18:46.508Z"
   },
   {
    "duration": 51,
    "start_time": "2022-09-02T13:18:50.805Z"
   },
   {
    "duration": 45,
    "start_time": "2022-09-02T13:18:52.748Z"
   },
   {
    "duration": 20,
    "start_time": "2022-09-02T13:18:55.683Z"
   },
   {
    "duration": 249,
    "start_time": "2022-09-02T13:18:58.364Z"
   },
   {
    "duration": 19,
    "start_time": "2022-09-02T13:19:02.578Z"
   },
   {
    "duration": 13,
    "start_time": "2022-09-02T13:19:10.712Z"
   },
   {
    "duration": 55,
    "start_time": "2022-09-02T13:19:30.381Z"
   },
   {
    "duration": 13,
    "start_time": "2022-09-02T13:19:46.274Z"
   },
   {
    "duration": 16,
    "start_time": "2022-09-02T13:19:50.837Z"
   },
   {
    "duration": 94,
    "start_time": "2022-09-02T13:20:01.005Z"
   },
   {
    "duration": 14,
    "start_time": "2022-09-02T13:22:40.326Z"
   },
   {
    "duration": 1578,
    "start_time": "2022-09-02T13:23:16.994Z"
   },
   {
    "duration": 807,
    "start_time": "2022-09-02T13:23:18.575Z"
   },
   {
    "duration": 11,
    "start_time": "2022-09-02T13:23:19.384Z"
   },
   {
    "duration": 6,
    "start_time": "2022-09-02T13:23:19.397Z"
   },
   {
    "duration": 19,
    "start_time": "2022-09-02T13:23:19.406Z"
   },
   {
    "duration": 10,
    "start_time": "2022-09-02T13:23:19.427Z"
   },
   {
    "duration": 31,
    "start_time": "2022-09-02T13:23:19.439Z"
   },
   {
    "duration": 48,
    "start_time": "2022-09-02T13:23:19.472Z"
   },
   {
    "duration": 137,
    "start_time": "2022-09-02T13:23:19.522Z"
   },
   {
    "duration": 42,
    "start_time": "2022-09-02T13:23:19.661Z"
   },
   {
    "duration": 9,
    "start_time": "2022-09-02T13:23:19.705Z"
   },
   {
    "duration": 10,
    "start_time": "2022-09-02T13:23:19.716Z"
   },
   {
    "duration": 16,
    "start_time": "2022-09-02T13:23:19.727Z"
   },
   {
    "duration": 105,
    "start_time": "2022-09-02T13:23:19.767Z"
   },
   {
    "duration": 13,
    "start_time": "2022-09-02T13:23:19.875Z"
   },
   {
    "duration": 26,
    "start_time": "2022-09-02T13:23:19.889Z"
   },
   {
    "duration": 147,
    "start_time": "2022-09-02T13:23:19.917Z"
   },
   {
    "duration": 8,
    "start_time": "2022-09-02T13:23:20.068Z"
   },
   {
    "duration": 31,
    "start_time": "2022-09-02T13:23:20.078Z"
   },
   {
    "duration": 10,
    "start_time": "2022-09-02T13:23:20.112Z"
   },
   {
    "duration": 4,
    "start_time": "2022-09-02T13:23:20.124Z"
   },
   {
    "duration": 42,
    "start_time": "2022-09-02T13:23:20.130Z"
   },
   {
    "duration": 376,
    "start_time": "2022-09-02T13:23:20.174Z"
   },
   {
    "duration": 5,
    "start_time": "2022-09-02T13:23:20.552Z"
   },
   {
    "duration": 404,
    "start_time": "2022-09-02T13:23:20.558Z"
   },
   {
    "duration": 16,
    "start_time": "2022-09-02T13:23:20.968Z"
   },
   {
    "duration": 28,
    "start_time": "2022-09-02T13:23:20.986Z"
   },
   {
    "duration": 14,
    "start_time": "2022-09-02T13:23:21.016Z"
   },
   {
    "duration": 271,
    "start_time": "2022-09-02T13:23:21.032Z"
   },
   {
    "duration": 13,
    "start_time": "2022-09-02T13:23:21.305Z"
   },
   {
    "duration": 68,
    "start_time": "2022-09-02T13:23:21.320Z"
   },
   {
    "duration": 10,
    "start_time": "2022-09-02T13:23:21.390Z"
   },
   {
    "duration": 21,
    "start_time": "2022-09-02T13:23:21.401Z"
   },
   {
    "duration": 308,
    "start_time": "2022-09-02T13:23:21.424Z"
   },
   {
    "duration": 11,
    "start_time": "2022-09-02T13:23:21.734Z"
   },
   {
    "duration": 30,
    "start_time": "2022-09-02T13:23:21.747Z"
   },
   {
    "duration": 60,
    "start_time": "2022-09-02T13:23:21.780Z"
   },
   {
    "duration": 64,
    "start_time": "2022-09-02T13:23:21.842Z"
   },
   {
    "duration": 24,
    "start_time": "2022-09-02T13:23:21.908Z"
   },
   {
    "duration": 295,
    "start_time": "2022-09-02T13:23:21.934Z"
   },
   {
    "duration": 20,
    "start_time": "2022-09-02T13:23:22.233Z"
   },
   {
    "duration": 13,
    "start_time": "2022-09-02T13:23:22.268Z"
   },
   {
    "duration": 16,
    "start_time": "2022-09-02T13:23:22.283Z"
   },
   {
    "duration": 300,
    "start_time": "2022-09-02T13:23:22.301Z"
   },
   {
    "duration": 0,
    "start_time": "2022-09-02T13:23:22.602Z"
   },
   {
    "duration": 0,
    "start_time": "2022-09-02T13:23:22.604Z"
   },
   {
    "duration": 0,
    "start_time": "2022-09-02T13:23:22.605Z"
   },
   {
    "duration": 0,
    "start_time": "2022-09-02T13:23:22.606Z"
   },
   {
    "duration": 0,
    "start_time": "2022-09-02T13:23:22.608Z"
   },
   {
    "duration": 0,
    "start_time": "2022-09-02T13:23:22.609Z"
   },
   {
    "duration": 0,
    "start_time": "2022-09-02T13:23:22.610Z"
   },
   {
    "duration": 0,
    "start_time": "2022-09-02T13:23:22.611Z"
   },
   {
    "duration": 0,
    "start_time": "2022-09-02T13:23:22.612Z"
   },
   {
    "duration": 0,
    "start_time": "2022-09-02T13:23:22.613Z"
   },
   {
    "duration": 0,
    "start_time": "2022-09-02T13:23:22.614Z"
   },
   {
    "duration": 0,
    "start_time": "2022-09-02T13:23:22.615Z"
   },
   {
    "duration": 24,
    "start_time": "2022-09-02T13:27:36.221Z"
   },
   {
    "duration": 90,
    "start_time": "2022-09-02T13:29:51.636Z"
   },
   {
    "duration": 29,
    "start_time": "2022-09-02T13:29:57.037Z"
   },
   {
    "duration": 85,
    "start_time": "2022-09-02T13:39:19.081Z"
   },
   {
    "duration": 744,
    "start_time": "2022-09-02T13:39:41.768Z"
   },
   {
    "duration": 1589,
    "start_time": "2022-09-02T13:40:28.877Z"
   },
   {
    "duration": 513,
    "start_time": "2022-09-02T13:40:30.468Z"
   },
   {
    "duration": 12,
    "start_time": "2022-09-02T13:40:30.982Z"
   },
   {
    "duration": 29,
    "start_time": "2022-09-02T13:40:30.996Z"
   },
   {
    "duration": 29,
    "start_time": "2022-09-02T13:40:31.027Z"
   },
   {
    "duration": 20,
    "start_time": "2022-09-02T13:40:31.058Z"
   },
   {
    "duration": 15,
    "start_time": "2022-09-02T13:40:31.080Z"
   },
   {
    "duration": 46,
    "start_time": "2022-09-02T13:40:31.097Z"
   },
   {
    "duration": 104,
    "start_time": "2022-09-02T13:40:31.145Z"
   },
   {
    "duration": 44,
    "start_time": "2022-09-02T13:40:31.251Z"
   },
   {
    "duration": 12,
    "start_time": "2022-09-02T13:40:31.297Z"
   },
   {
    "duration": 22,
    "start_time": "2022-09-02T13:40:31.311Z"
   },
   {
    "duration": 18,
    "start_time": "2022-09-02T13:40:31.335Z"
   },
   {
    "duration": 110,
    "start_time": "2022-09-02T13:40:31.368Z"
   },
   {
    "duration": 14,
    "start_time": "2022-09-02T13:40:31.480Z"
   },
   {
    "duration": 61,
    "start_time": "2022-09-02T13:40:31.497Z"
   },
   {
    "duration": 134,
    "start_time": "2022-09-02T13:40:31.560Z"
   },
   {
    "duration": 6,
    "start_time": "2022-09-02T13:40:31.696Z"
   },
   {
    "duration": 36,
    "start_time": "2022-09-02T13:40:31.704Z"
   },
   {
    "duration": 11,
    "start_time": "2022-09-02T13:40:31.742Z"
   },
   {
    "duration": 13,
    "start_time": "2022-09-02T13:40:31.755Z"
   },
   {
    "duration": 25,
    "start_time": "2022-09-02T13:40:31.771Z"
   },
   {
    "duration": 371,
    "start_time": "2022-09-02T13:40:31.799Z"
   },
   {
    "duration": 4,
    "start_time": "2022-09-02T13:40:32.172Z"
   },
   {
    "duration": 363,
    "start_time": "2022-09-02T13:40:32.178Z"
   },
   {
    "duration": 13,
    "start_time": "2022-09-02T13:40:32.543Z"
   },
   {
    "duration": 25,
    "start_time": "2022-09-02T13:40:32.567Z"
   },
   {
    "duration": 13,
    "start_time": "2022-09-02T13:40:32.594Z"
   },
   {
    "duration": 244,
    "start_time": "2022-09-02T13:40:32.609Z"
   },
   {
    "duration": 14,
    "start_time": "2022-09-02T13:40:32.854Z"
   },
   {
    "duration": 52,
    "start_time": "2022-09-02T13:40:32.870Z"
   },
   {
    "duration": 8,
    "start_time": "2022-09-02T13:40:32.924Z"
   },
   {
    "duration": 42,
    "start_time": "2022-09-02T13:40:32.934Z"
   },
   {
    "duration": 237,
    "start_time": "2022-09-02T13:40:32.978Z"
   },
   {
    "duration": 11,
    "start_time": "2022-09-02T13:40:33.217Z"
   },
   {
    "duration": 13,
    "start_time": "2022-09-02T13:40:33.230Z"
   },
   {
    "duration": 81,
    "start_time": "2022-09-02T13:40:33.245Z"
   },
   {
    "duration": 57,
    "start_time": "2022-09-02T13:40:33.328Z"
   },
   {
    "duration": 22,
    "start_time": "2022-09-02T13:40:33.387Z"
   },
   {
    "duration": 261,
    "start_time": "2022-09-02T13:40:33.410Z"
   },
   {
    "duration": 19,
    "start_time": "2022-09-02T13:40:33.675Z"
   },
   {
    "duration": 153,
    "start_time": "2022-09-02T13:40:33.696Z"
   },
   {
    "duration": 0,
    "start_time": "2022-09-02T13:40:33.850Z"
   },
   {
    "duration": 0,
    "start_time": "2022-09-02T13:40:33.851Z"
   },
   {
    "duration": 0,
    "start_time": "2022-09-02T13:40:33.853Z"
   },
   {
    "duration": 0,
    "start_time": "2022-09-02T13:40:33.854Z"
   },
   {
    "duration": 0,
    "start_time": "2022-09-02T13:40:33.855Z"
   },
   {
    "duration": 0,
    "start_time": "2022-09-02T13:40:33.868Z"
   },
   {
    "duration": 0,
    "start_time": "2022-09-02T13:40:33.869Z"
   },
   {
    "duration": 0,
    "start_time": "2022-09-02T13:40:33.870Z"
   },
   {
    "duration": 0,
    "start_time": "2022-09-02T13:40:33.871Z"
   },
   {
    "duration": 0,
    "start_time": "2022-09-02T13:40:33.872Z"
   },
   {
    "duration": 0,
    "start_time": "2022-09-02T13:40:33.873Z"
   },
   {
    "duration": 0,
    "start_time": "2022-09-02T13:40:33.874Z"
   },
   {
    "duration": 0,
    "start_time": "2022-09-02T13:40:33.875Z"
   },
   {
    "duration": 0,
    "start_time": "2022-09-02T13:40:33.877Z"
   },
   {
    "duration": 19,
    "start_time": "2022-09-02T13:41:16.370Z"
   },
   {
    "duration": 98,
    "start_time": "2022-09-02T13:41:34.294Z"
   },
   {
    "duration": 24,
    "start_time": "2022-09-02T13:41:38.386Z"
   },
   {
    "duration": 265,
    "start_time": "2022-09-02T13:41:46.791Z"
   },
   {
    "duration": 13,
    "start_time": "2022-09-02T13:43:18.136Z"
   },
   {
    "duration": 587,
    "start_time": "2022-09-02T13:47:47.182Z"
   },
   {
    "duration": 55,
    "start_time": "2022-09-02T13:48:07.609Z"
   },
   {
    "duration": 1603,
    "start_time": "2022-09-02T13:48:13.616Z"
   },
   {
    "duration": 235,
    "start_time": "2022-09-02T13:48:15.221Z"
   },
   {
    "duration": 12,
    "start_time": "2022-09-02T13:48:15.458Z"
   },
   {
    "duration": 7,
    "start_time": "2022-09-02T13:48:15.472Z"
   },
   {
    "duration": 23,
    "start_time": "2022-09-02T13:48:15.481Z"
   },
   {
    "duration": 11,
    "start_time": "2022-09-02T13:48:15.505Z"
   },
   {
    "duration": 11,
    "start_time": "2022-09-02T13:48:15.518Z"
   },
   {
    "duration": 54,
    "start_time": "2022-09-02T13:48:15.531Z"
   },
   {
    "duration": 117,
    "start_time": "2022-09-02T13:48:15.586Z"
   },
   {
    "duration": 41,
    "start_time": "2022-09-02T13:48:15.706Z"
   },
   {
    "duration": 22,
    "start_time": "2022-09-02T13:48:15.749Z"
   },
   {
    "duration": 8,
    "start_time": "2022-09-02T13:48:15.773Z"
   },
   {
    "duration": 14,
    "start_time": "2022-09-02T13:48:15.783Z"
   },
   {
    "duration": 119,
    "start_time": "2022-09-02T13:48:15.799Z"
   },
   {
    "duration": 14,
    "start_time": "2022-09-02T13:48:15.921Z"
   },
   {
    "duration": 39,
    "start_time": "2022-09-02T13:48:15.937Z"
   },
   {
    "duration": 129,
    "start_time": "2022-09-02T13:48:15.979Z"
   },
   {
    "duration": 7,
    "start_time": "2022-09-02T13:48:16.111Z"
   },
   {
    "duration": 27,
    "start_time": "2022-09-02T13:48:16.120Z"
   },
   {
    "duration": 19,
    "start_time": "2022-09-02T13:48:16.149Z"
   },
   {
    "duration": 5,
    "start_time": "2022-09-02T13:48:16.169Z"
   },
   {
    "duration": 15,
    "start_time": "2022-09-02T13:48:16.176Z"
   },
   {
    "duration": 398,
    "start_time": "2022-09-02T13:48:16.192Z"
   },
   {
    "duration": 6,
    "start_time": "2022-09-02T13:48:16.592Z"
   },
   {
    "duration": 456,
    "start_time": "2022-09-02T13:48:16.600Z"
   },
   {
    "duration": 23,
    "start_time": "2022-09-02T13:48:17.058Z"
   },
   {
    "duration": 26,
    "start_time": "2022-09-02T13:48:17.083Z"
   },
   {
    "duration": 12,
    "start_time": "2022-09-02T13:48:17.114Z"
   },
   {
    "duration": 253,
    "start_time": "2022-09-02T13:48:17.129Z"
   },
   {
    "duration": 13,
    "start_time": "2022-09-02T13:48:17.383Z"
   },
   {
    "duration": 51,
    "start_time": "2022-09-02T13:48:17.398Z"
   },
   {
    "duration": 8,
    "start_time": "2022-09-02T13:48:17.469Z"
   },
   {
    "duration": 21,
    "start_time": "2022-09-02T13:48:17.478Z"
   },
   {
    "duration": 251,
    "start_time": "2022-09-02T13:48:17.501Z"
   },
   {
    "duration": 19,
    "start_time": "2022-09-02T13:48:17.754Z"
   },
   {
    "duration": 10,
    "start_time": "2022-09-02T13:48:17.774Z"
   },
   {
    "duration": 51,
    "start_time": "2022-09-02T13:48:17.786Z"
   },
   {
    "duration": 64,
    "start_time": "2022-09-02T13:48:17.838Z"
   },
   {
    "duration": 22,
    "start_time": "2022-09-02T13:48:17.904Z"
   },
   {
    "duration": 281,
    "start_time": "2022-09-02T13:48:17.928Z"
   },
   {
    "duration": 19,
    "start_time": "2022-09-02T13:48:18.211Z"
   },
   {
    "duration": 144,
    "start_time": "2022-09-02T13:48:18.232Z"
   },
   {
    "duration": 0,
    "start_time": "2022-09-02T13:48:18.378Z"
   },
   {
    "duration": 0,
    "start_time": "2022-09-02T13:48:18.379Z"
   },
   {
    "duration": 0,
    "start_time": "2022-09-02T13:48:18.380Z"
   },
   {
    "duration": 0,
    "start_time": "2022-09-02T13:48:18.381Z"
   },
   {
    "duration": 0,
    "start_time": "2022-09-02T13:48:18.383Z"
   },
   {
    "duration": 0,
    "start_time": "2022-09-02T13:48:18.384Z"
   },
   {
    "duration": 0,
    "start_time": "2022-09-02T13:48:18.385Z"
   },
   {
    "duration": 0,
    "start_time": "2022-09-02T13:48:18.386Z"
   },
   {
    "duration": 0,
    "start_time": "2022-09-02T13:48:18.387Z"
   },
   {
    "duration": 0,
    "start_time": "2022-09-02T13:48:18.388Z"
   },
   {
    "duration": 0,
    "start_time": "2022-09-02T13:48:18.389Z"
   },
   {
    "duration": 0,
    "start_time": "2022-09-02T13:48:18.390Z"
   },
   {
    "duration": 0,
    "start_time": "2022-09-02T13:48:18.392Z"
   },
   {
    "duration": 0,
    "start_time": "2022-09-02T13:48:18.393Z"
   },
   {
    "duration": 1529,
    "start_time": "2022-09-02T13:48:52.302Z"
   },
   {
    "duration": 6,
    "start_time": "2022-09-02T13:49:43.405Z"
   },
   {
    "duration": 235,
    "start_time": "2022-09-02T13:49:43.413Z"
   },
   {
    "duration": 9,
    "start_time": "2022-09-02T13:49:43.650Z"
   },
   {
    "duration": 11,
    "start_time": "2022-09-02T13:49:43.660Z"
   },
   {
    "duration": 18,
    "start_time": "2022-09-02T13:49:43.673Z"
   },
   {
    "duration": 10,
    "start_time": "2022-09-02T13:49:43.693Z"
   },
   {
    "duration": 13,
    "start_time": "2022-09-02T13:49:43.704Z"
   },
   {
    "duration": 64,
    "start_time": "2022-09-02T13:49:43.719Z"
   },
   {
    "duration": 240,
    "start_time": "2022-09-02T13:49:43.785Z"
   },
   {
    "duration": 51,
    "start_time": "2022-09-02T13:49:44.027Z"
   },
   {
    "duration": 10,
    "start_time": "2022-09-02T13:49:44.080Z"
   },
   {
    "duration": 12,
    "start_time": "2022-09-02T13:49:44.092Z"
   },
   {
    "duration": 10,
    "start_time": "2022-09-02T13:49:44.106Z"
   },
   {
    "duration": 129,
    "start_time": "2022-09-02T13:49:44.118Z"
   },
   {
    "duration": 20,
    "start_time": "2022-09-02T13:49:44.249Z"
   },
   {
    "duration": 26,
    "start_time": "2022-09-02T13:49:44.271Z"
   },
   {
    "duration": 43,
    "start_time": "2022-09-02T13:49:44.299Z"
   },
   {
    "duration": 24,
    "start_time": "2022-09-02T13:49:44.344Z"
   },
   {
    "duration": 25,
    "start_time": "2022-09-02T13:49:44.370Z"
   },
   {
    "duration": 8,
    "start_time": "2022-09-02T13:49:44.397Z"
   },
   {
    "duration": 6,
    "start_time": "2022-09-02T13:49:44.406Z"
   },
   {
    "duration": 15,
    "start_time": "2022-09-02T13:49:44.414Z"
   },
   {
    "duration": 387,
    "start_time": "2022-09-02T13:49:44.431Z"
   },
   {
    "duration": 6,
    "start_time": "2022-09-02T13:49:44.820Z"
   },
   {
    "duration": 388,
    "start_time": "2022-09-02T13:49:44.827Z"
   },
   {
    "duration": 13,
    "start_time": "2022-09-02T13:49:45.217Z"
   },
   {
    "duration": 45,
    "start_time": "2022-09-02T13:49:45.232Z"
   },
   {
    "duration": 13,
    "start_time": "2022-09-02T13:49:45.279Z"
   },
   {
    "duration": 245,
    "start_time": "2022-09-02T13:49:45.295Z"
   },
   {
    "duration": 12,
    "start_time": "2022-09-02T13:49:45.542Z"
   },
   {
    "duration": 50,
    "start_time": "2022-09-02T13:49:45.568Z"
   },
   {
    "duration": 7,
    "start_time": "2022-09-02T13:49:45.620Z"
   },
   {
    "duration": 41,
    "start_time": "2022-09-02T13:49:45.628Z"
   },
   {
    "duration": 230,
    "start_time": "2022-09-02T13:49:45.670Z"
   },
   {
    "duration": 10,
    "start_time": "2022-09-02T13:49:45.901Z"
   },
   {
    "duration": 12,
    "start_time": "2022-09-02T13:49:45.913Z"
   },
   {
    "duration": 77,
    "start_time": "2022-09-02T13:49:45.926Z"
   },
   {
    "duration": 52,
    "start_time": "2022-09-02T13:49:46.005Z"
   },
   {
    "duration": 21,
    "start_time": "2022-09-02T13:49:46.068Z"
   },
   {
    "duration": 262,
    "start_time": "2022-09-02T13:49:46.090Z"
   },
   {
    "duration": 27,
    "start_time": "2022-09-02T13:49:46.354Z"
   },
   {
    "duration": 14,
    "start_time": "2022-09-02T13:49:46.382Z"
   },
   {
    "duration": 15,
    "start_time": "2022-09-02T13:49:46.398Z"
   },
   {
    "duration": 200,
    "start_time": "2022-09-02T13:49:46.414Z"
   },
   {
    "duration": 0,
    "start_time": "2022-09-02T13:49:46.616Z"
   },
   {
    "duration": 0,
    "start_time": "2022-09-02T13:49:46.618Z"
   },
   {
    "duration": 0,
    "start_time": "2022-09-02T13:49:46.620Z"
   },
   {
    "duration": 0,
    "start_time": "2022-09-02T13:49:46.621Z"
   },
   {
    "duration": 0,
    "start_time": "2022-09-02T13:49:46.623Z"
   },
   {
    "duration": 0,
    "start_time": "2022-09-02T13:49:46.624Z"
   },
   {
    "duration": 0,
    "start_time": "2022-09-02T13:49:46.625Z"
   },
   {
    "duration": 0,
    "start_time": "2022-09-02T13:49:46.627Z"
   },
   {
    "duration": 0,
    "start_time": "2022-09-02T13:49:46.628Z"
   },
   {
    "duration": 0,
    "start_time": "2022-09-02T13:49:46.629Z"
   },
   {
    "duration": 0,
    "start_time": "2022-09-02T13:49:46.630Z"
   },
   {
    "duration": 0,
    "start_time": "2022-09-02T13:49:46.631Z"
   },
   {
    "duration": 27,
    "start_time": "2022-09-02T13:51:13.312Z"
   },
   {
    "duration": 129,
    "start_time": "2022-09-02T13:51:27.030Z"
   },
   {
    "duration": 20,
    "start_time": "2022-09-02T13:51:29.745Z"
   },
   {
    "duration": 423,
    "start_time": "2022-09-02T13:51:34.719Z"
   },
   {
    "duration": 1370,
    "start_time": "2022-09-02T13:55:00.907Z"
   },
   {
    "duration": 48,
    "start_time": "2022-09-02T13:55:22.618Z"
   },
   {
    "duration": 1660,
    "start_time": "2022-09-02T13:55:29.696Z"
   },
   {
    "duration": 276,
    "start_time": "2022-09-02T13:55:31.358Z"
   },
   {
    "duration": 11,
    "start_time": "2022-09-02T13:55:31.636Z"
   },
   {
    "duration": 17,
    "start_time": "2022-09-02T13:55:31.649Z"
   },
   {
    "duration": 25,
    "start_time": "2022-09-02T13:55:31.668Z"
   },
   {
    "duration": 19,
    "start_time": "2022-09-02T13:55:31.695Z"
   },
   {
    "duration": 22,
    "start_time": "2022-09-02T13:55:31.716Z"
   },
   {
    "duration": 43,
    "start_time": "2022-09-02T13:55:31.740Z"
   },
   {
    "duration": 121,
    "start_time": "2022-09-02T13:55:31.786Z"
   },
   {
    "duration": 44,
    "start_time": "2022-09-02T13:55:31.909Z"
   },
   {
    "duration": 24,
    "start_time": "2022-09-02T13:55:31.955Z"
   },
   {
    "duration": 12,
    "start_time": "2022-09-02T13:55:31.981Z"
   },
   {
    "duration": 17,
    "start_time": "2022-09-02T13:55:31.994Z"
   },
   {
    "duration": 109,
    "start_time": "2022-09-02T13:55:32.014Z"
   },
   {
    "duration": 18,
    "start_time": "2022-09-02T13:55:32.125Z"
   },
   {
    "duration": 29,
    "start_time": "2022-09-02T13:55:32.145Z"
   },
   {
    "duration": 131,
    "start_time": "2022-09-02T13:55:32.177Z"
   },
   {
    "duration": 7,
    "start_time": "2022-09-02T13:55:32.309Z"
   },
   {
    "duration": 27,
    "start_time": "2022-09-02T13:55:32.318Z"
   },
   {
    "duration": 23,
    "start_time": "2022-09-02T13:55:32.347Z"
   },
   {
    "duration": 5,
    "start_time": "2022-09-02T13:55:32.372Z"
   },
   {
    "duration": 20,
    "start_time": "2022-09-02T13:55:32.379Z"
   },
   {
    "duration": 369,
    "start_time": "2022-09-02T13:55:32.401Z"
   },
   {
    "duration": 6,
    "start_time": "2022-09-02T13:55:32.772Z"
   },
   {
    "duration": 371,
    "start_time": "2022-09-02T13:55:32.779Z"
   },
   {
    "duration": 21,
    "start_time": "2022-09-02T13:55:33.152Z"
   },
   {
    "duration": 25,
    "start_time": "2022-09-02T13:55:33.175Z"
   },
   {
    "duration": 14,
    "start_time": "2022-09-02T13:55:33.202Z"
   },
   {
    "duration": 242,
    "start_time": "2022-09-02T13:55:33.218Z"
   },
   {
    "duration": 17,
    "start_time": "2022-09-02T13:55:33.462Z"
   },
   {
    "duration": 51,
    "start_time": "2022-09-02T13:55:33.481Z"
   },
   {
    "duration": 7,
    "start_time": "2022-09-02T13:55:33.534Z"
   },
   {
    "duration": 38,
    "start_time": "2022-09-02T13:55:33.543Z"
   },
   {
    "duration": 239,
    "start_time": "2022-09-02T13:55:33.582Z"
   },
   {
    "duration": 10,
    "start_time": "2022-09-02T13:55:33.823Z"
   },
   {
    "duration": 13,
    "start_time": "2022-09-02T13:55:33.835Z"
   },
   {
    "duration": 70,
    "start_time": "2022-09-02T13:55:33.851Z"
   },
   {
    "duration": 64,
    "start_time": "2022-09-02T13:55:33.922Z"
   },
   {
    "duration": 23,
    "start_time": "2022-09-02T13:55:33.988Z"
   },
   {
    "duration": 258,
    "start_time": "2022-09-02T13:55:34.013Z"
   },
   {
    "duration": 20,
    "start_time": "2022-09-02T13:55:34.276Z"
   },
   {
    "duration": 158,
    "start_time": "2022-09-02T13:55:34.298Z"
   },
   {
    "duration": 0,
    "start_time": "2022-09-02T13:55:34.458Z"
   },
   {
    "duration": 0,
    "start_time": "2022-09-02T13:55:34.459Z"
   },
   {
    "duration": 0,
    "start_time": "2022-09-02T13:55:34.468Z"
   },
   {
    "duration": 0,
    "start_time": "2022-09-02T13:55:34.470Z"
   },
   {
    "duration": 0,
    "start_time": "2022-09-02T13:55:34.472Z"
   },
   {
    "duration": 0,
    "start_time": "2022-09-02T13:55:34.474Z"
   },
   {
    "duration": 0,
    "start_time": "2022-09-02T13:55:34.475Z"
   },
   {
    "duration": 0,
    "start_time": "2022-09-02T13:55:34.477Z"
   },
   {
    "duration": 0,
    "start_time": "2022-09-02T13:55:34.478Z"
   },
   {
    "duration": 0,
    "start_time": "2022-09-02T13:55:34.479Z"
   },
   {
    "duration": 1,
    "start_time": "2022-09-02T13:55:34.480Z"
   },
   {
    "duration": 0,
    "start_time": "2022-09-02T13:55:34.482Z"
   },
   {
    "duration": 1,
    "start_time": "2022-09-02T13:55:34.483Z"
   },
   {
    "duration": 0,
    "start_time": "2022-09-02T13:55:34.485Z"
   },
   {
    "duration": 43,
    "start_time": "2022-09-02T13:59:06.647Z"
   },
   {
    "duration": 119,
    "start_time": "2022-09-02T13:59:41.400Z"
   },
   {
    "duration": 24,
    "start_time": "2022-09-02T14:01:32.725Z"
   },
   {
    "duration": 115,
    "start_time": "2022-09-02T14:01:52.377Z"
   },
   {
    "duration": 603,
    "start_time": "2022-09-02T14:02:32.105Z"
   },
   {
    "duration": 1571,
    "start_time": "2022-09-02T14:03:26.906Z"
   },
   {
    "duration": 330,
    "start_time": "2022-09-02T14:03:28.479Z"
   },
   {
    "duration": 12,
    "start_time": "2022-09-02T14:03:28.810Z"
   },
   {
    "duration": 7,
    "start_time": "2022-09-02T14:03:28.824Z"
   },
   {
    "duration": 18,
    "start_time": "2022-09-02T14:03:28.832Z"
   },
   {
    "duration": 9,
    "start_time": "2022-09-02T14:03:28.852Z"
   },
   {
    "duration": 14,
    "start_time": "2022-09-02T14:03:28.863Z"
   },
   {
    "duration": 35,
    "start_time": "2022-09-02T14:03:28.880Z"
   },
   {
    "duration": 114,
    "start_time": "2022-09-02T14:03:28.917Z"
   },
   {
    "duration": 50,
    "start_time": "2022-09-02T14:03:29.033Z"
   },
   {
    "duration": 15,
    "start_time": "2022-09-02T14:03:29.085Z"
   },
   {
    "duration": 14,
    "start_time": "2022-09-02T14:03:29.102Z"
   },
   {
    "duration": 59,
    "start_time": "2022-09-02T14:03:29.118Z"
   },
   {
    "duration": 121,
    "start_time": "2022-09-02T14:03:29.185Z"
   },
   {
    "duration": 67,
    "start_time": "2022-09-02T14:03:29.308Z"
   },
   {
    "duration": 34,
    "start_time": "2022-09-02T14:03:29.381Z"
   },
   {
    "duration": 166,
    "start_time": "2022-09-02T14:03:29.417Z"
   },
   {
    "duration": 7,
    "start_time": "2022-09-02T14:03:29.585Z"
   },
   {
    "duration": 24,
    "start_time": "2022-09-02T14:03:29.594Z"
   },
   {
    "duration": 8,
    "start_time": "2022-09-02T14:03:29.619Z"
   },
   {
    "duration": 3,
    "start_time": "2022-09-02T14:03:29.628Z"
   },
   {
    "duration": 45,
    "start_time": "2022-09-02T14:03:29.633Z"
   },
   {
    "duration": 361,
    "start_time": "2022-09-02T14:03:29.680Z"
   },
   {
    "duration": 6,
    "start_time": "2022-09-02T14:03:30.043Z"
   },
   {
    "duration": 436,
    "start_time": "2022-09-02T14:03:30.051Z"
   },
   {
    "duration": 14,
    "start_time": "2022-09-02T14:03:30.489Z"
   },
   {
    "duration": 34,
    "start_time": "2022-09-02T14:03:30.505Z"
   },
   {
    "duration": 37,
    "start_time": "2022-09-02T14:03:30.544Z"
   },
   {
    "duration": 230,
    "start_time": "2022-09-02T14:03:30.585Z"
   },
   {
    "duration": 13,
    "start_time": "2022-09-02T14:03:30.817Z"
   },
   {
    "duration": 69,
    "start_time": "2022-09-02T14:03:30.832Z"
   },
   {
    "duration": 7,
    "start_time": "2022-09-02T14:03:30.902Z"
   },
   {
    "duration": 26,
    "start_time": "2022-09-02T14:03:30.911Z"
   },
   {
    "duration": 254,
    "start_time": "2022-09-02T14:03:30.938Z"
   },
   {
    "duration": 10,
    "start_time": "2022-09-02T14:03:31.193Z"
   },
   {
    "duration": 21,
    "start_time": "2022-09-02T14:03:31.205Z"
   },
   {
    "duration": 61,
    "start_time": "2022-09-02T14:03:31.228Z"
   },
   {
    "duration": 43,
    "start_time": "2022-09-02T14:03:31.291Z"
   },
   {
    "duration": 44,
    "start_time": "2022-09-02T14:03:31.335Z"
   },
   {
    "duration": 262,
    "start_time": "2022-09-02T14:03:31.380Z"
   },
   {
    "duration": 37,
    "start_time": "2022-09-02T14:03:31.644Z"
   },
   {
    "duration": 135,
    "start_time": "2022-09-02T14:03:31.683Z"
   },
   {
    "duration": 0,
    "start_time": "2022-09-02T14:03:31.820Z"
   },
   {
    "duration": 0,
    "start_time": "2022-09-02T14:03:31.822Z"
   },
   {
    "duration": 0,
    "start_time": "2022-09-02T14:03:31.823Z"
   },
   {
    "duration": 0,
    "start_time": "2022-09-02T14:03:31.825Z"
   },
   {
    "duration": 0,
    "start_time": "2022-09-02T14:03:31.826Z"
   },
   {
    "duration": 0,
    "start_time": "2022-09-02T14:03:31.828Z"
   },
   {
    "duration": 0,
    "start_time": "2022-09-02T14:03:31.829Z"
   },
   {
    "duration": 0,
    "start_time": "2022-09-02T14:03:31.831Z"
   },
   {
    "duration": 0,
    "start_time": "2022-09-02T14:03:31.832Z"
   },
   {
    "duration": 0,
    "start_time": "2022-09-02T14:03:31.834Z"
   },
   {
    "duration": 0,
    "start_time": "2022-09-02T14:03:31.835Z"
   },
   {
    "duration": 0,
    "start_time": "2022-09-02T14:03:31.868Z"
   },
   {
    "duration": 0,
    "start_time": "2022-09-02T14:03:31.869Z"
   },
   {
    "duration": 0,
    "start_time": "2022-09-02T14:03:31.870Z"
   },
   {
    "duration": 30,
    "start_time": "2022-09-02T14:05:47.182Z"
   },
   {
    "duration": 121,
    "start_time": "2022-09-02T14:06:09.307Z"
   },
   {
    "duration": 28,
    "start_time": "2022-09-02T14:06:18.669Z"
   },
   {
    "duration": 21,
    "start_time": "2022-09-02T14:06:22.160Z"
   },
   {
    "duration": 1573,
    "start_time": "2022-09-02T14:07:44.340Z"
   },
   {
    "duration": 338,
    "start_time": "2022-09-02T14:07:45.914Z"
   },
   {
    "duration": 12,
    "start_time": "2022-09-02T14:07:46.254Z"
   },
   {
    "duration": 7,
    "start_time": "2022-09-02T14:07:46.268Z"
   },
   {
    "duration": 26,
    "start_time": "2022-09-02T14:07:46.277Z"
   },
   {
    "duration": 15,
    "start_time": "2022-09-02T14:07:46.305Z"
   },
   {
    "duration": 7,
    "start_time": "2022-09-02T14:07:46.322Z"
   },
   {
    "duration": 52,
    "start_time": "2022-09-02T14:07:46.331Z"
   },
   {
    "duration": 118,
    "start_time": "2022-09-02T14:07:46.385Z"
   },
   {
    "duration": 65,
    "start_time": "2022-09-02T14:07:46.507Z"
   },
   {
    "duration": 12,
    "start_time": "2022-09-02T14:07:46.575Z"
   },
   {
    "duration": 30,
    "start_time": "2022-09-02T14:07:46.589Z"
   },
   {
    "duration": 16,
    "start_time": "2022-09-02T14:07:46.621Z"
   },
   {
    "duration": 145,
    "start_time": "2022-09-02T14:07:46.639Z"
   },
   {
    "duration": 15,
    "start_time": "2022-09-02T14:07:46.786Z"
   },
   {
    "duration": 27,
    "start_time": "2022-09-02T14:07:46.803Z"
   },
   {
    "duration": 127,
    "start_time": "2022-09-02T14:07:46.831Z"
   },
   {
    "duration": 12,
    "start_time": "2022-09-02T14:07:46.960Z"
   },
   {
    "duration": 25,
    "start_time": "2022-09-02T14:07:46.973Z"
   },
   {
    "duration": 9,
    "start_time": "2022-09-02T14:07:46.999Z"
   },
   {
    "duration": 5,
    "start_time": "2022-09-02T14:07:47.009Z"
   },
   {
    "duration": 15,
    "start_time": "2022-09-02T14:07:47.015Z"
   },
   {
    "duration": 392,
    "start_time": "2022-09-02T14:07:47.031Z"
   },
   {
    "duration": 5,
    "start_time": "2022-09-02T14:07:47.425Z"
   },
   {
    "duration": 365,
    "start_time": "2022-09-02T14:07:47.432Z"
   },
   {
    "duration": 13,
    "start_time": "2022-09-02T14:07:47.799Z"
   },
   {
    "duration": 28,
    "start_time": "2022-09-02T14:07:47.814Z"
   },
   {
    "duration": 29,
    "start_time": "2022-09-02T14:07:47.845Z"
   },
   {
    "duration": 234,
    "start_time": "2022-09-02T14:07:47.876Z"
   },
   {
    "duration": 11,
    "start_time": "2022-09-02T14:07:48.112Z"
   },
   {
    "duration": 71,
    "start_time": "2022-09-02T14:07:48.125Z"
   },
   {
    "duration": 7,
    "start_time": "2022-09-02T14:07:48.198Z"
   },
   {
    "duration": 49,
    "start_time": "2022-09-02T14:07:48.206Z"
   },
   {
    "duration": 212,
    "start_time": "2022-09-02T14:07:48.257Z"
   },
   {
    "duration": 9,
    "start_time": "2022-09-02T14:07:48.470Z"
   },
   {
    "duration": 8,
    "start_time": "2022-09-02T14:07:48.481Z"
   },
   {
    "duration": 47,
    "start_time": "2022-09-02T14:07:48.490Z"
   },
   {
    "duration": 65,
    "start_time": "2022-09-02T14:07:48.539Z"
   },
   {
    "duration": 19,
    "start_time": "2022-09-02T14:07:48.606Z"
   },
   {
    "duration": 247,
    "start_time": "2022-09-02T14:07:48.627Z"
   },
   {
    "duration": 20,
    "start_time": "2022-09-02T14:07:48.875Z"
   },
   {
    "duration": 12,
    "start_time": "2022-09-02T14:07:48.897Z"
   },
   {
    "duration": 143,
    "start_time": "2022-09-02T14:07:48.911Z"
   },
   {
    "duration": 0,
    "start_time": "2022-09-02T14:07:49.056Z"
   },
   {
    "duration": 0,
    "start_time": "2022-09-02T14:07:49.068Z"
   },
   {
    "duration": 0,
    "start_time": "2022-09-02T14:07:49.069Z"
   },
   {
    "duration": 0,
    "start_time": "2022-09-02T14:07:49.070Z"
   },
   {
    "duration": 0,
    "start_time": "2022-09-02T14:07:49.071Z"
   },
   {
    "duration": 0,
    "start_time": "2022-09-02T14:07:49.072Z"
   },
   {
    "duration": 0,
    "start_time": "2022-09-02T14:07:49.073Z"
   },
   {
    "duration": 0,
    "start_time": "2022-09-02T14:07:49.074Z"
   },
   {
    "duration": 0,
    "start_time": "2022-09-02T14:07:49.076Z"
   },
   {
    "duration": 0,
    "start_time": "2022-09-02T14:07:49.077Z"
   },
   {
    "duration": 0,
    "start_time": "2022-09-02T14:07:49.077Z"
   },
   {
    "duration": 0,
    "start_time": "2022-09-02T14:07:49.078Z"
   },
   {
    "duration": 0,
    "start_time": "2022-09-02T14:07:49.079Z"
   },
   {
    "duration": 0,
    "start_time": "2022-09-02T14:07:49.080Z"
   },
   {
    "duration": 14,
    "start_time": "2022-09-02T14:09:14.426Z"
   },
   {
    "duration": 14,
    "start_time": "2022-09-02T14:09:30.797Z"
   },
   {
    "duration": 5,
    "start_time": "2022-09-02T14:09:42.596Z"
   },
   {
    "duration": 14,
    "start_time": "2022-09-02T14:10:19.119Z"
   },
   {
    "duration": 14,
    "start_time": "2022-09-02T14:10:35.921Z"
   },
   {
    "duration": 15,
    "start_time": "2022-09-02T14:13:37.458Z"
   },
   {
    "duration": 30,
    "start_time": "2022-09-02T14:31:32.543Z"
   },
   {
    "duration": 1693,
    "start_time": "2022-09-02T14:42:12.073Z"
   },
   {
    "duration": 264,
    "start_time": "2022-09-02T14:42:13.768Z"
   },
   {
    "duration": 10,
    "start_time": "2022-09-02T14:42:14.033Z"
   },
   {
    "duration": 8,
    "start_time": "2022-09-02T14:42:14.045Z"
   },
   {
    "duration": 18,
    "start_time": "2022-09-02T14:42:14.054Z"
   },
   {
    "duration": 8,
    "start_time": "2022-09-02T14:42:14.073Z"
   },
   {
    "duration": 8,
    "start_time": "2022-09-02T14:42:14.083Z"
   },
   {
    "duration": 54,
    "start_time": "2022-09-02T14:42:14.093Z"
   },
   {
    "duration": 98,
    "start_time": "2022-09-02T14:42:14.148Z"
   },
   {
    "duration": 36,
    "start_time": "2022-09-02T14:42:14.248Z"
   },
   {
    "duration": 13,
    "start_time": "2022-09-02T14:42:14.285Z"
   },
   {
    "duration": 9,
    "start_time": "2022-09-02T14:42:14.300Z"
   },
   {
    "duration": 34,
    "start_time": "2022-09-02T14:42:14.311Z"
   },
   {
    "duration": 92,
    "start_time": "2022-09-02T14:42:14.347Z"
   },
   {
    "duration": 15,
    "start_time": "2022-09-02T14:42:14.441Z"
   },
   {
    "duration": 22,
    "start_time": "2022-09-02T14:42:14.458Z"
   },
   {
    "duration": 103,
    "start_time": "2022-09-02T14:42:14.482Z"
   },
   {
    "duration": 5,
    "start_time": "2022-09-02T14:42:14.586Z"
   },
   {
    "duration": 21,
    "start_time": "2022-09-02T14:42:14.593Z"
   },
   {
    "duration": 22,
    "start_time": "2022-09-02T14:42:14.616Z"
   },
   {
    "duration": 5,
    "start_time": "2022-09-02T14:42:14.639Z"
   },
   {
    "duration": 14,
    "start_time": "2022-09-02T14:42:14.645Z"
   },
   {
    "duration": 342,
    "start_time": "2022-09-02T14:42:14.660Z"
   },
   {
    "duration": 5,
    "start_time": "2022-09-02T14:42:15.003Z"
   },
   {
    "duration": 312,
    "start_time": "2022-09-02T14:42:15.009Z"
   },
   {
    "duration": 19,
    "start_time": "2022-09-02T14:42:15.322Z"
   },
   {
    "duration": 22,
    "start_time": "2022-09-02T14:42:15.342Z"
   },
   {
    "duration": 11,
    "start_time": "2022-09-02T14:42:15.367Z"
   },
   {
    "duration": 211,
    "start_time": "2022-09-02T14:42:15.379Z"
   },
   {
    "duration": 11,
    "start_time": "2022-09-02T14:42:15.592Z"
   },
   {
    "duration": 58,
    "start_time": "2022-09-02T14:42:15.604Z"
   },
   {
    "duration": 6,
    "start_time": "2022-09-02T14:42:15.664Z"
   },
   {
    "duration": 15,
    "start_time": "2022-09-02T14:42:15.672Z"
   },
   {
    "duration": 215,
    "start_time": "2022-09-02T14:42:15.689Z"
   },
   {
    "duration": 9,
    "start_time": "2022-09-02T14:42:15.905Z"
   },
   {
    "duration": 8,
    "start_time": "2022-09-02T14:42:15.915Z"
   },
   {
    "duration": 44,
    "start_time": "2022-09-02T14:42:15.938Z"
   },
   {
    "duration": 38,
    "start_time": "2022-09-02T14:42:15.983Z"
   },
   {
    "duration": 31,
    "start_time": "2022-09-02T14:42:16.022Z"
   },
   {
    "duration": 233,
    "start_time": "2022-09-02T14:42:16.055Z"
   },
   {
    "duration": 18,
    "start_time": "2022-09-02T14:42:16.289Z"
   },
   {
    "duration": 135,
    "start_time": "2022-09-02T14:42:16.308Z"
   },
   {
    "duration": 0,
    "start_time": "2022-09-02T14:42:16.444Z"
   },
   {
    "duration": 0,
    "start_time": "2022-09-02T14:42:16.446Z"
   },
   {
    "duration": 0,
    "start_time": "2022-09-02T14:42:16.447Z"
   },
   {
    "duration": 0,
    "start_time": "2022-09-02T14:42:16.447Z"
   },
   {
    "duration": 0,
    "start_time": "2022-09-02T14:42:16.448Z"
   },
   {
    "duration": 0,
    "start_time": "2022-09-02T14:42:16.449Z"
   },
   {
    "duration": 0,
    "start_time": "2022-09-02T14:42:16.450Z"
   },
   {
    "duration": 0,
    "start_time": "2022-09-02T14:42:16.451Z"
   },
   {
    "duration": 0,
    "start_time": "2022-09-02T14:42:16.452Z"
   },
   {
    "duration": 0,
    "start_time": "2022-09-02T14:42:16.453Z"
   },
   {
    "duration": 0,
    "start_time": "2022-09-02T14:42:16.454Z"
   },
   {
    "duration": 0,
    "start_time": "2022-09-02T14:42:16.455Z"
   },
   {
    "duration": 0,
    "start_time": "2022-09-02T14:42:16.456Z"
   },
   {
    "duration": 0,
    "start_time": "2022-09-02T14:42:16.457Z"
   },
   {
    "duration": 0,
    "start_time": "2022-09-02T14:42:16.458Z"
   },
   {
    "duration": 17,
    "start_time": "2022-09-02T14:43:29.754Z"
   },
   {
    "duration": 14,
    "start_time": "2022-09-02T14:44:18.870Z"
   },
   {
    "duration": 11,
    "start_time": "2022-09-02T14:44:27.467Z"
   },
   {
    "duration": 19,
    "start_time": "2022-09-02T14:44:30.658Z"
   },
   {
    "duration": 9,
    "start_time": "2022-09-02T14:45:42.303Z"
   },
   {
    "duration": 19,
    "start_time": "2022-09-02T14:45:52.249Z"
   },
   {
    "duration": 21,
    "start_time": "2022-09-02T14:46:07.491Z"
   },
   {
    "duration": 16,
    "start_time": "2022-09-02T14:46:20.285Z"
   },
   {
    "duration": 17,
    "start_time": "2022-09-02T14:46:22.429Z"
   },
   {
    "duration": 56,
    "start_time": "2022-09-02T14:47:07.297Z"
   },
   {
    "duration": 19,
    "start_time": "2022-09-02T14:47:43.529Z"
   },
   {
    "duration": 19,
    "start_time": "2022-09-02T14:48:16.536Z"
   },
   {
    "duration": 17,
    "start_time": "2022-09-02T14:48:41.957Z"
   },
   {
    "duration": 1127,
    "start_time": "2022-09-02T14:50:43.718Z"
   },
   {
    "duration": 1056,
    "start_time": "2022-09-02T14:50:49.284Z"
   },
   {
    "duration": 825,
    "start_time": "2022-09-02T14:51:40.139Z"
   },
   {
    "duration": 16,
    "start_time": "2022-09-02T14:52:32.928Z"
   },
   {
    "duration": 5,
    "start_time": "2022-09-02T14:52:49.697Z"
   },
   {
    "duration": 17,
    "start_time": "2022-09-02T14:52:52.600Z"
   },
   {
    "duration": 8,
    "start_time": "2022-09-02T14:53:04.636Z"
   },
   {
    "duration": 1722,
    "start_time": "2022-09-02T15:05:42.559Z"
   },
   {
    "duration": 292,
    "start_time": "2022-09-02T15:05:44.283Z"
   },
   {
    "duration": 11,
    "start_time": "2022-09-02T15:05:44.576Z"
   },
   {
    "duration": 7,
    "start_time": "2022-09-02T15:05:44.589Z"
   },
   {
    "duration": 20,
    "start_time": "2022-09-02T15:05:44.597Z"
   },
   {
    "duration": 9,
    "start_time": "2022-09-02T15:05:44.618Z"
   },
   {
    "duration": 10,
    "start_time": "2022-09-02T15:05:44.628Z"
   },
   {
    "duration": 33,
    "start_time": "2022-09-02T15:05:44.640Z"
   },
   {
    "duration": 137,
    "start_time": "2022-09-02T15:05:44.675Z"
   },
   {
    "duration": 46,
    "start_time": "2022-09-02T15:05:44.814Z"
   },
   {
    "duration": 10,
    "start_time": "2022-09-02T15:05:44.861Z"
   },
   {
    "duration": 10,
    "start_time": "2022-09-02T15:05:44.872Z"
   },
   {
    "duration": 11,
    "start_time": "2022-09-02T15:05:44.884Z"
   },
   {
    "duration": 118,
    "start_time": "2022-09-02T15:05:44.896Z"
   },
   {
    "duration": 26,
    "start_time": "2022-09-02T15:05:45.016Z"
   },
   {
    "duration": 37,
    "start_time": "2022-09-02T15:05:45.045Z"
   },
   {
    "duration": 114,
    "start_time": "2022-09-02T15:05:45.083Z"
   },
   {
    "duration": 8,
    "start_time": "2022-09-02T15:05:45.198Z"
   },
   {
    "duration": 37,
    "start_time": "2022-09-02T15:05:45.207Z"
   },
   {
    "duration": 9,
    "start_time": "2022-09-02T15:05:45.246Z"
   },
   {
    "duration": 5,
    "start_time": "2022-09-02T15:05:45.257Z"
   },
   {
    "duration": 17,
    "start_time": "2022-09-02T15:05:45.263Z"
   },
   {
    "duration": 440,
    "start_time": "2022-09-02T15:05:45.281Z"
   },
   {
    "duration": 6,
    "start_time": "2022-09-02T15:05:45.723Z"
   },
   {
    "duration": 358,
    "start_time": "2022-09-02T15:05:45.737Z"
   },
   {
    "duration": 21,
    "start_time": "2022-09-02T15:05:46.096Z"
   },
   {
    "duration": 68,
    "start_time": "2022-09-02T15:05:46.119Z"
   },
   {
    "duration": 16,
    "start_time": "2022-09-02T15:05:46.192Z"
   },
   {
    "duration": 287,
    "start_time": "2022-09-02T15:05:46.210Z"
   },
   {
    "duration": 13,
    "start_time": "2022-09-02T15:05:46.498Z"
   },
   {
    "duration": 58,
    "start_time": "2022-09-02T15:05:46.513Z"
   },
   {
    "duration": 8,
    "start_time": "2022-09-02T15:05:46.573Z"
   },
   {
    "duration": 19,
    "start_time": "2022-09-02T15:05:46.583Z"
   },
   {
    "duration": 242,
    "start_time": "2022-09-02T15:05:46.604Z"
   },
   {
    "duration": 10,
    "start_time": "2022-09-02T15:05:46.847Z"
   },
   {
    "duration": 9,
    "start_time": "2022-09-02T15:05:46.859Z"
   },
   {
    "duration": 70,
    "start_time": "2022-09-02T15:05:46.869Z"
   },
   {
    "duration": 42,
    "start_time": "2022-09-02T15:05:46.941Z"
   },
   {
    "duration": 19,
    "start_time": "2022-09-02T15:05:46.984Z"
   },
   {
    "duration": 342,
    "start_time": "2022-09-02T15:05:47.005Z"
   },
   {
    "duration": 29,
    "start_time": "2022-09-02T15:05:47.349Z"
   },
   {
    "duration": 9,
    "start_time": "2022-09-02T15:05:47.380Z"
   },
   {
    "duration": 138,
    "start_time": "2022-09-02T15:05:47.391Z"
   },
   {
    "duration": 0,
    "start_time": "2022-09-02T15:05:47.531Z"
   },
   {
    "duration": 0,
    "start_time": "2022-09-02T15:05:47.538Z"
   },
   {
    "duration": 0,
    "start_time": "2022-09-02T15:05:47.539Z"
   },
   {
    "duration": 0,
    "start_time": "2022-09-02T15:05:47.541Z"
   },
   {
    "duration": 0,
    "start_time": "2022-09-02T15:05:47.542Z"
   },
   {
    "duration": 0,
    "start_time": "2022-09-02T15:05:47.543Z"
   },
   {
    "duration": 0,
    "start_time": "2022-09-02T15:05:47.544Z"
   },
   {
    "duration": 1,
    "start_time": "2022-09-02T15:05:47.545Z"
   },
   {
    "duration": 0,
    "start_time": "2022-09-02T15:05:47.547Z"
   },
   {
    "duration": 0,
    "start_time": "2022-09-02T15:05:47.548Z"
   },
   {
    "duration": 0,
    "start_time": "2022-09-02T15:05:47.550Z"
   },
   {
    "duration": 0,
    "start_time": "2022-09-02T15:05:47.551Z"
   },
   {
    "duration": 0,
    "start_time": "2022-09-02T15:05:47.552Z"
   },
   {
    "duration": 0,
    "start_time": "2022-09-02T15:05:47.553Z"
   },
   {
    "duration": 0,
    "start_time": "2022-09-02T15:05:47.554Z"
   },
   {
    "duration": 15,
    "start_time": "2022-09-02T15:06:00.375Z"
   },
   {
    "duration": 14,
    "start_time": "2022-09-02T15:06:03.327Z"
   },
   {
    "duration": 20,
    "start_time": "2022-09-02T15:06:09.681Z"
   },
   {
    "duration": 18,
    "start_time": "2022-09-02T15:06:19.534Z"
   },
   {
    "duration": 22,
    "start_time": "2022-09-02T15:06:48.970Z"
   },
   {
    "duration": 1657,
    "start_time": "2022-09-02T15:07:08.918Z"
   },
   {
    "duration": 173,
    "start_time": "2022-09-02T15:07:10.577Z"
   },
   {
    "duration": 11,
    "start_time": "2022-09-02T15:07:10.751Z"
   },
   {
    "duration": 9,
    "start_time": "2022-09-02T15:07:10.763Z"
   },
   {
    "duration": 21,
    "start_time": "2022-09-02T15:07:10.774Z"
   },
   {
    "duration": 8,
    "start_time": "2022-09-02T15:07:10.797Z"
   },
   {
    "duration": 12,
    "start_time": "2022-09-02T15:07:10.807Z"
   },
   {
    "duration": 41,
    "start_time": "2022-09-02T15:07:10.820Z"
   },
   {
    "duration": 99,
    "start_time": "2022-09-02T15:07:10.862Z"
   },
   {
    "duration": 34,
    "start_time": "2022-09-02T15:07:10.963Z"
   },
   {
    "duration": 10,
    "start_time": "2022-09-02T15:07:10.998Z"
   },
   {
    "duration": 10,
    "start_time": "2022-09-02T15:07:11.009Z"
   },
   {
    "duration": 11,
    "start_time": "2022-09-02T15:07:11.039Z"
   },
   {
    "duration": 101,
    "start_time": "2022-09-02T15:07:11.051Z"
   },
   {
    "duration": 10,
    "start_time": "2022-09-02T15:07:11.153Z"
   },
   {
    "duration": 23,
    "start_time": "2022-09-02T15:07:11.164Z"
   },
   {
    "duration": 121,
    "start_time": "2022-09-02T15:07:11.188Z"
   },
   {
    "duration": 6,
    "start_time": "2022-09-02T15:07:11.310Z"
   },
   {
    "duration": 31,
    "start_time": "2022-09-02T15:07:11.317Z"
   },
   {
    "duration": 8,
    "start_time": "2022-09-02T15:07:11.350Z"
   },
   {
    "duration": 7,
    "start_time": "2022-09-02T15:07:11.359Z"
   },
   {
    "duration": 17,
    "start_time": "2022-09-02T15:07:11.367Z"
   },
   {
    "duration": 339,
    "start_time": "2022-09-02T15:07:11.386Z"
   },
   {
    "duration": 4,
    "start_time": "2022-09-02T15:07:11.727Z"
   },
   {
    "duration": 318,
    "start_time": "2022-09-02T15:07:11.737Z"
   },
   {
    "duration": 14,
    "start_time": "2022-09-02T15:07:12.056Z"
   },
   {
    "duration": 23,
    "start_time": "2022-09-02T15:07:12.072Z"
   },
   {
    "duration": 12,
    "start_time": "2022-09-02T15:07:12.098Z"
   },
   {
    "duration": 220,
    "start_time": "2022-09-02T15:07:12.111Z"
   },
   {
    "duration": 13,
    "start_time": "2022-09-02T15:07:12.337Z"
   },
   {
    "duration": 44,
    "start_time": "2022-09-02T15:07:12.352Z"
   },
   {
    "duration": 7,
    "start_time": "2022-09-02T15:07:12.398Z"
   },
   {
    "duration": 37,
    "start_time": "2022-09-02T15:07:12.408Z"
   },
   {
    "duration": 200,
    "start_time": "2022-09-02T15:07:12.447Z"
   },
   {
    "duration": 9,
    "start_time": "2022-09-02T15:07:12.649Z"
   },
   {
    "duration": 11,
    "start_time": "2022-09-02T15:07:12.659Z"
   },
   {
    "duration": 44,
    "start_time": "2022-09-02T15:07:12.671Z"
   },
   {
    "duration": 58,
    "start_time": "2022-09-02T15:07:12.716Z"
   },
   {
    "duration": 17,
    "start_time": "2022-09-02T15:07:12.775Z"
   },
   {
    "duration": 219,
    "start_time": "2022-09-02T15:07:12.794Z"
   },
   {
    "duration": 24,
    "start_time": "2022-09-02T15:07:13.015Z"
   },
   {
    "duration": 15,
    "start_time": "2022-09-02T15:07:13.040Z"
   },
   {
    "duration": 19,
    "start_time": "2022-09-02T15:07:13.057Z"
   },
   {
    "duration": 132,
    "start_time": "2022-09-02T15:07:13.078Z"
   },
   {
    "duration": 0,
    "start_time": "2022-09-02T15:07:13.211Z"
   },
   {
    "duration": 0,
    "start_time": "2022-09-02T15:07:13.212Z"
   },
   {
    "duration": 0,
    "start_time": "2022-09-02T15:07:13.213Z"
   },
   {
    "duration": 0,
    "start_time": "2022-09-02T15:07:13.215Z"
   },
   {
    "duration": 0,
    "start_time": "2022-09-02T15:07:13.215Z"
   },
   {
    "duration": 0,
    "start_time": "2022-09-02T15:07:13.216Z"
   },
   {
    "duration": 0,
    "start_time": "2022-09-02T15:07:13.217Z"
   },
   {
    "duration": 0,
    "start_time": "2022-09-02T15:07:13.218Z"
   },
   {
    "duration": 0,
    "start_time": "2022-09-02T15:07:13.218Z"
   },
   {
    "duration": 0,
    "start_time": "2022-09-02T15:07:13.238Z"
   },
   {
    "duration": 0,
    "start_time": "2022-09-02T15:07:13.239Z"
   },
   {
    "duration": 0,
    "start_time": "2022-09-02T15:07:13.241Z"
   },
   {
    "duration": 0,
    "start_time": "2022-09-02T15:07:13.242Z"
   },
   {
    "duration": 0,
    "start_time": "2022-09-02T15:07:13.243Z"
   },
   {
    "duration": 0,
    "start_time": "2022-09-02T15:07:13.244Z"
   },
   {
    "duration": 240,
    "start_time": "2022-09-02T15:09:56.370Z"
   },
   {
    "duration": 17,
    "start_time": "2022-09-02T15:10:09.781Z"
   },
   {
    "duration": 28,
    "start_time": "2022-09-02T15:10:29.444Z"
   },
   {
    "duration": 204,
    "start_time": "2022-09-03T08:28:07.344Z"
   },
   {
    "duration": 79,
    "start_time": "2022-09-03T08:28:21.285Z"
   },
   {
    "duration": 1650,
    "start_time": "2022-09-03T08:28:34.666Z"
   },
   {
    "duration": 293,
    "start_time": "2022-09-03T08:28:36.318Z"
   },
   {
    "duration": 10,
    "start_time": "2022-09-03T08:28:36.613Z"
   },
   {
    "duration": 8,
    "start_time": "2022-09-03T08:28:36.624Z"
   },
   {
    "duration": 17,
    "start_time": "2022-09-03T08:28:36.633Z"
   },
   {
    "duration": 8,
    "start_time": "2022-09-03T08:28:36.652Z"
   },
   {
    "duration": 9,
    "start_time": "2022-09-03T08:28:36.661Z"
   },
   {
    "duration": 39,
    "start_time": "2022-09-03T08:28:36.672Z"
   },
   {
    "duration": 109,
    "start_time": "2022-09-03T08:28:36.712Z"
   },
   {
    "duration": 45,
    "start_time": "2022-09-03T08:28:36.823Z"
   },
   {
    "duration": 10,
    "start_time": "2022-09-03T08:28:36.870Z"
   },
   {
    "duration": 9,
    "start_time": "2022-09-03T08:28:36.882Z"
   },
   {
    "duration": 10,
    "start_time": "2022-09-03T08:28:36.893Z"
   },
   {
    "duration": 106,
    "start_time": "2022-09-03T08:28:36.905Z"
   },
   {
    "duration": 11,
    "start_time": "2022-09-03T08:28:37.013Z"
   },
   {
    "duration": 23,
    "start_time": "2022-09-03T08:28:37.026Z"
   },
   {
    "duration": 130,
    "start_time": "2022-09-03T08:28:37.050Z"
   },
   {
    "duration": 8,
    "start_time": "2022-09-03T08:28:37.181Z"
   },
   {
    "duration": 21,
    "start_time": "2022-09-03T08:28:37.191Z"
   },
   {
    "duration": 9,
    "start_time": "2022-09-03T08:28:37.213Z"
   },
   {
    "duration": 4,
    "start_time": "2022-09-03T08:28:37.224Z"
   },
   {
    "duration": 39,
    "start_time": "2022-09-03T08:28:37.229Z"
   },
   {
    "duration": 371,
    "start_time": "2022-09-03T08:28:37.269Z"
   },
   {
    "duration": 5,
    "start_time": "2022-09-03T08:28:37.641Z"
   },
   {
    "duration": 312,
    "start_time": "2022-09-03T08:28:37.648Z"
   },
   {
    "duration": 12,
    "start_time": "2022-09-03T08:28:37.967Z"
   },
   {
    "duration": 22,
    "start_time": "2022-09-03T08:28:37.981Z"
   },
   {
    "duration": 11,
    "start_time": "2022-09-03T08:28:38.006Z"
   },
   {
    "duration": 220,
    "start_time": "2022-09-03T08:28:38.018Z"
   },
   {
    "duration": 12,
    "start_time": "2022-09-03T08:28:38.240Z"
   },
   {
    "duration": 55,
    "start_time": "2022-09-03T08:28:38.253Z"
   },
   {
    "duration": 7,
    "start_time": "2022-09-03T08:28:38.309Z"
   },
   {
    "duration": 17,
    "start_time": "2022-09-03T08:28:38.317Z"
   },
   {
    "duration": 220,
    "start_time": "2022-09-03T08:28:38.336Z"
   },
   {
    "duration": 13,
    "start_time": "2022-09-03T08:28:38.558Z"
   },
   {
    "duration": 8,
    "start_time": "2022-09-03T08:28:38.573Z"
   },
   {
    "duration": 45,
    "start_time": "2022-09-03T08:28:38.583Z"
   },
   {
    "duration": 63,
    "start_time": "2022-09-03T08:28:38.630Z"
   },
   {
    "duration": 24,
    "start_time": "2022-09-03T08:28:38.694Z"
   },
   {
    "duration": 216,
    "start_time": "2022-09-03T08:28:38.720Z"
   },
   {
    "duration": 17,
    "start_time": "2022-09-03T08:28:38.938Z"
   },
   {
    "duration": 15,
    "start_time": "2022-09-03T08:28:38.967Z"
   },
   {
    "duration": 126,
    "start_time": "2022-09-03T08:28:38.984Z"
   },
   {
    "duration": 0,
    "start_time": "2022-09-03T08:28:39.112Z"
   },
   {
    "duration": 0,
    "start_time": "2022-09-03T08:28:39.113Z"
   },
   {
    "duration": 0,
    "start_time": "2022-09-03T08:28:39.115Z"
   },
   {
    "duration": 0,
    "start_time": "2022-09-03T08:28:39.116Z"
   },
   {
    "duration": 0,
    "start_time": "2022-09-03T08:28:39.118Z"
   },
   {
    "duration": 0,
    "start_time": "2022-09-03T08:28:39.119Z"
   },
   {
    "duration": 0,
    "start_time": "2022-09-03T08:28:39.120Z"
   },
   {
    "duration": 0,
    "start_time": "2022-09-03T08:28:39.122Z"
   },
   {
    "duration": 0,
    "start_time": "2022-09-03T08:28:39.123Z"
   },
   {
    "duration": 0,
    "start_time": "2022-09-03T08:28:39.124Z"
   },
   {
    "duration": 0,
    "start_time": "2022-09-03T08:28:39.126Z"
   },
   {
    "duration": 0,
    "start_time": "2022-09-03T08:28:39.127Z"
   },
   {
    "duration": 0,
    "start_time": "2022-09-03T08:28:39.128Z"
   },
   {
    "duration": 0,
    "start_time": "2022-09-03T08:28:39.267Z"
   },
   {
    "duration": 0,
    "start_time": "2022-09-03T08:28:39.269Z"
   },
   {
    "duration": 23,
    "start_time": "2022-09-03T08:36:57.683Z"
   },
   {
    "duration": 32,
    "start_time": "2022-09-03T08:40:10.373Z"
   },
   {
    "duration": 46,
    "start_time": "2022-09-03T08:40:44.461Z"
   },
   {
    "duration": 10,
    "start_time": "2022-09-03T08:40:50.921Z"
   },
   {
    "duration": 10,
    "start_time": "2022-09-03T08:41:16.764Z"
   },
   {
    "duration": 1472,
    "start_time": "2022-09-03T08:41:55.484Z"
   },
   {
    "duration": 323,
    "start_time": "2022-09-03T08:41:56.957Z"
   },
   {
    "duration": 10,
    "start_time": "2022-09-03T08:41:57.282Z"
   },
   {
    "duration": 9,
    "start_time": "2022-09-03T08:41:57.294Z"
   },
   {
    "duration": 24,
    "start_time": "2022-09-03T08:41:57.305Z"
   },
   {
    "duration": 23,
    "start_time": "2022-09-03T08:41:57.330Z"
   },
   {
    "duration": 10,
    "start_time": "2022-09-03T08:41:57.354Z"
   },
   {
    "duration": 34,
    "start_time": "2022-09-03T08:41:57.366Z"
   },
   {
    "duration": 100,
    "start_time": "2022-09-03T08:41:57.402Z"
   },
   {
    "duration": 39,
    "start_time": "2022-09-03T08:41:57.504Z"
   },
   {
    "duration": 23,
    "start_time": "2022-09-03T08:41:57.545Z"
   },
   {
    "duration": 9,
    "start_time": "2022-09-03T08:41:57.570Z"
   },
   {
    "duration": 9,
    "start_time": "2022-09-03T08:41:57.581Z"
   },
   {
    "duration": 104,
    "start_time": "2022-09-03T08:41:57.593Z"
   },
   {
    "duration": 14,
    "start_time": "2022-09-03T08:41:57.699Z"
   },
   {
    "duration": 22,
    "start_time": "2022-09-03T08:41:57.714Z"
   },
   {
    "duration": 113,
    "start_time": "2022-09-03T08:41:57.738Z"
   },
   {
    "duration": 6,
    "start_time": "2022-09-03T08:41:57.853Z"
   },
   {
    "duration": 23,
    "start_time": "2022-09-03T08:41:57.860Z"
   },
   {
    "duration": 8,
    "start_time": "2022-09-03T08:41:57.885Z"
   },
   {
    "duration": 3,
    "start_time": "2022-09-03T08:41:57.894Z"
   },
   {
    "duration": 16,
    "start_time": "2022-09-03T08:41:57.899Z"
   },
   {
    "duration": 381,
    "start_time": "2022-09-03T08:41:57.917Z"
   },
   {
    "duration": 5,
    "start_time": "2022-09-03T08:41:58.299Z"
   },
   {
    "duration": 335,
    "start_time": "2022-09-03T08:41:58.305Z"
   },
   {
    "duration": 12,
    "start_time": "2022-09-03T08:41:58.641Z"
   },
   {
    "duration": 32,
    "start_time": "2022-09-03T08:41:58.655Z"
   },
   {
    "duration": 11,
    "start_time": "2022-09-03T08:41:58.689Z"
   },
   {
    "duration": 203,
    "start_time": "2022-09-03T08:41:58.702Z"
   },
   {
    "duration": 12,
    "start_time": "2022-09-03T08:41:58.907Z"
   },
   {
    "duration": 64,
    "start_time": "2022-09-03T08:41:58.920Z"
   },
   {
    "duration": 7,
    "start_time": "2022-09-03T08:41:58.985Z"
   },
   {
    "duration": 16,
    "start_time": "2022-09-03T08:41:58.994Z"
   },
   {
    "duration": 222,
    "start_time": "2022-09-03T08:41:59.012Z"
   },
   {
    "duration": 9,
    "start_time": "2022-09-03T08:41:59.236Z"
   },
   {
    "duration": 21,
    "start_time": "2022-09-03T08:41:59.247Z"
   },
   {
    "duration": 45,
    "start_time": "2022-09-03T08:41:59.270Z"
   },
   {
    "duration": 58,
    "start_time": "2022-09-03T08:41:59.317Z"
   },
   {
    "duration": 20,
    "start_time": "2022-09-03T08:41:59.377Z"
   },
   {
    "duration": 234,
    "start_time": "2022-09-03T08:41:59.399Z"
   },
   {
    "duration": 18,
    "start_time": "2022-09-03T08:41:59.637Z"
   },
   {
    "duration": 26,
    "start_time": "2022-09-03T08:41:59.668Z"
   },
   {
    "duration": 124,
    "start_time": "2022-09-03T08:41:59.696Z"
   },
   {
    "duration": 0,
    "start_time": "2022-09-03T08:41:59.822Z"
   },
   {
    "duration": 0,
    "start_time": "2022-09-03T08:41:59.824Z"
   },
   {
    "duration": 0,
    "start_time": "2022-09-03T08:41:59.825Z"
   },
   {
    "duration": 0,
    "start_time": "2022-09-03T08:41:59.826Z"
   },
   {
    "duration": 0,
    "start_time": "2022-09-03T08:41:59.827Z"
   },
   {
    "duration": 0,
    "start_time": "2022-09-03T08:41:59.829Z"
   },
   {
    "duration": 0,
    "start_time": "2022-09-03T08:41:59.830Z"
   },
   {
    "duration": 0,
    "start_time": "2022-09-03T08:41:59.831Z"
   },
   {
    "duration": 0,
    "start_time": "2022-09-03T08:41:59.832Z"
   },
   {
    "duration": 0,
    "start_time": "2022-09-03T08:41:59.834Z"
   },
   {
    "duration": 0,
    "start_time": "2022-09-03T08:41:59.835Z"
   },
   {
    "duration": 0,
    "start_time": "2022-09-03T08:41:59.836Z"
   },
   {
    "duration": 0,
    "start_time": "2022-09-03T08:41:59.837Z"
   },
   {
    "duration": 0,
    "start_time": "2022-09-03T08:41:59.839Z"
   },
   {
    "duration": 0,
    "start_time": "2022-09-03T08:41:59.867Z"
   },
   {
    "duration": 34,
    "start_time": "2022-09-03T08:42:24.542Z"
   },
   {
    "duration": 95,
    "start_time": "2022-09-03T08:48:48.211Z"
   },
   {
    "duration": 1137,
    "start_time": "2022-09-03T08:57:15.209Z"
   },
   {
    "duration": 1533,
    "start_time": "2022-09-03T08:58:46.373Z"
   },
   {
    "duration": 319,
    "start_time": "2022-09-03T08:58:47.908Z"
   },
   {
    "duration": 11,
    "start_time": "2022-09-03T08:58:48.228Z"
   },
   {
    "duration": 6,
    "start_time": "2022-09-03T08:58:48.240Z"
   },
   {
    "duration": 16,
    "start_time": "2022-09-03T08:58:48.248Z"
   },
   {
    "duration": 9,
    "start_time": "2022-09-03T08:58:48.266Z"
   },
   {
    "duration": 8,
    "start_time": "2022-09-03T08:58:48.276Z"
   },
   {
    "duration": 47,
    "start_time": "2022-09-03T08:58:48.285Z"
   },
   {
    "duration": 116,
    "start_time": "2022-09-03T08:58:48.333Z"
   },
   {
    "duration": 54,
    "start_time": "2022-09-03T08:58:48.452Z"
   },
   {
    "duration": 9,
    "start_time": "2022-09-03T08:58:48.507Z"
   },
   {
    "duration": 9,
    "start_time": "2022-09-03T08:58:48.517Z"
   },
   {
    "duration": 10,
    "start_time": "2022-09-03T08:58:48.527Z"
   },
   {
    "duration": 106,
    "start_time": "2022-09-03T08:58:48.538Z"
   },
   {
    "duration": 12,
    "start_time": "2022-09-03T08:58:48.645Z"
   },
   {
    "duration": 29,
    "start_time": "2022-09-03T08:58:48.659Z"
   },
   {
    "duration": 111,
    "start_time": "2022-09-03T08:58:48.689Z"
   },
   {
    "duration": 5,
    "start_time": "2022-09-03T08:58:48.802Z"
   },
   {
    "duration": 24,
    "start_time": "2022-09-03T08:58:48.809Z"
   },
   {
    "duration": 8,
    "start_time": "2022-09-03T08:58:48.834Z"
   },
   {
    "duration": 3,
    "start_time": "2022-09-03T08:58:48.844Z"
   },
   {
    "duration": 27,
    "start_time": "2022-09-03T08:58:48.848Z"
   },
   {
    "duration": 348,
    "start_time": "2022-09-03T08:58:48.876Z"
   },
   {
    "duration": 5,
    "start_time": "2022-09-03T08:58:49.225Z"
   },
   {
    "duration": 339,
    "start_time": "2022-09-03T08:58:49.232Z"
   },
   {
    "duration": 12,
    "start_time": "2022-09-03T08:58:49.573Z"
   },
   {
    "duration": 22,
    "start_time": "2022-09-03T08:58:49.587Z"
   },
   {
    "duration": 11,
    "start_time": "2022-09-03T08:58:49.613Z"
   },
   {
    "duration": 221,
    "start_time": "2022-09-03T08:58:49.626Z"
   },
   {
    "duration": 19,
    "start_time": "2022-09-03T08:58:49.849Z"
   },
   {
    "duration": 44,
    "start_time": "2022-09-03T08:58:49.870Z"
   },
   {
    "duration": 7,
    "start_time": "2022-09-03T08:58:49.915Z"
   },
   {
    "duration": 18,
    "start_time": "2022-09-03T08:58:49.924Z"
   },
   {
    "duration": 233,
    "start_time": "2022-09-03T08:58:49.943Z"
   },
   {
    "duration": 10,
    "start_time": "2022-09-03T08:58:50.178Z"
   },
   {
    "duration": 9,
    "start_time": "2022-09-03T08:58:50.189Z"
   },
   {
    "duration": 46,
    "start_time": "2022-09-03T08:58:50.199Z"
   },
   {
    "duration": 61,
    "start_time": "2022-09-03T08:58:50.246Z"
   },
   {
    "duration": 18,
    "start_time": "2022-09-03T08:58:50.308Z"
   },
   {
    "duration": 234,
    "start_time": "2022-09-03T08:58:50.327Z"
   },
   {
    "duration": 17,
    "start_time": "2022-09-03T08:58:50.567Z"
   },
   {
    "duration": 127,
    "start_time": "2022-09-03T08:58:50.585Z"
   },
   {
    "duration": 0,
    "start_time": "2022-09-03T08:58:50.713Z"
   },
   {
    "duration": 0,
    "start_time": "2022-09-03T08:58:50.714Z"
   },
   {
    "duration": 0,
    "start_time": "2022-09-03T08:58:50.715Z"
   },
   {
    "duration": 0,
    "start_time": "2022-09-03T08:58:50.716Z"
   },
   {
    "duration": 0,
    "start_time": "2022-09-03T08:58:50.717Z"
   },
   {
    "duration": 0,
    "start_time": "2022-09-03T08:58:50.718Z"
   },
   {
    "duration": 0,
    "start_time": "2022-09-03T08:58:50.719Z"
   },
   {
    "duration": 0,
    "start_time": "2022-09-03T08:58:50.720Z"
   },
   {
    "duration": 0,
    "start_time": "2022-09-03T08:58:50.721Z"
   },
   {
    "duration": 1,
    "start_time": "2022-09-03T08:58:50.721Z"
   },
   {
    "duration": 0,
    "start_time": "2022-09-03T08:58:50.722Z"
   },
   {
    "duration": 0,
    "start_time": "2022-09-03T08:58:50.724Z"
   },
   {
    "duration": 0,
    "start_time": "2022-09-03T08:58:50.725Z"
   },
   {
    "duration": 0,
    "start_time": "2022-09-03T08:58:50.726Z"
   },
   {
    "duration": 0,
    "start_time": "2022-09-03T08:58:50.727Z"
   },
   {
    "duration": 0,
    "start_time": "2022-09-03T08:58:50.728Z"
   },
   {
    "duration": 6,
    "start_time": "2022-09-03T09:17:52.855Z"
   },
   {
    "duration": 10,
    "start_time": "2022-09-03T09:18:10.672Z"
   },
   {
    "duration": 9,
    "start_time": "2022-09-03T09:19:14.782Z"
   },
   {
    "duration": 10,
    "start_time": "2022-09-03T09:19:23.138Z"
   },
   {
    "duration": 9,
    "start_time": "2022-09-03T09:19:40.044Z"
   },
   {
    "duration": 5,
    "start_time": "2022-09-03T09:19:48.051Z"
   },
   {
    "duration": 370,
    "start_time": "2022-09-03T09:19:48.058Z"
   },
   {
    "duration": 8,
    "start_time": "2022-09-03T09:19:48.430Z"
   },
   {
    "duration": 8,
    "start_time": "2022-09-03T09:19:48.440Z"
   },
   {
    "duration": 17,
    "start_time": "2022-09-03T09:19:48.451Z"
   },
   {
    "duration": 20,
    "start_time": "2022-09-03T09:19:48.473Z"
   },
   {
    "duration": 7,
    "start_time": "2022-09-03T09:19:48.495Z"
   },
   {
    "duration": 29,
    "start_time": "2022-09-03T09:19:48.504Z"
   },
   {
    "duration": 203,
    "start_time": "2022-09-03T09:19:48.535Z"
   },
   {
    "duration": 46,
    "start_time": "2022-09-03T09:19:48.740Z"
   },
   {
    "duration": 10,
    "start_time": "2022-09-03T09:19:48.788Z"
   },
   {
    "duration": 10,
    "start_time": "2022-09-03T09:19:48.799Z"
   },
   {
    "duration": 10,
    "start_time": "2022-09-03T09:19:48.810Z"
   },
   {
    "duration": 118,
    "start_time": "2022-09-03T09:19:48.821Z"
   },
   {
    "duration": 10,
    "start_time": "2022-09-03T09:19:48.941Z"
   },
   {
    "duration": 32,
    "start_time": "2022-09-03T09:19:48.953Z"
   },
   {
    "duration": 35,
    "start_time": "2022-09-03T09:19:48.987Z"
   },
   {
    "duration": 6,
    "start_time": "2022-09-03T09:19:49.024Z"
   },
   {
    "duration": 18,
    "start_time": "2022-09-03T09:19:49.031Z"
   },
   {
    "duration": 10,
    "start_time": "2022-09-03T09:19:49.071Z"
   },
   {
    "duration": 15,
    "start_time": "2022-09-03T09:19:49.083Z"
   },
   {
    "duration": 15,
    "start_time": "2022-09-03T09:19:49.100Z"
   },
   {
    "duration": 339,
    "start_time": "2022-09-03T09:19:49.117Z"
   },
   {
    "duration": 17,
    "start_time": "2022-09-03T09:19:49.458Z"
   },
   {
    "duration": 325,
    "start_time": "2022-09-03T09:19:49.478Z"
   },
   {
    "duration": 13,
    "start_time": "2022-09-03T09:19:49.805Z"
   },
   {
    "duration": 22,
    "start_time": "2022-09-03T09:19:49.819Z"
   },
   {
    "duration": 38,
    "start_time": "2022-09-03T09:19:49.842Z"
   },
   {
    "duration": 210,
    "start_time": "2022-09-03T09:19:49.884Z"
   },
   {
    "duration": 12,
    "start_time": "2022-09-03T09:19:50.096Z"
   },
   {
    "duration": 68,
    "start_time": "2022-09-03T09:19:50.110Z"
   },
   {
    "duration": 8,
    "start_time": "2022-09-03T09:19:50.180Z"
   },
   {
    "duration": 17,
    "start_time": "2022-09-03T09:19:50.189Z"
   },
   {
    "duration": 211,
    "start_time": "2022-09-03T09:19:50.208Z"
   },
   {
    "duration": 11,
    "start_time": "2022-09-03T09:19:50.421Z"
   },
   {
    "duration": 8,
    "start_time": "2022-09-03T09:19:50.434Z"
   },
   {
    "duration": 76,
    "start_time": "2022-09-03T09:19:50.444Z"
   },
   {
    "duration": 59,
    "start_time": "2022-09-03T09:19:50.522Z"
   },
   {
    "duration": 19,
    "start_time": "2022-09-03T09:19:50.583Z"
   },
   {
    "duration": 250,
    "start_time": "2022-09-03T09:19:50.604Z"
   },
   {
    "duration": 29,
    "start_time": "2022-09-03T09:19:50.856Z"
   },
   {
    "duration": 9,
    "start_time": "2022-09-03T09:19:50.887Z"
   },
   {
    "duration": 16,
    "start_time": "2022-09-03T09:19:50.897Z"
   },
   {
    "duration": 0,
    "start_time": "2022-09-03T09:19:50.914Z"
   },
   {
    "duration": 0,
    "start_time": "2022-09-03T09:19:50.915Z"
   },
   {
    "duration": 0,
    "start_time": "2022-09-03T09:19:50.916Z"
   },
   {
    "duration": 0,
    "start_time": "2022-09-03T09:19:50.917Z"
   },
   {
    "duration": 0,
    "start_time": "2022-09-03T09:19:50.918Z"
   },
   {
    "duration": 0,
    "start_time": "2022-09-03T09:19:50.919Z"
   },
   {
    "duration": 0,
    "start_time": "2022-09-03T09:19:50.920Z"
   },
   {
    "duration": 0,
    "start_time": "2022-09-03T09:19:50.921Z"
   },
   {
    "duration": 0,
    "start_time": "2022-09-03T09:19:50.922Z"
   },
   {
    "duration": 0,
    "start_time": "2022-09-03T09:19:50.924Z"
   },
   {
    "duration": 0,
    "start_time": "2022-09-03T09:19:50.925Z"
   },
   {
    "duration": 0,
    "start_time": "2022-09-03T09:19:50.926Z"
   },
   {
    "duration": 0,
    "start_time": "2022-09-03T09:19:50.927Z"
   },
   {
    "duration": 0,
    "start_time": "2022-09-03T09:19:50.928Z"
   },
   {
    "duration": 0,
    "start_time": "2022-09-03T09:19:50.928Z"
   },
   {
    "duration": 14,
    "start_time": "2022-09-03T09:55:29.386Z"
   },
   {
    "duration": 14,
    "start_time": "2022-09-03T09:55:40.782Z"
   },
   {
    "duration": 8,
    "start_time": "2022-09-03T09:55:59.594Z"
   },
   {
    "duration": 823,
    "start_time": "2022-09-03T09:55:59.604Z"
   },
   {
    "duration": 8,
    "start_time": "2022-09-03T09:56:00.429Z"
   },
   {
    "duration": 9,
    "start_time": "2022-09-03T09:56:00.440Z"
   },
   {
    "duration": 24,
    "start_time": "2022-09-03T09:56:00.451Z"
   },
   {
    "duration": 15,
    "start_time": "2022-09-03T09:56:00.478Z"
   },
   {
    "duration": 29,
    "start_time": "2022-09-03T09:56:00.496Z"
   },
   {
    "duration": 50,
    "start_time": "2022-09-03T09:56:00.527Z"
   },
   {
    "duration": 263,
    "start_time": "2022-09-03T09:56:00.586Z"
   },
   {
    "duration": 53,
    "start_time": "2022-09-03T09:56:00.852Z"
   },
   {
    "duration": 11,
    "start_time": "2022-09-03T09:56:00.909Z"
   },
   {
    "duration": 26,
    "start_time": "2022-09-03T09:56:00.921Z"
   },
   {
    "duration": 31,
    "start_time": "2022-09-03T09:56:00.949Z"
   },
   {
    "duration": 154,
    "start_time": "2022-09-03T09:56:00.987Z"
   },
   {
    "duration": 30,
    "start_time": "2022-09-03T09:56:01.143Z"
   },
   {
    "duration": 33,
    "start_time": "2022-09-03T09:56:01.175Z"
   },
   {
    "duration": 50,
    "start_time": "2022-09-03T09:56:01.210Z"
   },
   {
    "duration": 13,
    "start_time": "2022-09-03T09:56:01.262Z"
   },
   {
    "duration": 38,
    "start_time": "2022-09-03T09:56:01.277Z"
   },
   {
    "duration": 10,
    "start_time": "2022-09-03T09:56:01.317Z"
   },
   {
    "duration": 15,
    "start_time": "2022-09-03T09:56:01.328Z"
   },
   {
    "duration": 33,
    "start_time": "2022-09-03T09:56:01.345Z"
   },
   {
    "duration": 352,
    "start_time": "2022-09-03T09:56:01.380Z"
   },
   {
    "duration": 5,
    "start_time": "2022-09-03T09:56:01.733Z"
   },
   {
    "duration": 369,
    "start_time": "2022-09-03T09:56:01.740Z"
   },
   {
    "duration": 14,
    "start_time": "2022-09-03T09:56:02.111Z"
   },
   {
    "duration": 44,
    "start_time": "2022-09-03T09:56:02.127Z"
   },
   {
    "duration": 18,
    "start_time": "2022-09-03T09:56:02.173Z"
   },
   {
    "duration": 259,
    "start_time": "2022-09-03T09:56:02.197Z"
   },
   {
    "duration": 23,
    "start_time": "2022-09-03T09:56:02.458Z"
   },
   {
    "duration": 62,
    "start_time": "2022-09-03T09:56:02.485Z"
   },
   {
    "duration": 7,
    "start_time": "2022-09-03T09:56:02.549Z"
   },
   {
    "duration": 29,
    "start_time": "2022-09-03T09:56:02.558Z"
   },
   {
    "duration": 226,
    "start_time": "2022-09-03T09:56:02.589Z"
   },
   {
    "duration": 10,
    "start_time": "2022-09-03T09:56:02.817Z"
   },
   {
    "duration": 9,
    "start_time": "2022-09-03T09:56:02.828Z"
   },
   {
    "duration": 93,
    "start_time": "2022-09-03T09:56:02.839Z"
   },
   {
    "duration": 57,
    "start_time": "2022-09-03T09:56:02.934Z"
   },
   {
    "duration": 21,
    "start_time": "2022-09-03T09:56:02.993Z"
   },
   {
    "duration": 275,
    "start_time": "2022-09-03T09:56:03.016Z"
   },
   {
    "duration": 27,
    "start_time": "2022-09-03T09:56:03.294Z"
   },
   {
    "duration": 20,
    "start_time": "2022-09-03T09:56:03.323Z"
   },
   {
    "duration": 38,
    "start_time": "2022-09-03T09:56:03.345Z"
   },
   {
    "duration": 0,
    "start_time": "2022-09-03T09:56:03.385Z"
   },
   {
    "duration": 0,
    "start_time": "2022-09-03T09:56:03.386Z"
   },
   {
    "duration": 0,
    "start_time": "2022-09-03T09:56:03.387Z"
   },
   {
    "duration": 0,
    "start_time": "2022-09-03T09:56:03.388Z"
   },
   {
    "duration": 0,
    "start_time": "2022-09-03T09:56:03.389Z"
   },
   {
    "duration": 0,
    "start_time": "2022-09-03T09:56:03.389Z"
   },
   {
    "duration": 0,
    "start_time": "2022-09-03T09:56:03.390Z"
   },
   {
    "duration": 0,
    "start_time": "2022-09-03T09:56:03.391Z"
   },
   {
    "duration": 0,
    "start_time": "2022-09-03T09:56:03.392Z"
   },
   {
    "duration": 0,
    "start_time": "2022-09-03T09:56:03.393Z"
   },
   {
    "duration": 0,
    "start_time": "2022-09-03T09:56:03.394Z"
   },
   {
    "duration": 0,
    "start_time": "2022-09-03T09:56:03.395Z"
   },
   {
    "duration": 0,
    "start_time": "2022-09-03T09:56:03.396Z"
   },
   {
    "duration": 0,
    "start_time": "2022-09-03T09:56:03.397Z"
   },
   {
    "duration": 0,
    "start_time": "2022-09-03T09:56:03.398Z"
   },
   {
    "duration": 23,
    "start_time": "2022-09-03T09:57:11.157Z"
   },
   {
    "duration": 16,
    "start_time": "2022-09-03T09:58:17.782Z"
   },
   {
    "duration": 78,
    "start_time": "2022-09-03T10:05:20.123Z"
   },
   {
    "duration": 81,
    "start_time": "2022-09-03T10:05:29.600Z"
   },
   {
    "duration": 11,
    "start_time": "2022-09-03T10:12:58.441Z"
   },
   {
    "duration": 25,
    "start_time": "2022-09-03T10:16:07.443Z"
   },
   {
    "duration": 13,
    "start_time": "2022-09-03T10:19:51.190Z"
   },
   {
    "duration": 2809,
    "start_time": "2022-09-03T10:20:26.941Z"
   },
   {
    "duration": 2716,
    "start_time": "2022-09-03T10:27:18.136Z"
   },
   {
    "duration": 222499,
    "start_time": "2022-09-03T10:27:20.855Z"
   },
   {
    "duration": 579,
    "start_time": "2022-09-03T10:31:37.419Z"
   },
   {
    "duration": 11,
    "start_time": "2022-09-03T10:33:24.012Z"
   },
   {
    "duration": 11,
    "start_time": "2022-09-03T10:33:29.230Z"
   },
   {
    "duration": 16,
    "start_time": "2022-09-03T10:36:24.835Z"
   },
   {
    "duration": 9,
    "start_time": "2022-09-03T10:36:36.282Z"
   },
   {
    "duration": 16,
    "start_time": "2022-09-03T10:46:10.685Z"
   },
   {
    "duration": 10,
    "start_time": "2022-09-03T10:50:19.335Z"
   },
   {
    "duration": 12,
    "start_time": "2022-09-03T10:53:04.926Z"
   },
   {
    "duration": 13,
    "start_time": "2022-09-03T10:53:16.080Z"
   },
   {
    "duration": 17,
    "start_time": "2022-09-03T10:55:26.874Z"
   },
   {
    "duration": 688,
    "start_time": "2022-09-03T10:55:41.496Z"
   },
   {
    "duration": 96,
    "start_time": "2022-09-03T10:55:42.287Z"
   },
   {
    "duration": 13,
    "start_time": "2022-09-03T10:55:44.410Z"
   },
   {
    "duration": 5,
    "start_time": "2022-09-03T10:56:28.253Z"
   },
   {
    "duration": 6,
    "start_time": "2022-09-03T10:57:17.942Z"
   },
   {
    "duration": 14,
    "start_time": "2022-09-03T10:59:14.739Z"
   },
   {
    "duration": 41,
    "start_time": "2022-09-03T10:59:16.779Z"
   },
   {
    "duration": 16,
    "start_time": "2022-09-03T10:59:20.033Z"
   },
   {
    "duration": 1581,
    "start_time": "2022-09-03T10:59:38.309Z"
   },
   {
    "duration": 418,
    "start_time": "2022-09-03T10:59:39.892Z"
   },
   {
    "duration": 16,
    "start_time": "2022-09-03T10:59:40.313Z"
   },
   {
    "duration": 10,
    "start_time": "2022-09-03T10:59:40.332Z"
   },
   {
    "duration": 33,
    "start_time": "2022-09-03T10:59:40.345Z"
   },
   {
    "duration": 35,
    "start_time": "2022-09-03T10:59:40.383Z"
   },
   {
    "duration": 14,
    "start_time": "2022-09-03T10:59:40.420Z"
   },
   {
    "duration": 54,
    "start_time": "2022-09-03T10:59:40.436Z"
   },
   {
    "duration": 134,
    "start_time": "2022-09-03T10:59:40.494Z"
   },
   {
    "duration": 60,
    "start_time": "2022-09-03T10:59:40.632Z"
   },
   {
    "duration": 10,
    "start_time": "2022-09-03T10:59:40.694Z"
   },
   {
    "duration": 12,
    "start_time": "2022-09-03T10:59:40.706Z"
   },
   {
    "duration": 16,
    "start_time": "2022-09-03T10:59:40.720Z"
   },
   {
    "duration": 139,
    "start_time": "2022-09-03T10:59:40.738Z"
   },
   {
    "duration": 11,
    "start_time": "2022-09-03T10:59:40.879Z"
   },
   {
    "duration": 29,
    "start_time": "2022-09-03T10:59:40.892Z"
   },
   {
    "duration": 124,
    "start_time": "2022-09-03T10:59:40.923Z"
   },
   {
    "duration": 8,
    "start_time": "2022-09-03T10:59:41.048Z"
   },
   {
    "duration": 50,
    "start_time": "2022-09-03T10:59:41.058Z"
   },
   {
    "duration": 13,
    "start_time": "2022-09-03T10:59:41.110Z"
   },
   {
    "duration": 5,
    "start_time": "2022-09-03T10:59:41.126Z"
   },
   {
    "duration": 23,
    "start_time": "2022-09-03T10:59:41.133Z"
   },
   {
    "duration": 381,
    "start_time": "2022-09-03T10:59:41.170Z"
   },
   {
    "duration": 26,
    "start_time": "2022-09-03T10:59:41.553Z"
   },
   {
    "duration": 416,
    "start_time": "2022-09-03T10:59:41.582Z"
   },
   {
    "duration": 16,
    "start_time": "2022-09-03T10:59:42.000Z"
   },
   {
    "duration": 26,
    "start_time": "2022-09-03T10:59:42.018Z"
   },
   {
    "duration": 21,
    "start_time": "2022-09-03T10:59:42.070Z"
   },
   {
    "duration": 252,
    "start_time": "2022-09-03T10:59:42.093Z"
   },
   {
    "duration": 33,
    "start_time": "2022-09-03T10:59:42.347Z"
   },
   {
    "duration": 60,
    "start_time": "2022-09-03T10:59:42.385Z"
   },
   {
    "duration": 7,
    "start_time": "2022-09-03T10:59:42.447Z"
   },
   {
    "duration": 29,
    "start_time": "2022-09-03T10:59:42.456Z"
   },
   {
    "duration": 249,
    "start_time": "2022-09-03T10:59:42.486Z"
   },
   {
    "duration": 15,
    "start_time": "2022-09-03T10:59:42.737Z"
   },
   {
    "duration": 37,
    "start_time": "2022-09-03T10:59:42.754Z"
   },
   {
    "duration": 55,
    "start_time": "2022-09-03T10:59:42.794Z"
   },
   {
    "duration": 75,
    "start_time": "2022-09-03T10:59:42.851Z"
   },
   {
    "duration": 22,
    "start_time": "2022-09-03T10:59:42.928Z"
   },
   {
    "duration": 391,
    "start_time": "2022-09-03T10:59:42.968Z"
   },
   {
    "duration": 34,
    "start_time": "2022-09-03T10:59:43.361Z"
   },
   {
    "duration": 13,
    "start_time": "2022-09-03T10:59:43.397Z"
   },
   {
    "duration": 26,
    "start_time": "2022-09-03T10:59:43.413Z"
   },
   {
    "duration": 51,
    "start_time": "2022-09-03T10:59:43.441Z"
   },
   {
    "duration": 3137,
    "start_time": "2022-09-03T10:59:43.495Z"
   },
   {
    "duration": 230559,
    "start_time": "2022-09-03T10:59:46.634Z"
   },
   {
    "duration": 775,
    "start_time": "2022-09-03T11:03:37.194Z"
   },
   {
    "duration": 20,
    "start_time": "2022-09-03T11:03:37.975Z"
   },
   {
    "duration": 74,
    "start_time": "2022-09-03T11:03:37.998Z"
   },
   {
    "duration": 18,
    "start_time": "2022-09-03T11:03:38.075Z"
   },
   {
    "duration": 16,
    "start_time": "2022-09-03T11:03:38.095Z"
   },
   {
    "duration": 21,
    "start_time": "2022-09-03T11:03:38.113Z"
   },
   {
    "duration": 44,
    "start_time": "2022-09-03T11:03:38.135Z"
   },
   {
    "duration": 9,
    "start_time": "2022-09-03T11:03:38.180Z"
   },
   {
    "duration": 11,
    "start_time": "2022-09-03T11:03:38.191Z"
   },
   {
    "duration": 23,
    "start_time": "2022-09-03T11:03:38.203Z"
   },
   {
    "duration": 49,
    "start_time": "2022-09-03T11:03:38.228Z"
   },
   {
    "duration": 12,
    "start_time": "2022-09-03T11:03:38.279Z"
   },
   {
    "duration": 782,
    "start_time": "2022-09-03T11:06:26.191Z"
   },
   {
    "duration": 13,
    "start_time": "2022-09-03T11:06:27.417Z"
   },
   {
    "duration": 13,
    "start_time": "2022-09-03T11:06:31.644Z"
   },
   {
    "duration": 9,
    "start_time": "2022-09-03T11:06:39.254Z"
   },
   {
    "duration": 9,
    "start_time": "2022-09-03T11:07:24.800Z"
   },
   {
    "duration": 10,
    "start_time": "2022-09-03T11:07:49.716Z"
   },
   {
    "duration": 2784,
    "start_time": "2022-09-03T11:08:00.033Z"
   },
   {
    "duration": 235222,
    "start_time": "2022-09-03T11:08:02.819Z"
   },
   {
    "duration": 889,
    "start_time": "2022-09-03T11:14:49.596Z"
   },
   {
    "duration": 84,
    "start_time": "2022-09-03T11:14:50.496Z"
   },
   {
    "duration": 17,
    "start_time": "2022-09-03T11:14:53.118Z"
   },
   {
    "duration": 8,
    "start_time": "2022-09-03T11:15:00.189Z"
   },
   {
    "duration": 11,
    "start_time": "2022-09-03T11:25:36.985Z"
   },
   {
    "duration": 1886,
    "start_time": "2022-09-03T11:28:04.021Z"
   },
   {
    "duration": 11,
    "start_time": "2022-09-03T11:29:02.088Z"
   },
   {
    "duration": 2756,
    "start_time": "2022-09-03T11:29:11.544Z"
   },
   {
    "duration": 239396,
    "start_time": "2022-09-03T11:29:14.302Z"
   },
   {
    "duration": 552,
    "start_time": "2022-09-03T11:33:42.640Z"
   },
   {
    "duration": 12,
    "start_time": "2022-09-03T11:33:43.386Z"
   },
   {
    "duration": 19,
    "start_time": "2022-09-03T11:33:46.530Z"
   },
   {
    "duration": 12,
    "start_time": "2022-09-03T11:33:49.175Z"
   },
   {
    "duration": 24,
    "start_time": "2022-09-03T11:38:06.722Z"
   },
   {
    "duration": 28,
    "start_time": "2022-09-03T11:38:39.405Z"
   },
   {
    "duration": 14,
    "start_time": "2022-09-03T11:40:25.099Z"
   },
   {
    "duration": 22,
    "start_time": "2022-09-03T11:40:51.930Z"
   },
   {
    "duration": 14,
    "start_time": "2022-09-03T11:41:56.150Z"
   },
   {
    "duration": 27,
    "start_time": "2022-09-03T11:42:00.201Z"
   },
   {
    "duration": 14,
    "start_time": "2022-09-03T11:42:05.002Z"
   },
   {
    "duration": 16,
    "start_time": "2022-09-03T11:42:34.747Z"
   },
   {
    "duration": 1548,
    "start_time": "2022-09-03T11:42:56.095Z"
   },
   {
    "duration": 293,
    "start_time": "2022-09-03T11:42:57.645Z"
   },
   {
    "duration": 12,
    "start_time": "2022-09-03T11:42:57.939Z"
   },
   {
    "duration": 6,
    "start_time": "2022-09-03T11:42:57.952Z"
   },
   {
    "duration": 24,
    "start_time": "2022-09-03T11:42:57.960Z"
   },
   {
    "duration": 10,
    "start_time": "2022-09-03T11:42:57.986Z"
   },
   {
    "duration": 7,
    "start_time": "2022-09-03T11:42:57.998Z"
   },
   {
    "duration": 36,
    "start_time": "2022-09-03T11:42:58.007Z"
   },
   {
    "duration": 127,
    "start_time": "2022-09-03T11:42:58.045Z"
   },
   {
    "duration": 38,
    "start_time": "2022-09-03T11:42:58.181Z"
   },
   {
    "duration": 10,
    "start_time": "2022-09-03T11:42:58.221Z"
   },
   {
    "duration": 16,
    "start_time": "2022-09-03T11:42:58.232Z"
   },
   {
    "duration": 26,
    "start_time": "2022-09-03T11:42:58.250Z"
   },
   {
    "duration": 101,
    "start_time": "2022-09-03T11:42:58.279Z"
   },
   {
    "duration": 18,
    "start_time": "2022-09-03T11:42:58.382Z"
   },
   {
    "duration": 26,
    "start_time": "2022-09-03T11:42:58.401Z"
   },
   {
    "duration": 119,
    "start_time": "2022-09-03T11:42:58.429Z"
   },
   {
    "duration": 6,
    "start_time": "2022-09-03T11:42:58.550Z"
   },
   {
    "duration": 31,
    "start_time": "2022-09-03T11:42:58.558Z"
   },
   {
    "duration": 10,
    "start_time": "2022-09-03T11:42:58.591Z"
   },
   {
    "duration": 4,
    "start_time": "2022-09-03T11:42:58.603Z"
   },
   {
    "duration": 19,
    "start_time": "2022-09-03T11:42:58.608Z"
   },
   {
    "duration": 394,
    "start_time": "2022-09-03T11:42:58.629Z"
   },
   {
    "duration": 6,
    "start_time": "2022-09-03T11:42:59.025Z"
   },
   {
    "duration": 363,
    "start_time": "2022-09-03T11:42:59.033Z"
   },
   {
    "duration": 13,
    "start_time": "2022-09-03T11:42:59.398Z"
   },
   {
    "duration": 26,
    "start_time": "2022-09-03T11:42:59.414Z"
   },
   {
    "duration": 43,
    "start_time": "2022-09-03T11:42:59.443Z"
   },
   {
    "duration": 232,
    "start_time": "2022-09-03T11:42:59.488Z"
   },
   {
    "duration": 12,
    "start_time": "2022-09-03T11:42:59.721Z"
   },
   {
    "duration": 70,
    "start_time": "2022-09-03T11:42:59.735Z"
   },
   {
    "duration": 7,
    "start_time": "2022-09-03T11:42:59.807Z"
   },
   {
    "duration": 30,
    "start_time": "2022-09-03T11:42:59.815Z"
   },
   {
    "duration": 234,
    "start_time": "2022-09-03T11:42:59.846Z"
   },
   {
    "duration": 12,
    "start_time": "2022-09-03T11:43:00.082Z"
   },
   {
    "duration": 24,
    "start_time": "2022-09-03T11:43:00.096Z"
   },
   {
    "duration": 63,
    "start_time": "2022-09-03T11:43:00.122Z"
   },
   {
    "duration": 43,
    "start_time": "2022-09-03T11:43:00.187Z"
   },
   {
    "duration": 38,
    "start_time": "2022-09-03T11:43:00.232Z"
   },
   {
    "duration": 251,
    "start_time": "2022-09-03T11:43:00.272Z"
   },
   {
    "duration": 19,
    "start_time": "2022-09-03T11:43:00.527Z"
   },
   {
    "duration": 38,
    "start_time": "2022-09-03T11:43:00.548Z"
   },
   {
    "duration": 41,
    "start_time": "2022-09-03T11:43:00.588Z"
   },
   {
    "duration": 130,
    "start_time": "2022-09-03T11:43:00.631Z"
   },
   {
    "duration": 0,
    "start_time": "2022-09-03T11:43:00.763Z"
   },
   {
    "duration": 0,
    "start_time": "2022-09-03T11:43:00.765Z"
   },
   {
    "duration": 0,
    "start_time": "2022-09-03T11:43:00.772Z"
   },
   {
    "duration": 0,
    "start_time": "2022-09-03T11:43:00.775Z"
   },
   {
    "duration": 0,
    "start_time": "2022-09-03T11:43:00.777Z"
   },
   {
    "duration": 0,
    "start_time": "2022-09-03T11:43:00.780Z"
   },
   {
    "duration": 0,
    "start_time": "2022-09-03T11:43:00.782Z"
   },
   {
    "duration": 0,
    "start_time": "2022-09-03T11:43:00.788Z"
   },
   {
    "duration": 0,
    "start_time": "2022-09-03T11:43:00.790Z"
   },
   {
    "duration": 0,
    "start_time": "2022-09-03T11:43:00.792Z"
   },
   {
    "duration": 0,
    "start_time": "2022-09-03T11:43:00.793Z"
   },
   {
    "duration": 0,
    "start_time": "2022-09-03T11:43:00.795Z"
   },
   {
    "duration": 0,
    "start_time": "2022-09-03T11:43:00.796Z"
   },
   {
    "duration": 0,
    "start_time": "2022-09-03T11:43:00.797Z"
   },
   {
    "duration": 0,
    "start_time": "2022-09-03T11:43:00.798Z"
   },
   {
    "duration": 0,
    "start_time": "2022-09-03T11:43:00.799Z"
   },
   {
    "duration": 29,
    "start_time": "2022-09-03T11:45:35.144Z"
   },
   {
    "duration": 25,
    "start_time": "2022-09-03T11:46:14.719Z"
   },
   {
    "duration": 16,
    "start_time": "2022-09-03T11:46:38.804Z"
   },
   {
    "duration": 19,
    "start_time": "2022-09-03T11:47:24.046Z"
   },
   {
    "duration": 25,
    "start_time": "2022-09-03T11:48:36.789Z"
   },
   {
    "duration": 26,
    "start_time": "2022-09-03T11:48:56.856Z"
   },
   {
    "duration": 10,
    "start_time": "2022-09-03T11:49:03.623Z"
   },
   {
    "duration": 15,
    "start_time": "2022-09-03T11:49:11.102Z"
   },
   {
    "duration": 1576,
    "start_time": "2022-09-03T11:49:28.918Z"
   },
   {
    "duration": 317,
    "start_time": "2022-09-03T11:49:30.496Z"
   },
   {
    "duration": 13,
    "start_time": "2022-09-03T11:49:30.815Z"
   },
   {
    "duration": 41,
    "start_time": "2022-09-03T11:49:30.830Z"
   },
   {
    "duration": 36,
    "start_time": "2022-09-03T11:49:30.876Z"
   },
   {
    "duration": 19,
    "start_time": "2022-09-03T11:49:30.914Z"
   },
   {
    "duration": 18,
    "start_time": "2022-09-03T11:49:30.934Z"
   },
   {
    "duration": 41,
    "start_time": "2022-09-03T11:49:30.954Z"
   },
   {
    "duration": 113,
    "start_time": "2022-09-03T11:49:30.997Z"
   },
   {
    "duration": 37,
    "start_time": "2022-09-03T11:49:31.113Z"
   },
   {
    "duration": 24,
    "start_time": "2022-09-03T11:49:31.152Z"
   },
   {
    "duration": 23,
    "start_time": "2022-09-03T11:49:31.178Z"
   },
   {
    "duration": 24,
    "start_time": "2022-09-03T11:49:31.203Z"
   },
   {
    "duration": 108,
    "start_time": "2022-09-03T11:49:31.228Z"
   },
   {
    "duration": 14,
    "start_time": "2022-09-03T11:49:31.338Z"
   },
   {
    "duration": 37,
    "start_time": "2022-09-03T11:49:31.353Z"
   },
   {
    "duration": 130,
    "start_time": "2022-09-03T11:49:31.392Z"
   },
   {
    "duration": 10,
    "start_time": "2022-09-03T11:49:31.524Z"
   },
   {
    "duration": 31,
    "start_time": "2022-09-03T11:49:31.536Z"
   },
   {
    "duration": 11,
    "start_time": "2022-09-03T11:49:31.569Z"
   },
   {
    "duration": 27,
    "start_time": "2022-09-03T11:49:31.583Z"
   },
   {
    "duration": 35,
    "start_time": "2022-09-03T11:49:31.612Z"
   },
   {
    "duration": 379,
    "start_time": "2022-09-03T11:49:31.649Z"
   },
   {
    "duration": 5,
    "start_time": "2022-09-03T11:49:32.030Z"
   },
   {
    "duration": 388,
    "start_time": "2022-09-03T11:49:32.037Z"
   },
   {
    "duration": 14,
    "start_time": "2022-09-03T11:49:32.426Z"
   },
   {
    "duration": 44,
    "start_time": "2022-09-03T11:49:32.442Z"
   },
   {
    "duration": 13,
    "start_time": "2022-09-03T11:49:32.492Z"
   },
   {
    "duration": 232,
    "start_time": "2022-09-03T11:49:32.506Z"
   },
   {
    "duration": 12,
    "start_time": "2022-09-03T11:49:32.740Z"
   },
   {
    "duration": 71,
    "start_time": "2022-09-03T11:49:32.753Z"
   },
   {
    "duration": 9,
    "start_time": "2022-09-03T11:49:32.825Z"
   },
   {
    "duration": 44,
    "start_time": "2022-09-03T11:49:32.835Z"
   },
   {
    "duration": 230,
    "start_time": "2022-09-03T11:49:32.881Z"
   },
   {
    "duration": 10,
    "start_time": "2022-09-03T11:49:33.113Z"
   },
   {
    "duration": 9,
    "start_time": "2022-09-03T11:49:33.124Z"
   },
   {
    "duration": 68,
    "start_time": "2022-09-03T11:49:33.135Z"
   },
   {
    "duration": 44,
    "start_time": "2022-09-03T11:49:33.205Z"
   },
   {
    "duration": 41,
    "start_time": "2022-09-03T11:49:33.251Z"
   },
   {
    "duration": 283,
    "start_time": "2022-09-03T11:49:33.295Z"
   },
   {
    "duration": 30,
    "start_time": "2022-09-03T11:49:33.581Z"
   },
   {
    "duration": 10,
    "start_time": "2022-09-03T11:49:33.614Z"
   },
   {
    "duration": 22,
    "start_time": "2022-09-03T11:49:33.625Z"
   },
   {
    "duration": 32,
    "start_time": "2022-09-03T11:49:33.649Z"
   },
   {
    "duration": 14,
    "start_time": "2022-09-03T11:49:33.683Z"
   },
   {
    "duration": 17,
    "start_time": "2022-09-03T11:49:33.698Z"
   },
   {
    "duration": 151,
    "start_time": "2022-09-03T11:49:33.717Z"
   },
   {
    "duration": 0,
    "start_time": "2022-09-03T11:49:33.872Z"
   },
   {
    "duration": 0,
    "start_time": "2022-09-03T11:49:33.873Z"
   },
   {
    "duration": 0,
    "start_time": "2022-09-03T11:49:33.873Z"
   },
   {
    "duration": 0,
    "start_time": "2022-09-03T11:49:33.874Z"
   },
   {
    "duration": 0,
    "start_time": "2022-09-03T11:49:33.875Z"
   },
   {
    "duration": 0,
    "start_time": "2022-09-03T11:49:33.875Z"
   },
   {
    "duration": 0,
    "start_time": "2022-09-03T11:49:33.876Z"
   },
   {
    "duration": 0,
    "start_time": "2022-09-03T11:49:33.877Z"
   },
   {
    "duration": 0,
    "start_time": "2022-09-03T11:49:33.878Z"
   },
   {
    "duration": 0,
    "start_time": "2022-09-03T11:49:33.878Z"
   },
   {
    "duration": 0,
    "start_time": "2022-09-03T11:49:33.880Z"
   },
   {
    "duration": 0,
    "start_time": "2022-09-03T11:49:33.881Z"
   },
   {
    "duration": 0,
    "start_time": "2022-09-03T11:49:33.882Z"
   },
   {
    "duration": 0,
    "start_time": "2022-09-03T11:49:33.882Z"
   },
   {
    "duration": 860,
    "start_time": "2022-09-03T11:52:01.958Z"
   },
   {
    "duration": 226402,
    "start_time": "2022-09-03T11:52:07.782Z"
   },
   {
    "duration": 3193,
    "start_time": "2022-09-03T11:56:37.391Z"
   },
   {
    "duration": 231154,
    "start_time": "2022-09-03T11:56:40.594Z"
   },
   {
    "duration": 808,
    "start_time": "2022-09-03T12:00:39.990Z"
   },
   {
    "duration": 11,
    "start_time": "2022-09-03T12:00:43.391Z"
   },
   {
    "duration": 13,
    "start_time": "2022-09-03T12:00:46.739Z"
   },
   {
    "duration": 11,
    "start_time": "2022-09-03T12:00:49.694Z"
   },
   {
    "duration": 779,
    "start_time": "2022-09-03T12:02:43.204Z"
   },
   {
    "duration": 24,
    "start_time": "2022-09-03T12:02:44.070Z"
   },
   {
    "duration": 13,
    "start_time": "2022-09-03T12:02:46.410Z"
   },
   {
    "duration": 8,
    "start_time": "2022-09-03T12:02:48.718Z"
   },
   {
    "duration": 465,
    "start_time": "2022-09-03T12:03:56.431Z"
   },
   {
    "duration": 22,
    "start_time": "2022-09-03T12:03:56.972Z"
   },
   {
    "duration": 15,
    "start_time": "2022-09-03T12:03:57.896Z"
   },
   {
    "duration": 10,
    "start_time": "2022-09-03T12:04:00.454Z"
   },
   {
    "duration": 9,
    "start_time": "2022-09-03T12:08:43.429Z"
   },
   {
    "duration": 2363,
    "start_time": "2022-09-03T12:08:53.716Z"
   },
   {
    "duration": 234049,
    "start_time": "2022-09-03T12:08:56.906Z"
   },
   {
    "duration": 689,
    "start_time": "2022-09-03T12:13:02.482Z"
   },
   {
    "duration": 11,
    "start_time": "2022-09-03T12:13:04.729Z"
   },
   {
    "duration": 13,
    "start_time": "2022-09-03T12:13:14.592Z"
   },
   {
    "duration": 8,
    "start_time": "2022-09-03T12:13:17.834Z"
   },
   {
    "duration": 13,
    "start_time": "2022-09-03T12:14:36.452Z"
   },
   {
    "duration": 2155,
    "start_time": "2022-09-03T12:14:41.046Z"
   },
   {
    "duration": 1569,
    "start_time": "2022-09-03T12:16:52.862Z"
   },
   {
    "duration": 466,
    "start_time": "2022-09-03T12:16:54.434Z"
   },
   {
    "duration": 12,
    "start_time": "2022-09-03T12:16:54.901Z"
   },
   {
    "duration": 10,
    "start_time": "2022-09-03T12:16:54.915Z"
   },
   {
    "duration": 23,
    "start_time": "2022-09-03T12:16:54.927Z"
   },
   {
    "duration": 10,
    "start_time": "2022-09-03T12:16:54.952Z"
   },
   {
    "duration": 22,
    "start_time": "2022-09-03T12:16:54.964Z"
   },
   {
    "duration": 43,
    "start_time": "2022-09-03T12:16:54.990Z"
   },
   {
    "duration": 111,
    "start_time": "2022-09-03T12:16:55.035Z"
   },
   {
    "duration": 49,
    "start_time": "2022-09-03T12:16:55.148Z"
   },
   {
    "duration": 11,
    "start_time": "2022-09-03T12:16:55.198Z"
   },
   {
    "duration": 9,
    "start_time": "2022-09-03T12:16:55.211Z"
   },
   {
    "duration": 11,
    "start_time": "2022-09-03T12:16:55.221Z"
   },
   {
    "duration": 115,
    "start_time": "2022-09-03T12:16:55.235Z"
   },
   {
    "duration": 23,
    "start_time": "2022-09-03T12:16:55.353Z"
   },
   {
    "duration": 25,
    "start_time": "2022-09-03T12:16:55.381Z"
   },
   {
    "duration": 120,
    "start_time": "2022-09-03T12:16:55.407Z"
   },
   {
    "duration": 8,
    "start_time": "2022-09-03T12:16:55.529Z"
   },
   {
    "duration": 40,
    "start_time": "2022-09-03T12:16:55.538Z"
   },
   {
    "duration": 11,
    "start_time": "2022-09-03T12:16:55.581Z"
   },
   {
    "duration": 5,
    "start_time": "2022-09-03T12:16:55.593Z"
   },
   {
    "duration": 23,
    "start_time": "2022-09-03T12:16:55.599Z"
   },
   {
    "duration": 391,
    "start_time": "2022-09-03T12:16:55.624Z"
   },
   {
    "duration": 5,
    "start_time": "2022-09-03T12:16:56.018Z"
   },
   {
    "duration": 361,
    "start_time": "2022-09-03T12:16:56.025Z"
   },
   {
    "duration": 17,
    "start_time": "2022-09-03T12:16:56.388Z"
   },
   {
    "duration": 25,
    "start_time": "2022-09-03T12:16:56.407Z"
   },
   {
    "duration": 13,
    "start_time": "2022-09-03T12:16:56.434Z"
   },
   {
    "duration": 291,
    "start_time": "2022-09-03T12:16:56.449Z"
   },
   {
    "duration": 16,
    "start_time": "2022-09-03T12:16:56.742Z"
   },
   {
    "duration": 72,
    "start_time": "2022-09-03T12:16:56.768Z"
   },
   {
    "duration": 9,
    "start_time": "2022-09-03T12:16:56.842Z"
   },
   {
    "duration": 21,
    "start_time": "2022-09-03T12:16:56.867Z"
   },
   {
    "duration": 211,
    "start_time": "2022-09-03T12:16:56.889Z"
   },
   {
    "duration": 10,
    "start_time": "2022-09-03T12:16:57.101Z"
   },
   {
    "duration": 9,
    "start_time": "2022-09-03T12:16:57.112Z"
   },
   {
    "duration": 68,
    "start_time": "2022-09-03T12:16:57.122Z"
   },
   {
    "duration": 42,
    "start_time": "2022-09-03T12:16:57.192Z"
   },
   {
    "duration": 45,
    "start_time": "2022-09-03T12:16:57.235Z"
   },
   {
    "duration": 248,
    "start_time": "2022-09-03T12:16:57.282Z"
   },
   {
    "duration": 19,
    "start_time": "2022-09-03T12:16:57.535Z"
   },
   {
    "duration": 27,
    "start_time": "2022-09-03T12:16:57.556Z"
   },
   {
    "duration": 28,
    "start_time": "2022-09-03T12:16:57.584Z"
   },
   {
    "duration": 25,
    "start_time": "2022-09-03T12:16:57.614Z"
   },
   {
    "duration": 32,
    "start_time": "2022-09-03T12:16:57.641Z"
   },
   {
    "duration": 120,
    "start_time": "2022-09-03T12:16:57.674Z"
   },
   {
    "duration": 0,
    "start_time": "2022-09-03T12:16:57.796Z"
   },
   {
    "duration": 0,
    "start_time": "2022-09-03T12:16:57.797Z"
   },
   {
    "duration": 0,
    "start_time": "2022-09-03T12:16:57.798Z"
   },
   {
    "duration": 0,
    "start_time": "2022-09-03T12:16:57.799Z"
   },
   {
    "duration": 0,
    "start_time": "2022-09-03T12:16:57.800Z"
   },
   {
    "duration": 0,
    "start_time": "2022-09-03T12:16:57.801Z"
   },
   {
    "duration": 0,
    "start_time": "2022-09-03T12:16:57.802Z"
   },
   {
    "duration": 0,
    "start_time": "2022-09-03T12:16:57.804Z"
   },
   {
    "duration": 0,
    "start_time": "2022-09-03T12:16:57.805Z"
   },
   {
    "duration": 0,
    "start_time": "2022-09-03T12:16:57.806Z"
   },
   {
    "duration": 0,
    "start_time": "2022-09-03T12:16:57.807Z"
   },
   {
    "duration": 0,
    "start_time": "2022-09-03T12:16:57.808Z"
   },
   {
    "duration": 0,
    "start_time": "2022-09-03T12:16:57.810Z"
   },
   {
    "duration": 0,
    "start_time": "2022-09-03T12:16:57.811Z"
   },
   {
    "duration": 10,
    "start_time": "2022-09-03T12:17:28.944Z"
   },
   {
    "duration": 7,
    "start_time": "2022-09-03T12:18:18.934Z"
   },
   {
    "duration": 10,
    "start_time": "2022-09-03T12:19:49.022Z"
   },
   {
    "duration": 15,
    "start_time": "2022-09-03T12:23:25.644Z"
   },
   {
    "duration": 14,
    "start_time": "2022-09-03T12:23:47.382Z"
   },
   {
    "duration": 11,
    "start_time": "2022-09-03T12:25:37.299Z"
   },
   {
    "duration": 18,
    "start_time": "2022-09-03T12:26:04.616Z"
   },
   {
    "duration": 11,
    "start_time": "2022-09-03T12:27:32.330Z"
   },
   {
    "duration": 1750,
    "start_time": "2022-09-03T12:27:38.386Z"
   },
   {
    "duration": 214777,
    "start_time": "2022-09-03T12:27:41.535Z"
   },
   {
    "duration": 570,
    "start_time": "2022-09-03T12:32:21.500Z"
   },
   {
    "duration": 11,
    "start_time": "2022-09-03T12:32:35.919Z"
   },
   {
    "duration": 12,
    "start_time": "2022-09-03T12:33:21.450Z"
   },
   {
    "duration": 8,
    "start_time": "2022-09-03T12:33:23.985Z"
   },
   {
    "duration": 8,
    "start_time": "2022-09-03T12:36:50.893Z"
   },
   {
    "duration": 276,
    "start_time": "2022-09-03T12:36:52.284Z"
   },
   {
    "duration": 12,
    "start_time": "2022-09-03T12:36:54.076Z"
   },
   {
    "duration": 20,
    "start_time": "2022-09-03T12:36:56.756Z"
   },
   {
    "duration": 16,
    "start_time": "2022-09-03T12:36:58.185Z"
   },
   {
    "duration": 12,
    "start_time": "2022-09-03T12:37:02.385Z"
   },
   {
    "duration": 7,
    "start_time": "2022-09-03T12:37:07.624Z"
   },
   {
    "duration": 34,
    "start_time": "2022-09-03T12:37:09.394Z"
   },
   {
    "duration": 111,
    "start_time": "2022-09-03T12:37:13.679Z"
   },
   {
    "duration": 52,
    "start_time": "2022-09-03T12:37:16.035Z"
   },
   {
    "duration": 22,
    "start_time": "2022-09-03T12:37:19.165Z"
   },
   {
    "duration": 1006,
    "start_time": "2022-09-03T12:37:43.748Z"
   },
   {
    "duration": 9,
    "start_time": "2022-09-03T13:08:09.034Z"
   },
   {
    "duration": 22,
    "start_time": "2022-09-03T13:19:24.859Z"
   },
   {
    "duration": 5,
    "start_time": "2022-09-03T13:33:10.980Z"
   },
   {
    "duration": 21,
    "start_time": "2022-09-03T13:35:50.244Z"
   },
   {
    "duration": 12,
    "start_time": "2022-09-03T13:39:02.085Z"
   },
   {
    "duration": 10,
    "start_time": "2022-09-03T13:40:52.647Z"
   },
   {
    "duration": 94,
    "start_time": "2022-09-03T13:41:26.315Z"
   },
   {
    "duration": 14,
    "start_time": "2022-09-03T13:41:27.268Z"
   },
   {
    "duration": 26,
    "start_time": "2022-09-03T13:41:35.531Z"
   },
   {
    "duration": 51,
    "start_time": "2022-09-03T13:41:38.568Z"
   },
   {
    "duration": 7,
    "start_time": "2022-09-03T13:41:39.223Z"
   },
   {
    "duration": 19,
    "start_time": "2022-09-03T13:44:32.138Z"
   },
   {
    "duration": 7,
    "start_time": "2022-09-03T13:44:33.750Z"
   },
   {
    "duration": 4,
    "start_time": "2022-09-03T13:44:36.132Z"
   },
   {
    "duration": 14,
    "start_time": "2022-09-03T13:44:37.987Z"
   },
   {
    "duration": 402,
    "start_time": "2022-09-03T13:44:40.145Z"
   },
   {
    "duration": 4,
    "start_time": "2022-09-03T13:44:45.778Z"
   },
   {
    "duration": 332,
    "start_time": "2022-09-03T13:44:48.715Z"
   },
   {
    "duration": 12,
    "start_time": "2022-09-03T13:44:59.406Z"
   },
   {
    "duration": 25,
    "start_time": "2022-09-03T13:45:02.519Z"
   },
   {
    "duration": 14,
    "start_time": "2022-09-03T13:45:10.218Z"
   },
   {
    "duration": 194,
    "start_time": "2022-09-03T13:45:16.006Z"
   },
   {
    "duration": 12,
    "start_time": "2022-09-03T13:45:21.082Z"
   },
   {
    "duration": 50,
    "start_time": "2022-09-03T13:46:00.885Z"
   },
   {
    "duration": 9,
    "start_time": "2022-09-03T13:46:06.489Z"
   },
   {
    "duration": 21,
    "start_time": "2022-09-03T13:46:09.118Z"
   },
   {
    "duration": 201,
    "start_time": "2022-09-03T13:46:11.789Z"
   },
   {
    "duration": 11,
    "start_time": "2022-09-03T13:46:16.409Z"
   },
   {
    "duration": 9,
    "start_time": "2022-09-03T13:46:20.786Z"
   },
   {
    "duration": 45,
    "start_time": "2022-09-03T13:46:27.146Z"
   },
   {
    "duration": 32,
    "start_time": "2022-09-03T13:46:32.619Z"
   },
   {
    "duration": 19,
    "start_time": "2022-09-03T13:46:40.565Z"
   },
   {
    "duration": 234,
    "start_time": "2022-09-03T13:46:44.112Z"
   },
   {
    "duration": 18,
    "start_time": "2022-09-03T13:46:50.607Z"
   },
   {
    "duration": 12,
    "start_time": "2022-09-03T13:47:30.257Z"
   },
   {
    "duration": 20,
    "start_time": "2022-09-03T13:47:37.244Z"
   },
   {
    "duration": 17,
    "start_time": "2022-09-03T13:48:07.488Z"
   },
   {
    "duration": 11,
    "start_time": "2022-09-03T13:48:42.244Z"
   },
   {
    "duration": 12,
    "start_time": "2022-09-03T13:48:49.685Z"
   },
   {
    "duration": 10,
    "start_time": "2022-09-03T13:48:56.226Z"
   },
   {
    "duration": 13,
    "start_time": "2022-09-03T13:49:00.444Z"
   },
   {
    "duration": 9,
    "start_time": "2022-09-03T13:50:09.693Z"
   },
   {
    "duration": 18,
    "start_time": "2022-09-03T13:50:10.893Z"
   },
   {
    "duration": 10,
    "start_time": "2022-09-03T13:54:43.769Z"
   },
   {
    "duration": 11,
    "start_time": "2022-09-03T13:55:20.098Z"
   },
   {
    "duration": 1602,
    "start_time": "2022-09-03T13:55:36.095Z"
   },
   {
    "duration": 246,
    "start_time": "2022-09-03T13:55:37.699Z"
   },
   {
    "duration": 14,
    "start_time": "2022-09-03T13:55:37.946Z"
   },
   {
    "duration": 9,
    "start_time": "2022-09-03T13:55:37.962Z"
   },
   {
    "duration": 43,
    "start_time": "2022-09-03T13:55:37.973Z"
   },
   {
    "duration": 10,
    "start_time": "2022-09-03T13:55:38.018Z"
   },
   {
    "duration": 8,
    "start_time": "2022-09-03T13:55:38.030Z"
   },
   {
    "duration": 48,
    "start_time": "2022-09-03T13:55:38.039Z"
   },
   {
    "duration": 109,
    "start_time": "2022-09-03T13:55:38.089Z"
   },
   {
    "duration": 40,
    "start_time": "2022-09-03T13:55:38.201Z"
   },
   {
    "duration": 10,
    "start_time": "2022-09-03T13:55:38.243Z"
   },
   {
    "duration": 19,
    "start_time": "2022-09-03T13:55:38.270Z"
   },
   {
    "duration": 5,
    "start_time": "2022-09-03T13:55:38.291Z"
   },
   {
    "duration": 23,
    "start_time": "2022-09-03T13:55:38.298Z"
   },
   {
    "duration": 14,
    "start_time": "2022-09-03T13:55:38.323Z"
   },
   {
    "duration": 11,
    "start_time": "2022-09-03T13:55:38.338Z"
   },
   {
    "duration": 122,
    "start_time": "2022-09-03T13:55:38.351Z"
   },
   {
    "duration": 12,
    "start_time": "2022-09-03T13:55:38.475Z"
   },
   {
    "duration": 23,
    "start_time": "2022-09-03T13:55:38.489Z"
   },
   {
    "duration": 136,
    "start_time": "2022-09-03T13:55:38.514Z"
   },
   {
    "duration": 7,
    "start_time": "2022-09-03T13:55:38.652Z"
   },
   {
    "duration": 30,
    "start_time": "2022-09-03T13:55:38.661Z"
   },
   {
    "duration": 8,
    "start_time": "2022-09-03T13:55:38.693Z"
   },
   {
    "duration": 3,
    "start_time": "2022-09-03T13:55:38.703Z"
   },
   {
    "duration": 18,
    "start_time": "2022-09-03T13:55:38.708Z"
   },
   {
    "duration": 426,
    "start_time": "2022-09-03T13:55:38.728Z"
   },
   {
    "duration": 4,
    "start_time": "2022-09-03T13:55:39.156Z"
   },
   {
    "duration": 347,
    "start_time": "2022-09-03T13:55:39.175Z"
   },
   {
    "duration": 13,
    "start_time": "2022-09-03T13:55:39.523Z"
   },
   {
    "duration": 46,
    "start_time": "2022-09-03T13:55:39.538Z"
   },
   {
    "duration": 13,
    "start_time": "2022-09-03T13:55:39.586Z"
   },
   {
    "duration": 224,
    "start_time": "2022-09-03T13:55:39.601Z"
   },
   {
    "duration": 12,
    "start_time": "2022-09-03T13:55:39.827Z"
   },
   {
    "duration": 59,
    "start_time": "2022-09-03T13:55:39.840Z"
   },
   {
    "duration": 7,
    "start_time": "2022-09-03T13:55:39.901Z"
   },
   {
    "duration": 19,
    "start_time": "2022-09-03T13:55:39.909Z"
   },
   {
    "duration": 258,
    "start_time": "2022-09-03T13:55:39.929Z"
   },
   {
    "duration": 9,
    "start_time": "2022-09-03T13:55:40.189Z"
   },
   {
    "duration": 9,
    "start_time": "2022-09-03T13:55:40.199Z"
   },
   {
    "duration": 62,
    "start_time": "2022-09-03T13:55:40.209Z"
   },
   {
    "duration": 30,
    "start_time": "2022-09-03T13:55:40.273Z"
   },
   {
    "duration": 22,
    "start_time": "2022-09-03T13:55:40.305Z"
   },
   {
    "duration": 289,
    "start_time": "2022-09-03T13:55:40.329Z"
   },
   {
    "duration": 20,
    "start_time": "2022-09-03T13:55:40.619Z"
   },
   {
    "duration": 10,
    "start_time": "2022-09-03T13:55:40.641Z"
   },
   {
    "duration": 25,
    "start_time": "2022-09-03T13:55:40.653Z"
   },
   {
    "duration": 14,
    "start_time": "2022-09-03T13:55:40.680Z"
   },
   {
    "duration": 18,
    "start_time": "2022-09-03T13:55:40.696Z"
   },
   {
    "duration": 13,
    "start_time": "2022-09-03T13:55:40.715Z"
   },
   {
    "duration": 9,
    "start_time": "2022-09-03T13:55:40.730Z"
   },
   {
    "duration": 43,
    "start_time": "2022-09-03T13:55:40.740Z"
   },
   {
    "duration": 11,
    "start_time": "2022-09-03T13:55:40.785Z"
   },
   {
    "duration": 12,
    "start_time": "2022-09-03T13:55:40.798Z"
   },
   {
    "duration": 12,
    "start_time": "2022-09-03T13:55:40.812Z"
   },
   {
    "duration": 3016,
    "start_time": "2022-09-03T13:55:40.825Z"
   },
   {
    "duration": 1478,
    "start_time": "2022-09-03T13:58:57.814Z"
   },
   {
    "duration": 258,
    "start_time": "2022-09-03T13:58:59.294Z"
   },
   {
    "duration": 21,
    "start_time": "2022-09-03T13:58:59.553Z"
   },
   {
    "duration": 10,
    "start_time": "2022-09-03T13:58:59.575Z"
   },
   {
    "duration": 20,
    "start_time": "2022-09-03T13:58:59.587Z"
   },
   {
    "duration": 9,
    "start_time": "2022-09-03T13:58:59.608Z"
   },
   {
    "duration": 7,
    "start_time": "2022-09-03T13:58:59.619Z"
   },
   {
    "duration": 57,
    "start_time": "2022-09-03T13:58:59.628Z"
   },
   {
    "duration": 107,
    "start_time": "2022-09-03T13:58:59.687Z"
   },
   {
    "duration": 36,
    "start_time": "2022-09-03T13:58:59.796Z"
   },
   {
    "duration": 9,
    "start_time": "2022-09-03T13:58:59.833Z"
   },
   {
    "duration": 25,
    "start_time": "2022-09-03T13:58:59.844Z"
   },
   {
    "duration": 2,
    "start_time": "2022-09-03T13:58:59.871Z"
   },
   {
    "duration": 24,
    "start_time": "2022-09-03T13:58:59.876Z"
   },
   {
    "duration": 13,
    "start_time": "2022-09-03T13:58:59.901Z"
   },
   {
    "duration": 10,
    "start_time": "2022-09-03T13:58:59.916Z"
   },
   {
    "duration": 125,
    "start_time": "2022-09-03T13:58:59.928Z"
   },
   {
    "duration": 17,
    "start_time": "2022-09-03T13:59:00.055Z"
   },
   {
    "duration": 24,
    "start_time": "2022-09-03T13:59:00.074Z"
   },
   {
    "duration": 124,
    "start_time": "2022-09-03T13:59:00.100Z"
   },
   {
    "duration": 7,
    "start_time": "2022-09-03T13:59:00.225Z"
   },
   {
    "duration": 35,
    "start_time": "2022-09-03T13:59:00.233Z"
   },
   {
    "duration": 10,
    "start_time": "2022-09-03T13:59:00.269Z"
   },
   {
    "duration": 5,
    "start_time": "2022-09-03T13:59:00.280Z"
   },
   {
    "duration": 19,
    "start_time": "2022-09-03T13:59:00.287Z"
   },
   {
    "duration": 364,
    "start_time": "2022-09-03T13:59:00.308Z"
   },
   {
    "duration": 6,
    "start_time": "2022-09-03T13:59:00.674Z"
   },
   {
    "duration": 361,
    "start_time": "2022-09-03T13:59:00.681Z"
   },
   {
    "duration": 24,
    "start_time": "2022-09-03T13:59:01.043Z"
   },
   {
    "duration": 24,
    "start_time": "2022-09-03T13:59:01.069Z"
   },
   {
    "duration": 13,
    "start_time": "2022-09-03T13:59:01.096Z"
   },
   {
    "duration": 232,
    "start_time": "2022-09-03T13:59:01.111Z"
   },
   {
    "duration": 23,
    "start_time": "2022-09-03T13:59:01.345Z"
   },
   {
    "duration": 48,
    "start_time": "2022-09-03T13:59:01.370Z"
   },
   {
    "duration": 10,
    "start_time": "2022-09-03T13:59:01.419Z"
   },
   {
    "duration": 45,
    "start_time": "2022-09-03T13:59:01.431Z"
   },
   {
    "duration": 251,
    "start_time": "2022-09-03T13:59:01.479Z"
   },
   {
    "duration": 11,
    "start_time": "2022-09-03T13:59:01.732Z"
   },
   {
    "duration": 29,
    "start_time": "2022-09-03T13:59:01.745Z"
   },
   {
    "duration": 58,
    "start_time": "2022-09-03T13:59:01.776Z"
   },
   {
    "duration": 46,
    "start_time": "2022-09-03T13:59:01.838Z"
   },
   {
    "duration": 20,
    "start_time": "2022-09-03T13:59:01.886Z"
   },
   {
    "duration": 247,
    "start_time": "2022-09-03T13:59:01.908Z"
   },
   {
    "duration": 22,
    "start_time": "2022-09-03T13:59:02.156Z"
   },
   {
    "duration": 10,
    "start_time": "2022-09-03T13:59:02.180Z"
   },
   {
    "duration": 14,
    "start_time": "2022-09-03T13:59:02.191Z"
   },
   {
    "duration": 129,
    "start_time": "2022-09-03T13:59:02.207Z"
   },
   {
    "duration": 0,
    "start_time": "2022-09-03T13:59:02.338Z"
   },
   {
    "duration": 0,
    "start_time": "2022-09-03T13:59:02.339Z"
   },
   {
    "duration": 0,
    "start_time": "2022-09-03T13:59:02.340Z"
   },
   {
    "duration": 0,
    "start_time": "2022-09-03T13:59:02.341Z"
   },
   {
    "duration": 0,
    "start_time": "2022-09-03T13:59:02.342Z"
   },
   {
    "duration": 0,
    "start_time": "2022-09-03T13:59:02.343Z"
   },
   {
    "duration": 0,
    "start_time": "2022-09-03T13:59:02.344Z"
   },
   {
    "duration": 0,
    "start_time": "2022-09-03T13:59:02.345Z"
   },
   {
    "duration": 0,
    "start_time": "2022-09-03T13:59:02.346Z"
   },
   {
    "duration": 0,
    "start_time": "2022-09-03T13:59:02.348Z"
   },
   {
    "duration": 0,
    "start_time": "2022-09-03T13:59:02.368Z"
   },
   {
    "duration": 0,
    "start_time": "2022-09-03T13:59:02.369Z"
   },
   {
    "duration": 0,
    "start_time": "2022-09-03T13:59:02.371Z"
   },
   {
    "duration": 0,
    "start_time": "2022-09-03T13:59:02.372Z"
   },
   {
    "duration": 0,
    "start_time": "2022-09-03T13:59:02.374Z"
   },
   {
    "duration": 0,
    "start_time": "2022-09-03T13:59:02.375Z"
   },
   {
    "duration": 0,
    "start_time": "2022-09-03T13:59:02.377Z"
   },
   {
    "duration": 0,
    "start_time": "2022-09-03T13:59:02.378Z"
   },
   {
    "duration": 0,
    "start_time": "2022-09-03T13:59:02.378Z"
   },
   {
    "duration": 0,
    "start_time": "2022-09-03T13:59:02.379Z"
   },
   {
    "duration": 0,
    "start_time": "2022-09-03T13:59:02.381Z"
   },
   {
    "duration": 9,
    "start_time": "2022-09-03T13:59:32.359Z"
   },
   {
    "duration": 6,
    "start_time": "2022-09-03T13:59:44.487Z"
   },
   {
    "duration": 20,
    "start_time": "2022-09-03T13:59:51.660Z"
   },
   {
    "duration": 13,
    "start_time": "2022-09-03T14:00:08.944Z"
   },
   {
    "duration": 2841,
    "start_time": "2022-09-03T14:01:08.984Z"
   },
   {
    "duration": 206910,
    "start_time": "2022-09-03T14:01:14.776Z"
   },
   {
    "duration": 1057,
    "start_time": "2022-09-03T14:04:52.512Z"
   },
   {
    "duration": 11,
    "start_time": "2022-09-03T14:05:08.228Z"
   },
   {
    "duration": 12,
    "start_time": "2022-09-03T14:05:20.706Z"
   },
   {
    "duration": 8,
    "start_time": "2022-09-03T14:05:25.369Z"
   },
   {
    "duration": 19,
    "start_time": "2022-09-03T14:08:33.219Z"
   },
   {
    "duration": 7,
    "start_time": "2022-09-03T14:08:55.027Z"
   },
   {
    "duration": 22,
    "start_time": "2022-09-03T14:10:57.605Z"
   },
   {
    "duration": 1521,
    "start_time": "2022-09-03T14:11:12.226Z"
   },
   {
    "duration": 293,
    "start_time": "2022-09-03T14:11:13.750Z"
   },
   {
    "duration": 13,
    "start_time": "2022-09-03T14:11:14.045Z"
   },
   {
    "duration": 15,
    "start_time": "2022-09-03T14:11:14.061Z"
   },
   {
    "duration": 24,
    "start_time": "2022-09-03T14:11:14.079Z"
   },
   {
    "duration": 9,
    "start_time": "2022-09-03T14:11:14.105Z"
   },
   {
    "duration": 8,
    "start_time": "2022-09-03T14:11:14.116Z"
   },
   {
    "duration": 43,
    "start_time": "2022-09-03T14:11:14.125Z"
   },
   {
    "duration": 110,
    "start_time": "2022-09-03T14:11:14.176Z"
   },
   {
    "duration": 39,
    "start_time": "2022-09-03T14:11:14.288Z"
   },
   {
    "duration": 9,
    "start_time": "2022-09-03T14:11:14.328Z"
   },
   {
    "duration": 36,
    "start_time": "2022-09-03T14:11:14.339Z"
   },
   {
    "duration": 14,
    "start_time": "2022-09-03T14:11:14.377Z"
   },
   {
    "duration": 24,
    "start_time": "2022-09-03T14:11:14.393Z"
   },
   {
    "duration": 13,
    "start_time": "2022-09-03T14:11:14.419Z"
   },
   {
    "duration": 11,
    "start_time": "2022-09-03T14:11:14.434Z"
   },
   {
    "duration": 115,
    "start_time": "2022-09-03T14:11:14.446Z"
   },
   {
    "duration": 12,
    "start_time": "2022-09-03T14:11:14.562Z"
   },
   {
    "duration": 36,
    "start_time": "2022-09-03T14:11:14.575Z"
   },
   {
    "duration": 120,
    "start_time": "2022-09-03T14:11:14.613Z"
   },
   {
    "duration": 7,
    "start_time": "2022-09-03T14:11:14.735Z"
   },
   {
    "duration": 38,
    "start_time": "2022-09-03T14:11:14.744Z"
   },
   {
    "duration": 9,
    "start_time": "2022-09-03T14:11:14.785Z"
   },
   {
    "duration": 6,
    "start_time": "2022-09-03T14:11:14.796Z"
   },
   {
    "duration": 18,
    "start_time": "2022-09-03T14:11:14.804Z"
   },
   {
    "duration": 412,
    "start_time": "2022-09-03T14:11:14.824Z"
   },
   {
    "duration": 4,
    "start_time": "2022-09-03T14:11:15.238Z"
   },
   {
    "duration": 379,
    "start_time": "2022-09-03T14:11:15.246Z"
   },
   {
    "duration": 17,
    "start_time": "2022-09-03T14:11:15.626Z"
   },
   {
    "duration": 43,
    "start_time": "2022-09-03T14:11:15.645Z"
   },
   {
    "duration": 16,
    "start_time": "2022-09-03T14:11:15.690Z"
   },
   {
    "duration": 240,
    "start_time": "2022-09-03T14:11:15.707Z"
   },
   {
    "duration": 31,
    "start_time": "2022-09-03T14:11:15.950Z"
   },
   {
    "duration": 56,
    "start_time": "2022-09-03T14:11:15.983Z"
   },
   {
    "duration": 8,
    "start_time": "2022-09-03T14:11:16.041Z"
   },
   {
    "duration": 36,
    "start_time": "2022-09-03T14:11:16.050Z"
   },
   {
    "duration": 223,
    "start_time": "2022-09-03T14:11:16.087Z"
   },
   {
    "duration": 9,
    "start_time": "2022-09-03T14:11:16.311Z"
   },
   {
    "duration": 8,
    "start_time": "2022-09-03T14:11:16.322Z"
   },
   {
    "duration": 73,
    "start_time": "2022-09-03T14:11:16.332Z"
   },
   {
    "duration": 39,
    "start_time": "2022-09-03T14:11:16.407Z"
   },
   {
    "duration": 43,
    "start_time": "2022-09-03T14:11:16.448Z"
   },
   {
    "duration": 303,
    "start_time": "2022-09-03T14:11:16.493Z"
   },
   {
    "duration": 21,
    "start_time": "2022-09-03T14:11:16.798Z"
   },
   {
    "duration": 30,
    "start_time": "2022-09-03T14:11:16.821Z"
   },
   {
    "duration": 11,
    "start_time": "2022-09-03T14:11:16.867Z"
   },
   {
    "duration": 11,
    "start_time": "2022-09-03T14:11:16.883Z"
   },
   {
    "duration": 9,
    "start_time": "2022-09-03T14:11:16.896Z"
   },
   {
    "duration": 5,
    "start_time": "2022-09-03T14:11:16.907Z"
   },
   {
    "duration": 7,
    "start_time": "2022-09-03T14:11:16.913Z"
   },
   {
    "duration": 17,
    "start_time": "2022-09-03T14:11:16.921Z"
   },
   {
    "duration": 19,
    "start_time": "2022-09-03T14:11:16.967Z"
   },
   {
    "duration": 13,
    "start_time": "2022-09-03T14:11:16.988Z"
   },
   {
    "duration": 2931,
    "start_time": "2022-09-03T14:11:17.002Z"
   },
   {
    "duration": 211877,
    "start_time": "2022-09-03T14:11:19.935Z"
   },
   {
    "duration": 870,
    "start_time": "2022-09-03T14:14:51.814Z"
   },
   {
    "duration": 89,
    "start_time": "2022-09-03T14:14:52.690Z"
   },
   {
    "duration": 15,
    "start_time": "2022-09-03T14:14:52.786Z"
   },
   {
    "duration": 7,
    "start_time": "2022-09-03T14:14:52.803Z"
   },
   {
    "duration": 14,
    "start_time": "2022-09-03T14:14:52.812Z"
   },
   {
    "duration": 20,
    "start_time": "2022-09-03T14:14:52.827Z"
   },
   {
    "duration": 43,
    "start_time": "2022-09-03T14:14:52.849Z"
   },
   {
    "duration": 5,
    "start_time": "2022-09-03T14:14:52.894Z"
   },
   {
    "duration": 7,
    "start_time": "2022-09-03T14:14:52.900Z"
   },
   {
    "duration": 17,
    "start_time": "2022-09-03T14:14:52.908Z"
   },
   {
    "duration": 67,
    "start_time": "2022-09-03T14:14:52.927Z"
   },
   {
    "duration": 11,
    "start_time": "2022-09-03T14:14:52.996Z"
   },
   {
    "duration": 833,
    "start_time": "2022-09-03T14:19:14.038Z"
   },
   {
    "duration": 15,
    "start_time": "2022-09-03T14:19:14.990Z"
   },
   {
    "duration": 12,
    "start_time": "2022-09-03T14:19:17.811Z"
   },
   {
    "duration": 8,
    "start_time": "2022-09-03T14:19:20.243Z"
   },
   {
    "duration": 992,
    "start_time": "2022-09-03T14:19:31.391Z"
   },
   {
    "duration": 88,
    "start_time": "2022-09-03T14:19:32.389Z"
   },
   {
    "duration": 14,
    "start_time": "2022-09-03T14:19:39.687Z"
   },
   {
    "duration": 11,
    "start_time": "2022-09-03T14:19:46.601Z"
   },
   {
    "duration": 3444,
    "start_time": "2022-09-03T14:20:06.245Z"
   },
   {
    "duration": 537,
    "start_time": "2022-09-03T14:20:09.691Z"
   },
   {
    "duration": 14,
    "start_time": "2022-09-03T14:20:10.229Z"
   },
   {
    "duration": 16,
    "start_time": "2022-09-03T14:20:10.245Z"
   },
   {
    "duration": 25,
    "start_time": "2022-09-03T14:20:10.263Z"
   },
   {
    "duration": 13,
    "start_time": "2022-09-03T14:20:10.290Z"
   },
   {
    "duration": 13,
    "start_time": "2022-09-03T14:20:10.305Z"
   },
   {
    "duration": 38,
    "start_time": "2022-09-03T14:20:10.320Z"
   },
   {
    "duration": 117,
    "start_time": "2022-09-03T14:20:10.368Z"
   },
   {
    "duration": 41,
    "start_time": "2022-09-03T14:20:10.489Z"
   },
   {
    "duration": 11,
    "start_time": "2022-09-03T14:20:10.531Z"
   },
   {
    "duration": 12,
    "start_time": "2022-09-03T14:20:10.567Z"
   },
   {
    "duration": 16,
    "start_time": "2022-09-03T14:20:10.582Z"
   },
   {
    "duration": 32,
    "start_time": "2022-09-03T14:20:10.599Z"
   },
   {
    "duration": 15,
    "start_time": "2022-09-03T14:20:10.633Z"
   },
   {
    "duration": 11,
    "start_time": "2022-09-03T14:20:10.649Z"
   },
   {
    "duration": 123,
    "start_time": "2022-09-03T14:20:10.662Z"
   },
   {
    "duration": 15,
    "start_time": "2022-09-03T14:20:10.787Z"
   },
   {
    "duration": 23,
    "start_time": "2022-09-03T14:20:10.804Z"
   },
   {
    "duration": 133,
    "start_time": "2022-09-03T14:20:10.830Z"
   },
   {
    "duration": 9,
    "start_time": "2022-09-03T14:20:10.967Z"
   },
   {
    "duration": 37,
    "start_time": "2022-09-03T14:20:10.978Z"
   },
   {
    "duration": 12,
    "start_time": "2022-09-03T14:20:11.017Z"
   },
   {
    "duration": 25,
    "start_time": "2022-09-03T14:20:11.031Z"
   },
   {
    "duration": 37,
    "start_time": "2022-09-03T14:20:11.058Z"
   },
   {
    "duration": 373,
    "start_time": "2022-09-03T14:20:11.097Z"
   },
   {
    "duration": 5,
    "start_time": "2022-09-03T14:20:11.472Z"
   },
   {
    "duration": 383,
    "start_time": "2022-09-03T14:20:11.482Z"
   },
   {
    "duration": 21,
    "start_time": "2022-09-03T14:20:11.867Z"
   },
   {
    "duration": 24,
    "start_time": "2022-09-03T14:20:11.890Z"
   },
   {
    "duration": 13,
    "start_time": "2022-09-03T14:20:11.916Z"
   },
   {
    "duration": 244,
    "start_time": "2022-09-03T14:20:11.931Z"
   },
   {
    "duration": 12,
    "start_time": "2022-09-03T14:20:12.181Z"
   },
   {
    "duration": 46,
    "start_time": "2022-09-03T14:20:12.195Z"
   },
   {
    "duration": 7,
    "start_time": "2022-09-03T14:20:12.243Z"
   },
   {
    "duration": 35,
    "start_time": "2022-09-03T14:20:12.252Z"
   },
   {
    "duration": 242,
    "start_time": "2022-09-03T14:20:12.289Z"
   },
   {
    "duration": 11,
    "start_time": "2022-09-03T14:20:12.532Z"
   },
   {
    "duration": 9,
    "start_time": "2022-09-03T14:20:12.544Z"
   },
   {
    "duration": 49,
    "start_time": "2022-09-03T14:20:12.569Z"
   },
   {
    "duration": 29,
    "start_time": "2022-09-03T14:20:12.620Z"
   },
   {
    "duration": 42,
    "start_time": "2022-09-03T14:20:12.650Z"
   },
   {
    "duration": 248,
    "start_time": "2022-09-03T14:20:12.694Z"
   },
   {
    "duration": 30,
    "start_time": "2022-09-03T14:20:12.944Z"
   },
   {
    "duration": 20,
    "start_time": "2022-09-03T14:20:12.985Z"
   },
   {
    "duration": 7,
    "start_time": "2022-09-03T14:20:13.006Z"
   },
   {
    "duration": 15,
    "start_time": "2022-09-03T14:20:13.015Z"
   },
   {
    "duration": 13,
    "start_time": "2022-09-03T14:20:13.032Z"
   },
   {
    "duration": 31,
    "start_time": "2022-09-03T14:20:13.047Z"
   },
   {
    "duration": 7,
    "start_time": "2022-09-03T14:20:13.080Z"
   },
   {
    "duration": 18,
    "start_time": "2022-09-03T14:20:13.088Z"
   },
   {
    "duration": 11,
    "start_time": "2022-09-03T14:20:13.108Z"
   },
   {
    "duration": 10,
    "start_time": "2022-09-03T14:20:13.121Z"
   },
   {
    "duration": 2927,
    "start_time": "2022-09-03T14:20:13.133Z"
   },
   {
    "duration": 212832,
    "start_time": "2022-09-03T14:20:16.062Z"
   },
   {
    "duration": 598,
    "start_time": "2022-09-03T14:23:48.895Z"
   },
   {
    "duration": 177,
    "start_time": "2022-09-03T14:23:49.495Z"
   },
   {
    "duration": 23,
    "start_time": "2022-09-03T14:23:49.675Z"
   },
   {
    "duration": 8,
    "start_time": "2022-09-03T14:23:49.699Z"
   },
   {
    "duration": 16,
    "start_time": "2022-09-03T14:23:49.708Z"
   },
   {
    "duration": 47,
    "start_time": "2022-09-03T14:23:49.725Z"
   },
   {
    "duration": 30,
    "start_time": "2022-09-03T14:23:49.778Z"
   },
   {
    "duration": 7,
    "start_time": "2022-09-03T14:23:49.810Z"
   },
   {
    "duration": 8,
    "start_time": "2022-09-03T14:23:49.819Z"
   },
   {
    "duration": 21,
    "start_time": "2022-09-03T14:23:49.829Z"
   },
   {
    "duration": 45,
    "start_time": "2022-09-03T14:23:49.852Z"
   },
   {
    "duration": 10,
    "start_time": "2022-09-03T14:23:49.899Z"
   },
   {
    "duration": 995,
    "start_time": "2022-09-03T14:24:05.884Z"
   },
   {
    "duration": 104,
    "start_time": "2022-09-03T14:24:06.881Z"
   },
   {
    "duration": 18,
    "start_time": "2022-09-03T14:24:07.866Z"
   },
   {
    "duration": 10,
    "start_time": "2022-09-03T14:24:10.498Z"
   },
   {
    "duration": 8,
    "start_time": "2022-09-03T14:27:11.991Z"
   },
   {
    "duration": 13,
    "start_time": "2022-09-03T14:28:04.113Z"
   },
   {
    "duration": 8,
    "start_time": "2022-09-03T14:31:48.802Z"
   },
   {
    "duration": 7,
    "start_time": "2022-09-03T14:33:19.526Z"
   },
   {
    "duration": 125,
    "start_time": "2022-09-03T14:34:21.960Z"
   },
   {
    "duration": 39,
    "start_time": "2022-09-03T14:34:32.348Z"
   },
   {
    "duration": 26,
    "start_time": "2022-09-03T14:34:48.385Z"
   },
   {
    "duration": 17,
    "start_time": "2022-09-03T14:42:16.728Z"
   },
   {
    "duration": 1815,
    "start_time": "2022-09-03T14:43:01.299Z"
   },
   {
    "duration": 1001,
    "start_time": "2022-09-03T14:43:16.983Z"
   },
   {
    "duration": 9,
    "start_time": "2022-09-03T14:45:13.953Z"
   },
   {
    "duration": 1155,
    "start_time": "2022-09-03T14:46:40.914Z"
   },
   {
    "duration": 17,
    "start_time": "2022-09-03T14:46:42.084Z"
   },
   {
    "duration": 15,
    "start_time": "2022-09-03T14:46:44.717Z"
   },
   {
    "duration": 9,
    "start_time": "2022-09-03T14:46:47.602Z"
   },
   {
    "duration": 1569,
    "start_time": "2022-09-03T14:47:19.534Z"
   },
   {
    "duration": 1252,
    "start_time": "2022-09-03T14:47:21.105Z"
   },
   {
    "duration": 10,
    "start_time": "2022-09-03T14:47:22.358Z"
   },
   {
    "duration": 22,
    "start_time": "2022-09-03T14:47:22.370Z"
   },
   {
    "duration": 21,
    "start_time": "2022-09-03T14:47:22.393Z"
   },
   {
    "duration": 9,
    "start_time": "2022-09-03T14:47:22.416Z"
   },
   {
    "duration": 7,
    "start_time": "2022-09-03T14:47:22.427Z"
   },
   {
    "duration": 40,
    "start_time": "2022-09-03T14:47:22.436Z"
   },
   {
    "duration": 109,
    "start_time": "2022-09-03T14:47:22.479Z"
   },
   {
    "duration": 37,
    "start_time": "2022-09-03T14:47:22.591Z"
   },
   {
    "duration": 9,
    "start_time": "2022-09-03T14:47:22.630Z"
   },
   {
    "duration": 34,
    "start_time": "2022-09-03T14:47:22.641Z"
   },
   {
    "duration": 3,
    "start_time": "2022-09-03T14:47:22.676Z"
   },
   {
    "duration": 24,
    "start_time": "2022-09-03T14:47:22.680Z"
   },
   {
    "duration": 16,
    "start_time": "2022-09-03T14:47:22.706Z"
   },
   {
    "duration": 10,
    "start_time": "2022-09-03T14:47:22.724Z"
   },
   {
    "duration": 109,
    "start_time": "2022-09-03T14:47:22.736Z"
   },
   {
    "duration": 11,
    "start_time": "2022-09-03T14:47:22.847Z"
   },
   {
    "duration": 27,
    "start_time": "2022-09-03T14:47:22.867Z"
   },
   {
    "duration": 123,
    "start_time": "2022-09-03T14:47:22.895Z"
   },
   {
    "duration": 6,
    "start_time": "2022-09-03T14:47:23.020Z"
   },
   {
    "duration": 22,
    "start_time": "2022-09-03T14:47:23.028Z"
   },
   {
    "duration": 29,
    "start_time": "2022-09-03T14:47:23.052Z"
   },
   {
    "duration": 5,
    "start_time": "2022-09-03T14:47:23.082Z"
   },
   {
    "duration": 19,
    "start_time": "2022-09-03T14:47:23.089Z"
   },
   {
    "duration": 432,
    "start_time": "2022-09-03T14:47:23.111Z"
   },
   {
    "duration": 7,
    "start_time": "2022-09-03T14:47:23.545Z"
   },
   {
    "duration": 15,
    "start_time": "2022-09-03T14:47:23.557Z"
   },
   {
    "duration": 354,
    "start_time": "2022-09-03T14:47:23.574Z"
   },
   {
    "duration": 12,
    "start_time": "2022-09-03T14:47:23.930Z"
   },
   {
    "duration": 41,
    "start_time": "2022-09-03T14:47:23.943Z"
   },
   {
    "duration": 14,
    "start_time": "2022-09-03T14:47:23.986Z"
   },
   {
    "duration": 226,
    "start_time": "2022-09-03T14:47:24.002Z"
   },
   {
    "duration": 13,
    "start_time": "2022-09-03T14:47:24.230Z"
   },
   {
    "duration": 67,
    "start_time": "2022-09-03T14:47:24.244Z"
   },
   {
    "duration": 7,
    "start_time": "2022-09-03T14:47:24.313Z"
   },
   {
    "duration": 19,
    "start_time": "2022-09-03T14:47:24.322Z"
   },
   {
    "duration": 258,
    "start_time": "2022-09-03T14:47:24.343Z"
   },
   {
    "duration": 10,
    "start_time": "2022-09-03T14:47:24.603Z"
   },
   {
    "duration": 9,
    "start_time": "2022-09-03T14:47:24.614Z"
   },
   {
    "duration": 67,
    "start_time": "2022-09-03T14:47:24.624Z"
   },
   {
    "duration": 29,
    "start_time": "2022-09-03T14:47:24.693Z"
   },
   {
    "duration": 20,
    "start_time": "2022-09-03T14:47:24.723Z"
   },
   {
    "duration": 268,
    "start_time": "2022-09-03T14:47:24.745Z"
   },
   {
    "duration": 19,
    "start_time": "2022-09-03T14:47:25.014Z"
   },
   {
    "duration": 46,
    "start_time": "2022-09-03T14:47:25.034Z"
   },
   {
    "duration": 7,
    "start_time": "2022-09-03T14:47:25.082Z"
   },
   {
    "duration": 13,
    "start_time": "2022-09-03T14:47:25.091Z"
   },
   {
    "duration": 10,
    "start_time": "2022-09-03T14:47:25.106Z"
   },
   {
    "duration": 9,
    "start_time": "2022-09-03T14:47:25.117Z"
   },
   {
    "duration": 7,
    "start_time": "2022-09-03T14:47:25.127Z"
   },
   {
    "duration": 42,
    "start_time": "2022-09-03T14:47:25.135Z"
   },
   {
    "duration": 16,
    "start_time": "2022-09-03T14:47:25.179Z"
   },
   {
    "duration": 12,
    "start_time": "2022-09-03T14:47:25.197Z"
   },
   {
    "duration": 2844,
    "start_time": "2022-09-03T14:47:25.211Z"
   },
   {
    "duration": 221964,
    "start_time": "2022-09-03T14:47:28.057Z"
   },
   {
    "duration": 969,
    "start_time": "2022-09-03T14:51:10.023Z"
   },
   {
    "duration": 99,
    "start_time": "2022-09-03T14:51:11.070Z"
   },
   {
    "duration": 28,
    "start_time": "2022-09-03T14:51:11.170Z"
   },
   {
    "duration": 7,
    "start_time": "2022-09-03T14:51:11.200Z"
   },
   {
    "duration": 13,
    "start_time": "2022-09-03T14:51:11.209Z"
   },
   {
    "duration": 21,
    "start_time": "2022-09-03T14:51:11.224Z"
   },
   {
    "duration": 46,
    "start_time": "2022-09-03T14:51:11.247Z"
   },
   {
    "duration": 7,
    "start_time": "2022-09-03T14:51:11.294Z"
   },
   {
    "duration": 6,
    "start_time": "2022-09-03T14:51:11.303Z"
   },
   {
    "duration": 20,
    "start_time": "2022-09-03T14:51:11.311Z"
   },
   {
    "duration": 53,
    "start_time": "2022-09-03T14:51:11.333Z"
   },
   {
    "duration": 9,
    "start_time": "2022-09-03T14:51:11.388Z"
   },
   {
    "duration": 1571,
    "start_time": "2022-09-03T14:54:00.959Z"
   },
   {
    "duration": 293,
    "start_time": "2022-09-03T14:54:02.533Z"
   },
   {
    "duration": 11,
    "start_time": "2022-09-03T14:54:02.828Z"
   },
   {
    "duration": 12,
    "start_time": "2022-09-03T14:54:02.840Z"
   },
   {
    "duration": 43,
    "start_time": "2022-09-03T14:54:02.855Z"
   },
   {
    "duration": 16,
    "start_time": "2022-09-03T14:54:02.900Z"
   },
   {
    "duration": 22,
    "start_time": "2022-09-03T14:54:02.917Z"
   },
   {
    "duration": 44,
    "start_time": "2022-09-03T14:54:02.941Z"
   },
   {
    "duration": 111,
    "start_time": "2022-09-03T14:54:02.987Z"
   },
   {
    "duration": 39,
    "start_time": "2022-09-03T14:54:03.099Z"
   },
   {
    "duration": 10,
    "start_time": "2022-09-03T14:54:03.140Z"
   },
   {
    "duration": 11,
    "start_time": "2022-09-03T14:54:03.168Z"
   },
   {
    "duration": 8,
    "start_time": "2022-09-03T14:54:03.180Z"
   },
   {
    "duration": 27,
    "start_time": "2022-09-03T14:54:03.191Z"
   },
   {
    "duration": 14,
    "start_time": "2022-09-03T14:54:03.220Z"
   },
   {
    "duration": 9,
    "start_time": "2022-09-03T14:54:03.236Z"
   },
   {
    "duration": 113,
    "start_time": "2022-09-03T14:54:03.247Z"
   },
   {
    "duration": 19,
    "start_time": "2022-09-03T14:54:03.368Z"
   },
   {
    "duration": 25,
    "start_time": "2022-09-03T14:54:03.389Z"
   },
   {
    "duration": 137,
    "start_time": "2022-09-03T14:54:03.415Z"
   },
   {
    "duration": 6,
    "start_time": "2022-09-03T14:54:03.554Z"
   },
   {
    "duration": 27,
    "start_time": "2022-09-03T14:54:03.567Z"
   },
   {
    "duration": 9,
    "start_time": "2022-09-03T14:54:03.596Z"
   },
   {
    "duration": 4,
    "start_time": "2022-09-03T14:54:03.606Z"
   },
   {
    "duration": 17,
    "start_time": "2022-09-03T14:54:03.611Z"
   },
   {
    "duration": 392,
    "start_time": "2022-09-03T14:54:03.629Z"
   },
   {
    "duration": 7,
    "start_time": "2022-09-03T14:54:04.022Z"
   },
   {
    "duration": 7,
    "start_time": "2022-09-03T14:54:04.031Z"
   },
   {
    "duration": 362,
    "start_time": "2022-09-03T14:54:04.040Z"
   },
   {
    "duration": 12,
    "start_time": "2022-09-03T14:54:04.404Z"
   },
   {
    "duration": 23,
    "start_time": "2022-09-03T14:54:04.418Z"
   },
   {
    "duration": 42,
    "start_time": "2022-09-03T14:54:04.442Z"
   },
   {
    "duration": 204,
    "start_time": "2022-09-03T14:54:04.486Z"
   },
   {
    "duration": 13,
    "start_time": "2022-09-03T14:54:04.692Z"
   },
   {
    "duration": 77,
    "start_time": "2022-09-03T14:54:04.707Z"
   },
   {
    "duration": 7,
    "start_time": "2022-09-03T14:54:04.787Z"
   },
   {
    "duration": 18,
    "start_time": "2022-09-03T14:54:04.795Z"
   },
   {
    "duration": 217,
    "start_time": "2022-09-03T14:54:04.815Z"
   },
   {
    "duration": 10,
    "start_time": "2022-09-03T14:54:05.034Z"
   },
   {
    "duration": 25,
    "start_time": "2022-09-03T14:54:05.046Z"
   },
   {
    "duration": 51,
    "start_time": "2022-09-03T14:54:05.075Z"
   },
   {
    "duration": 50,
    "start_time": "2022-09-03T14:54:05.127Z"
   },
   {
    "duration": 21,
    "start_time": "2022-09-03T14:54:05.179Z"
   },
   {
    "duration": 233,
    "start_time": "2022-09-03T14:54:05.202Z"
   },
   {
    "duration": 31,
    "start_time": "2022-09-03T14:54:05.437Z"
   },
   {
    "duration": 22,
    "start_time": "2022-09-03T14:54:05.472Z"
   },
   {
    "duration": 7,
    "start_time": "2022-09-03T14:54:05.496Z"
   },
   {
    "duration": 8,
    "start_time": "2022-09-03T14:54:05.505Z"
   },
   {
    "duration": 5,
    "start_time": "2022-09-03T14:54:05.515Z"
   },
   {
    "duration": 5,
    "start_time": "2022-09-03T14:54:05.521Z"
   },
   {
    "duration": 5,
    "start_time": "2022-09-03T14:54:05.528Z"
   },
   {
    "duration": 4,
    "start_time": "2022-09-03T14:54:05.535Z"
   },
   {
    "duration": 40,
    "start_time": "2022-09-03T14:54:05.541Z"
   },
   {
    "duration": 12,
    "start_time": "2022-09-03T14:54:05.582Z"
   },
   {
    "duration": 746,
    "start_time": "2022-09-03T14:54:05.596Z"
   },
   {
    "duration": 122043,
    "start_time": "2022-09-03T14:54:06.344Z"
   },
   {
    "duration": 699,
    "start_time": "2022-09-03T14:56:08.388Z"
   },
   {
    "duration": 92,
    "start_time": "2022-09-03T14:56:09.089Z"
   },
   {
    "duration": 19,
    "start_time": "2022-09-03T14:56:09.183Z"
   },
   {
    "duration": 7,
    "start_time": "2022-09-03T14:56:09.204Z"
   },
   {
    "duration": 19,
    "start_time": "2022-09-03T14:56:09.213Z"
   },
   {
    "duration": 50,
    "start_time": "2022-09-03T14:56:09.234Z"
   },
   {
    "duration": 25,
    "start_time": "2022-09-03T14:56:09.286Z"
   },
   {
    "duration": 7,
    "start_time": "2022-09-03T14:56:09.312Z"
   },
   {
    "duration": 8,
    "start_time": "2022-09-03T14:56:09.321Z"
   },
   {
    "duration": 20,
    "start_time": "2022-09-03T14:56:09.331Z"
   },
   {
    "duration": 37,
    "start_time": "2022-09-03T14:56:09.368Z"
   },
   {
    "duration": 8,
    "start_time": "2022-09-03T14:56:09.406Z"
   },
   {
    "duration": 1542,
    "start_time": "2022-09-03T14:57:13.541Z"
   },
   {
    "duration": 252,
    "start_time": "2022-09-03T14:57:15.085Z"
   },
   {
    "duration": 13,
    "start_time": "2022-09-03T14:57:15.339Z"
   },
   {
    "duration": 8,
    "start_time": "2022-09-03T14:57:15.354Z"
   },
   {
    "duration": 35,
    "start_time": "2022-09-03T14:57:15.364Z"
   },
   {
    "duration": 9,
    "start_time": "2022-09-03T14:57:15.401Z"
   },
   {
    "duration": 15,
    "start_time": "2022-09-03T14:57:15.412Z"
   },
   {
    "duration": 46,
    "start_time": "2022-09-03T14:57:15.429Z"
   },
   {
    "duration": 129,
    "start_time": "2022-09-03T14:57:15.476Z"
   },
   {
    "duration": 38,
    "start_time": "2022-09-03T14:57:15.609Z"
   },
   {
    "duration": 36,
    "start_time": "2022-09-03T14:57:15.649Z"
   },
   {
    "duration": 13,
    "start_time": "2022-09-03T14:57:15.687Z"
   },
   {
    "duration": 7,
    "start_time": "2022-09-03T14:57:15.701Z"
   },
   {
    "duration": 28,
    "start_time": "2022-09-03T14:57:15.709Z"
   },
   {
    "duration": 14,
    "start_time": "2022-09-03T14:57:15.738Z"
   },
   {
    "duration": 10,
    "start_time": "2022-09-03T14:57:15.754Z"
   },
   {
    "duration": 97,
    "start_time": "2022-09-03T14:57:15.776Z"
   },
   {
    "duration": 20,
    "start_time": "2022-09-03T14:57:15.875Z"
   },
   {
    "duration": 24,
    "start_time": "2022-09-03T14:57:15.896Z"
   },
   {
    "duration": 122,
    "start_time": "2022-09-03T14:57:15.922Z"
   },
   {
    "duration": 7,
    "start_time": "2022-09-03T14:57:16.046Z"
   },
   {
    "duration": 33,
    "start_time": "2022-09-03T14:57:16.055Z"
   },
   {
    "duration": 9,
    "start_time": "2022-09-03T14:57:16.090Z"
   },
   {
    "duration": 7,
    "start_time": "2022-09-03T14:57:16.100Z"
   },
   {
    "duration": 16,
    "start_time": "2022-09-03T14:57:16.109Z"
   },
   {
    "duration": 441,
    "start_time": "2022-09-03T14:57:16.126Z"
   },
   {
    "duration": 11,
    "start_time": "2022-09-03T14:57:16.574Z"
   },
   {
    "duration": 13,
    "start_time": "2022-09-03T14:57:16.589Z"
   },
   {
    "duration": 406,
    "start_time": "2022-09-03T14:57:16.604Z"
   },
   {
    "duration": 12,
    "start_time": "2022-09-03T14:57:17.012Z"
   },
   {
    "duration": 23,
    "start_time": "2022-09-03T14:57:17.026Z"
   },
   {
    "duration": 15,
    "start_time": "2022-09-03T14:57:17.071Z"
   },
   {
    "duration": 218,
    "start_time": "2022-09-03T14:57:17.088Z"
   },
   {
    "duration": 12,
    "start_time": "2022-09-03T14:57:17.308Z"
   },
   {
    "duration": 65,
    "start_time": "2022-09-03T14:57:17.321Z"
   },
   {
    "duration": 8,
    "start_time": "2022-09-03T14:57:17.387Z"
   },
   {
    "duration": 15,
    "start_time": "2022-09-03T14:57:17.397Z"
   },
   {
    "duration": 235,
    "start_time": "2022-09-03T14:57:17.414Z"
   },
   {
    "duration": 17,
    "start_time": "2022-09-03T14:57:17.651Z"
   },
   {
    "duration": 12,
    "start_time": "2022-09-03T14:57:17.678Z"
   },
   {
    "duration": 61,
    "start_time": "2022-09-03T14:57:17.692Z"
   },
   {
    "duration": 31,
    "start_time": "2022-09-03T14:57:17.755Z"
   },
   {
    "duration": 21,
    "start_time": "2022-09-03T14:57:17.788Z"
   },
   {
    "duration": 256,
    "start_time": "2022-09-03T14:57:17.810Z"
   },
   {
    "duration": 30,
    "start_time": "2022-09-03T14:57:18.072Z"
   },
   {
    "duration": 19,
    "start_time": "2022-09-03T14:57:18.103Z"
   },
   {
    "duration": 6,
    "start_time": "2022-09-03T14:57:18.123Z"
   },
   {
    "duration": 4,
    "start_time": "2022-09-03T14:57:18.130Z"
   },
   {
    "duration": 5,
    "start_time": "2022-09-03T14:57:18.136Z"
   },
   {
    "duration": 4,
    "start_time": "2022-09-03T14:57:18.143Z"
   },
   {
    "duration": 35,
    "start_time": "2022-09-03T14:57:18.148Z"
   },
   {
    "duration": 3,
    "start_time": "2022-09-03T14:57:18.185Z"
   },
   {
    "duration": 15,
    "start_time": "2022-09-03T14:57:18.190Z"
   },
   {
    "duration": 11,
    "start_time": "2022-09-03T14:57:18.207Z"
   },
   {
    "duration": 692,
    "start_time": "2022-09-03T14:57:18.219Z"
   },
   {
    "duration": 122700,
    "start_time": "2022-09-03T14:57:18.912Z"
   },
   {
    "duration": 970,
    "start_time": "2022-09-03T14:59:21.614Z"
   },
   {
    "duration": 89,
    "start_time": "2022-09-03T14:59:22.587Z"
   },
   {
    "duration": 17,
    "start_time": "2022-09-03T14:59:22.679Z"
   },
   {
    "duration": 6,
    "start_time": "2022-09-03T14:59:22.698Z"
   },
   {
    "duration": 16,
    "start_time": "2022-09-03T14:59:22.706Z"
   },
   {
    "duration": 21,
    "start_time": "2022-09-03T14:59:22.724Z"
   },
   {
    "duration": 25,
    "start_time": "2022-09-03T14:59:22.776Z"
   },
   {
    "duration": 6,
    "start_time": "2022-09-03T14:59:22.802Z"
   },
   {
    "duration": 7,
    "start_time": "2022-09-03T14:59:22.809Z"
   },
   {
    "duration": 15,
    "start_time": "2022-09-03T14:59:22.818Z"
   },
   {
    "duration": 51,
    "start_time": "2022-09-03T14:59:22.834Z"
   },
   {
    "duration": 8,
    "start_time": "2022-09-03T14:59:22.887Z"
   },
   {
    "duration": 59,
    "start_time": "2022-09-03T15:04:36.593Z"
   },
   {
    "duration": 176,
    "start_time": "2022-09-03T15:04:46.427Z"
   },
   {
    "duration": 46,
    "start_time": "2022-09-03T15:06:51.019Z"
   },
   {
    "duration": 40,
    "start_time": "2022-09-03T15:08:03.349Z"
   },
   {
    "duration": 104,
    "start_time": "2022-09-03T15:10:07.898Z"
   },
   {
    "duration": 55,
    "start_time": "2022-09-03T15:10:14.784Z"
   },
   {
    "duration": 14,
    "start_time": "2022-09-03T15:12:53.718Z"
   },
   {
    "duration": 9,
    "start_time": "2022-09-03T15:13:19.245Z"
   },
   {
    "duration": 12,
    "start_time": "2022-09-03T15:13:57.830Z"
   },
   {
    "duration": 10,
    "start_time": "2022-09-03T15:14:03.796Z"
   },
   {
    "duration": 14,
    "start_time": "2022-09-03T15:14:08.809Z"
   },
   {
    "duration": 242,
    "start_time": "2022-09-03T15:14:14.886Z"
   },
   {
    "duration": 73869,
    "start_time": "2022-09-03T15:14:16.650Z"
   },
   {
    "duration": 718,
    "start_time": "2022-09-03T15:15:44.850Z"
   },
   {
    "duration": 14,
    "start_time": "2022-09-03T15:15:46.094Z"
   },
   {
    "duration": 13,
    "start_time": "2022-09-03T15:15:49.015Z"
   },
   {
    "duration": 7,
    "start_time": "2022-09-03T15:15:53.333Z"
   },
   {
    "duration": 2,
    "start_time": "2022-09-03T15:16:36.770Z"
   },
   {
    "duration": 2,
    "start_time": "2022-09-03T15:16:44.789Z"
   },
   {
    "duration": 3,
    "start_time": "2022-09-03T15:16:48.263Z"
   },
   {
    "duration": 9,
    "start_time": "2022-09-03T15:16:48.928Z"
   },
   {
    "duration": 18,
    "start_time": "2022-09-03T15:25:51.490Z"
   },
   {
    "duration": 7,
    "start_time": "2022-09-03T15:26:00.282Z"
   },
   {
    "duration": 7,
    "start_time": "2022-09-03T15:26:06.838Z"
   },
   {
    "duration": 8,
    "start_time": "2022-09-03T15:26:08.351Z"
   },
   {
    "duration": 12,
    "start_time": "2022-09-03T15:26:27.278Z"
   },
   {
    "duration": 12,
    "start_time": "2022-09-03T15:26:31.684Z"
   },
   {
    "duration": 1629,
    "start_time": "2022-09-03T15:27:01.782Z"
   },
   {
    "duration": 273,
    "start_time": "2022-09-03T15:27:03.413Z"
   },
   {
    "duration": 12,
    "start_time": "2022-09-03T15:27:03.688Z"
   },
   {
    "duration": 7,
    "start_time": "2022-09-03T15:27:03.701Z"
   },
   {
    "duration": 18,
    "start_time": "2022-09-03T15:27:03.711Z"
   },
   {
    "duration": 14,
    "start_time": "2022-09-03T15:27:03.731Z"
   },
   {
    "duration": 28,
    "start_time": "2022-09-03T15:27:03.746Z"
   },
   {
    "duration": 49,
    "start_time": "2022-09-03T15:27:03.775Z"
   },
   {
    "duration": 116,
    "start_time": "2022-09-03T15:27:03.825Z"
   },
   {
    "duration": 47,
    "start_time": "2022-09-03T15:27:03.942Z"
   },
   {
    "duration": 8,
    "start_time": "2022-09-03T15:27:03.991Z"
   },
   {
    "duration": 11,
    "start_time": "2022-09-03T15:27:04.000Z"
   },
   {
    "duration": 5,
    "start_time": "2022-09-03T15:27:04.012Z"
   },
   {
    "duration": 23,
    "start_time": "2022-09-03T15:27:04.021Z"
   },
   {
    "duration": 33,
    "start_time": "2022-09-03T15:27:04.046Z"
   },
   {
    "duration": 16,
    "start_time": "2022-09-03T15:27:04.081Z"
   },
   {
    "duration": 109,
    "start_time": "2022-09-03T15:27:04.099Z"
   },
   {
    "duration": 11,
    "start_time": "2022-09-03T15:27:04.210Z"
   },
   {
    "duration": 23,
    "start_time": "2022-09-03T15:27:04.222Z"
   },
   {
    "duration": 133,
    "start_time": "2022-09-03T15:27:04.247Z"
   },
   {
    "duration": 7,
    "start_time": "2022-09-03T15:27:04.382Z"
   },
   {
    "duration": 23,
    "start_time": "2022-09-03T15:27:04.390Z"
   },
   {
    "duration": 9,
    "start_time": "2022-09-03T15:27:04.414Z"
   },
   {
    "duration": 4,
    "start_time": "2022-09-03T15:27:04.425Z"
   },
   {
    "duration": 41,
    "start_time": "2022-09-03T15:27:04.431Z"
   },
   {
    "duration": 376,
    "start_time": "2022-09-03T15:27:04.474Z"
   },
   {
    "duration": 8,
    "start_time": "2022-09-03T15:27:04.851Z"
   },
   {
    "duration": 8,
    "start_time": "2022-09-03T15:27:04.869Z"
   },
   {
    "duration": 342,
    "start_time": "2022-09-03T15:27:04.880Z"
   },
   {
    "duration": 13,
    "start_time": "2022-09-03T15:27:05.224Z"
   },
   {
    "duration": 43,
    "start_time": "2022-09-03T15:27:05.239Z"
   },
   {
    "duration": 14,
    "start_time": "2022-09-03T15:27:05.284Z"
   },
   {
    "duration": 260,
    "start_time": "2022-09-03T15:27:05.300Z"
   },
   {
    "duration": 25,
    "start_time": "2022-09-03T15:27:05.562Z"
   },
   {
    "duration": 67,
    "start_time": "2022-09-03T15:27:05.589Z"
   },
   {
    "duration": 7,
    "start_time": "2022-09-03T15:27:05.658Z"
   },
   {
    "duration": 31,
    "start_time": "2022-09-03T15:27:05.669Z"
   },
   {
    "duration": 231,
    "start_time": "2022-09-03T15:27:05.702Z"
   },
   {
    "duration": 9,
    "start_time": "2022-09-03T15:27:05.935Z"
   },
   {
    "duration": 24,
    "start_time": "2022-09-03T15:27:05.945Z"
   },
   {
    "duration": 46,
    "start_time": "2022-09-03T15:27:05.981Z"
   },
   {
    "duration": 30,
    "start_time": "2022-09-03T15:27:06.029Z"
   },
   {
    "duration": 21,
    "start_time": "2022-09-03T15:27:06.071Z"
   },
   {
    "duration": 265,
    "start_time": "2022-09-03T15:27:06.094Z"
   },
   {
    "duration": 24,
    "start_time": "2022-09-03T15:27:06.369Z"
   },
   {
    "duration": 27,
    "start_time": "2022-09-03T15:27:06.395Z"
   },
   {
    "duration": 13,
    "start_time": "2022-09-03T15:27:06.424Z"
   },
   {
    "duration": 28,
    "start_time": "2022-09-03T15:27:06.439Z"
   },
   {
    "duration": 47,
    "start_time": "2022-09-03T15:27:06.469Z"
   },
   {
    "duration": 23,
    "start_time": "2022-09-03T15:27:06.518Z"
   },
   {
    "duration": 23,
    "start_time": "2022-09-03T15:27:06.543Z"
   },
   {
    "duration": 24,
    "start_time": "2022-09-03T15:27:06.570Z"
   },
   {
    "duration": 17,
    "start_time": "2022-09-03T15:27:06.596Z"
   },
   {
    "duration": 26,
    "start_time": "2022-09-03T15:27:06.615Z"
   },
   {
    "duration": 771,
    "start_time": "2022-09-03T15:27:06.643Z"
   },
   {
    "duration": 122311,
    "start_time": "2022-09-03T15:27:07.415Z"
   },
   {
    "duration": 556,
    "start_time": "2022-09-03T15:29:09.728Z"
   },
   {
    "duration": 90,
    "start_time": "2022-09-03T15:29:10.286Z"
   },
   {
    "duration": 29,
    "start_time": "2022-09-03T15:29:10.378Z"
   },
   {
    "duration": 8,
    "start_time": "2022-09-03T15:29:10.409Z"
   },
   {
    "duration": 14,
    "start_time": "2022-09-03T15:29:10.418Z"
   },
   {
    "duration": 45,
    "start_time": "2022-09-03T15:29:10.433Z"
   },
   {
    "duration": 28,
    "start_time": "2022-09-03T15:29:10.480Z"
   },
   {
    "duration": 8,
    "start_time": "2022-09-03T15:29:10.510Z"
   },
   {
    "duration": 7,
    "start_time": "2022-09-03T15:29:10.520Z"
   },
   {
    "duration": 19,
    "start_time": "2022-09-03T15:29:10.529Z"
   },
   {
    "duration": 47,
    "start_time": "2022-09-03T15:29:10.550Z"
   },
   {
    "duration": 8,
    "start_time": "2022-09-03T15:29:10.599Z"
   },
   {
    "duration": 20,
    "start_time": "2022-09-03T16:23:25.579Z"
   },
   {
    "duration": 79,
    "start_time": "2022-09-03T16:25:13.238Z"
   },
   {
    "duration": 13,
    "start_time": "2022-09-03T16:31:00.704Z"
   },
   {
    "duration": 249,
    "start_time": "2022-09-03T16:32:31.607Z"
   },
   {
    "duration": 128,
    "start_time": "2022-09-03T16:32:33.815Z"
   },
   {
    "duration": 1501,
    "start_time": "2022-09-03T16:32:50.877Z"
   },
   {
    "duration": 399,
    "start_time": "2022-09-03T16:32:52.380Z"
   },
   {
    "duration": 15,
    "start_time": "2022-09-03T16:32:52.781Z"
   },
   {
    "duration": 8,
    "start_time": "2022-09-03T16:32:52.798Z"
   },
   {
    "duration": 29,
    "start_time": "2022-09-03T16:32:52.808Z"
   },
   {
    "duration": 27,
    "start_time": "2022-09-03T16:32:52.840Z"
   },
   {
    "duration": 10,
    "start_time": "2022-09-03T16:32:52.869Z"
   },
   {
    "duration": 46,
    "start_time": "2022-09-03T16:32:52.880Z"
   },
   {
    "duration": 121,
    "start_time": "2022-09-03T16:32:52.928Z"
   },
   {
    "duration": 43,
    "start_time": "2022-09-03T16:32:53.051Z"
   },
   {
    "duration": 10,
    "start_time": "2022-09-03T16:32:53.096Z"
   },
   {
    "duration": 9,
    "start_time": "2022-09-03T16:32:53.108Z"
   },
   {
    "duration": 5,
    "start_time": "2022-09-03T16:32:53.119Z"
   },
   {
    "duration": 45,
    "start_time": "2022-09-03T16:32:53.125Z"
   },
   {
    "duration": 22,
    "start_time": "2022-09-03T16:32:53.172Z"
   },
   {
    "duration": 10,
    "start_time": "2022-09-03T16:32:53.197Z"
   },
   {
    "duration": 101,
    "start_time": "2022-09-03T16:32:53.209Z"
   },
   {
    "duration": 12,
    "start_time": "2022-09-03T16:32:53.311Z"
   },
   {
    "duration": 22,
    "start_time": "2022-09-03T16:32:53.325Z"
   },
   {
    "duration": 126,
    "start_time": "2022-09-03T16:32:53.349Z"
   },
   {
    "duration": 7,
    "start_time": "2022-09-03T16:32:53.477Z"
   },
   {
    "duration": 28,
    "start_time": "2022-09-03T16:32:53.485Z"
   },
   {
    "duration": 9,
    "start_time": "2022-09-03T16:32:53.516Z"
   },
   {
    "duration": 5,
    "start_time": "2022-09-03T16:32:53.527Z"
   },
   {
    "duration": 34,
    "start_time": "2022-09-03T16:32:53.534Z"
   },
   {
    "duration": 407,
    "start_time": "2022-09-03T16:32:53.570Z"
   },
   {
    "duration": 11,
    "start_time": "2022-09-03T16:32:53.979Z"
   },
   {
    "duration": 6,
    "start_time": "2022-09-03T16:32:53.995Z"
   },
   {
    "duration": 350,
    "start_time": "2022-09-03T16:32:54.003Z"
   },
   {
    "duration": 16,
    "start_time": "2022-09-03T16:32:54.354Z"
   },
   {
    "duration": 23,
    "start_time": "2022-09-03T16:32:54.371Z"
   },
   {
    "duration": 14,
    "start_time": "2022-09-03T16:32:54.396Z"
   },
   {
    "duration": 228,
    "start_time": "2022-09-03T16:32:54.412Z"
   },
   {
    "duration": 16,
    "start_time": "2022-09-03T16:32:54.641Z"
   },
   {
    "duration": 66,
    "start_time": "2022-09-03T16:32:54.668Z"
   },
   {
    "duration": 8,
    "start_time": "2022-09-03T16:32:54.736Z"
   },
   {
    "duration": 36,
    "start_time": "2022-09-03T16:32:54.745Z"
   },
   {
    "duration": 12,
    "start_time": "2022-09-03T16:32:54.782Z"
   },
   {
    "duration": 226,
    "start_time": "2022-09-03T16:32:54.795Z"
   },
   {
    "duration": 10,
    "start_time": "2022-09-03T16:32:55.023Z"
   },
   {
    "duration": 10,
    "start_time": "2022-09-03T16:32:55.035Z"
   },
   {
    "duration": 65,
    "start_time": "2022-09-03T16:32:55.047Z"
   },
   {
    "duration": 28,
    "start_time": "2022-09-03T16:32:55.114Z"
   },
   {
    "duration": 41,
    "start_time": "2022-09-03T16:32:55.143Z"
   },
   {
    "duration": 246,
    "start_time": "2022-09-03T16:32:55.185Z"
   },
   {
    "duration": 19,
    "start_time": "2022-09-03T16:32:55.433Z"
   },
   {
    "duration": 47,
    "start_time": "2022-09-03T16:32:55.454Z"
   },
   {
    "duration": 8,
    "start_time": "2022-09-03T16:32:55.504Z"
   },
   {
    "duration": 18,
    "start_time": "2022-09-03T16:32:55.514Z"
   },
   {
    "duration": 10,
    "start_time": "2022-09-03T16:32:55.534Z"
   },
   {
    "duration": 22,
    "start_time": "2022-09-03T16:32:55.547Z"
   },
   {
    "duration": 5,
    "start_time": "2022-09-03T16:32:55.571Z"
   },
   {
    "duration": 14,
    "start_time": "2022-09-03T16:32:55.578Z"
   },
   {
    "duration": 11,
    "start_time": "2022-09-03T16:32:55.594Z"
   },
   {
    "duration": 11,
    "start_time": "2022-09-03T16:32:55.606Z"
   },
   {
    "duration": 738,
    "start_time": "2022-09-03T16:32:55.619Z"
   },
   {
    "duration": 119605,
    "start_time": "2022-09-03T16:32:56.359Z"
   },
   {
    "duration": 526,
    "start_time": "2022-09-03T16:34:55.968Z"
   },
   {
    "duration": 101,
    "start_time": "2022-09-03T16:34:56.568Z"
   },
   {
    "duration": 50,
    "start_time": "2022-09-03T16:34:56.672Z"
   },
   {
    "duration": 18,
    "start_time": "2022-09-03T16:34:56.724Z"
   },
   {
    "duration": 30,
    "start_time": "2022-09-03T16:34:56.744Z"
   },
   {
    "duration": 34,
    "start_time": "2022-09-03T16:34:56.777Z"
   },
   {
    "duration": 32,
    "start_time": "2022-09-03T16:34:56.813Z"
   },
   {
    "duration": 21,
    "start_time": "2022-09-03T16:34:56.848Z"
   },
   {
    "duration": 13,
    "start_time": "2022-09-03T16:34:56.872Z"
   },
   {
    "duration": 25,
    "start_time": "2022-09-03T16:34:56.887Z"
   },
   {
    "duration": 66,
    "start_time": "2022-09-03T16:34:56.914Z"
   },
   {
    "duration": 11,
    "start_time": "2022-09-03T16:34:56.983Z"
   },
   {
    "duration": 26,
    "start_time": "2022-09-03T16:35:36.997Z"
   },
   {
    "duration": 7,
    "start_time": "2022-09-03T16:35:37.758Z"
   },
   {
    "duration": 150,
    "start_time": "2022-09-03T16:35:42.552Z"
   },
   {
    "duration": 5,
    "start_time": "2022-09-03T16:37:54.996Z"
   },
   {
    "duration": 20,
    "start_time": "2022-09-03T16:38:14.575Z"
   },
   {
    "duration": 1568,
    "start_time": "2022-09-03T16:39:23.166Z"
   },
   {
    "duration": 240,
    "start_time": "2022-09-03T16:39:24.736Z"
   },
   {
    "duration": 11,
    "start_time": "2022-09-03T16:39:24.978Z"
   },
   {
    "duration": 9,
    "start_time": "2022-09-03T16:39:24.990Z"
   },
   {
    "duration": 28,
    "start_time": "2022-09-03T16:39:25.001Z"
   },
   {
    "duration": 10,
    "start_time": "2022-09-03T16:39:25.030Z"
   },
   {
    "duration": 25,
    "start_time": "2022-09-03T16:39:25.042Z"
   },
   {
    "duration": 34,
    "start_time": "2022-09-03T16:39:25.069Z"
   },
   {
    "duration": 117,
    "start_time": "2022-09-03T16:39:25.105Z"
   },
   {
    "duration": 46,
    "start_time": "2022-09-03T16:39:25.223Z"
   },
   {
    "duration": 9,
    "start_time": "2022-09-03T16:39:25.270Z"
   },
   {
    "duration": 10,
    "start_time": "2022-09-03T16:39:25.281Z"
   },
   {
    "duration": 5,
    "start_time": "2022-09-03T16:39:25.292Z"
   },
   {
    "duration": 22,
    "start_time": "2022-09-03T16:39:25.300Z"
   },
   {
    "duration": 14,
    "start_time": "2022-09-03T16:39:25.324Z"
   },
   {
    "duration": 34,
    "start_time": "2022-09-03T16:39:25.340Z"
   },
   {
    "duration": 99,
    "start_time": "2022-09-03T16:39:25.376Z"
   },
   {
    "duration": 12,
    "start_time": "2022-09-03T16:39:25.476Z"
   },
   {
    "duration": 27,
    "start_time": "2022-09-03T16:39:25.490Z"
   },
   {
    "duration": 133,
    "start_time": "2022-09-03T16:39:25.518Z"
   },
   {
    "duration": 7,
    "start_time": "2022-09-03T16:39:25.652Z"
   },
   {
    "duration": 20,
    "start_time": "2022-09-03T16:39:25.667Z"
   },
   {
    "duration": 9,
    "start_time": "2022-09-03T16:39:25.689Z"
   },
   {
    "duration": 4,
    "start_time": "2022-09-03T16:39:25.699Z"
   },
   {
    "duration": 14,
    "start_time": "2022-09-03T16:39:25.705Z"
   },
   {
    "duration": 399,
    "start_time": "2022-09-03T16:39:25.720Z"
   },
   {
    "duration": 7,
    "start_time": "2022-09-03T16:39:26.120Z"
   },
   {
    "duration": 7,
    "start_time": "2022-09-03T16:39:26.128Z"
   },
   {
    "duration": 353,
    "start_time": "2022-09-03T16:39:26.136Z"
   },
   {
    "duration": 16,
    "start_time": "2022-09-03T16:39:26.491Z"
   },
   {
    "duration": 36,
    "start_time": "2022-09-03T16:39:26.509Z"
   },
   {
    "duration": 33,
    "start_time": "2022-09-03T16:39:26.548Z"
   },
   {
    "duration": 266,
    "start_time": "2022-09-03T16:39:26.583Z"
   },
   {
    "duration": 19,
    "start_time": "2022-09-03T16:39:26.851Z"
   },
   {
    "duration": 53,
    "start_time": "2022-09-03T16:39:26.872Z"
   },
   {
    "duration": 7,
    "start_time": "2022-09-03T16:39:26.926Z"
   },
   {
    "duration": 48,
    "start_time": "2022-09-03T16:39:26.935Z"
   },
   {
    "duration": 14,
    "start_time": "2022-09-03T16:39:26.985Z"
   },
   {
    "duration": 275,
    "start_time": "2022-09-03T16:39:27.001Z"
   },
   {
    "duration": 10,
    "start_time": "2022-09-03T16:39:27.278Z"
   },
   {
    "duration": 9,
    "start_time": "2022-09-03T16:39:27.292Z"
   },
   {
    "duration": 76,
    "start_time": "2022-09-03T16:39:27.302Z"
   },
   {
    "duration": 28,
    "start_time": "2022-09-03T16:39:27.379Z"
   },
   {
    "duration": 19,
    "start_time": "2022-09-03T16:39:27.409Z"
   },
   {
    "duration": 288,
    "start_time": "2022-09-03T16:39:27.430Z"
   },
   {
    "duration": 20,
    "start_time": "2022-09-03T16:39:27.719Z"
   },
   {
    "duration": 36,
    "start_time": "2022-09-03T16:39:27.740Z"
   },
   {
    "duration": 6,
    "start_time": "2022-09-03T16:39:27.778Z"
   },
   {
    "duration": 5,
    "start_time": "2022-09-03T16:39:27.785Z"
   },
   {
    "duration": 7,
    "start_time": "2022-09-03T16:39:27.792Z"
   },
   {
    "duration": 20,
    "start_time": "2022-09-03T16:39:27.800Z"
   },
   {
    "duration": 10,
    "start_time": "2022-09-03T16:39:27.821Z"
   },
   {
    "duration": 36,
    "start_time": "2022-09-03T16:39:27.832Z"
   },
   {
    "duration": 6,
    "start_time": "2022-09-03T16:39:27.869Z"
   },
   {
    "duration": 5,
    "start_time": "2022-09-03T16:39:27.876Z"
   },
   {
    "duration": 4,
    "start_time": "2022-09-03T16:39:27.883Z"
   },
   {
    "duration": 4,
    "start_time": "2022-09-03T16:39:27.889Z"
   },
   {
    "duration": 4,
    "start_time": "2022-09-03T16:39:27.895Z"
   },
   {
    "duration": 5,
    "start_time": "2022-09-03T16:39:27.900Z"
   },
   {
    "duration": 19,
    "start_time": "2022-09-03T16:39:27.906Z"
   },
   {
    "duration": 43,
    "start_time": "2022-09-03T16:39:27.927Z"
   },
   {
    "duration": 22,
    "start_time": "2022-09-03T16:39:27.972Z"
   },
   {
    "duration": 5,
    "start_time": "2022-09-03T16:39:27.996Z"
   },
   {
    "duration": 8,
    "start_time": "2022-09-03T16:39:28.003Z"
   },
   {
    "duration": 20,
    "start_time": "2022-09-03T16:39:28.012Z"
   },
   {
    "duration": 55,
    "start_time": "2022-09-03T16:39:28.033Z"
   },
   {
    "duration": 8,
    "start_time": "2022-09-03T16:39:28.089Z"
   },
   {
    "duration": 5,
    "start_time": "2022-09-03T16:46:13.940Z"
   },
   {
    "duration": 5,
    "start_time": "2022-09-03T16:46:42.859Z"
   },
   {
    "duration": 26,
    "start_time": "2022-09-03T16:46:55.241Z"
   },
   {
    "duration": 49,
    "start_time": "2022-09-03T16:50:55.561Z"
   },
   {
    "duration": 28,
    "start_time": "2022-09-03T16:51:05.586Z"
   },
   {
    "duration": 1794,
    "start_time": "2022-09-03T16:52:07.640Z"
   },
   {
    "duration": 475,
    "start_time": "2022-09-03T16:52:09.436Z"
   },
   {
    "duration": 13,
    "start_time": "2022-09-03T16:52:09.913Z"
   },
   {
    "duration": 9,
    "start_time": "2022-09-03T16:52:09.928Z"
   },
   {
    "duration": 21,
    "start_time": "2022-09-03T16:52:09.939Z"
   },
   {
    "duration": 12,
    "start_time": "2022-09-03T16:52:09.962Z"
   },
   {
    "duration": 35,
    "start_time": "2022-09-03T16:52:09.976Z"
   },
   {
    "duration": 43,
    "start_time": "2022-09-03T16:52:10.013Z"
   },
   {
    "duration": 150,
    "start_time": "2022-09-03T16:52:10.057Z"
   },
   {
    "duration": 44,
    "start_time": "2022-09-03T16:52:10.211Z"
   },
   {
    "duration": 22,
    "start_time": "2022-09-03T16:52:10.268Z"
   },
   {
    "duration": 20,
    "start_time": "2022-09-03T16:52:10.292Z"
   },
   {
    "duration": 6,
    "start_time": "2022-09-03T16:52:10.313Z"
   },
   {
    "duration": 28,
    "start_time": "2022-09-03T16:52:10.321Z"
   },
   {
    "duration": 36,
    "start_time": "2022-09-03T16:52:10.351Z"
   },
   {
    "duration": 18,
    "start_time": "2022-09-03T16:52:10.397Z"
   },
   {
    "duration": 122,
    "start_time": "2022-09-03T16:52:10.417Z"
   },
   {
    "duration": 13,
    "start_time": "2022-09-03T16:52:10.541Z"
   },
   {
    "duration": 47,
    "start_time": "2022-09-03T16:52:10.556Z"
   },
   {
    "duration": 132,
    "start_time": "2022-09-03T16:52:10.605Z"
   },
   {
    "duration": 7,
    "start_time": "2022-09-03T16:52:10.739Z"
   },
   {
    "duration": 51,
    "start_time": "2022-09-03T16:52:10.747Z"
   },
   {
    "duration": 9,
    "start_time": "2022-09-03T16:52:10.800Z"
   },
   {
    "duration": 4,
    "start_time": "2022-09-03T16:52:10.811Z"
   },
   {
    "duration": 15,
    "start_time": "2022-09-03T16:52:10.816Z"
   },
   {
    "duration": 409,
    "start_time": "2022-09-03T16:52:10.833Z"
   },
   {
    "duration": 7,
    "start_time": "2022-09-03T16:52:11.244Z"
   },
   {
    "duration": 27,
    "start_time": "2022-09-03T16:52:11.254Z"
   },
   {
    "duration": 450,
    "start_time": "2022-09-03T16:52:11.284Z"
   },
   {
    "duration": 12,
    "start_time": "2022-09-03T16:52:11.736Z"
   },
   {
    "duration": 50,
    "start_time": "2022-09-03T16:52:11.750Z"
   },
   {
    "duration": 17,
    "start_time": "2022-09-03T16:52:11.801Z"
   },
   {
    "duration": 241,
    "start_time": "2022-09-03T16:52:11.821Z"
   },
   {
    "duration": 22,
    "start_time": "2022-09-03T16:52:12.067Z"
   },
   {
    "duration": 54,
    "start_time": "2022-09-03T16:52:12.090Z"
   },
   {
    "duration": 25,
    "start_time": "2022-09-03T16:52:12.145Z"
   },
   {
    "duration": 23,
    "start_time": "2022-09-03T16:52:12.175Z"
   },
   {
    "duration": 17,
    "start_time": "2022-09-03T16:52:12.200Z"
   },
   {
    "duration": 251,
    "start_time": "2022-09-03T16:52:12.219Z"
   },
   {
    "duration": 21,
    "start_time": "2022-09-03T16:52:12.476Z"
   },
   {
    "duration": 31,
    "start_time": "2022-09-03T16:52:12.499Z"
   },
   {
    "duration": 65,
    "start_time": "2022-09-03T16:52:12.532Z"
   },
   {
    "duration": 32,
    "start_time": "2022-09-03T16:52:12.599Z"
   },
   {
    "duration": 20,
    "start_time": "2022-09-03T16:52:12.633Z"
   },
   {
    "duration": 307,
    "start_time": "2022-09-03T16:52:12.655Z"
   },
   {
    "duration": 38,
    "start_time": "2022-09-03T16:52:12.963Z"
   },
   {
    "duration": 27,
    "start_time": "2022-09-03T16:52:13.003Z"
   },
   {
    "duration": 7,
    "start_time": "2022-09-03T16:52:13.032Z"
   },
   {
    "duration": 4,
    "start_time": "2022-09-03T16:52:13.040Z"
   },
   {
    "duration": 61,
    "start_time": "2022-09-03T16:52:13.046Z"
   },
   {
    "duration": 6,
    "start_time": "2022-09-03T16:52:13.109Z"
   },
   {
    "duration": 20,
    "start_time": "2022-09-03T16:52:13.117Z"
   },
   {
    "duration": 11,
    "start_time": "2022-09-03T16:52:13.139Z"
   },
   {
    "duration": 187,
    "start_time": "2022-09-03T16:52:13.152Z"
   },
   {
    "duration": 0,
    "start_time": "2022-09-03T16:52:13.341Z"
   },
   {
    "duration": 0,
    "start_time": "2022-09-03T16:52:13.343Z"
   },
   {
    "duration": 0,
    "start_time": "2022-09-03T16:52:13.344Z"
   },
   {
    "duration": 0,
    "start_time": "2022-09-03T16:52:13.346Z"
   },
   {
    "duration": 0,
    "start_time": "2022-09-03T16:52:13.347Z"
   },
   {
    "duration": 0,
    "start_time": "2022-09-03T16:52:13.348Z"
   },
   {
    "duration": 0,
    "start_time": "2022-09-03T16:52:13.350Z"
   },
   {
    "duration": 0,
    "start_time": "2022-09-03T16:52:13.367Z"
   },
   {
    "duration": 0,
    "start_time": "2022-09-03T16:52:13.373Z"
   },
   {
    "duration": 0,
    "start_time": "2022-09-03T16:52:13.376Z"
   },
   {
    "duration": 0,
    "start_time": "2022-09-03T16:52:13.377Z"
   },
   {
    "duration": 0,
    "start_time": "2022-09-03T16:52:13.381Z"
   },
   {
    "duration": 0,
    "start_time": "2022-09-03T16:52:13.382Z"
   },
   {
    "duration": 0,
    "start_time": "2022-09-03T16:52:13.383Z"
   },
   {
    "duration": 5,
    "start_time": "2022-09-03T16:55:32.361Z"
   },
   {
    "duration": 9,
    "start_time": "2022-09-03T16:56:42.853Z"
   },
   {
    "duration": 6,
    "start_time": "2022-09-03T16:57:11.597Z"
   },
   {
    "duration": 5,
    "start_time": "2022-09-03T16:57:46.398Z"
   },
   {
    "duration": 17,
    "start_time": "2022-09-03T16:58:54.095Z"
   },
   {
    "duration": 1755,
    "start_time": "2022-09-03T16:59:06.728Z"
   },
   {
    "duration": 277,
    "start_time": "2022-09-03T16:59:08.497Z"
   },
   {
    "duration": 16,
    "start_time": "2022-09-03T16:59:08.777Z"
   },
   {
    "duration": 19,
    "start_time": "2022-09-03T16:59:08.794Z"
   },
   {
    "duration": 20,
    "start_time": "2022-09-03T16:59:08.815Z"
   },
   {
    "duration": 10,
    "start_time": "2022-09-03T16:59:08.837Z"
   },
   {
    "duration": 36,
    "start_time": "2022-09-03T16:59:08.867Z"
   },
   {
    "duration": 39,
    "start_time": "2022-09-03T16:59:08.905Z"
   },
   {
    "duration": 158,
    "start_time": "2022-09-03T16:59:08.945Z"
   },
   {
    "duration": 41,
    "start_time": "2022-09-03T16:59:09.106Z"
   },
   {
    "duration": 10,
    "start_time": "2022-09-03T16:59:09.149Z"
   },
   {
    "duration": 12,
    "start_time": "2022-09-03T16:59:09.161Z"
   },
   {
    "duration": 28,
    "start_time": "2022-09-03T16:59:09.178Z"
   },
   {
    "duration": 27,
    "start_time": "2022-09-03T16:59:09.210Z"
   },
   {
    "duration": 15,
    "start_time": "2022-09-03T16:59:09.240Z"
   },
   {
    "duration": 30,
    "start_time": "2022-09-03T16:59:09.257Z"
   },
   {
    "duration": 125,
    "start_time": "2022-09-03T16:59:09.292Z"
   },
   {
    "duration": 27,
    "start_time": "2022-09-03T16:59:09.419Z"
   },
   {
    "duration": 56,
    "start_time": "2022-09-03T16:59:09.448Z"
   },
   {
    "duration": 151,
    "start_time": "2022-09-03T16:59:09.506Z"
   },
   {
    "duration": 18,
    "start_time": "2022-09-03T16:59:09.658Z"
   },
   {
    "duration": 48,
    "start_time": "2022-09-03T16:59:09.686Z"
   },
   {
    "duration": 9,
    "start_time": "2022-09-03T16:59:09.736Z"
   },
   {
    "duration": 4,
    "start_time": "2022-09-03T16:59:09.747Z"
   },
   {
    "duration": 26,
    "start_time": "2022-09-03T16:59:09.753Z"
   },
   {
    "duration": 454,
    "start_time": "2022-09-03T16:59:09.782Z"
   },
   {
    "duration": 9,
    "start_time": "2022-09-03T16:59:10.238Z"
   },
   {
    "duration": 45,
    "start_time": "2022-09-03T16:59:10.248Z"
   },
   {
    "duration": 436,
    "start_time": "2022-09-03T16:59:10.295Z"
   },
   {
    "duration": 14,
    "start_time": "2022-09-03T16:59:10.733Z"
   },
   {
    "duration": 47,
    "start_time": "2022-09-03T16:59:10.749Z"
   },
   {
    "duration": 16,
    "start_time": "2022-09-03T16:59:10.799Z"
   },
   {
    "duration": 250,
    "start_time": "2022-09-03T16:59:10.817Z"
   },
   {
    "duration": 27,
    "start_time": "2022-09-03T16:59:11.073Z"
   },
   {
    "duration": 49,
    "start_time": "2022-09-03T16:59:11.103Z"
   },
   {
    "duration": 36,
    "start_time": "2022-09-03T16:59:11.154Z"
   },
   {
    "duration": 17,
    "start_time": "2022-09-03T16:59:11.205Z"
   },
   {
    "duration": 11,
    "start_time": "2022-09-03T16:59:11.223Z"
   },
   {
    "duration": 5,
    "start_time": "2022-09-03T16:59:11.236Z"
   },
   {
    "duration": 251,
    "start_time": "2022-09-03T16:59:11.243Z"
   },
   {
    "duration": 12,
    "start_time": "2022-09-03T16:59:11.504Z"
   },
   {
    "duration": 12,
    "start_time": "2022-09-03T16:59:11.519Z"
   },
   {
    "duration": 68,
    "start_time": "2022-09-03T16:59:11.533Z"
   },
   {
    "duration": 33,
    "start_time": "2022-09-03T16:59:11.604Z"
   },
   {
    "duration": 35,
    "start_time": "2022-09-03T16:59:11.639Z"
   },
   {
    "duration": 255,
    "start_time": "2022-09-03T16:59:11.686Z"
   },
   {
    "duration": 29,
    "start_time": "2022-09-03T16:59:11.942Z"
   },
   {
    "duration": 34,
    "start_time": "2022-09-03T16:59:11.973Z"
   },
   {
    "duration": 6,
    "start_time": "2022-09-03T16:59:12.009Z"
   },
   {
    "duration": 9,
    "start_time": "2022-09-03T16:59:12.016Z"
   },
   {
    "duration": 9,
    "start_time": "2022-09-03T16:59:12.027Z"
   },
   {
    "duration": 5,
    "start_time": "2022-09-03T16:59:12.038Z"
   },
   {
    "duration": 32,
    "start_time": "2022-09-03T16:59:12.045Z"
   },
   {
    "duration": 22,
    "start_time": "2022-09-03T16:59:12.080Z"
   },
   {
    "duration": 8,
    "start_time": "2022-09-03T16:59:12.104Z"
   },
   {
    "duration": 5,
    "start_time": "2022-09-03T16:59:12.113Z"
   },
   {
    "duration": 4,
    "start_time": "2022-09-03T16:59:12.120Z"
   },
   {
    "duration": 7,
    "start_time": "2022-09-03T16:59:12.126Z"
   },
   {
    "duration": 8,
    "start_time": "2022-09-03T16:59:12.135Z"
   },
   {
    "duration": 6,
    "start_time": "2022-09-03T16:59:12.144Z"
   },
   {
    "duration": 5,
    "start_time": "2022-09-03T16:59:12.152Z"
   },
   {
    "duration": 29,
    "start_time": "2022-09-03T16:59:12.159Z"
   },
   {
    "duration": 26,
    "start_time": "2022-09-03T16:59:12.190Z"
   },
   {
    "duration": 22,
    "start_time": "2022-09-03T16:59:12.218Z"
   },
   {
    "duration": 5,
    "start_time": "2022-09-03T16:59:12.242Z"
   },
   {
    "duration": 22,
    "start_time": "2022-09-03T16:59:12.249Z"
   },
   {
    "duration": 48,
    "start_time": "2022-09-03T16:59:12.273Z"
   },
   {
    "duration": 27,
    "start_time": "2022-09-03T16:59:12.322Z"
   },
   {
    "duration": 8,
    "start_time": "2022-09-03T16:59:12.350Z"
   },
   {
    "duration": 8,
    "start_time": "2022-09-03T17:05:25.052Z"
   },
   {
    "duration": 356,
    "start_time": "2022-09-03T17:05:27.997Z"
   },
   {
    "duration": 35,
    "start_time": "2022-09-03T17:05:36.726Z"
   },
   {
    "duration": 183,
    "start_time": "2022-09-03T17:05:39.360Z"
   },
   {
    "duration": 12,
    "start_time": "2022-09-03T17:05:49.426Z"
   },
   {
    "duration": 15,
    "start_time": "2022-09-03T17:05:53.133Z"
   },
   {
    "duration": 6,
    "start_time": "2022-09-03T17:05:55.642Z"
   },
   {
    "duration": 1644,
    "start_time": "2022-09-03T17:06:12.796Z"
   },
   {
    "duration": 319,
    "start_time": "2022-09-03T17:06:14.442Z"
   },
   {
    "duration": 28,
    "start_time": "2022-09-03T17:06:14.763Z"
   },
   {
    "duration": 14,
    "start_time": "2022-09-03T17:06:14.798Z"
   },
   {
    "duration": 21,
    "start_time": "2022-09-03T17:06:14.813Z"
   },
   {
    "duration": 10,
    "start_time": "2022-09-03T17:06:14.835Z"
   },
   {
    "duration": 10,
    "start_time": "2022-09-03T17:06:14.846Z"
   },
   {
    "duration": 43,
    "start_time": "2022-09-03T17:06:14.857Z"
   },
   {
    "duration": 144,
    "start_time": "2022-09-03T17:06:14.903Z"
   },
   {
    "duration": 59,
    "start_time": "2022-09-03T17:06:15.049Z"
   },
   {
    "duration": 9,
    "start_time": "2022-09-03T17:06:15.110Z"
   },
   {
    "duration": 15,
    "start_time": "2022-09-03T17:06:15.121Z"
   },
   {
    "duration": 3,
    "start_time": "2022-09-03T17:06:15.138Z"
   },
   {
    "duration": 41,
    "start_time": "2022-09-03T17:06:15.142Z"
   },
   {
    "duration": 17,
    "start_time": "2022-09-03T17:06:15.185Z"
   },
   {
    "duration": 17,
    "start_time": "2022-09-03T17:06:15.204Z"
   },
   {
    "duration": 117,
    "start_time": "2022-09-03T17:06:15.222Z"
   },
   {
    "duration": 17,
    "start_time": "2022-09-03T17:06:15.340Z"
   },
   {
    "duration": 32,
    "start_time": "2022-09-03T17:06:15.359Z"
   },
   {
    "duration": 128,
    "start_time": "2022-09-03T17:06:15.393Z"
   },
   {
    "duration": 8,
    "start_time": "2022-09-03T17:06:15.522Z"
   },
   {
    "duration": 37,
    "start_time": "2022-09-03T17:06:15.532Z"
   },
   {
    "duration": 13,
    "start_time": "2022-09-03T17:06:15.570Z"
   },
   {
    "duration": 17,
    "start_time": "2022-09-03T17:06:15.590Z"
   },
   {
    "duration": 19,
    "start_time": "2022-09-03T17:06:15.610Z"
   },
   {
    "duration": 416,
    "start_time": "2022-09-03T17:06:15.631Z"
   },
   {
    "duration": 8,
    "start_time": "2022-09-03T17:06:16.049Z"
   },
   {
    "duration": 11,
    "start_time": "2022-09-03T17:06:16.067Z"
   },
   {
    "duration": 396,
    "start_time": "2022-09-03T17:06:16.086Z"
   },
   {
    "duration": 24,
    "start_time": "2022-09-03T17:06:16.484Z"
   },
   {
    "duration": 37,
    "start_time": "2022-09-03T17:06:16.513Z"
   },
   {
    "duration": 37,
    "start_time": "2022-09-03T17:06:16.552Z"
   },
   {
    "duration": 324,
    "start_time": "2022-09-03T17:06:16.594Z"
   },
   {
    "duration": 13,
    "start_time": "2022-09-03T17:06:16.921Z"
   },
   {
    "duration": 77,
    "start_time": "2022-09-03T17:06:16.936Z"
   },
   {
    "duration": 9,
    "start_time": "2022-09-03T17:06:17.015Z"
   },
   {
    "duration": 17,
    "start_time": "2022-09-03T17:06:17.026Z"
   },
   {
    "duration": 45,
    "start_time": "2022-09-03T17:06:17.045Z"
   },
   {
    "duration": 8,
    "start_time": "2022-09-03T17:06:17.093Z"
   },
   {
    "duration": 241,
    "start_time": "2022-09-03T17:06:17.102Z"
   },
   {
    "duration": 9,
    "start_time": "2022-09-03T17:06:17.345Z"
   },
   {
    "duration": 15,
    "start_time": "2022-09-03T17:06:17.367Z"
   },
   {
    "duration": 57,
    "start_time": "2022-09-03T17:06:17.388Z"
   },
   {
    "duration": 39,
    "start_time": "2022-09-03T17:06:17.447Z"
   },
   {
    "duration": 28,
    "start_time": "2022-09-03T17:06:17.488Z"
   },
   {
    "duration": 286,
    "start_time": "2022-09-03T17:06:17.518Z"
   },
   {
    "duration": 17,
    "start_time": "2022-09-03T17:06:17.807Z"
   },
   {
    "duration": 21,
    "start_time": "2022-09-03T17:06:17.826Z"
   },
   {
    "duration": 6,
    "start_time": "2022-09-03T17:06:17.849Z"
   },
   {
    "duration": 31,
    "start_time": "2022-09-03T17:06:17.856Z"
   },
   {
    "duration": 12,
    "start_time": "2022-09-03T17:06:17.895Z"
   },
   {
    "duration": 8,
    "start_time": "2022-09-03T17:06:17.908Z"
   },
   {
    "duration": 17,
    "start_time": "2022-09-03T17:06:17.917Z"
   },
   {
    "duration": 17,
    "start_time": "2022-09-03T17:06:17.936Z"
   },
   {
    "duration": 3,
    "start_time": "2022-09-03T17:06:17.954Z"
   },
   {
    "duration": 15,
    "start_time": "2022-09-03T17:06:17.958Z"
   },
   {
    "duration": 351,
    "start_time": "2022-09-03T17:06:17.975Z"
   },
   {
    "duration": 22,
    "start_time": "2022-09-03T17:06:18.328Z"
   },
   {
    "duration": 24,
    "start_time": "2022-09-03T17:06:18.351Z"
   },
   {
    "duration": 27,
    "start_time": "2022-09-03T17:06:18.384Z"
   },
   {
    "duration": 5,
    "start_time": "2022-09-03T17:06:18.413Z"
   },
   {
    "duration": 17,
    "start_time": "2022-09-03T17:06:18.420Z"
   },
   {
    "duration": 24,
    "start_time": "2022-09-03T17:06:18.439Z"
   },
   {
    "duration": 133,
    "start_time": "2022-09-03T17:06:18.469Z"
   },
   {
    "duration": 6,
    "start_time": "2022-09-03T17:06:18.604Z"
   },
   {
    "duration": 8,
    "start_time": "2022-09-03T17:06:18.611Z"
   },
   {
    "duration": 20,
    "start_time": "2022-09-03T17:06:18.621Z"
   },
   {
    "duration": 52,
    "start_time": "2022-09-03T17:06:18.643Z"
   },
   {
    "duration": 10,
    "start_time": "2022-09-03T17:06:18.696Z"
   },
   {
    "duration": 2,
    "start_time": "2022-09-03T17:07:02.924Z"
   },
   {
    "duration": 2,
    "start_time": "2022-09-03T17:07:08.686Z"
   },
   {
    "duration": 17,
    "start_time": "2022-09-03T17:07:10.758Z"
   },
   {
    "duration": 26,
    "start_time": "2022-09-03T17:07:14.945Z"
   },
   {
    "duration": 2,
    "start_time": "2022-09-03T17:07:18.429Z"
   },
   {
    "duration": 8,
    "start_time": "2022-09-03T17:07:19.137Z"
   },
   {
    "duration": 361,
    "start_time": "2022-09-03T17:07:20.094Z"
   },
   {
    "duration": 1623,
    "start_time": "2022-09-03T17:07:33.138Z"
   },
   {
    "duration": 336,
    "start_time": "2022-09-03T17:07:34.768Z"
   },
   {
    "duration": 11,
    "start_time": "2022-09-03T17:07:35.106Z"
   },
   {
    "duration": 32,
    "start_time": "2022-09-03T17:07:35.120Z"
   },
   {
    "duration": 75,
    "start_time": "2022-09-03T17:07:35.154Z"
   },
   {
    "duration": 46,
    "start_time": "2022-09-03T17:07:35.230Z"
   },
   {
    "duration": 34,
    "start_time": "2022-09-03T17:07:35.277Z"
   },
   {
    "duration": 33,
    "start_time": "2022-09-03T17:07:35.312Z"
   },
   {
    "duration": 111,
    "start_time": "2022-09-03T17:07:35.347Z"
   },
   {
    "duration": 53,
    "start_time": "2022-09-03T17:07:35.460Z"
   },
   {
    "duration": 9,
    "start_time": "2022-09-03T17:07:35.515Z"
   },
   {
    "duration": 18,
    "start_time": "2022-09-03T17:07:35.526Z"
   },
   {
    "duration": 9,
    "start_time": "2022-09-03T17:07:35.546Z"
   },
   {
    "duration": 50,
    "start_time": "2022-09-03T17:07:35.556Z"
   },
   {
    "duration": 15,
    "start_time": "2022-09-03T17:07:35.607Z"
   },
   {
    "duration": 10,
    "start_time": "2022-09-03T17:07:35.623Z"
   },
   {
    "duration": 117,
    "start_time": "2022-09-03T17:07:35.634Z"
   },
   {
    "duration": 10,
    "start_time": "2022-09-03T17:07:35.753Z"
   },
   {
    "duration": 40,
    "start_time": "2022-09-03T17:07:35.770Z"
   },
   {
    "duration": 124,
    "start_time": "2022-09-03T17:07:35.812Z"
   },
   {
    "duration": 6,
    "start_time": "2022-09-03T17:07:35.938Z"
   },
   {
    "duration": 36,
    "start_time": "2022-09-03T17:07:35.945Z"
   },
   {
    "duration": 21,
    "start_time": "2022-09-03T17:07:35.983Z"
   },
   {
    "duration": 3,
    "start_time": "2022-09-03T17:07:36.006Z"
   },
   {
    "duration": 21,
    "start_time": "2022-09-03T17:07:36.011Z"
   },
   {
    "duration": 407,
    "start_time": "2022-09-03T17:07:36.034Z"
   },
   {
    "duration": 7,
    "start_time": "2022-09-03T17:07:36.443Z"
   },
   {
    "duration": 23,
    "start_time": "2022-09-03T17:07:36.453Z"
   },
   {
    "duration": 435,
    "start_time": "2022-09-03T17:07:36.478Z"
   },
   {
    "duration": 15,
    "start_time": "2022-09-03T17:07:36.915Z"
   },
   {
    "duration": 41,
    "start_time": "2022-09-03T17:07:36.932Z"
   },
   {
    "duration": 21,
    "start_time": "2022-09-03T17:07:36.975Z"
   },
   {
    "duration": 234,
    "start_time": "2022-09-03T17:07:37.001Z"
   },
   {
    "duration": 12,
    "start_time": "2022-09-03T17:07:37.236Z"
   },
   {
    "duration": 65,
    "start_time": "2022-09-03T17:07:37.250Z"
   },
   {
    "duration": 9,
    "start_time": "2022-09-03T17:07:37.318Z"
   },
   {
    "duration": 43,
    "start_time": "2022-09-03T17:07:37.329Z"
   },
   {
    "duration": 28,
    "start_time": "2022-09-03T17:07:37.374Z"
   },
   {
    "duration": 6,
    "start_time": "2022-09-03T17:07:37.403Z"
   },
   {
    "duration": 251,
    "start_time": "2022-09-03T17:07:37.410Z"
   },
   {
    "duration": 24,
    "start_time": "2022-09-03T17:07:37.662Z"
   },
   {
    "duration": 20,
    "start_time": "2022-09-03T17:07:37.687Z"
   },
   {
    "duration": 49,
    "start_time": "2022-09-03T17:07:37.709Z"
   },
   {
    "duration": 43,
    "start_time": "2022-09-03T17:07:37.760Z"
   },
   {
    "duration": 28,
    "start_time": "2022-09-03T17:07:37.806Z"
   },
   {
    "duration": 284,
    "start_time": "2022-09-03T17:07:37.836Z"
   },
   {
    "duration": 19,
    "start_time": "2022-09-03T17:07:38.122Z"
   },
   {
    "duration": 53,
    "start_time": "2022-09-03T17:07:38.142Z"
   },
   {
    "duration": 8,
    "start_time": "2022-09-03T17:07:38.197Z"
   },
   {
    "duration": 9,
    "start_time": "2022-09-03T17:07:38.206Z"
   },
   {
    "duration": 8,
    "start_time": "2022-09-03T17:07:38.216Z"
   },
   {
    "duration": 8,
    "start_time": "2022-09-03T17:07:38.225Z"
   },
   {
    "duration": 22,
    "start_time": "2022-09-03T17:07:38.234Z"
   },
   {
    "duration": 37,
    "start_time": "2022-09-03T17:07:38.258Z"
   },
   {
    "duration": 3,
    "start_time": "2022-09-03T17:07:38.298Z"
   },
   {
    "duration": 786,
    "start_time": "2022-09-03T17:07:38.302Z"
   },
   {
    "duration": 130246,
    "start_time": "2022-09-03T17:07:39.095Z"
   },
   {
    "duration": 960,
    "start_time": "2022-09-03T17:09:49.343Z"
   },
   {
    "duration": 23,
    "start_time": "2022-09-03T17:09:50.370Z"
   },
   {
    "duration": 31,
    "start_time": "2022-09-03T17:09:50.394Z"
   },
   {
    "duration": 10,
    "start_time": "2022-09-03T17:09:50.427Z"
   },
   {
    "duration": 19,
    "start_time": "2022-09-03T17:09:50.438Z"
   },
   {
    "duration": 43,
    "start_time": "2022-09-03T17:09:50.459Z"
   },
   {
    "duration": 23,
    "start_time": "2022-09-03T17:09:50.504Z"
   },
   {
    "duration": 6,
    "start_time": "2022-09-03T17:09:50.529Z"
   },
   {
    "duration": 6,
    "start_time": "2022-09-03T17:09:50.537Z"
   },
   {
    "duration": 40,
    "start_time": "2022-09-03T17:09:50.573Z"
   },
   {
    "duration": 30,
    "start_time": "2022-09-03T17:09:50.614Z"
   },
   {
    "duration": 8,
    "start_time": "2022-09-03T17:09:50.646Z"
   },
   {
    "duration": 1765,
    "start_time": "2022-09-03T17:11:03.355Z"
   },
   {
    "duration": 395,
    "start_time": "2022-09-03T17:11:05.122Z"
   },
   {
    "duration": 13,
    "start_time": "2022-09-03T17:11:05.518Z"
   },
   {
    "duration": 12,
    "start_time": "2022-09-03T17:11:05.534Z"
   },
   {
    "duration": 32,
    "start_time": "2022-09-03T17:11:05.548Z"
   },
   {
    "duration": 33,
    "start_time": "2022-09-03T17:11:05.582Z"
   },
   {
    "duration": 9,
    "start_time": "2022-09-03T17:11:05.617Z"
   },
   {
    "duration": 36,
    "start_time": "2022-09-03T17:11:05.628Z"
   },
   {
    "duration": 137,
    "start_time": "2022-09-03T17:11:05.668Z"
   },
   {
    "duration": 65,
    "start_time": "2022-09-03T17:11:05.809Z"
   },
   {
    "duration": 23,
    "start_time": "2022-09-03T17:11:05.876Z"
   },
   {
    "duration": 12,
    "start_time": "2022-09-03T17:11:05.901Z"
   },
   {
    "duration": 3,
    "start_time": "2022-09-03T17:11:05.916Z"
   },
   {
    "duration": 81,
    "start_time": "2022-09-03T17:11:05.922Z"
   },
   {
    "duration": 18,
    "start_time": "2022-09-03T17:11:06.006Z"
   },
   {
    "duration": 16,
    "start_time": "2022-09-03T17:11:06.025Z"
   },
   {
    "duration": 124,
    "start_time": "2022-09-03T17:11:06.042Z"
   },
   {
    "duration": 13,
    "start_time": "2022-09-03T17:11:06.170Z"
   },
   {
    "duration": 52,
    "start_time": "2022-09-03T17:11:06.188Z"
   },
   {
    "duration": 124,
    "start_time": "2022-09-03T17:11:06.242Z"
   },
   {
    "duration": 25,
    "start_time": "2022-09-03T17:11:06.374Z"
   },
   {
    "duration": 31,
    "start_time": "2022-09-03T17:11:06.401Z"
   },
   {
    "duration": 10,
    "start_time": "2022-09-03T17:11:06.433Z"
   },
   {
    "duration": 4,
    "start_time": "2022-09-03T17:11:06.445Z"
   },
   {
    "duration": 53,
    "start_time": "2022-09-03T17:11:06.450Z"
   },
   {
    "duration": 461,
    "start_time": "2022-09-03T17:11:06.512Z"
   },
   {
    "duration": 10,
    "start_time": "2022-09-03T17:11:06.975Z"
   },
   {
    "duration": 9,
    "start_time": "2022-09-03T17:11:06.989Z"
   },
   {
    "duration": 409,
    "start_time": "2022-09-03T17:11:07.000Z"
   },
   {
    "duration": 11,
    "start_time": "2022-09-03T17:11:07.411Z"
   },
   {
    "duration": 22,
    "start_time": "2022-09-03T17:11:07.424Z"
   },
   {
    "duration": 42,
    "start_time": "2022-09-03T17:11:07.448Z"
   },
   {
    "duration": 251,
    "start_time": "2022-09-03T17:11:07.492Z"
   },
   {
    "duration": 10,
    "start_time": "2022-09-03T17:11:07.745Z"
   },
   {
    "duration": 61,
    "start_time": "2022-09-03T17:11:07.767Z"
   },
   {
    "duration": 9,
    "start_time": "2022-09-03T17:11:07.830Z"
   },
   {
    "duration": 57,
    "start_time": "2022-09-03T17:11:07.841Z"
   },
   {
    "duration": 21,
    "start_time": "2022-09-03T17:11:07.900Z"
   },
   {
    "duration": 6,
    "start_time": "2022-09-03T17:11:07.922Z"
   },
   {
    "duration": 280,
    "start_time": "2022-09-03T17:11:07.929Z"
   },
   {
    "duration": 11,
    "start_time": "2022-09-03T17:11:08.210Z"
   },
   {
    "duration": 10,
    "start_time": "2022-09-03T17:11:08.223Z"
   },
   {
    "duration": 77,
    "start_time": "2022-09-03T17:11:08.234Z"
   },
   {
    "duration": 34,
    "start_time": "2022-09-03T17:11:08.314Z"
   },
   {
    "duration": 58,
    "start_time": "2022-09-03T17:11:08.350Z"
   },
   {
    "duration": 297,
    "start_time": "2022-09-03T17:11:08.410Z"
   },
   {
    "duration": 20,
    "start_time": "2022-09-03T17:11:08.708Z"
   },
   {
    "duration": 2,
    "start_time": "2022-09-03T17:11:08.729Z"
   },
   {
    "duration": 7,
    "start_time": "2022-09-03T17:11:08.733Z"
   },
   {
    "duration": 5,
    "start_time": "2022-09-03T17:11:08.742Z"
   },
   {
    "duration": 3,
    "start_time": "2022-09-03T17:11:08.773Z"
   },
   {
    "duration": 27,
    "start_time": "2022-09-03T17:11:08.777Z"
   },
   {
    "duration": 21,
    "start_time": "2022-09-03T17:11:08.806Z"
   },
   {
    "duration": 134,
    "start_time": "2022-09-03T17:11:08.829Z"
   },
   {
    "duration": 0,
    "start_time": "2022-09-03T17:11:08.967Z"
   },
   {
    "duration": 0,
    "start_time": "2022-09-03T17:11:08.968Z"
   },
   {
    "duration": 0,
    "start_time": "2022-09-03T17:11:08.969Z"
   },
   {
    "duration": 0,
    "start_time": "2022-09-03T17:11:08.970Z"
   },
   {
    "duration": 0,
    "start_time": "2022-09-03T17:11:08.970Z"
   },
   {
    "duration": 0,
    "start_time": "2022-09-03T17:11:08.971Z"
   },
   {
    "duration": 0,
    "start_time": "2022-09-03T17:11:08.972Z"
   },
   {
    "duration": 0,
    "start_time": "2022-09-03T17:11:08.972Z"
   },
   {
    "duration": 0,
    "start_time": "2022-09-03T17:11:08.973Z"
   },
   {
    "duration": 0,
    "start_time": "2022-09-03T17:11:08.973Z"
   },
   {
    "duration": 0,
    "start_time": "2022-09-03T17:11:08.974Z"
   },
   {
    "duration": 0,
    "start_time": "2022-09-03T17:11:08.975Z"
   },
   {
    "duration": 0,
    "start_time": "2022-09-03T17:11:08.975Z"
   },
   {
    "duration": 0,
    "start_time": "2022-09-03T17:11:08.977Z"
   },
   {
    "duration": 0,
    "start_time": "2022-09-03T17:11:08.978Z"
   },
   {
    "duration": 1817,
    "start_time": "2022-09-03T17:11:45.893Z"
   },
   {
    "duration": 438,
    "start_time": "2022-09-03T17:11:47.712Z"
   },
   {
    "duration": 12,
    "start_time": "2022-09-03T17:11:48.152Z"
   },
   {
    "duration": 37,
    "start_time": "2022-09-03T17:11:48.167Z"
   },
   {
    "duration": 18,
    "start_time": "2022-09-03T17:11:48.206Z"
   },
   {
    "duration": 11,
    "start_time": "2022-09-03T17:11:48.226Z"
   },
   {
    "duration": 9,
    "start_time": "2022-09-03T17:11:48.238Z"
   },
   {
    "duration": 50,
    "start_time": "2022-09-03T17:11:48.248Z"
   },
   {
    "duration": 124,
    "start_time": "2022-09-03T17:11:48.300Z"
   },
   {
    "duration": 50,
    "start_time": "2022-09-03T17:11:48.427Z"
   },
   {
    "duration": 18,
    "start_time": "2022-09-03T17:11:48.479Z"
   },
   {
    "duration": 15,
    "start_time": "2022-09-03T17:11:48.499Z"
   },
   {
    "duration": 10,
    "start_time": "2022-09-03T17:11:48.516Z"
   },
   {
    "duration": 30,
    "start_time": "2022-09-03T17:11:48.528Z"
   },
   {
    "duration": 23,
    "start_time": "2022-09-03T17:11:48.560Z"
   },
   {
    "duration": 32,
    "start_time": "2022-09-03T17:11:48.586Z"
   },
   {
    "duration": 123,
    "start_time": "2022-09-03T17:11:48.620Z"
   },
   {
    "duration": 13,
    "start_time": "2022-09-03T17:11:48.745Z"
   },
   {
    "duration": 48,
    "start_time": "2022-09-03T17:11:48.760Z"
   },
   {
    "duration": 122,
    "start_time": "2022-09-03T17:11:48.810Z"
   },
   {
    "duration": 7,
    "start_time": "2022-09-03T17:11:48.933Z"
   },
   {
    "duration": 57,
    "start_time": "2022-09-03T17:11:48.941Z"
   },
   {
    "duration": 10,
    "start_time": "2022-09-03T17:11:49.000Z"
   },
   {
    "duration": 5,
    "start_time": "2022-09-03T17:11:49.011Z"
   },
   {
    "duration": 14,
    "start_time": "2022-09-03T17:11:49.017Z"
   },
   {
    "duration": 406,
    "start_time": "2022-09-03T17:11:49.033Z"
   },
   {
    "duration": 8,
    "start_time": "2022-09-03T17:11:49.440Z"
   },
   {
    "duration": 22,
    "start_time": "2022-09-03T17:11:49.452Z"
   },
   {
    "duration": 416,
    "start_time": "2022-09-03T17:11:49.475Z"
   },
   {
    "duration": 18,
    "start_time": "2022-09-03T17:11:49.893Z"
   },
   {
    "duration": 25,
    "start_time": "2022-09-03T17:11:49.913Z"
   },
   {
    "duration": 29,
    "start_time": "2022-09-03T17:11:49.940Z"
   },
   {
    "duration": 283,
    "start_time": "2022-09-03T17:11:49.973Z"
   },
   {
    "duration": 43,
    "start_time": "2022-09-03T17:11:50.257Z"
   },
   {
    "duration": 51,
    "start_time": "2022-09-03T17:11:50.303Z"
   },
   {
    "duration": 8,
    "start_time": "2022-09-03T17:11:50.356Z"
   },
   {
    "duration": 47,
    "start_time": "2022-09-03T17:11:50.369Z"
   },
   {
    "duration": 21,
    "start_time": "2022-09-03T17:11:50.418Z"
   },
   {
    "duration": 6,
    "start_time": "2022-09-03T17:11:50.441Z"
   },
   {
    "duration": 257,
    "start_time": "2022-09-03T17:11:50.449Z"
   },
   {
    "duration": 11,
    "start_time": "2022-09-03T17:11:50.708Z"
   },
   {
    "duration": 21,
    "start_time": "2022-09-03T17:11:50.721Z"
   },
   {
    "duration": 73,
    "start_time": "2022-09-03T17:11:50.744Z"
   },
   {
    "duration": 32,
    "start_time": "2022-09-03T17:11:50.818Z"
   },
   {
    "duration": 54,
    "start_time": "2022-09-03T17:11:50.852Z"
   },
   {
    "duration": 305,
    "start_time": "2022-09-03T17:11:50.908Z"
   },
   {
    "duration": 21,
    "start_time": "2022-09-03T17:11:51.215Z"
   },
   {
    "duration": 3,
    "start_time": "2022-09-03T17:11:51.238Z"
   },
   {
    "duration": 5,
    "start_time": "2022-09-03T17:11:51.242Z"
   },
   {
    "duration": 10,
    "start_time": "2022-09-03T17:11:51.268Z"
   },
   {
    "duration": 13,
    "start_time": "2022-09-03T17:11:51.284Z"
   },
   {
    "duration": 10,
    "start_time": "2022-09-03T17:11:51.299Z"
   },
   {
    "duration": 20,
    "start_time": "2022-09-03T17:11:51.312Z"
   },
   {
    "duration": 12,
    "start_time": "2022-09-03T17:11:51.334Z"
   },
   {
    "duration": 2,
    "start_time": "2022-09-03T17:11:51.348Z"
   },
   {
    "duration": 788,
    "start_time": "2022-09-03T17:11:51.352Z"
   },
   {
    "duration": 132916,
    "start_time": "2022-09-03T17:11:52.142Z"
   },
   {
    "duration": 625,
    "start_time": "2022-09-03T17:14:05.059Z"
   },
   {
    "duration": 105,
    "start_time": "2022-09-03T17:14:05.689Z"
   },
   {
    "duration": 22,
    "start_time": "2022-09-03T17:14:05.796Z"
   },
   {
    "duration": 6,
    "start_time": "2022-09-03T17:14:05.820Z"
   },
   {
    "duration": 15,
    "start_time": "2022-09-03T17:14:05.828Z"
   },
   {
    "duration": 37,
    "start_time": "2022-09-03T17:14:05.845Z"
   },
   {
    "duration": 27,
    "start_time": "2022-09-03T17:14:05.885Z"
   },
   {
    "duration": 6,
    "start_time": "2022-09-03T17:14:05.915Z"
   },
   {
    "duration": 11,
    "start_time": "2022-09-03T17:14:05.923Z"
   },
   {
    "duration": 43,
    "start_time": "2022-09-03T17:14:05.936Z"
   },
   {
    "duration": 40,
    "start_time": "2022-09-03T17:14:05.981Z"
   },
   {
    "duration": 9,
    "start_time": "2022-09-03T17:14:06.023Z"
   },
   {
    "duration": 142,
    "start_time": "2022-09-03T17:19:45.689Z"
   },
   {
    "duration": 7,
    "start_time": "2022-09-03T17:21:09.349Z"
   },
   {
    "duration": 21,
    "start_time": "2022-09-03T17:21:12.206Z"
   },
   {
    "duration": 130211,
    "start_time": "2022-09-03T17:21:13.513Z"
   },
   {
    "duration": 868,
    "start_time": "2022-09-03T17:23:33.118Z"
   },
   {
    "duration": 0,
    "start_time": "2022-09-03T17:23:33.989Z"
   },
   {
    "duration": 1649,
    "start_time": "2022-09-03T17:23:50.808Z"
   },
   {
    "duration": 289,
    "start_time": "2022-09-03T17:23:52.460Z"
   },
   {
    "duration": 11,
    "start_time": "2022-09-03T17:23:52.751Z"
   },
   {
    "duration": 13,
    "start_time": "2022-09-03T17:23:52.763Z"
   },
   {
    "duration": 41,
    "start_time": "2022-09-03T17:23:52.779Z"
   },
   {
    "duration": 9,
    "start_time": "2022-09-03T17:23:52.822Z"
   },
   {
    "duration": 9,
    "start_time": "2022-09-03T17:23:52.832Z"
   },
   {
    "duration": 40,
    "start_time": "2022-09-03T17:23:52.842Z"
   },
   {
    "duration": 128,
    "start_time": "2022-09-03T17:23:52.884Z"
   },
   {
    "duration": 39,
    "start_time": "2022-09-03T17:23:53.014Z"
   },
   {
    "duration": 21,
    "start_time": "2022-09-03T17:23:53.073Z"
   },
   {
    "duration": 13,
    "start_time": "2022-09-03T17:23:53.096Z"
   },
   {
    "duration": 7,
    "start_time": "2022-09-03T17:23:53.111Z"
   },
   {
    "duration": 33,
    "start_time": "2022-09-03T17:23:53.120Z"
   },
   {
    "duration": 19,
    "start_time": "2022-09-03T17:23:53.154Z"
   },
   {
    "duration": 27,
    "start_time": "2022-09-03T17:23:53.176Z"
   },
   {
    "duration": 106,
    "start_time": "2022-09-03T17:23:53.205Z"
   },
   {
    "duration": 12,
    "start_time": "2022-09-03T17:23:53.313Z"
   },
   {
    "duration": 22,
    "start_time": "2022-09-03T17:23:53.327Z"
   },
   {
    "duration": 151,
    "start_time": "2022-09-03T17:23:53.350Z"
   },
   {
    "duration": 8,
    "start_time": "2022-09-03T17:23:53.505Z"
   },
   {
    "duration": 24,
    "start_time": "2022-09-03T17:23:53.514Z"
   },
   {
    "duration": 9,
    "start_time": "2022-09-03T17:23:53.539Z"
   },
   {
    "duration": 3,
    "start_time": "2022-09-03T17:23:53.550Z"
   },
   {
    "duration": 17,
    "start_time": "2022-09-03T17:23:53.572Z"
   },
   {
    "duration": 363,
    "start_time": "2022-09-03T17:23:53.590Z"
   },
   {
    "duration": 24,
    "start_time": "2022-09-03T17:23:53.955Z"
   },
   {
    "duration": 7,
    "start_time": "2022-09-03T17:23:53.981Z"
   },
   {
    "duration": 394,
    "start_time": "2022-09-03T17:23:53.990Z"
   },
   {
    "duration": 18,
    "start_time": "2022-09-03T17:23:54.386Z"
   },
   {
    "duration": 24,
    "start_time": "2022-09-03T17:23:54.406Z"
   },
   {
    "duration": 13,
    "start_time": "2022-09-03T17:23:54.432Z"
   },
   {
    "duration": 252,
    "start_time": "2022-09-03T17:23:54.473Z"
   },
   {
    "duration": 11,
    "start_time": "2022-09-03T17:23:54.727Z"
   },
   {
    "duration": 80,
    "start_time": "2022-09-03T17:23:54.740Z"
   },
   {
    "duration": 7,
    "start_time": "2022-09-03T17:23:54.822Z"
   },
   {
    "duration": 22,
    "start_time": "2022-09-03T17:23:54.830Z"
   },
   {
    "duration": 33,
    "start_time": "2022-09-03T17:23:54.854Z"
   },
   {
    "duration": 24,
    "start_time": "2022-09-03T17:23:54.888Z"
   },
   {
    "duration": 247,
    "start_time": "2022-09-03T17:23:54.914Z"
   },
   {
    "duration": 21,
    "start_time": "2022-09-03T17:23:55.167Z"
   },
   {
    "duration": 26,
    "start_time": "2022-09-03T17:23:55.190Z"
   },
   {
    "duration": 45,
    "start_time": "2022-09-03T17:23:55.218Z"
   },
   {
    "duration": 42,
    "start_time": "2022-09-03T17:23:55.265Z"
   },
   {
    "duration": 21,
    "start_time": "2022-09-03T17:23:55.309Z"
   },
   {
    "duration": 269,
    "start_time": "2022-09-03T17:23:55.332Z"
   },
   {
    "duration": 19,
    "start_time": "2022-09-03T17:23:55.603Z"
   },
   {
    "duration": 2,
    "start_time": "2022-09-03T17:23:55.624Z"
   },
   {
    "duration": 14,
    "start_time": "2022-09-03T17:23:55.628Z"
   },
   {
    "duration": 14,
    "start_time": "2022-09-03T17:23:55.644Z"
   },
   {
    "duration": 52,
    "start_time": "2022-09-03T17:23:55.660Z"
   },
   {
    "duration": 5,
    "start_time": "2022-09-03T17:23:55.714Z"
   },
   {
    "duration": 25,
    "start_time": "2022-09-03T17:23:55.721Z"
   },
   {
    "duration": 12,
    "start_time": "2022-09-03T17:23:55.748Z"
   },
   {
    "duration": 48,
    "start_time": "2022-09-03T17:23:55.762Z"
   },
   {
    "duration": 759,
    "start_time": "2022-09-03T17:23:55.812Z"
   },
   {
    "duration": 127112,
    "start_time": "2022-09-03T17:23:56.573Z"
   },
   {
    "duration": 786,
    "start_time": "2022-09-03T17:26:03.687Z"
   },
   {
    "duration": 17,
    "start_time": "2022-09-03T17:26:04.474Z"
   },
   {
    "duration": 22,
    "start_time": "2022-09-03T17:26:04.494Z"
   },
   {
    "duration": 6,
    "start_time": "2022-09-03T17:26:04.518Z"
   },
   {
    "duration": 17,
    "start_time": "2022-09-03T17:26:04.526Z"
   },
   {
    "duration": 44,
    "start_time": "2022-09-03T17:26:04.545Z"
   },
   {
    "duration": 25,
    "start_time": "2022-09-03T17:26:04.590Z"
   },
   {
    "duration": 5,
    "start_time": "2022-09-03T17:26:04.617Z"
   },
   {
    "duration": 6,
    "start_time": "2022-09-03T17:26:04.624Z"
   },
   {
    "duration": 40,
    "start_time": "2022-09-03T17:26:04.632Z"
   },
   {
    "duration": 38,
    "start_time": "2022-09-03T17:26:04.675Z"
   },
   {
    "duration": 9,
    "start_time": "2022-09-03T17:26:04.714Z"
   },
   {
    "duration": 1130,
    "start_time": "2022-09-03T17:59:18.272Z"
   },
   {
    "duration": 74,
    "start_time": "2022-09-03T17:59:19.404Z"
   },
   {
    "duration": 16,
    "start_time": "2022-09-03T17:59:22.205Z"
   },
   {
    "duration": 9,
    "start_time": "2022-09-03T17:59:24.685Z"
   },
   {
    "duration": 799,
    "start_time": "2022-09-03T18:00:17.293Z"
   },
   {
    "duration": 12,
    "start_time": "2022-09-03T18:00:18.432Z"
   },
   {
    "duration": 13,
    "start_time": "2022-09-03T18:00:21.328Z"
   },
   {
    "duration": 7,
    "start_time": "2022-09-03T18:00:23.821Z"
   },
   {
    "duration": 1720,
    "start_time": "2022-09-03T18:03:24.041Z"
   },
   {
    "duration": 354,
    "start_time": "2022-09-03T18:03:25.763Z"
   },
   {
    "duration": 15,
    "start_time": "2022-09-03T18:03:26.119Z"
   },
   {
    "duration": 9,
    "start_time": "2022-09-03T18:03:26.136Z"
   },
   {
    "duration": 20,
    "start_time": "2022-09-03T18:03:26.146Z"
   },
   {
    "duration": 14,
    "start_time": "2022-09-03T18:03:26.168Z"
   },
   {
    "duration": 13,
    "start_time": "2022-09-03T18:03:26.184Z"
   },
   {
    "duration": 33,
    "start_time": "2022-09-03T18:03:26.199Z"
   },
   {
    "duration": 137,
    "start_time": "2022-09-03T18:03:26.233Z"
   },
   {
    "duration": 44,
    "start_time": "2022-09-03T18:03:26.374Z"
   },
   {
    "duration": 9,
    "start_time": "2022-09-03T18:03:26.420Z"
   },
   {
    "duration": 11,
    "start_time": "2022-09-03T18:03:26.431Z"
   },
   {
    "duration": 33,
    "start_time": "2022-09-03T18:03:26.443Z"
   },
   {
    "duration": 46,
    "start_time": "2022-09-03T18:03:26.483Z"
   },
   {
    "duration": 24,
    "start_time": "2022-09-03T18:03:26.531Z"
   },
   {
    "duration": 20,
    "start_time": "2022-09-03T18:03:26.557Z"
   },
   {
    "duration": 158,
    "start_time": "2022-09-03T18:03:26.579Z"
   },
   {
    "duration": 11,
    "start_time": "2022-09-03T18:03:26.739Z"
   },
   {
    "duration": 39,
    "start_time": "2022-09-03T18:03:26.751Z"
   },
   {
    "duration": 134,
    "start_time": "2022-09-03T18:03:26.793Z"
   },
   {
    "duration": 6,
    "start_time": "2022-09-03T18:03:26.929Z"
   },
   {
    "duration": 40,
    "start_time": "2022-09-03T18:03:26.937Z"
   },
   {
    "duration": 14,
    "start_time": "2022-09-03T18:03:26.980Z"
   },
   {
    "duration": 6,
    "start_time": "2022-09-03T18:03:26.995Z"
   },
   {
    "duration": 17,
    "start_time": "2022-09-03T18:03:27.003Z"
   },
   {
    "duration": 438,
    "start_time": "2022-09-03T18:03:27.021Z"
   },
   {
    "duration": 12,
    "start_time": "2022-09-03T18:03:27.460Z"
   },
   {
    "duration": 17,
    "start_time": "2022-09-03T18:03:27.476Z"
   },
   {
    "duration": 385,
    "start_time": "2022-09-03T18:03:27.495Z"
   },
   {
    "duration": 15,
    "start_time": "2022-09-03T18:03:27.882Z"
   },
   {
    "duration": 25,
    "start_time": "2022-09-03T18:03:27.898Z"
   },
   {
    "duration": 17,
    "start_time": "2022-09-03T18:03:27.924Z"
   },
   {
    "duration": 234,
    "start_time": "2022-09-03T18:03:27.967Z"
   },
   {
    "duration": 12,
    "start_time": "2022-09-03T18:03:28.203Z"
   },
   {
    "duration": 64,
    "start_time": "2022-09-03T18:03:28.216Z"
   },
   {
    "duration": 8,
    "start_time": "2022-09-03T18:03:28.282Z"
   },
   {
    "duration": 22,
    "start_time": "2022-09-03T18:03:28.292Z"
   },
   {
    "duration": 12,
    "start_time": "2022-09-03T18:03:28.316Z"
   },
   {
    "duration": 6,
    "start_time": "2022-09-03T18:03:28.330Z"
   },
   {
    "duration": 253,
    "start_time": "2022-09-03T18:03:28.374Z"
   },
   {
    "duration": 11,
    "start_time": "2022-09-03T18:03:28.629Z"
   },
   {
    "duration": 11,
    "start_time": "2022-09-03T18:03:28.642Z"
   },
   {
    "duration": 64,
    "start_time": "2022-09-03T18:03:28.668Z"
   },
   {
    "duration": 62,
    "start_time": "2022-09-03T18:03:28.733Z"
   },
   {
    "duration": 20,
    "start_time": "2022-09-03T18:03:28.798Z"
   },
   {
    "duration": 271,
    "start_time": "2022-09-03T18:03:28.820Z"
   },
   {
    "duration": 20,
    "start_time": "2022-09-03T18:03:29.093Z"
   },
   {
    "duration": 3,
    "start_time": "2022-09-03T18:03:29.114Z"
   },
   {
    "duration": 11,
    "start_time": "2022-09-03T18:03:29.118Z"
   },
   {
    "duration": 5,
    "start_time": "2022-09-03T18:03:29.131Z"
   },
   {
    "duration": 8,
    "start_time": "2022-09-03T18:03:29.137Z"
   },
   {
    "duration": 5,
    "start_time": "2022-09-03T18:03:29.147Z"
   },
   {
    "duration": 24,
    "start_time": "2022-09-03T18:03:29.168Z"
   },
   {
    "duration": 10,
    "start_time": "2022-09-03T18:03:29.193Z"
   },
   {
    "duration": 27,
    "start_time": "2022-09-03T18:03:29.205Z"
   },
   {
    "duration": 708,
    "start_time": "2022-09-03T18:03:29.234Z"
   },
   {
    "duration": 123733,
    "start_time": "2022-09-03T18:03:29.943Z"
   },
   {
    "duration": 590,
    "start_time": "2022-09-03T18:05:33.678Z"
   },
   {
    "duration": 100,
    "start_time": "2022-09-03T18:05:34.270Z"
   },
   {
    "duration": 16,
    "start_time": "2022-09-03T18:05:34.373Z"
   },
   {
    "duration": 11,
    "start_time": "2022-09-03T18:05:34.391Z"
   },
   {
    "duration": 15,
    "start_time": "2022-09-03T18:05:34.404Z"
   },
   {
    "duration": 20,
    "start_time": "2022-09-03T18:05:34.421Z"
   },
   {
    "duration": 47,
    "start_time": "2022-09-03T18:05:34.442Z"
   },
   {
    "duration": 6,
    "start_time": "2022-09-03T18:05:34.491Z"
   },
   {
    "duration": 7,
    "start_time": "2022-09-03T18:05:34.499Z"
   },
   {
    "duration": 24,
    "start_time": "2022-09-03T18:05:34.507Z"
   },
   {
    "duration": 58,
    "start_time": "2022-09-03T18:05:34.532Z"
   },
   {
    "duration": 11,
    "start_time": "2022-09-03T18:05:34.592Z"
   },
   {
    "duration": 1523,
    "start_time": "2022-09-03T18:17:29.698Z"
   },
   {
    "duration": 11,
    "start_time": "2022-09-03T18:17:49.794Z"
   },
   {
    "duration": 5,
    "start_time": "2022-09-03T18:17:56.346Z"
   },
   {
    "duration": 6,
    "start_time": "2022-09-03T18:18:31.950Z"
   },
   {
    "duration": 11,
    "start_time": "2022-09-03T18:21:35.192Z"
   },
   {
    "duration": 17,
    "start_time": "2022-09-03T18:24:02.763Z"
   },
   {
    "duration": 31,
    "start_time": "2022-09-03T18:24:16.260Z"
   },
   {
    "duration": 27,
    "start_time": "2022-09-03T18:24:29.292Z"
   },
   {
    "duration": 1529,
    "start_time": "2022-09-03T18:27:14.493Z"
   },
   {
    "duration": 267,
    "start_time": "2022-09-03T18:27:16.026Z"
   },
   {
    "duration": 11,
    "start_time": "2022-09-03T18:27:16.295Z"
   },
   {
    "duration": 7,
    "start_time": "2022-09-03T18:27:16.308Z"
   },
   {
    "duration": 17,
    "start_time": "2022-09-03T18:27:16.317Z"
   },
   {
    "duration": 8,
    "start_time": "2022-09-03T18:27:16.336Z"
   },
   {
    "duration": 7,
    "start_time": "2022-09-03T18:27:16.346Z"
   },
   {
    "duration": 46,
    "start_time": "2022-09-03T18:27:16.354Z"
   },
   {
    "duration": 125,
    "start_time": "2022-09-03T18:27:16.401Z"
   },
   {
    "duration": 60,
    "start_time": "2022-09-03T18:27:16.531Z"
   },
   {
    "duration": 12,
    "start_time": "2022-09-03T18:27:16.593Z"
   },
   {
    "duration": 11,
    "start_time": "2022-09-03T18:27:16.607Z"
   },
   {
    "duration": 5,
    "start_time": "2022-09-03T18:27:16.620Z"
   },
   {
    "duration": 43,
    "start_time": "2022-09-03T18:27:16.627Z"
   },
   {
    "duration": 21,
    "start_time": "2022-09-03T18:27:16.677Z"
   },
   {
    "duration": 33,
    "start_time": "2022-09-03T18:27:16.700Z"
   },
   {
    "duration": 105,
    "start_time": "2022-09-03T18:27:16.735Z"
   },
   {
    "duration": 15,
    "start_time": "2022-09-03T18:27:16.842Z"
   },
   {
    "duration": 36,
    "start_time": "2022-09-03T18:27:16.859Z"
   },
   {
    "duration": 126,
    "start_time": "2022-09-03T18:27:16.900Z"
   },
   {
    "duration": 6,
    "start_time": "2022-09-03T18:27:17.028Z"
   },
   {
    "duration": 45,
    "start_time": "2022-09-03T18:27:17.036Z"
   },
   {
    "duration": 8,
    "start_time": "2022-09-03T18:27:17.084Z"
   },
   {
    "duration": 3,
    "start_time": "2022-09-03T18:27:17.094Z"
   },
   {
    "duration": 23,
    "start_time": "2022-09-03T18:27:17.099Z"
   },
   {
    "duration": 397,
    "start_time": "2022-09-03T18:27:17.124Z"
   },
   {
    "duration": 8,
    "start_time": "2022-09-03T18:27:17.523Z"
   },
   {
    "duration": 5,
    "start_time": "2022-09-03T18:27:17.536Z"
   },
   {
    "duration": 363,
    "start_time": "2022-09-03T18:27:17.543Z"
   },
   {
    "duration": 12,
    "start_time": "2022-09-03T18:27:17.909Z"
   },
   {
    "duration": 23,
    "start_time": "2022-09-03T18:27:17.923Z"
   },
   {
    "duration": 37,
    "start_time": "2022-09-03T18:27:17.948Z"
   },
   {
    "duration": 218,
    "start_time": "2022-09-03T18:27:17.988Z"
   },
   {
    "duration": 12,
    "start_time": "2022-09-03T18:27:18.208Z"
   },
   {
    "duration": 63,
    "start_time": "2022-09-03T18:27:18.222Z"
   },
   {
    "duration": 7,
    "start_time": "2022-09-03T18:27:18.287Z"
   },
   {
    "duration": 18,
    "start_time": "2022-09-03T18:27:18.295Z"
   },
   {
    "duration": 12,
    "start_time": "2022-09-03T18:27:18.314Z"
   },
   {
    "duration": 5,
    "start_time": "2022-09-03T18:27:18.327Z"
   },
   {
    "duration": 240,
    "start_time": "2022-09-03T18:27:18.334Z"
   },
   {
    "duration": 15,
    "start_time": "2022-09-03T18:27:18.581Z"
   },
   {
    "duration": 9,
    "start_time": "2022-09-03T18:27:18.598Z"
   },
   {
    "duration": 66,
    "start_time": "2022-09-03T18:27:18.609Z"
   },
   {
    "duration": 32,
    "start_time": "2022-09-03T18:27:18.677Z"
   },
   {
    "duration": 19,
    "start_time": "2022-09-03T18:27:18.710Z"
   },
   {
    "duration": 260,
    "start_time": "2022-09-03T18:27:18.731Z"
   },
   {
    "duration": 27,
    "start_time": "2022-09-03T18:27:18.992Z"
   },
   {
    "duration": 3,
    "start_time": "2022-09-03T18:27:19.021Z"
   },
   {
    "duration": 5,
    "start_time": "2022-09-03T18:27:19.025Z"
   },
   {
    "duration": 3,
    "start_time": "2022-09-03T18:27:19.032Z"
   },
   {
    "duration": 7,
    "start_time": "2022-09-03T18:27:19.037Z"
   },
   {
    "duration": 25,
    "start_time": "2022-09-03T18:27:19.045Z"
   },
   {
    "duration": 25,
    "start_time": "2022-09-03T18:27:19.072Z"
   },
   {
    "duration": 9,
    "start_time": "2022-09-03T18:27:19.099Z"
   },
   {
    "duration": 7,
    "start_time": "2022-09-03T18:27:19.110Z"
   },
   {
    "duration": 680,
    "start_time": "2022-09-03T18:27:19.118Z"
   },
   {
    "duration": 115277,
    "start_time": "2022-09-03T18:27:19.799Z"
   },
   {
    "duration": 594,
    "start_time": "2022-09-03T18:29:15.079Z"
   },
   {
    "duration": 100,
    "start_time": "2022-09-03T18:29:15.675Z"
   },
   {
    "duration": 12,
    "start_time": "2022-09-03T18:29:15.780Z"
   },
   {
    "duration": 6,
    "start_time": "2022-09-03T18:29:15.794Z"
   },
   {
    "duration": 27,
    "start_time": "2022-09-03T18:29:15.802Z"
   },
   {
    "duration": 2,
    "start_time": "2022-09-03T18:29:15.830Z"
   },
   {
    "duration": 48,
    "start_time": "2022-09-03T18:29:15.834Z"
   },
   {
    "duration": 18,
    "start_time": "2022-09-03T18:29:15.884Z"
   },
   {
    "duration": 22,
    "start_time": "2022-09-03T18:29:15.903Z"
   },
   {
    "duration": 7,
    "start_time": "2022-09-03T18:29:15.926Z"
   },
   {
    "duration": 8,
    "start_time": "2022-09-03T18:29:15.934Z"
   },
   {
    "duration": 39,
    "start_time": "2022-09-03T18:29:15.943Z"
   },
   {
    "duration": 27,
    "start_time": "2022-09-03T18:29:15.984Z"
   },
   {
    "duration": 11,
    "start_time": "2022-09-03T18:29:16.013Z"
   },
   {
    "duration": 12,
    "start_time": "2022-09-03T18:30:16.438Z"
   },
   {
    "duration": 12,
    "start_time": "2022-09-03T18:31:57.556Z"
   },
   {
    "duration": 18,
    "start_time": "2022-09-03T18:34:50.187Z"
   },
   {
    "duration": 298,
    "start_time": "2022-09-03T18:36:46.097Z"
   },
   {
    "duration": 8,
    "start_time": "2022-09-03T18:38:24.322Z"
   },
   {
    "duration": 14,
    "start_time": "2022-09-03T18:39:10.453Z"
   },
   {
    "duration": 9,
    "start_time": "2022-09-03T18:40:41.709Z"
   },
   {
    "duration": 4,
    "start_time": "2022-09-03T18:42:48.401Z"
   },
   {
    "duration": 13,
    "start_time": "2022-09-03T18:43:25.141Z"
   },
   {
    "duration": 334,
    "start_time": "2022-09-03T18:44:28.761Z"
   },
   {
    "duration": 13,
    "start_time": "2022-09-03T18:45:25.964Z"
   },
   {
    "duration": 26,
    "start_time": "2022-09-03T18:45:55.984Z"
   },
   {
    "duration": 6,
    "start_time": "2022-09-03T18:46:28.108Z"
   },
   {
    "duration": 14,
    "start_time": "2022-09-03T18:47:22.911Z"
   },
   {
    "duration": 15,
    "start_time": "2022-09-03T18:48:04.299Z"
   },
   {
    "duration": 327,
    "start_time": "2022-09-03T18:48:27.491Z"
   },
   {
    "duration": 22,
    "start_time": "2022-09-03T18:51:24.660Z"
   },
   {
    "duration": 12,
    "start_time": "2022-09-03T18:51:44.607Z"
   },
   {
    "duration": 1605,
    "start_time": "2022-09-03T19:15:33.370Z"
   },
   {
    "duration": 255,
    "start_time": "2022-09-03T19:15:34.977Z"
   },
   {
    "duration": 11,
    "start_time": "2022-09-03T19:15:35.234Z"
   },
   {
    "duration": 7,
    "start_time": "2022-09-03T19:15:35.247Z"
   },
   {
    "duration": 19,
    "start_time": "2022-09-03T19:15:35.256Z"
   },
   {
    "duration": 9,
    "start_time": "2022-09-03T19:15:35.277Z"
   },
   {
    "duration": 8,
    "start_time": "2022-09-03T19:15:35.287Z"
   },
   {
    "duration": 33,
    "start_time": "2022-09-03T19:15:35.297Z"
   },
   {
    "duration": 123,
    "start_time": "2022-09-03T19:15:35.332Z"
   },
   {
    "duration": 53,
    "start_time": "2022-09-03T19:15:35.457Z"
   },
   {
    "duration": 14,
    "start_time": "2022-09-03T19:15:35.512Z"
   },
   {
    "duration": 10,
    "start_time": "2022-09-03T19:15:35.529Z"
   },
   {
    "duration": 6,
    "start_time": "2022-09-03T19:15:35.541Z"
   },
   {
    "duration": 37,
    "start_time": "2022-09-03T19:15:35.567Z"
   },
   {
    "duration": 17,
    "start_time": "2022-09-03T19:15:35.606Z"
   },
   {
    "duration": 15,
    "start_time": "2022-09-03T19:15:35.625Z"
   },
   {
    "duration": 108,
    "start_time": "2022-09-03T19:15:35.642Z"
   },
   {
    "duration": 21,
    "start_time": "2022-09-03T19:15:35.752Z"
   },
   {
    "duration": 5,
    "start_time": "2022-09-03T19:15:35.775Z"
   },
   {
    "duration": 369,
    "start_time": "2022-09-03T19:15:35.782Z"
   },
   {
    "duration": 20,
    "start_time": "2022-09-03T19:15:36.153Z"
   },
   {
    "duration": 29,
    "start_time": "2022-09-03T19:15:36.175Z"
   },
   {
    "duration": 100,
    "start_time": "2022-09-03T19:15:36.206Z"
   },
   {
    "duration": 251,
    "start_time": "2022-09-03T19:15:36.308Z"
   },
   {
    "duration": 21,
    "start_time": "2022-09-03T19:15:36.561Z"
   },
   {
    "duration": 58,
    "start_time": "2022-09-03T19:15:36.584Z"
   },
   {
    "duration": 25,
    "start_time": "2022-09-03T19:15:36.644Z"
   },
   {
    "duration": 31,
    "start_time": "2022-09-03T19:15:36.671Z"
   },
   {
    "duration": 34,
    "start_time": "2022-09-03T19:15:36.704Z"
   },
   {
    "duration": 5,
    "start_time": "2022-09-03T19:15:36.740Z"
   },
   {
    "duration": 232,
    "start_time": "2022-09-03T19:15:36.746Z"
   },
   {
    "duration": 11,
    "start_time": "2022-09-03T19:15:36.979Z"
   },
   {
    "duration": 8,
    "start_time": "2022-09-03T19:15:36.992Z"
   },
   {
    "duration": 65,
    "start_time": "2022-09-03T19:15:37.002Z"
   },
   {
    "duration": 29,
    "start_time": "2022-09-03T19:15:37.069Z"
   },
   {
    "duration": 19,
    "start_time": "2022-09-03T19:15:37.099Z"
   },
   {
    "duration": 258,
    "start_time": "2022-09-03T19:15:37.119Z"
   },
   {
    "duration": 18,
    "start_time": "2022-09-03T19:15:37.378Z"
   },
   {
    "duration": 14,
    "start_time": "2022-09-03T19:15:37.398Z"
   },
   {
    "duration": 10,
    "start_time": "2022-09-03T19:15:37.413Z"
   },
   {
    "duration": 8,
    "start_time": "2022-09-03T19:15:37.428Z"
   },
   {
    "duration": 725,
    "start_time": "2022-09-03T19:15:37.437Z"
   },
   {
    "duration": 114242,
    "start_time": "2022-09-03T19:15:38.164Z"
   },
   {
    "duration": 469,
    "start_time": "2022-09-03T19:17:32.408Z"
   },
   {
    "duration": 91,
    "start_time": "2022-09-03T19:17:32.879Z"
   },
   {
    "duration": 102,
    "start_time": "2022-09-03T19:17:32.972Z"
   },
   {
    "duration": 8,
    "start_time": "2022-09-03T19:17:33.076Z"
   },
   {
    "duration": 28,
    "start_time": "2022-09-03T19:17:33.085Z"
   },
   {
    "duration": 14,
    "start_time": "2022-09-03T19:17:33.114Z"
   },
   {
    "duration": 41,
    "start_time": "2022-09-03T19:17:33.130Z"
   },
   {
    "duration": 22,
    "start_time": "2022-09-03T19:17:33.173Z"
   },
   {
    "duration": 32,
    "start_time": "2022-09-03T19:17:33.197Z"
   },
   {
    "duration": 6,
    "start_time": "2022-09-03T19:17:33.231Z"
   },
   {
    "duration": 38,
    "start_time": "2022-09-03T19:17:33.239Z"
   },
   {
    "duration": 8,
    "start_time": "2022-09-03T19:17:33.279Z"
   },
   {
    "duration": 6,
    "start_time": "2022-09-03T19:17:33.288Z"
   },
   {
    "duration": 16,
    "start_time": "2022-09-03T19:17:33.295Z"
   },
   {
    "duration": 362,
    "start_time": "2022-09-03T19:17:33.312Z"
   },
   {
    "duration": 10,
    "start_time": "2022-09-03T19:17:33.676Z"
   },
   {
    "duration": 24,
    "start_time": "2022-09-03T19:17:33.688Z"
   },
   {
    "duration": 7,
    "start_time": "2022-09-03T19:17:33.715Z"
   },
   {
    "duration": 48,
    "start_time": "2022-09-03T19:17:33.724Z"
   },
   {
    "duration": 15,
    "start_time": "2022-09-03T19:17:33.774Z"
   },
   {
    "duration": 340,
    "start_time": "2022-09-03T19:17:33.790Z"
   },
   {
    "duration": 15,
    "start_time": "2022-09-03T19:17:34.132Z"
   },
   {
    "duration": 25,
    "start_time": "2022-09-03T19:17:34.149Z"
   },
   {
    "duration": 13,
    "start_time": "2022-09-03T19:17:34.176Z"
   },
   {
    "duration": 19,
    "start_time": "2022-09-03T19:17:34.191Z"
   },
   {
    "duration": 20,
    "start_time": "2022-09-03T19:17:34.212Z"
   },
   {
    "duration": 6,
    "start_time": "2022-09-03T19:17:34.234Z"
   },
   {
    "duration": 6,
    "start_time": "2022-09-03T19:17:34.268Z"
   },
   {
    "duration": 17,
    "start_time": "2022-09-03T19:17:34.275Z"
   },
   {
    "duration": 25,
    "start_time": "2022-09-03T19:17:34.294Z"
   },
   {
    "duration": 9,
    "start_time": "2022-09-03T19:17:34.320Z"
   },
   {
    "duration": 1783,
    "start_time": "2022-09-03T22:12:21.608Z"
   },
   {
    "duration": 343,
    "start_time": "2022-09-03T22:12:23.393Z"
   },
   {
    "duration": 9,
    "start_time": "2022-09-03T22:12:23.738Z"
   },
   {
    "duration": 7,
    "start_time": "2022-09-03T22:12:23.749Z"
   },
   {
    "duration": 16,
    "start_time": "2022-09-03T22:12:23.758Z"
   },
   {
    "duration": 9,
    "start_time": "2022-09-03T22:12:23.776Z"
   },
   {
    "duration": 6,
    "start_time": "2022-09-03T22:12:23.787Z"
   },
   {
    "duration": 29,
    "start_time": "2022-09-03T22:12:23.795Z"
   },
   {
    "duration": 116,
    "start_time": "2022-09-03T22:12:23.826Z"
   },
   {
    "duration": 35,
    "start_time": "2022-09-03T22:12:23.945Z"
   },
   {
    "duration": 13,
    "start_time": "2022-09-03T22:12:23.981Z"
   },
   {
    "duration": 10,
    "start_time": "2022-09-03T22:12:23.996Z"
   },
   {
    "duration": 7,
    "start_time": "2022-09-03T22:12:24.008Z"
   },
   {
    "duration": 26,
    "start_time": "2022-09-03T22:12:24.016Z"
   },
   {
    "duration": 18,
    "start_time": "2022-09-03T22:12:24.043Z"
   },
   {
    "duration": 9,
    "start_time": "2022-09-03T22:12:24.063Z"
   },
   {
    "duration": 94,
    "start_time": "2022-09-03T22:12:24.073Z"
   },
   {
    "duration": 10,
    "start_time": "2022-09-03T22:12:24.169Z"
   },
   {
    "duration": 3,
    "start_time": "2022-09-03T22:12:24.181Z"
   },
   {
    "duration": 321,
    "start_time": "2022-09-03T22:12:24.185Z"
   },
   {
    "duration": 11,
    "start_time": "2022-09-03T22:12:24.508Z"
   },
   {
    "duration": 34,
    "start_time": "2022-09-03T22:12:24.521Z"
   },
   {
    "duration": 73,
    "start_time": "2022-09-03T22:12:24.556Z"
   },
   {
    "duration": 200,
    "start_time": "2022-09-03T22:12:24.630Z"
   },
   {
    "duration": 13,
    "start_time": "2022-09-03T22:12:24.831Z"
   },
   {
    "duration": 62,
    "start_time": "2022-09-03T22:12:24.856Z"
   },
   {
    "duration": 8,
    "start_time": "2022-09-03T22:12:24.920Z"
   },
   {
    "duration": 37,
    "start_time": "2022-09-03T22:12:24.933Z"
   },
   {
    "duration": 16,
    "start_time": "2022-09-03T22:12:24.972Z"
   },
   {
    "duration": 6,
    "start_time": "2022-09-03T22:12:24.989Z"
   },
   {
    "duration": 258,
    "start_time": "2022-09-03T22:12:24.997Z"
   },
   {
    "duration": 9,
    "start_time": "2022-09-03T22:12:25.256Z"
   },
   {
    "duration": 9,
    "start_time": "2022-09-03T22:12:25.266Z"
   },
   {
    "duration": 44,
    "start_time": "2022-09-03T22:12:25.276Z"
   },
   {
    "duration": 51,
    "start_time": "2022-09-03T22:12:25.321Z"
   },
   {
    "duration": 19,
    "start_time": "2022-09-03T22:12:25.374Z"
   },
   {
    "duration": 226,
    "start_time": "2022-09-03T22:12:25.394Z"
   },
   {
    "duration": 19,
    "start_time": "2022-09-03T22:12:25.621Z"
   },
   {
    "duration": 26,
    "start_time": "2022-09-03T22:12:25.642Z"
   },
   {
    "duration": 9,
    "start_time": "2022-09-03T22:12:25.670Z"
   },
   {
    "duration": 7,
    "start_time": "2022-09-03T22:12:25.680Z"
   },
   {
    "duration": 617,
    "start_time": "2022-09-03T22:12:25.689Z"
   },
   {
    "duration": 101794,
    "start_time": "2022-09-03T22:12:26.308Z"
   },
   {
    "duration": 652,
    "start_time": "2022-09-03T22:14:08.104Z"
   },
   {
    "duration": 98,
    "start_time": "2022-09-03T22:14:08.758Z"
   },
   {
    "duration": 10,
    "start_time": "2022-09-03T22:14:08.858Z"
   },
   {
    "duration": 6,
    "start_time": "2022-09-03T22:14:08.869Z"
   },
   {
    "duration": 23,
    "start_time": "2022-09-03T22:14:08.876Z"
   },
   {
    "duration": 10,
    "start_time": "2022-09-03T22:14:08.901Z"
   },
   {
    "duration": 9,
    "start_time": "2022-09-03T22:14:08.913Z"
   },
   {
    "duration": 16,
    "start_time": "2022-09-03T22:14:08.956Z"
   },
   {
    "duration": 30,
    "start_time": "2022-09-03T22:14:08.974Z"
   },
   {
    "duration": 6,
    "start_time": "2022-09-03T22:14:09.005Z"
   },
   {
    "duration": 16,
    "start_time": "2022-09-03T22:14:09.013Z"
   },
   {
    "duration": 30,
    "start_time": "2022-09-03T22:14:09.030Z"
   },
   {
    "duration": 4,
    "start_time": "2022-09-03T22:14:09.062Z"
   },
   {
    "duration": 12,
    "start_time": "2022-09-03T22:14:09.067Z"
   },
   {
    "duration": 305,
    "start_time": "2022-09-03T22:14:09.080Z"
   },
   {
    "duration": 9,
    "start_time": "2022-09-03T22:14:09.386Z"
   },
   {
    "duration": 23,
    "start_time": "2022-09-03T22:14:09.396Z"
   },
   {
    "duration": 4,
    "start_time": "2022-09-03T22:14:09.421Z"
   },
   {
    "duration": 32,
    "start_time": "2022-09-03T22:14:09.426Z"
   },
   {
    "duration": 11,
    "start_time": "2022-09-03T22:14:09.460Z"
   },
   {
    "duration": 305,
    "start_time": "2022-09-03T22:14:09.472Z"
   },
   {
    "duration": 13,
    "start_time": "2022-09-03T22:14:09.778Z"
   },
   {
    "duration": 9,
    "start_time": "2022-09-03T22:14:09.792Z"
   },
   {
    "duration": 13,
    "start_time": "2022-09-03T22:14:09.802Z"
   },
   {
    "duration": 39,
    "start_time": "2022-09-03T22:14:09.816Z"
   },
   {
    "duration": 19,
    "start_time": "2022-09-03T22:14:09.856Z"
   },
   {
    "duration": 5,
    "start_time": "2022-09-03T22:14:09.877Z"
   },
   {
    "duration": 6,
    "start_time": "2022-09-03T22:14:09.883Z"
   },
   {
    "duration": 13,
    "start_time": "2022-09-03T22:14:09.890Z"
   },
   {
    "duration": 20,
    "start_time": "2022-09-03T22:14:09.904Z"
   },
   {
    "duration": 8,
    "start_time": "2022-09-03T22:14:09.954Z"
   },
   {
    "duration": 194,
    "start_time": "2022-09-03T22:15:14.412Z"
   },
   {
    "duration": 587,
    "start_time": "2022-09-03T22:15:45.009Z"
   },
   {
    "duration": 210,
    "start_time": "2022-09-03T22:15:58.925Z"
   },
   {
    "duration": 191,
    "start_time": "2022-09-03T22:16:13.723Z"
   },
   {
    "duration": 206,
    "start_time": "2022-09-03T22:16:18.221Z"
   },
   {
    "duration": 82,
    "start_time": "2022-09-04T05:50:17.498Z"
   },
   {
    "duration": 2019,
    "start_time": "2022-09-04T05:55:58.381Z"
   },
   {
    "duration": 404,
    "start_time": "2022-09-04T05:56:00.403Z"
   },
   {
    "duration": 16,
    "start_time": "2022-09-04T05:56:00.809Z"
   },
   {
    "duration": 8,
    "start_time": "2022-09-04T05:56:00.828Z"
   },
   {
    "duration": 63,
    "start_time": "2022-09-04T05:56:00.842Z"
   },
   {
    "duration": 32,
    "start_time": "2022-09-04T05:56:00.907Z"
   },
   {
    "duration": 13,
    "start_time": "2022-09-04T05:56:00.942Z"
   },
   {
    "duration": 69,
    "start_time": "2022-09-04T05:56:00.957Z"
   },
   {
    "duration": 124,
    "start_time": "2022-09-04T05:56:01.028Z"
   },
   {
    "duration": 52,
    "start_time": "2022-09-04T05:56:01.153Z"
   },
   {
    "duration": 10,
    "start_time": "2022-09-04T05:56:01.207Z"
   },
   {
    "duration": 20,
    "start_time": "2022-09-04T05:56:01.219Z"
   },
   {
    "duration": 17,
    "start_time": "2022-09-04T05:56:01.242Z"
   },
   {
    "duration": 57,
    "start_time": "2022-09-04T05:56:01.264Z"
   },
   {
    "duration": 16,
    "start_time": "2022-09-04T05:56:01.322Z"
   },
   {
    "duration": 52,
    "start_time": "2022-09-04T05:56:01.339Z"
   },
   {
    "duration": 165,
    "start_time": "2022-09-04T05:56:01.393Z"
   },
   {
    "duration": 16,
    "start_time": "2022-09-04T05:56:01.564Z"
   },
   {
    "duration": 29,
    "start_time": "2022-09-04T05:56:01.583Z"
   },
   {
    "duration": 376,
    "start_time": "2022-09-04T05:56:01.613Z"
   },
   {
    "duration": 16,
    "start_time": "2022-09-04T05:56:01.991Z"
   },
   {
    "duration": 27,
    "start_time": "2022-09-04T05:56:02.009Z"
   },
   {
    "duration": 109,
    "start_time": "2022-09-04T05:56:02.037Z"
   },
   {
    "duration": 247,
    "start_time": "2022-09-04T05:56:02.148Z"
   },
   {
    "duration": 12,
    "start_time": "2022-09-04T05:56:02.397Z"
   },
   {
    "duration": 69,
    "start_time": "2022-09-04T05:56:02.411Z"
   },
   {
    "duration": 8,
    "start_time": "2022-09-04T05:56:02.482Z"
   },
   {
    "duration": 21,
    "start_time": "2022-09-04T05:56:02.492Z"
   },
   {
    "duration": 17,
    "start_time": "2022-09-04T05:56:02.515Z"
   },
   {
    "duration": 11,
    "start_time": "2022-09-04T05:56:02.564Z"
   },
   {
    "duration": 273,
    "start_time": "2022-09-04T05:56:02.577Z"
   },
   {
    "duration": 25,
    "start_time": "2022-09-04T05:56:02.852Z"
   },
   {
    "duration": 13,
    "start_time": "2022-09-04T05:56:02.879Z"
   },
   {
    "duration": 81,
    "start_time": "2022-09-04T05:56:02.894Z"
   },
   {
    "duration": 31,
    "start_time": "2022-09-04T05:56:02.977Z"
   },
   {
    "duration": 29,
    "start_time": "2022-09-04T05:56:03.010Z"
   },
   {
    "duration": 273,
    "start_time": "2022-09-04T05:56:03.041Z"
   },
   {
    "duration": 19,
    "start_time": "2022-09-04T05:56:03.316Z"
   },
   {
    "duration": 35,
    "start_time": "2022-09-04T05:56:03.337Z"
   },
   {
    "duration": 13,
    "start_time": "2022-09-04T05:56:03.373Z"
   },
   {
    "duration": 6,
    "start_time": "2022-09-04T05:56:03.390Z"
   },
   {
    "duration": 640,
    "start_time": "2022-09-04T05:56:03.398Z"
   },
   {
    "duration": 122306,
    "start_time": "2022-09-04T05:56:04.039Z"
   },
   {
    "duration": 714,
    "start_time": "2022-09-04T05:58:06.347Z"
   },
   {
    "duration": 102,
    "start_time": "2022-09-04T05:58:07.065Z"
   },
   {
    "duration": 21,
    "start_time": "2022-09-04T05:58:07.169Z"
   },
   {
    "duration": 9,
    "start_time": "2022-09-04T05:58:07.192Z"
   },
   {
    "duration": 35,
    "start_time": "2022-09-04T05:58:07.202Z"
   },
   {
    "duration": 13,
    "start_time": "2022-09-04T05:58:07.239Z"
   },
   {
    "duration": 19,
    "start_time": "2022-09-04T05:58:07.254Z"
   },
   {
    "duration": 35,
    "start_time": "2022-09-04T05:58:07.277Z"
   },
   {
    "duration": 31,
    "start_time": "2022-09-04T05:58:07.314Z"
   },
   {
    "duration": 15,
    "start_time": "2022-09-04T05:58:07.347Z"
   },
   {
    "duration": 16,
    "start_time": "2022-09-04T05:58:07.364Z"
   },
   {
    "duration": 10,
    "start_time": "2022-09-04T05:58:07.382Z"
   },
   {
    "duration": 11,
    "start_time": "2022-09-04T05:58:07.394Z"
   },
   {
    "duration": 29,
    "start_time": "2022-09-04T05:58:07.406Z"
   },
   {
    "duration": 360,
    "start_time": "2022-09-04T05:58:07.437Z"
   },
   {
    "duration": 12,
    "start_time": "2022-09-04T05:58:07.799Z"
   },
   {
    "duration": 26,
    "start_time": "2022-09-04T05:58:07.812Z"
   },
   {
    "duration": 9,
    "start_time": "2022-09-04T05:58:07.857Z"
   },
   {
    "duration": 18,
    "start_time": "2022-09-04T05:58:07.868Z"
   },
   {
    "duration": 17,
    "start_time": "2022-09-04T05:58:07.888Z"
   },
   {
    "duration": 426,
    "start_time": "2022-09-04T05:58:07.907Z"
   },
   {
    "duration": 36,
    "start_time": "2022-09-04T05:58:08.334Z"
   },
   {
    "duration": 13,
    "start_time": "2022-09-04T05:58:08.377Z"
   },
   {
    "duration": 15,
    "start_time": "2022-09-04T05:58:08.392Z"
   },
   {
    "duration": 20,
    "start_time": "2022-09-04T05:58:08.409Z"
   },
   {
    "duration": 42,
    "start_time": "2022-09-04T05:58:08.431Z"
   },
   {
    "duration": 11,
    "start_time": "2022-09-04T05:58:08.475Z"
   },
   {
    "duration": 18,
    "start_time": "2022-09-04T05:58:08.488Z"
   },
   {
    "duration": 19,
    "start_time": "2022-09-04T05:58:08.508Z"
   },
   {
    "duration": 39,
    "start_time": "2022-09-04T05:58:08.529Z"
   },
   {
    "duration": 14,
    "start_time": "2022-09-04T05:58:08.571Z"
   }
  ],
  "kernelspec": {
   "display_name": "Python 3 (ipykernel)",
   "language": "python",
   "name": "python3"
  },
  "language_info": {
   "codemirror_mode": {
    "name": "ipython",
    "version": 3
   },
   "file_extension": ".py",
   "mimetype": "text/x-python",
   "name": "python",
   "nbconvert_exporter": "python",
   "pygments_lexer": "ipython3",
   "version": "3.9.5"
  },
  "toc": {
   "base_numbering": 1,
   "nav_menu": {},
   "number_sections": true,
   "sideBar": true,
   "skip_h1_title": true,
   "title_cell": "Table of Contents",
   "title_sidebar": "Contents",
   "toc_cell": false,
   "toc_position": {
    "height": "calc(100% - 180px)",
    "left": "10px",
    "top": "150px",
    "width": "285.764px"
   },
   "toc_section_display": true,
   "toc_window_display": true
  }
 },
 "nbformat": 4,
 "nbformat_minor": 2
}
