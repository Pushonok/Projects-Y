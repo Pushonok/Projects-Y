{
 "cells": [
  {
   "cell_type": "markdown",
   "metadata": {
    "id": "E0vqbgi9ay0H"
   },
   "source": [
    "# Яндекс.Музыка"
   ]
  },
  {
   "cell_type": "markdown",
   "metadata": {
    "id": "VUC88oWjTJw2"
   },
   "source": [
    "Сравнение Москвы и Петербурга окружено мифами. Например:\n",
    " * Москва — мегаполис, подчинённый жёсткому ритму рабочей недели;\n",
    " * Петербург — культурная столица, со своими вкусами.\n",
    "\n",
    "На данных Яндекс.Музыки вы сравните поведение пользователей двух столиц.\n",
    "\n",
    "**Цель исследования** — проверьте три гипотезы:\n",
    "1. Активность пользователей зависит от дня недели. Причём в Москве и Петербурге это проявляется по-разному.\n",
    "2. В понедельник утром в Москве преобладают одни жанры, а в Петербурге — другие. Так же и вечером пятницы преобладают разные жанры — в зависимости от города. \n",
    "3. Москва и Петербург предпочитают разные жанры музыки. В Москве чаще слушают поп-музыку, в Петербурге — русский рэп.\n",
    "\n",
    "**Ход исследования**\n",
    "\n",
    "Данные о поведении пользователей вы получите из файла `yandex_music_project.csv`. О качестве данных ничего не известно. Поэтому перед проверкой гипотез понадобится обзор данных. \n",
    "\n",
    "Вы проверите данные на ошибки и оцените их влияние на исследование. Затем, на этапе предобработки вы поищете возможность исправить самые критичные ошибки данных.\n",
    " \n",
    "Таким образом, исследование пройдёт в три этапа:\n",
    " 1. Обзор данных.\n",
    " 2. Предобработка данных.\n",
    " 3. Проверка гипотез.\n",
    "\n"
   ]
  },
  {
   "cell_type": "markdown",
   "metadata": {
    "id": "Ml1hmfXC_Zcs"
   },
   "source": [
    "## Обзор данных\n",
    "\n",
    "Составьте первое представление о данных Яндекс.Музыки.\n",
    "\n",
    "\n"
   ]
  },
  {
   "cell_type": "markdown",
   "metadata": {
    "id": "57eAOGIz_Zcs"
   },
   "source": [
    "Основной инструмент аналитика — `pandas`. Импортируйте эту библиотеку."
   ]
  },
  {
   "cell_type": "code",
   "execution_count": 3,
   "metadata": {
    "id": "AXN7PHPN_Zcs"
   },
   "outputs": [],
   "source": [
    "import pandas as pd"
   ]
  },
  {
   "cell_type": "code",
   "execution_count": 18,
   "metadata": {
    "id": "fFVu7vqh_Zct"
   },
   "outputs": [],
   "source": [
    "#читаем файл\n",
    "df = pd.read_csv('/datasets/yandex_music_project.csv')"
   ]
  },
  {
   "cell_type": "code",
   "execution_count": 19,
   "metadata": {
    "id": "oWTVX3gW_Zct"
   },
   "outputs": [
    {
     "data": {
      "text/html": [
       "<div>\n",
       "<style scoped>\n",
       "    .dataframe tbody tr th:only-of-type {\n",
       "        vertical-align: middle;\n",
       "    }\n",
       "\n",
       "    .dataframe tbody tr th {\n",
       "        vertical-align: top;\n",
       "    }\n",
       "\n",
       "    .dataframe thead th {\n",
       "        text-align: right;\n",
       "    }\n",
       "</style>\n",
       "<table border=\"1\" class=\"dataframe\">\n",
       "  <thead>\n",
       "    <tr style=\"text-align: right;\">\n",
       "      <th></th>\n",
       "      <th>userID</th>\n",
       "      <th>Track</th>\n",
       "      <th>artist</th>\n",
       "      <th>genre</th>\n",
       "      <th>City</th>\n",
       "      <th>time</th>\n",
       "      <th>Day</th>\n",
       "    </tr>\n",
       "  </thead>\n",
       "  <tbody>\n",
       "    <tr>\n",
       "      <th>0</th>\n",
       "      <td>FFB692EC</td>\n",
       "      <td>Kamigata To Boots</td>\n",
       "      <td>The Mass Missile</td>\n",
       "      <td>rock</td>\n",
       "      <td>Saint-Petersburg</td>\n",
       "      <td>20:28:33</td>\n",
       "      <td>Wednesday</td>\n",
       "    </tr>\n",
       "    <tr>\n",
       "      <th>1</th>\n",
       "      <td>55204538</td>\n",
       "      <td>Delayed Because of Accident</td>\n",
       "      <td>Andreas Rönnberg</td>\n",
       "      <td>rock</td>\n",
       "      <td>Moscow</td>\n",
       "      <td>14:07:09</td>\n",
       "      <td>Friday</td>\n",
       "    </tr>\n",
       "    <tr>\n",
       "      <th>2</th>\n",
       "      <td>20EC38</td>\n",
       "      <td>Funiculì funiculà</td>\n",
       "      <td>Mario Lanza</td>\n",
       "      <td>pop</td>\n",
       "      <td>Saint-Petersburg</td>\n",
       "      <td>20:58:07</td>\n",
       "      <td>Wednesday</td>\n",
       "    </tr>\n",
       "    <tr>\n",
       "      <th>3</th>\n",
       "      <td>A3DD03C9</td>\n",
       "      <td>Dragons in the Sunset</td>\n",
       "      <td>Fire + Ice</td>\n",
       "      <td>folk</td>\n",
       "      <td>Saint-Petersburg</td>\n",
       "      <td>08:37:09</td>\n",
       "      <td>Monday</td>\n",
       "    </tr>\n",
       "    <tr>\n",
       "      <th>4</th>\n",
       "      <td>E2DC1FAE</td>\n",
       "      <td>Soul People</td>\n",
       "      <td>Space Echo</td>\n",
       "      <td>dance</td>\n",
       "      <td>Moscow</td>\n",
       "      <td>08:34:34</td>\n",
       "      <td>Monday</td>\n",
       "    </tr>\n",
       "    <tr>\n",
       "      <th>5</th>\n",
       "      <td>842029A1</td>\n",
       "      <td>Преданная</td>\n",
       "      <td>IMPERVTOR</td>\n",
       "      <td>rusrap</td>\n",
       "      <td>Saint-Petersburg</td>\n",
       "      <td>13:09:41</td>\n",
       "      <td>Friday</td>\n",
       "    </tr>\n",
       "    <tr>\n",
       "      <th>6</th>\n",
       "      <td>4CB90AA5</td>\n",
       "      <td>True</td>\n",
       "      <td>Roman Messer</td>\n",
       "      <td>dance</td>\n",
       "      <td>Moscow</td>\n",
       "      <td>13:00:07</td>\n",
       "      <td>Wednesday</td>\n",
       "    </tr>\n",
       "    <tr>\n",
       "      <th>7</th>\n",
       "      <td>F03E1C1F</td>\n",
       "      <td>Feeling This Way</td>\n",
       "      <td>Polina Griffith</td>\n",
       "      <td>dance</td>\n",
       "      <td>Moscow</td>\n",
       "      <td>20:47:49</td>\n",
       "      <td>Wednesday</td>\n",
       "    </tr>\n",
       "    <tr>\n",
       "      <th>8</th>\n",
       "      <td>8FA1D3BE</td>\n",
       "      <td>И вновь продолжается бой</td>\n",
       "      <td>NaN</td>\n",
       "      <td>ruspop</td>\n",
       "      <td>Moscow</td>\n",
       "      <td>09:17:40</td>\n",
       "      <td>Friday</td>\n",
       "    </tr>\n",
       "    <tr>\n",
       "      <th>9</th>\n",
       "      <td>E772D5C0</td>\n",
       "      <td>Pessimist</td>\n",
       "      <td>NaN</td>\n",
       "      <td>dance</td>\n",
       "      <td>Saint-Petersburg</td>\n",
       "      <td>21:20:49</td>\n",
       "      <td>Wednesday</td>\n",
       "    </tr>\n",
       "  </tbody>\n",
       "</table>\n",
       "</div>"
      ],
      "text/plain": [
       "     userID                        Track            artist   genre  \\\n",
       "0  FFB692EC            Kamigata To Boots  The Mass Missile    rock   \n",
       "1  55204538  Delayed Because of Accident  Andreas Rönnberg    rock   \n",
       "2    20EC38            Funiculì funiculà       Mario Lanza     pop   \n",
       "3  A3DD03C9        Dragons in the Sunset        Fire + Ice    folk   \n",
       "4  E2DC1FAE                  Soul People        Space Echo   dance   \n",
       "5  842029A1                    Преданная         IMPERVTOR  rusrap   \n",
       "6  4CB90AA5                         True      Roman Messer   dance   \n",
       "7  F03E1C1F             Feeling This Way   Polina Griffith   dance   \n",
       "8  8FA1D3BE     И вновь продолжается бой               NaN  ruspop   \n",
       "9  E772D5C0                    Pessimist               NaN   dance   \n",
       "\n",
       "             City        time        Day  \n",
       "0  Saint-Petersburg  20:28:33  Wednesday  \n",
       "1            Moscow  14:07:09     Friday  \n",
       "2  Saint-Petersburg  20:58:07  Wednesday  \n",
       "3  Saint-Petersburg  08:37:09     Monday  \n",
       "4            Moscow  08:34:34     Monday  \n",
       "5  Saint-Petersburg  13:09:41     Friday  \n",
       "6            Moscow  13:00:07  Wednesday  \n",
       "7            Moscow  20:47:49  Wednesday  \n",
       "8            Moscow  09:17:40     Friday  \n",
       "9  Saint-Petersburg  21:20:49  Wednesday  "
      ]
     },
     "execution_count": 19,
     "metadata": {},
     "output_type": "execute_result"
    }
   ],
   "source": [
    "df.head(10)# получение первых 10 строк таблицы df"
   ]
  },
  {
   "cell_type": "code",
   "execution_count": 20,
   "metadata": {
    "id": "DSf2kIb-_Zct"
   },
   "outputs": [
    {
     "name": "stdout",
     "output_type": "stream",
     "text": [
      "<class 'pandas.core.frame.DataFrame'>\n",
      "RangeIndex: 65079 entries, 0 to 65078\n",
      "Data columns (total 7 columns):\n",
      " #   Column    Non-Null Count  Dtype \n",
      "---  ------    --------------  ----- \n",
      " 0     userID  65079 non-null  object\n",
      " 1   Track     63848 non-null  object\n",
      " 2   artist    57876 non-null  object\n",
      " 3   genre     63881 non-null  object\n",
      " 4     City    65079 non-null  object\n",
      " 5   time      65079 non-null  object\n",
      " 6   Day       65079 non-null  object\n",
      "dtypes: object(7)\n",
      "memory usage: 3.5+ MB\n"
     ]
    }
   ],
   "source": [
    "df.info()# получение общей информации о данных в таблице df"
   ]
  },
  {
   "cell_type": "markdown",
   "metadata": {
    "id": "TaQ2Iwbr_Zct"
   },
   "source": [
    "Итак, в таблице семь столбцов. Тип данных во всех столбцах — `object`.\n",
    "\n",
    "Согласно документации к данным:\n",
    "* `userID` — идентификатор пользователя;\n",
    "* `Track` — название трека;  \n",
    "* `artist` — имя исполнителя;\n",
    "* `genre` — название жанра;\n",
    "* `City` — город пользователя;\n",
    "* `time` — время начала прослушивания;\n",
    "* `Day` — день недели.\n",
    "\n",
    "В названиях колонок видны три нарушения стиля:\n",
    "1. Строчные буквы сочетаются с прописными.\n",
    "2. Встречаются пробелы.\n",
    "3. Некоторые названия нужно еще разделить нижним подчеркиванием, например userID - user_id.\n",
    "\n",
    "\n",
    "\n",
    "Количество значений в столбцах различается. Значит, в данных есть пропущенные значения.\n"
   ]
  },
  {
   "cell_type": "markdown",
   "metadata": {
    "id": "MCB6-dXG_Zct"
   },
   "source": [
    "**Выводы**\n",
    "\n",
    "В каждой строке таблицы — данные о прослушанном треке. Часть колонок описывает саму композицию: название, исполнителя и жанр. Остальные данные рассказывают о пользователе: из какого он города, когда он слушал музыку. \n",
    "\n",
    "Предварительно можно утверждать, что, данных достаточно для проверки гипотез. Но встречаются пропуски в данных, а в названиях колонок — расхождения с хорошим стилем.\n",
    "\n",
    "Чтобы двигаться дальше, нужно устранить проблемы в данных."
   ]
  },
  {
   "cell_type": "markdown",
   "metadata": {
    "id": "SjYF6Ub9_Zct"
   },
   "source": [
    "## Предобработка данных\n",
    "Исправьте стиль в заголовках столбцов, исключите пропуски. Затем проверьте данные на дубликаты."
   ]
  },
  {
   "cell_type": "markdown",
   "metadata": {
    "id": "dIaKXr29_Zct"
   },
   "source": [
    "### Стиль заголовков\n",
    "Выведите на экран названия столбцов:"
   ]
  },
  {
   "cell_type": "code",
   "execution_count": 21,
   "metadata": {
    "id": "oKOTdF_Q_Zct"
   },
   "outputs": [
    {
     "data": {
      "text/plain": [
       "Index(['  userID', 'Track', 'artist', 'genre', '  City  ', 'time', 'Day'], dtype='object')"
      ]
     },
     "execution_count": 21,
     "metadata": {},
     "output_type": "execute_result"
    }
   ],
   "source": [
    "df.columns # перечень названий столбцов таблицы df"
   ]
  },
  {
   "cell_type": "markdown",
   "metadata": {
    "id": "zj5534cv_Zct"
   },
   "source": [
    "Приведите названия в соответствие с хорошим стилем:\n",
    "* несколько слов в названии запишите в «змеином_регистре»,\n",
    "* все символы сделайте строчными,\n",
    "* устраните пробелы.\n",
    "\n",
    "Для этого переименуйте колонки так:\n",
    "* `'  userID'` → `'user_id'`;\n",
    "* `'Track'` → `'track'`;\n",
    "* `'  City  '` → `'city'`;\n",
    "* `'Day'` → `'day'`."
   ]
  },
  {
   "cell_type": "code",
   "execution_count": 22,
   "metadata": {
    "id": "ISlFqs5y_Zct"
   },
   "outputs": [],
   "source": [
    "df = df.rename(columns={'  userID': 'user_id', 'Track': 'track', '  City  ': 'city', 'Day':'day' }) # переименование столбцов"
   ]
  },
  {
   "cell_type": "code",
   "execution_count": 23,
   "metadata": {
    "id": "d4NOAmTW_Zct"
   },
   "outputs": [
    {
     "data": {
      "text/plain": [
       "Index(['user_id', 'track', 'artist', 'genre', 'city', 'time', 'day'], dtype='object')"
      ]
     },
     "execution_count": 23,
     "metadata": {},
     "output_type": "execute_result"
    }
   ],
   "source": [
    "df.columns# проверка результатов - перечень названий столбцов"
   ]
  },
  {
   "cell_type": "markdown",
   "metadata": {
    "id": "5ISfbcfY_Zct"
   },
   "source": [
    "### Пропуски значений\n",
    "Сначала посчитайте, сколько в таблице пропущенных значений. Для этого достаточно двух методов `pandas`:"
   ]
  },
  {
   "cell_type": "code",
   "execution_count": 24,
   "metadata": {
    "id": "RskX29qr_Zct",
    "scrolled": true
   },
   "outputs": [
    {
     "data": {
      "text/plain": [
       "user_id       0\n",
       "track      1231\n",
       "artist     7203\n",
       "genre      1198\n",
       "city          0\n",
       "time          0\n",
       "day           0\n",
       "dtype: int64"
      ]
     },
     "execution_count": 24,
     "metadata": {},
     "output_type": "execute_result"
    }
   ],
   "source": [
    "df.isna().sum()# подсчёт пропусков"
   ]
  },
  {
   "cell_type": "markdown",
   "metadata": {
    "id": "qubhgnlO_Zct"
   },
   "source": [
    "Не все пропущенные значения влияют на исследование. Так в `track` и `artist` пропуски не важны для вашей работы. Достаточно заменить их явными обозначениями.\n",
    "\n",
    "Но пропуски в `genre` могут помешать сравнению музыкальных вкусов в Москве и Санкт-Петербурге. На практике было бы правильно установить причину пропусков и восстановить данные. Такой возможности нет в учебном проекте. Придётся:\n",
    "* заполнить и эти пропуски явными обозначениями,\n",
    "* оценить, насколько они повредят расчётам. "
   ]
  },
  {
   "cell_type": "markdown",
   "metadata": {
    "id": "fSv2laPA_Zct"
   },
   "source": [
    "Замените пропущенные значения в столбцах `track`, `artist` и `genre` на строку `'unknown'`. Для этого создайте список `columns_to_replace`, переберите его элементы циклом `for` и для каждого столбца выполните замену пропущенных значений:"
   ]
  },
  {
   "cell_type": "code",
   "execution_count": 25,
   "metadata": {
    "id": "KplB5qWs_Zct"
   },
   "outputs": [],
   "source": [
    "columns_to_replace = ['track', 'artist', 'genre']\n",
    "for column in columns_to_replace:\n",
    "    df[column] = df[column].fillna('unknown')# перебор названий столбцов в цикле и замена пропущенных значений на 'unknown'"
   ]
  },
  {
   "cell_type": "code",
   "execution_count": 26,
   "metadata": {
    "id": "Tq4nYRX4_Zct"
   },
   "outputs": [
    {
     "data": {
      "text/plain": [
       "user_id    0\n",
       "track      0\n",
       "artist     0\n",
       "genre      0\n",
       "city       0\n",
       "time       0\n",
       "day        0\n",
       "dtype: int64"
      ]
     },
     "execution_count": 26,
     "metadata": {},
     "output_type": "execute_result"
    }
   ],
   "source": [
    "df.isna().sum()# подсчёт пропусков"
   ]
  },
  {
   "cell_type": "markdown",
   "metadata": {
    "id": "BWKRtBJ3_Zct"
   },
   "source": [
    "### Дубликаты\n",
    "Посчитайте явные дубликаты в таблице одной командой:"
   ]
  },
  {
   "cell_type": "code",
   "execution_count": 27,
   "metadata": {
    "id": "36eES_S0_Zct"
   },
   "outputs": [
    {
     "data": {
      "text/plain": [
       "3826"
      ]
     },
     "execution_count": 27,
     "metadata": {},
     "output_type": "execute_result"
    }
   ],
   "source": [
    "df.duplicated().sum()# подсчёт явных дубликатов"
   ]
  },
  {
   "cell_type": "markdown",
   "metadata": {
    "id": "Ot25h6XR_Zct"
   },
   "source": [
    "Вызовите специальный метод `pandas`, чтобы удалить явные дубликаты:"
   ]
  },
  {
   "cell_type": "code",
   "execution_count": 28,
   "metadata": {
    "id": "exFHq6tt_Zct"
   },
   "outputs": [],
   "source": [
    "df = df.drop_duplicates().reset_index()  # удаление явных дубликатов (с удалением старых индексов и формированием новых)"
   ]
  },
  {
   "cell_type": "markdown",
   "metadata": {
    "id": "Im2YwBEG_Zct"
   },
   "source": [
    "Ещё раз посчитайте явные дубликаты в таблице — убедитесь, что полностью от них избавились:"
   ]
  },
  {
   "cell_type": "code",
   "execution_count": 29,
   "metadata": {
    "id": "-8PuNWQ0_Zct"
   },
   "outputs": [
    {
     "data": {
      "text/plain": [
       "0"
      ]
     },
     "execution_count": 29,
     "metadata": {},
     "output_type": "execute_result"
    }
   ],
   "source": [
    "df.duplicated().sum()# проверка на отсутствие дубликатов"
   ]
  },
  {
   "cell_type": "markdown",
   "metadata": {
    "id": "QlFBsxAr_Zct"
   },
   "source": [
    "Теперь избавьтесь от неявных дубликатов в колонке `genre`. Например, название одного и того же жанра может быть записано немного по-разному. Такие ошибки тоже повлияют на результат исследования."
   ]
  },
  {
   "cell_type": "markdown",
   "metadata": {
    "id": "eSjWwsOh_Zct"
   },
   "source": [
    "Выведите на экран список уникальных названий жанров, отсортированный в алфавитном порядке. Для этого:\n",
    "* извлеките нужный столбец датафрейма, \n",
    "* примените к нему метод сортировки,\n",
    "* для отсортированного столбца вызовите метод, который вернёт уникальные значения из столбца."
   ]
  },
  {
   "cell_type": "code",
   "execution_count": 86,
   "metadata": {
    "id": "JIUcqzZN_Zct"
   },
   "outputs": [
    {
     "data": {
      "text/plain": [
       "array(['acid', 'acoustic', 'action', 'adult', 'africa', 'afrikaans',\n",
       "       'alternative', 'alternativepunk', 'ambient', 'americana',\n",
       "       'animated', 'anime', 'arabesk', 'arabic', 'arena',\n",
       "       'argentinetango', 'art', 'audiobook', 'author', 'avantgarde',\n",
       "       'axé', 'baile', 'balkan', 'beats', 'bigroom', 'black', 'bluegrass',\n",
       "       'blues', 'bollywood', 'bossa', 'brazilian', 'breakbeat', 'breaks',\n",
       "       'broadway', 'cantautori', 'cantopop', 'canzone', 'caribbean',\n",
       "       'caucasian', 'celtic', 'chamber', 'chanson', 'children', 'chill',\n",
       "       'chinese', 'choral', 'christian', 'christmas', 'classical',\n",
       "       'classicmetal', 'club', 'colombian', 'comedy', 'conjazz',\n",
       "       'contemporary', 'country', 'cuban', 'dance', 'dancehall',\n",
       "       'dancepop', 'dark', 'death', 'deep', 'deutschrock', 'deutschspr',\n",
       "       'dirty', 'disco', 'dnb', 'documentary', 'downbeat', 'downtempo',\n",
       "       'drum', 'dub', 'dubstep', 'eastern', 'easy', 'electronic',\n",
       "       'electropop', 'emo', 'entehno', 'epicmetal', 'estrada', 'ethnic',\n",
       "       'eurofolk', 'european', 'experimental', 'extrememetal', 'fado',\n",
       "       'fairytail', 'film', 'fitness', 'flamenco', 'folk', 'folklore',\n",
       "       'folkmetal', 'folkrock', 'folktronica', 'forró', 'frankreich',\n",
       "       'französisch', 'french', 'funk', 'future', 'gangsta', 'garage',\n",
       "       'german', 'ghazal', 'gitarre', 'glitch', 'gospel', 'gothic',\n",
       "       'grime', 'grunge', 'gypsy', 'handsup', \"hard'n'heavy\", 'hardcore',\n",
       "       'hardstyle', 'hardtechno', 'hiphop', 'historisch', 'holiday',\n",
       "       'horror', 'house', 'hymn', 'idm', 'independent', 'indian', 'indie',\n",
       "       'indipop', 'industrial', 'inspirational', 'instrumental',\n",
       "       'international', 'irish', 'jam', 'japanese', 'jazz', 'jewish',\n",
       "       'jpop', 'jungle', 'k-pop', 'karadeniz', 'karaoke', 'kayokyoku',\n",
       "       'korean', 'laiko', 'latin', 'latino', 'leftfield', 'local',\n",
       "       'lounge', 'loungeelectronic', 'lovers', 'malaysian', 'mandopop',\n",
       "       'marschmusik', 'meditative', 'mediterranean', 'melodic', 'metal',\n",
       "       'metalcore', 'mexican', 'middle', 'minimal', 'miscellaneous',\n",
       "       'modern', 'mood', 'mpb', 'muslim', 'native', 'neoklassik', 'neue',\n",
       "       'new', 'newage', 'newwave', 'nu', 'nujazz', 'numetal', 'oceania',\n",
       "       'old', 'opera', 'orchestral', 'other', 'piano', 'podcasts', 'pop',\n",
       "       'popdance', 'popelectronic', 'popeurodance', 'poprussian', 'post',\n",
       "       'posthardcore', 'postrock', 'power', 'progmetal', 'progressive',\n",
       "       'psychedelic', 'punjabi', 'punk', 'quebecois', 'ragga', 'ram',\n",
       "       'rancheras', 'rap', 'rave', 'reggae', 'reggaeton', 'regional',\n",
       "       'relax', 'religious', 'retro', 'rhythm', 'rnb', 'rnr', 'rock',\n",
       "       'rockabilly', 'rockalternative', 'rockindie', 'rockother',\n",
       "       'romance', 'roots', 'ruspop', 'rusrap', 'rusrock', 'russian',\n",
       "       'salsa', 'samba', 'scenic', 'schlager', 'self', 'sertanejo',\n",
       "       'shanson', 'shoegazing', 'showtunes', 'singer', 'ska', 'skarock',\n",
       "       'slow', 'smooth', 'soft', 'soul', 'soulful', 'sound', 'soundtrack',\n",
       "       'southern', 'specialty', 'speech', 'spiritual', 'sport',\n",
       "       'stonerrock', 'surf', 'swing', 'synthpop', 'synthrock',\n",
       "       'sängerportrait', 'tango', 'tanzorchester', 'taraftar', 'tatar',\n",
       "       'tech', 'techno', 'teen', 'thrash', 'top', 'traditional',\n",
       "       'tradjazz', 'trance', 'tribal', 'trip', 'triphop', 'tropical',\n",
       "       'türk', 'türkçe', 'ukrrock', 'unknown', 'urban', 'uzbek',\n",
       "       'variété', 'vi', 'videogame', 'vocal', 'western', 'world',\n",
       "       'worldbeat', 'ïîï', 'электроника'], dtype=object)"
      ]
     },
     "execution_count": 86,
     "metadata": {},
     "output_type": "execute_result"
    }
   ],
   "source": [
    "df['genre'].sort_values().unique()# Просмотр уникальных названий жанров"
   ]
  },
  {
   "cell_type": "markdown",
   "metadata": {
    "id": "qej-Qmuo_Zct"
   },
   "source": [
    "Просмотрите список и найдите неявные дубликаты названия `hiphop`. Это могут быть названия с ошибками или альтернативные названия того же жанра.\n",
    "\n",
    "Вы увидите следующие неявные дубликаты:\n",
    "* *hip*,\n",
    "* *hop*,\n",
    "* *hip-hop*.\n",
    "\n",
    "Чтобы очистить от них таблицу, напишите функцию `replace_wrong_genres()` с двумя параметрами: \n",
    "* `wrong_genres` — список дубликатов,\n",
    "* `correct_genre` — строка с правильным значением.\n",
    "\n",
    "Функция должна исправить колонку `genre` в таблице `df`: заменить каждое значение из списка `wrong_genres` на значение из `correct_genre`."
   ]
  },
  {
   "cell_type": "code",
   "execution_count": 32,
   "metadata": {
    "id": "ErNDkmns_Zct"
   },
   "outputs": [],
   "source": [
    "# Функция для замены неявных дубликатов\n",
    "def replace_wrong_genres(wrong_genres, correct_genre):\n",
    "    for wrong_genre in wrong_genres:\n",
    "        df['genre'] = df['genre'].replace(wrong_genre, correct_genre)\n"
   ]
  },
  {
   "cell_type": "markdown",
   "metadata": {
    "id": "aDoBJxbA_Zct"
   },
   "source": [
    "Вызовите `replace_wrong_genres()` и передайте ей такие аргументы, чтобы она устранила неявные дубликаты: вместо `hip`, `hop` и `hip-hop` в таблице должно быть значение `hiphop`:"
   ]
  },
  {
   "cell_type": "code",
   "execution_count": 58,
   "metadata": {
    "id": "YN5i2hpmSo09"
   },
   "outputs": [],
   "source": [
    "wrong_genres = ['hip', 'hop', 'hip-hop']\n",
    "correct_genre = 'hip-hop'\n",
    "replace_wrong_genres(['hip', 'hop', 'hip-hop'], 'hiphop')# Устранение неявных дубликатов"
   ]
  },
  {
   "cell_type": "markdown",
   "metadata": {
    "id": "zQKF16_RG15m"
   },
   "source": [
    "Проверьте, что заменили неправильные названия:\n",
    "\n",
    "*   hip\n",
    "*   hop\n",
    "*   hip-hop\n",
    "\n",
    "Выведите отсортированный список уникальных значений столбца `genre`:"
   ]
  },
  {
   "cell_type": "code",
   "execution_count": 87,
   "metadata": {
    "id": "wvixALnFG15m",
    "scrolled": true
   },
   "outputs": [
    {
     "data": {
      "text/plain": [
       "array(['acid', 'acoustic', 'action', 'adult', 'africa', 'afrikaans',\n",
       "       'alternative', 'alternativepunk', 'ambient', 'americana',\n",
       "       'animated', 'anime', 'arabesk', 'arabic', 'arena',\n",
       "       'argentinetango', 'art', 'audiobook', 'author', 'avantgarde',\n",
       "       'axé', 'baile', 'balkan', 'beats', 'bigroom', 'black', 'bluegrass',\n",
       "       'blues', 'bollywood', 'bossa', 'brazilian', 'breakbeat', 'breaks',\n",
       "       'broadway', 'cantautori', 'cantopop', 'canzone', 'caribbean',\n",
       "       'caucasian', 'celtic', 'chamber', 'chanson', 'children', 'chill',\n",
       "       'chinese', 'choral', 'christian', 'christmas', 'classical',\n",
       "       'classicmetal', 'club', 'colombian', 'comedy', 'conjazz',\n",
       "       'contemporary', 'country', 'cuban', 'dance', 'dancehall',\n",
       "       'dancepop', 'dark', 'death', 'deep', 'deutschrock', 'deutschspr',\n",
       "       'dirty', 'disco', 'dnb', 'documentary', 'downbeat', 'downtempo',\n",
       "       'drum', 'dub', 'dubstep', 'eastern', 'easy', 'electronic',\n",
       "       'electropop', 'emo', 'entehno', 'epicmetal', 'estrada', 'ethnic',\n",
       "       'eurofolk', 'european', 'experimental', 'extrememetal', 'fado',\n",
       "       'fairytail', 'film', 'fitness', 'flamenco', 'folk', 'folklore',\n",
       "       'folkmetal', 'folkrock', 'folktronica', 'forró', 'frankreich',\n",
       "       'französisch', 'french', 'funk', 'future', 'gangsta', 'garage',\n",
       "       'german', 'ghazal', 'gitarre', 'glitch', 'gospel', 'gothic',\n",
       "       'grime', 'grunge', 'gypsy', 'handsup', \"hard'n'heavy\", 'hardcore',\n",
       "       'hardstyle', 'hardtechno', 'hiphop', 'historisch', 'holiday',\n",
       "       'horror', 'house', 'hymn', 'idm', 'independent', 'indian', 'indie',\n",
       "       'indipop', 'industrial', 'inspirational', 'instrumental',\n",
       "       'international', 'irish', 'jam', 'japanese', 'jazz', 'jewish',\n",
       "       'jpop', 'jungle', 'k-pop', 'karadeniz', 'karaoke', 'kayokyoku',\n",
       "       'korean', 'laiko', 'latin', 'latino', 'leftfield', 'local',\n",
       "       'lounge', 'loungeelectronic', 'lovers', 'malaysian', 'mandopop',\n",
       "       'marschmusik', 'meditative', 'mediterranean', 'melodic', 'metal',\n",
       "       'metalcore', 'mexican', 'middle', 'minimal', 'miscellaneous',\n",
       "       'modern', 'mood', 'mpb', 'muslim', 'native', 'neoklassik', 'neue',\n",
       "       'new', 'newage', 'newwave', 'nu', 'nujazz', 'numetal', 'oceania',\n",
       "       'old', 'opera', 'orchestral', 'other', 'piano', 'podcasts', 'pop',\n",
       "       'popdance', 'popelectronic', 'popeurodance', 'poprussian', 'post',\n",
       "       'posthardcore', 'postrock', 'power', 'progmetal', 'progressive',\n",
       "       'psychedelic', 'punjabi', 'punk', 'quebecois', 'ragga', 'ram',\n",
       "       'rancheras', 'rap', 'rave', 'reggae', 'reggaeton', 'regional',\n",
       "       'relax', 'religious', 'retro', 'rhythm', 'rnb', 'rnr', 'rock',\n",
       "       'rockabilly', 'rockalternative', 'rockindie', 'rockother',\n",
       "       'romance', 'roots', 'ruspop', 'rusrap', 'rusrock', 'russian',\n",
       "       'salsa', 'samba', 'scenic', 'schlager', 'self', 'sertanejo',\n",
       "       'shanson', 'shoegazing', 'showtunes', 'singer', 'ska', 'skarock',\n",
       "       'slow', 'smooth', 'soft', 'soul', 'soulful', 'sound', 'soundtrack',\n",
       "       'southern', 'specialty', 'speech', 'spiritual', 'sport',\n",
       "       'stonerrock', 'surf', 'swing', 'synthpop', 'synthrock',\n",
       "       'sängerportrait', 'tango', 'tanzorchester', 'taraftar', 'tatar',\n",
       "       'tech', 'techno', 'teen', 'thrash', 'top', 'traditional',\n",
       "       'tradjazz', 'trance', 'tribal', 'trip', 'triphop', 'tropical',\n",
       "       'türk', 'türkçe', 'ukrrock', 'unknown', 'urban', 'uzbek',\n",
       "       'variété', 'vi', 'videogame', 'vocal', 'western', 'world',\n",
       "       'worldbeat', 'ïîï', 'электроника'], dtype=object)"
      ]
     },
     "execution_count": 87,
     "metadata": {},
     "output_type": "execute_result"
    }
   ],
   "source": [
    "df['genre'].sort_values().unique()# Проверка на неявные дубликаты"
   ]
  },
  {
   "cell_type": "markdown",
   "metadata": {
    "id": "jz6a9-7HQUDd"
   },
   "source": [
    "**Выводы**\n",
    "\n",
    "Предобработка обнаружила три проблемы в данных:\n",
    "\n",
    "- нарушения в стиле заголовков,\n",
    "- пропущенные значения,\n",
    "- дубликаты — явные и неявные.\n",
    "\n",
    "Вы исправили заголовки, чтобы упростить работу с таблицей. Без дубликатов исследование станет более точным.\n",
    "\n",
    "Пропущенные значения вы заменили на `'unknown'`. Ещё предстоит увидеть, не повредят ли исследованию пропуски в колонке `genre`.\n",
    "\n",
    "Теперь можно перейти к проверке гипотез. "
   ]
  },
  {
   "cell_type": "markdown",
   "metadata": {
    "id": "WttZHXH0SqKk"
   },
   "source": [
    "## Проверка гипотез"
   ]
  },
  {
   "cell_type": "markdown",
   "metadata": {
    "id": "Im936VVi_Zcu"
   },
   "source": [
    "### Сравнение поведения пользователей двух столиц"
   ]
  },
  {
   "cell_type": "markdown",
   "metadata": {
    "id": "nwt_MuaL_Zcu"
   },
   "source": [
    "Первая гипотеза утверждает, что пользователи по-разному слушают музыку в Москве и Санкт-Петербурге. Проверьте это предположение по данным о трёх днях недели — понедельнике, среде и пятнице. Для этого:\n",
    "\n",
    "* Разделите пользователей Москвы и Санкт-Петербурга\n",
    "* Сравните, сколько треков послушала каждая группа пользователей в понедельник, среду и пятницу.\n"
   ]
  },
  {
   "cell_type": "markdown",
   "metadata": {
    "id": "8Dw_YMmT_Zcu"
   },
   "source": [
    "Для тренировки сначала выполните каждый из расчётов по отдельности. \n",
    "\n",
    "Оцените активность пользователей в каждом городе. Сгруппируйте данные по городу и посчитайте прослушивания в каждой группе.\n",
    "\n"
   ]
  },
  {
   "cell_type": "code",
   "execution_count": 88,
   "metadata": {
    "id": "0_Qs96oh_Zcu"
   },
   "outputs": [
    {
     "data": {
      "text/plain": [
       "city\n",
       "Moscow              42741\n",
       "Saint-Petersburg    18512\n",
       "Name: genre, dtype: int64"
      ]
     },
     "execution_count": 88,
     "metadata": {},
     "output_type": "execute_result"
    }
   ],
   "source": [
    "df.groupby('city')['genre'].count()# Подсчёт прослушиваний в каждом городе"
   ]
  },
  {
   "cell_type": "markdown",
   "metadata": {
    "id": "dzli3w8o_Zcu"
   },
   "source": [
    "В Москве прослушиваний больше, чем в Петербурге. Из этого не следует, что московские пользователи чаще слушают музыку. Просто самих пользователей в Москве больше.\n",
    "\n",
    "Теперь сгруппируйте данные по дню недели и подсчитайте прослушивания в понедельник, среду и пятницу. Учтите, что в данных есть информация о прослушиваниях только за эти дни.\n"
   ]
  },
  {
   "cell_type": "code",
   "execution_count": 89,
   "metadata": {
    "id": "uZMKjiJz_Zcu"
   },
   "outputs": [
    {
     "data": {
      "text/plain": [
       "day\n",
       "Friday       21840\n",
       "Monday       21354\n",
       "Wednesday    18059\n",
       "Name: genre, dtype: int64"
      ]
     },
     "execution_count": 89,
     "metadata": {},
     "output_type": "execute_result"
    }
   ],
   "source": [
    "df.groupby('day')['genre'].count()# Подсчёт прослушиваний в каждый из трёх дней"
   ]
  },
  {
   "cell_type": "markdown",
   "metadata": {
    "id": "cC2tNrlL_Zcu"
   },
   "source": [
    "В среднем пользователи из двух городов менее активны по средам. Но картина может измениться, если рассмотреть каждый город в отдельности."
   ]
  },
  {
   "cell_type": "markdown",
   "metadata": {
    "id": "POzs8bGa_Zcu"
   },
   "source": [
    "Вы видели, как работает группировка по городу и по дням недели. Теперь напишите функцию, которая объединит два эти расчёта.\n",
    "\n",
    "Создайте функцию `number_tracks()`, которая посчитает прослушивания для заданного дня и города. Ей понадобятся два параметра:\n",
    "* день недели,\n",
    "* название города.\n",
    "\n",
    "В функции сохраните в переменную строки исходной таблицы, у которых значение:\n",
    "  * в колонке `day` равно параметру `day`,\n",
    "  * в колонке `city` равно параметру `city`.\n",
    "\n",
    "Для этого примените последовательную фильтрацию с логической индексацией.\n",
    "\n",
    "Затем посчитайте значения в столбце `user_id` получившейся таблицы. Результат сохраните в новую переменную. Верните эту переменную из функции."
   ]
  },
  {
   "cell_type": "code",
   "execution_count": 62,
   "metadata": {
    "id": "Nz3GdQB1_Zcu"
   },
   "outputs": [],
   "source": [
    "# <создание функции number_tracks()> \n",
    "def number_tracks(day, city):# Объявляется функция с двумя параметрами: day, city.\n",
    "    track_list = df[(df['day'] == day) & (df['city'] == city)] # В переменной track_list сохраняются те строки таблицы df, для которых \n",
    "    track_list_count = track_list['user_id'].count()\n",
    "    return track_list_count # значение в столбце 'day' равно параметру day и одновременно значение\n",
    "# в столбце 'city' равно параметру city (используйте последовательную фильтрацию\n",
    "# с помощью логической индексации).\n",
    "# В переменной track_list_count сохраняется число значений столбца 'user_id',\n",
    "# рассчитанное методом count() для таблицы track_list.\n",
    "# Функция возвращает число - значение track_list_count.\n",
    "\n",
    "# Функция для подсчёта прослушиваний для конкретного города и дня.\n",
    "# С помощью последовательной фильтрации с логической индексацией она \n",
    "# сначала получит из исходной таблицы строки с нужным днём,\n",
    "# затем из результата отфильтрует строки с нужным городом,\n",
    "# методом count() посчитает количество значений в колонке user_id. \n",
    "# Это количество функция вернёт в качестве результата"
   ]
  },
  {
   "cell_type": "markdown",
   "metadata": {
    "id": "ytf7xFrFJQ2r"
   },
   "source": [
    "Вызовите `number_tracks()` шесть раз, меняя значение параметров — так, чтобы получить данные для каждого города в каждый из трёх дней."
   ]
  },
  {
   "cell_type": "code",
   "execution_count": 63,
   "metadata": {
    "id": "rJcRATNQ_Zcu"
   },
   "outputs": [
    {
     "data": {
      "text/plain": [
       "15740"
      ]
     },
     "execution_count": 63,
     "metadata": {},
     "output_type": "execute_result"
    }
   ],
   "source": [
    "number_tracks(day='Monday', city='Moscow')# количество прослушиваний в Москве по понедельникам"
   ]
  },
  {
   "cell_type": "code",
   "execution_count": 64,
   "metadata": {
    "id": "hq_ncZ5T_Zcu"
   },
   "outputs": [
    {
     "data": {
      "text/plain": [
       "5614"
      ]
     },
     "execution_count": 64,
     "metadata": {},
     "output_type": "execute_result"
    }
   ],
   "source": [
    "number_tracks(day='Monday', city='Saint-Petersburg')# количество прослушиваний в Санкт-Петербурге по понедельникам"
   ]
  },
  {
   "cell_type": "code",
   "execution_count": 65,
   "metadata": {
    "id": "_NTy2VPU_Zcu"
   },
   "outputs": [
    {
     "data": {
      "text/plain": [
       "11056"
      ]
     },
     "execution_count": 65,
     "metadata": {},
     "output_type": "execute_result"
    }
   ],
   "source": [
    "number_tracks(day='Wednesday', city='Moscow')# количество прослушиваний в Москве по средам"
   ]
  },
  {
   "cell_type": "code",
   "execution_count": 66,
   "metadata": {
    "id": "j2y3TAwo_Zcu"
   },
   "outputs": [
    {
     "data": {
      "text/plain": [
       "7003"
      ]
     },
     "execution_count": 66,
     "metadata": {},
     "output_type": "execute_result"
    }
   ],
   "source": [
    "number_tracks(day='Wednesday', city='Saint-Petersburg')# количество прослушиваний в Санкт-Петербурге по средам"
   ]
  },
  {
   "cell_type": "code",
   "execution_count": 67,
   "metadata": {
    "id": "vYDw5u_K_Zcu"
   },
   "outputs": [
    {
     "data": {
      "text/plain": [
       "15945"
      ]
     },
     "execution_count": 67,
     "metadata": {},
     "output_type": "execute_result"
    }
   ],
   "source": [
    "number_tracks(day='Friday', city='Moscow')# количество прослушиваний в Москве по пятницам"
   ]
  },
  {
   "cell_type": "code",
   "execution_count": 68,
   "metadata": {
    "id": "8_yzFtW3_Zcu"
   },
   "outputs": [
    {
     "data": {
      "text/plain": [
       "5895"
      ]
     },
     "execution_count": 68,
     "metadata": {},
     "output_type": "execute_result"
    }
   ],
   "source": [
    "number_tracks(day='Friday', city='Saint-Petersburg')# количество прослушиваний в Санкт-Петербурге по пятницам"
   ]
  },
  {
   "cell_type": "code",
   "execution_count": 69,
   "metadata": {
    "id": "APAcLpOr_Zcu"
   },
   "outputs": [
    {
     "data": {
      "text/html": [
       "<div>\n",
       "<style scoped>\n",
       "    .dataframe tbody tr th:only-of-type {\n",
       "        vertical-align: middle;\n",
       "    }\n",
       "\n",
       "    .dataframe tbody tr th {\n",
       "        vertical-align: top;\n",
       "    }\n",
       "\n",
       "    .dataframe thead th {\n",
       "        text-align: right;\n",
       "    }\n",
       "</style>\n",
       "<table border=\"1\" class=\"dataframe\">\n",
       "  <thead>\n",
       "    <tr style=\"text-align: right;\">\n",
       "      <th></th>\n",
       "      <th>city</th>\n",
       "      <th>monday</th>\n",
       "      <th>wednesday</th>\n",
       "      <th>friday</th>\n",
       "    </tr>\n",
       "  </thead>\n",
       "  <tbody>\n",
       "    <tr>\n",
       "      <th>0</th>\n",
       "      <td>Moscow</td>\n",
       "      <td>15740</td>\n",
       "      <td>11056</td>\n",
       "      <td>15945</td>\n",
       "    </tr>\n",
       "    <tr>\n",
       "      <th>1</th>\n",
       "      <td>Saint-Petersburg</td>\n",
       "      <td>5614</td>\n",
       "      <td>7003</td>\n",
       "      <td>5895</td>\n",
       "    </tr>\n",
       "  </tbody>\n",
       "</table>\n",
       "</div>"
      ],
      "text/plain": [
       "               city  monday  wednesday  friday\n",
       "0            Moscow   15740      11056   15945\n",
       "1  Saint-Petersburg    5614       7003    5895"
      ]
     },
     "execution_count": 69,
     "metadata": {},
     "output_type": "execute_result"
    }
   ],
   "source": [
    "data = [['Moscow', 15740, 11056,15945],\n",
    "        ['Saint-Petersburg', 5614, 7003, 5895]]\n",
    "columns = ['city', 'monday', 'wednesday', 'friday']\n",
    "table = pd.DataFrame(data = data, columns = columns)\n",
    "table# Таблица с результатами"
   ]
  },
  {
   "cell_type": "markdown",
   "metadata": {
    "id": "7QXffbO-_Zcu"
   },
   "source": [
    "Создайте c помощью конструктора `pd.DataFrame` таблицу, где\n",
    "* названия колонок — `['city', 'monday', 'wednesday', 'friday']`;\n",
    "* данные — результаты, которые вы получили с помощью `number_tracks`."
   ]
  },
  {
   "cell_type": "markdown",
   "metadata": {
    "id": "-EgPIHYu_Zcu"
   },
   "source": [
    "**Выводы**\n",
    "\n",
    "Данные показывают разницу поведения пользователей:\n",
    "\n",
    "- В Москве пик прослушиваний приходится на понедельник и пятницу, а в среду заметен спад.\n",
    "- В Петербурге, наоборот, больше слушают музыку по средам. Активность в понедельник и пятницу здесь почти в равной мере уступает среде.\n",
    "\n",
    "Значит, данные говорят в пользу первой гипотезы."
   ]
  },
  {
   "cell_type": "markdown",
   "metadata": {
    "id": "atZAxtq4_Zcu"
   },
   "source": [
    "### Музыка в начале и в конце недели"
   ]
  },
  {
   "cell_type": "markdown",
   "metadata": {
    "id": "eXrQqXFH_Zcu"
   },
   "source": [
    "Согласно второй гипотезе, утром в понедельник в Москве преобладают одни жанры, а в Петербурге — другие. Так же и вечером пятницы преобладают разные жанры — в зависимости от города."
   ]
  },
  {
   "cell_type": "markdown",
   "metadata": {
    "id": "S8UcW6Hw_Zcu"
   },
   "source": [
    "Сохраните таблицы с данными в две переменные:\n",
    "* по Москве — в `moscow_general`;\n",
    "* по Санкт-Петербургу — в `spb_general`."
   ]
  },
  {
   "cell_type": "code",
   "execution_count": 70,
   "metadata": {
    "id": "qeaFfM_P_Zcu"
   },
   "outputs": [
    {
     "data": {
      "text/html": [
       "<div>\n",
       "<style scoped>\n",
       "    .dataframe tbody tr th:only-of-type {\n",
       "        vertical-align: middle;\n",
       "    }\n",
       "\n",
       "    .dataframe tbody tr th {\n",
       "        vertical-align: top;\n",
       "    }\n",
       "\n",
       "    .dataframe thead th {\n",
       "        text-align: right;\n",
       "    }\n",
       "</style>\n",
       "<table border=\"1\" class=\"dataframe\">\n",
       "  <thead>\n",
       "    <tr style=\"text-align: right;\">\n",
       "      <th></th>\n",
       "      <th>index</th>\n",
       "      <th>user_id</th>\n",
       "      <th>track</th>\n",
       "      <th>artist</th>\n",
       "      <th>genre</th>\n",
       "      <th>city</th>\n",
       "      <th>time</th>\n",
       "      <th>day</th>\n",
       "    </tr>\n",
       "  </thead>\n",
       "  <tbody>\n",
       "    <tr>\n",
       "      <th>1</th>\n",
       "      <td>1</td>\n",
       "      <td>55204538</td>\n",
       "      <td>Delayed Because of Accident</td>\n",
       "      <td>Andreas Rönnberg</td>\n",
       "      <td>rock</td>\n",
       "      <td>Moscow</td>\n",
       "      <td>14:07:09</td>\n",
       "      <td>Friday</td>\n",
       "    </tr>\n",
       "    <tr>\n",
       "      <th>4</th>\n",
       "      <td>4</td>\n",
       "      <td>E2DC1FAE</td>\n",
       "      <td>Soul People</td>\n",
       "      <td>Space Echo</td>\n",
       "      <td>dance</td>\n",
       "      <td>Moscow</td>\n",
       "      <td>08:34:34</td>\n",
       "      <td>Monday</td>\n",
       "    </tr>\n",
       "    <tr>\n",
       "      <th>6</th>\n",
       "      <td>6</td>\n",
       "      <td>4CB90AA5</td>\n",
       "      <td>True</td>\n",
       "      <td>Roman Messer</td>\n",
       "      <td>dance</td>\n",
       "      <td>Moscow</td>\n",
       "      <td>13:00:07</td>\n",
       "      <td>Wednesday</td>\n",
       "    </tr>\n",
       "    <tr>\n",
       "      <th>7</th>\n",
       "      <td>7</td>\n",
       "      <td>F03E1C1F</td>\n",
       "      <td>Feeling This Way</td>\n",
       "      <td>Polina Griffith</td>\n",
       "      <td>dance</td>\n",
       "      <td>Moscow</td>\n",
       "      <td>20:47:49</td>\n",
       "      <td>Wednesday</td>\n",
       "    </tr>\n",
       "    <tr>\n",
       "      <th>8</th>\n",
       "      <td>8</td>\n",
       "      <td>8FA1D3BE</td>\n",
       "      <td>И вновь продолжается бой</td>\n",
       "      <td>unknown</td>\n",
       "      <td>ruspop</td>\n",
       "      <td>Moscow</td>\n",
       "      <td>09:17:40</td>\n",
       "      <td>Friday</td>\n",
       "    </tr>\n",
       "    <tr>\n",
       "      <th>...</th>\n",
       "      <td>...</td>\n",
       "      <td>...</td>\n",
       "      <td>...</td>\n",
       "      <td>...</td>\n",
       "      <td>...</td>\n",
       "      <td>...</td>\n",
       "      <td>...</td>\n",
       "      <td>...</td>\n",
       "    </tr>\n",
       "    <tr>\n",
       "      <th>61247</th>\n",
       "      <td>65073</td>\n",
       "      <td>83A474E7</td>\n",
       "      <td>I Worship Only What You Bleed</td>\n",
       "      <td>The Black Dahlia Murder</td>\n",
       "      <td>extrememetal</td>\n",
       "      <td>Moscow</td>\n",
       "      <td>21:07:12</td>\n",
       "      <td>Monday</td>\n",
       "    </tr>\n",
       "    <tr>\n",
       "      <th>61248</th>\n",
       "      <td>65074</td>\n",
       "      <td>729CBB09</td>\n",
       "      <td>My Name</td>\n",
       "      <td>McLean</td>\n",
       "      <td>rnb</td>\n",
       "      <td>Moscow</td>\n",
       "      <td>13:32:28</td>\n",
       "      <td>Wednesday</td>\n",
       "    </tr>\n",
       "    <tr>\n",
       "      <th>61250</th>\n",
       "      <td>65076</td>\n",
       "      <td>C5E3A0D5</td>\n",
       "      <td>Jalopiina</td>\n",
       "      <td>unknown</td>\n",
       "      <td>industrial</td>\n",
       "      <td>Moscow</td>\n",
       "      <td>20:09:26</td>\n",
       "      <td>Friday</td>\n",
       "    </tr>\n",
       "    <tr>\n",
       "      <th>61251</th>\n",
       "      <td>65077</td>\n",
       "      <td>321D0506</td>\n",
       "      <td>Freight Train</td>\n",
       "      <td>Chas McDevitt</td>\n",
       "      <td>rock</td>\n",
       "      <td>Moscow</td>\n",
       "      <td>21:43:59</td>\n",
       "      <td>Friday</td>\n",
       "    </tr>\n",
       "    <tr>\n",
       "      <th>61252</th>\n",
       "      <td>65078</td>\n",
       "      <td>3A64EF84</td>\n",
       "      <td>Tell Me Sweet Little Lies</td>\n",
       "      <td>Monica Lopez</td>\n",
       "      <td>country</td>\n",
       "      <td>Moscow</td>\n",
       "      <td>21:59:46</td>\n",
       "      <td>Friday</td>\n",
       "    </tr>\n",
       "  </tbody>\n",
       "</table>\n",
       "<p>42741 rows × 8 columns</p>\n",
       "</div>"
      ],
      "text/plain": [
       "       index   user_id                          track  \\\n",
       "1          1  55204538    Delayed Because of Accident   \n",
       "4          4  E2DC1FAE                    Soul People   \n",
       "6          6  4CB90AA5                           True   \n",
       "7          7  F03E1C1F               Feeling This Way   \n",
       "8          8  8FA1D3BE       И вновь продолжается бой   \n",
       "...      ...       ...                            ...   \n",
       "61247  65073  83A474E7  I Worship Only What You Bleed   \n",
       "61248  65074  729CBB09                        My Name   \n",
       "61250  65076  C5E3A0D5                      Jalopiina   \n",
       "61251  65077  321D0506                  Freight Train   \n",
       "61252  65078  3A64EF84      Tell Me Sweet Little Lies   \n",
       "\n",
       "                        artist         genre    city      time        day  \n",
       "1             Andreas Rönnberg          rock  Moscow  14:07:09     Friday  \n",
       "4                   Space Echo         dance  Moscow  08:34:34     Monday  \n",
       "6                 Roman Messer         dance  Moscow  13:00:07  Wednesday  \n",
       "7              Polina Griffith         dance  Moscow  20:47:49  Wednesday  \n",
       "8                      unknown        ruspop  Moscow  09:17:40     Friday  \n",
       "...                        ...           ...     ...       ...        ...  \n",
       "61247  The Black Dahlia Murder  extrememetal  Moscow  21:07:12     Monday  \n",
       "61248                   McLean           rnb  Moscow  13:32:28  Wednesday  \n",
       "61250                  unknown    industrial  Moscow  20:09:26     Friday  \n",
       "61251            Chas McDevitt          rock  Moscow  21:43:59     Friday  \n",
       "61252             Monica Lopez       country  Moscow  21:59:46     Friday  \n",
       "\n",
       "[42741 rows x 8 columns]"
      ]
     },
     "metadata": {},
     "output_type": "display_data"
    }
   ],
   "source": [
    "moscow_general=df[df['city'] == 'Moscow']# получение таблицы moscow_general из тех строк таблицы df, \n",
    "display(moscow_general)# для которых значение в столбце 'city' равно 'Moscow'\n"
   ]
  },
  {
   "cell_type": "code",
   "execution_count": 71,
   "metadata": {
    "id": "ORaVRKto_Zcu"
   },
   "outputs": [
    {
     "data": {
      "text/html": [
       "<div>\n",
       "<style scoped>\n",
       "    .dataframe tbody tr th:only-of-type {\n",
       "        vertical-align: middle;\n",
       "    }\n",
       "\n",
       "    .dataframe tbody tr th {\n",
       "        vertical-align: top;\n",
       "    }\n",
       "\n",
       "    .dataframe thead th {\n",
       "        text-align: right;\n",
       "    }\n",
       "</style>\n",
       "<table border=\"1\" class=\"dataframe\">\n",
       "  <thead>\n",
       "    <tr style=\"text-align: right;\">\n",
       "      <th></th>\n",
       "      <th>index</th>\n",
       "      <th>user_id</th>\n",
       "      <th>track</th>\n",
       "      <th>artist</th>\n",
       "      <th>genre</th>\n",
       "      <th>city</th>\n",
       "      <th>time</th>\n",
       "      <th>day</th>\n",
       "    </tr>\n",
       "  </thead>\n",
       "  <tbody>\n",
       "    <tr>\n",
       "      <th>0</th>\n",
       "      <td>0</td>\n",
       "      <td>FFB692EC</td>\n",
       "      <td>Kamigata To Boots</td>\n",
       "      <td>The Mass Missile</td>\n",
       "      <td>rock</td>\n",
       "      <td>Saint-Petersburg</td>\n",
       "      <td>20:28:33</td>\n",
       "      <td>Wednesday</td>\n",
       "    </tr>\n",
       "    <tr>\n",
       "      <th>2</th>\n",
       "      <td>2</td>\n",
       "      <td>20EC38</td>\n",
       "      <td>Funiculì funiculà</td>\n",
       "      <td>Mario Lanza</td>\n",
       "      <td>pop</td>\n",
       "      <td>Saint-Petersburg</td>\n",
       "      <td>20:58:07</td>\n",
       "      <td>Wednesday</td>\n",
       "    </tr>\n",
       "    <tr>\n",
       "      <th>3</th>\n",
       "      <td>3</td>\n",
       "      <td>A3DD03C9</td>\n",
       "      <td>Dragons in the Sunset</td>\n",
       "      <td>Fire + Ice</td>\n",
       "      <td>folk</td>\n",
       "      <td>Saint-Petersburg</td>\n",
       "      <td>08:37:09</td>\n",
       "      <td>Monday</td>\n",
       "    </tr>\n",
       "    <tr>\n",
       "      <th>5</th>\n",
       "      <td>5</td>\n",
       "      <td>842029A1</td>\n",
       "      <td>Преданная</td>\n",
       "      <td>IMPERVTOR</td>\n",
       "      <td>rusrap</td>\n",
       "      <td>Saint-Petersburg</td>\n",
       "      <td>13:09:41</td>\n",
       "      <td>Friday</td>\n",
       "    </tr>\n",
       "    <tr>\n",
       "      <th>9</th>\n",
       "      <td>9</td>\n",
       "      <td>E772D5C0</td>\n",
       "      <td>Pessimist</td>\n",
       "      <td>unknown</td>\n",
       "      <td>dance</td>\n",
       "      <td>Saint-Petersburg</td>\n",
       "      <td>21:20:49</td>\n",
       "      <td>Wednesday</td>\n",
       "    </tr>\n",
       "    <tr>\n",
       "      <th>...</th>\n",
       "      <td>...</td>\n",
       "      <td>...</td>\n",
       "      <td>...</td>\n",
       "      <td>...</td>\n",
       "      <td>...</td>\n",
       "      <td>...</td>\n",
       "      <td>...</td>\n",
       "      <td>...</td>\n",
       "    </tr>\n",
       "    <tr>\n",
       "      <th>61239</th>\n",
       "      <td>65063</td>\n",
       "      <td>D94F810B</td>\n",
       "      <td>Theme from the Walking Dead</td>\n",
       "      <td>Proyecto Halloween</td>\n",
       "      <td>film</td>\n",
       "      <td>Saint-Petersburg</td>\n",
       "      <td>21:14:40</td>\n",
       "      <td>Monday</td>\n",
       "    </tr>\n",
       "    <tr>\n",
       "      <th>61240</th>\n",
       "      <td>65064</td>\n",
       "      <td>BC8EC5CF</td>\n",
       "      <td>Red Lips: Gta (Rover Rework)</td>\n",
       "      <td>Rover</td>\n",
       "      <td>electronic</td>\n",
       "      <td>Saint-Petersburg</td>\n",
       "      <td>21:06:50</td>\n",
       "      <td>Monday</td>\n",
       "    </tr>\n",
       "    <tr>\n",
       "      <th>61241</th>\n",
       "      <td>65065</td>\n",
       "      <td>29E04611</td>\n",
       "      <td>Bre Petrunko</td>\n",
       "      <td>Perunika Trio</td>\n",
       "      <td>world</td>\n",
       "      <td>Saint-Petersburg</td>\n",
       "      <td>13:56:00</td>\n",
       "      <td>Monday</td>\n",
       "    </tr>\n",
       "    <tr>\n",
       "      <th>61242</th>\n",
       "      <td>65066</td>\n",
       "      <td>1B91C621</td>\n",
       "      <td>(Hello) Cloud Mountain</td>\n",
       "      <td>sleepmakeswaves</td>\n",
       "      <td>postrock</td>\n",
       "      <td>Saint-Petersburg</td>\n",
       "      <td>09:22:13</td>\n",
       "      <td>Monday</td>\n",
       "    </tr>\n",
       "    <tr>\n",
       "      <th>61249</th>\n",
       "      <td>65075</td>\n",
       "      <td>D08D4A55</td>\n",
       "      <td>Maybe One Day (feat. Black Spade)</td>\n",
       "      <td>Blu &amp; Exile</td>\n",
       "      <td>hiphop</td>\n",
       "      <td>Saint-Petersburg</td>\n",
       "      <td>10:00:00</td>\n",
       "      <td>Monday</td>\n",
       "    </tr>\n",
       "  </tbody>\n",
       "</table>\n",
       "<p>18512 rows × 8 columns</p>\n",
       "</div>"
      ],
      "text/plain": [
       "       index   user_id                              track              artist  \\\n",
       "0          0  FFB692EC                  Kamigata To Boots    The Mass Missile   \n",
       "2          2    20EC38                  Funiculì funiculà         Mario Lanza   \n",
       "3          3  A3DD03C9              Dragons in the Sunset          Fire + Ice   \n",
       "5          5  842029A1                          Преданная           IMPERVTOR   \n",
       "9          9  E772D5C0                          Pessimist             unknown   \n",
       "...      ...       ...                                ...                 ...   \n",
       "61239  65063  D94F810B        Theme from the Walking Dead  Proyecto Halloween   \n",
       "61240  65064  BC8EC5CF       Red Lips: Gta (Rover Rework)               Rover   \n",
       "61241  65065  29E04611                       Bre Petrunko       Perunika Trio   \n",
       "61242  65066  1B91C621             (Hello) Cloud Mountain     sleepmakeswaves   \n",
       "61249  65075  D08D4A55  Maybe One Day (feat. Black Spade)         Blu & Exile   \n",
       "\n",
       "            genre              city      time        day  \n",
       "0            rock  Saint-Petersburg  20:28:33  Wednesday  \n",
       "2             pop  Saint-Petersburg  20:58:07  Wednesday  \n",
       "3            folk  Saint-Petersburg  08:37:09     Monday  \n",
       "5          rusrap  Saint-Petersburg  13:09:41     Friday  \n",
       "9           dance  Saint-Petersburg  21:20:49  Wednesday  \n",
       "...           ...               ...       ...        ...  \n",
       "61239        film  Saint-Petersburg  21:14:40     Monday  \n",
       "61240  electronic  Saint-Petersburg  21:06:50     Monday  \n",
       "61241       world  Saint-Petersburg  13:56:00     Monday  \n",
       "61242    postrock  Saint-Petersburg  09:22:13     Monday  \n",
       "61249      hiphop  Saint-Petersburg  10:00:00     Monday  \n",
       "\n",
       "[18512 rows x 8 columns]"
      ]
     },
     "metadata": {},
     "output_type": "display_data"
    }
   ],
   "source": [
    "spb_general=df[df['city'] == 'Saint-Petersburg']# получение таблицы spb_general из тех строк таблицы df,\n",
    "display(spb_general)# для которых значение в столбце 'city' равно 'Saint-Petersburg'\n"
   ]
  },
  {
   "cell_type": "markdown",
   "metadata": {
    "id": "MEJV-CX2_Zcu"
   },
   "source": [
    "Создайте функцию `genre_weekday()` с четырьмя параметрами:\n",
    "* таблица (датафрейм) с данными,\n",
    "* день недели,\n",
    "* начальная временная метка в формате 'hh:mm', \n",
    "* последняя временная метка в формате 'hh:mm'.\n",
    "\n",
    "Функция должна вернуть информацию о топ-10 жанров тех треков, которые прослушивали в указанный день, в промежутке между двумя отметками времени."
   ]
  },
  {
   "cell_type": "code",
   "execution_count": 91,
   "metadata": {
    "id": "laJT9BYl_Zcu"
   },
   "outputs": [],
   "source": [
    "def genre_weekday(table, day, time1, time2):# Объявление функции genre_weekday() с параметрами table, day, time1, time2,\n",
    "    genre_df = table[table['day']==day]\n",
    "    genre_df = genre_df[genre_df['time'] > time1]\n",
    "    genre_df = genre_df[genre_df['time'] < time2]# которая возвращает информацию о самых популярных жанрах в указанный день в\n",
    "    genre_df_count = genre_df.groupby('genre')['user_id'].count()\n",
    "    genre_df_sorted = genre_df_count.sort_values(ascending=False)\n",
    "    return genre_df_sorted.head(10)# заданное время:\n",
    "# 1) в переменную genre_df сохраняются те строки переданного датафрейма table, для\n",
    "#    которых одновременно:\n",
    "#    - значение в столбце day равно значению аргумента day\n",
    "#    - значение в столбце time больше значения аргумента time1\n",
    "#    - значение в столбце time меньше значения аргумента time2\n",
    "#    Используйте последовательную фильтрацию с помощью логической индексации.\n",
    "# 2) сгруппировать датафрейм genre_df по столбцу genre, взять один из его\n",
    "#    столбцов и посчитать методом count() количество записей для каждого из\n",
    "#    присутствующих жанров, получившийся Series записать в переменную\n",
    "#    genre_df_count\n",
    "# 3) отсортировать genre_df_count по убыванию встречаемости и сохранить\n",
    "#    в переменную genre_df_sorted\n",
    "# 4) вернуть Series из 10 первых значений genre_df_sorted, это будут топ-10\n",
    "#    популярных жанров (в указанный день, в заданное время)"
   ]
  },
  {
   "cell_type": "markdown",
   "metadata": {
    "id": "la2s2_PF_Zcu"
   },
   "source": [
    "Cравните результаты функции `genre_weekday()` для Москвы и Санкт-Петербурга в понедельник утром (с 7:00 до 11:00) и в пятницу вечером (с 17:00 до 23:00):"
   ]
  },
  {
   "cell_type": "code",
   "execution_count": 92,
   "metadata": {
    "id": "yz7itPUQ_Zcu"
   },
   "outputs": [
    {
     "data": {
      "text/plain": [
       "genre\n",
       "pop            781\n",
       "dance          549\n",
       "electronic     480\n",
       "rock           474\n",
       "hiphop         286\n",
       "ruspop         186\n",
       "world          181\n",
       "rusrap         175\n",
       "alternative    164\n",
       "unknown        161\n",
       "Name: user_id, dtype: int64"
      ]
     },
     "execution_count": 92,
     "metadata": {},
     "output_type": "execute_result"
    }
   ],
   "source": [
    "genre_weekday(moscow_general, 'Monday', '07:00', '11:00') # вызов функции для утра понедельника в Москве (вместо df — таблица moscow_general)\n",
    "# объекты, хранящие время, являются строками и сравниваются как строки\n",
    "# пример вызова: genre_weekday(moscow_general, 'Monday', '07:00', '11:00')"
   ]
  },
  {
   "cell_type": "code",
   "execution_count": 93,
   "metadata": {
    "id": "kwUcHPdy_Zcu"
   },
   "outputs": [
    {
     "data": {
      "text/plain": [
       "genre\n",
       "pop            218\n",
       "dance          182\n",
       "rock           162\n",
       "electronic     147\n",
       "hiphop          80\n",
       "ruspop          64\n",
       "alternative     58\n",
       "rusrap          55\n",
       "jazz            44\n",
       "classical       40\n",
       "Name: user_id, dtype: int64"
      ]
     },
     "execution_count": 93,
     "metadata": {},
     "output_type": "execute_result"
    }
   ],
   "source": [
    "genre_weekday(spb_general, 'Monday', '07:00', '11:00')# вызов функции для утра понедельника в Петербурге (вместо df — таблица spb_general)"
   ]
  },
  {
   "cell_type": "code",
   "execution_count": 94,
   "metadata": {
    "id": "EzXVRE1o_Zcu"
   },
   "outputs": [
    {
     "data": {
      "text/plain": [
       "genre\n",
       "pop            713\n",
       "rock           517\n",
       "dance          495\n",
       "electronic     482\n",
       "hiphop         273\n",
       "world          208\n",
       "ruspop         170\n",
       "alternative    163\n",
       "classical      163\n",
       "rusrap         142\n",
       "Name: user_id, dtype: int64"
      ]
     },
     "execution_count": 94,
     "metadata": {},
     "output_type": "execute_result"
    }
   ],
   "source": [
    "genre_weekday(moscow_general, 'Friday', '17:00', '23:00')# вызов функции для вечера пятницы в Москве"
   ]
  },
  {
   "cell_type": "code",
   "execution_count": 95,
   "metadata": {
    "id": "JZaEKu5v_Zcu"
   },
   "outputs": [
    {
     "data": {
      "text/plain": [
       "genre\n",
       "pop            256\n",
       "electronic     216\n",
       "rock           216\n",
       "dance          210\n",
       "hiphop          97\n",
       "alternative     63\n",
       "jazz            61\n",
       "classical       60\n",
       "rusrap          59\n",
       "world           54\n",
       "Name: user_id, dtype: int64"
      ]
     },
     "execution_count": 95,
     "metadata": {},
     "output_type": "execute_result"
    }
   ],
   "source": [
    "genre_weekday(spb_general, 'Friday', '17:00', '23:00')# вызов функции для вечера пятницы в Петербурге"
   ]
  },
  {
   "cell_type": "markdown",
   "metadata": {
    "id": "wrCe4MNX_Zcu"
   },
   "source": [
    "**Выводы**\n",
    "\n",
    "Если сравнить топ-10 жанров в понедельник утром, можно сделать такие выводы:\n",
    "\n",
    "1. В Москве и Петербурге слушают похожую музыку. Единственное отличие — в московский рейтинг вошёл жанр “world”, а в петербургский — джаз и классика.\n",
    "\n",
    "2. В Москве пропущенных значений оказалось так много, что значение `'unknown'` заняло десятое место среди самых популярных жанров. Значит, пропущенные значения занимают существенную долю в данных и угрожают достоверности исследования.\n",
    "\n",
    "Вечер пятницы не меняет эту картину. Некоторые жанры поднимаются немного выше, другие спускаются, но в целом топ-10 остаётся тем же самым.\n",
    "\n",
    "Таким образом, вторая гипотеза подтвердилась лишь частично:\n",
    "* Пользователи слушают похожую музыку в начале недели и в конце.\n",
    "* Разница между Москвой и Петербургом не слишком выражена. В Москве чаще слушают русскую популярную музыку, в Петербурге — джаз.\n",
    "\n",
    "Однако пропуски в данных ставят под сомнение этот результат. В Москве их так много, что рейтинг топ-10 мог бы выглядеть иначе, если бы не утерянные  данные о жанрах."
   ]
  },
  {
   "cell_type": "markdown",
   "metadata": {
    "id": "JolODAqr_Zcu"
   },
   "source": [
    "### Жанровые предпочтения в Москве и Петербурге\n",
    "\n",
    "Гипотеза: Петербург — столица рэпа, музыку этого жанра там слушают чаще, чем в Москве.  А Москва — город контрастов, в котором, тем не менее, преобладает поп-музыка."
   ]
  },
  {
   "cell_type": "markdown",
   "metadata": {
    "id": "DlegSvaT_Zcu"
   },
   "source": [
    "Сгруппируйте таблицу `moscow_general` по жанру и посчитайте прослушивания треков каждого жанра методом `count()`. Затем отсортируйте результат в порядке убывания и сохраните его в таблице `moscow_genres`."
   ]
  },
  {
   "cell_type": "code",
   "execution_count": 96,
   "metadata": {},
   "outputs": [],
   "source": [
    "moscow_genres = moscow_general.groupby('genre')['genre'].count().sort_values(ascending = False)# одной строкой: группировка таблицы spb_general по столбцу 'genre', \n",
    "# подсчёт числа значений 'genre' в этой группировке методом count(), \n",
    "# сортировка получившегося Series в порядке убывания и сохранение в spb_genres"
   ]
  },
  {
   "cell_type": "markdown",
   "metadata": {},
   "source": [
    "Выведите на экран первые десять строк `moscow_genres`:"
   ]
  },
  {
   "cell_type": "code",
   "execution_count": 97,
   "metadata": {
    "id": "WhCSooF8_Zcv"
   },
   "outputs": [
    {
     "data": {
      "text/plain": [
       "genre\n",
       "pop            5892\n",
       "dance          4435\n",
       "rock           3965\n",
       "electronic     3786\n",
       "hiphop         2096\n",
       "classical      1616\n",
       "world          1432\n",
       "alternative    1379\n",
       "ruspop         1372\n",
       "rusrap         1161\n",
       "Name: genre, dtype: int64"
      ]
     },
     "execution_count": 97,
     "metadata": {},
     "output_type": "execute_result"
    }
   ],
   "source": [
    "moscow_genres.head(10)# просмотр первых 10 строк moscow_genres"
   ]
  },
  {
   "cell_type": "markdown",
   "metadata": {
    "id": "cnPG2vnN_Zcv"
   },
   "source": [
    "Теперь повторите то же и для Петербурга.\n",
    "\n",
    "Сгруппируйте таблицу `spb_general` по жанру. Посчитайте прослушивания треков каждого жанра. Результат отсортируйте в порядке убывания и сохраните в таблице `spb_genres`:\n"
   ]
  },
  {
   "cell_type": "code",
   "execution_count": 98,
   "metadata": {
    "id": "gluLIpE7_Zcv"
   },
   "outputs": [],
   "source": [
    "spb_genres = spb_general.groupby('genre')['genre'].count().sort_values(ascending = False)# одной строкой: группировка таблицы spb_general по столбцу 'genre', \n",
    "# подсчёт числа значений 'genre' в этой группировке методом count(), \n",
    "# сортировка получившегося Series в порядке убывания и сохранение в spb_genres"
   ]
  },
  {
   "cell_type": "markdown",
   "metadata": {
    "id": "5Doha_ODgyQ8"
   },
   "source": [
    "Выведите на экран первые десять строк `spb_genres`:"
   ]
  },
  {
   "cell_type": "code",
   "execution_count": 99,
   "metadata": {
    "id": "uaGJHjVU_Zcv"
   },
   "outputs": [
    {
     "data": {
      "text/plain": [
       "genre\n",
       "pop            2431\n",
       "dance          1932\n",
       "rock           1879\n",
       "electronic     1736\n",
       "hiphop          960\n",
       "alternative     649\n",
       "classical       646\n",
       "rusrap          564\n",
       "ruspop          538\n",
       "world           515\n",
       "Name: genre, dtype: int64"
      ]
     },
     "execution_count": 99,
     "metadata": {},
     "output_type": "execute_result"
    }
   ],
   "source": [
    "spb_genres.head(10)# просмотр первых 10 строк spb_genres"
   ]
  },
  {
   "cell_type": "markdown",
   "metadata": {
    "id": "RY51YJYu_Zcv"
   },
   "source": [
    "**Выводы**"
   ]
  },
  {
   "cell_type": "markdown",
   "metadata": {
    "id": "nVhnJEm__Zcv"
   },
   "source": [
    "Гипотеза частично подтвердилась:\n",
    "* Поп-музыка — самый популярный жанр в Москве, как и предполагала гипотеза. Более того, в топ-10 жанров встречается близкий жанр — русская популярная музыка.\n",
    "* Вопреки ожиданиям, рэп одинаково популярен в Москве и Петербурге. \n"
   ]
  },
  {
   "cell_type": "markdown",
   "metadata": {
    "id": "ykKQ0N65_Zcv"
   },
   "source": [
    "## Итоги исследования"
   ]
  },
  {
   "cell_type": "markdown",
   "metadata": {
    "id": "tjUwbHb3_Zcv"
   },
   "source": [
    "Вы проверили три гипотезы и установили:\n",
    "\n",
    "1. День недели по-разному влияет на активность пользователей в Москве и Петербурге. \n",
    "\n",
    "Первая гипотеза полностью подтвердилась.\n",
    "\n",
    "2. Музыкальные предпочтения не сильно меняются в течение недели — будь то Москва или Петербург. Небольшие различия заметны в начале недели, по понедельникам:\n",
    "* в Москве слушают музыку жанра “world”,\n",
    "* в Петербурге — джаз и классику.\n",
    "\n",
    "Таким образом, вторая гипотеза подтвердилась лишь отчасти. Этот результат мог оказаться иным, если бы не пропуски в данных.\n",
    "\n",
    "3. Во вкусах пользователей Москвы и Петербурга больше общего чем различий. Вопреки ожиданиям, предпочтения жанров в Петербурге напоминают московские.\n",
    "\n",
    "Третья гипотеза не подтвердилась. Если различия в предпочтениях и существуют, на основной массе пользователей они незаметны.\n",
    "\n",
    "**На практике исследования содержат проверки статистических гипотез.**\n",
    "Из данных одного сервиса не всегда можно сделать вывод о всех жителях города.\n",
    "Проверки статистических гипотез покажут, насколько они достоверны, исходя из имеющихся данных. \n",
    "С методами проверок гипотез вы ещё познакомитесь в следующих темах."
   ]
  }
 ],
 "metadata": {
  "ExecuteTimeLog": [
   {
    "duration": 65,
    "start_time": "2022-04-02T10:30:46.821Z"
   },
   {
    "duration": 8,
    "start_time": "2022-04-02T10:31:06.861Z"
   },
   {
    "duration": 8,
    "start_time": "2022-04-02T10:31:42.571Z"
   },
   {
    "duration": 9,
    "start_time": "2022-04-02T10:40:00.451Z"
   },
   {
    "duration": 441,
    "start_time": "2022-04-02T10:40:11.814Z"
   },
   {
    "duration": 197,
    "start_time": "2022-04-02T10:40:18.458Z"
   },
   {
    "duration": 25,
    "start_time": "2022-04-02T10:42:49.615Z"
   },
   {
    "duration": 40,
    "start_time": "2022-04-02T10:59:07.821Z"
   },
   {
    "duration": 6,
    "start_time": "2022-04-02T11:01:37.114Z"
   },
   {
    "duration": 37,
    "start_time": "2022-04-02T11:02:10.508Z"
   },
   {
    "duration": 9,
    "start_time": "2022-04-02T11:02:25.952Z"
   },
   {
    "duration": 7,
    "start_time": "2022-04-02T11:03:41.082Z"
   },
   {
    "duration": 18,
    "start_time": "2022-04-02T11:08:49.430Z"
   },
   {
    "duration": 8,
    "start_time": "2022-04-02T11:09:02.400Z"
   },
   {
    "duration": 36,
    "start_time": "2022-04-02T11:10:07.235Z"
   },
   {
    "duration": 26,
    "start_time": "2022-04-02T11:17:47.767Z"
   },
   {
    "duration": 34,
    "start_time": "2022-04-02T11:18:09.964Z"
   },
   {
    "duration": 94,
    "start_time": "2022-04-02T11:18:48.874Z"
   },
   {
    "duration": 93,
    "start_time": "2022-04-02T11:19:13.249Z"
   },
   {
    "duration": 87,
    "start_time": "2022-04-02T11:19:30.329Z"
   },
   {
    "duration": 120,
    "start_time": "2022-04-02T11:20:08.843Z"
   },
   {
    "duration": 129,
    "start_time": "2022-04-02T11:20:12.685Z"
   },
   {
    "duration": 11,
    "start_time": "2022-04-02T11:21:15.350Z"
   },
   {
    "duration": 4,
    "start_time": "2022-04-02T11:44:03.153Z"
   },
   {
    "duration": 11,
    "start_time": "2022-04-02T11:46:40.979Z"
   },
   {
    "duration": 47,
    "start_time": "2022-04-02T11:52:45.255Z"
   },
   {
    "duration": 50,
    "start_time": "2022-04-02T11:53:25.403Z"
   },
   {
    "duration": 126,
    "start_time": "2022-04-02T12:33:39.964Z"
   },
   {
    "duration": 6,
    "start_time": "2022-04-02T12:34:53.718Z"
   },
   {
    "duration": 105,
    "start_time": "2022-04-02T12:35:11.351Z"
   },
   {
    "duration": 148,
    "start_time": "2022-04-02T12:35:42.078Z"
   },
   {
    "duration": 114,
    "start_time": "2022-04-02T12:36:21.742Z"
   },
   {
    "duration": 155,
    "start_time": "2022-04-02T12:39:07.930Z"
   },
   {
    "duration": 128,
    "start_time": "2022-04-02T12:45:54.458Z"
   },
   {
    "duration": 5,
    "start_time": "2022-04-02T12:46:09.419Z"
   },
   {
    "duration": 28,
    "start_time": "2022-04-02T12:48:26.343Z"
   },
   {
    "duration": 27,
    "start_time": "2022-04-02T12:57:03.118Z"
   },
   {
    "duration": 148,
    "start_time": "2022-04-02T12:57:31.772Z"
   },
   {
    "duration": 28,
    "start_time": "2022-04-02T13:01:14.443Z"
   },
   {
    "duration": 5,
    "start_time": "2022-04-02T13:04:26.196Z"
   },
   {
    "duration": 20,
    "start_time": "2022-04-02T13:04:49.540Z"
   },
   {
    "duration": 19,
    "start_time": "2022-04-02T13:08:25.754Z"
   },
   {
    "duration": 20,
    "start_time": "2022-04-02T13:08:42.978Z"
   },
   {
    "duration": 18,
    "start_time": "2022-04-02T13:09:02.143Z"
   },
   {
    "duration": 20,
    "start_time": "2022-04-02T13:09:52.916Z"
   },
   {
    "duration": 21,
    "start_time": "2022-04-02T13:09:57.418Z"
   },
   {
    "duration": 124,
    "start_time": "2022-04-02T13:19:56.074Z"
   },
   {
    "duration": 13,
    "start_time": "2022-04-02T13:20:18.120Z"
   },
   {
    "duration": 12,
    "start_time": "2022-04-02T13:27:16.222Z"
   },
   {
    "duration": 12,
    "start_time": "2022-04-02T13:27:59.751Z"
   },
   {
    "duration": 129,
    "start_time": "2022-04-02T14:07:49.227Z"
   },
   {
    "duration": 139,
    "start_time": "2022-04-02T14:13:34.440Z"
   },
   {
    "duration": 118,
    "start_time": "2022-04-02T14:26:55.319Z"
   },
   {
    "duration": 128,
    "start_time": "2022-04-02T14:27:10.906Z"
   },
   {
    "duration": 13,
    "start_time": "2022-04-03T12:22:49.244Z"
   },
   {
    "duration": 63,
    "start_time": "2022-04-03T12:27:24.743Z"
   },
   {
    "duration": 186,
    "start_time": "2022-04-03T12:27:34.290Z"
   },
   {
    "duration": 165,
    "start_time": "2022-04-03T12:28:08.993Z"
   },
   {
    "duration": 8,
    "start_time": "2022-04-03T12:28:44.836Z"
   },
   {
    "duration": 10,
    "start_time": "2022-04-03T12:29:48.637Z"
   },
   {
    "duration": 518,
    "start_time": "2022-04-03T12:30:00.014Z"
   },
   {
    "duration": 200,
    "start_time": "2022-04-03T12:30:09.627Z"
   },
   {
    "duration": 39,
    "start_time": "2022-04-03T12:30:12.355Z"
   },
   {
    "duration": 41,
    "start_time": "2022-04-03T12:30:16.459Z"
   },
   {
    "duration": 6,
    "start_time": "2022-04-03T12:30:22.274Z"
   },
   {
    "duration": 14,
    "start_time": "2022-04-03T12:30:26.443Z"
   },
   {
    "duration": 6,
    "start_time": "2022-04-03T12:30:29.986Z"
   },
   {
    "duration": 34,
    "start_time": "2022-04-03T12:30:32.939Z"
   },
   {
    "duration": 24,
    "start_time": "2022-04-03T12:30:35.870Z"
   },
   {
    "duration": 33,
    "start_time": "2022-04-03T12:30:38.132Z"
   },
   {
    "duration": 95,
    "start_time": "2022-04-03T12:30:41.113Z"
   },
   {
    "duration": 109,
    "start_time": "2022-04-03T12:30:43.685Z"
   },
   {
    "duration": 94,
    "start_time": "2022-04-03T12:30:46.188Z"
   },
   {
    "duration": 11,
    "start_time": "2022-04-03T12:30:49.051Z"
   },
   {
    "duration": 228,
    "start_time": "2022-04-03T12:30:53.697Z"
   },
   {
    "duration": 184,
    "start_time": "2022-04-03T12:31:08.490Z"
   },
   {
    "duration": 4,
    "start_time": "2022-04-03T12:34:10.722Z"
   },
   {
    "duration": 234,
    "start_time": "2022-04-03T12:34:29.165Z"
   },
   {
    "duration": 4,
    "start_time": "2022-04-03T12:34:47.002Z"
   },
   {
    "duration": 13,
    "start_time": "2022-04-03T12:34:53.465Z"
   },
   {
    "duration": 59,
    "start_time": "2022-04-03T12:35:00.236Z"
   },
   {
    "duration": 48,
    "start_time": "2022-04-03T12:35:04.209Z"
   },
   {
    "duration": 5,
    "start_time": "2022-04-03T12:35:08.843Z"
   },
   {
    "duration": 23,
    "start_time": "2022-04-03T12:35:12.522Z"
   },
   {
    "duration": 20,
    "start_time": "2022-04-03T12:35:15.249Z"
   },
   {
    "duration": 21,
    "start_time": "2022-04-03T12:35:16.055Z"
   },
   {
    "duration": 20,
    "start_time": "2022-04-03T12:35:16.686Z"
   },
   {
    "duration": 24,
    "start_time": "2022-04-03T12:35:17.383Z"
   },
   {
    "duration": 20,
    "start_time": "2022-04-03T12:35:19.027Z"
   },
   {
    "duration": 14,
    "start_time": "2022-04-03T12:37:03.964Z"
   },
   {
    "duration": 11,
    "start_time": "2022-04-03T12:37:09.184Z"
   },
   {
    "duration": 11,
    "start_time": "2022-04-03T12:37:14.363Z"
   },
   {
    "duration": 6,
    "start_time": "2022-04-03T12:37:18.809Z"
   },
   {
    "duration": 233,
    "start_time": "2022-04-03T12:37:23.460Z"
   },
   {
    "duration": 6,
    "start_time": "2022-04-03T12:37:56.507Z"
   },
   {
    "duration": 201,
    "start_time": "2022-04-03T12:38:00.321Z"
   },
   {
    "duration": 3,
    "start_time": "2022-04-03T12:39:11.495Z"
   },
   {
    "duration": 3,
    "start_time": "2022-04-03T12:39:17.989Z"
   },
   {
    "duration": 191,
    "start_time": "2022-04-03T12:39:21.822Z"
   },
   {
    "duration": 17,
    "start_time": "2022-04-03T12:39:25.628Z"
   },
   {
    "duration": 39,
    "start_time": "2022-04-03T12:39:29.570Z"
   },
   {
    "duration": 5,
    "start_time": "2022-04-03T12:39:34.480Z"
   },
   {
    "duration": 14,
    "start_time": "2022-04-03T12:39:37.681Z"
   },
   {
    "duration": 6,
    "start_time": "2022-04-03T12:39:39.969Z"
   },
   {
    "duration": 33,
    "start_time": "2022-04-03T12:39:43.157Z"
   },
   {
    "duration": 23,
    "start_time": "2022-04-03T12:39:45.961Z"
   },
   {
    "duration": 33,
    "start_time": "2022-04-03T12:39:48.503Z"
   },
   {
    "duration": 96,
    "start_time": "2022-04-03T12:39:51.618Z"
   },
   {
    "duration": 101,
    "start_time": "2022-04-03T12:39:54.001Z"
   },
   {
    "duration": 89,
    "start_time": "2022-04-03T12:39:56.229Z"
   },
   {
    "duration": 11,
    "start_time": "2022-04-03T12:39:58.939Z"
   },
   {
    "duration": 4,
    "start_time": "2022-04-03T12:40:02.831Z"
   },
   {
    "duration": 4,
    "start_time": "2022-04-03T12:40:05.302Z"
   },
   {
    "duration": 11,
    "start_time": "2022-04-03T12:40:09.390Z"
   },
   {
    "duration": 49,
    "start_time": "2022-04-03T12:40:14.263Z"
   },
   {
    "duration": 49,
    "start_time": "2022-04-03T12:40:18.463Z"
   },
   {
    "duration": 5,
    "start_time": "2022-04-03T12:40:22.191Z"
   },
   {
    "duration": 23,
    "start_time": "2022-04-03T12:40:27.948Z"
   },
   {
    "duration": 23,
    "start_time": "2022-04-03T12:40:28.596Z"
   },
   {
    "duration": 20,
    "start_time": "2022-04-03T12:40:29.225Z"
   },
   {
    "duration": 19,
    "start_time": "2022-04-03T12:40:29.850Z"
   },
   {
    "duration": 23,
    "start_time": "2022-04-03T12:40:30.490Z"
   },
   {
    "duration": 18,
    "start_time": "2022-04-03T12:40:31.955Z"
   },
   {
    "duration": 14,
    "start_time": "2022-04-03T12:40:37.998Z"
   },
   {
    "duration": 11,
    "start_time": "2022-04-03T12:40:41.997Z"
   },
   {
    "duration": 12,
    "start_time": "2022-04-03T12:40:43.987Z"
   },
   {
    "duration": 6,
    "start_time": "2022-04-03T12:40:47.951Z"
   },
   {
    "duration": 211,
    "start_time": "2022-04-03T12:40:51.036Z"
   },
   {
    "duration": 2891,
    "start_time": "2022-04-03T12:41:46.991Z"
   },
   {
    "duration": 3347,
    "start_time": "2022-04-03T12:44:29.743Z"
   },
   {
    "duration": 3125,
    "start_time": "2022-04-03T12:44:51.966Z"
   },
   {
    "duration": 4,
    "start_time": "2022-04-03T13:10:30.085Z"
   },
   {
    "duration": 211,
    "start_time": "2022-04-03T13:10:32.597Z"
   },
   {
    "duration": 17,
    "start_time": "2022-04-03T13:10:34.165Z"
   },
   {
    "duration": 38,
    "start_time": "2022-04-03T13:10:41.700Z"
   },
   {
    "duration": 38,
    "start_time": "2022-04-03T13:10:45.361Z"
   },
   {
    "duration": 6,
    "start_time": "2022-04-03T13:10:52.876Z"
   },
   {
    "duration": 6,
    "start_time": "2022-04-03T13:11:07.441Z"
   },
   {
    "duration": 8,
    "start_time": "2022-04-03T13:11:10.779Z"
   },
   {
    "duration": 6,
    "start_time": "2022-04-03T13:11:13.184Z"
   },
   {
    "duration": 33,
    "start_time": "2022-04-03T13:11:17.176Z"
   },
   {
    "duration": 22,
    "start_time": "2022-04-03T13:11:19.436Z"
   },
   {
    "duration": 34,
    "start_time": "2022-04-03T13:11:23.936Z"
   },
   {
    "duration": 90,
    "start_time": "2022-04-03T13:11:27.842Z"
   },
   {
    "duration": 104,
    "start_time": "2022-04-03T13:11:30.468Z"
   },
   {
    "duration": 87,
    "start_time": "2022-04-03T13:11:33.168Z"
   },
   {
    "duration": 12,
    "start_time": "2022-04-03T13:11:36.099Z"
   },
   {
    "duration": 4,
    "start_time": "2022-04-03T13:11:41.284Z"
   },
   {
    "duration": 4,
    "start_time": "2022-04-03T13:11:44.125Z"
   },
   {
    "duration": 12,
    "start_time": "2022-04-03T13:11:47.490Z"
   },
   {
    "duration": 46,
    "start_time": "2022-04-03T13:11:52.816Z"
   },
   {
    "duration": 47,
    "start_time": "2022-04-03T13:11:55.939Z"
   },
   {
    "duration": 5,
    "start_time": "2022-04-03T13:12:01.526Z"
   },
   {
    "duration": 22,
    "start_time": "2022-04-03T13:12:04.503Z"
   },
   {
    "duration": 20,
    "start_time": "2022-04-03T13:12:06.344Z"
   },
   {
    "duration": 22,
    "start_time": "2022-04-03T13:12:07.262Z"
   },
   {
    "duration": 21,
    "start_time": "2022-04-03T13:12:07.983Z"
   },
   {
    "duration": 24,
    "start_time": "2022-04-03T13:12:08.655Z"
   },
   {
    "duration": 21,
    "start_time": "2022-04-03T13:12:10.598Z"
   },
   {
    "duration": 13,
    "start_time": "2022-04-03T13:12:13.027Z"
   },
   {
    "duration": 11,
    "start_time": "2022-04-03T13:12:19.154Z"
   },
   {
    "duration": 11,
    "start_time": "2022-04-03T13:12:21.611Z"
   },
   {
    "duration": 5,
    "start_time": "2022-04-03T13:12:26.690Z"
   },
   {
    "duration": 2927,
    "start_time": "2022-04-03T13:12:42.163Z"
   },
   {
    "duration": 2832,
    "start_time": "2022-04-03T13:13:01.417Z"
   },
   {
    "duration": 2760,
    "start_time": "2022-04-03T13:13:14.972Z"
   },
   {
    "duration": 9,
    "start_time": "2022-04-03T16:46:28.664Z"
   },
   {
    "duration": 45,
    "start_time": "2022-04-03T16:46:34.886Z"
   },
   {
    "duration": 7,
    "start_time": "2022-04-03T16:46:49.397Z"
   },
   {
    "duration": 6,
    "start_time": "2022-04-03T16:47:21.910Z"
   },
   {
    "duration": 7,
    "start_time": "2022-04-03T16:47:26.585Z"
   },
   {
    "duration": 405,
    "start_time": "2022-04-03T16:51:05.223Z"
   },
   {
    "duration": 249,
    "start_time": "2022-04-03T16:51:08.346Z"
   },
   {
    "duration": 25,
    "start_time": "2022-04-03T16:51:11.987Z"
   },
   {
    "duration": 5,
    "start_time": "2022-04-03T16:51:17.028Z"
   },
   {
    "duration": 11,
    "start_time": "2022-04-03T16:51:20.773Z"
   },
   {
    "duration": 5,
    "start_time": "2022-04-03T16:51:23.680Z"
   },
   {
    "duration": 27,
    "start_time": "2022-04-03T16:51:26.147Z"
   },
   {
    "duration": 21,
    "start_time": "2022-04-03T16:51:29.628Z"
   },
   {
    "duration": 27,
    "start_time": "2022-04-03T16:51:31.792Z"
   },
   {
    "duration": 85,
    "start_time": "2022-04-03T16:51:34.038Z"
   },
   {
    "duration": 101,
    "start_time": "2022-04-03T16:51:36.200Z"
   },
   {
    "duration": 85,
    "start_time": "2022-04-03T16:51:37.888Z"
   },
   {
    "duration": 10,
    "start_time": "2022-04-03T16:51:40.719Z"
   },
   {
    "duration": 3,
    "start_time": "2022-04-03T16:51:43.055Z"
   },
   {
    "duration": 4,
    "start_time": "2022-04-03T16:51:48.974Z"
   },
   {
    "duration": 9,
    "start_time": "2022-04-03T16:51:52.860Z"
   },
   {
    "duration": 42,
    "start_time": "2022-04-03T16:51:57.745Z"
   },
   {
    "duration": 48,
    "start_time": "2022-04-03T16:52:07.788Z"
   },
   {
    "duration": 4,
    "start_time": "2022-04-03T16:52:12.055Z"
   },
   {
    "duration": 19,
    "start_time": "2022-04-03T16:52:19.557Z"
   },
   {
    "duration": 17,
    "start_time": "2022-04-03T16:52:19.578Z"
   },
   {
    "duration": 25,
    "start_time": "2022-04-03T16:52:19.596Z"
   },
   {
    "duration": 16,
    "start_time": "2022-04-03T16:52:19.623Z"
   },
   {
    "duration": 20,
    "start_time": "2022-04-03T16:52:19.640Z"
   },
   {
    "duration": 51,
    "start_time": "2022-04-03T16:52:19.662Z"
   },
   {
    "duration": 10,
    "start_time": "2022-04-03T16:52:19.716Z"
   },
   {
    "duration": 10,
    "start_time": "2022-04-03T16:52:19.728Z"
   },
   {
    "duration": 11,
    "start_time": "2022-04-03T16:52:19.740Z"
   },
   {
    "duration": 4,
    "start_time": "2022-04-03T16:52:19.754Z"
   },
   {
    "duration": 1936,
    "start_time": "2022-04-03T16:52:19.760Z"
   },
   {
    "duration": 0,
    "start_time": "2022-04-03T16:52:21.698Z"
   },
   {
    "duration": 0,
    "start_time": "2022-04-03T16:52:21.700Z"
   },
   {
    "duration": 0,
    "start_time": "2022-04-03T16:52:21.702Z"
   },
   {
    "duration": 0,
    "start_time": "2022-04-03T16:52:21.704Z"
   },
   {
    "duration": 0,
    "start_time": "2022-04-03T16:52:21.705Z"
   },
   {
    "duration": 0,
    "start_time": "2022-04-03T16:52:21.707Z"
   },
   {
    "duration": 0,
    "start_time": "2022-04-03T16:52:21.709Z"
   },
   {
    "duration": 5,
    "start_time": "2022-04-03T17:10:45.283Z"
   },
   {
    "duration": 1850,
    "start_time": "2022-04-03T17:10:48.902Z"
   },
   {
    "duration": 1730,
    "start_time": "2022-04-03T17:11:57.564Z"
   },
   {
    "duration": 6,
    "start_time": "2022-04-03T17:30:14.854Z"
   },
   {
    "duration": 39,
    "start_time": "2022-04-03T17:30:17.984Z"
   },
   {
    "duration": 24,
    "start_time": "2022-04-03T17:40:13.966Z"
   },
   {
    "duration": 22,
    "start_time": "2022-04-03T17:41:31.397Z"
   },
   {
    "duration": 22,
    "start_time": "2022-04-03T17:41:34.334Z"
   },
   {
    "duration": 17,
    "start_time": "2022-04-03T17:47:19.495Z"
   },
   {
    "duration": 12,
    "start_time": "2022-04-03T18:23:53.642Z"
   },
   {
    "duration": 11,
    "start_time": "2022-04-03T18:24:08.266Z"
   },
   {
    "duration": 17,
    "start_time": "2022-04-03T18:24:59.713Z"
   },
   {
    "duration": 5,
    "start_time": "2022-04-03T18:30:05.060Z"
   },
   {
    "duration": 22,
    "start_time": "2022-04-03T18:30:25.078Z"
   },
   {
    "duration": 21,
    "start_time": "2022-04-03T18:30:43.099Z"
   },
   {
    "duration": 5,
    "start_time": "2022-04-03T18:30:50.364Z"
   },
   {
    "duration": 27,
    "start_time": "2022-04-03T18:30:52.987Z"
   },
   {
    "duration": 26,
    "start_time": "2022-04-03T18:30:55.718Z"
   },
   {
    "duration": 23,
    "start_time": "2022-04-03T18:30:57.752Z"
   },
   {
    "duration": 38,
    "start_time": "2022-04-03T18:30:59.510Z"
   },
   {
    "duration": 10,
    "start_time": "2022-04-03T18:31:04.596Z"
   },
   {
    "duration": 7,
    "start_time": "2022-04-03T18:33:37.817Z"
   },
   {
    "duration": 10,
    "start_time": "2022-04-03T18:34:22.110Z"
   },
   {
    "duration": 5,
    "start_time": "2022-04-03T18:34:39.079Z"
   },
   {
    "duration": 127,
    "start_time": "2022-04-14T10:20:38.595Z"
   },
   {
    "duration": 41,
    "start_time": "2022-04-14T10:21:45.242Z"
   },
   {
    "duration": 420,
    "start_time": "2022-04-14T10:21:48.734Z"
   },
   {
    "duration": 148,
    "start_time": "2022-04-14T10:21:49.156Z"
   },
   {
    "duration": 17,
    "start_time": "2022-04-14T10:21:49.306Z"
   },
   {
    "duration": 44,
    "start_time": "2022-04-14T10:21:49.325Z"
   },
   {
    "duration": 4,
    "start_time": "2022-04-14T10:21:49.371Z"
   },
   {
    "duration": 15,
    "start_time": "2022-04-14T10:21:49.376Z"
   },
   {
    "duration": 7,
    "start_time": "2022-04-14T10:21:49.392Z"
   },
   {
    "duration": 55,
    "start_time": "2022-04-14T10:21:49.400Z"
   },
   {
    "duration": 22,
    "start_time": "2022-04-14T10:21:49.457Z"
   },
   {
    "duration": 32,
    "start_time": "2022-04-14T10:21:49.482Z"
   },
   {
    "duration": 81,
    "start_time": "2022-04-14T10:21:49.516Z"
   },
   {
    "duration": 77,
    "start_time": "2022-04-14T10:21:49.598Z"
   },
   {
    "duration": 61,
    "start_time": "2022-04-14T10:21:49.677Z"
   },
   {
    "duration": 21,
    "start_time": "2022-04-14T10:21:49.739Z"
   },
   {
    "duration": 4,
    "start_time": "2022-04-14T10:21:49.762Z"
   },
   {
    "duration": 7,
    "start_time": "2022-04-14T10:21:49.767Z"
   },
   {
    "duration": 10,
    "start_time": "2022-04-14T10:21:49.775Z"
   },
   {
    "duration": 39,
    "start_time": "2022-04-14T10:21:49.787Z"
   },
   {
    "duration": 61,
    "start_time": "2022-04-14T10:21:49.827Z"
   },
   {
    "duration": 4,
    "start_time": "2022-04-14T10:21:49.889Z"
   },
   {
    "duration": 22,
    "start_time": "2022-04-14T10:21:49.894Z"
   },
   {
    "duration": 15,
    "start_time": "2022-04-14T10:21:49.917Z"
   },
   {
    "duration": 34,
    "start_time": "2022-04-14T10:21:49.934Z"
   },
   {
    "duration": 15,
    "start_time": "2022-04-14T10:21:49.969Z"
   },
   {
    "duration": 16,
    "start_time": "2022-04-14T10:21:49.986Z"
   },
   {
    "duration": 15,
    "start_time": "2022-04-14T10:21:50.003Z"
   },
   {
    "duration": 38,
    "start_time": "2022-04-14T10:21:50.020Z"
   },
   {
    "duration": 26,
    "start_time": "2022-04-14T10:21:50.061Z"
   },
   {
    "duration": 18,
    "start_time": "2022-04-14T10:21:50.089Z"
   },
   {
    "duration": 3,
    "start_time": "2022-04-14T10:21:50.109Z"
   },
   {
    "duration": 45,
    "start_time": "2022-04-14T10:21:50.114Z"
   },
   {
    "duration": 21,
    "start_time": "2022-04-14T10:21:50.161Z"
   },
   {
    "duration": 19,
    "start_time": "2022-04-14T10:21:50.184Z"
   },
   {
    "duration": 18,
    "start_time": "2022-04-14T10:21:50.205Z"
   },
   {
    "duration": 36,
    "start_time": "2022-04-14T10:21:50.225Z"
   },
   {
    "duration": 5,
    "start_time": "2022-04-14T10:21:50.263Z"
   },
   {
    "duration": 9,
    "start_time": "2022-04-14T10:21:50.269Z"
   },
   {
    "duration": 4,
    "start_time": "2022-04-14T10:21:50.279Z"
   },
   {
    "duration": 4,
    "start_time": "2022-04-14T10:22:01.032Z"
   },
   {
    "duration": 131,
    "start_time": "2022-04-14T10:22:21.496Z"
   },
   {
    "duration": 10,
    "start_time": "2022-04-14T10:38:24.160Z"
   },
   {
    "duration": 7,
    "start_time": "2022-04-14T10:38:32.679Z"
   },
   {
    "duration": 9,
    "start_time": "2022-04-14T10:52:41.372Z"
   },
   {
    "duration": 4,
    "start_time": "2022-04-14T10:52:45.618Z"
   },
   {
    "duration": 5,
    "start_time": "2022-04-14T10:53:15.339Z"
   },
   {
    "duration": 7,
    "start_time": "2022-04-14T10:53:16.956Z"
   },
   {
    "duration": 193,
    "start_time": "2022-04-14T10:53:25.723Z"
   },
   {
    "duration": 3,
    "start_time": "2022-04-14T10:57:31.363Z"
   },
   {
    "duration": 186,
    "start_time": "2022-04-14T10:57:31.368Z"
   },
   {
    "duration": 11,
    "start_time": "2022-04-14T10:57:31.556Z"
   },
   {
    "duration": 39,
    "start_time": "2022-04-14T10:57:31.568Z"
   },
   {
    "duration": 5,
    "start_time": "2022-04-14T10:57:31.609Z"
   },
   {
    "duration": 39,
    "start_time": "2022-04-14T10:57:31.615Z"
   },
   {
    "duration": 20,
    "start_time": "2022-04-14T10:57:31.657Z"
   },
   {
    "duration": 39,
    "start_time": "2022-04-14T10:57:31.678Z"
   },
   {
    "duration": 21,
    "start_time": "2022-04-14T10:57:31.719Z"
   },
   {
    "duration": 43,
    "start_time": "2022-04-14T10:57:31.742Z"
   },
   {
    "duration": 78,
    "start_time": "2022-04-14T10:57:31.788Z"
   },
   {
    "duration": 73,
    "start_time": "2022-04-14T10:57:31.868Z"
   },
   {
    "duration": 69,
    "start_time": "2022-04-14T10:57:31.943Z"
   },
   {
    "duration": 8,
    "start_time": "2022-04-14T10:57:32.014Z"
   },
   {
    "duration": 4,
    "start_time": "2022-04-14T10:57:32.023Z"
   },
   {
    "duration": 4,
    "start_time": "2022-04-14T10:57:32.055Z"
   },
   {
    "duration": 18,
    "start_time": "2022-04-14T10:57:32.061Z"
   },
   {
    "duration": 90,
    "start_time": "2022-04-14T10:57:32.080Z"
   },
   {
    "duration": 55,
    "start_time": "2022-04-14T10:57:32.172Z"
   },
   {
    "duration": 3,
    "start_time": "2022-04-14T10:57:32.229Z"
   },
   {
    "duration": 32,
    "start_time": "2022-04-14T10:57:32.234Z"
   },
   {
    "duration": 18,
    "start_time": "2022-04-14T10:57:32.268Z"
   },
   {
    "duration": 17,
    "start_time": "2022-04-14T10:57:32.288Z"
   },
   {
    "duration": 16,
    "start_time": "2022-04-14T10:57:32.306Z"
   },
   {
    "duration": 41,
    "start_time": "2022-04-14T10:57:32.323Z"
   },
   {
    "duration": 14,
    "start_time": "2022-04-14T10:57:32.366Z"
   },
   {
    "duration": 8,
    "start_time": "2022-04-14T10:57:32.382Z"
   },
   {
    "duration": 25,
    "start_time": "2022-04-14T10:57:32.391Z"
   },
   {
    "duration": 53,
    "start_time": "2022-04-14T10:57:32.419Z"
   },
   {
    "duration": 3,
    "start_time": "2022-04-14T10:57:32.474Z"
   },
   {
    "duration": 28,
    "start_time": "2022-04-14T10:57:32.479Z"
   },
   {
    "duration": 46,
    "start_time": "2022-04-14T10:57:32.509Z"
   },
   {
    "duration": 20,
    "start_time": "2022-04-14T10:57:32.557Z"
   },
   {
    "duration": 18,
    "start_time": "2022-04-14T10:57:32.579Z"
   },
   {
    "duration": 9,
    "start_time": "2022-04-14T10:57:32.599Z"
   },
   {
    "duration": 5,
    "start_time": "2022-04-14T10:57:32.609Z"
   },
   {
    "duration": 7,
    "start_time": "2022-04-14T10:57:32.615Z"
   },
   {
    "duration": 5,
    "start_time": "2022-04-14T10:57:32.654Z"
   },
   {
    "duration": 72,
    "start_time": "2022-04-15T08:44:17.086Z"
   },
   {
    "duration": 696,
    "start_time": "2022-04-15T08:44:54.450Z"
   },
   {
    "duration": 3,
    "start_time": "2022-04-15T08:45:01.447Z"
   },
   {
    "duration": 72,
    "start_time": "2022-04-15T08:45:01.454Z"
   },
   {
    "duration": 0,
    "start_time": "2022-04-15T08:45:01.529Z"
   },
   {
    "duration": 0,
    "start_time": "2022-04-15T08:45:01.531Z"
   },
   {
    "duration": 0,
    "start_time": "2022-04-15T08:45:01.532Z"
   },
   {
    "duration": 10,
    "start_time": "2022-04-15T08:45:01.545Z"
   },
   {
    "duration": 0,
    "start_time": "2022-04-15T08:45:01.558Z"
   },
   {
    "duration": 11,
    "start_time": "2022-04-15T08:45:01.567Z"
   },
   {
    "duration": 22,
    "start_time": "2022-04-15T08:45:01.581Z"
   },
   {
    "duration": 0,
    "start_time": "2022-04-15T08:45:01.606Z"
   },
   {
    "duration": 50,
    "start_time": "2022-04-15T08:45:01.609Z"
   },
   {
    "duration": 0,
    "start_time": "2022-04-15T08:45:01.663Z"
   },
   {
    "duration": 0,
    "start_time": "2022-04-15T08:45:01.664Z"
   },
   {
    "duration": 0,
    "start_time": "2022-04-15T08:45:01.666Z"
   },
   {
    "duration": 9,
    "start_time": "2022-04-15T08:45:01.669Z"
   },
   {
    "duration": 27,
    "start_time": "2022-04-15T08:45:01.681Z"
   },
   {
    "duration": 43,
    "start_time": "2022-04-15T08:45:01.712Z"
   },
   {
    "duration": 0,
    "start_time": "2022-04-15T08:45:01.758Z"
   },
   {
    "duration": 0,
    "start_time": "2022-04-15T08:45:01.760Z"
   },
   {
    "duration": 0,
    "start_time": "2022-04-15T08:45:01.762Z"
   },
   {
    "duration": 0,
    "start_time": "2022-04-15T08:45:01.763Z"
   },
   {
    "duration": 16,
    "start_time": "2022-04-15T08:45:01.766Z"
   },
   {
    "duration": 0,
    "start_time": "2022-04-15T08:45:01.784Z"
   },
   {
    "duration": 0,
    "start_time": "2022-04-15T08:45:01.787Z"
   },
   {
    "duration": 62,
    "start_time": "2022-04-15T08:45:01.789Z"
   },
   {
    "duration": 0,
    "start_time": "2022-04-15T08:45:01.853Z"
   },
   {
    "duration": 0,
    "start_time": "2022-04-15T08:45:01.855Z"
   },
   {
    "duration": 13,
    "start_time": "2022-04-15T08:45:01.858Z"
   },
   {
    "duration": 0,
    "start_time": "2022-04-15T08:45:01.874Z"
   },
   {
    "duration": 0,
    "start_time": "2022-04-15T08:45:01.876Z"
   },
   {
    "duration": 30,
    "start_time": "2022-04-15T08:45:01.888Z"
   },
   {
    "duration": 0,
    "start_time": "2022-04-15T08:45:01.921Z"
   },
   {
    "duration": 0,
    "start_time": "2022-04-15T08:45:01.923Z"
   },
   {
    "duration": 0,
    "start_time": "2022-04-15T08:45:01.953Z"
   },
   {
    "duration": 0,
    "start_time": "2022-04-15T08:45:01.954Z"
   },
   {
    "duration": 12,
    "start_time": "2022-04-15T08:45:01.956Z"
   },
   {
    "duration": 0,
    "start_time": "2022-04-15T08:45:01.977Z"
   },
   {
    "duration": 0,
    "start_time": "2022-04-15T08:45:01.979Z"
   },
   {
    "duration": 420,
    "start_time": "2022-04-15T08:45:36.008Z"
   },
   {
    "duration": 253,
    "start_time": "2022-04-15T08:45:43.248Z"
   },
   {
    "duration": 57,
    "start_time": "2022-04-15T08:45:43.504Z"
   },
   {
    "duration": 45,
    "start_time": "2022-04-15T08:45:43.563Z"
   },
   {
    "duration": 8,
    "start_time": "2022-04-15T08:45:43.612Z"
   },
   {
    "duration": 42,
    "start_time": "2022-04-15T08:45:43.623Z"
   },
   {
    "duration": 14,
    "start_time": "2022-04-15T08:45:43.667Z"
   },
   {
    "duration": 87,
    "start_time": "2022-04-15T08:45:43.684Z"
   },
   {
    "duration": 25,
    "start_time": "2022-04-15T08:45:43.775Z"
   },
   {
    "duration": 56,
    "start_time": "2022-04-15T08:45:43.802Z"
   },
   {
    "duration": 114,
    "start_time": "2022-04-15T08:45:43.862Z"
   },
   {
    "duration": 125,
    "start_time": "2022-04-15T08:45:43.978Z"
   },
   {
    "duration": 141,
    "start_time": "2022-04-15T08:45:44.105Z"
   },
   {
    "duration": 19,
    "start_time": "2022-04-15T08:45:44.252Z"
   },
   {
    "duration": 0,
    "start_time": "2022-04-15T08:45:44.275Z"
   },
   {
    "duration": 1,
    "start_time": "2022-04-15T08:45:44.276Z"
   },
   {
    "duration": 0,
    "start_time": "2022-04-15T08:45:44.278Z"
   },
   {
    "duration": 0,
    "start_time": "2022-04-15T08:45:44.280Z"
   },
   {
    "duration": 0,
    "start_time": "2022-04-15T08:45:44.283Z"
   },
   {
    "duration": 0,
    "start_time": "2022-04-15T08:45:44.284Z"
   },
   {
    "duration": 0,
    "start_time": "2022-04-15T08:45:44.285Z"
   },
   {
    "duration": 0,
    "start_time": "2022-04-15T08:45:44.287Z"
   },
   {
    "duration": 1,
    "start_time": "2022-04-15T08:45:44.289Z"
   },
   {
    "duration": 0,
    "start_time": "2022-04-15T08:45:44.292Z"
   },
   {
    "duration": 0,
    "start_time": "2022-04-15T08:45:44.293Z"
   },
   {
    "duration": 0,
    "start_time": "2022-04-15T08:45:44.295Z"
   },
   {
    "duration": 0,
    "start_time": "2022-04-15T08:45:44.297Z"
   },
   {
    "duration": 0,
    "start_time": "2022-04-15T08:45:44.299Z"
   },
   {
    "duration": 0,
    "start_time": "2022-04-15T08:45:44.301Z"
   },
   {
    "duration": 0,
    "start_time": "2022-04-15T08:45:44.303Z"
   },
   {
    "duration": 0,
    "start_time": "2022-04-15T08:45:44.352Z"
   },
   {
    "duration": 0,
    "start_time": "2022-04-15T08:45:44.354Z"
   },
   {
    "duration": 0,
    "start_time": "2022-04-15T08:45:44.356Z"
   },
   {
    "duration": 0,
    "start_time": "2022-04-15T08:45:44.358Z"
   },
   {
    "duration": 0,
    "start_time": "2022-04-15T08:45:44.361Z"
   },
   {
    "duration": 0,
    "start_time": "2022-04-15T08:45:44.363Z"
   },
   {
    "duration": 0,
    "start_time": "2022-04-15T08:45:44.365Z"
   },
   {
    "duration": 0,
    "start_time": "2022-04-15T08:45:44.367Z"
   },
   {
    "duration": 12,
    "start_time": "2022-04-15T08:47:10.480Z"
   },
   {
    "duration": 11,
    "start_time": "2022-04-15T08:47:10.495Z"
   },
   {
    "duration": 9,
    "start_time": "2022-04-15T08:47:10.509Z"
   },
   {
    "duration": 19,
    "start_time": "2022-04-15T08:47:10.520Z"
   },
   {
    "duration": 54,
    "start_time": "2022-04-15T08:47:10.543Z"
   },
   {
    "duration": 78,
    "start_time": "2022-04-15T08:47:10.600Z"
   },
   {
    "duration": 6,
    "start_time": "2022-04-15T08:47:10.680Z"
   },
   {
    "duration": 42,
    "start_time": "2022-04-15T08:47:10.688Z"
   },
   {
    "duration": 35,
    "start_time": "2022-04-15T08:47:10.732Z"
   },
   {
    "duration": 34,
    "start_time": "2022-04-15T08:47:10.770Z"
   },
   {
    "duration": 43,
    "start_time": "2022-04-15T08:47:10.809Z"
   },
   {
    "duration": 24,
    "start_time": "2022-04-15T08:47:10.855Z"
   },
   {
    "duration": 24,
    "start_time": "2022-04-15T08:47:10.881Z"
   },
   {
    "duration": 44,
    "start_time": "2022-04-15T08:47:10.908Z"
   },
   {
    "duration": 42,
    "start_time": "2022-04-15T08:47:10.954Z"
   },
   {
    "duration": 56,
    "start_time": "2022-04-15T08:47:10.999Z"
   },
   {
    "duration": 8,
    "start_time": "2022-04-15T08:47:11.058Z"
   },
   {
    "duration": 55,
    "start_time": "2022-04-15T08:47:11.069Z"
   },
   {
    "duration": 39,
    "start_time": "2022-04-15T08:47:11.126Z"
   },
   {
    "duration": 43,
    "start_time": "2022-04-15T08:47:11.167Z"
   },
   {
    "duration": 56,
    "start_time": "2022-04-15T08:47:11.213Z"
   },
   {
    "duration": 12,
    "start_time": "2022-04-15T08:47:11.271Z"
   },
   {
    "duration": 11,
    "start_time": "2022-04-15T08:47:11.285Z"
   },
   {
    "duration": 16,
    "start_time": "2022-04-15T08:47:11.298Z"
   },
   {
    "duration": 37,
    "start_time": "2022-04-15T08:47:11.316Z"
   },
   {
    "duration": 5,
    "start_time": "2022-04-15T09:51:04.635Z"
   },
   {
    "duration": 36,
    "start_time": "2022-04-15T09:51:44.806Z"
   },
   {
    "duration": 33,
    "start_time": "2022-04-15T09:52:53.902Z"
   },
   {
    "duration": 11,
    "start_time": "2022-04-15T09:52:53.938Z"
   },
   {
    "duration": 760,
    "start_time": "2022-04-15T09:52:53.951Z"
   },
   {
    "duration": 61,
    "start_time": "2022-04-15T09:52:54.714Z"
   },
   {
    "duration": 7,
    "start_time": "2022-04-15T09:52:54.777Z"
   },
   {
    "duration": 37,
    "start_time": "2022-04-15T09:52:54.786Z"
   },
   {
    "duration": 35,
    "start_time": "2022-04-15T09:52:54.826Z"
   },
   {
    "duration": 35,
    "start_time": "2022-04-15T09:52:54.863Z"
   },
   {
    "duration": 19,
    "start_time": "2022-04-15T09:52:54.902Z"
   },
   {
    "duration": 45,
    "start_time": "2022-04-15T09:52:54.923Z"
   },
   {
    "duration": 20,
    "start_time": "2022-04-15T09:52:54.970Z"
   },
   {
    "duration": 13,
    "start_time": "2022-04-15T09:52:54.992Z"
   },
   {
    "duration": 64,
    "start_time": "2022-04-15T09:52:55.007Z"
   },
   {
    "duration": 33,
    "start_time": "2022-04-15T09:52:55.073Z"
   },
   {
    "duration": 7,
    "start_time": "2022-04-15T09:52:55.109Z"
   },
   {
    "duration": 57,
    "start_time": "2022-04-15T09:52:55.118Z"
   },
   {
    "duration": 29,
    "start_time": "2022-04-15T09:52:55.178Z"
   },
   {
    "duration": 56,
    "start_time": "2022-04-15T09:52:55.210Z"
   },
   {
    "duration": 27,
    "start_time": "2022-04-15T09:52:55.269Z"
   },
   {
    "duration": 11,
    "start_time": "2022-04-15T09:52:55.298Z"
   },
   {
    "duration": 40,
    "start_time": "2022-04-15T09:52:55.311Z"
   },
   {
    "duration": 8,
    "start_time": "2022-04-15T09:52:55.354Z"
   },
   {
    "duration": 8,
    "start_time": "2022-04-15T09:52:55.365Z"
   },
   {
    "duration": 11,
    "start_time": "2022-04-15T09:53:18.427Z"
   },
   {
    "duration": 15,
    "start_time": "2022-04-15T09:54:01.442Z"
   },
   {
    "duration": 14,
    "start_time": "2022-04-15T09:54:30.307Z"
   },
   {
    "duration": 14,
    "start_time": "2022-04-15T09:54:56.597Z"
   },
   {
    "duration": 12,
    "start_time": "2022-04-15T09:55:30.287Z"
   },
   {
    "duration": 53,
    "start_time": "2022-04-15T09:59:15.028Z"
   },
   {
    "duration": 53,
    "start_time": "2022-04-15T09:59:38.999Z"
   },
   {
    "duration": 18,
    "start_time": "2022-04-15T10:01:22.821Z"
   },
   {
    "duration": 16,
    "start_time": "2022-04-15T10:04:04.869Z"
   },
   {
    "duration": 7,
    "start_time": "2022-04-15T13:38:47.547Z"
   },
   {
    "duration": 6,
    "start_time": "2022-04-15T13:39:00.211Z"
   },
   {
    "duration": 36,
    "start_time": "2022-04-15T13:39:00.222Z"
   },
   {
    "duration": 18,
    "start_time": "2022-04-15T13:39:00.261Z"
   },
   {
    "duration": 27,
    "start_time": "2022-04-15T13:39:00.282Z"
   },
   {
    "duration": 56,
    "start_time": "2022-04-15T13:39:00.313Z"
   },
   {
    "duration": 28,
    "start_time": "2022-04-15T13:39:00.372Z"
   },
   {
    "duration": 11,
    "start_time": "2022-04-15T13:39:00.403Z"
   },
   {
    "duration": 19,
    "start_time": "2022-04-15T13:39:00.417Z"
   },
   {
    "duration": 59,
    "start_time": "2022-04-15T13:39:00.438Z"
   },
   {
    "duration": 63,
    "start_time": "2022-04-16T07:42:55.186Z"
   },
   {
    "duration": 66,
    "start_time": "2022-04-16T07:43:41.986Z"
   },
   {
    "duration": 81,
    "start_time": "2022-04-16T07:44:45.786Z"
   },
   {
    "duration": 67,
    "start_time": "2022-04-16T07:57:59.420Z"
   }
  ],
  "colab": {
   "collapsed_sections": [
    "E0vqbgi9ay0H",
    "VUC88oWjTJw2"
   ],
   "name": "yandex_music_project.ipynb",
   "provenance": []
  },
  "kernelspec": {
   "display_name": "Python 3 (ipykernel)",
   "language": "python",
   "name": "python3"
  },
  "language_info": {
   "codemirror_mode": {
    "name": "ipython",
    "version": 3
   },
   "file_extension": ".py",
   "mimetype": "text/x-python",
   "name": "python",
   "nbconvert_exporter": "python",
   "pygments_lexer": "ipython3",
   "version": "3.9.5"
  },
  "toc": {
   "base_numbering": 1,
   "nav_menu": {},
   "number_sections": true,
   "sideBar": true,
   "skip_h1_title": true,
   "title_cell": "Table of Contents",
   "title_sidebar": "Contents",
   "toc_cell": false,
   "toc_position": {},
   "toc_section_display": true,
   "toc_window_display": true
  }
 },
 "nbformat": 4,
 "nbformat_minor": 1
}
