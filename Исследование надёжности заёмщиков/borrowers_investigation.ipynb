{
 "cells": [
  {
   "cell_type": "markdown",
   "id": "cacd4484",
   "metadata": {},
   "source": [
    "# Исследование надежности заемщиков."
   ]
  },
  {
   "cell_type": "markdown",
   "id": "5df413b4",
   "metadata": {},
   "source": [
    "Заказчик — кредитный отдел банка. Нужно разобраться, влияет ли семейное положение и количество детей клиента на факт погашения кредита в срок. Входные данные от банка — статистика о платёжеспособности клиентов.\n",
    "Результаты исследования будут учтены при построении модели кредитного скоринга — специальной системы, которая оценивает способность потенциального заёмщика вернуть кредит банку."
   ]
  },
  {
   "cell_type": "markdown",
   "id": "27e6584a",
   "metadata": {},
   "source": [
    "### Шаг 1. Обзор данных"
   ]
  },
  {
   "cell_type": "code",
   "execution_count": 1,
   "id": "19a37070",
   "metadata": {},
   "outputs": [],
   "source": [
    "import pandas as pd\n"
   ]
  },
  {
   "cell_type": "code",
   "execution_count": 2,
   "id": "5c838d49",
   "metadata": {},
   "outputs": [
    {
     "name": "stdout",
     "output_type": "stream",
     "text": [
      "<class 'pandas.core.frame.DataFrame'>\n",
      "RangeIndex: 21525 entries, 0 to 21524\n",
      "Data columns (total 12 columns):\n",
      " #   Column            Non-Null Count  Dtype  \n",
      "---  ------            --------------  -----  \n",
      " 0   children          21525 non-null  int64  \n",
      " 1   days_employed     19351 non-null  float64\n",
      " 2   dob_years         21525 non-null  int64  \n",
      " 3   education         21525 non-null  object \n",
      " 4   education_id      21525 non-null  int64  \n",
      " 5   family_status     21525 non-null  object \n",
      " 6   family_status_id  21525 non-null  int64  \n",
      " 7   gender            21525 non-null  object \n",
      " 8   income_type       21525 non-null  object \n",
      " 9   debt              21525 non-null  int64  \n",
      " 10  total_income      19351 non-null  float64\n",
      " 11  purpose           21525 non-null  object \n",
      "dtypes: float64(2), int64(5), object(5)\n",
      "memory usage: 2.0+ MB\n"
     ]
    }
   ],
   "source": [
    "data = pd.read_csv('/datasets/data.csv')\n",
    "data.info()"
   ]
  },
  {
   "cell_type": "markdown",
   "id": "5aff8af9",
   "metadata": {},
   "source": [
    "Было установлено, что пропущенные значения присутствуют в двух столбцах: 'days_employed' (общий трудовой стаж в днях) и ‘total_income’ (ежемесячный доход). При этом количество пропущенных значений в обоих столбцах совпадает.Если в обоих столбцах данные не заполнены в одинаковом количестве, значит, вероятнее всего, это данные одних и тех же людей. \n",
    "Вызвав метод info() для получении информации о таблице, выяснилось, что в ней 21525 строк, пропусков в вышеуказанных столбцах 2174, что составляет 10,099883%, это довольно существенно. Столбцы с пропусками имеют тип float64, это числовой тип данных. Вполне вероятно, что эти 10% с небольшим от всех клиентов банка, не имеют официального стажа и официального дохода - поэтому они свои данные и не внесли. Поэтому имеет смысл заполнить пропуски медианным значением."
   ]
  },
  {
   "cell_type": "markdown",
   "id": "30c34865",
   "metadata": {},
   "source": [
    "### Шаг 2.1 Заполнение пропусков"
   ]
  },
  {
   "cell_type": "code",
   "execution_count": 3,
   "id": "15e97d78",
   "metadata": {},
   "outputs": [
    {
     "name": "stdout",
     "output_type": "stream",
     "text": [
      "0        253875.639453\n",
      "1        112080.014102\n",
      "2        145885.952297\n",
      "3        267628.550329\n",
      "4        158616.077870\n",
      "             ...      \n",
      "21520    224791.862382\n",
      "21521    155999.806512\n",
      "21522     89672.561153\n",
      "21523    244093.050500\n",
      "21524     82047.418899\n",
      "Name: total_income, Length: 21525, dtype: float64\n"
     ]
    }
   ],
   "source": [
    "data_transformed = data.groupby('income_type')['total_income'].transform('median')\n",
    "data['total_income'] = data['total_income'].fillna(data_transformed)\n",
    "print(data['total_income'])\n",
    " "
   ]
  },
  {
   "cell_type": "code",
   "execution_count": 4,
   "id": "9306b0e2",
   "metadata": {},
   "outputs": [
    {
     "name": "stdout",
     "output_type": "stream",
     "text": [
      "0          8437.673028\n",
      "1          4024.803754\n",
      "2          5623.422610\n",
      "3          4124.747207\n",
      "4        340266.072047\n",
      "             ...      \n",
      "21520      4529.316663\n",
      "21521    343937.404131\n",
      "21522      2113.346888\n",
      "21523      3112.481705\n",
      "21524      1984.507589\n",
      "Name: days_employed, Length: 21525, dtype: float64\n"
     ]
    }
   ],
   "source": [
    "data['days_employed'] = data['days_employed'].abs()\n",
    "data_transformed = data.groupby('income_type')['days_employed'].transform('median')\n",
    "data['days_employed'] = data['days_employed'].fillna(data_transformed)\n",
    "print(data['days_employed'])\n"
   ]
  },
  {
   "cell_type": "markdown",
   "id": "50773387",
   "metadata": {},
   "source": [
    "### Шаг 2.2 Проверка данных на аномалии и исправления."
   ]
  },
  {
   "cell_type": "code",
   "execution_count": 5,
   "id": "ee6d1e2c",
   "metadata": {},
   "outputs": [
    {
     "name": "stdout",
     "output_type": "stream",
     "text": [
      "<class 'pandas.core.frame.DataFrame'>\n",
      "RangeIndex: 21525 entries, 0 to 21524\n",
      "Data columns (total 12 columns):\n",
      " #   Column            Non-Null Count  Dtype  \n",
      "---  ------            --------------  -----  \n",
      " 0   children          21525 non-null  int64  \n",
      " 1   days_employed     21525 non-null  float64\n",
      " 2   dob_years         21525 non-null  int64  \n",
      " 3   education         21525 non-null  object \n",
      " 4   education_id      21525 non-null  int64  \n",
      " 5   family_status     21525 non-null  object \n",
      " 6   family_status_id  21525 non-null  int64  \n",
      " 7   gender            21525 non-null  object \n",
      " 8   income_type       21525 non-null  object \n",
      " 9   debt              21525 non-null  int64  \n",
      " 10  total_income      21525 non-null  float64\n",
      " 11  purpose           21525 non-null  object \n",
      "dtypes: float64(2), int64(5), object(5)\n",
      "memory usage: 2.0+ MB\n"
     ]
    }
   ],
   "source": [
    "data.info()"
   ]
  },
  {
   "cell_type": "code",
   "execution_count": 6,
   "id": "979b1e63",
   "metadata": {},
   "outputs": [
    {
     "name": "stdout",
     "output_type": "stream",
     "text": [
      "0        1\n",
      "1        1\n",
      "2        0\n",
      "3        3\n",
      "4        0\n",
      "        ..\n",
      "21520    1\n",
      "21521    0\n",
      "21522    1\n",
      "21523    3\n",
      "21524    2\n",
      "Name: children, Length: 21525, dtype: int64\n"
     ]
    }
   ],
   "source": [
    "data['children'] = data['children'].replace(-1,1) #избавляемся от отрицательных значений в столбце с детьми\n",
    "data['children'] = data['children'].replace(20,2) #также у нас есть незначительный процент семей аж с 20-ю детьми! \n",
    "#Спишем это на опечатку и заменим на 2\n",
    "print(data['children'])"
   ]
  },
  {
   "cell_type": "markdown",
   "id": "182fd431",
   "metadata": {},
   "source": [
    "### Шаг 2.3. Изменение типов данных."
   ]
  },
  {
   "cell_type": "code",
   "execution_count": 7,
   "id": "9fa9795b",
   "metadata": {},
   "outputs": [
    {
     "name": "stdout",
     "output_type": "stream",
     "text": [
      "<class 'pandas.core.frame.DataFrame'>\n",
      "RangeIndex: 21525 entries, 0 to 21524\n",
      "Data columns (total 12 columns):\n",
      " #   Column            Non-Null Count  Dtype  \n",
      "---  ------            --------------  -----  \n",
      " 0   children          21525 non-null  int64  \n",
      " 1   days_employed     21525 non-null  float64\n",
      " 2   dob_years         21525 non-null  int64  \n",
      " 3   education         21525 non-null  object \n",
      " 4   education_id      21525 non-null  int64  \n",
      " 5   family_status     21525 non-null  object \n",
      " 6   family_status_id  21525 non-null  int64  \n",
      " 7   gender            21525 non-null  object \n",
      " 8   income_type       21525 non-null  object \n",
      " 9   debt              21525 non-null  bool   \n",
      " 10  total_income      21525 non-null  int64  \n",
      " 11  purpose           21525 non-null  object \n",
      "dtypes: bool(1), float64(1), int64(5), object(5)\n",
      "memory usage: 1.8+ MB\n"
     ]
    }
   ],
   "source": [
    "data ['debt'] = data ['debt'].astype('bool') #меняем тип столбца debt с int64 на bool\n",
    "data ['total_income'] = data ['total_income'].astype('int64') #меняем тип столбца total_income с float64 на int64\n",
    "data.info()\n"
   ]
  },
  {
   "cell_type": "markdown",
   "id": "63f61922",
   "metadata": {},
   "source": [
    "### Шаг 2.4. Удаление дубликатов."
   ]
  },
  {
   "cell_type": "code",
   "execution_count": 8,
   "id": "af47ecc9",
   "metadata": {},
   "outputs": [
    {
     "name": "stdout",
     "output_type": "stream",
     "text": [
      "      children  days_employed  dob_years education  education_id  \\\n",
      "2849         0    1574.202821         41   среднее             1   \n",
      "4182         1    1574.202821         34    ВЫСШЕЕ             0   \n",
      "4851         0  365213.306266         60   среднее             1   \n",
      "5557         0  365213.306266         58   среднее             1   \n",
      "7808         0  365213.306266         57   среднее             1   \n",
      "\n",
      "         family_status  family_status_id gender income_type   debt  \\\n",
      "2849   женат / замужем                 0      F   сотрудник  False   \n",
      "4182  гражданский брак                 1      F   сотрудник  False   \n",
      "4851  гражданский брак                 1      F   пенсионер  False   \n",
      "5557  гражданский брак                 1      F   пенсионер  False   \n",
      "7808  гражданский брак                 1      F   пенсионер  False   \n",
      "\n",
      "      total_income                  purpose  \n",
      "2849        142594  покупка жилья для семьи  \n",
      "4182        142594                  свадьба  \n",
      "4851        118514                  свадьба  \n",
      "5557        118514          сыграть свадьбу  \n",
      "7808        118514    на проведение свадьбы  \n"
     ]
    }
   ],
   "source": [
    "data.duplicated().sum() #считаем строки с дубликатами. Их 54\n",
    "duplicated_data = data[data.duplicated()].head() #получили датафрейм с дубликатами\n",
    "print(duplicated_data) "
   ]
  },
  {
   "cell_type": "markdown",
   "id": "8b2b4689",
   "metadata": {},
   "source": [
    "Из выведенных на экран строк датафрейма заметно, что в столбце education записаны значения с разным регистром. Нужно привести их к нижнему регистру. "
   ]
  },
  {
   "cell_type": "code",
   "execution_count": 9,
   "id": "cec67bfb",
   "metadata": {},
   "outputs": [
    {
     "name": "stdout",
     "output_type": "stream",
     "text": [
      "   children  days_employed  dob_years education  education_id  \\\n",
      "0         1    8437.673028         42    высшее             0   \n",
      "1         1    4024.803754         36   среднее             1   \n",
      "2         0    5623.422610         33   среднее             1   \n",
      "3         3    4124.747207         32   среднее             1   \n",
      "4         0  340266.072047         53   среднее             1   \n",
      "5         0     926.185831         27    высшее             0   \n",
      "6         0    2879.202052         43    высшее             0   \n",
      "7         0     152.779569         50   среднее             1   \n",
      "8         2    6929.865299         35    высшее             0   \n",
      "9         0    2188.756445         41   среднее             1   \n",
      "\n",
      "      family_status  family_status_id gender income_type   debt  total_income  \\\n",
      "0   женат / замужем                 0      F   сотрудник  False        253875   \n",
      "1   женат / замужем                 0      F   сотрудник  False        112080   \n",
      "2   женат / замужем                 0      M   сотрудник  False        145885   \n",
      "3   женат / замужем                 0      M   сотрудник  False        267628   \n",
      "4  гражданский брак                 1      F   пенсионер  False        158616   \n",
      "5  гражданский брак                 1      M   компаньон  False        255763   \n",
      "6   женат / замужем                 0      F   компаньон  False        240525   \n",
      "7   женат / замужем                 0      M   сотрудник  False        135823   \n",
      "8  гражданский брак                 1      F   сотрудник  False         95856   \n",
      "9   женат / замужем                 0      M   сотрудник  False        144425   \n",
      "\n",
      "                      purpose  \n",
      "0               покупка жилья  \n",
      "1     приобретение автомобиля  \n",
      "2               покупка жилья  \n",
      "3  дополнительное образование  \n",
      "4             сыграть свадьбу  \n",
      "5               покупка жилья  \n",
      "6           операции с жильем  \n",
      "7                 образование  \n",
      "8       на проведение свадьбы  \n",
      "9     покупка жилья для семьи  \n"
     ]
    }
   ],
   "source": [
    "data['education'] = data['education'].str.lower() #приводим данные к нижнему регистру\n",
    "\n",
    "print(data.head(10))"
   ]
  },
  {
   "cell_type": "code",
   "execution_count": 10,
   "id": "e738dbcb",
   "metadata": {},
   "outputs": [
    {
     "name": "stdout",
     "output_type": "stream",
     "text": [
      "   index  children  days_employed  dob_years education  education_id  \\\n",
      "0      0         1    8437.673028         42    высшее             0   \n",
      "1      1         1    4024.803754         36   среднее             1   \n",
      "2      2         0    5623.422610         33   среднее             1   \n",
      "3      3         3    4124.747207         32   среднее             1   \n",
      "4      4         0  340266.072047         53   среднее             1   \n",
      "5      5         0     926.185831         27    высшее             0   \n",
      "6      6         0    2879.202052         43    высшее             0   \n",
      "7      7         0     152.779569         50   среднее             1   \n",
      "8      8         2    6929.865299         35    высшее             0   \n",
      "9      9         0    2188.756445         41   среднее             1   \n",
      "\n",
      "      family_status  family_status_id gender income_type   debt  total_income  \\\n",
      "0   женат / замужем                 0      F   сотрудник  False        253875   \n",
      "1   женат / замужем                 0      F   сотрудник  False        112080   \n",
      "2   женат / замужем                 0      M   сотрудник  False        145885   \n",
      "3   женат / замужем                 0      M   сотрудник  False        267628   \n",
      "4  гражданский брак                 1      F   пенсионер  False        158616   \n",
      "5  гражданский брак                 1      M   компаньон  False        255763   \n",
      "6   женат / замужем                 0      F   компаньон  False        240525   \n",
      "7   женат / замужем                 0      M   сотрудник  False        135823   \n",
      "8  гражданский брак                 1      F   сотрудник  False         95856   \n",
      "9   женат / замужем                 0      M   сотрудник  False        144425   \n",
      "\n",
      "                      purpose  \n",
      "0               покупка жилья  \n",
      "1     приобретение автомобиля  \n",
      "2               покупка жилья  \n",
      "3  дополнительное образование  \n",
      "4             сыграть свадьбу  \n",
      "5               покупка жилья  \n",
      "6           операции с жильем  \n",
      "7                 образование  \n",
      "8       на проведение свадьбы  \n",
      "9     покупка жилья для семьи  \n"
     ]
    }
   ],
   "source": [
    "data = data.drop_duplicates().reset_index() #удаляем явные дубликаты, сбрасываем индексы строк\n",
    "print(data.head(10))\n"
   ]
  },
  {
   "cell_type": "markdown",
   "id": "02a2fb92",
   "metadata": {},
   "source": [
    "### Шаг 2.5. Формирование дополнительных датафреймов словарей, декомпозиция исходного датафрейма."
   ]
  },
  {
   "cell_type": "markdown",
   "id": "ac39d020",
   "metadata": {},
   "source": [
    "Далее нам нужно немного облегчить вес основного датафрейма. Объявим новые датафреймы, в которой сохраним заполненные столбцы 'education', 'education_id' и 'family_status', 'family_status_id'. Для анализа нам вполне достаточно оставить только столбцы с идентификаторами. "
   ]
  },
  {
   "cell_type": "code",
   "execution_count": 11,
   "id": "cda027c1",
   "metadata": {},
   "outputs": [],
   "source": [
    "education_id = data[['education', 'education_id']] #объединяем в один датафрейм столбцы с образованием\n",
    "family_status_id = data[['family_status', 'family_status_id']] #объединяем в один датафрейм столбцы с семейным статусом \n",
    "family_status_id = family_status_id.drop_duplicates().reset_index()"
   ]
  },
  {
   "cell_type": "code",
   "execution_count": 12,
   "id": "b683281c",
   "metadata": {},
   "outputs": [
    {
     "data": {
      "text/html": [
       "<div>\n",
       "<style scoped>\n",
       "    .dataframe tbody tr th:only-of-type {\n",
       "        vertical-align: middle;\n",
       "    }\n",
       "\n",
       "    .dataframe tbody tr th {\n",
       "        vertical-align: top;\n",
       "    }\n",
       "\n",
       "    .dataframe thead th {\n",
       "        text-align: right;\n",
       "    }\n",
       "</style>\n",
       "<table border=\"1\" class=\"dataframe\">\n",
       "  <thead>\n",
       "    <tr style=\"text-align: right;\">\n",
       "      <th></th>\n",
       "      <th>index</th>\n",
       "      <th>children</th>\n",
       "      <th>days_employed</th>\n",
       "      <th>dob_years</th>\n",
       "      <th>education_id</th>\n",
       "      <th>family_status_id</th>\n",
       "      <th>gender</th>\n",
       "      <th>income_type</th>\n",
       "      <th>debt</th>\n",
       "      <th>total_income</th>\n",
       "      <th>purpose</th>\n",
       "    </tr>\n",
       "  </thead>\n",
       "  <tbody>\n",
       "    <tr>\n",
       "      <th>0</th>\n",
       "      <td>0</td>\n",
       "      <td>1</td>\n",
       "      <td>8437.673028</td>\n",
       "      <td>42</td>\n",
       "      <td>0</td>\n",
       "      <td>0</td>\n",
       "      <td>F</td>\n",
       "      <td>сотрудник</td>\n",
       "      <td>False</td>\n",
       "      <td>253875</td>\n",
       "      <td>покупка жилья</td>\n",
       "    </tr>\n",
       "    <tr>\n",
       "      <th>1</th>\n",
       "      <td>1</td>\n",
       "      <td>1</td>\n",
       "      <td>4024.803754</td>\n",
       "      <td>36</td>\n",
       "      <td>1</td>\n",
       "      <td>0</td>\n",
       "      <td>F</td>\n",
       "      <td>сотрудник</td>\n",
       "      <td>False</td>\n",
       "      <td>112080</td>\n",
       "      <td>приобретение автомобиля</td>\n",
       "    </tr>\n",
       "    <tr>\n",
       "      <th>2</th>\n",
       "      <td>2</td>\n",
       "      <td>0</td>\n",
       "      <td>5623.422610</td>\n",
       "      <td>33</td>\n",
       "      <td>1</td>\n",
       "      <td>0</td>\n",
       "      <td>M</td>\n",
       "      <td>сотрудник</td>\n",
       "      <td>False</td>\n",
       "      <td>145885</td>\n",
       "      <td>покупка жилья</td>\n",
       "    </tr>\n",
       "    <tr>\n",
       "      <th>3</th>\n",
       "      <td>3</td>\n",
       "      <td>3</td>\n",
       "      <td>4124.747207</td>\n",
       "      <td>32</td>\n",
       "      <td>1</td>\n",
       "      <td>0</td>\n",
       "      <td>M</td>\n",
       "      <td>сотрудник</td>\n",
       "      <td>False</td>\n",
       "      <td>267628</td>\n",
       "      <td>дополнительное образование</td>\n",
       "    </tr>\n",
       "    <tr>\n",
       "      <th>4</th>\n",
       "      <td>4</td>\n",
       "      <td>0</td>\n",
       "      <td>340266.072047</td>\n",
       "      <td>53</td>\n",
       "      <td>1</td>\n",
       "      <td>1</td>\n",
       "      <td>F</td>\n",
       "      <td>пенсионер</td>\n",
       "      <td>False</td>\n",
       "      <td>158616</td>\n",
       "      <td>сыграть свадьбу</td>\n",
       "    </tr>\n",
       "    <tr>\n",
       "      <th>5</th>\n",
       "      <td>5</td>\n",
       "      <td>0</td>\n",
       "      <td>926.185831</td>\n",
       "      <td>27</td>\n",
       "      <td>0</td>\n",
       "      <td>1</td>\n",
       "      <td>M</td>\n",
       "      <td>компаньон</td>\n",
       "      <td>False</td>\n",
       "      <td>255763</td>\n",
       "      <td>покупка жилья</td>\n",
       "    </tr>\n",
       "    <tr>\n",
       "      <th>6</th>\n",
       "      <td>6</td>\n",
       "      <td>0</td>\n",
       "      <td>2879.202052</td>\n",
       "      <td>43</td>\n",
       "      <td>0</td>\n",
       "      <td>0</td>\n",
       "      <td>F</td>\n",
       "      <td>компаньон</td>\n",
       "      <td>False</td>\n",
       "      <td>240525</td>\n",
       "      <td>операции с жильем</td>\n",
       "    </tr>\n",
       "    <tr>\n",
       "      <th>7</th>\n",
       "      <td>7</td>\n",
       "      <td>0</td>\n",
       "      <td>152.779569</td>\n",
       "      <td>50</td>\n",
       "      <td>1</td>\n",
       "      <td>0</td>\n",
       "      <td>M</td>\n",
       "      <td>сотрудник</td>\n",
       "      <td>False</td>\n",
       "      <td>135823</td>\n",
       "      <td>образование</td>\n",
       "    </tr>\n",
       "    <tr>\n",
       "      <th>8</th>\n",
       "      <td>8</td>\n",
       "      <td>2</td>\n",
       "      <td>6929.865299</td>\n",
       "      <td>35</td>\n",
       "      <td>0</td>\n",
       "      <td>1</td>\n",
       "      <td>F</td>\n",
       "      <td>сотрудник</td>\n",
       "      <td>False</td>\n",
       "      <td>95856</td>\n",
       "      <td>на проведение свадьбы</td>\n",
       "    </tr>\n",
       "    <tr>\n",
       "      <th>9</th>\n",
       "      <td>9</td>\n",
       "      <td>0</td>\n",
       "      <td>2188.756445</td>\n",
       "      <td>41</td>\n",
       "      <td>1</td>\n",
       "      <td>0</td>\n",
       "      <td>M</td>\n",
       "      <td>сотрудник</td>\n",
       "      <td>False</td>\n",
       "      <td>144425</td>\n",
       "      <td>покупка жилья для семьи</td>\n",
       "    </tr>\n",
       "  </tbody>\n",
       "</table>\n",
       "</div>"
      ],
      "text/plain": [
       "   index  children  days_employed  dob_years  education_id  family_status_id  \\\n",
       "0      0         1    8437.673028         42             0                 0   \n",
       "1      1         1    4024.803754         36             1                 0   \n",
       "2      2         0    5623.422610         33             1                 0   \n",
       "3      3         3    4124.747207         32             1                 0   \n",
       "4      4         0  340266.072047         53             1                 1   \n",
       "5      5         0     926.185831         27             0                 1   \n",
       "6      6         0    2879.202052         43             0                 0   \n",
       "7      7         0     152.779569         50             1                 0   \n",
       "8      8         2    6929.865299         35             0                 1   \n",
       "9      9         0    2188.756445         41             1                 0   \n",
       "\n",
       "  gender income_type   debt  total_income                     purpose  \n",
       "0      F   сотрудник  False        253875               покупка жилья  \n",
       "1      F   сотрудник  False        112080     приобретение автомобиля  \n",
       "2      M   сотрудник  False        145885               покупка жилья  \n",
       "3      M   сотрудник  False        267628  дополнительное образование  \n",
       "4      F   пенсионер  False        158616             сыграть свадьбу  \n",
       "5      M   компаньон  False        255763               покупка жилья  \n",
       "6      F   компаньон  False        240525           операции с жильем  \n",
       "7      M   сотрудник  False        135823                 образование  \n",
       "8      F   сотрудник  False         95856       на проведение свадьбы  \n",
       "9      M   сотрудник  False        144425     покупка жилья для семьи  "
      ]
     },
     "metadata": {},
     "output_type": "display_data"
    }
   ],
   "source": [
    "data = data.drop(columns=['education']) #удаляем из исходного датафрейма столбцы education и family_status, \n",
    "data = data.drop(columns=['family_status']) #они сохранены у нас в отдельных датафреймах выше\n",
    "display(data.head(10)) #решила, что дальше нужно выводить таблицы красивее:)"
   ]
  },
  {
   "cell_type": "markdown",
   "id": "dc5916ef",
   "metadata": {},
   "source": [
    "### Шаг 2.6. Категоризация дохода."
   ]
  },
  {
   "cell_type": "code",
   "execution_count": 13,
   "id": "1dbe7716",
   "metadata": {},
   "outputs": [
    {
     "data": {
      "text/plain": [
       "'E'"
      ]
     },
     "execution_count": 13,
     "metadata": {},
     "output_type": "execute_result"
    }
   ],
   "source": [
    "def total_income_category(row): #создаем функцию для категоризации по доходу\n",
    "    total_income = row['total_income']\n",
    "    \n",
    "    if total_income <= 30000:\n",
    "        return 'E'\n",
    "\n",
    "    if total_income <= 50000:\n",
    "        return 'D'\n",
    "\n",
    "    if total_income <= 200000:\n",
    "        return 'C'\n",
    "    \n",
    "    if total_income <= 500000:\n",
    "        return 'B'\n",
    "    \n",
    "    return 'A'\n",
    "\n",
    "row_values = [2500] #проверяем работу функции, для примера возьмем клиента с доходом в 2500\n",
    "row_columns = ['total_income']\n",
    "row = pd.Series(data=row_values, index=row_columns) \n",
    "total_income_category(row)    \n"
   ]
  },
  {
   "cell_type": "markdown",
   "id": "81fd1725",
   "metadata": {},
   "source": [
    "Функция работает корректно. Теперь нужно создать новый столбец в датафрейме."
   ]
  },
  {
   "cell_type": "code",
   "execution_count": 14,
   "id": "762b57e4",
   "metadata": {},
   "outputs": [
    {
     "data": {
      "text/html": [
       "<div>\n",
       "<style scoped>\n",
       "    .dataframe tbody tr th:only-of-type {\n",
       "        vertical-align: middle;\n",
       "    }\n",
       "\n",
       "    .dataframe tbody tr th {\n",
       "        vertical-align: top;\n",
       "    }\n",
       "\n",
       "    .dataframe thead th {\n",
       "        text-align: right;\n",
       "    }\n",
       "</style>\n",
       "<table border=\"1\" class=\"dataframe\">\n",
       "  <thead>\n",
       "    <tr style=\"text-align: right;\">\n",
       "      <th></th>\n",
       "      <th>index</th>\n",
       "      <th>children</th>\n",
       "      <th>days_employed</th>\n",
       "      <th>dob_years</th>\n",
       "      <th>education_id</th>\n",
       "      <th>family_status_id</th>\n",
       "      <th>gender</th>\n",
       "      <th>income_type</th>\n",
       "      <th>debt</th>\n",
       "      <th>total_income</th>\n",
       "      <th>purpose</th>\n",
       "      <th>total_income_category</th>\n",
       "    </tr>\n",
       "  </thead>\n",
       "  <tbody>\n",
       "    <tr>\n",
       "      <th>0</th>\n",
       "      <td>0</td>\n",
       "      <td>1</td>\n",
       "      <td>8437.673028</td>\n",
       "      <td>42</td>\n",
       "      <td>0</td>\n",
       "      <td>0</td>\n",
       "      <td>F</td>\n",
       "      <td>сотрудник</td>\n",
       "      <td>False</td>\n",
       "      <td>253875</td>\n",
       "      <td>покупка жилья</td>\n",
       "      <td>B</td>\n",
       "    </tr>\n",
       "    <tr>\n",
       "      <th>1</th>\n",
       "      <td>1</td>\n",
       "      <td>1</td>\n",
       "      <td>4024.803754</td>\n",
       "      <td>36</td>\n",
       "      <td>1</td>\n",
       "      <td>0</td>\n",
       "      <td>F</td>\n",
       "      <td>сотрудник</td>\n",
       "      <td>False</td>\n",
       "      <td>112080</td>\n",
       "      <td>приобретение автомобиля</td>\n",
       "      <td>C</td>\n",
       "    </tr>\n",
       "    <tr>\n",
       "      <th>2</th>\n",
       "      <td>2</td>\n",
       "      <td>0</td>\n",
       "      <td>5623.422610</td>\n",
       "      <td>33</td>\n",
       "      <td>1</td>\n",
       "      <td>0</td>\n",
       "      <td>M</td>\n",
       "      <td>сотрудник</td>\n",
       "      <td>False</td>\n",
       "      <td>145885</td>\n",
       "      <td>покупка жилья</td>\n",
       "      <td>C</td>\n",
       "    </tr>\n",
       "    <tr>\n",
       "      <th>3</th>\n",
       "      <td>3</td>\n",
       "      <td>3</td>\n",
       "      <td>4124.747207</td>\n",
       "      <td>32</td>\n",
       "      <td>1</td>\n",
       "      <td>0</td>\n",
       "      <td>M</td>\n",
       "      <td>сотрудник</td>\n",
       "      <td>False</td>\n",
       "      <td>267628</td>\n",
       "      <td>дополнительное образование</td>\n",
       "      <td>B</td>\n",
       "    </tr>\n",
       "    <tr>\n",
       "      <th>4</th>\n",
       "      <td>4</td>\n",
       "      <td>0</td>\n",
       "      <td>340266.072047</td>\n",
       "      <td>53</td>\n",
       "      <td>1</td>\n",
       "      <td>1</td>\n",
       "      <td>F</td>\n",
       "      <td>пенсионер</td>\n",
       "      <td>False</td>\n",
       "      <td>158616</td>\n",
       "      <td>сыграть свадьбу</td>\n",
       "      <td>C</td>\n",
       "    </tr>\n",
       "    <tr>\n",
       "      <th>5</th>\n",
       "      <td>5</td>\n",
       "      <td>0</td>\n",
       "      <td>926.185831</td>\n",
       "      <td>27</td>\n",
       "      <td>0</td>\n",
       "      <td>1</td>\n",
       "      <td>M</td>\n",
       "      <td>компаньон</td>\n",
       "      <td>False</td>\n",
       "      <td>255763</td>\n",
       "      <td>покупка жилья</td>\n",
       "      <td>B</td>\n",
       "    </tr>\n",
       "    <tr>\n",
       "      <th>6</th>\n",
       "      <td>6</td>\n",
       "      <td>0</td>\n",
       "      <td>2879.202052</td>\n",
       "      <td>43</td>\n",
       "      <td>0</td>\n",
       "      <td>0</td>\n",
       "      <td>F</td>\n",
       "      <td>компаньон</td>\n",
       "      <td>False</td>\n",
       "      <td>240525</td>\n",
       "      <td>операции с жильем</td>\n",
       "      <td>B</td>\n",
       "    </tr>\n",
       "    <tr>\n",
       "      <th>7</th>\n",
       "      <td>7</td>\n",
       "      <td>0</td>\n",
       "      <td>152.779569</td>\n",
       "      <td>50</td>\n",
       "      <td>1</td>\n",
       "      <td>0</td>\n",
       "      <td>M</td>\n",
       "      <td>сотрудник</td>\n",
       "      <td>False</td>\n",
       "      <td>135823</td>\n",
       "      <td>образование</td>\n",
       "      <td>C</td>\n",
       "    </tr>\n",
       "    <tr>\n",
       "      <th>8</th>\n",
       "      <td>8</td>\n",
       "      <td>2</td>\n",
       "      <td>6929.865299</td>\n",
       "      <td>35</td>\n",
       "      <td>0</td>\n",
       "      <td>1</td>\n",
       "      <td>F</td>\n",
       "      <td>сотрудник</td>\n",
       "      <td>False</td>\n",
       "      <td>95856</td>\n",
       "      <td>на проведение свадьбы</td>\n",
       "      <td>C</td>\n",
       "    </tr>\n",
       "    <tr>\n",
       "      <th>9</th>\n",
       "      <td>9</td>\n",
       "      <td>0</td>\n",
       "      <td>2188.756445</td>\n",
       "      <td>41</td>\n",
       "      <td>1</td>\n",
       "      <td>0</td>\n",
       "      <td>M</td>\n",
       "      <td>сотрудник</td>\n",
       "      <td>False</td>\n",
       "      <td>144425</td>\n",
       "      <td>покупка жилья для семьи</td>\n",
       "      <td>C</td>\n",
       "    </tr>\n",
       "  </tbody>\n",
       "</table>\n",
       "</div>"
      ],
      "text/plain": [
       "   index  children  days_employed  dob_years  education_id  family_status_id  \\\n",
       "0      0         1    8437.673028         42             0                 0   \n",
       "1      1         1    4024.803754         36             1                 0   \n",
       "2      2         0    5623.422610         33             1                 0   \n",
       "3      3         3    4124.747207         32             1                 0   \n",
       "4      4         0  340266.072047         53             1                 1   \n",
       "5      5         0     926.185831         27             0                 1   \n",
       "6      6         0    2879.202052         43             0                 0   \n",
       "7      7         0     152.779569         50             1                 0   \n",
       "8      8         2    6929.865299         35             0                 1   \n",
       "9      9         0    2188.756445         41             1                 0   \n",
       "\n",
       "  gender income_type   debt  total_income                     purpose  \\\n",
       "0      F   сотрудник  False        253875               покупка жилья   \n",
       "1      F   сотрудник  False        112080     приобретение автомобиля   \n",
       "2      M   сотрудник  False        145885               покупка жилья   \n",
       "3      M   сотрудник  False        267628  дополнительное образование   \n",
       "4      F   пенсионер  False        158616             сыграть свадьбу   \n",
       "5      M   компаньон  False        255763               покупка жилья   \n",
       "6      F   компаньон  False        240525           операции с жильем   \n",
       "7      M   сотрудник  False        135823                 образование   \n",
       "8      F   сотрудник  False         95856       на проведение свадьбы   \n",
       "9      M   сотрудник  False        144425     покупка жилья для семьи   \n",
       "\n",
       "  total_income_category  \n",
       "0                     B  \n",
       "1                     C  \n",
       "2                     C  \n",
       "3                     B  \n",
       "4                     C  \n",
       "5                     B  \n",
       "6                     B  \n",
       "7                     C  \n",
       "8                     C  \n",
       "9                     C  "
      ]
     },
     "metadata": {},
     "output_type": "display_data"
    }
   ],
   "source": [
    "data ['total_income_category']  = data.apply(total_income_category, axis=1) #добавляем новый столбец в датафрейм\n",
    "display(data.head(10))"
   ]
  },
  {
   "cell_type": "code",
   "execution_count": 15,
   "id": "acca645d",
   "metadata": {},
   "outputs": [
    {
     "data": {
      "text/plain": [
       "C    16015\n",
       "B     4845\n",
       "D      350\n",
       "A      222\n",
       "E       22\n",
       "Name: total_income_category, dtype: int64"
      ]
     },
     "execution_count": 15,
     "metadata": {},
     "output_type": "execute_result"
    }
   ],
   "source": [
    "data ['total_income_category'].value_counts()"
   ]
  },
  {
   "cell_type": "markdown",
   "id": "7d9e563b",
   "metadata": {},
   "source": [
    "### Шаг 2.7. Категоризация целей кредита."
   ]
  },
  {
   "cell_type": "code",
   "execution_count": 16,
   "id": "d9fe1e46",
   "metadata": {},
   "outputs": [
    {
     "data": {
      "text/plain": [
       "'операции с недвижимостью'"
      ]
     },
     "execution_count": 16,
     "metadata": {},
     "output_type": "execute_result"
    }
   ],
   "source": [
    "def purpose_category(row): #теперь создаем функцию для категоризации по цели займа.\n",
    "    purpose = row['purpose']\n",
    "    \n",
    "    if ('автомобил') in purpose:\n",
    "        return 'операции с автомобилем'\n",
    "\n",
    "    if ('жи') in purpose:\n",
    "        return 'операции с недвижимостью'\n",
    "\n",
    "    if ('свадьб') in purpose:\n",
    "        return 'проведение свадьбы'\n",
    "      \n",
    "    return 'получение образования'\n",
    "\n",
    "row_values = ['покупка жилья'] #проверяем работу функции, для примера возьмем клиента с кредитом на покупку жилья\n",
    "row_columns = ['purpose']\n",
    "row = pd.Series(data=row_values, index=row_columns) \n",
    "purpose_category(row)    \n"
   ]
  },
  {
   "cell_type": "markdown",
   "id": "b6fe3518",
   "metadata": {},
   "source": [
    "Функция работает корректно. Теперь нужно создать новый столбец в датафрейме."
   ]
  },
  {
   "cell_type": "code",
   "execution_count": 17,
   "id": "896a4e7a",
   "metadata": {},
   "outputs": [
    {
     "data": {
      "text/html": [
       "<div>\n",
       "<style scoped>\n",
       "    .dataframe tbody tr th:only-of-type {\n",
       "        vertical-align: middle;\n",
       "    }\n",
       "\n",
       "    .dataframe tbody tr th {\n",
       "        vertical-align: top;\n",
       "    }\n",
       "\n",
       "    .dataframe thead th {\n",
       "        text-align: right;\n",
       "    }\n",
       "</style>\n",
       "<table border=\"1\" class=\"dataframe\">\n",
       "  <thead>\n",
       "    <tr style=\"text-align: right;\">\n",
       "      <th></th>\n",
       "      <th>index</th>\n",
       "      <th>children</th>\n",
       "      <th>days_employed</th>\n",
       "      <th>dob_years</th>\n",
       "      <th>education_id</th>\n",
       "      <th>family_status_id</th>\n",
       "      <th>gender</th>\n",
       "      <th>income_type</th>\n",
       "      <th>debt</th>\n",
       "      <th>total_income</th>\n",
       "      <th>purpose</th>\n",
       "      <th>total_income_category</th>\n",
       "      <th>purpose_category</th>\n",
       "    </tr>\n",
       "  </thead>\n",
       "  <tbody>\n",
       "    <tr>\n",
       "      <th>0</th>\n",
       "      <td>0</td>\n",
       "      <td>1</td>\n",
       "      <td>8437.673028</td>\n",
       "      <td>42</td>\n",
       "      <td>0</td>\n",
       "      <td>0</td>\n",
       "      <td>F</td>\n",
       "      <td>сотрудник</td>\n",
       "      <td>False</td>\n",
       "      <td>253875</td>\n",
       "      <td>покупка жилья</td>\n",
       "      <td>B</td>\n",
       "      <td>операции с недвижимостью</td>\n",
       "    </tr>\n",
       "    <tr>\n",
       "      <th>1</th>\n",
       "      <td>1</td>\n",
       "      <td>1</td>\n",
       "      <td>4024.803754</td>\n",
       "      <td>36</td>\n",
       "      <td>1</td>\n",
       "      <td>0</td>\n",
       "      <td>F</td>\n",
       "      <td>сотрудник</td>\n",
       "      <td>False</td>\n",
       "      <td>112080</td>\n",
       "      <td>приобретение автомобиля</td>\n",
       "      <td>C</td>\n",
       "      <td>операции с автомобилем</td>\n",
       "    </tr>\n",
       "    <tr>\n",
       "      <th>2</th>\n",
       "      <td>2</td>\n",
       "      <td>0</td>\n",
       "      <td>5623.422610</td>\n",
       "      <td>33</td>\n",
       "      <td>1</td>\n",
       "      <td>0</td>\n",
       "      <td>M</td>\n",
       "      <td>сотрудник</td>\n",
       "      <td>False</td>\n",
       "      <td>145885</td>\n",
       "      <td>покупка жилья</td>\n",
       "      <td>C</td>\n",
       "      <td>операции с недвижимостью</td>\n",
       "    </tr>\n",
       "    <tr>\n",
       "      <th>3</th>\n",
       "      <td>3</td>\n",
       "      <td>3</td>\n",
       "      <td>4124.747207</td>\n",
       "      <td>32</td>\n",
       "      <td>1</td>\n",
       "      <td>0</td>\n",
       "      <td>M</td>\n",
       "      <td>сотрудник</td>\n",
       "      <td>False</td>\n",
       "      <td>267628</td>\n",
       "      <td>дополнительное образование</td>\n",
       "      <td>B</td>\n",
       "      <td>получение образования</td>\n",
       "    </tr>\n",
       "    <tr>\n",
       "      <th>4</th>\n",
       "      <td>4</td>\n",
       "      <td>0</td>\n",
       "      <td>340266.072047</td>\n",
       "      <td>53</td>\n",
       "      <td>1</td>\n",
       "      <td>1</td>\n",
       "      <td>F</td>\n",
       "      <td>пенсионер</td>\n",
       "      <td>False</td>\n",
       "      <td>158616</td>\n",
       "      <td>сыграть свадьбу</td>\n",
       "      <td>C</td>\n",
       "      <td>проведение свадьбы</td>\n",
       "    </tr>\n",
       "    <tr>\n",
       "      <th>5</th>\n",
       "      <td>5</td>\n",
       "      <td>0</td>\n",
       "      <td>926.185831</td>\n",
       "      <td>27</td>\n",
       "      <td>0</td>\n",
       "      <td>1</td>\n",
       "      <td>M</td>\n",
       "      <td>компаньон</td>\n",
       "      <td>False</td>\n",
       "      <td>255763</td>\n",
       "      <td>покупка жилья</td>\n",
       "      <td>B</td>\n",
       "      <td>операции с недвижимостью</td>\n",
       "    </tr>\n",
       "    <tr>\n",
       "      <th>6</th>\n",
       "      <td>6</td>\n",
       "      <td>0</td>\n",
       "      <td>2879.202052</td>\n",
       "      <td>43</td>\n",
       "      <td>0</td>\n",
       "      <td>0</td>\n",
       "      <td>F</td>\n",
       "      <td>компаньон</td>\n",
       "      <td>False</td>\n",
       "      <td>240525</td>\n",
       "      <td>операции с жильем</td>\n",
       "      <td>B</td>\n",
       "      <td>операции с недвижимостью</td>\n",
       "    </tr>\n",
       "    <tr>\n",
       "      <th>7</th>\n",
       "      <td>7</td>\n",
       "      <td>0</td>\n",
       "      <td>152.779569</td>\n",
       "      <td>50</td>\n",
       "      <td>1</td>\n",
       "      <td>0</td>\n",
       "      <td>M</td>\n",
       "      <td>сотрудник</td>\n",
       "      <td>False</td>\n",
       "      <td>135823</td>\n",
       "      <td>образование</td>\n",
       "      <td>C</td>\n",
       "      <td>получение образования</td>\n",
       "    </tr>\n",
       "    <tr>\n",
       "      <th>8</th>\n",
       "      <td>8</td>\n",
       "      <td>2</td>\n",
       "      <td>6929.865299</td>\n",
       "      <td>35</td>\n",
       "      <td>0</td>\n",
       "      <td>1</td>\n",
       "      <td>F</td>\n",
       "      <td>сотрудник</td>\n",
       "      <td>False</td>\n",
       "      <td>95856</td>\n",
       "      <td>на проведение свадьбы</td>\n",
       "      <td>C</td>\n",
       "      <td>проведение свадьбы</td>\n",
       "    </tr>\n",
       "    <tr>\n",
       "      <th>9</th>\n",
       "      <td>9</td>\n",
       "      <td>0</td>\n",
       "      <td>2188.756445</td>\n",
       "      <td>41</td>\n",
       "      <td>1</td>\n",
       "      <td>0</td>\n",
       "      <td>M</td>\n",
       "      <td>сотрудник</td>\n",
       "      <td>False</td>\n",
       "      <td>144425</td>\n",
       "      <td>покупка жилья для семьи</td>\n",
       "      <td>C</td>\n",
       "      <td>операции с недвижимостью</td>\n",
       "    </tr>\n",
       "  </tbody>\n",
       "</table>\n",
       "</div>"
      ],
      "text/plain": [
       "   index  children  days_employed  dob_years  education_id  family_status_id  \\\n",
       "0      0         1    8437.673028         42             0                 0   \n",
       "1      1         1    4024.803754         36             1                 0   \n",
       "2      2         0    5623.422610         33             1                 0   \n",
       "3      3         3    4124.747207         32             1                 0   \n",
       "4      4         0  340266.072047         53             1                 1   \n",
       "5      5         0     926.185831         27             0                 1   \n",
       "6      6         0    2879.202052         43             0                 0   \n",
       "7      7         0     152.779569         50             1                 0   \n",
       "8      8         2    6929.865299         35             0                 1   \n",
       "9      9         0    2188.756445         41             1                 0   \n",
       "\n",
       "  gender income_type   debt  total_income                     purpose  \\\n",
       "0      F   сотрудник  False        253875               покупка жилья   \n",
       "1      F   сотрудник  False        112080     приобретение автомобиля   \n",
       "2      M   сотрудник  False        145885               покупка жилья   \n",
       "3      M   сотрудник  False        267628  дополнительное образование   \n",
       "4      F   пенсионер  False        158616             сыграть свадьбу   \n",
       "5      M   компаньон  False        255763               покупка жилья   \n",
       "6      F   компаньон  False        240525           операции с жильем   \n",
       "7      M   сотрудник  False        135823                 образование   \n",
       "8      F   сотрудник  False         95856       на проведение свадьбы   \n",
       "9      M   сотрудник  False        144425     покупка жилья для семьи   \n",
       "\n",
       "  total_income_category          purpose_category  \n",
       "0                     B  операции с недвижимостью  \n",
       "1                     C    операции с автомобилем  \n",
       "2                     C  операции с недвижимостью  \n",
       "3                     B     получение образования  \n",
       "4                     C        проведение свадьбы  \n",
       "5                     B  операции с недвижимостью  \n",
       "6                     B  операции с недвижимостью  \n",
       "7                     C     получение образования  \n",
       "8                     C        проведение свадьбы  \n",
       "9                     C  операции с недвижимостью  "
      ]
     },
     "metadata": {},
     "output_type": "display_data"
    }
   ],
   "source": [
    "data ['purpose_category'] = data.apply(purpose_category, axis=1) #добавляем новый столбец в датафрейм\n",
    "display(data.head(10))"
   ]
  },
  {
   "cell_type": "markdown",
   "id": "51e3ae72",
   "metadata": {},
   "source": [
    "Чтобы было легче проанализировать данные, сделаем сводные таблицы.\n",
    "1. Есть ли зависимость между количеством детей и возвратом кредита в срок? \n",
    "Чтобы ответить на этот вопрос, необходимо сформировать сводную таблицу из следующих столбцов: 'children'(количество детей в семье), 'debt'(имел ли задолженность по возврату кредитов), и посчитать процент возврата."
   ]
  },
  {
   "cell_type": "code",
   "execution_count": 18,
   "id": "3f395ac3",
   "metadata": {},
   "outputs": [
    {
     "data": {
      "text/html": [
       "<div>\n",
       "<style scoped>\n",
       "    .dataframe tbody tr th:only-of-type {\n",
       "        vertical-align: middle;\n",
       "    }\n",
       "\n",
       "    .dataframe tbody tr th {\n",
       "        vertical-align: top;\n",
       "    }\n",
       "\n",
       "    .dataframe thead th {\n",
       "        text-align: right;\n",
       "    }\n",
       "</style>\n",
       "<table border=\"1\" class=\"dataframe\">\n",
       "  <thead>\n",
       "    <tr style=\"text-align: right;\">\n",
       "      <th>debt</th>\n",
       "      <th>False</th>\n",
       "      <th>True</th>\n",
       "      <th>percent</th>\n",
       "    </tr>\n",
       "    <tr>\n",
       "      <th>children</th>\n",
       "      <th></th>\n",
       "      <th></th>\n",
       "      <th></th>\n",
       "    </tr>\n",
       "  </thead>\n",
       "  <tbody>\n",
       "    <tr>\n",
       "      <th>4</th>\n",
       "      <td>37.0</td>\n",
       "      <td>4.0</td>\n",
       "      <td>90.243902</td>\n",
       "    </tr>\n",
       "    <tr>\n",
       "      <th>2</th>\n",
       "      <td>1926.0</td>\n",
       "      <td>202.0</td>\n",
       "      <td>90.507519</td>\n",
       "    </tr>\n",
       "    <tr>\n",
       "      <th>1</th>\n",
       "      <td>4410.0</td>\n",
       "      <td>445.0</td>\n",
       "      <td>90.834192</td>\n",
       "    </tr>\n",
       "    <tr>\n",
       "      <th>3</th>\n",
       "      <td>303.0</td>\n",
       "      <td>27.0</td>\n",
       "      <td>91.818182</td>\n",
       "    </tr>\n",
       "    <tr>\n",
       "      <th>0</th>\n",
       "      <td>13028.0</td>\n",
       "      <td>1063.0</td>\n",
       "      <td>92.456178</td>\n",
       "    </tr>\n",
       "  </tbody>\n",
       "</table>\n",
       "</div>"
      ],
      "text/plain": [
       "debt        False    True    percent\n",
       "children                            \n",
       "4            37.0     4.0  90.243902\n",
       "2          1926.0   202.0  90.507519\n",
       "1          4410.0   445.0  90.834192\n",
       "3           303.0    27.0  91.818182\n",
       "0         13028.0  1063.0  92.456178"
      ]
     },
     "execution_count": 18,
     "metadata": {},
     "output_type": "execute_result"
    }
   ],
   "source": [
    "children_debt = data.pivot_table(index=['children'], columns='debt', values='income_type', aggfunc='count')\n",
    "children_debt ['percent'] = children_debt [False]/(children_debt [False]+children_debt [True])*100 #создаем столбец ‘percent’\n",
    "children_debt.sort_values(by='percent').head() #выводим на экран"
   ]
  },
  {
   "cell_type": "markdown",
   "id": "3a0c048c",
   "metadata": {},
   "source": [
    "Исходя из получившейся у нас таблички мы видим, что процент возврата денег самый высокий у бездетных семей. Чуть пониже у семей с 3-мя детьми. В остальных семьях ситуация немного другая. Хуже всего обстоят дела в семьях с 3+ детей."
   ]
  },
  {
   "cell_type": "markdown",
   "id": "255b2f66",
   "metadata": {},
   "source": [
    "2. Есть ли зависимость между семейным положением и возвратом кредита в срок? Чтобы ответить на этот вопрос, нам также потребуется сводная табличка, состоящая из столбцов 'family_status_id' и 'debt'. Тут не все так просто, тк по условиям задания, нужный столбец family_status был удален, по идентификатору довольно сложно понять, о каком семейном статусе идет речь."
   ]
  },
  {
   "cell_type": "code",
   "execution_count": 19,
   "id": "9be0ee27",
   "metadata": {},
   "outputs": [
    {
     "data": {
      "text/html": [
       "<div>\n",
       "<style scoped>\n",
       "    .dataframe tbody tr th:only-of-type {\n",
       "        vertical-align: middle;\n",
       "    }\n",
       "\n",
       "    .dataframe tbody tr th {\n",
       "        vertical-align: top;\n",
       "    }\n",
       "\n",
       "    .dataframe thead th {\n",
       "        text-align: right;\n",
       "    }\n",
       "</style>\n",
       "<table border=\"1\" class=\"dataframe\">\n",
       "  <thead>\n",
       "    <tr style=\"text-align: right;\">\n",
       "      <th></th>\n",
       "      <th>index</th>\n",
       "      <th>family_status</th>\n",
       "      <th>False</th>\n",
       "      <th>True</th>\n",
       "      <th>percent</th>\n",
       "    </tr>\n",
       "  </thead>\n",
       "  <tbody>\n",
       "    <tr>\n",
       "      <th>4</th>\n",
       "      <td>24</td>\n",
       "      <td>Не женат / не замужем</td>\n",
       "      <td>2536</td>\n",
       "      <td>274</td>\n",
       "      <td>90.249110</td>\n",
       "    </tr>\n",
       "    <tr>\n",
       "      <th>1</th>\n",
       "      <td>4</td>\n",
       "      <td>гражданский брак</td>\n",
       "      <td>3763</td>\n",
       "      <td>388</td>\n",
       "      <td>90.652855</td>\n",
       "    </tr>\n",
       "    <tr>\n",
       "      <th>0</th>\n",
       "      <td>0</td>\n",
       "      <td>женат / замужем</td>\n",
       "      <td>11408</td>\n",
       "      <td>931</td>\n",
       "      <td>92.454818</td>\n",
       "    </tr>\n",
       "    <tr>\n",
       "      <th>3</th>\n",
       "      <td>19</td>\n",
       "      <td>в разводе</td>\n",
       "      <td>1110</td>\n",
       "      <td>85</td>\n",
       "      <td>92.887029</td>\n",
       "    </tr>\n",
       "    <tr>\n",
       "      <th>2</th>\n",
       "      <td>18</td>\n",
       "      <td>вдовец / вдова</td>\n",
       "      <td>896</td>\n",
       "      <td>63</td>\n",
       "      <td>93.430657</td>\n",
       "    </tr>\n",
       "  </tbody>\n",
       "</table>\n",
       "</div>"
      ],
      "text/plain": [
       "   index          family_status  False  True    percent\n",
       "4     24  Не женат / не замужем   2536   274  90.249110\n",
       "1      4       гражданский брак   3763   388  90.652855\n",
       "0      0        женат / замужем  11408   931  92.454818\n",
       "3     19              в разводе   1110    85  92.887029\n",
       "2     18         вдовец / вдова    896    63  93.430657"
      ]
     },
     "execution_count": 19,
     "metadata": {},
     "output_type": "execute_result"
    }
   ],
   "source": [
    "family_pivot = data.pivot_table(index=['family_status_id'], columns='debt', values='income_type', aggfunc='count')\n",
    "family_debt = family_status_id.merge(family_pivot, on='family_status_id', how='left') #нам нужен не идентификатор, а его расшифровка\n",
    "family_debt = family_debt.drop(columns = 'family_status_id')\n",
    "family_debt ['percent'] = family_debt [False]/ (family_debt [False]+family_debt [True])*100 #создаем столбец ‘percent’\n",
    "family_debt.sort_values(by='percent').head() #выводим на экран\n"
   ]
  },
  {
   "cell_type": "markdown",
   "id": "e0c80b4b",
   "metadata": {},
   "source": [
    "Получившаяся табличка ясно показывает, что те, кто потерял в свое время супруга или супругу по причине смерти последнего, являются самыми надежными заемщиками, самый высокий процент возврата именно у них."
   ]
  },
  {
   "cell_type": "markdown",
   "id": "8c549585",
   "metadata": {},
   "source": [
    "3. Есть ли зависимость между уровнем дохода и возвратом кредита в срок? Такой вопрос, конечно, тоже может возникнуть, нам также потребуется сводная табличка, состоящая из столбца 'total_income_category', который я добавляла в датафрейм выше и столбца и 'debt'."
   ]
  },
  {
   "cell_type": "code",
   "execution_count": 20,
   "id": "e2771333",
   "metadata": {},
   "outputs": [
    {
     "data": {
      "text/html": [
       "<div>\n",
       "<style scoped>\n",
       "    .dataframe tbody tr th:only-of-type {\n",
       "        vertical-align: middle;\n",
       "    }\n",
       "\n",
       "    .dataframe tbody tr th {\n",
       "        vertical-align: top;\n",
       "    }\n",
       "\n",
       "    .dataframe thead th {\n",
       "        text-align: right;\n",
       "    }\n",
       "</style>\n",
       "<table border=\"1\" class=\"dataframe\">\n",
       "  <thead>\n",
       "    <tr style=\"text-align: right;\">\n",
       "      <th>debt</th>\n",
       "      <th>False</th>\n",
       "      <th>True</th>\n",
       "      <th>percent</th>\n",
       "    </tr>\n",
       "    <tr>\n",
       "      <th>total_income_category</th>\n",
       "      <th></th>\n",
       "      <th></th>\n",
       "      <th></th>\n",
       "    </tr>\n",
       "  </thead>\n",
       "  <tbody>\n",
       "    <tr>\n",
       "      <th>E</th>\n",
       "      <td>20</td>\n",
       "      <td>2</td>\n",
       "      <td>90.909091</td>\n",
       "    </tr>\n",
       "    <tr>\n",
       "      <th>C</th>\n",
       "      <td>14655</td>\n",
       "      <td>1360</td>\n",
       "      <td>91.507961</td>\n",
       "    </tr>\n",
       "    <tr>\n",
       "      <th>B</th>\n",
       "      <td>4501</td>\n",
       "      <td>344</td>\n",
       "      <td>92.899897</td>\n",
       "    </tr>\n",
       "    <tr>\n",
       "      <th>A</th>\n",
       "      <td>208</td>\n",
       "      <td>14</td>\n",
       "      <td>93.693694</td>\n",
       "    </tr>\n",
       "    <tr>\n",
       "      <th>D</th>\n",
       "      <td>329</td>\n",
       "      <td>21</td>\n",
       "      <td>94.000000</td>\n",
       "    </tr>\n",
       "  </tbody>\n",
       "</table>\n",
       "</div>"
      ],
      "text/plain": [
       "debt                   False  True    percent\n",
       "total_income_category                        \n",
       "E                         20     2  90.909091\n",
       "C                      14655  1360  91.507961\n",
       "B                       4501   344  92.899897\n",
       "A                        208    14  93.693694\n",
       "D                        329    21  94.000000"
      ]
     },
     "execution_count": 20,
     "metadata": {},
     "output_type": "execute_result"
    }
   ],
   "source": [
    "income_debt = data.pivot_table(index=['total_income_category'], columns='debt', values='income_type', aggfunc='count')\n",
    "income_debt ['percent'] = income_debt [False]/(income_debt [False]+income_debt [True])*100 #создаем столбец ‘percent’\n",
    "income_debt.sort_values(by='percent') #выводим на экран"
   ]
  },
  {
   "cell_type": "markdown",
   "id": "2b35b005",
   "metadata": {},
   "source": [
    "А тут получается, что самый низкий процент возврата у людей с самым низким доходом, ниже 30000, видимо с таким низким уровнем дохода незапланированные траты сильно выбивают их из бюджета. \n",
    "Лучше всех платят заемщики с доходом, чуть выше самого низкого видимо потому что им приходится тщательнее планировать свои расходы."
   ]
  },
  {
   "cell_type": "markdown",
   "id": "21b0bacc",
   "metadata": {},
   "source": [
    "И последний вопрос: 4.Как разные цели кредита влияют на его возврат в срок? \n",
    "Вполне возможно, что тут тоже есть какая-то закономерность. Составим сводную табличку из столбца 'purpose_category' и столбца 'debt':"
   ]
  },
  {
   "cell_type": "code",
   "execution_count": 21,
   "id": "3ec1818d",
   "metadata": {},
   "outputs": [
    {
     "data": {
      "text/html": [
       "<div>\n",
       "<style scoped>\n",
       "    .dataframe tbody tr th:only-of-type {\n",
       "        vertical-align: middle;\n",
       "    }\n",
       "\n",
       "    .dataframe tbody tr th {\n",
       "        vertical-align: top;\n",
       "    }\n",
       "\n",
       "    .dataframe thead th {\n",
       "        text-align: right;\n",
       "    }\n",
       "</style>\n",
       "<table border=\"1\" class=\"dataframe\">\n",
       "  <thead>\n",
       "    <tr style=\"text-align: right;\">\n",
       "      <th>debt</th>\n",
       "      <th>False</th>\n",
       "      <th>True</th>\n",
       "      <th>percent</th>\n",
       "    </tr>\n",
       "    <tr>\n",
       "      <th>purpose_category</th>\n",
       "      <th></th>\n",
       "      <th></th>\n",
       "      <th></th>\n",
       "    </tr>\n",
       "  </thead>\n",
       "  <tbody>\n",
       "    <tr>\n",
       "      <th>операции с автомобилем</th>\n",
       "      <td>3903</td>\n",
       "      <td>403</td>\n",
       "      <td>90.640966</td>\n",
       "    </tr>\n",
       "    <tr>\n",
       "      <th>получение образования</th>\n",
       "      <td>3643</td>\n",
       "      <td>370</td>\n",
       "      <td>90.779965</td>\n",
       "    </tr>\n",
       "    <tr>\n",
       "      <th>проведение свадьбы</th>\n",
       "      <td>2138</td>\n",
       "      <td>186</td>\n",
       "      <td>91.996558</td>\n",
       "    </tr>\n",
       "    <tr>\n",
       "      <th>операции с недвижимостью</th>\n",
       "      <td>10029</td>\n",
       "      <td>782</td>\n",
       "      <td>92.766627</td>\n",
       "    </tr>\n",
       "  </tbody>\n",
       "</table>\n",
       "</div>"
      ],
      "text/plain": [
       "debt                      False  True    percent\n",
       "purpose_category                                \n",
       "операции с автомобилем     3903   403  90.640966\n",
       "получение образования      3643   370  90.779965\n",
       "проведение свадьбы         2138   186  91.996558\n",
       "операции с недвижимостью  10029   782  92.766627"
      ]
     },
     "execution_count": 21,
     "metadata": {},
     "output_type": "execute_result"
    }
   ],
   "source": [
    "purpose_debt = data.pivot_table(index=['purpose_category'], columns='debt', values='income_type', aggfunc='count')\n",
    "purpose_debt ['percent'] = purpose_debt [False]/(purpose_debt [False]+purpose_debt [True])*100 #создаем столбец ‘percent’\n",
    "purpose_debt.sort_values(by='percent').head() #выводим на экран"
   ]
  },
  {
   "cell_type": "markdown",
   "id": "df82e66d",
   "metadata": {},
   "source": [
    "Ну а в этой табличке мы видим, что самые надеждные заемщики - это люди, взявшие ипотеку. А люди, купившие автомобиль в кредит, демонстрируют самый низкий процент возврата."
   ]
  },
  {
   "cell_type": "markdown",
   "id": "1d57d63a",
   "metadata": {},
   "source": [
    "# Общий вывод:"
   ]
  },
  {
   "cell_type": "markdown",
   "id": "5a34586f",
   "metadata": {},
   "source": [
    "На основе проведенного исследования можно сделать вывод, что самые надежные заемщики - это не всегда семейные люди, как обычно полагают.\n",
    "Высокие доходы заемщиков также не гарантируют регулярных платежей по кредиту. Самые ответственные люди - это те, которым приходится тщательно планировать свои расходы ввиду того, что они небольшие, кто по каким-то причинам потерял супруга, у кого нет детей и кто решился на такой ответственный шаг, как покупка квартиры.\n",
    "Ну а самыми ненадежными заемщиками, как оказалось, являются семейные люди, с тремя детьми и предельно низким доходом, на который сильно влияют незапланированные траты, возникающие у каждого, и которые берут кредит для покупки автомобиля. "
   ]
  }
 ],
 "metadata": {
  "ExecuteTimeLog": [
   {
    "duration": 603,
    "start_time": "2022-05-05T17:29:26.035Z"
   },
   {
    "duration": 104,
    "start_time": "2022-05-05T17:36:51.279Z"
   },
   {
    "duration": 9,
    "start_time": "2022-05-05T17:38:11.397Z"
   },
   {
    "duration": 11,
    "start_time": "2022-05-05T17:38:16.121Z"
   },
   {
    "duration": 24,
    "start_time": "2022-05-05T17:38:40.987Z"
   },
   {
    "duration": 5,
    "start_time": "2022-05-05T18:46:06.951Z"
   },
   {
    "duration": 431,
    "start_time": "2022-05-05T18:50:41.690Z"
   },
   {
    "duration": 5,
    "start_time": "2022-05-05T18:51:14.700Z"
   },
   {
    "duration": 30,
    "start_time": "2022-05-05T18:52:20.497Z"
   },
   {
    "duration": 30,
    "start_time": "2022-05-05T19:03:31.792Z"
   },
   {
    "duration": 46,
    "start_time": "2022-05-05T19:05:24.702Z"
   },
   {
    "duration": 70,
    "start_time": "2022-05-06T06:10:13.395Z"
   },
   {
    "duration": 571,
    "start_time": "2022-05-06T06:10:22.625Z"
   },
   {
    "duration": 9,
    "start_time": "2022-05-06T06:10:36.529Z"
   },
   {
    "duration": 23,
    "start_time": "2022-05-06T06:10:36.541Z"
   },
   {
    "duration": 125,
    "start_time": "2022-05-06T06:10:36.567Z"
   },
   {
    "duration": 0,
    "start_time": "2022-05-06T06:10:36.694Z"
   },
   {
    "duration": 0,
    "start_time": "2022-05-06T06:10:36.695Z"
   },
   {
    "duration": 98,
    "start_time": "2022-05-06T06:11:03.239Z"
   },
   {
    "duration": 10,
    "start_time": "2022-05-06T06:11:03.340Z"
   },
   {
    "duration": 51,
    "start_time": "2022-05-06T06:11:03.353Z"
   },
   {
    "duration": 26,
    "start_time": "2022-05-06T06:11:03.407Z"
   },
   {
    "duration": 91,
    "start_time": "2022-05-06T06:11:03.435Z"
   },
   {
    "duration": 30,
    "start_time": "2022-05-06T06:22:44.620Z"
   },
   {
    "duration": 69,
    "start_time": "2022-05-06T06:23:33.921Z"
   },
   {
    "duration": 28,
    "start_time": "2022-05-06T06:24:41.122Z"
   },
   {
    "duration": 119,
    "start_time": "2022-05-06T06:24:55.163Z"
   },
   {
    "duration": 31,
    "start_time": "2022-05-06T06:25:04.780Z"
   },
   {
    "duration": 37,
    "start_time": "2022-05-06T06:25:28.664Z"
   },
   {
    "duration": 23,
    "start_time": "2022-05-06T06:54:24.858Z"
   },
   {
    "duration": 88,
    "start_time": "2022-05-06T06:54:37.170Z"
   },
   {
    "duration": 22,
    "start_time": "2022-05-06T06:54:37.261Z"
   },
   {
    "duration": 22,
    "start_time": "2022-05-06T06:54:37.285Z"
   },
   {
    "duration": 22,
    "start_time": "2022-05-06T06:54:37.310Z"
   },
   {
    "duration": 84,
    "start_time": "2022-05-06T06:54:37.334Z"
   },
   {
    "duration": 24,
    "start_time": "2022-05-06T06:54:37.420Z"
   },
   {
    "duration": 33,
    "start_time": "2022-05-06T07:46:49.772Z"
   },
   {
    "duration": 44,
    "start_time": "2022-05-06T07:47:11.414Z"
   },
   {
    "duration": 25,
    "start_time": "2022-05-06T09:07:10.916Z"
   },
   {
    "duration": 11,
    "start_time": "2022-05-06T10:09:51.142Z"
   },
   {
    "duration": 125,
    "start_time": "2022-05-06T10:12:39.909Z"
   },
   {
    "duration": 84,
    "start_time": "2022-05-06T10:13:06.614Z"
   },
   {
    "duration": 9,
    "start_time": "2022-05-06T10:34:27.237Z"
   },
   {
    "duration": 50,
    "start_time": "2022-05-06T10:48:02.686Z"
   },
   {
    "duration": 88,
    "start_time": "2022-05-06T10:48:16.451Z"
   },
   {
    "duration": 16,
    "start_time": "2022-05-06T10:49:04.874Z"
   },
   {
    "duration": 6,
    "start_time": "2022-05-06T11:38:04.856Z"
   },
   {
    "duration": 5,
    "start_time": "2022-05-06T11:38:42.868Z"
   },
   {
    "duration": 18,
    "start_time": "2022-05-06T11:49:00.230Z"
   },
   {
    "duration": 17,
    "start_time": "2022-05-06T11:55:23.597Z"
   },
   {
    "duration": 388,
    "start_time": "2022-05-06T12:09:56.999Z"
   },
   {
    "duration": 132,
    "start_time": "2022-05-06T12:53:42.221Z"
   },
   {
    "duration": 16,
    "start_time": "2022-05-06T12:53:50.400Z"
   },
   {
    "duration": 9,
    "start_time": "2022-05-06T13:07:53.114Z"
   },
   {
    "duration": 8,
    "start_time": "2022-05-06T13:14:26.628Z"
   },
   {
    "duration": 10,
    "start_time": "2022-05-06T13:17:21.302Z"
   },
   {
    "duration": 10,
    "start_time": "2022-05-06T13:19:50.811Z"
   },
   {
    "duration": 10,
    "start_time": "2022-05-06T13:19:53.133Z"
   },
   {
    "duration": 237,
    "start_time": "2022-05-06T13:20:14.198Z"
   },
   {
    "duration": 10,
    "start_time": "2022-05-06T13:39:04.962Z"
   },
   {
    "duration": 37,
    "start_time": "2022-05-06T13:40:02.626Z"
   },
   {
    "duration": 48,
    "start_time": "2022-05-06T13:40:25.054Z"
   },
   {
    "duration": 91,
    "start_time": "2022-05-06T13:50:29.617Z"
   },
   {
    "duration": 9,
    "start_time": "2022-05-06T13:50:29.712Z"
   },
   {
    "duration": 22,
    "start_time": "2022-05-06T13:50:29.723Z"
   },
   {
    "duration": 47,
    "start_time": "2022-05-06T13:50:29.748Z"
   },
   {
    "duration": 55,
    "start_time": "2022-05-06T13:50:29.798Z"
   },
   {
    "duration": 56,
    "start_time": "2022-05-06T13:50:29.857Z"
   },
   {
    "duration": 68,
    "start_time": "2022-05-06T13:50:29.915Z"
   },
   {
    "duration": 9,
    "start_time": "2022-05-06T13:50:29.985Z"
   },
   {
    "duration": 27,
    "start_time": "2022-05-06T13:50:29.997Z"
   },
   {
    "duration": 10,
    "start_time": "2022-05-06T13:50:30.027Z"
   },
   {
    "duration": 290,
    "start_time": "2022-05-06T13:50:30.041Z"
   },
   {
    "duration": 10,
    "start_time": "2022-05-06T13:50:30.333Z"
   },
   {
    "duration": 265,
    "start_time": "2022-05-06T13:50:30.345Z"
   },
   {
    "duration": 158,
    "start_time": "2022-05-06T13:50:30.613Z"
   },
   {
    "duration": 0,
    "start_time": "2022-05-06T13:50:30.774Z"
   },
   {
    "duration": 2224,
    "start_time": "2022-05-06T14:07:43.645Z"
   },
   {
    "duration": 1931,
    "start_time": "2022-05-06T14:08:15.219Z"
   },
   {
    "duration": 48,
    "start_time": "2022-05-07T12:56:39.970Z"
   },
   {
    "duration": 448,
    "start_time": "2022-05-07T12:56:50.392Z"
   },
   {
    "duration": 62,
    "start_time": "2022-05-07T12:57:35.833Z"
   },
   {
    "duration": 7,
    "start_time": "2022-05-07T12:57:39.960Z"
   },
   {
    "duration": 14,
    "start_time": "2022-05-07T12:57:43.206Z"
   },
   {
    "duration": 16,
    "start_time": "2022-05-07T12:57:46.600Z"
   },
   {
    "duration": 33,
    "start_time": "2022-05-07T12:57:49.528Z"
   },
   {
    "duration": 17,
    "start_time": "2022-05-07T12:57:52.482Z"
   },
   {
    "duration": 26,
    "start_time": "2022-05-07T12:57:59.654Z"
   },
   {
    "duration": 7,
    "start_time": "2022-05-07T12:58:03.892Z"
   },
   {
    "duration": 20,
    "start_time": "2022-05-07T12:58:06.734Z"
   },
   {
    "duration": 6,
    "start_time": "2022-05-07T12:58:10.125Z"
   },
   {
    "duration": 129,
    "start_time": "2022-05-07T12:58:13.196Z"
   },
   {
    "duration": 6,
    "start_time": "2022-05-07T12:58:16.522Z"
   },
   {
    "duration": 131,
    "start_time": "2022-05-07T12:58:19.199Z"
   },
   {
    "duration": 28,
    "start_time": "2022-05-07T12:58:25.335Z"
   },
   {
    "duration": 18,
    "start_time": "2022-05-07T12:58:39.629Z"
   },
   {
    "duration": 14,
    "start_time": "2022-05-07T13:18:48.529Z"
   },
   {
    "duration": 9,
    "start_time": "2022-05-07T13:36:37.199Z"
   },
   {
    "duration": 13,
    "start_time": "2022-05-07T13:36:44.853Z"
   },
   {
    "duration": 19,
    "start_time": "2022-05-07T13:37:00.257Z"
   },
   {
    "duration": 119,
    "start_time": "2022-05-11T14:41:38.187Z"
   },
   {
    "duration": 94,
    "start_time": "2022-05-11T14:42:06.962Z"
   },
   {
    "duration": 95,
    "start_time": "2022-05-11T14:43:58.111Z"
   },
   {
    "duration": 476,
    "start_time": "2022-05-11T16:53:15.238Z"
   },
   {
    "duration": 6,
    "start_time": "2022-05-11T16:53:15.717Z"
   },
   {
    "duration": 20,
    "start_time": "2022-05-11T16:53:15.726Z"
   },
   {
    "duration": 15,
    "start_time": "2022-05-11T16:53:15.748Z"
   },
   {
    "duration": 58,
    "start_time": "2022-05-11T16:53:15.765Z"
   },
   {
    "duration": 20,
    "start_time": "2022-05-11T16:53:15.825Z"
   },
   {
    "duration": 63,
    "start_time": "2022-05-11T16:53:15.847Z"
   },
   {
    "duration": 7,
    "start_time": "2022-05-11T16:53:15.912Z"
   },
   {
    "duration": 25,
    "start_time": "2022-05-11T16:53:15.920Z"
   },
   {
    "duration": 7,
    "start_time": "2022-05-11T16:53:15.947Z"
   },
   {
    "duration": 171,
    "start_time": "2022-05-11T16:53:15.988Z"
   },
   {
    "duration": 6,
    "start_time": "2022-05-11T16:53:16.161Z"
   },
   {
    "duration": 165,
    "start_time": "2022-05-11T16:53:16.168Z"
   },
   {
    "duration": 89,
    "start_time": "2022-05-11T16:53:16.335Z"
   },
   {
    "duration": 0,
    "start_time": "2022-05-11T16:53:16.426Z"
   },
   {
    "duration": 0,
    "start_time": "2022-05-11T16:53:16.427Z"
   },
   {
    "duration": 0,
    "start_time": "2022-05-11T16:53:16.428Z"
   },
   {
    "duration": 50,
    "start_time": "2022-05-13T09:56:12.526Z"
   },
   {
    "duration": 428,
    "start_time": "2022-05-13T09:56:27.020Z"
   },
   {
    "duration": 6,
    "start_time": "2022-05-13T09:56:27.450Z"
   },
   {
    "duration": 18,
    "start_time": "2022-05-13T09:56:27.457Z"
   },
   {
    "duration": 14,
    "start_time": "2022-05-13T09:56:27.477Z"
   },
   {
    "duration": 32,
    "start_time": "2022-05-13T09:56:27.493Z"
   },
   {
    "duration": 16,
    "start_time": "2022-05-13T09:56:27.527Z"
   },
   {
    "duration": 27,
    "start_time": "2022-05-13T09:56:27.567Z"
   },
   {
    "duration": 6,
    "start_time": "2022-05-13T09:56:27.596Z"
   },
   {
    "duration": 20,
    "start_time": "2022-05-13T09:56:27.603Z"
   },
   {
    "duration": 7,
    "start_time": "2022-05-13T09:56:27.625Z"
   },
   {
    "duration": 177,
    "start_time": "2022-05-13T09:56:27.634Z"
   },
   {
    "duration": 6,
    "start_time": "2022-05-13T09:56:27.812Z"
   },
   {
    "duration": 156,
    "start_time": "2022-05-13T09:56:27.820Z"
   },
   {
    "duration": 22,
    "start_time": "2022-05-13T09:56:27.978Z"
   },
   {
    "duration": 116,
    "start_time": "2022-05-13T09:56:28.002Z"
   },
   {
    "duration": 0,
    "start_time": "2022-05-13T09:56:28.120Z"
   },
   {
    "duration": 0,
    "start_time": "2022-05-13T09:56:28.121Z"
   },
   {
    "duration": 39,
    "start_time": "2022-05-13T09:58:51.474Z"
   },
   {
    "duration": 29,
    "start_time": "2022-05-13T09:59:26.368Z"
   },
   {
    "duration": 113,
    "start_time": "2022-05-13T09:59:46.643Z"
   },
   {
    "duration": 21,
    "start_time": "2022-05-13T09:59:56.935Z"
   },
   {
    "duration": 31,
    "start_time": "2022-05-13T10:00:05.970Z"
   },
   {
    "duration": 20,
    "start_time": "2022-05-13T10:00:15.951Z"
   },
   {
    "duration": 22,
    "start_time": "2022-05-13T10:00:35.770Z"
   },
   {
    "duration": 23,
    "start_time": "2022-05-13T10:18:40.801Z"
   },
   {
    "duration": 27,
    "start_time": "2022-05-13T10:18:58.150Z"
   },
   {
    "duration": 21,
    "start_time": "2022-05-13T10:23:33.023Z"
   },
   {
    "duration": 22,
    "start_time": "2022-05-13T10:25:53.707Z"
   },
   {
    "duration": 31,
    "start_time": "2022-05-13T10:39:09.660Z"
   },
   {
    "duration": 17,
    "start_time": "2022-05-13T10:39:30.431Z"
   },
   {
    "duration": 28,
    "start_time": "2022-05-13T10:40:24.321Z"
   },
   {
    "duration": 91,
    "start_time": "2022-05-13T12:13:41.389Z"
   },
   {
    "duration": 6,
    "start_time": "2022-05-13T12:13:47.481Z"
   },
   {
    "duration": 17,
    "start_time": "2022-05-13T12:13:47.489Z"
   },
   {
    "duration": 17,
    "start_time": "2022-05-13T12:13:47.508Z"
   },
   {
    "duration": 56,
    "start_time": "2022-05-13T12:13:47.527Z"
   },
   {
    "duration": 17,
    "start_time": "2022-05-13T12:13:47.585Z"
   },
   {
    "duration": 63,
    "start_time": "2022-05-13T12:13:47.604Z"
   },
   {
    "duration": 15,
    "start_time": "2022-05-13T12:13:47.670Z"
   },
   {
    "duration": 22,
    "start_time": "2022-05-13T12:13:47.687Z"
   },
   {
    "duration": 9,
    "start_time": "2022-05-13T12:13:47.711Z"
   },
   {
    "duration": 272,
    "start_time": "2022-05-13T12:13:47.722Z"
   },
   {
    "duration": 9,
    "start_time": "2022-05-13T12:13:47.996Z"
   },
   {
    "duration": 166,
    "start_time": "2022-05-13T12:13:48.006Z"
   },
   {
    "duration": 23,
    "start_time": "2022-05-13T12:13:48.174Z"
   },
   {
    "duration": 24,
    "start_time": "2022-05-13T12:13:48.200Z"
   },
   {
    "duration": 53,
    "start_time": "2022-05-13T12:13:48.226Z"
   },
   {
    "duration": 21,
    "start_time": "2022-05-13T12:13:48.281Z"
   },
   {
    "duration": 21,
    "start_time": "2022-05-13T12:19:43.725Z"
   },
   {
    "duration": 21,
    "start_time": "2022-05-13T12:22:10.688Z"
   },
   {
    "duration": 24,
    "start_time": "2022-05-13T12:22:16.828Z"
   },
   {
    "duration": 31,
    "start_time": "2022-05-13T12:22:35.776Z"
   },
   {
    "duration": 22,
    "start_time": "2022-05-13T12:23:18.777Z"
   },
   {
    "duration": 0,
    "start_time": "2022-05-13T18:57:08.064Z"
   },
   {
    "duration": 0,
    "start_time": "2022-05-13T18:57:08.065Z"
   },
   {
    "duration": 0,
    "start_time": "2022-05-13T18:57:08.066Z"
   },
   {
    "duration": 0,
    "start_time": "2022-05-13T18:57:08.067Z"
   },
   {
    "duration": 0,
    "start_time": "2022-05-13T18:57:08.068Z"
   },
   {
    "duration": 0,
    "start_time": "2022-05-13T18:57:08.069Z"
   },
   {
    "duration": 0,
    "start_time": "2022-05-13T18:57:08.070Z"
   },
   {
    "duration": 0,
    "start_time": "2022-05-13T18:57:08.071Z"
   },
   {
    "duration": 0,
    "start_time": "2022-05-13T18:57:08.072Z"
   },
   {
    "duration": 0,
    "start_time": "2022-05-13T18:57:08.073Z"
   },
   {
    "duration": 0,
    "start_time": "2022-05-13T18:57:08.074Z"
   },
   {
    "duration": 0,
    "start_time": "2022-05-13T18:57:08.075Z"
   },
   {
    "duration": 0,
    "start_time": "2022-05-13T18:57:08.076Z"
   },
   {
    "duration": 0,
    "start_time": "2022-05-13T18:57:08.077Z"
   },
   {
    "duration": 0,
    "start_time": "2022-05-13T18:57:08.078Z"
   },
   {
    "duration": 0,
    "start_time": "2022-05-13T18:57:08.079Z"
   },
   {
    "duration": 0,
    "start_time": "2022-05-13T18:57:08.080Z"
   },
   {
    "duration": 0,
    "start_time": "2022-05-13T18:57:08.081Z"
   },
   {
    "duration": 0,
    "start_time": "2022-05-13T18:57:08.082Z"
   },
   {
    "duration": 67,
    "start_time": "2022-05-13T18:57:17.487Z"
   },
   {
    "duration": 502,
    "start_time": "2022-05-13T18:57:32.743Z"
   },
   {
    "duration": 7,
    "start_time": "2022-05-13T18:57:34.428Z"
   },
   {
    "duration": 17,
    "start_time": "2022-05-13T18:57:34.763Z"
   },
   {
    "duration": 18,
    "start_time": "2022-05-13T18:57:35.240Z"
   },
   {
    "duration": 38,
    "start_time": "2022-05-13T18:57:35.581Z"
   },
   {
    "duration": 20,
    "start_time": "2022-05-13T18:57:35.925Z"
   },
   {
    "duration": 29,
    "start_time": "2022-05-13T18:57:36.100Z"
   },
   {
    "duration": 12,
    "start_time": "2022-05-13T18:57:36.626Z"
   },
   {
    "duration": 24,
    "start_time": "2022-05-13T18:57:36.797Z"
   },
   {
    "duration": 9,
    "start_time": "2022-05-13T18:57:37.140Z"
   },
   {
    "duration": 151,
    "start_time": "2022-05-13T18:57:37.502Z"
   },
   {
    "duration": 6,
    "start_time": "2022-05-13T18:57:37.862Z"
   },
   {
    "duration": 142,
    "start_time": "2022-05-13T18:57:38.203Z"
   },
   {
    "duration": 27,
    "start_time": "2022-05-13T18:57:38.602Z"
   },
   {
    "duration": 26,
    "start_time": "2022-05-13T18:57:39.273Z"
   },
   {
    "duration": 21,
    "start_time": "2022-05-13T18:57:40.069Z"
   },
   {
    "duration": 146,
    "start_time": "2022-05-13T18:57:40.230Z"
   },
   {
    "duration": 22,
    "start_time": "2022-05-13T18:57:40.846Z"
   },
   {
    "duration": 147,
    "start_time": "2022-05-13T18:57:42.465Z"
   },
   {
    "duration": 11,
    "start_time": "2022-05-13T19:00:12.710Z"
   },
   {
    "duration": 6,
    "start_time": "2022-05-13T19:01:06.433Z"
   },
   {
    "duration": 140,
    "start_time": "2022-05-14T11:09:10.495Z"
   },
   {
    "duration": 394,
    "start_time": "2022-05-14T11:10:07.839Z"
   },
   {
    "duration": 84,
    "start_time": "2022-05-14T11:10:10.633Z"
   },
   {
    "duration": 7,
    "start_time": "2022-05-14T11:24:06.805Z"
   },
   {
    "duration": 18,
    "start_time": "2022-05-14T11:25:03.495Z"
   },
   {
    "duration": 4,
    "start_time": "2022-05-14T11:37:48.107Z"
   },
   {
    "duration": 18,
    "start_time": "2022-05-14T11:38:52.680Z"
   },
   {
    "duration": 9,
    "start_time": "2022-05-14T11:40:02.610Z"
   },
   {
    "duration": 15,
    "start_time": "2022-05-14T11:40:16.555Z"
   },
   {
    "duration": 5,
    "start_time": "2022-05-14T11:41:35.823Z"
   },
   {
    "duration": 16,
    "start_time": "2022-05-14T11:44:20.594Z"
   },
   {
    "duration": 19,
    "start_time": "2022-05-14T11:46:55.991Z"
   },
   {
    "duration": 3,
    "start_time": "2022-05-14T11:47:29.447Z"
   },
   {
    "duration": 73,
    "start_time": "2022-05-14T11:47:29.455Z"
   },
   {
    "duration": 10,
    "start_time": "2022-05-14T11:47:29.530Z"
   },
   {
    "duration": 26,
    "start_time": "2022-05-14T11:47:29.541Z"
   },
   {
    "duration": 21,
    "start_time": "2022-05-14T11:47:29.569Z"
   },
   {
    "duration": 5,
    "start_time": "2022-05-14T11:47:29.592Z"
   },
   {
    "duration": 18,
    "start_time": "2022-05-14T11:47:29.598Z"
   },
   {
    "duration": 77,
    "start_time": "2022-05-14T11:47:29.617Z"
   },
   {
    "duration": 16,
    "start_time": "2022-05-14T11:47:29.696Z"
   },
   {
    "duration": 30,
    "start_time": "2022-05-14T11:47:29.713Z"
   },
   {
    "duration": 13,
    "start_time": "2022-05-14T11:47:29.768Z"
   },
   {
    "duration": 21,
    "start_time": "2022-05-14T11:47:29.783Z"
   },
   {
    "duration": 6,
    "start_time": "2022-05-14T11:47:29.806Z"
   },
   {
    "duration": 180,
    "start_time": "2022-05-14T11:47:29.814Z"
   },
   {
    "duration": 7,
    "start_time": "2022-05-14T11:47:29.996Z"
   },
   {
    "duration": 179,
    "start_time": "2022-05-14T11:47:30.005Z"
   },
   {
    "duration": 26,
    "start_time": "2022-05-14T11:47:30.186Z"
   },
   {
    "duration": 25,
    "start_time": "2022-05-14T11:47:30.214Z"
   },
   {
    "duration": 50,
    "start_time": "2022-05-14T11:47:30.241Z"
   },
   {
    "duration": 20,
    "start_time": "2022-05-14T11:47:30.294Z"
   },
   {
    "duration": 149,
    "start_time": "2022-05-14T11:48:25.683Z"
   },
   {
    "duration": 6,
    "start_time": "2022-05-14T11:49:44.007Z"
   },
   {
    "duration": 167,
    "start_time": "2022-05-14T11:53:33.366Z"
   },
   {
    "duration": 11,
    "start_time": "2022-05-14T12:00:42.393Z"
   },
   {
    "duration": 2,
    "start_time": "2022-05-14T12:02:22.596Z"
   },
   {
    "duration": 84,
    "start_time": "2022-05-14T12:02:22.603Z"
   },
   {
    "duration": 9,
    "start_time": "2022-05-14T12:02:22.692Z"
   },
   {
    "duration": 17,
    "start_time": "2022-05-14T12:02:22.702Z"
   },
   {
    "duration": 33,
    "start_time": "2022-05-14T12:02:22.722Z"
   },
   {
    "duration": 12,
    "start_time": "2022-05-14T12:02:22.774Z"
   },
   {
    "duration": 44,
    "start_time": "2022-05-14T12:02:22.789Z"
   },
   {
    "duration": 141,
    "start_time": "2022-05-14T12:02:22.835Z"
   },
   {
    "duration": 24,
    "start_time": "2022-05-14T12:02:22.978Z"
   },
   {
    "duration": 31,
    "start_time": "2022-05-14T12:02:23.004Z"
   },
   {
    "duration": 30,
    "start_time": "2022-05-14T12:02:23.037Z"
   },
   {
    "duration": 22,
    "start_time": "2022-05-14T12:02:23.069Z"
   },
   {
    "duration": 7,
    "start_time": "2022-05-14T12:02:23.093Z"
   },
   {
    "duration": 185,
    "start_time": "2022-05-14T12:02:23.101Z"
   },
   {
    "duration": 9,
    "start_time": "2022-05-14T12:02:23.288Z"
   },
   {
    "duration": 164,
    "start_time": "2022-05-14T12:02:23.299Z"
   },
   {
    "duration": 26,
    "start_time": "2022-05-14T12:02:23.471Z"
   },
   {
    "duration": 37,
    "start_time": "2022-05-14T12:02:23.499Z"
   },
   {
    "duration": 45,
    "start_time": "2022-05-14T12:02:23.537Z"
   },
   {
    "duration": 23,
    "start_time": "2022-05-14T12:02:23.584Z"
   },
   {
    "duration": 26,
    "start_time": "2022-05-14T12:05:08.457Z"
   },
   {
    "duration": 2,
    "start_time": "2022-05-14T12:05:19.986Z"
   },
   {
    "duration": 91,
    "start_time": "2022-05-14T12:05:19.992Z"
   },
   {
    "duration": 10,
    "start_time": "2022-05-14T12:05:20.085Z"
   },
   {
    "duration": 11,
    "start_time": "2022-05-14T12:05:20.098Z"
   },
   {
    "duration": 15,
    "start_time": "2022-05-14T12:05:20.112Z"
   },
   {
    "duration": 8,
    "start_time": "2022-05-14T12:05:20.128Z"
   },
   {
    "duration": 50,
    "start_time": "2022-05-14T12:05:20.137Z"
   },
   {
    "duration": 34,
    "start_time": "2022-05-14T12:05:20.188Z"
   },
   {
    "duration": 16,
    "start_time": "2022-05-14T12:05:20.224Z"
   },
   {
    "duration": 59,
    "start_time": "2022-05-14T12:05:20.241Z"
   },
   {
    "duration": 10,
    "start_time": "2022-05-14T12:05:20.303Z"
   },
   {
    "duration": 26,
    "start_time": "2022-05-14T12:05:20.315Z"
   },
   {
    "duration": 6,
    "start_time": "2022-05-14T12:05:20.343Z"
   },
   {
    "duration": 167,
    "start_time": "2022-05-14T12:05:20.351Z"
   },
   {
    "duration": 6,
    "start_time": "2022-05-14T12:05:20.520Z"
   },
   {
    "duration": 180,
    "start_time": "2022-05-14T12:05:20.528Z"
   },
   {
    "duration": 22,
    "start_time": "2022-05-14T12:05:20.710Z"
   },
   {
    "duration": 37,
    "start_time": "2022-05-14T12:05:20.734Z"
   },
   {
    "duration": 25,
    "start_time": "2022-05-14T12:05:20.772Z"
   },
   {
    "duration": 23,
    "start_time": "2022-05-14T12:05:20.799Z"
   },
   {
    "duration": 136,
    "start_time": "2022-05-14T12:36:40.474Z"
   },
   {
    "duration": 22,
    "start_time": "2022-05-14T12:38:32.213Z"
   },
   {
    "duration": 8,
    "start_time": "2022-05-14T12:39:15.576Z"
   },
   {
    "duration": 20,
    "start_time": "2022-05-14T12:39:34.451Z"
   },
   {
    "duration": 432,
    "start_time": "2022-05-14T12:40:04.019Z"
   },
   {
    "duration": 75,
    "start_time": "2022-05-14T12:40:04.453Z"
   },
   {
    "duration": 15,
    "start_time": "2022-05-14T12:40:04.530Z"
   },
   {
    "duration": 26,
    "start_time": "2022-05-14T12:40:04.547Z"
   },
   {
    "duration": 15,
    "start_time": "2022-05-14T12:40:04.575Z"
   },
   {
    "duration": 8,
    "start_time": "2022-05-14T12:40:04.592Z"
   },
   {
    "duration": 16,
    "start_time": "2022-05-14T12:40:04.602Z"
   },
   {
    "duration": 62,
    "start_time": "2022-05-14T12:40:04.620Z"
   },
   {
    "duration": 17,
    "start_time": "2022-05-14T12:40:04.683Z"
   },
   {
    "duration": 32,
    "start_time": "2022-05-14T12:40:04.702Z"
   },
   {
    "duration": 11,
    "start_time": "2022-05-14T12:40:04.736Z"
   },
   {
    "duration": 20,
    "start_time": "2022-05-14T12:40:04.766Z"
   },
   {
    "duration": 10,
    "start_time": "2022-05-14T12:40:04.787Z"
   },
   {
    "duration": 159,
    "start_time": "2022-05-14T12:40:04.800Z"
   },
   {
    "duration": 10,
    "start_time": "2022-05-14T12:40:04.960Z"
   },
   {
    "duration": 154,
    "start_time": "2022-05-14T12:40:04.972Z"
   },
   {
    "duration": 27,
    "start_time": "2022-05-14T12:40:05.127Z"
   },
   {
    "duration": 24,
    "start_time": "2022-05-14T12:40:05.166Z"
   },
   {
    "duration": 21,
    "start_time": "2022-05-14T12:40:05.191Z"
   },
   {
    "duration": 21,
    "start_time": "2022-05-14T12:40:05.214Z"
   },
   {
    "duration": 162,
    "start_time": "2022-05-14T12:48:08.908Z"
   },
   {
    "duration": 150,
    "start_time": "2022-05-14T12:48:38.274Z"
   },
   {
    "duration": 21,
    "start_time": "2022-05-14T13:04:43.762Z"
   },
   {
    "duration": 6,
    "start_time": "2022-05-14T13:06:01.402Z"
   },
   {
    "duration": 6,
    "start_time": "2022-05-14T13:06:37.496Z"
   },
   {
    "duration": 128,
    "start_time": "2022-05-14T13:09:31.001Z"
   },
   {
    "duration": 8,
    "start_time": "2022-05-14T13:10:19.862Z"
   },
   {
    "duration": 2,
    "start_time": "2022-05-14T13:11:25.258Z"
   },
   {
    "duration": 104,
    "start_time": "2022-05-14T13:11:25.268Z"
   },
   {
    "duration": 13,
    "start_time": "2022-05-14T13:11:25.375Z"
   },
   {
    "duration": 12,
    "start_time": "2022-05-14T13:11:25.391Z"
   },
   {
    "duration": 24,
    "start_time": "2022-05-14T13:11:25.406Z"
   },
   {
    "duration": 8,
    "start_time": "2022-05-14T13:11:25.468Z"
   },
   {
    "duration": 25,
    "start_time": "2022-05-14T13:11:25.478Z"
   },
   {
    "duration": 63,
    "start_time": "2022-05-14T13:11:25.505Z"
   },
   {
    "duration": 25,
    "start_time": "2022-05-14T13:11:25.570Z"
   },
   {
    "duration": 39,
    "start_time": "2022-05-14T13:11:25.597Z"
   },
   {
    "duration": 14,
    "start_time": "2022-05-14T13:11:25.668Z"
   },
   {
    "duration": 20,
    "start_time": "2022-05-14T13:11:25.684Z"
   },
   {
    "duration": 11,
    "start_time": "2022-05-14T13:11:25.707Z"
   },
   {
    "duration": 262,
    "start_time": "2022-05-14T13:11:25.720Z"
   },
   {
    "duration": 6,
    "start_time": "2022-05-14T13:11:25.984Z"
   },
   {
    "duration": 176,
    "start_time": "2022-05-14T13:11:25.992Z"
   },
   {
    "duration": 22,
    "start_time": "2022-05-14T13:11:26.170Z"
   },
   {
    "duration": 26,
    "start_time": "2022-05-14T13:11:26.193Z"
   },
   {
    "duration": 53,
    "start_time": "2022-05-14T13:11:26.221Z"
   },
   {
    "duration": 22,
    "start_time": "2022-05-14T13:11:26.276Z"
   },
   {
    "duration": 20,
    "start_time": "2022-05-14T13:25:25.460Z"
   },
   {
    "duration": 21,
    "start_time": "2022-05-14T13:52:28.805Z"
   },
   {
    "duration": 379,
    "start_time": "2022-05-15T13:28:10.917Z"
   },
   {
    "duration": 65,
    "start_time": "2022-05-15T13:28:11.298Z"
   },
   {
    "duration": 13,
    "start_time": "2022-05-15T13:28:11.364Z"
   },
   {
    "duration": 17,
    "start_time": "2022-05-15T13:28:11.378Z"
   },
   {
    "duration": 17,
    "start_time": "2022-05-15T13:28:11.397Z"
   },
   {
    "duration": 5,
    "start_time": "2022-05-15T13:28:11.416Z"
   },
   {
    "duration": 20,
    "start_time": "2022-05-15T13:28:11.422Z"
   },
   {
    "duration": 51,
    "start_time": "2022-05-15T13:28:11.444Z"
   },
   {
    "duration": 14,
    "start_time": "2022-05-15T13:28:11.497Z"
   },
   {
    "duration": 28,
    "start_time": "2022-05-15T13:28:11.513Z"
   },
   {
    "duration": 9,
    "start_time": "2022-05-15T13:28:11.542Z"
   },
   {
    "duration": 37,
    "start_time": "2022-05-15T13:28:11.553Z"
   },
   {
    "duration": 6,
    "start_time": "2022-05-15T13:28:11.592Z"
   },
   {
    "duration": 153,
    "start_time": "2022-05-15T13:28:11.600Z"
   },
   {
    "duration": 6,
    "start_time": "2022-05-15T13:28:11.754Z"
   },
   {
    "duration": 144,
    "start_time": "2022-05-15T13:28:11.761Z"
   },
   {
    "duration": 22,
    "start_time": "2022-05-15T13:28:11.906Z"
   },
   {
    "duration": 20,
    "start_time": "2022-05-15T13:28:11.930Z"
   },
   {
    "duration": 39,
    "start_time": "2022-05-15T13:28:11.952Z"
   },
   {
    "duration": 19,
    "start_time": "2022-05-15T13:28:11.993Z"
   },
   {
    "duration": 16,
    "start_time": "2022-05-15T13:28:58.266Z"
   },
   {
    "duration": 6,
    "start_time": "2022-05-15T13:29:43.955Z"
   },
   {
    "duration": 7,
    "start_time": "2022-05-15T13:30:32.439Z"
   },
   {
    "duration": 416,
    "start_time": "2022-05-15T13:31:13.779Z"
   },
   {
    "duration": 70,
    "start_time": "2022-05-15T13:31:14.197Z"
   },
   {
    "duration": 23,
    "start_time": "2022-05-15T13:31:14.269Z"
   },
   {
    "duration": 9,
    "start_time": "2022-05-15T13:31:14.294Z"
   },
   {
    "duration": 14,
    "start_time": "2022-05-15T13:31:14.306Z"
   },
   {
    "duration": 6,
    "start_time": "2022-05-15T13:31:14.321Z"
   },
   {
    "duration": 19,
    "start_time": "2022-05-15T13:31:14.329Z"
   },
   {
    "duration": 74,
    "start_time": "2022-05-15T13:31:14.350Z"
   },
   {
    "duration": 16,
    "start_time": "2022-05-15T13:31:14.426Z"
   },
   {
    "duration": 28,
    "start_time": "2022-05-15T13:31:14.444Z"
   },
   {
    "duration": 22,
    "start_time": "2022-05-15T13:31:14.474Z"
   },
   {
    "duration": 20,
    "start_time": "2022-05-15T13:31:14.498Z"
   },
   {
    "duration": 6,
    "start_time": "2022-05-15T13:31:14.519Z"
   },
   {
    "duration": 161,
    "start_time": "2022-05-15T13:31:14.528Z"
   },
   {
    "duration": 7,
    "start_time": "2022-05-15T13:31:14.690Z"
   },
   {
    "duration": 14,
    "start_time": "2022-05-15T13:31:14.699Z"
   },
   {
    "duration": 147,
    "start_time": "2022-05-15T13:31:14.714Z"
   },
   {
    "duration": 28,
    "start_time": "2022-05-15T13:31:14.863Z"
   },
   {
    "duration": 23,
    "start_time": "2022-05-15T13:31:14.893Z"
   },
   {
    "duration": 20,
    "start_time": "2022-05-15T13:31:14.917Z"
   },
   {
    "duration": 20,
    "start_time": "2022-05-15T13:31:14.938Z"
   },
   {
    "duration": 15,
    "start_time": "2022-05-15T13:31:26.225Z"
   },
   {
    "duration": 75,
    "start_time": "2022-05-15T14:50:19.067Z"
   },
   {
    "duration": 512,
    "start_time": "2022-05-15T14:50:30.284Z"
   },
   {
    "duration": 231,
    "start_time": "2022-05-15T14:50:30.799Z"
   },
   {
    "duration": 21,
    "start_time": "2022-05-15T14:50:31.033Z"
   },
   {
    "duration": 15,
    "start_time": "2022-05-15T14:50:31.057Z"
   },
   {
    "duration": 31,
    "start_time": "2022-05-15T14:50:31.074Z"
   },
   {
    "duration": 22,
    "start_time": "2022-05-15T14:50:31.107Z"
   },
   {
    "duration": 46,
    "start_time": "2022-05-15T14:50:31.132Z"
   },
   {
    "duration": 51,
    "start_time": "2022-05-15T14:50:31.181Z"
   },
   {
    "duration": 37,
    "start_time": "2022-05-15T14:50:31.234Z"
   },
   {
    "duration": 47,
    "start_time": "2022-05-15T14:50:31.277Z"
   },
   {
    "duration": 36,
    "start_time": "2022-05-15T14:50:31.327Z"
   },
   {
    "duration": 38,
    "start_time": "2022-05-15T14:50:31.366Z"
   },
   {
    "duration": 10,
    "start_time": "2022-05-15T14:50:31.407Z"
   },
   {
    "duration": 276,
    "start_time": "2022-05-15T14:50:31.420Z"
   },
   {
    "duration": 10,
    "start_time": "2022-05-15T14:50:31.698Z"
   },
   {
    "duration": 23,
    "start_time": "2022-05-15T14:50:31.710Z"
   },
   {
    "duration": 273,
    "start_time": "2022-05-15T14:50:31.735Z"
   },
   {
    "duration": 54,
    "start_time": "2022-05-15T14:50:32.011Z"
   },
   {
    "duration": 35,
    "start_time": "2022-05-15T14:50:32.067Z"
   },
   {
    "duration": 48,
    "start_time": "2022-05-15T14:50:32.104Z"
   },
   {
    "duration": 31,
    "start_time": "2022-05-15T14:50:32.154Z"
   },
   {
    "duration": 4,
    "start_time": "2022-05-15T15:02:53.306Z"
   },
   {
    "duration": 85,
    "start_time": "2022-05-15T15:02:53.315Z"
   },
   {
    "duration": 9,
    "start_time": "2022-05-15T15:02:53.402Z"
   },
   {
    "duration": 42,
    "start_time": "2022-05-15T15:02:53.413Z"
   },
   {
    "duration": 21,
    "start_time": "2022-05-15T15:02:53.458Z"
   },
   {
    "duration": 9,
    "start_time": "2022-05-15T15:02:53.480Z"
   },
   {
    "duration": 61,
    "start_time": "2022-05-15T15:02:53.491Z"
   },
   {
    "duration": 49,
    "start_time": "2022-05-15T15:02:53.554Z"
   },
   {
    "duration": 47,
    "start_time": "2022-05-15T15:02:53.605Z"
   },
   {
    "duration": 38,
    "start_time": "2022-05-15T15:02:53.655Z"
   },
   {
    "duration": 14,
    "start_time": "2022-05-15T15:02:53.696Z"
   },
   {
    "duration": 47,
    "start_time": "2022-05-15T15:02:53.712Z"
   },
   {
    "duration": 10,
    "start_time": "2022-05-15T15:02:53.761Z"
   },
   {
    "duration": 257,
    "start_time": "2022-05-15T15:02:53.773Z"
   },
   {
    "duration": 9,
    "start_time": "2022-05-15T15:02:54.032Z"
   },
   {
    "duration": 13,
    "start_time": "2022-05-15T15:02:54.043Z"
   },
   {
    "duration": 252,
    "start_time": "2022-05-15T15:02:54.058Z"
   },
   {
    "duration": 44,
    "start_time": "2022-05-15T15:02:54.313Z"
   },
   {
    "duration": 34,
    "start_time": "2022-05-15T15:02:54.359Z"
   },
   {
    "duration": 30,
    "start_time": "2022-05-15T15:02:54.395Z"
   },
   {
    "duration": 30,
    "start_time": "2022-05-15T15:02:54.452Z"
   },
   {
    "duration": 488,
    "start_time": "2022-05-15T15:09:18.863Z"
   },
   {
    "duration": 86,
    "start_time": "2022-05-15T15:09:19.354Z"
   },
   {
    "duration": 23,
    "start_time": "2022-05-15T15:09:19.442Z"
   },
   {
    "duration": 15,
    "start_time": "2022-05-15T15:09:19.467Z"
   },
   {
    "duration": 19,
    "start_time": "2022-05-15T15:09:19.485Z"
   },
   {
    "duration": 7,
    "start_time": "2022-05-15T15:09:19.506Z"
   },
   {
    "duration": 58,
    "start_time": "2022-05-15T15:09:19.515Z"
   },
   {
    "duration": 51,
    "start_time": "2022-05-15T15:09:19.575Z"
   },
   {
    "duration": 43,
    "start_time": "2022-05-15T15:09:19.628Z"
   },
   {
    "duration": 54,
    "start_time": "2022-05-15T15:09:19.673Z"
   },
   {
    "duration": 23,
    "start_time": "2022-05-15T15:09:19.729Z"
   },
   {
    "duration": 29,
    "start_time": "2022-05-15T15:09:19.754Z"
   },
   {
    "duration": 10,
    "start_time": "2022-05-15T15:09:19.785Z"
   },
   {
    "duration": 290,
    "start_time": "2022-05-15T15:09:19.801Z"
   },
   {
    "duration": 10,
    "start_time": "2022-05-15T15:09:20.093Z"
   },
   {
    "duration": 11,
    "start_time": "2022-05-15T15:09:20.105Z"
   },
   {
    "duration": 290,
    "start_time": "2022-05-15T15:09:20.119Z"
   },
   {
    "duration": 45,
    "start_time": "2022-05-15T15:09:20.411Z"
   },
   {
    "duration": 34,
    "start_time": "2022-05-15T15:09:20.459Z"
   },
   {
    "duration": 29,
    "start_time": "2022-05-15T15:09:20.495Z"
   },
   {
    "duration": 32,
    "start_time": "2022-05-15T15:09:20.552Z"
   },
   {
    "duration": 510,
    "start_time": "2022-05-15T15:17:34.657Z"
   },
   {
    "duration": 92,
    "start_time": "2022-05-15T15:17:35.170Z"
   },
   {
    "duration": 12,
    "start_time": "2022-05-15T15:17:35.264Z"
   },
   {
    "duration": 13,
    "start_time": "2022-05-15T15:17:35.279Z"
   },
   {
    "duration": 19,
    "start_time": "2022-05-15T15:17:35.296Z"
   },
   {
    "duration": 41,
    "start_time": "2022-05-15T15:17:35.318Z"
   },
   {
    "duration": 22,
    "start_time": "2022-05-15T15:17:35.362Z"
   },
   {
    "duration": 84,
    "start_time": "2022-05-15T15:17:35.387Z"
   },
   {
    "duration": 23,
    "start_time": "2022-05-15T15:17:35.474Z"
   },
   {
    "duration": 68,
    "start_time": "2022-05-15T15:17:35.499Z"
   },
   {
    "duration": 14,
    "start_time": "2022-05-15T15:17:35.569Z"
   },
   {
    "duration": 36,
    "start_time": "2022-05-15T15:17:35.586Z"
   },
   {
    "duration": 10,
    "start_time": "2022-05-15T15:17:35.652Z"
   },
   {
    "duration": 269,
    "start_time": "2022-05-15T15:17:35.665Z"
   },
   {
    "duration": 17,
    "start_time": "2022-05-15T15:17:35.937Z"
   },
   {
    "duration": 9,
    "start_time": "2022-05-15T15:17:35.956Z"
   },
   {
    "duration": 271,
    "start_time": "2022-05-15T15:17:35.967Z"
   },
   {
    "duration": 45,
    "start_time": "2022-05-15T15:17:36.241Z"
   },
   {
    "duration": 35,
    "start_time": "2022-05-15T15:17:36.288Z"
   },
   {
    "duration": 51,
    "start_time": "2022-05-15T15:17:36.325Z"
   },
   {
    "duration": 32,
    "start_time": "2022-05-15T15:17:36.379Z"
   },
   {
    "duration": 784,
    "start_time": "2022-05-15T15:25:31.141Z"
   },
   {
    "duration": 137,
    "start_time": "2022-05-15T15:25:31.929Z"
   },
   {
    "duration": 16,
    "start_time": "2022-05-15T15:25:32.069Z"
   },
   {
    "duration": 18,
    "start_time": "2022-05-15T15:25:32.089Z"
   },
   {
    "duration": 60,
    "start_time": "2022-05-15T15:25:32.110Z"
   },
   {
    "duration": 9,
    "start_time": "2022-05-15T15:25:32.172Z"
   },
   {
    "duration": 24,
    "start_time": "2022-05-15T15:25:32.183Z"
   },
   {
    "duration": 87,
    "start_time": "2022-05-15T15:25:32.210Z"
   },
   {
    "duration": 24,
    "start_time": "2022-05-15T15:25:32.299Z"
   },
   {
    "duration": 64,
    "start_time": "2022-05-15T15:25:32.327Z"
   },
   {
    "duration": 16,
    "start_time": "2022-05-15T15:25:32.393Z"
   },
   {
    "duration": 64,
    "start_time": "2022-05-15T15:25:32.412Z"
   },
   {
    "duration": 9,
    "start_time": "2022-05-15T15:25:32.479Z"
   },
   {
    "duration": 268,
    "start_time": "2022-05-15T15:25:32.490Z"
   },
   {
    "duration": 11,
    "start_time": "2022-05-15T15:25:32.760Z"
   },
   {
    "duration": 9,
    "start_time": "2022-05-15T15:25:32.773Z"
   },
   {
    "duration": 268,
    "start_time": "2022-05-15T15:25:32.785Z"
   },
   {
    "duration": 35,
    "start_time": "2022-05-15T15:25:33.055Z"
   },
   {
    "duration": 33,
    "start_time": "2022-05-15T15:25:33.093Z"
   },
   {
    "duration": 31,
    "start_time": "2022-05-15T15:25:33.153Z"
   },
   {
    "duration": 32,
    "start_time": "2022-05-15T15:25:33.187Z"
   },
   {
    "duration": 403,
    "start_time": "2022-05-16T14:31:06.143Z"
   },
   {
    "duration": 70,
    "start_time": "2022-05-16T14:31:06.549Z"
   },
   {
    "duration": 9,
    "start_time": "2022-05-16T14:31:06.620Z"
   },
   {
    "duration": 17,
    "start_time": "2022-05-16T14:31:06.631Z"
   },
   {
    "duration": 15,
    "start_time": "2022-05-16T14:31:06.650Z"
   },
   {
    "duration": 9,
    "start_time": "2022-05-16T14:31:06.666Z"
   },
   {
    "duration": 17,
    "start_time": "2022-05-16T14:31:06.676Z"
   },
   {
    "duration": 52,
    "start_time": "2022-05-16T14:31:06.695Z"
   },
   {
    "duration": 15,
    "start_time": "2022-05-16T14:31:06.749Z"
   },
   {
    "duration": 28,
    "start_time": "2022-05-16T14:31:06.766Z"
   },
   {
    "duration": 10,
    "start_time": "2022-05-16T14:31:06.796Z"
   },
   {
    "duration": 47,
    "start_time": "2022-05-16T14:31:06.807Z"
   },
   {
    "duration": 6,
    "start_time": "2022-05-16T14:31:06.855Z"
   },
   {
    "duration": 161,
    "start_time": "2022-05-16T14:31:06.863Z"
   },
   {
    "duration": 7,
    "start_time": "2022-05-16T14:31:07.025Z"
   },
   {
    "duration": 8,
    "start_time": "2022-05-16T14:31:07.043Z"
   },
   {
    "duration": 230,
    "start_time": "2022-05-16T14:31:07.053Z"
   },
   {
    "duration": 28,
    "start_time": "2022-05-16T14:31:07.285Z"
   },
   {
    "duration": 48,
    "start_time": "2022-05-16T14:31:07.315Z"
   },
   {
    "duration": 24,
    "start_time": "2022-05-16T14:31:07.364Z"
   },
   {
    "duration": 22,
    "start_time": "2022-05-16T14:31:07.389Z"
   }
  ],
  "celltoolbar": "Edit Metadata",
  "kernelspec": {
   "display_name": "Python 3 (ipykernel)",
   "language": "python",
   "name": "python3"
  },
  "language_info": {
   "codemirror_mode": {
    "name": "ipython",
    "version": 3
   },
   "file_extension": ".py",
   "mimetype": "text/x-python",
   "name": "python",
   "nbconvert_exporter": "python",
   "pygments_lexer": "ipython3",
   "version": "3.9.5"
  },
  "toc": {
   "base_numbering": 1,
   "nav_menu": {},
   "number_sections": true,
   "sideBar": true,
   "skip_h1_title": true,
   "title_cell": "Table of Contents",
   "title_sidebar": "Contents",
   "toc_cell": false,
   "toc_position": {},
   "toc_section_display": true,
   "toc_window_display": false
  }
 },
 "nbformat": 4,
 "nbformat_minor": 5
}
